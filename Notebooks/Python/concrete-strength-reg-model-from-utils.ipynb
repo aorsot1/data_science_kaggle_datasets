{
 "cells": [
  {
   "cell_type": "code",
   "execution_count": 1,
   "id": "boolean-implement",
   "metadata": {
    "_cell_guid": "b1076dfc-b9ad-4769-8c92-a6c4dae69d19",
    "_uuid": "8f2839f25d086af736a60e9eeb907d3b93b6e0e5",
    "execution": {
     "iopub.execute_input": "2021-04-18T17:48:40.686288Z",
     "iopub.status.busy": "2021-04-18T17:48:40.685603Z",
     "iopub.status.idle": "2021-04-18T17:48:43.177441Z",
     "shell.execute_reply": "2021-04-18T17:48:43.178407Z"
    },
    "papermill": {
     "duration": 2.52078,
     "end_time": "2021-04-18T17:48:43.178786",
     "exception": false,
     "start_time": "2021-04-18T17:48:40.658006",
     "status": "completed"
    },
    "tags": []
   },
   "outputs": [
    {
     "name": "stdout",
     "output_type": "stream",
     "text": [
      "/kaggle/input/yeh-concret-data/Concrete_Data_Yeh.csv\n"
     ]
    }
   ],
   "source": [
    "import numpy as np\n",
    "import pandas as pd\n",
    "\n",
    "import utils_data_prepping as udp\n",
    "import utils_eda as eda\n",
    "import utils_reg_models as reg\n",
    "\n",
    "import seaborn as sns\n",
    "import matplotlib.pyplot as plt\n",
    "%matplotlib inline\n",
    "\n",
    "import os\n",
    "for dirname, _, filenames in os.walk('/kaggle/input'):\n",
    "    for filename in filenames:\n",
    "        print(os.path.join(dirname, filename))"
   ]
  },
  {
   "cell_type": "markdown",
   "id": "changing-nature",
   "metadata": {
    "papermill": {
     "duration": 0.015978,
     "end_time": "2021-04-18T17:48:43.213082",
     "exception": false,
     "start_time": "2021-04-18T17:48:43.197104",
     "status": "completed"
    },
    "tags": []
   },
   "source": [
    "# Data Loading "
   ]
  },
  {
   "cell_type": "code",
   "execution_count": 2,
   "id": "stunning-digest",
   "metadata": {
    "execution": {
     "iopub.execute_input": "2021-04-18T17:48:43.254467Z",
     "iopub.status.busy": "2021-04-18T17:48:43.253796Z",
     "iopub.status.idle": "2021-04-18T17:48:43.303911Z",
     "shell.execute_reply": "2021-04-18T17:48:43.303248Z"
    },
    "papermill": {
     "duration": 0.074616,
     "end_time": "2021-04-18T17:48:43.304050",
     "exception": false,
     "start_time": "2021-04-18T17:48:43.229434",
     "status": "completed"
    },
    "tags": []
   },
   "outputs": [
    {
     "name": "stdout",
     "output_type": "stream",
     "text": [
      "<class 'pandas.core.frame.DataFrame'>\n",
      "RangeIndex: 1030 entries, 0 to 1029\n",
      "Data columns (total 9 columns):\n",
      " #   Column            Non-Null Count  Dtype  \n",
      "---  ------            --------------  -----  \n",
      " 0   cement            1030 non-null   float64\n",
      " 1   slag              1030 non-null   float64\n",
      " 2   flyash            1030 non-null   float64\n",
      " 3   water             1030 non-null   float64\n",
      " 4   superplasticizer  1030 non-null   float64\n",
      " 5   coarseaggregate   1030 non-null   float64\n",
      " 6   fineaggregate     1030 non-null   float64\n",
      " 7   age               1030 non-null   int64  \n",
      " 8   csMPa             1030 non-null   float64\n",
      "dtypes: float64(8), int64(1)\n",
      "memory usage: 72.5 KB\n",
      "None\n"
     ]
    }
   ],
   "source": [
    "df = udp.loading('/kaggle/input/yeh-concret-data/Concrete_Data_Yeh.csv')"
   ]
  },
  {
   "cell_type": "code",
   "execution_count": 3,
   "id": "lesser-knife",
   "metadata": {
    "execution": {
     "iopub.execute_input": "2021-04-18T17:48:43.346391Z",
     "iopub.status.busy": "2021-04-18T17:48:43.345709Z",
     "iopub.status.idle": "2021-04-18T17:48:43.373648Z",
     "shell.execute_reply": "2021-04-18T17:48:43.372740Z"
    },
    "papermill": {
     "duration": 0.052724,
     "end_time": "2021-04-18T17:48:43.373798",
     "exception": false,
     "start_time": "2021-04-18T17:48:43.321074",
     "status": "completed"
    },
    "tags": []
   },
   "outputs": [
    {
     "data": {
      "text/html": [
       "<div>\n",
       "<style scoped>\n",
       "    .dataframe tbody tr th:only-of-type {\n",
       "        vertical-align: middle;\n",
       "    }\n",
       "\n",
       "    .dataframe tbody tr th {\n",
       "        vertical-align: top;\n",
       "    }\n",
       "\n",
       "    .dataframe thead th {\n",
       "        text-align: right;\n",
       "    }\n",
       "</style>\n",
       "<table border=\"1\" class=\"dataframe\">\n",
       "  <thead>\n",
       "    <tr style=\"text-align: right;\">\n",
       "      <th></th>\n",
       "      <th>cement</th>\n",
       "      <th>slag</th>\n",
       "      <th>flyash</th>\n",
       "      <th>water</th>\n",
       "      <th>superplasticizer</th>\n",
       "      <th>coarseaggregate</th>\n",
       "      <th>fineaggregate</th>\n",
       "      <th>age</th>\n",
       "      <th>csMPa</th>\n",
       "    </tr>\n",
       "  </thead>\n",
       "  <tbody>\n",
       "    <tr>\n",
       "      <th>0</th>\n",
       "      <td>540.0</td>\n",
       "      <td>0.0</td>\n",
       "      <td>0.0</td>\n",
       "      <td>162.0</td>\n",
       "      <td>2.5</td>\n",
       "      <td>1040.0</td>\n",
       "      <td>676.0</td>\n",
       "      <td>28</td>\n",
       "      <td>79.99</td>\n",
       "    </tr>\n",
       "    <tr>\n",
       "      <th>1</th>\n",
       "      <td>540.0</td>\n",
       "      <td>0.0</td>\n",
       "      <td>0.0</td>\n",
       "      <td>162.0</td>\n",
       "      <td>2.5</td>\n",
       "      <td>1055.0</td>\n",
       "      <td>676.0</td>\n",
       "      <td>28</td>\n",
       "      <td>61.89</td>\n",
       "    </tr>\n",
       "    <tr>\n",
       "      <th>2</th>\n",
       "      <td>332.5</td>\n",
       "      <td>142.5</td>\n",
       "      <td>0.0</td>\n",
       "      <td>228.0</td>\n",
       "      <td>0.0</td>\n",
       "      <td>932.0</td>\n",
       "      <td>594.0</td>\n",
       "      <td>270</td>\n",
       "      <td>40.27</td>\n",
       "    </tr>\n",
       "    <tr>\n",
       "      <th>3</th>\n",
       "      <td>332.5</td>\n",
       "      <td>142.5</td>\n",
       "      <td>0.0</td>\n",
       "      <td>228.0</td>\n",
       "      <td>0.0</td>\n",
       "      <td>932.0</td>\n",
       "      <td>594.0</td>\n",
       "      <td>365</td>\n",
       "      <td>41.05</td>\n",
       "    </tr>\n",
       "    <tr>\n",
       "      <th>4</th>\n",
       "      <td>198.6</td>\n",
       "      <td>132.4</td>\n",
       "      <td>0.0</td>\n",
       "      <td>192.0</td>\n",
       "      <td>0.0</td>\n",
       "      <td>978.4</td>\n",
       "      <td>825.5</td>\n",
       "      <td>360</td>\n",
       "      <td>44.30</td>\n",
       "    </tr>\n",
       "  </tbody>\n",
       "</table>\n",
       "</div>"
      ],
      "text/plain": [
       "   cement   slag  flyash  water  superplasticizer  coarseaggregate  \\\n",
       "0   540.0    0.0     0.0  162.0               2.5           1040.0   \n",
       "1   540.0    0.0     0.0  162.0               2.5           1055.0   \n",
       "2   332.5  142.5     0.0  228.0               0.0            932.0   \n",
       "3   332.5  142.5     0.0  228.0               0.0            932.0   \n",
       "4   198.6  132.4     0.0  192.0               0.0            978.4   \n",
       "\n",
       "   fineaggregate  age  csMPa  \n",
       "0          676.0   28  79.99  \n",
       "1          676.0   28  61.89  \n",
       "2          594.0  270  40.27  \n",
       "3          594.0  365  41.05  \n",
       "4          825.5  360  44.30  "
      ]
     },
     "execution_count": 3,
     "metadata": {},
     "output_type": "execute_result"
    }
   ],
   "source": [
    "df.head()"
   ]
  },
  {
   "cell_type": "code",
   "execution_count": 4,
   "id": "japanese-length",
   "metadata": {
    "execution": {
     "iopub.execute_input": "2021-04-18T17:48:43.413698Z",
     "iopub.status.busy": "2021-04-18T17:48:43.412987Z",
     "iopub.status.idle": "2021-04-18T17:48:43.432616Z",
     "shell.execute_reply": "2021-04-18T17:48:43.431917Z"
    },
    "papermill": {
     "duration": 0.04141,
     "end_time": "2021-04-18T17:48:43.432760",
     "exception": false,
     "start_time": "2021-04-18T17:48:43.391350",
     "status": "completed"
    },
    "tags": []
   },
   "outputs": [
    {
     "name": "stdout",
     "output_type": "stream",
     "text": [
      "<class 'pandas.core.frame.DataFrame'>\n",
      "RangeIndex: 1030 entries, 0 to 1029\n",
      "Data columns (total 9 columns):\n",
      " #   Column            Non-Null Count  Dtype  \n",
      "---  ------            --------------  -----  \n",
      " 0   cement            1030 non-null   float64\n",
      " 1   slag              1030 non-null   float64\n",
      " 2   flyash            1030 non-null   float64\n",
      " 3   water             1030 non-null   float64\n",
      " 4   superplasticizer  1030 non-null   float64\n",
      " 5   coarseaggregate   1030 non-null   float64\n",
      " 6   fineaggregate     1030 non-null   float64\n",
      " 7   age               1030 non-null   int64  \n",
      " 8   csMPa             1030 non-null   float64\n",
      "dtypes: float64(8), int64(1)\n",
      "memory usage: 72.5 KB\n"
     ]
    }
   ],
   "source": [
    "df.info()"
   ]
  },
  {
   "cell_type": "code",
   "execution_count": 5,
   "id": "about-horizontal",
   "metadata": {
    "execution": {
     "iopub.execute_input": "2021-04-18T17:48:43.479849Z",
     "iopub.status.busy": "2021-04-18T17:48:43.479033Z",
     "iopub.status.idle": "2021-04-18T17:48:43.780404Z",
     "shell.execute_reply": "2021-04-18T17:48:43.779660Z"
    },
    "papermill": {
     "duration": 0.330205,
     "end_time": "2021-04-18T17:48:43.780589",
     "exception": false,
     "start_time": "2021-04-18T17:48:43.450384",
     "status": "completed"
    },
    "tags": []
   },
   "outputs": [
    {
     "name": "stdout",
     "output_type": "stream",
     "text": [
      "Missing values account for 0.00% in dataframe\n",
      "cement has the most missing values lacking 0.00% of its data\n",
      "[0.0, 0.0, 0.0, 0.0, 0.0, 0.0, 0.0, 0.0, 0.0]\n"
     ]
    },
    {
     "data": {
      "image/png": "[encoded data removed]",
      "text/plain": [
       "<Figure size 432x288 with 1 Axes>"
      ]
     },
     "metadata": {
      "needs_background": "light"
     },
     "output_type": "display_data"
    }
   ],
   "source": [
    "udp.missing_values(df)"
   ]
  },
  {
   "cell_type": "code",
   "execution_count": 6,
   "id": "compact-warehouse",
   "metadata": {
    "execution": {
     "iopub.execute_input": "2021-04-18T17:48:43.827183Z",
     "iopub.status.busy": "2021-04-18T17:48:43.826548Z",
     "iopub.status.idle": "2021-04-18T17:48:44.339578Z",
     "shell.execute_reply": "2021-04-18T17:48:44.338863Z"
    },
    "papermill": {
     "duration": 0.539068,
     "end_time": "2021-04-18T17:48:44.339723",
     "exception": false,
     "start_time": "2021-04-18T17:48:43.800655",
     "status": "completed"
    },
    "tags": []
   },
   "outputs": [
    {
     "data": {
      "image/png": "[encoded data removed]",
      "text/plain": [
       "<Figure size 432x288 with 2 Axes>"
      ]
     },
     "metadata": {
      "needs_background": "light"
     },
     "output_type": "display_data"
    }
   ],
   "source": [
    "eda.corr_matrix(df)"
   ]
  },
  {
   "cell_type": "markdown",
   "id": "sealed-classic",
   "metadata": {
    "papermill": {
     "duration": 0.020853,
     "end_time": "2021-04-18T17:48:44.382350",
     "exception": false,
     "start_time": "2021-04-18T17:48:44.361497",
     "status": "completed"
    },
    "tags": []
   },
   "source": [
    "# Exploration Data Analysis"
   ]
  },
  {
   "cell_type": "code",
   "execution_count": 7,
   "id": "failing-marine",
   "metadata": {
    "execution": {
     "iopub.execute_input": "2021-04-18T17:48:44.456102Z",
     "iopub.status.busy": "2021-04-18T17:48:44.452649Z",
     "iopub.status.idle": "2021-04-18T17:48:44.734925Z",
     "shell.execute_reply": "2021-04-18T17:48:44.734356Z"
    },
    "papermill": {
     "duration": 0.331628,
     "end_time": "2021-04-18T17:48:44.735089",
     "exception": false,
     "start_time": "2021-04-18T17:48:44.403461",
     "status": "completed"
    },
    "tags": []
   },
   "outputs": [
    {
     "data": {
      "image/png": "[encoded data removed]",
      "text/plain": [
       "<Figure size 432x288 with 1 Axes>"
      ]
     },
     "metadata": {
      "needs_background": "light"
     },
     "output_type": "display_data"
    }
   ],
   "source": [
    "eda.distribution(df, \"csMPa\")"
   ]
  },
  {
   "cell_type": "code",
   "execution_count": 8,
   "id": "organized-actress",
   "metadata": {
    "execution": {
     "iopub.execute_input": "2021-04-18T17:48:44.860946Z",
     "iopub.status.busy": "2021-04-18T17:48:44.827929Z",
     "iopub.status.idle": "2021-04-18T17:48:45.039764Z",
     "shell.execute_reply": "2021-04-18T17:48:45.040257Z"
    },
    "papermill": {
     "duration": 0.280941,
     "end_time": "2021-04-18T17:48:45.040446",
     "exception": false,
     "start_time": "2021-04-18T17:48:44.759505",
     "status": "completed"
    },
    "tags": []
   },
   "outputs": [
    {
     "data": {
      "image/png": "[encoded data removed]",
      "text/plain": [
       "<Figure size 432x288 with 1 Axes>"
      ]
     },
     "metadata": {
      "needs_background": "light"
     },
     "output_type": "display_data"
    }
   ],
   "source": [
    "sns.scatterplot(data=df, x='cement', y='csMPa')\n",
    "plt.show()"
   ]
  },
  {
   "cell_type": "markdown",
   "id": "equal-tourism",
   "metadata": {
    "papermill": {
     "duration": 0.023137,
     "end_time": "2021-04-18T17:48:45.086953",
     "exception": false,
     "start_time": "2021-04-18T17:48:45.063816",
     "status": "completed"
    },
    "tags": []
   },
   "source": [
    "# Model Building & Evaluation"
   ]
  },
  {
   "cell_type": "code",
   "execution_count": 9,
   "id": "constant-arthritis",
   "metadata": {
    "execution": {
     "iopub.execute_input": "2021-04-18T17:48:45.138315Z",
     "iopub.status.busy": "2021-04-18T17:48:45.137356Z",
     "iopub.status.idle": "2021-04-18T17:48:45.144115Z",
     "shell.execute_reply": "2021-04-18T17:48:45.144796Z"
    },
    "papermill": {
     "duration": 0.03454,
     "end_time": "2021-04-18T17:48:45.145035",
     "exception": false,
     "start_time": "2021-04-18T17:48:45.110495",
     "status": "completed"
    },
    "tags": []
   },
   "outputs": [
    {
     "data": {
      "text/plain": [
       "(array([[ 540. ,    0. ,    0. , ..., 1040. ,  676. ,   28. ],\n",
       "        [ 540. ,    0. ,    0. , ..., 1055. ,  676. ,   28. ],\n",
       "        [ 332.5,  142.5,    0. , ...,  932. ,  594. ,  270. ],\n",
       "        ...,\n",
       "        [ 148.5,  139.4,  108.6, ...,  892.4,  780. ,   28. ],\n",
       "        [ 159.1,  186.7,    0. , ...,  989.6,  788.9,   28. ],\n",
       "        [ 260.9,  100.5,   78.3, ...,  864.5,  761.5,   28. ]]),\n",
       " array([79.99, 61.89, 40.27, ..., 23.7 , 32.77, 32.4 ]))"
      ]
     },
     "execution_count": 9,
     "metadata": {},
     "output_type": "execute_result"
    }
   ],
   "source": [
    "X, y = udp.pre_processing(df, 'csMPa')\n",
    "X, y"
   ]
  },
  {
   "cell_type": "markdown",
   "id": "bright-diagram",
   "metadata": {
    "papermill": {
     "duration": 0.035437,
     "end_time": "2021-04-18T17:48:45.215478",
     "exception": false,
     "start_time": "2021-04-18T17:48:45.180041",
     "status": "completed"
    },
    "tags": []
   },
   "source": [
    "## Multiple Linear Regression"
   ]
  },
  {
   "cell_type": "code",
   "execution_count": 10,
   "id": "personalized-chapter",
   "metadata": {
    "execution": {
     "iopub.execute_input": "2021-04-18T17:48:45.291118Z",
     "iopub.status.busy": "2021-04-18T17:48:45.290236Z",
     "iopub.status.idle": "2021-04-18T17:48:45.296584Z",
     "shell.execute_reply": "2021-04-18T17:48:45.295774Z"
    },
    "papermill": {
     "duration": 0.046221,
     "end_time": "2021-04-18T17:48:45.296768",
     "exception": false,
     "start_time": "2021-04-18T17:48:45.250547",
     "status": "completed"
    },
    "tags": []
   },
   "outputs": [],
   "source": [
    "lin = reg.Regressor(X, y, 'lin')"
   ]
  },
  {
   "cell_type": "markdown",
   "id": "thick-toronto",
   "metadata": {
    "papermill": {
     "duration": 0.034967,
     "end_time": "2021-04-18T17:48:45.366981",
     "exception": false,
     "start_time": "2021-04-18T17:48:45.332014",
     "status": "completed"
    },
    "tags": []
   },
   "source": [
    "### Model Evalution 1: Train_test_split "
   ]
  },
  {
   "cell_type": "code",
   "execution_count": 11,
   "id": "similar-grove",
   "metadata": {
    "execution": {
     "iopub.execute_input": "2021-04-18T17:48:45.441467Z",
     "iopub.status.busy": "2021-04-18T17:48:45.440621Z",
     "iopub.status.idle": "2021-04-18T17:48:48.482972Z",
     "shell.execute_reply": "2021-04-18T17:48:48.483463Z"
    },
    "papermill": {
     "duration": 3.081417,
     "end_time": "2021-04-18T17:48:48.483683",
     "exception": false,
     "start_time": "2021-04-18T17:48:45.402266",
     "status": "completed"
    },
    "tags": []
   },
   "outputs": [
    {
     "name": "stdout",
     "output_type": "stream",
     "text": [
      "(0.15, 119) 0.7203\n"
     ]
    }
   ],
   "source": [
    "max_scores = {}\n",
    "for i in np.arange(0.15, 0.45, 0.05):\n",
    "    i = round(i, 4)\n",
    "    scores_i = []\n",
    "    for j in range(0, 150):\n",
    "        lin.preprocess_split(size=i, state=j)\n",
    "        lin.fit_predict(reg_kwargs = {'normalize': True})\n",
    "        mets = lin.metrics()\n",
    "        scores_i.append(mets[-2])\n",
    "    i_max = max(scores_i)\n",
    "    max_index = scores_i.index(i_max)\n",
    "    max_scores[(i, max_index)] = round(i_max, 4)\n",
    "    \n",
    "v=list(max_scores.values())\n",
    "k=list(max_scores.keys())\n",
    "print(k[v.index(max(v))], max(v))"
   ]
  },
  {
   "cell_type": "markdown",
   "id": "sustainable-quarterly",
   "metadata": {
    "papermill": {
     "duration": 0.024599,
     "end_time": "2021-04-18T17:48:48.532962",
     "exception": false,
     "start_time": "2021-04-18T17:48:48.508363",
     "status": "completed"
    },
    "tags": []
   },
   "source": [
    "### Model Evaluation 2: Cross-validation"
   ]
  },
  {
   "cell_type": "code",
   "execution_count": 12,
   "id": "limiting-sellers",
   "metadata": {
    "execution": {
     "iopub.execute_input": "2021-04-18T17:48:48.587984Z",
     "iopub.status.busy": "2021-04-18T17:48:48.587268Z",
     "iopub.status.idle": "2021-04-18T17:48:48.602837Z",
     "shell.execute_reply": "2021-04-18T17:48:48.601952Z"
    },
    "papermill": {
     "duration": 0.045365,
     "end_time": "2021-04-18T17:48:48.603058",
     "exception": false,
     "start_time": "2021-04-18T17:48:48.557693",
     "status": "completed"
    },
    "tags": []
   },
   "outputs": [
    {
     "name": "stdout",
     "output_type": "stream",
     "text": [
      "54.84% accuracy with a standard deviation of 0.052\n"
     ]
    }
   ],
   "source": [
    "lin.preprocess_cv(k=3)\n",
    "lin.fit_predict()\n",
    "lin.metrics()"
   ]
  },
  {
   "cell_type": "markdown",
   "id": "dying-gamma",
   "metadata": {
    "papermill": {
     "duration": 0.024913,
     "end_time": "2021-04-18T17:48:48.653094",
     "exception": false,
     "start_time": "2021-04-18T17:48:48.628181",
     "status": "completed"
    },
    "tags": []
   },
   "source": [
    "## Polynomial Regression"
   ]
  },
  {
   "cell_type": "code",
   "execution_count": 13,
   "id": "circular-girlfriend",
   "metadata": {
    "execution": {
     "iopub.execute_input": "2021-04-18T17:48:48.711696Z",
     "iopub.status.busy": "2021-04-18T17:48:48.710640Z",
     "iopub.status.idle": "2021-04-18T17:48:48.714858Z",
     "shell.execute_reply": "2021-04-18T17:48:48.715388Z"
    },
    "papermill": {
     "duration": 0.036135,
     "end_time": "2021-04-18T17:48:48.715605",
     "exception": false,
     "start_time": "2021-04-18T17:48:48.679470",
     "status": "completed"
    },
    "tags": []
   },
   "outputs": [],
   "source": [
    "poly = reg.Regressor(X, y, 'poly', poly_degree=3)"
   ]
  },
  {
   "cell_type": "markdown",
   "id": "overhead-player",
   "metadata": {
    "papermill": {
     "duration": 0.025644,
     "end_time": "2021-04-18T17:48:48.766662",
     "exception": false,
     "start_time": "2021-04-18T17:48:48.741018",
     "status": "completed"
    },
    "tags": []
   },
   "source": [
    "### Model Evalution 1: Train_test_split "
   ]
  },
  {
   "cell_type": "code",
   "execution_count": 14,
   "id": "beneficial-springer",
   "metadata": {
    "execution": {
     "iopub.execute_input": "2021-04-18T17:48:48.820619Z",
     "iopub.status.busy": "2021-04-18T17:48:48.819900Z",
     "iopub.status.idle": "2021-04-18T17:49:32.023462Z",
     "shell.execute_reply": "2021-04-18T17:49:32.024817Z"
    },
    "papermill": {
     "duration": 43.233426,
     "end_time": "2021-04-18T17:49:32.025043",
     "exception": false,
     "start_time": "2021-04-18T17:48:48.791617",
     "status": "completed"
    },
    "tags": []
   },
   "outputs": [
    {
     "name": "stdout",
     "output_type": "stream",
     "text": [
      "(0.2, 138) 0.9117\n"
     ]
    }
   ],
   "source": [
    "max_scores = {}\n",
    "for i in np.arange(0.15, 0.45, 0.05):\n",
    "    i = round(i, 4)\n",
    "    scores_i = []\n",
    "    for j in range(0, 150):\n",
    "        poly.preprocess_split(size=i, state=j)\n",
    "        poly.fit_predict(reg_kwargs = {'normalize': True})\n",
    "        mets = poly.metrics()\n",
    "        scores_i.append(mets[-2])\n",
    "    i_max = max(scores_i)\n",
    "    max_index = scores_i.index(i_max)\n",
    "    max_scores[(i, max_index)] = round(i_max, 4)\n",
    "\n",
    "v=list(max_scores.values())\n",
    "k=list(max_scores.keys())\n",
    "print(k[v.index(max(v))], max(v))"
   ]
  },
  {
   "cell_type": "markdown",
   "id": "facial-immunology",
   "metadata": {
    "papermill": {
     "duration": 0.025548,
     "end_time": "2021-04-18T17:49:32.099414",
     "exception": false,
     "start_time": "2021-04-18T17:49:32.073866",
     "status": "completed"
    },
    "tags": []
   },
   "source": [
    "### Model Evaluation 2: Cross-validation"
   ]
  },
  {
   "cell_type": "code",
   "execution_count": 15,
   "id": "lesbian-class",
   "metadata": {
    "execution": {
     "iopub.execute_input": "2021-04-18T17:49:32.157934Z",
     "iopub.status.busy": "2021-04-18T17:49:32.157069Z",
     "iopub.status.idle": "2021-04-18T17:49:32.515199Z",
     "shell.execute_reply": "2021-04-18T17:49:32.516281Z"
    },
    "papermill": {
     "duration": 0.39087,
     "end_time": "2021-04-18T17:49:32.516604",
     "exception": false,
     "start_time": "2021-04-18T17:49:32.125734",
     "status": "completed"
    },
    "tags": []
   },
   "outputs": [
    {
     "name": "stdout",
     "output_type": "stream",
     "text": [
      "41.21% accuracy with a standard deviation of 0.61\n"
     ]
    }
   ],
   "source": [
    "poly.preprocess_cv(k=20)\n",
    "poly.fit_predict()\n",
    "poly.metrics()"
   ]
  }
 ],
 "metadata": {
  "kernelspec": {
   "display_name": "Python 3",
   "language": "python",
   "name": "python3"
  },
  "language_info": {
   "codemirror_mode": {
    "name": "ipython",
    "version": 3
   },
   "file_extension": ".py",
   "mimetype": "text/x-python",
   "name": "python",
   "nbconvert_exporter": "python",
   "pygments_lexer": "ipython3",
   "version": "3.7.9"
  },
  "papermill": {
   "default_parameters": {},
   "duration": 60.995163,
   "end_time": "2021-04-18T17:49:33.379657",
   "environment_variables": {},
   "exception": null,
   "input_path": "__notebook__.ipynb",
   "output_path": "__notebook__.ipynb",
   "parameters": {},
   "start_time": "2021-04-18T17:48:32.384494",
   "version": "2.3.2"
  }
 },
 "nbformat": 4,
 "nbformat_minor": 5
}
