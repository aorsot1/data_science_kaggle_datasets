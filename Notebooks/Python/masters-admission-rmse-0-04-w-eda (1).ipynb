{
 "cells": [
  {
   "cell_type": "markdown",
   "id": "001016c6-a1de-4b10-8bc6-aa6b45e93549",
   "metadata": {},
   "source": [
    "# Graduate Admission \n",
    "In the course of a career, there arise multiple learning and professional opportunities like a Master's degree which often present itself as a fairly competitive race to the best universities and colleges around the world. Still, there are certain traits distinguishing applicants in the eye of admission offices. So, this notebook will attempt to build a predictive algorithm to determine chances of admissions (scale 0 to 1) given a set of variables. In doing so, we will follow LIME (Local Interpretable Model-agnostic Explanations) principles making it accessible and user-friendly to most readers.\n",
    "\n",
    "\n",
    "## Table of Contents\n",
    "1. Environment set-up\n",
    "    * Importing Libraries\n",
    "    * Loading the data\n",
    "2. Initial Diagnostics\n",
    "    * Glimpse\n",
    "    * Descriptive Statitics\n",
    "    * Target Variable Analysis\n",
    "    * Predictors Analysis\n",
    "3. Data Processing\n",
    "    * Drop & Rename\n",
    "    * Missing Values\n",
    "    * Outliers\n",
    "    * Duplicate Observations\n",
    "    * Correlation Matrix\n",
    "4. Exploraty Data Analysis (EDA)\n",
    "    * a\n",
    "    * b\n",
    "    * c\n",
    "5. Feature Engineering\n",
    "    * Categorical Encoding\n",
    "    * Variable Standardization\n",
    "6. Machine Learning set-up\n",
    "    * Train-test split\n",
    "    * Cross-validation\n",
    "7. Machine Learning - Simple Models\n",
    "    * Logistic Regression\n",
    "    * k-Nearest Neighbors\n",
    "    * Decision Tree\n",
    "    * Stochastic Gradient Descent\n",
    "8. Machine Learning - Ensemble Methods\n",
    "    * Random Forest\n",
    "    * Stochastic Gradient Boosting\n",
    "    * StackingClassifier\n",
    "9. Hyperparameter Tuning\n",
    "    * Random Search\n",
    "    * Grid Search\n",
    "10. Model Performance Evaluation\n",
    "    * Final Model\n",
    "    * AUC - ROC Curve"
   ]
  },
  {
   "cell_type": "markdown",
   "id": "ae9d4439-c63e-4ed4-b937-dc4ebb1d70a4",
   "metadata": {},
   "source": [
    "# 1. Environment set-up"
   ]
  },
  {
   "cell_type": "code",
   "execution_count": 174,
   "id": "adapted-pointer",
   "metadata": {
    "_cell_guid": "b1076dfc-b9ad-4769-8c92-a6c4dae69d19",
    "_uuid": "8f2839f25d086af736a60e9eeb907d3b93b6e0e5",
    "papermill": {
     "duration": 1.51811,
     "end_time": "2021-05-04T14:04:47.829257",
     "exception": false,
     "start_time": "2021-05-04T14:04:46.311147",
     "status": "completed"
    },
    "tags": []
   },
   "outputs": [],
   "source": [
    "## Importing Libraries\n",
    "\n",
    "#Set seed\n",
    "import random\n",
    "random.seed(666)\n",
    "\n",
    "# Manipulating & Visualizing Data\n",
    "import pandas as pd\n",
    "import numpy as np\n",
    "from collections import Counter\n",
    "import matplotlib.pyplot as plt\n",
    "import seaborn as sns\n",
    "sns.set(rc={'figure.figsize':(12, 8)})\n",
    "\n",
    "# Statistical Methods\n",
    "from scipy import stats\n",
    "\n",
    "# Categorical Encoding\n",
    "import category_encoders as ce\n",
    "\n",
    "# Variable Scaling\n",
    "from sklearn.preprocessing import StandardScaler\n",
    "\n",
    "# Sampling Methods\n",
    "from imblearn.over_sampling import RandomOverSampler, SMOTE\n",
    "from imblearn.under_sampling import RandomUnderSampler, NearMiss\n",
    "\n",
    "# Training/Testing Split\n",
    "from sklearn.model_selection import train_test_split\n",
    "\n",
    "# Cross Validation\n",
    "from sklearn.model_selection import cross_val_score, KFold\n",
    "\n",
    "# Dimensionality Reduction\n",
    "from sklearn.decomposition import PCA, TruncatedSVD\n",
    "\n",
    "#from sklearn.lda import LDA\n",
    "from sklearn.discriminant_analysis import LinearDiscriminantAnalysis \n",
    "\n",
    "# Simple ML models\n",
    "from sklearn.pipeline import Pipeline\n",
    "from sklearn.linear_model import LinearRegression\n",
    "from sklearn.neighbors import KNeighborsRegressor\n",
    "from sklearn.tree import DecisionTreeRegressor\n",
    "from sklearn.svm import SVR\n",
    "\n",
    "# Ensemble Learning\n",
    "from sklearn.ensemble import RandomForestClassifier\n",
    "from sklearn.ensemble import GradientBoostingClassifier\n",
    "from sklearn.ensemble import StackingClassifier\n",
    "\n",
    "# Hyperparameter Tuning\n",
    "from sklearn.model_selection import GridSearchCV\n",
    "from sklearn.model_selection import RandomizedSearchCV\n",
    "\n",
    "# Performance metrics\n",
    "import sklearn.metrics as skm"
   ]
  },
  {
   "cell_type": "code",
   "execution_count": 175,
   "id": "81f5cb4b-e56a-4ee1-8a5e-73112d889c36",
   "metadata": {},
   "outputs": [
    {
     "data": {
      "text/html": [
       "<div>\n",
       "<style scoped>\n",
       "    .dataframe tbody tr th:only-of-type {\n",
       "        vertical-align: middle;\n",
       "    }\n",
       "\n",
       "    .dataframe tbody tr th {\n",
       "        vertical-align: top;\n",
       "    }\n",
       "\n",
       "    .dataframe thead th {\n",
       "        text-align: right;\n",
       "    }\n",
       "</style>\n",
       "<table border=\"1\" class=\"dataframe\">\n",
       "  <thead>\n",
       "    <tr style=\"text-align: right;\">\n",
       "      <th></th>\n",
       "      <th>Serial No.</th>\n",
       "      <th>GRE Score</th>\n",
       "      <th>TOEFL Score</th>\n",
       "      <th>University Rating</th>\n",
       "      <th>SOP</th>\n",
       "      <th>LOR</th>\n",
       "      <th>CGPA</th>\n",
       "      <th>Research</th>\n",
       "      <th>Chance of Admit</th>\n",
       "    </tr>\n",
       "  </thead>\n",
       "  <tbody>\n",
       "    <tr>\n",
       "      <th>0</th>\n",
       "      <td>1</td>\n",
       "      <td>337</td>\n",
       "      <td>118</td>\n",
       "      <td>4</td>\n",
       "      <td>4.5</td>\n",
       "      <td>4.5</td>\n",
       "      <td>9.65</td>\n",
       "      <td>1</td>\n",
       "      <td>0.92</td>\n",
       "    </tr>\n",
       "    <tr>\n",
       "      <th>1</th>\n",
       "      <td>2</td>\n",
       "      <td>324</td>\n",
       "      <td>107</td>\n",
       "      <td>4</td>\n",
       "      <td>4.0</td>\n",
       "      <td>4.5</td>\n",
       "      <td>8.87</td>\n",
       "      <td>1</td>\n",
       "      <td>0.76</td>\n",
       "    </tr>\n",
       "    <tr>\n",
       "      <th>2</th>\n",
       "      <td>3</td>\n",
       "      <td>316</td>\n",
       "      <td>104</td>\n",
       "      <td>3</td>\n",
       "      <td>3.0</td>\n",
       "      <td>3.5</td>\n",
       "      <td>8.00</td>\n",
       "      <td>1</td>\n",
       "      <td>0.72</td>\n",
       "    </tr>\n",
       "    <tr>\n",
       "      <th>3</th>\n",
       "      <td>4</td>\n",
       "      <td>322</td>\n",
       "      <td>110</td>\n",
       "      <td>3</td>\n",
       "      <td>3.5</td>\n",
       "      <td>2.5</td>\n",
       "      <td>8.67</td>\n",
       "      <td>1</td>\n",
       "      <td>0.80</td>\n",
       "    </tr>\n",
       "    <tr>\n",
       "      <th>4</th>\n",
       "      <td>5</td>\n",
       "      <td>314</td>\n",
       "      <td>103</td>\n",
       "      <td>2</td>\n",
       "      <td>2.0</td>\n",
       "      <td>3.0</td>\n",
       "      <td>8.21</td>\n",
       "      <td>0</td>\n",
       "      <td>0.65</td>\n",
       "    </tr>\n",
       "  </tbody>\n",
       "</table>\n",
       "</div>"
      ],
      "text/plain": [
       "   Serial No.  GRE Score  TOEFL Score  University Rating  SOP  LOR   CGPA  \\\n",
       "0           1        337          118                  4  4.5   4.5  9.65   \n",
       "1           2        324          107                  4  4.0   4.5  8.87   \n",
       "2           3        316          104                  3  3.0   3.5  8.00   \n",
       "3           4        322          110                  3  3.5   2.5  8.67   \n",
       "4           5        314          103                  2  2.0   3.0  8.21   \n",
       "\n",
       "   Research  Chance of Admit   \n",
       "0         1              0.92  \n",
       "1         1              0.76  \n",
       "2         1              0.72  \n",
       "3         1              0.80  \n",
       "4         0              0.65  "
      ]
     },
     "execution_count": 175,
     "metadata": {},
     "output_type": "execute_result"
    }
   ],
   "source": [
    "## Loading the dataset\n",
    "df = pd.read_csv(r\"C:\\Users\\Graduate\\Desktop\\ds_proj_data\\Admission_Predict_Ver1.1.csv\")\n",
    "df.head()"
   ]
  },
  {
   "cell_type": "markdown",
   "id": "b0d744ce-205e-482a-a718-c2e723f4f43d",
   "metadata": {},
   "source": [
    "The dataset contains several parameters which are considered important during the application for Masters Programs. The parameters included are :\n",
    "* GRE Scores ( out of 340 )\n",
    "* TOEFL Scores ( out of 120 )\n",
    "* University Rating ( out of 5 )\n",
    "* Statement of Purpose and Letter of Recommendation Strength ( out of 5 )\n",
    "* Undergraduate GPA ( out of 10 )\n",
    "* Research Experience ( either 0 or 1 )\n",
    "* Chance of Admit ( ranging from 0 to 1 )"
   ]
  },
  {
   "cell_type": "markdown",
   "id": "a2423cd8-37d6-4f05-aed5-33969ef8bd22",
   "metadata": {},
   "source": [
    "# 2. Initial Diagnostics"
   ]
  },
  {
   "cell_type": "code",
   "execution_count": 176,
   "id": "39f07ab1-d12a-4a1b-8490-4e52df180b48",
   "metadata": {},
   "outputs": [
    {
     "name": "stdout",
     "output_type": "stream",
     "text": [
      "<class 'pandas.core.frame.DataFrame'>\n",
      "RangeIndex: 500 entries, 0 to 499\n",
      "Data columns (total 9 columns):\n",
      " #   Column             Non-Null Count  Dtype  \n",
      "---  ------             --------------  -----  \n",
      " 0   Serial No.         500 non-null    int64  \n",
      " 1   GRE Score          500 non-null    int64  \n",
      " 2   TOEFL Score        500 non-null    int64  \n",
      " 3   University Rating  500 non-null    int64  \n",
      " 4   SOP                500 non-null    float64\n",
      " 5   LOR                500 non-null    float64\n",
      " 6   CGPA               500 non-null    float64\n",
      " 7   Research           500 non-null    int64  \n",
      " 8   Chance of Admit    500 non-null    float64\n",
      "dtypes: float64(4), int64(5)\n",
      "memory usage: 35.3 KB\n"
     ]
    }
   ],
   "source": [
    "## Glimpse of the data\n",
    "df.info()"
   ]
  },
  {
   "cell_type": "code",
   "execution_count": 177,
   "id": "de4e474e-566b-4d11-adb8-d6c74571a7b9",
   "metadata": {},
   "outputs": [
    {
     "data": {
      "text/html": [
       "<div>\n",
       "<style scoped>\n",
       "    .dataframe tbody tr th:only-of-type {\n",
       "        vertical-align: middle;\n",
       "    }\n",
       "\n",
       "    .dataframe tbody tr th {\n",
       "        vertical-align: top;\n",
       "    }\n",
       "\n",
       "    .dataframe thead th {\n",
       "        text-align: right;\n",
       "    }\n",
       "</style>\n",
       "<table border=\"1\" class=\"dataframe\">\n",
       "  <thead>\n",
       "    <tr style=\"text-align: right;\">\n",
       "      <th></th>\n",
       "      <th>Serial No.</th>\n",
       "      <th>GRE Score</th>\n",
       "      <th>TOEFL Score</th>\n",
       "      <th>University Rating</th>\n",
       "      <th>SOP</th>\n",
       "      <th>LOR</th>\n",
       "      <th>CGPA</th>\n",
       "      <th>Research</th>\n",
       "      <th>Chance of Admit</th>\n",
       "    </tr>\n",
       "  </thead>\n",
       "  <tbody>\n",
       "    <tr>\n",
       "      <th>count</th>\n",
       "      <td>500.000000</td>\n",
       "      <td>500.000000</td>\n",
       "      <td>500.000000</td>\n",
       "      <td>500.000000</td>\n",
       "      <td>500.000000</td>\n",
       "      <td>500.00000</td>\n",
       "      <td>500.000000</td>\n",
       "      <td>500.000000</td>\n",
       "      <td>500.00000</td>\n",
       "    </tr>\n",
       "    <tr>\n",
       "      <th>mean</th>\n",
       "      <td>250.500000</td>\n",
       "      <td>316.472000</td>\n",
       "      <td>107.192000</td>\n",
       "      <td>3.114000</td>\n",
       "      <td>3.374000</td>\n",
       "      <td>3.48400</td>\n",
       "      <td>8.576440</td>\n",
       "      <td>0.560000</td>\n",
       "      <td>0.72174</td>\n",
       "    </tr>\n",
       "    <tr>\n",
       "      <th>std</th>\n",
       "      <td>144.481833</td>\n",
       "      <td>11.295148</td>\n",
       "      <td>6.081868</td>\n",
       "      <td>1.143512</td>\n",
       "      <td>0.991004</td>\n",
       "      <td>0.92545</td>\n",
       "      <td>0.604813</td>\n",
       "      <td>0.496884</td>\n",
       "      <td>0.14114</td>\n",
       "    </tr>\n",
       "    <tr>\n",
       "      <th>min</th>\n",
       "      <td>1.000000</td>\n",
       "      <td>290.000000</td>\n",
       "      <td>92.000000</td>\n",
       "      <td>1.000000</td>\n",
       "      <td>1.000000</td>\n",
       "      <td>1.00000</td>\n",
       "      <td>6.800000</td>\n",
       "      <td>0.000000</td>\n",
       "      <td>0.34000</td>\n",
       "    </tr>\n",
       "    <tr>\n",
       "      <th>25%</th>\n",
       "      <td>125.750000</td>\n",
       "      <td>308.000000</td>\n",
       "      <td>103.000000</td>\n",
       "      <td>2.000000</td>\n",
       "      <td>2.500000</td>\n",
       "      <td>3.00000</td>\n",
       "      <td>8.127500</td>\n",
       "      <td>0.000000</td>\n",
       "      <td>0.63000</td>\n",
       "    </tr>\n",
       "    <tr>\n",
       "      <th>50%</th>\n",
       "      <td>250.500000</td>\n",
       "      <td>317.000000</td>\n",
       "      <td>107.000000</td>\n",
       "      <td>3.000000</td>\n",
       "      <td>3.500000</td>\n",
       "      <td>3.50000</td>\n",
       "      <td>8.560000</td>\n",
       "      <td>1.000000</td>\n",
       "      <td>0.72000</td>\n",
       "    </tr>\n",
       "    <tr>\n",
       "      <th>75%</th>\n",
       "      <td>375.250000</td>\n",
       "      <td>325.000000</td>\n",
       "      <td>112.000000</td>\n",
       "      <td>4.000000</td>\n",
       "      <td>4.000000</td>\n",
       "      <td>4.00000</td>\n",
       "      <td>9.040000</td>\n",
       "      <td>1.000000</td>\n",
       "      <td>0.82000</td>\n",
       "    </tr>\n",
       "    <tr>\n",
       "      <th>max</th>\n",
       "      <td>500.000000</td>\n",
       "      <td>340.000000</td>\n",
       "      <td>120.000000</td>\n",
       "      <td>5.000000</td>\n",
       "      <td>5.000000</td>\n",
       "      <td>5.00000</td>\n",
       "      <td>9.920000</td>\n",
       "      <td>1.000000</td>\n",
       "      <td>0.97000</td>\n",
       "    </tr>\n",
       "  </tbody>\n",
       "</table>\n",
       "</div>"
      ],
      "text/plain": [
       "       Serial No.   GRE Score  TOEFL Score  University Rating         SOP  \\\n",
       "count  500.000000  500.000000   500.000000         500.000000  500.000000   \n",
       "mean   250.500000  316.472000   107.192000           3.114000    3.374000   \n",
       "std    144.481833   11.295148     6.081868           1.143512    0.991004   \n",
       "min      1.000000  290.000000    92.000000           1.000000    1.000000   \n",
       "25%    125.750000  308.000000   103.000000           2.000000    2.500000   \n",
       "50%    250.500000  317.000000   107.000000           3.000000    3.500000   \n",
       "75%    375.250000  325.000000   112.000000           4.000000    4.000000   \n",
       "max    500.000000  340.000000   120.000000           5.000000    5.000000   \n",
       "\n",
       "            LOR         CGPA    Research  Chance of Admit   \n",
       "count  500.00000  500.000000  500.000000         500.00000  \n",
       "mean     3.48400    8.576440    0.560000           0.72174  \n",
       "std      0.92545    0.604813    0.496884           0.14114  \n",
       "min      1.00000    6.800000    0.000000           0.34000  \n",
       "25%      3.00000    8.127500    0.000000           0.63000  \n",
       "50%      3.50000    8.560000    1.000000           0.72000  \n",
       "75%      4.00000    9.040000    1.000000           0.82000  \n",
       "max      5.00000    9.920000    1.000000           0.97000  "
      ]
     },
     "execution_count": 177,
     "metadata": {},
     "output_type": "execute_result"
    }
   ],
   "source": [
    "## Descriptive Statistics\n",
    "df.describe()"
   ]
  },
  {
   "cell_type": "code",
   "execution_count": 178,
   "id": "1b0bdc11-3aa2-4a23-b016-352ba0f58014",
   "metadata": {},
   "outputs": [
    {
     "data": {
      "image/png": "[encoded data removed]",
      "text/plain": [
       "<Figure size 864x576 with 1 Axes>"
      ]
     },
     "metadata": {},
     "output_type": "display_data"
    }
   ],
   "source": [
    "## Target Variable Analysis\n",
    "sns.histplot(data=df, x='Chance of Admit ', kde=True)\n",
    "plt.xlabel(\"Admission Probability\")\n",
    "plt.ylabel(\"Frequency (Count)\")\n",
    "plt.title(\"Distribution of Target Variable\")\n",
    "plt.show()"
   ]
  },
  {
   "cell_type": "markdown",
   "id": "2975fff2-2d74-4877-b157-f9056cc10e04",
   "metadata": {},
   "source": [
    "**Takeaway:** We have here a left-skewed distribution of admission chances among the pool of candidates. With most people sitting in the range of 0.6 to 0.8, we can assume that those students demonstrated comopentency in the various test scores and undergraduate studies. "
   ]
  },
  {
   "cell_type": "markdown",
   "id": "cfcb3af1-3aed-4754-889d-e711bc7ed675",
   "metadata": {},
   "source": [
    "# 3. Data Processing"
   ]
  },
  {
   "cell_type": "markdown",
   "id": "fb1c5a31-ba30-49c6-8df8-8401aabe4029",
   "metadata": {},
   "source": [
    "**Note:** Before anything, we will proceed in dropping the Serial No. column and renaming some columns to retain ease of data manipulation."
   ]
  },
  {
   "cell_type": "code",
   "execution_count": 179,
   "id": "prescribed-situation",
   "metadata": {
    "papermill": {
     "duration": 0.063651,
     "end_time": "2021-05-04T14:04:47.910163",
     "exception": false,
     "start_time": "2021-05-04T14:04:47.846512",
     "status": "completed"
    },
    "tags": []
   },
   "outputs": [
    {
     "data": {
      "text/html": [
       "<div>\n",
       "<style scoped>\n",
       "    .dataframe tbody tr th:only-of-type {\n",
       "        vertical-align: middle;\n",
       "    }\n",
       "\n",
       "    .dataframe tbody tr th {\n",
       "        vertical-align: top;\n",
       "    }\n",
       "\n",
       "    .dataframe thead th {\n",
       "        text-align: right;\n",
       "    }\n",
       "</style>\n",
       "<table border=\"1\" class=\"dataframe\">\n",
       "  <thead>\n",
       "    <tr style=\"text-align: right;\">\n",
       "      <th></th>\n",
       "      <th>GRE Score</th>\n",
       "      <th>TOEFL Score</th>\n",
       "      <th>University Rating</th>\n",
       "      <th>SOP</th>\n",
       "      <th>LOR</th>\n",
       "      <th>CGPA</th>\n",
       "      <th>Research</th>\n",
       "      <th>Admission Probability</th>\n",
       "    </tr>\n",
       "  </thead>\n",
       "  <tbody>\n",
       "    <tr>\n",
       "      <th>0</th>\n",
       "      <td>337</td>\n",
       "      <td>118</td>\n",
       "      <td>4</td>\n",
       "      <td>4.5</td>\n",
       "      <td>4.5</td>\n",
       "      <td>9.65</td>\n",
       "      <td>1</td>\n",
       "      <td>0.92</td>\n",
       "    </tr>\n",
       "    <tr>\n",
       "      <th>1</th>\n",
       "      <td>324</td>\n",
       "      <td>107</td>\n",
       "      <td>4</td>\n",
       "      <td>4.0</td>\n",
       "      <td>4.5</td>\n",
       "      <td>8.87</td>\n",
       "      <td>1</td>\n",
       "      <td>0.76</td>\n",
       "    </tr>\n",
       "    <tr>\n",
       "      <th>2</th>\n",
       "      <td>316</td>\n",
       "      <td>104</td>\n",
       "      <td>3</td>\n",
       "      <td>3.0</td>\n",
       "      <td>3.5</td>\n",
       "      <td>8.00</td>\n",
       "      <td>1</td>\n",
       "      <td>0.72</td>\n",
       "    </tr>\n",
       "    <tr>\n",
       "      <th>3</th>\n",
       "      <td>322</td>\n",
       "      <td>110</td>\n",
       "      <td>3</td>\n",
       "      <td>3.5</td>\n",
       "      <td>2.5</td>\n",
       "      <td>8.67</td>\n",
       "      <td>1</td>\n",
       "      <td>0.80</td>\n",
       "    </tr>\n",
       "    <tr>\n",
       "      <th>4</th>\n",
       "      <td>314</td>\n",
       "      <td>103</td>\n",
       "      <td>2</td>\n",
       "      <td>2.0</td>\n",
       "      <td>3.0</td>\n",
       "      <td>8.21</td>\n",
       "      <td>0</td>\n",
       "      <td>0.65</td>\n",
       "    </tr>\n",
       "  </tbody>\n",
       "</table>\n",
       "</div>"
      ],
      "text/plain": [
       "   GRE Score  TOEFL Score  University Rating  SOP  LOR  CGPA  Research  \\\n",
       "0        337          118                  4  4.5  4.5  9.65         1   \n",
       "1        324          107                  4  4.0  4.5  8.87         1   \n",
       "2        316          104                  3  3.0  3.5  8.00         1   \n",
       "3        322          110                  3  3.5  2.5  8.67         1   \n",
       "4        314          103                  2  2.0  3.0  8.21         0   \n",
       "\n",
       "   Admission Probability  \n",
       "0                   0.92  \n",
       "1                   0.76  \n",
       "2                   0.72  \n",
       "3                   0.80  \n",
       "4                   0.65  "
      ]
     },
     "execution_count": 179,
     "metadata": {},
     "output_type": "execute_result"
    }
   ],
   "source": [
    "## Drop & Rename \n",
    "\n",
    "#Drop the 'Serial No.' column\n",
    "df.drop(['Serial No.'], axis=1, inplace=True)\n",
    "\n",
    "# Renaming the target variable and one predictor\n",
    "df.rename(columns={\"Chance of Admit \": \"Admission Probability\", 'LOR ': 'LOR'}, inplace=True)\n",
    "df.head()"
   ]
  },
  {
   "cell_type": "code",
   "execution_count": 180,
   "id": "6b93dad1-7033-4c6a-ab83-9ce185dbdf16",
   "metadata": {},
   "outputs": [
    {
     "name": "stdout",
     "output_type": "stream",
     "text": [
      "There are  0 null/na values in the dataset\n"
     ]
    }
   ],
   "source": [
    "## Missing Values\n",
    "sum_nulls = df.isna().sum().sum()\n",
    "print(\"There are %2d null/na values in the dataset\" % sum_nulls)\n",
    "\n",
    "if sum_nulls > 0: \n",
    "    plt.figure(figsize=(10,6))\n",
    "    sns.heatmap(df.isna().transpose(),\n",
    "                cmap=\"YlGnBu\",\n",
    "                cbar_kws={'label': 'Missing Data'})\n",
    "    plt.xlabel(\"Features\")\n",
    "    plt.ylabel(\"Observations\")\n",
    "    plt.show()\n",
    "else:\n",
    "    pass"
   ]
  },
  {
   "cell_type": "code",
   "execution_count": 181,
   "id": "0158a7ac-c475-4d4a-b6d2-5a367bc59bf2",
   "metadata": {},
   "outputs": [
    {
     "data": {
      "image/png": "[encoded data removed]",
      "text/plain": [
       "<Figure size 864x576 with 1 Axes>"
      ]
     },
     "metadata": {},
     "output_type": "display_data"
    }
   ],
   "source": [
    "## Outliers\n",
    "sns.boxplot(data=df, x='Admission Probability')\n",
    "plt.show()"
   ]
  },
  {
   "cell_type": "code",
   "execution_count": 182,
   "id": "a1244ee1-2061-4270-a54a-2d6d56ea34ac",
   "metadata": {},
   "outputs": [
    {
     "name": "stdout",
     "output_type": "stream",
     "text": [
      "(array([ 58,  92,  94, 376], dtype=int64),)\n"
     ]
    },
    {
     "data": {
      "text/plain": [
       "[58, 92, 94, 376]"
      ]
     },
     "execution_count": 182,
     "metadata": {},
     "output_type": "execute_result"
    }
   ],
   "source": [
    "# Z score \n",
    "z = np.abs(stats.zscore(df['Admission Probability']))\n",
    " \n",
    "# Position of the outlier\n",
    "print(np.where(z > 2.5))\n",
    "list(np.where(z > 2.5)[0])"
   ]
  },
  {
   "cell_type": "markdown",
   "id": "35bfb65f-b9fe-471a-8dc9-32b9f07e5516",
   "metadata": {},
   "source": [
    "**Takeaway:** From a visual standpoint, the boxplot only shows one clear outlier on the lower end of the distribution. However, when conducting the z-score calculation at ±2.5 away from the σ, we detected 4 outliers.\n",
    "\n",
    "**Note:** Now, we will proceed in doing the same thing with each continuous independent variable"
   ]
  },
  {
   "cell_type": "code",
   "execution_count": 183,
   "id": "bcebf70c-a521-4f48-948c-f00cb01abf2a",
   "metadata": {},
   "outputs": [
    {
     "name": "stdout",
     "output_type": "stream",
     "text": [
      "- No outliers detected for the GRE Score variable\n",
      "- The TOEFL Score variable has 1 observation(s) ±2.5σ from the µ.\n",
      "Those values are as follows: [92]\n",
      "- No outliers detected for the University Rating variable\n",
      "- No outliers detected for the SOP variable\n",
      "- The LOR variable has 1 observation(s) ±2.5σ from the µ.\n",
      "Those values are as follows: [1.0]\n",
      "- The CGPA variable has 1 observation(s) ±2.5σ from the µ.\n",
      "Those values are as follows: [6.8]\n",
      "- No outliers detected for the Research variable\n",
      "- The Admission Probability variable has 4 observation(s) ±2.5σ from the µ.\n",
      "Those values are as follows: [0.36, 0.34, 0.36, 0.34]\n"
     ]
    }
   ],
   "source": [
    "# Histogram for Amount Distribution per class\n",
    "# Z score \n",
    "def outliers_detection(data):\n",
    "    for col in data.columns:\n",
    "        # Calculating the z-score for each predictor\n",
    "        var = data[col]\n",
    "        z = np.abs(stats.zscore(var))\n",
    "\n",
    "        # Outlier\n",
    "        pos = list(np.where(z > 2.5)[0])\n",
    "        no_of_outliers = len(pos)\n",
    "        if no_of_outliers > 0:\n",
    "            outliers = list(var[pos])\n",
    "            print(\"- The\", col, \"variable has\", no_of_outliers, \"observation(s) ±2.5σ from the µ.\")\n",
    "            print(\"Those values are as follows:\", outliers)\n",
    "\n",
    "        else:\n",
    "            print(\"- No outliers detected for the\", col, \"variable\")\n",
    "    \n",
    "outliers_detection(df)"
   ]
  },
  {
   "cell_type": "markdown",
   "id": "f27c0a93-3f81-4e43-8074-42c1da40a9d7",
   "metadata": {},
   "source": [
    "**Takeaway:** As we thought about handling those outliers, we decided to keep them all since ggood data science practices advocates to conserve as many data points as possible. Thus, allowing us to limit the biases simply to produce a better fitting model or statistically significant results."
   ]
  },
  {
   "cell_type": "code",
   "execution_count": 184,
   "id": "f0d0b952-2210-4148-b9f8-f506d63fe592",
   "metadata": {},
   "outputs": [
    {
     "data": {
      "text/plain": [
       "False    500\n",
       "dtype: int64"
      ]
     },
     "execution_count": 184,
     "metadata": {},
     "output_type": "execute_result"
    }
   ],
   "source": [
    "## Duplicate Observations\n",
    "\n",
    "# No. of duplicate rows\n",
    "df.duplicated().value_counts()"
   ]
  },
  {
   "cell_type": "markdown",
   "id": "82fffca1-1b96-437f-9b2f-a3ab425c11fc",
   "metadata": {},
   "source": [
    "**Takeaway:** No duplicate observation detected so, no need for any further modifications."
   ]
  },
  {
   "cell_type": "markdown",
   "id": "a63e4bfd-4ec5-4473-b5cf-427827ccc775",
   "metadata": {},
   "source": [
    "**Note:** Given the differences in scales across the independent variables, we will proceed in standardizing them all with a preprocessing step in sklearn."
   ]
  },
  {
   "cell_type": "code",
   "execution_count": 190,
   "id": "cf64df56-c2e3-429f-8689-b39018a68bfb",
   "metadata": {},
   "outputs": [
    {
     "data": {
      "image/png": "[encoded data removed]",
      "text/plain": [
       "<Figure size 1368x1080 with 2 Axes>"
      ]
     },
     "metadata": {},
     "output_type": "display_data"
    }
   ],
   "source": [
    "# Correlation Matrix\n",
    "f = plt.figure(figsize=(19, 15))\n",
    "matrix = df.corr().round(2)\n",
    "mask = np.triu(np.ones_like(matrix, dtype=bool))\n",
    "sns.heatmap(matrix, annot=True, vmax=1, vmin=-1, \n",
    "            center=0, cmap='vlag', mask=mask)\n",
    "plt.show()"
   ]
  },
  {
   "cell_type": "markdown",
   "id": "14df3f8b-e8e5-424a-9a1e-5f233cff216a",
   "metadata": {},
   "source": [
    "**Takeaway:** From the correlation plot, we can determine a few correlated relationships between the independent variable as well as with respect to the target variable. For instnace, the GRE Score and TOEFL Scores are a high correlation coefficient of 0.83 while the CGPA and Adimission probabilty is 0.88"
   ]
  },
  {
   "cell_type": "markdown",
   "id": "7259a547-d44b-4038-82a2-fb8e8d50ff45",
   "metadata": {
    "tags": []
   },
   "source": [
    "# 4. Inquiry Exploration"
   ]
  },
  {
   "cell_type": "markdown",
   "id": "directed-trinity",
   "metadata": {
    "papermill": {
     "duration": 0.021284,
     "end_time": "2021-05-04T14:04:49.121166",
     "exception": false,
     "start_time": "2021-05-04T14:04:49.099882",
     "status": "completed"
    },
    "tags": []
   },
   "source": [
    "### What is the distribution of our continuous predictors?"
   ]
  },
  {
   "cell_type": "code",
   "execution_count": 202,
   "id": "painful-numbers",
   "metadata": {
    "papermill": {
     "duration": 0.261496,
     "end_time": "2021-05-04T14:04:49.455331",
     "exception": false,
     "start_time": "2021-05-04T14:04:49.193835",
     "status": "completed"
    },
    "tags": []
   },
   "outputs": [
    {
     "data": {
      "image/png": "[encoded data removed]",
      "text/plain": [
       "<Figure size 864x576 with 1 Axes>"
      ]
     },
     "metadata": {},
     "output_type": "display_data"
    }
   ],
   "source": [
    "# Isolating the continous variables\n",
    "cont_vars = ['SOP', 'LOR', 'CGPA']\n",
    "\n",
    "# Plotting the violin plots\n",
    "sns.violinplot(data=df[cont_vars], orient='h')\n",
    "plt.title(\"Distrbituion of continuous predictors\")\n",
    "plt.show()"
   ]
  },
  {
   "cell_type": "markdown",
   "id": "0ed367a4-991c-42c1-ab4b-c47a2c08c8e1",
   "metadata": {},
   "source": [
    "**Takeaway:** In the chart above, we can observe a fairly normal distrbution across all three variables thus, reassuring us of the normality withing our data,."
   ]
  },
  {
   "cell_type": "markdown",
   "id": "581211f7-2de2-4d2c-b328-70322e544ec3",
   "metadata": {},
   "source": [
    "### Is there a a clear cluster between admitted (prob >= 0.75) and non-admitted by GRE & TOEFL Scores?"
   ]
  },
  {
   "cell_type": "code",
   "execution_count": 204,
   "id": "formal-chorus",
   "metadata": {
    "papermill": {
     "duration": 0.617267,
     "end_time": "2021-05-04T14:04:50.096151",
     "exception": false,
     "start_time": "2021-05-04T14:04:49.478884",
     "status": "completed"
    },
    "tags": []
   },
   "outputs": [
    {
     "data": {
      "image/png": "[encoded data removed]",
      "text/plain": [
       "<Figure size 864x576 with 2 Axes>"
      ]
     },
     "metadata": {},
     "output_type": "display_data"
    }
   ],
   "source": [
    "# Making a categorical target varibale using a threshold\n",
    "df['admin_binary'] = np.where(df['Admission Probability'] >= 0.75, 'Yes', 'No')\n",
    "\n",
    "# Ploting the TOEFL & GRE Scores accordingly\n",
    "fig = plt.figure()\n",
    "gs = fig.add_gridspec(1, 2, hspace=0.2, wspace=0.2)\n",
    "(ax1, ax2) = gs.subplots(sharex=False, sharey=True)\n",
    "sns.histplot(ax=ax1, data=df, x = 'GRE Score', hue='admin_binary')\n",
    "sns.histplot(ax=ax2, data=df, x = 'TOEFL Score', hue='admin_binary')\n",
    "plt.show()"
   ]
  },
  {
   "cell_type": "markdown",
   "id": "expensive-barrel",
   "metadata": {
    "papermill": {
     "duration": 0.024037,
     "end_time": "2021-05-04T14:04:50.144701",
     "exception": false,
     "start_time": "2021-05-04T14:04:50.120664",
     "status": "completed"
    },
    "tags": []
   },
   "source": [
    "### How does the Undergrad GPA affect Masters Program Admissions given research experience?"
   ]
  },
  {
   "cell_type": "code",
   "execution_count": 10,
   "id": "literary-embassy",
   "metadata": {
    "execution": {
     "iopub.execute_input": "2021-05-04T14:04:50.217741Z",
     "iopub.status.busy": "2021-05-04T14:04:50.198209Z",
     "iopub.status.idle": "2021-05-04T14:04:50.721606Z",
     "shell.execute_reply": "2021-05-04T14:04:50.722083Z"
    },
    "papermill": {
     "duration": 0.553206,
     "end_time": "2021-05-04T14:04:50.722280",
     "exception": false,
     "start_time": "2021-05-04T14:04:50.169074",
     "status": "completed"
    },
    "tags": []
   },
   "outputs": [
    {
     "data": {
      "image/png": "[encoded data removed]",
      "text/plain": [
       "<Figure size 432x432 with 3 Axes>"
      ]
     },
     "metadata": {},
     "output_type": "display_data"
    }
   ],
   "source": [
    "sns.jointplot(data=df, x='CGPA', y='Admission', hue='Research')\n",
    "plt.show()"
   ]
  },
  {
   "cell_type": "markdown",
   "id": "43d3dd33-6301-4b16-8e8d-25445500d61e",
   "metadata": {},
   "source": [
    "**Takeaway:** With the multiplot shown of admissiong probability with respect to College GPA, there appreaws to be a strong correlated relationship. Though they are not as clearly seperated, the clusters of those with higher results and research experience stands a better chance of admission compared to their counterparts with no research experince and average to low GPA."
   ]
  },
  {
   "cell_type": "markdown",
   "id": "external-adaptation",
   "metadata": {
    "papermill": {
     "duration": 0.026106,
     "end_time": "2021-05-04T14:04:50.775581",
     "exception": false,
     "start_time": "2021-05-04T14:04:50.749475",
     "status": "completed"
    },
    "tags": []
   },
   "source": [
    "### Would university of undergrad studies strenghten application statements and recommendations"
   ]
  },
  {
   "cell_type": "code",
   "execution_count": 11,
   "id": "minus-shame",
   "metadata": {
    "execution": {
     "iopub.execute_input": "2021-05-04T14:04:50.848963Z",
     "iopub.status.busy": "2021-05-04T14:04:50.848284Z",
     "iopub.status.idle": "2021-05-04T14:04:51.858428Z",
     "shell.execute_reply": "2021-05-04T14:04:51.857837Z"
    },
    "papermill": {
     "duration": 1.056726,
     "end_time": "2021-05-04T14:04:51.858584",
     "exception": false,
     "start_time": "2021-05-04T14:04:50.801858",
     "status": "completed"
    },
    "tags": []
   },
   "outputs": [
    {
     "data": {
      "image/png": "[encoded data removed]",
      "text/plain": [
       "<Figure size 720x720 with 2 Axes>"
      ]
     },
     "metadata": {},
     "output_type": "display_data"
    }
   ],
   "source": [
    "fig = plt.figure()\n",
    "gs = fig.add_gridspec(2, 1, hspace=0.2, wspace=0.2)\n",
    "(ax1), (ax2) = gs.subplots(sharex=True, sharey=False)\n",
    "sns.barplot(ax=ax1, data=df, x='University Rating',  y='LOR', hue='admin_binary')\n",
    "sns.barplot(ax=ax2, data=df, x='University Rating',  y='SOP', hue='admin_binary')\n",
    "plt.show()"
   ]
  },
  {
   "cell_type": "markdown",
   "id": "5808b582-09c0-49ba-9bf1-e267e1336c19",
   "metadata": {},
   "source": [
    "**Takeaway:** In contrast to the clear seperation above, the university rating does not have a drastic effect on those predictors. It would indicates how much weight this variable has in the final decision process. "
   ]
  },
  {
   "cell_type": "markdown",
   "id": "quick-conjunction",
   "metadata": {
    "papermill": {
     "duration": 0.023679,
     "end_time": "2021-05-04T14:04:48.108566",
     "exception": false,
     "start_time": "2021-05-04T14:04:48.084887",
     "status": "completed"
    },
    "tags": []
   },
   "source": [
    "# 5. Machine Learning set-up\n",
    "\n",
    "Under this section, we will explain the procedure of two main splitting approach to estimate our models' performance. "
   ]
  },
  {
   "cell_type": "markdown",
   "id": "92b4d1a0-1499-47dd-b48d-45a8d0806b2a",
   "metadata": {},
   "source": [
    "**Definition:** Often denoted as the most popular by its simplicity, the train-test split is a sampling technique dividing the dataset between training and testing sets. In doing so, the goal would be to have enough (but not too much) in our training set used for the machine learning model to predict the observations in the testing set as accurately as possible. Most would opt for a 70/30 training-testing split, respectively, others 80/20, 60/40, or whichever else works best for the case scenario. Further information [here](https://machinelearningmastery.com/train-test-split-for-evaluating-machine-learning-algorithms/). "
   ]
  },
  {
   "cell_type": "code",
   "execution_count": 191,
   "id": "b4f2b03b-5011-4e90-bf25-e64d920cd179",
   "metadata": {},
   "outputs": [],
   "source": [
    "# Splitting features & target variable\n",
    "X = df.drop(['Admission Probability'], axis=1).values\n",
    "y = df['Admission Probability'].values\n",
    "\n",
    "# Training Testing Split\n",
    "X_train, X_test, y_train, y_test = train_test_split(X, y, \n",
    "                                                    test_size=0.3, \n",
    "                                                    random_state=42)"
   ]
  },
  {
   "cell_type": "markdown",
   "id": "057b049e-a356-4843-bad6-f735c2785cfa",
   "metadata": {},
   "source": [
    "**Definition:** As the name would suggest, we will engage here in the process of validation to ensure reliability on our model. Cross-Validation is a statistical method applied in various ways to estimate the model's performance. Some examples are **Holdout Method, K-Fold, Stratified K-Fold, Leave-P-Out.**  Further information [here](https://machinelearningmastery.com/k-fold-cross-validation/) and [here](https://towardsdatascience.com/cross-validation-in-machine-learning-72924a69872f)."
   ]
  },
  {
   "cell_type": "code",
   "execution_count": 198,
   "id": "dedff869-cd47-474a-b700-cb6b3e464226",
   "metadata": {},
   "outputs": [
    {
     "name": "stdout",
     "output_type": "stream",
     "text": [
      "RMSE: 0.060 (0.009)\n"
     ]
    }
   ],
   "source": [
    "## Cross-Validation\n",
    "scores = -1 * cross_val_score(LinearRegression(), X_train, y_train,\n",
    "                        cv=10, scoring='neg_root_mean_squared_error')\n",
    "\n",
    "print('RMSE: %.3f (%.3f)' % (np.mean(scores), np.std(scores)))"
   ]
  },
  {
   "cell_type": "markdown",
   "id": "1354e88b-3ea4-4fba-9eeb-c7ce46403be9",
   "metadata": {},
   "source": [
    "# 6. Feature Engineering"
   ]
  },
  {
   "cell_type": "code",
   "execution_count": 200,
   "id": "f6d81651-771d-4150-aab2-338af270eb8e",
   "metadata": {},
   "outputs": [],
   "source": [
    "# def var_scaling(data): \n",
    "#     scaler = StandardScaler()\n",
    "#     for col in data.columns:\n",
    "#         if col in ['University Rating', 'Research', \n",
    "#                    'Admission Probability']:\n",
    "#             continue\n",
    "#         else:\n",
    "#             data[col] = scaler.fit_transform(data[col].values.reshape(-1, 1))\n",
    "#     return data\n",
    "\n",
    "# var_scaling(df)\n",
    "\n",
    "## Categorical Encoding\n",
    "# **Note:** Based on the glimpse into the dataset, it appears that we have two categorical variables \n",
    "# that are University Rating and Research being of type ordinal and binary respectively. \n",
    "# In that vein, we will proceed in encoding them accordingly.\n",
    "\n",
    "# Applying binary encoder\n",
    "# binenc = ce.BinaryEncoder(cols = ['Research'], return_df = True)\n",
    "# bin_df = binenc.fit_transform(df)\n",
    "# bin_df.head()\n",
    "\n",
    "# # Encoding cardinal categorical variables\n",
    "# bin_df['University Rating'] = bin_df['University Rating'].astype('object')\n",
    "\n",
    "# col_mapping = [ \n",
    "#     {\"col\" : 'University Rating', \n",
    "#      \"mapping\": {1: 1, 2: 2, 3: 3, 4: 4, 5: 5}}\n",
    "# ]\n",
    "\n",
    "# # Applying ordinal encoder\n",
    "# ordenc = ce.OrdinalEncoder(mapping = col_mapping, return_df = True)\n",
    "# df = ordenc.fit_transform(bin_df)  \n",
    "# df.head()"
   ]
  },
  {
   "cell_type": "markdown",
   "id": "excessive-recall",
   "metadata": {
    "papermill": {
     "duration": 0.028095,
     "end_time": "2021-05-04T14:04:51.914510",
     "exception": false,
     "start_time": "2021-05-04T14:04:51.886415",
     "status": "completed"
    },
    "tags": []
   },
   "source": [
    "# Model Building & Evaluation"
   ]
  },
  {
   "cell_type": "markdown",
   "id": "consistent-spoke",
   "metadata": {
    "papermill": {
     "duration": 0.027058,
     "end_time": "2021-05-04T14:04:51.969417",
     "exception": false,
     "start_time": "2021-05-04T14:04:51.942359",
     "status": "completed"
    },
    "tags": []
   },
   "source": [
    "### Given that we are attempting to predict a numerical output (the likelihood of admission), we will proceed and test multiple methods to find the best model."
   ]
  },
  {
   "cell_type": "code",
   "execution_count": 12,
   "id": "residential-twist",
   "metadata": {
    "execution": {
     "iopub.execute_input": "2021-05-04T14:04:52.031440Z",
     "iopub.status.busy": "2021-05-04T14:04:52.030800Z",
     "iopub.status.idle": "2021-05-04T14:04:52.033612Z",
     "shell.execute_reply": "2021-05-04T14:04:52.034082Z"
    },
    "papermill": {
     "duration": 0.037557,
     "end_time": "2021-05-04T14:04:52.034294",
     "exception": false,
     "start_time": "2021-05-04T14:04:51.996737",
     "status": "completed"
    },
    "tags": []
   },
   "outputs": [],
   "source": [
    "df.drop(['admin_binary'], axis=1, inplace=True)\n",
    "X, y = udp.pre_processing(df, 'Admission')"
   ]
  },
  {
   "cell_type": "markdown",
   "id": "separated-consistency",
   "metadata": {
    "papermill": {
     "duration": 0.027428,
     "end_time": "2021-05-04T14:04:52.090299",
     "exception": false,
     "start_time": "2021-05-04T14:04:52.062871",
     "status": "completed"
    },
    "tags": []
   },
   "source": [
    "### 1. Search for Best Sample Split"
   ]
  },
  {
   "cell_type": "code",
   "execution_count": 13,
   "id": "developmental-sellers",
   "metadata": {
    "execution": {
     "iopub.execute_input": "2021-05-04T14:04:52.171496Z",
     "iopub.status.busy": "2021-05-04T14:04:52.167756Z",
     "iopub.status.idle": "2021-05-04T14:04:54.814780Z",
     "shell.execute_reply": "2021-05-04T14:04:54.815250Z"
    },
    "papermill": {
     "duration": 2.697396,
     "end_time": "2021-05-04T14:04:54.815429",
     "exception": false,
     "start_time": "2021-05-04T14:04:52.118033",
     "status": "completed"
    },
    "tags": []
   },
   "outputs": [
    {
     "name": "stdout",
     "output_type": "stream",
     "text": [
      "0.2 131\n"
     ]
    },
    {
     "data": {
      "text/plain": [
       "{'MAPE': 0.0489, 'MSE': 0.0, 'RMSE': 0.04, 'R_Sq': 0.8981, 'Exp_Var': 0.9023}"
      ]
     },
     "execution_count": 13,
     "metadata": {},
     "output_type": "execute_result"
    }
   ],
   "source": [
    "def search_best_split(reg, iters):\n",
    "    sizes = [round(i, 2) for i in np.arange(0.2, 0.45, 0.05)]\n",
    "    states = list(range(0, iters+1))\n",
    "    scores = {}\n",
    "    for i in sizes:\n",
    "        for j in states:\n",
    "            reg.preprocess_split(size=i, state=j)\n",
    "            reg.fit_predict()\n",
    "            scores[(i, j)] = reg.metrics(put_dict=True)['RMSE']\n",
    "    best_split = min(scores, key=scores.get)\n",
    "    return best_split\n",
    "\n",
    "lin_model = reg.Regressor(X, y, 'lin')\n",
    "s, t = search_best_split(lin_model, 200)\n",
    "print(s, t)\n",
    "lin_model.preprocess_split(s, t)\n",
    "lin_model.fit_predict()\n",
    "lin_model.metrics(put_dict=True)"
   ]
  },
  {
   "cell_type": "markdown",
   "id": "asian-occurrence",
   "metadata": {
    "papermill": {
     "duration": 0.028111,
     "end_time": "2021-05-04T14:04:54.872333",
     "exception": false,
     "start_time": "2021-05-04T14:04:54.844222",
     "status": "completed"
    },
    "tags": []
   },
   "source": [
    "### 2. Test Different Model Types"
   ]
  },
  {
   "cell_type": "code",
   "execution_count": 14,
   "id": "democratic-condition",
   "metadata": {
    "execution": {
     "iopub.execute_input": "2021-05-04T14:04:54.938894Z",
     "iopub.status.busy": "2021-05-04T14:04:54.937873Z",
     "iopub.status.idle": "2021-05-04T14:04:55.124541Z",
     "shell.execute_reply": "2021-05-04T14:04:55.125139Z"
    },
    "papermill": {
     "duration": 0.224722,
     "end_time": "2021-05-04T14:04:55.125344",
     "exception": false,
     "start_time": "2021-05-04T14:04:54.900622",
     "status": "completed"
    },
    "tags": []
   },
   "outputs": [
    {
     "data": {
      "text/plain": [
       "'lin'"
      ]
     },
     "execution_count": 14,
     "metadata": {},
     "output_type": "execute_result"
    }
   ],
   "source": [
    "def search_best_type(X, y, size, state):\n",
    "    scores = {}\n",
    "    for i in ['lin', 'poly', 'lasso', 'ridge', 'eln', 'svr']:\n",
    "        if i == 'poly':\n",
    "            model = reg.Regressor(X, y, i, 2)\n",
    "        else:\n",
    "            model = reg.Regressor(X, y, i)\n",
    "        model.preprocess_split(size=size, state=state)    \n",
    "        model.fit_predict()\n",
    "        mets = model.metrics(put_dict=True)\n",
    "        scores[i] = mets['RMSE']\n",
    "    best_type = min(scores, key=scores.get)\n",
    "    return best_type\n",
    "\n",
    "best_type = search_best_type(X, y, s, t)\n",
    "best_type"
   ]
  },
  {
   "cell_type": "code",
   "execution_count": 15,
   "id": "welsh-shelter",
   "metadata": {
    "execution": {
     "iopub.execute_input": "2021-05-04T14:04:55.189826Z",
     "iopub.status.busy": "2021-05-04T14:04:55.188832Z",
     "iopub.status.idle": "2021-05-04T14:04:55.197898Z",
     "shell.execute_reply": "2021-05-04T14:04:55.197235Z"
    },
    "papermill": {
     "duration": 0.042962,
     "end_time": "2021-05-04T14:04:55.198040",
     "exception": false,
     "start_time": "2021-05-04T14:04:55.155078",
     "status": "completed"
    },
    "tags": []
   },
   "outputs": [
    {
     "data": {
      "text/plain": [
       "{'MAPE': 0.0489, 'MSE': 0.0, 'RMSE': 0.04, 'R_Sq': 0.8981, 'Exp_Var': 0.9023}"
      ]
     },
     "execution_count": 15,
     "metadata": {},
     "output_type": "execute_result"
    }
   ],
   "source": [
    "lin_model = reg.Regressor(X, y, best_type)\n",
    "lin_model.preprocess_split(s, t)\n",
    "lin_model.fit_predict()\n",
    "lin_model.metrics(put_dict=True)"
   ]
  },
  {
   "cell_type": "code",
   "execution_count": 16,
   "id": "clean-posting",
   "metadata": {
    "execution": {
     "iopub.execute_input": "2021-05-04T14:04:55.259953Z",
     "iopub.status.busy": "2021-05-04T14:04:55.259338Z",
     "iopub.status.idle": "2021-05-04T14:04:55.268079Z",
     "shell.execute_reply": "2021-05-04T14:04:55.268750Z"
    },
    "papermill": {
     "duration": 0.041502,
     "end_time": "2021-05-04T14:04:55.268984",
     "exception": false,
     "start_time": "2021-05-04T14:04:55.227482",
     "status": "completed"
    },
    "tags": []
   },
   "outputs": [
    {
     "name": "stdout",
     "output_type": "stream",
     "text": [
      "Our best model got 0.04 RMSE and 89.81% R-Squared\n"
     ]
    }
   ],
   "source": [
    "rmse = lin_model.metrics(put_dict=True)['RMSE']\n",
    "rsq = lin_model.metrics(put_dict=True)['R_Sq']\n",
    "print('Our best model got {} RMSE and {:.2%} R-Squared'.format(rmse, rsq))"
   ]
  }
 ],
 "metadata": {
  "kernelspec": {
   "display_name": "Python 3 (ipykernel)",
   "language": "python",
   "name": "python3"
  },
  "language_info": {
   "codemirror_mode": {
    "name": "ipython",
    "version": 3
   },
   "file_extension": ".py",
   "mimetype": "text/x-python",
   "name": "python",
   "nbconvert_exporter": "python",
   "pygments_lexer": "ipython3",
   "version": "3.9.12"
  },
  "papermill": {
   "default_parameters": {},
   "duration": 18.948204,
   "end_time": "2021-05-04T14:04:56.943580",
   "environment_variables": {},
   "exception": null,
   "input_path": "__notebook__.ipynb",
   "output_path": "__notebook__.ipynb",
   "parameters": {},
   "start_time": "2021-05-04T14:04:37.995376",
   "version": "2.3.3"
  }
 },
 "nbformat": 4,
 "nbformat_minor": 5
}
