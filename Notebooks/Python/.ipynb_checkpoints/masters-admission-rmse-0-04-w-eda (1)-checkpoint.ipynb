{
 "cells": [
  {
   "cell_type": "markdown",
   "id": "f287b4c3-b0f1-49b4-86c7-7dc8f481f3f7",
   "metadata": {},
   "source": [
    "# Document Information\n",
    "* Title: \"Graduate Admission\"\n",
    "* Author: Akoua Orsot\n",
    "* Date: Sep 2, 2022\n",
    "* Version: 1.1"
   ]
  },
  {
   "cell_type": "markdown",
   "id": "001016c6-a1de-4b10-8bc6-aa6b45e93549",
   "metadata": {},
   "source": [
    "# Graduate Admission \n",
    "In the course of a career, there arise multiple learning and professional opportunities like a Master's degree which often present itself as a fairly competitive race to the best universities and colleges around the world. Still, there are certain traits distinguishing applicants in the eye of admission offices. So, this notebook will attempt to build a predictive algorithm to determine chances of admissions (scale 0 to 1) given a set of variables. In doing so, we will follow LIME (Local Interpretable Model-agnostic Explanations) principles making it accessible and user-friendly to most readers.\n",
    "\n",
    "\n",
    "## Table of Contents\n",
    "1. Environment set-up\n",
    "    * Importing Libraries\n",
    "    * Loading the data\n",
    "2. Initial Diagnostics\n",
    "    * Glimpse\n",
    "    * Descriptive Statitics\n",
    "    * Target Variable Analysis\n",
    "    * Predictors Analysis\n",
    "3. Data Processing\n",
    "    * Drop & Rename\n",
    "    * Missing Values\n",
    "    * Outliers\n",
    "    * Duplicate Observations\n",
    "    * Correlation Matrix\n",
    "4. Exploraty Data Analysis (EDA)\n",
    "    * What is the distribution of our continuous predictors?\n",
    "    * Is there a cluster of admitted (prob >= 0.75) and non-admitted by GRE & TOEFL Scores?\n",
    "    * How does the Undergrad GPA affect Masters Program Admissions given research experience?\n",
    "    * Would the undergrad's college/university strenghten application statements and recommendations?\n",
    "5. Feature Engineering\n",
    "    * Categorical Encoding\n",
    "    * Variable Standardization\n",
    "6. Machine Learning set-up\n",
    "    * Train-test split\n",
    "    * Cross-validation\n",
    "7. Machine Learning - Simple Models\n",
    "    * Logistic Regression\n",
    "    * k-Nearest Neighbors\n",
    "    * Decision Tree\n",
    "    * Stochastic Gradient Descent\n",
    "8. Machine Learning - Ensemble Methods\n",
    "    * Random Forest\n",
    "    * Stochastic Gradient Boosting\n",
    "    * StackingClassifier\n",
    "9. Training Model Evaluation\n",
    "    * Other metrics\n",
    "    * Recommendation\n",
    "10. Test Data - Model Performance"
   ]
  },
  {
   "cell_type": "markdown",
   "id": "ae9d4439-c63e-4ed4-b937-dc4ebb1d70a4",
   "metadata": {},
   "source": [
    "# 1. Environment set-up"
   ]
  },
  {
   "cell_type": "code",
   "execution_count": 219,
   "id": "adapted-pointer",
   "metadata": {
    "_cell_guid": "b1076dfc-b9ad-4769-8c92-a6c4dae69d19",
    "_uuid": "8f2839f25d086af736a60e9eeb907d3b93b6e0e5",
    "papermill": {
     "duration": 1.51811,
     "end_time": "2021-05-04T14:04:47.829257",
     "exception": false,
     "start_time": "2021-05-04T14:04:46.311147",
     "status": "completed"
    },
    "tags": []
   },
   "outputs": [],
   "source": [
    "## Importing Libraries\n",
    "\n",
    "#Set seed\n",
    "import random\n",
    "random.seed(666)\n",
    "\n",
    "# Manipulating & Visualizing Data\n",
    "import pandas as pd\n",
    "import numpy as np\n",
    "from collections import Counter\n",
    "import matplotlib.pyplot as plt\n",
    "import seaborn as sns\n",
    "sns.set(rc={'figure.figsize':(12, 8)})\n",
    "\n",
    "# Statistical Methods\n",
    "from scipy import stats\n",
    "\n",
    "# Categorical Encoding\n",
    "import category_encoders as ce\n",
    "\n",
    "# Variable Scaling\n",
    "from sklearn.preprocessing import StandardScaler\n",
    "\n",
    "# Training/Testing Split\n",
    "from sklearn.model_selection import train_test_split\n",
    "\n",
    "# Cross Validation\n",
    "from sklearn.model_selection import cross_validate\n",
    "\n",
    "# Simple ML models\n",
    "from sklearn.linear_model import LinearRegression\n",
    "from sklearn.neighbors import KNeighborsRegressor\n",
    "from sklearn.tree import DecisionTreeRegressor\n",
    "from sklearn.svm import SVR\n",
    "\n",
    "# Ensemble Learning\n",
    "from sklearn.ensemble import RandomForestRegressor\n",
    "from sklearn.ensemble import GradientBoostingRegressor\n",
    "from sklearn.ensemble import StackingRegressor\n",
    "\n",
    "# Performance metrics\n",
    "import sklearn.metrics as skm"
   ]
  },
  {
   "cell_type": "code",
   "execution_count": 220,
   "id": "81f5cb4b-e56a-4ee1-8a5e-73112d889c36",
   "metadata": {},
   "outputs": [
    {
     "data": {
      "text/html": [
       "<div>\n",
       "<style scoped>\n",
       "    .dataframe tbody tr th:only-of-type {\n",
       "        vertical-align: middle;\n",
       "    }\n",
       "\n",
       "    .dataframe tbody tr th {\n",
       "        vertical-align: top;\n",
       "    }\n",
       "\n",
       "    .dataframe thead th {\n",
       "        text-align: right;\n",
       "    }\n",
       "</style>\n",
       "<table border=\"1\" class=\"dataframe\">\n",
       "  <thead>\n",
       "    <tr style=\"text-align: right;\">\n",
       "      <th></th>\n",
       "      <th>Serial No.</th>\n",
       "      <th>GRE Score</th>\n",
       "      <th>TOEFL Score</th>\n",
       "      <th>University Rating</th>\n",
       "      <th>SOP</th>\n",
       "      <th>LOR</th>\n",
       "      <th>CGPA</th>\n",
       "      <th>Research</th>\n",
       "      <th>Chance of Admit</th>\n",
       "    </tr>\n",
       "  </thead>\n",
       "  <tbody>\n",
       "    <tr>\n",
       "      <th>0</th>\n",
       "      <td>1</td>\n",
       "      <td>337</td>\n",
       "      <td>118</td>\n",
       "      <td>4</td>\n",
       "      <td>4.5</td>\n",
       "      <td>4.5</td>\n",
       "      <td>9.65</td>\n",
       "      <td>1</td>\n",
       "      <td>0.92</td>\n",
       "    </tr>\n",
       "    <tr>\n",
       "      <th>1</th>\n",
       "      <td>2</td>\n",
       "      <td>324</td>\n",
       "      <td>107</td>\n",
       "      <td>4</td>\n",
       "      <td>4.0</td>\n",
       "      <td>4.5</td>\n",
       "      <td>8.87</td>\n",
       "      <td>1</td>\n",
       "      <td>0.76</td>\n",
       "    </tr>\n",
       "    <tr>\n",
       "      <th>2</th>\n",
       "      <td>3</td>\n",
       "      <td>316</td>\n",
       "      <td>104</td>\n",
       "      <td>3</td>\n",
       "      <td>3.0</td>\n",
       "      <td>3.5</td>\n",
       "      <td>8.00</td>\n",
       "      <td>1</td>\n",
       "      <td>0.72</td>\n",
       "    </tr>\n",
       "    <tr>\n",
       "      <th>3</th>\n",
       "      <td>4</td>\n",
       "      <td>322</td>\n",
       "      <td>110</td>\n",
       "      <td>3</td>\n",
       "      <td>3.5</td>\n",
       "      <td>2.5</td>\n",
       "      <td>8.67</td>\n",
       "      <td>1</td>\n",
       "      <td>0.80</td>\n",
       "    </tr>\n",
       "    <tr>\n",
       "      <th>4</th>\n",
       "      <td>5</td>\n",
       "      <td>314</td>\n",
       "      <td>103</td>\n",
       "      <td>2</td>\n",
       "      <td>2.0</td>\n",
       "      <td>3.0</td>\n",
       "      <td>8.21</td>\n",
       "      <td>0</td>\n",
       "      <td>0.65</td>\n",
       "    </tr>\n",
       "  </tbody>\n",
       "</table>\n",
       "</div>"
      ],
      "text/plain": [
       "   Serial No.  GRE Score  TOEFL Score  University Rating  SOP  LOR   CGPA  \\\n",
       "0           1        337          118                  4  4.5   4.5  9.65   \n",
       "1           2        324          107                  4  4.0   4.5  8.87   \n",
       "2           3        316          104                  3  3.0   3.5  8.00   \n",
       "3           4        322          110                  3  3.5   2.5  8.67   \n",
       "4           5        314          103                  2  2.0   3.0  8.21   \n",
       "\n",
       "   Research  Chance of Admit   \n",
       "0         1              0.92  \n",
       "1         1              0.76  \n",
       "2         1              0.72  \n",
       "3         1              0.80  \n",
       "4         0              0.65  "
      ]
     },
     "execution_count": 220,
     "metadata": {},
     "output_type": "execute_result"
    }
   ],
   "source": [
    "## Loading the dataset\n",
    "df = pd.read_csv(r\"C:\\Users\\Graduate\\Desktop\\ds_proj_data\\Admission_Predict_Ver1.1.csv\")\n",
    "df.head()"
   ]
  },
  {
   "cell_type": "markdown",
   "id": "b0d744ce-205e-482a-a718-c2e723f4f43d",
   "metadata": {},
   "source": [
    "The dataset contains several parameters which are considered important during the application for Masters Programs. The parameters included are :\n",
    "* GRE Scores ( out of 340 )\n",
    "* TOEFL Scores ( out of 120 )\n",
    "* University Rating ( out of 5 )\n",
    "* Statement of Purpose and Letter of Recommendation Strength ( out of 5 )\n",
    "* Undergraduate GPA ( out of 10 )\n",
    "* Research Experience ( either 0 or 1 )\n",
    "* Chance of Admit ( ranging from 0 to 1 )"
   ]
  },
  {
   "cell_type": "markdown",
   "id": "a2423cd8-37d6-4f05-aed5-33969ef8bd22",
   "metadata": {},
   "source": [
    "# 2. Initial Diagnostics"
   ]
  },
  {
   "cell_type": "code",
   "execution_count": 221,
   "id": "39f07ab1-d12a-4a1b-8490-4e52df180b48",
   "metadata": {},
   "outputs": [
    {
     "name": "stdout",
     "output_type": "stream",
     "text": [
      "<class 'pandas.core.frame.DataFrame'>\n",
      "RangeIndex: 500 entries, 0 to 499\n",
      "Data columns (total 9 columns):\n",
      " #   Column             Non-Null Count  Dtype  \n",
      "---  ------             --------------  -----  \n",
      " 0   Serial No.         500 non-null    int64  \n",
      " 1   GRE Score          500 non-null    int64  \n",
      " 2   TOEFL Score        500 non-null    int64  \n",
      " 3   University Rating  500 non-null    int64  \n",
      " 4   SOP                500 non-null    float64\n",
      " 5   LOR                500 non-null    float64\n",
      " 6   CGPA               500 non-null    float64\n",
      " 7   Research           500 non-null    int64  \n",
      " 8   Chance of Admit    500 non-null    float64\n",
      "dtypes: float64(4), int64(5)\n",
      "memory usage: 35.3 KB\n"
     ]
    }
   ],
   "source": [
    "## Glimpse of the data\n",
    "df.info()"
   ]
  },
  {
   "cell_type": "code",
   "execution_count": 222,
   "id": "de4e474e-566b-4d11-adb8-d6c74571a7b9",
   "metadata": {},
   "outputs": [
    {
     "data": {
      "text/html": [
       "<div>\n",
       "<style scoped>\n",
       "    .dataframe tbody tr th:only-of-type {\n",
       "        vertical-align: middle;\n",
       "    }\n",
       "\n",
       "    .dataframe tbody tr th {\n",
       "        vertical-align: top;\n",
       "    }\n",
       "\n",
       "    .dataframe thead th {\n",
       "        text-align: right;\n",
       "    }\n",
       "</style>\n",
       "<table border=\"1\" class=\"dataframe\">\n",
       "  <thead>\n",
       "    <tr style=\"text-align: right;\">\n",
       "      <th></th>\n",
       "      <th>Serial No.</th>\n",
       "      <th>GRE Score</th>\n",
       "      <th>TOEFL Score</th>\n",
       "      <th>University Rating</th>\n",
       "      <th>SOP</th>\n",
       "      <th>LOR</th>\n",
       "      <th>CGPA</th>\n",
       "      <th>Research</th>\n",
       "      <th>Chance of Admit</th>\n",
       "    </tr>\n",
       "  </thead>\n",
       "  <tbody>\n",
       "    <tr>\n",
       "      <th>count</th>\n",
       "      <td>500.000000</td>\n",
       "      <td>500.000000</td>\n",
       "      <td>500.000000</td>\n",
       "      <td>500.000000</td>\n",
       "      <td>500.000000</td>\n",
       "      <td>500.00000</td>\n",
       "      <td>500.000000</td>\n",
       "      <td>500.000000</td>\n",
       "      <td>500.00000</td>\n",
       "    </tr>\n",
       "    <tr>\n",
       "      <th>mean</th>\n",
       "      <td>250.500000</td>\n",
       "      <td>316.472000</td>\n",
       "      <td>107.192000</td>\n",
       "      <td>3.114000</td>\n",
       "      <td>3.374000</td>\n",
       "      <td>3.48400</td>\n",
       "      <td>8.576440</td>\n",
       "      <td>0.560000</td>\n",
       "      <td>0.72174</td>\n",
       "    </tr>\n",
       "    <tr>\n",
       "      <th>std</th>\n",
       "      <td>144.481833</td>\n",
       "      <td>11.295148</td>\n",
       "      <td>6.081868</td>\n",
       "      <td>1.143512</td>\n",
       "      <td>0.991004</td>\n",
       "      <td>0.92545</td>\n",
       "      <td>0.604813</td>\n",
       "      <td>0.496884</td>\n",
       "      <td>0.14114</td>\n",
       "    </tr>\n",
       "    <tr>\n",
       "      <th>min</th>\n",
       "      <td>1.000000</td>\n",
       "      <td>290.000000</td>\n",
       "      <td>92.000000</td>\n",
       "      <td>1.000000</td>\n",
       "      <td>1.000000</td>\n",
       "      <td>1.00000</td>\n",
       "      <td>6.800000</td>\n",
       "      <td>0.000000</td>\n",
       "      <td>0.34000</td>\n",
       "    </tr>\n",
       "    <tr>\n",
       "      <th>25%</th>\n",
       "      <td>125.750000</td>\n",
       "      <td>308.000000</td>\n",
       "      <td>103.000000</td>\n",
       "      <td>2.000000</td>\n",
       "      <td>2.500000</td>\n",
       "      <td>3.00000</td>\n",
       "      <td>8.127500</td>\n",
       "      <td>0.000000</td>\n",
       "      <td>0.63000</td>\n",
       "    </tr>\n",
       "    <tr>\n",
       "      <th>50%</th>\n",
       "      <td>250.500000</td>\n",
       "      <td>317.000000</td>\n",
       "      <td>107.000000</td>\n",
       "      <td>3.000000</td>\n",
       "      <td>3.500000</td>\n",
       "      <td>3.50000</td>\n",
       "      <td>8.560000</td>\n",
       "      <td>1.000000</td>\n",
       "      <td>0.72000</td>\n",
       "    </tr>\n",
       "    <tr>\n",
       "      <th>75%</th>\n",
       "      <td>375.250000</td>\n",
       "      <td>325.000000</td>\n",
       "      <td>112.000000</td>\n",
       "      <td>4.000000</td>\n",
       "      <td>4.000000</td>\n",
       "      <td>4.00000</td>\n",
       "      <td>9.040000</td>\n",
       "      <td>1.000000</td>\n",
       "      <td>0.82000</td>\n",
       "    </tr>\n",
       "    <tr>\n",
       "      <th>max</th>\n",
       "      <td>500.000000</td>\n",
       "      <td>340.000000</td>\n",
       "      <td>120.000000</td>\n",
       "      <td>5.000000</td>\n",
       "      <td>5.000000</td>\n",
       "      <td>5.00000</td>\n",
       "      <td>9.920000</td>\n",
       "      <td>1.000000</td>\n",
       "      <td>0.97000</td>\n",
       "    </tr>\n",
       "  </tbody>\n",
       "</table>\n",
       "</div>"
      ],
      "text/plain": [
       "       Serial No.   GRE Score  TOEFL Score  University Rating         SOP  \\\n",
       "count  500.000000  500.000000   500.000000         500.000000  500.000000   \n",
       "mean   250.500000  316.472000   107.192000           3.114000    3.374000   \n",
       "std    144.481833   11.295148     6.081868           1.143512    0.991004   \n",
       "min      1.000000  290.000000    92.000000           1.000000    1.000000   \n",
       "25%    125.750000  308.000000   103.000000           2.000000    2.500000   \n",
       "50%    250.500000  317.000000   107.000000           3.000000    3.500000   \n",
       "75%    375.250000  325.000000   112.000000           4.000000    4.000000   \n",
       "max    500.000000  340.000000   120.000000           5.000000    5.000000   \n",
       "\n",
       "            LOR         CGPA    Research  Chance of Admit   \n",
       "count  500.00000  500.000000  500.000000         500.00000  \n",
       "mean     3.48400    8.576440    0.560000           0.72174  \n",
       "std      0.92545    0.604813    0.496884           0.14114  \n",
       "min      1.00000    6.800000    0.000000           0.34000  \n",
       "25%      3.00000    8.127500    0.000000           0.63000  \n",
       "50%      3.50000    8.560000    1.000000           0.72000  \n",
       "75%      4.00000    9.040000    1.000000           0.82000  \n",
       "max      5.00000    9.920000    1.000000           0.97000  "
      ]
     },
     "execution_count": 222,
     "metadata": {},
     "output_type": "execute_result"
    }
   ],
   "source": [
    "## Descriptive Statistics\n",
    "df.describe()"
   ]
  },
  {
   "cell_type": "code",
   "execution_count": 223,
   "id": "1b0bdc11-3aa2-4a23-b016-352ba0f58014",
   "metadata": {},
   "outputs": [
    {
     "data": {
      "image/png": "[encoded data removed]",
      "text/plain": [
       "<Figure size 864x576 with 1 Axes>"
      ]
     },
     "metadata": {},
     "output_type": "display_data"
    }
   ],
   "source": [
    "## Target Variable Analysis\n",
    "sns.histplot(data=df, x='Chance of Admit ', kde=True)\n",
    "plt.xlabel(\"target\")\n",
    "plt.ylabel(\"Frequency (Count)\")\n",
    "plt.title(\"Distribution of Target Variable\")\n",
    "plt.show()"
   ]
  },
  {
   "cell_type": "markdown",
   "id": "2975fff2-2d74-4877-b157-f9056cc10e04",
   "metadata": {},
   "source": [
    "**Takeaway:** We have here a left-skewed distribution of admission chances among the pool of candidates. With most people sitting in the range of 0.6 to 0.8, we can assume that those students demonstrated comopentency in the various test scores and undergraduate studies. "
   ]
  },
  {
   "cell_type": "markdown",
   "id": "cfcb3af1-3aed-4754-889d-e711bc7ed675",
   "metadata": {},
   "source": [
    "# 3. Data Processing"
   ]
  },
  {
   "cell_type": "markdown",
   "id": "fb1c5a31-ba30-49c6-8df8-8401aabe4029",
   "metadata": {},
   "source": [
    "**Note:** Before anything, we will proceed in dropping the Serial No. column and renaming some columns to retain ease of data manipulation."
   ]
  },
  {
   "cell_type": "code",
   "execution_count": 224,
   "id": "prescribed-situation",
   "metadata": {
    "papermill": {
     "duration": 0.063651,
     "end_time": "2021-05-04T14:04:47.910163",
     "exception": false,
     "start_time": "2021-05-04T14:04:47.846512",
     "status": "completed"
    },
    "tags": []
   },
   "outputs": [],
   "source": [
    "## Drop & Rename \n",
    "def initial_processing(data, col_drop, col_rename):\n",
    "    \"\"\" A simple functin to simnple processing: drop, rename, remove duplicate\n",
    "    \n",
    "    Parameters\n",
    "    ----------\n",
    "    data : dataframe\n",
    "        A dataset\n",
    "    col_drop : list\n",
    "        A list of column names to drop\n",
    "    col_rename : dict\n",
    "        A dictionary pairing the old and new column names desired\n",
    "\n",
    "    Returns\n",
    "    -------\n",
    "    data\n",
    "        a modified dataframe\n",
    "    \"\"\" \n",
    "    #Drop the 'Serial No.' column\n",
    "    data.drop(col_drop, axis=1, inplace=True)\n",
    "\n",
    "    # Renaming the target variable and one predictor\n",
    "    data.rename(columns=col_rename, inplace=True)\n",
    "    \n",
    "    # Removing any Duplicate Observations if any\n",
    "    data.drop_duplicates(keep='first', inplace=True)\n",
    "    return data"
   ]
  },
  {
   "cell_type": "code",
   "execution_count": 225,
   "id": "4e3638d0-72a6-4b04-9ff1-36828baa8e4f",
   "metadata": {},
   "outputs": [
    {
     "data": {
      "text/html": [
       "<div>\n",
       "<style scoped>\n",
       "    .dataframe tbody tr th:only-of-type {\n",
       "        vertical-align: middle;\n",
       "    }\n",
       "\n",
       "    .dataframe tbody tr th {\n",
       "        vertical-align: top;\n",
       "    }\n",
       "\n",
       "    .dataframe thead th {\n",
       "        text-align: right;\n",
       "    }\n",
       "</style>\n",
       "<table border=\"1\" class=\"dataframe\">\n",
       "  <thead>\n",
       "    <tr style=\"text-align: right;\">\n",
       "      <th></th>\n",
       "      <th>GRE Score</th>\n",
       "      <th>TOEFL Score</th>\n",
       "      <th>University Rating</th>\n",
       "      <th>SOP</th>\n",
       "      <th>LOR</th>\n",
       "      <th>CGPA</th>\n",
       "      <th>Research</th>\n",
       "      <th>target</th>\n",
       "    </tr>\n",
       "  </thead>\n",
       "  <tbody>\n",
       "    <tr>\n",
       "      <th>0</th>\n",
       "      <td>337</td>\n",
       "      <td>118</td>\n",
       "      <td>4</td>\n",
       "      <td>4.5</td>\n",
       "      <td>4.5</td>\n",
       "      <td>9.65</td>\n",
       "      <td>1</td>\n",
       "      <td>0.92</td>\n",
       "    </tr>\n",
       "    <tr>\n",
       "      <th>1</th>\n",
       "      <td>324</td>\n",
       "      <td>107</td>\n",
       "      <td>4</td>\n",
       "      <td>4.0</td>\n",
       "      <td>4.5</td>\n",
       "      <td>8.87</td>\n",
       "      <td>1</td>\n",
       "      <td>0.76</td>\n",
       "    </tr>\n",
       "    <tr>\n",
       "      <th>2</th>\n",
       "      <td>316</td>\n",
       "      <td>104</td>\n",
       "      <td>3</td>\n",
       "      <td>3.0</td>\n",
       "      <td>3.5</td>\n",
       "      <td>8.00</td>\n",
       "      <td>1</td>\n",
       "      <td>0.72</td>\n",
       "    </tr>\n",
       "    <tr>\n",
       "      <th>3</th>\n",
       "      <td>322</td>\n",
       "      <td>110</td>\n",
       "      <td>3</td>\n",
       "      <td>3.5</td>\n",
       "      <td>2.5</td>\n",
       "      <td>8.67</td>\n",
       "      <td>1</td>\n",
       "      <td>0.80</td>\n",
       "    </tr>\n",
       "    <tr>\n",
       "      <th>4</th>\n",
       "      <td>314</td>\n",
       "      <td>103</td>\n",
       "      <td>2</td>\n",
       "      <td>2.0</td>\n",
       "      <td>3.0</td>\n",
       "      <td>8.21</td>\n",
       "      <td>0</td>\n",
       "      <td>0.65</td>\n",
       "    </tr>\n",
       "  </tbody>\n",
       "</table>\n",
       "</div>"
      ],
      "text/plain": [
       "   GRE Score  TOEFL Score  University Rating  SOP  LOR  CGPA  Research  target\n",
       "0        337          118                  4  4.5  4.5  9.65         1    0.92\n",
       "1        324          107                  4  4.0  4.5  8.87         1    0.76\n",
       "2        316          104                  3  3.0  3.5  8.00         1    0.72\n",
       "3        322          110                  3  3.5  2.5  8.67         1    0.80\n",
       "4        314          103                  2  2.0  3.0  8.21         0    0.65"
      ]
     },
     "execution_count": 225,
     "metadata": {},
     "output_type": "execute_result"
    }
   ],
   "source": [
    "## Drop & Rename \n",
    "df = initial_processing(df, col_drop = ['Serial No.'],\n",
    "                 col_rename = {\"Chance of Admit \": \"target\", 'LOR ': 'LOR'})\n",
    "df.head()"
   ]
  },
  {
   "cell_type": "code",
   "execution_count": 226,
   "id": "93c7f5fc-c1b5-4f78-9730-4677a179ea22",
   "metadata": {},
   "outputs": [],
   "source": [
    "# Applying statistical imputation\n",
    "def imputation_missing_val(data):\n",
    "    \"\"\" Function to impute missing value using median and mode\n",
    "    \n",
    "    Parameters\n",
    "    ----------\n",
    "    data : dataframe\n",
    "        A dataset\n",
    "\n",
    "    Returns\n",
    "    -------\n",
    "    data\n",
    "        an imputed dataframe\n",
    "    \"\"\" \n",
    "    \n",
    "    # Filter the columns with missing values\n",
    "    null_cols = data.columns[data.isna().any()].tolist()\n",
    "    \n",
    "    for col in null_cols:\n",
    "        # Impute using median for numeric columns\n",
    "        if data[col].dtype.kind in 'iufc':\n",
    "            data[col] = data[col].transform(lambda x: x.fillna(x.median()))\n",
    "            \n",
    "        # Impute using median for non-numeric columns\n",
    "        else:\n",
    "            data[col] = data[col].transform(lambda x: x.fillna(x.mode()))\n",
    "    \n",
    "    return data\n"
   ]
  },
  {
   "cell_type": "code",
   "execution_count": 227,
   "id": "6b93dad1-7033-4c6a-ab83-9ce185dbdf16",
   "metadata": {},
   "outputs": [],
   "source": [
    "# Identify missing values and dealing with them if present\n",
    "def identify_missing_val(data):\n",
    "    \"\"\" Function to identify missing/na values\n",
    "    \n",
    "    Parameters\n",
    "    ----------\n",
    "    data : dataframe\n",
    "        A dataset\n",
    "\n",
    "    Returns\n",
    "    -------\n",
    "    data\n",
    "        a dataframe with no missing values \n",
    "        either after imputation or original format\n",
    "    \"\"\"\n",
    "    \n",
    "    # Count number of missing values \n",
    "    sum_nulls = data.isna().sum().sum()\n",
    "    print(\"With %d null/na values in the dataset:\" % sum_nulls)\n",
    "    \n",
    "    # Only visualize if missing values present\n",
    "    if sum_nulls > 0: \n",
    "        print(\"- We need to resolve this issue.\")\n",
    "        plt.figure(figsize=(10,6))\n",
    "        sns.heatmap(df.isna().transpose(),\n",
    "                    cmap=\"YlGnBu\",\n",
    "                    cbar_kws={'label': 'Missing Data'})\n",
    "        plt.xlabel(\"Features\")\n",
    "        plt.ylabel(\"Observations\")\n",
    "        plt.show()\n",
    "        \n",
    "        # Proceeding in imputing the dataset with missing values\n",
    "        data = imputation_missing_val(data)\n",
    "        sum_nulls = data.isna().sum().sum()\n",
    "        print(\"After imputation, we have missing {:d} values in our data.\" % sum_nulls)\n",
    "    else:\n",
    "        print(\"- No action needed\")\n",
    "        pass\n",
    "    return data"
   ]
  },
  {
   "cell_type": "code",
   "execution_count": 228,
   "id": "c83af1a7-96f7-456a-a203-314f25df3108",
   "metadata": {},
   "outputs": [
    {
     "name": "stdout",
     "output_type": "stream",
     "text": [
      "With 0 null/na values in the dataset:\n",
      "- No action needed\n"
     ]
    },
    {
     "data": {
      "text/html": [
       "<div>\n",
       "<style scoped>\n",
       "    .dataframe tbody tr th:only-of-type {\n",
       "        vertical-align: middle;\n",
       "    }\n",
       "\n",
       "    .dataframe tbody tr th {\n",
       "        vertical-align: top;\n",
       "    }\n",
       "\n",
       "    .dataframe thead th {\n",
       "        text-align: right;\n",
       "    }\n",
       "</style>\n",
       "<table border=\"1\" class=\"dataframe\">\n",
       "  <thead>\n",
       "    <tr style=\"text-align: right;\">\n",
       "      <th></th>\n",
       "      <th>GRE Score</th>\n",
       "      <th>TOEFL Score</th>\n",
       "      <th>University Rating</th>\n",
       "      <th>SOP</th>\n",
       "      <th>LOR</th>\n",
       "      <th>CGPA</th>\n",
       "      <th>Research</th>\n",
       "      <th>target</th>\n",
       "    </tr>\n",
       "  </thead>\n",
       "  <tbody>\n",
       "    <tr>\n",
       "      <th>0</th>\n",
       "      <td>337</td>\n",
       "      <td>118</td>\n",
       "      <td>4</td>\n",
       "      <td>4.5</td>\n",
       "      <td>4.5</td>\n",
       "      <td>9.65</td>\n",
       "      <td>1</td>\n",
       "      <td>0.92</td>\n",
       "    </tr>\n",
       "    <tr>\n",
       "      <th>1</th>\n",
       "      <td>324</td>\n",
       "      <td>107</td>\n",
       "      <td>4</td>\n",
       "      <td>4.0</td>\n",
       "      <td>4.5</td>\n",
       "      <td>8.87</td>\n",
       "      <td>1</td>\n",
       "      <td>0.76</td>\n",
       "    </tr>\n",
       "    <tr>\n",
       "      <th>2</th>\n",
       "      <td>316</td>\n",
       "      <td>104</td>\n",
       "      <td>3</td>\n",
       "      <td>3.0</td>\n",
       "      <td>3.5</td>\n",
       "      <td>8.00</td>\n",
       "      <td>1</td>\n",
       "      <td>0.72</td>\n",
       "    </tr>\n",
       "    <tr>\n",
       "      <th>3</th>\n",
       "      <td>322</td>\n",
       "      <td>110</td>\n",
       "      <td>3</td>\n",
       "      <td>3.5</td>\n",
       "      <td>2.5</td>\n",
       "      <td>8.67</td>\n",
       "      <td>1</td>\n",
       "      <td>0.80</td>\n",
       "    </tr>\n",
       "    <tr>\n",
       "      <th>4</th>\n",
       "      <td>314</td>\n",
       "      <td>103</td>\n",
       "      <td>2</td>\n",
       "      <td>2.0</td>\n",
       "      <td>3.0</td>\n",
       "      <td>8.21</td>\n",
       "      <td>0</td>\n",
       "      <td>0.65</td>\n",
       "    </tr>\n",
       "  </tbody>\n",
       "</table>\n",
       "</div>"
      ],
      "text/plain": [
       "   GRE Score  TOEFL Score  University Rating  SOP  LOR  CGPA  Research  target\n",
       "0        337          118                  4  4.5  4.5  9.65         1    0.92\n",
       "1        324          107                  4  4.0  4.5  8.87         1    0.76\n",
       "2        316          104                  3  3.0  3.5  8.00         1    0.72\n",
       "3        322          110                  3  3.5  2.5  8.67         1    0.80\n",
       "4        314          103                  2  2.0  3.0  8.21         0    0.65"
      ]
     },
     "execution_count": 228,
     "metadata": {},
     "output_type": "execute_result"
    }
   ],
   "source": [
    "## Missing Values\n",
    "df = identify_missing_val(df)\n",
    "df.head()"
   ]
  },
  {
   "cell_type": "code",
   "execution_count": 229,
   "id": "0158a7ac-c475-4d4a-b6d2-5a367bc59bf2",
   "metadata": {},
   "outputs": [
    {
     "data": {
      "image/png": "[encoded data removed]",
      "text/plain": [
       "<Figure size 864x576 with 1 Axes>"
      ]
     },
     "metadata": {},
     "output_type": "display_data"
    }
   ],
   "source": [
    "## Outliers\n",
    "sns.boxplot(data=df, x='target')\n",
    "plt.show()"
   ]
  },
  {
   "cell_type": "code",
   "execution_count": 230,
   "id": "a1244ee1-2061-4270-a54a-2d6d56ea34ac",
   "metadata": {},
   "outputs": [
    {
     "name": "stdout",
     "output_type": "stream",
     "text": [
      "(array([ 58,  92,  94, 376], dtype=int64),)\n"
     ]
    },
    {
     "data": {
      "text/plain": [
       "[58, 92, 94, 376]"
      ]
     },
     "execution_count": 230,
     "metadata": {},
     "output_type": "execute_result"
    }
   ],
   "source": [
    "# Z score \n",
    "z = np.abs(stats.zscore(df['target']))\n",
    " \n",
    "# Position of the outlier\n",
    "print(np.where(z > 2.5))\n",
    "list(np.where(z > 2.5)[0])"
   ]
  },
  {
   "cell_type": "markdown",
   "id": "35bfb65f-b9fe-471a-8dc9-32b9f07e5516",
   "metadata": {},
   "source": [
    "**Takeaway:** From a visual standpoint, the boxplot only shows one clear outlier on the lower end of the distribution. However, when conducting the z-score calculation at ±2.5 away from the σ, we detected 4 outliers.\n",
    "\n",
    "**Note:** Now, we will proceed in doing the same thing with each continuous independent variable"
   ]
  },
  {
   "cell_type": "code",
   "execution_count": 231,
   "id": "bcebf70c-a521-4f48-948c-f00cb01abf2a",
   "metadata": {},
   "outputs": [
    {
     "name": "stdout",
     "output_type": "stream",
     "text": [
      "- No outliers detected for the GRE Score variable\n",
      "- The TOEFL Score variable has 1 outliers as follows: [92]\n",
      "- No outliers detected for the University Rating variable\n",
      "- No outliers detected for the SOP variable\n",
      "- The LOR variable has 1 outliers as follows: [1.0]\n",
      "- The CGPA variable has 1 outliers as follows: [6.8]\n",
      "- No outliers detected for the Research variable\n",
      "- The target variable has 4 outliers as follows: [0.36, 0.34, 0.36, 0.34]\n"
     ]
    }
   ],
   "source": [
    "# Detecting outliers using z-score\n",
    "def outliers_detection(data, threshold=2.5):\n",
    "    \"\"\" Function to detect outliers\n",
    "    \n",
    "    Parameters\n",
    "    ----------\n",
    "    data : dataframe\n",
    "        A dataset\n",
    "    threshold:\n",
    "        The threshold at which a value is an outlier\n",
    "        ±2.5σ from the µ\n",
    "\n",
    "    Returns\n",
    "    -------\n",
    "    data\n",
    "        a dataframe with no missing values \n",
    "        either after imputation or original format\n",
    "    \"\"\"\n",
    "    for col in data.columns:\n",
    "        # Calculating the z-score for each predictor\n",
    "        var = data[col]\n",
    "        z = np.abs(stats.zscore(var))\n",
    "\n",
    "        # Outlier\n",
    "        pos = list(np.where(z > threshold)[0])\n",
    "        no_of_outliers = len(pos)\n",
    "        if no_of_outliers > 0:\n",
    "            outliers = list(var[pos])\n",
    "            print(\"- The\", col, \"variable has\", no_of_outliers, \"outliers as follows:\", outliers)\n",
    "\n",
    "        else:\n",
    "            print(\"- No outliers detected for the\", col, \"variable\")\n",
    "    \n",
    "outliers_detection(df)"
   ]
  },
  {
   "cell_type": "markdown",
   "id": "f27c0a93-3f81-4e43-8074-42c1da40a9d7",
   "metadata": {},
   "source": [
    "**Takeaway:** As we thought about handling those outliers, we decided to keep them all since ggood data science practices advocates to conserve as many data points as possible. Thus, allowing us to limit the biases simply to produce a better fitting model or statistically significant results."
   ]
  },
  {
   "cell_type": "code",
   "execution_count": 232,
   "id": "cf64df56-c2e3-429f-8689-b39018a68bfb",
   "metadata": {},
   "outputs": [
    {
     "data": {
      "image/png": "[encoded data removed]",
      "text/plain": [
       "<Figure size 1368x1080 with 2 Axes>"
      ]
     },
     "metadata": {},
     "output_type": "display_data"
    }
   ],
   "source": [
    "# Correlation Matrix\n",
    "f = plt.figure(figsize=(19, 15))\n",
    "matrix = df.corr().round(2)\n",
    "mask = np.triu(np.ones_like(matrix, dtype=bool))\n",
    "sns.heatmap(matrix, annot=True, vmax=1, vmin=-1, \n",
    "            center=0, cmap='vlag', mask=mask)\n",
    "plt.show()"
   ]
  },
  {
   "cell_type": "markdown",
   "id": "14df3f8b-e8e5-424a-9a1e-5f233cff216a",
   "metadata": {},
   "source": [
    "**Takeaway:** From the correlation plot, we can determine a few correlated relationships between the independent variable as well as with respect to the target variable. For instnace, the GRE Score and TOEFL Scores are a high correlation coefficient of 0.83 while the CGPA and Adimission probabilty is 0.88"
   ]
  },
  {
   "cell_type": "markdown",
   "id": "7259a547-d44b-4038-82a2-fb8e8d50ff45",
   "metadata": {
    "tags": []
   },
   "source": [
    "# 4. Inquiry Exploration"
   ]
  },
  {
   "cell_type": "markdown",
   "id": "directed-trinity",
   "metadata": {
    "papermill": {
     "duration": 0.021284,
     "end_time": "2021-05-04T14:04:49.121166",
     "exception": false,
     "start_time": "2021-05-04T14:04:49.099882",
     "status": "completed"
    },
    "tags": []
   },
   "source": [
    "### What is the distribution of our continuous predictors?"
   ]
  },
  {
   "cell_type": "code",
   "execution_count": 233,
   "id": "painful-numbers",
   "metadata": {
    "papermill": {
     "duration": 0.261496,
     "end_time": "2021-05-04T14:04:49.455331",
     "exception": false,
     "start_time": "2021-05-04T14:04:49.193835",
     "status": "completed"
    },
    "tags": []
   },
   "outputs": [
    {
     "data": {
      "image/png": "[encoded data removed]",
      "text/plain": [
       "<Figure size 864x576 with 1 Axes>"
      ]
     },
     "metadata": {},
     "output_type": "display_data"
    }
   ],
   "source": [
    "# Isolating the continous variables\n",
    "cont_vars = ['SOP', 'LOR', 'CGPA']\n",
    "\n",
    "# Plotting the violin plots\n",
    "sns.violinplot(data=df[cont_vars], orient='h')\n",
    "plt.title(\"Distrbituion of continuous predictors\")\n",
    "plt.show()"
   ]
  },
  {
   "cell_type": "markdown",
   "id": "0ed367a4-991c-42c1-ab4b-c47a2c08c8e1",
   "metadata": {},
   "source": [
    "**Takeaway:** In the chart above, we can observe a fairly normal distrbution across all three variables thus, reassuring us of the normality withing our data,."
   ]
  },
  {
   "cell_type": "markdown",
   "id": "581211f7-2de2-4d2c-b328-70322e544ec3",
   "metadata": {},
   "source": [
    "### Is there a cluster of admitted (prob >= 0.75) and non-admitted by GRE & TOEFL Scores?"
   ]
  },
  {
   "cell_type": "code",
   "execution_count": 234,
   "id": "formal-chorus",
   "metadata": {
    "papermill": {
     "duration": 0.617267,
     "end_time": "2021-05-04T14:04:50.096151",
     "exception": false,
     "start_time": "2021-05-04T14:04:49.478884",
     "status": "completed"
    },
    "tags": []
   },
   "outputs": [
    {
     "data": {
      "image/png": "[encoded data removed]",
      "text/plain": [
       "<Figure size 864x576 with 2 Axes>"
      ]
     },
     "metadata": {},
     "output_type": "display_data"
    }
   ],
   "source": [
    "# Making a categorical target varibale using a threshold\n",
    "df['admin_binary'] = np.where(df['target'] >= 0.75, 'Yes', 'No')\n",
    "\n",
    "# Ploting the TOEFL & GRE Scores accordingly\n",
    "fig = plt.figure()\n",
    "gs = fig.add_gridspec(1, 2, hspace=0.2, wspace=0.2)\n",
    "(ax1, ax2) = gs.subplots(sharex=False, sharey=True)\n",
    "sns.histplot(ax=ax1, data=df, x = 'GRE Score', hue='admin_binary')\n",
    "sns.histplot(ax=ax2, data=df, x = 'TOEFL Score', hue='admin_binary')\n",
    "plt.show()"
   ]
  },
  {
   "cell_type": "markdown",
   "id": "expensive-barrel",
   "metadata": {
    "papermill": {
     "duration": 0.024037,
     "end_time": "2021-05-04T14:04:50.144701",
     "exception": false,
     "start_time": "2021-05-04T14:04:50.120664",
     "status": "completed"
    },
    "tags": []
   },
   "source": [
    "### How does the Undergrad GPA affect Masters Program Admissions given research experience?"
   ]
  },
  {
   "cell_type": "code",
   "execution_count": 235,
   "id": "literary-embassy",
   "metadata": {
    "papermill": {
     "duration": 0.553206,
     "end_time": "2021-05-04T14:04:50.722280",
     "exception": false,
     "start_time": "2021-05-04T14:04:50.169074",
     "status": "completed"
    },
    "tags": []
   },
   "outputs": [
    {
     "data": {
      "image/png": "[encoded data removed]",
      "text/plain": [
       "<Figure size 432x432 with 3 Axes>"
      ]
     },
     "metadata": {},
     "output_type": "display_data"
    }
   ],
   "source": [
    "sns.jointplot(data=df, x='CGPA', y='target', hue='Research')\n",
    "plt.show()"
   ]
  },
  {
   "cell_type": "markdown",
   "id": "43d3dd33-6301-4b16-8e8d-25445500d61e",
   "metadata": {},
   "source": [
    "**Takeaway:** With the multiplot shown of admissiong probability with respect to College GPA, there appreaws to be a strong correlated relationship. Though they are not as clearly seperated, the clusters of those with higher results and research experience stands a better chance of admission compared to their counterparts with no research experince and average to low GPA."
   ]
  },
  {
   "cell_type": "markdown",
   "id": "external-adaptation",
   "metadata": {
    "papermill": {
     "duration": 0.026106,
     "end_time": "2021-05-04T14:04:50.775581",
     "exception": false,
     "start_time": "2021-05-04T14:04:50.749475",
     "status": "completed"
    },
    "tags": []
   },
   "source": [
    "### Would the undergrad's college/university strenghten application statements and recommendations?"
   ]
  },
  {
   "cell_type": "code",
   "execution_count": 236,
   "id": "minus-shame",
   "metadata": {
    "papermill": {
     "duration": 1.056726,
     "end_time": "2021-05-04T14:04:51.858584",
     "exception": false,
     "start_time": "2021-05-04T14:04:50.801858",
     "status": "completed"
    },
    "tags": []
   },
   "outputs": [
    {
     "data": {
      "image/png": "[encoded data removed]",
      "text/plain": [
       "<Figure size 864x576 with 2 Axes>"
      ]
     },
     "metadata": {},
     "output_type": "display_data"
    }
   ],
   "source": [
    "fig = plt.figure()\n",
    "gs = fig.add_gridspec(2, 1, hspace=0.2, wspace=0.2)\n",
    "(ax1), (ax2) = gs.subplots(sharex=True, sharey=False)\n",
    "sns.barplot(ax=ax1, data=df, x='University Rating',  y='LOR', hue='admin_binary')\n",
    "sns.barplot(ax=ax2, data=df, x='University Rating',  y='SOP', hue='admin_binary')\n",
    "plt.show()"
   ]
  },
  {
   "cell_type": "markdown",
   "id": "5808b582-09c0-49ba-9bf1-e267e1336c19",
   "metadata": {},
   "source": [
    "**Takeaway:** In contrast to the clear seperation above, the university rating does not have a drastic effect on those predictors. It would indicates how much weight this variable has in the final decision process. "
   ]
  },
  {
   "cell_type": "code",
   "execution_count": 237,
   "id": "d9e7f177-d7d8-42cc-b9c9-e5109c40e47a",
   "metadata": {},
   "outputs": [],
   "source": [
    "# Getting rid of the categorical transformation of the target variable\n",
    "df.drop(['admin_binary'], inplace=True, axis=1)"
   ]
  },
  {
   "cell_type": "markdown",
   "id": "1354e88b-3ea4-4fba-9eeb-c7ce46403be9",
   "metadata": {
    "tags": []
   },
   "source": [
    "# 6. Feature Engineering"
   ]
  },
  {
   "cell_type": "markdown",
   "id": "aff58a4d-f6c8-4bee-b8d5-d406464e4e72",
   "metadata": {},
   "source": [
    "**Note:** Based on the glimpse into the dataset, it appears that we have two categorical variables \n",
    "that are University Rating and Research being of type ordinal and binary respectively. \n",
    "In that vein, we will proceed in encoding them accordingly."
   ]
  },
  {
   "cell_type": "code",
   "execution_count": 238,
   "id": "f6d81651-771d-4150-aab2-338af270eb8e",
   "metadata": {},
   "outputs": [
    {
     "name": "stdout",
     "output_type": "stream",
     "text": [
      "Enconding recursively the binary and nominal variables\n",
      "All ordinal variables are encoded together with the list of mapping dict\n"
     ]
    },
    {
     "data": {
      "text/html": [
       "<div>\n",
       "<style scoped>\n",
       "    .dataframe tbody tr th:only-of-type {\n",
       "        vertical-align: middle;\n",
       "    }\n",
       "\n",
       "    .dataframe tbody tr th {\n",
       "        vertical-align: top;\n",
       "    }\n",
       "\n",
       "    .dataframe thead th {\n",
       "        text-align: right;\n",
       "    }\n",
       "</style>\n",
       "<table border=\"1\" class=\"dataframe\">\n",
       "  <thead>\n",
       "    <tr style=\"text-align: right;\">\n",
       "      <th></th>\n",
       "      <th>GRE Score</th>\n",
       "      <th>TOEFL Score</th>\n",
       "      <th>University Rating</th>\n",
       "      <th>SOP</th>\n",
       "      <th>LOR</th>\n",
       "      <th>CGPA</th>\n",
       "      <th>Research_0</th>\n",
       "      <th>Research_1</th>\n",
       "      <th>target</th>\n",
       "    </tr>\n",
       "  </thead>\n",
       "  <tbody>\n",
       "    <tr>\n",
       "      <th>0</th>\n",
       "      <td>337</td>\n",
       "      <td>118</td>\n",
       "      <td>4</td>\n",
       "      <td>8</td>\n",
       "      <td>8</td>\n",
       "      <td>9.65</td>\n",
       "      <td>0</td>\n",
       "      <td>1</td>\n",
       "      <td>0.92</td>\n",
       "    </tr>\n",
       "    <tr>\n",
       "      <th>1</th>\n",
       "      <td>324</td>\n",
       "      <td>107</td>\n",
       "      <td>4</td>\n",
       "      <td>7</td>\n",
       "      <td>8</td>\n",
       "      <td>8.87</td>\n",
       "      <td>0</td>\n",
       "      <td>1</td>\n",
       "      <td>0.76</td>\n",
       "    </tr>\n",
       "    <tr>\n",
       "      <th>2</th>\n",
       "      <td>316</td>\n",
       "      <td>104</td>\n",
       "      <td>3</td>\n",
       "      <td>5</td>\n",
       "      <td>6</td>\n",
       "      <td>8.00</td>\n",
       "      <td>0</td>\n",
       "      <td>1</td>\n",
       "      <td>0.72</td>\n",
       "    </tr>\n",
       "    <tr>\n",
       "      <th>3</th>\n",
       "      <td>322</td>\n",
       "      <td>110</td>\n",
       "      <td>3</td>\n",
       "      <td>6</td>\n",
       "      <td>4</td>\n",
       "      <td>8.67</td>\n",
       "      <td>0</td>\n",
       "      <td>1</td>\n",
       "      <td>0.80</td>\n",
       "    </tr>\n",
       "    <tr>\n",
       "      <th>4</th>\n",
       "      <td>314</td>\n",
       "      <td>103</td>\n",
       "      <td>2</td>\n",
       "      <td>3</td>\n",
       "      <td>5</td>\n",
       "      <td>8.21</td>\n",
       "      <td>1</td>\n",
       "      <td>0</td>\n",
       "      <td>0.65</td>\n",
       "    </tr>\n",
       "  </tbody>\n",
       "</table>\n",
       "</div>"
      ],
      "text/plain": [
       "   GRE Score  TOEFL Score  University Rating  SOP  LOR  CGPA  Research_0  \\\n",
       "0        337          118                  4    8    8  9.65           0   \n",
       "1        324          107                  4    7    8  8.87           0   \n",
       "2        316          104                  3    5    6  8.00           0   \n",
       "3        322          110                  3    6    4  8.67           0   \n",
       "4        314          103                  2    3    5  8.21           1   \n",
       "\n",
       "   Research_1  target  \n",
       "0           1    0.92  \n",
       "1           1    0.76  \n",
       "2           1    0.72  \n",
       "3           1    0.80  \n",
       "4           0    0.65  "
      ]
     },
     "execution_count": 238,
     "metadata": {},
     "output_type": "execute_result"
    }
   ],
   "source": [
    "## Categorical Encoding\n",
    "def categorical_encoding(data, cat_vars):\n",
    "    \"\"\" Function encoding binary and nomial categorical variables\n",
    "    \n",
    "    Parameters\n",
    "    ----------\n",
    "    data : dataframe\n",
    "        A dataset\n",
    "    cat_vars:\n",
    "        A dictionary of categorical variables that are binary, nominal and/or ordinal.\n",
    "\n",
    "    Returns\n",
    "    -------\n",
    "    data\n",
    "        a dataframe with all categorical encoding transfomation\n",
    "    \"\"\"\n",
    "    # Creating a list with the ordinal variables and their mapping\n",
    "    ord_cols, ord_col_map = [], []\n",
    "    \n",
    "    # Assign appropriate encoder for each categorical variable\n",
    "    print(\"Enconding recursively the binary and nominal variables\")\n",
    "    for var, var_type in cat_vars.items():\n",
    "        if var_type == 'binary':\n",
    "            enc_bin = ce.BinaryEncoder(cols = [var], return_df = True)\n",
    "            data = enc_bin.fit_transform(data) \n",
    "        \n",
    "        elif var_type == 'nominal':\n",
    "            enc_nom = ce.OneHotEncoder(cols = [var], use_cat_names=True, \n",
    "                                   return_df = True)\n",
    "            data = enc_nom.fit_transform(data) \n",
    "            \n",
    "        elif var_type == 'ordinal':\n",
    "            ord_cols.append(var)\n",
    "            var_map = sorted(data[var].unique())\n",
    "            var_range = list(range(1, len(var_map)+1))\n",
    "            ord_col_map.append({\"col\": var, \"mapping\": {var_map[i]: var_range[i] \n",
    "                                                        for i in range(len(var_map))}})\n",
    "            data[var] = data[var].astype(object)\n",
    "        else:\n",
    "            print(\"Incorrect variable type\")\n",
    "\n",
    "    # Enconding all ordinal in bulk\n",
    "    print(\"All ordinal variables are encoded together with the list of mapping dict\")\n",
    "    ord_enc = ce.OrdinalEncoder(cols=ord_cols,\n",
    "                                mapping = ord_col_map, return_df = True)\n",
    "    data = ord_enc.fit_transform(data)  \n",
    "    \n",
    "    return data\n",
    "\n",
    "\n",
    "# Encoding all categorical variables\n",
    "cat_vars = {'University Rating': 'ordinal','Research': 'binary',\n",
    "           'SOP': 'ordinal', 'LOR': 'ordinal'}\n",
    "df = categorical_encoding(df, cat_vars=cat_vars)\n",
    "df.head()"
   ]
  },
  {
   "cell_type": "markdown",
   "id": "79f0729c-40e6-4851-9589-c18d8f072f43",
   "metadata": {},
   "source": [
    "**Note:** Given the differences in scales across the independent variables, we will proceed in standardizing them all with a preprocessing step in sklearn."
   ]
  },
  {
   "cell_type": "code",
   "execution_count": 239,
   "id": "2adafd00-2ceb-446b-887d-a351eb1d6c59",
   "metadata": {},
   "outputs": [
    {
     "name": "stdout",
     "output_type": "stream",
     "text": [
      "<class 'pandas.core.frame.DataFrame'>\n",
      "Int64Index: 500 entries, 0 to 499\n",
      "Data columns (total 9 columns):\n",
      " #   Column             Non-Null Count  Dtype  \n",
      "---  ------             --------------  -----  \n",
      " 0   GRE Score          500 non-null    int64  \n",
      " 1   TOEFL Score        500 non-null    int64  \n",
      " 2   University Rating  500 non-null    int32  \n",
      " 3   SOP                500 non-null    int32  \n",
      " 4   LOR                500 non-null    int32  \n",
      " 5   CGPA               500 non-null    float64\n",
      " 6   Research_0         500 non-null    int64  \n",
      " 7   Research_1         500 non-null    int64  \n",
      " 8   target             500 non-null    float64\n",
      "dtypes: float64(2), int32(3), int64(4)\n",
      "memory usage: 33.2 KB\n"
     ]
    }
   ],
   "source": [
    "df.info()"
   ]
  },
  {
   "cell_type": "code",
   "execution_count": 240,
   "id": "e990f0ad-5b09-4b06-8b00-6861e3baae4f",
   "metadata": {},
   "outputs": [
    {
     "data": {
      "text/html": [
       "<div>\n",
       "<style scoped>\n",
       "    .dataframe tbody tr th:only-of-type {\n",
       "        vertical-align: middle;\n",
       "    }\n",
       "\n",
       "    .dataframe tbody tr th {\n",
       "        vertical-align: top;\n",
       "    }\n",
       "\n",
       "    .dataframe thead th {\n",
       "        text-align: right;\n",
       "    }\n",
       "</style>\n",
       "<table border=\"1\" class=\"dataframe\">\n",
       "  <thead>\n",
       "    <tr style=\"text-align: right;\">\n",
       "      <th></th>\n",
       "      <th>GRE Score</th>\n",
       "      <th>TOEFL Score</th>\n",
       "      <th>University Rating</th>\n",
       "      <th>SOP</th>\n",
       "      <th>LOR</th>\n",
       "      <th>CGPA</th>\n",
       "      <th>Research_0</th>\n",
       "      <th>Research_1</th>\n",
       "      <th>target</th>\n",
       "    </tr>\n",
       "  </thead>\n",
       "  <tbody>\n",
       "    <tr>\n",
       "      <th>0</th>\n",
       "      <td>1.819238</td>\n",
       "      <td>1.778865</td>\n",
       "      <td>4</td>\n",
       "      <td>8</td>\n",
       "      <td>8</td>\n",
       "      <td>1.776806</td>\n",
       "      <td>0</td>\n",
       "      <td>1</td>\n",
       "      <td>0.92</td>\n",
       "    </tr>\n",
       "    <tr>\n",
       "      <th>1</th>\n",
       "      <td>0.667148</td>\n",
       "      <td>-0.031601</td>\n",
       "      <td>4</td>\n",
       "      <td>7</td>\n",
       "      <td>8</td>\n",
       "      <td>0.485859</td>\n",
       "      <td>0</td>\n",
       "      <td>1</td>\n",
       "      <td>0.76</td>\n",
       "    </tr>\n",
       "    <tr>\n",
       "      <th>2</th>\n",
       "      <td>-0.041830</td>\n",
       "      <td>-0.525364</td>\n",
       "      <td>3</td>\n",
       "      <td>5</td>\n",
       "      <td>6</td>\n",
       "      <td>-0.954043</td>\n",
       "      <td>0</td>\n",
       "      <td>1</td>\n",
       "      <td>0.72</td>\n",
       "    </tr>\n",
       "    <tr>\n",
       "      <th>3</th>\n",
       "      <td>0.489904</td>\n",
       "      <td>0.462163</td>\n",
       "      <td>3</td>\n",
       "      <td>6</td>\n",
       "      <td>4</td>\n",
       "      <td>0.154847</td>\n",
       "      <td>0</td>\n",
       "      <td>1</td>\n",
       "      <td>0.80</td>\n",
       "    </tr>\n",
       "    <tr>\n",
       "      <th>4</th>\n",
       "      <td>-0.219074</td>\n",
       "      <td>-0.689952</td>\n",
       "      <td>2</td>\n",
       "      <td>3</td>\n",
       "      <td>5</td>\n",
       "      <td>-0.606480</td>\n",
       "      <td>1</td>\n",
       "      <td>0</td>\n",
       "      <td>0.65</td>\n",
       "    </tr>\n",
       "  </tbody>\n",
       "</table>\n",
       "</div>"
      ],
      "text/plain": [
       "   GRE Score  TOEFL Score  University Rating  SOP  LOR      CGPA  Research_0  \\\n",
       "0   1.819238     1.778865                  4    8    8  1.776806           0   \n",
       "1   0.667148    -0.031601                  4    7    8  0.485859           0   \n",
       "2  -0.041830    -0.525364                  3    5    6 -0.954043           0   \n",
       "3   0.489904     0.462163                  3    6    4  0.154847           0   \n",
       "4  -0.219074    -0.689952                  2    3    5 -0.606480           1   \n",
       "\n",
       "   Research_1  target  \n",
       "0           1    0.92  \n",
       "1           1    0.76  \n",
       "2           1    0.72  \n",
       "3           1    0.80  \n",
       "4           0    0.65  "
      ]
     },
     "execution_count": 240,
     "metadata": {},
     "output_type": "execute_result"
    }
   ],
   "source": [
    "def var_scaling(data, cont_vars): \n",
    "    \"\"\" Function standardizing numerical variable of different scales\n",
    "    \n",
    "    Parameters\n",
    "    ----------\n",
    "    data : dataframe\n",
    "        A dataset\n",
    "        \n",
    "    Returns\n",
    "    -------\n",
    "    data\n",
    "        A standardized dataframe\n",
    "    \"\"\"\n",
    "    scaler = StandardScaler()\n",
    "    for col in cont_vars:\n",
    "        data[col] = scaler.fit_transform(data[col].values.reshape(-1, 1))\n",
    "    return data\n",
    "\n",
    "df = var_scaling(df, ['GRE Score', 'TOEFL Score', 'CGPA'])\n",
    "df.head()"
   ]
  },
  {
   "cell_type": "markdown",
   "id": "quick-conjunction",
   "metadata": {
    "papermill": {
     "duration": 0.023679,
     "end_time": "2021-05-04T14:04:48.108566",
     "exception": false,
     "start_time": "2021-05-04T14:04:48.084887",
     "status": "completed"
    },
    "tags": []
   },
   "source": [
    "# 5. Machine Learning set-up\n",
    "\n",
    "Under this section, we will explain the procedure of two main splitting approach to estimate our models' performance. "
   ]
  },
  {
   "cell_type": "markdown",
   "id": "92b4d1a0-1499-47dd-b48d-45a8d0806b2a",
   "metadata": {},
   "source": [
    "**Definition:** Often denoted as the most popular by its simplicity, the train-test split is a sampling technique dividing the dataset between training and testing sets. In doing so, the goal would be to have enough (but not too much) in our training set used for the machine learning model to predict the observations in the testing set as accurately as possible. Most would opt for a 70/30 training-testing split, respectively, others 80/20, 60/40, or whichever else works best for the case scenario. Further information [here](https://machinelearningmastery.com/train-test-split-for-evaluating-machine-learning-algorithms/). "
   ]
  },
  {
   "cell_type": "code",
   "execution_count": 252,
   "id": "b4f2b03b-5011-4e90-bf25-e64d920cd179",
   "metadata": {},
   "outputs": [],
   "source": [
    "def data_split(data, test_size=1/3, random_state=0):\n",
    "    \"\"\" Function to split data into training and testing set\n",
    "    \n",
    "    Parameters\n",
    "    ----------\n",
    "    data : dataframe\n",
    "        A dataset\n",
    "        \n",
    "    Returns\n",
    "    -------\n",
    "    X_train\n",
    "        Training set - input independent variable(s)\n",
    "    X_test\n",
    "        Testing set - input independent variable(s)\n",
    "    y_train\n",
    "        Training set - output dependent variable\n",
    "    y_test\n",
    "        Testing set - outpur dependent variable(s)\n",
    "    \"\"\"\n",
    "    # Splitting features & target variable\n",
    "    X = data.drop(['target'], axis=1).values\n",
    "    y = data['target'].values\n",
    "\n",
    "    # Returning the train_test_split sets\n",
    "    return train_test_split(X, y)"
   ]
  },
  {
   "cell_type": "markdown",
   "id": "057b049e-a356-4843-bad6-f735c2785cfa",
   "metadata": {},
   "source": [
    "**Definition:** As the name would suggest, we will engage here in the process of validation to ensure reliability on our model. Cross-Validation is a statistical method applied in various ways to estimate the model's performance. Some examples are **Holdout Method, K-Fold, Stratified K-Fold, Leave-P-Out.**  Further information [here](https://machinelearningmastery.com/k-fold-cross-validation/) and [here](https://towardsdatascience.com/cross-validation-in-machine-learning-72924a69872f)."
   ]
  },
  {
   "cell_type": "markdown",
   "id": "excessive-recall",
   "metadata": {
    "papermill": {
     "duration": 0.028095,
     "end_time": "2021-05-04T14:04:51.914510",
     "exception": false,
     "start_time": "2021-05-04T14:04:51.886415",
     "status": "completed"
    },
    "tags": []
   },
   "source": [
    "# 7. Machine Learning - Simple Models\n",
    "\n",
    "This section will leverage the powerful sci-kit-learn package to build multiple models with little to no parameter tuning for comparison. We will only use the cross-validation error on our training dataset to avoid any data leakage."
   ]
  },
  {
   "cell_type": "code",
   "execution_count": 255,
   "id": "386763ea-ac1c-4cd0-9556-5429306733e3",
   "metadata": {},
   "outputs": [],
   "source": [
    "def model_comparison(data, models):\n",
    "    \"\"\" Function to split data into training and testing set\n",
    "    \n",
    "    Parameters\n",
    "    ----------\n",
    "    data : dataframe\n",
    "        A dataset\n",
    "    models: A dictionary\n",
    "        A pre-defined dictionary with each model name and applicable function\n",
    "    optional train_test params\n",
    "    \n",
    "    Returns\n",
    "    -------\n",
    "    models_df\n",
    "        A dataframe with each model performance\n",
    "    \"\"\"\n",
    "    # Obtain training and testing sets from function above\n",
    "    X_train, X_test, y_train, y_test = data_split(data)\n",
    "    \n",
    "    # Craete dictionary to save data on model performance\n",
    "    models_perf = {'Models': [], 'CV_mean': [], 'CV_std': []}\n",
    "    \n",
    "    # Cross-Validation & model building\n",
    "    for name, model in models.items():\n",
    "        cv_results = cross_validate(model, X_train, y_train, \n",
    "                                    cv=10, scoring='neg_root_mean_squared_error')\n",
    "        n_scores = abs(cv_results['test_score'])\n",
    "        models_perf['Models'].append(name)\n",
    "        models_perf['CV_mean'].append(np.mean(n_scores))\n",
    "        models_perf['CV_std'].append(np.std(n_scores))\n",
    "    \n",
    "    models_df = pd.DataFrame(models_perf, columns = ['Models', 'CV_mean', 'CV_std'])\n",
    "    return models_df"
   ]
  },
  {
   "cell_type": "code",
   "execution_count": 256,
   "id": "1bbec898-c91c-4dea-b6b1-9231153dad56",
   "metadata": {},
   "outputs": [
    {
     "data": {
      "text/html": [
       "<div>\n",
       "<style scoped>\n",
       "    .dataframe tbody tr th:only-of-type {\n",
       "        vertical-align: middle;\n",
       "    }\n",
       "\n",
       "    .dataframe tbody tr th {\n",
       "        vertical-align: top;\n",
       "    }\n",
       "\n",
       "    .dataframe thead th {\n",
       "        text-align: right;\n",
       "    }\n",
       "</style>\n",
       "<table border=\"1\" class=\"dataframe\">\n",
       "  <thead>\n",
       "    <tr style=\"text-align: right;\">\n",
       "      <th></th>\n",
       "      <th>Models</th>\n",
       "      <th>CV_mean</th>\n",
       "      <th>CV_std</th>\n",
       "    </tr>\n",
       "  </thead>\n",
       "  <tbody>\n",
       "    <tr>\n",
       "      <th>0</th>\n",
       "      <td>Multiple Linear Regression</td>\n",
       "      <td>0.061277</td>\n",
       "      <td>0.006886</td>\n",
       "    </tr>\n",
       "    <tr>\n",
       "      <th>1</th>\n",
       "      <td>k-Nearest Neighbors Regressor</td>\n",
       "      <td>0.068667</td>\n",
       "      <td>0.008332</td>\n",
       "    </tr>\n",
       "    <tr>\n",
       "      <th>2</th>\n",
       "      <td>Decision Tree Regressor</td>\n",
       "      <td>0.100224</td>\n",
       "      <td>0.011611</td>\n",
       "    </tr>\n",
       "    <tr>\n",
       "      <th>3</th>\n",
       "      <td>Support Vector Regressor</td>\n",
       "      <td>0.074142</td>\n",
       "      <td>0.007039</td>\n",
       "    </tr>\n",
       "  </tbody>\n",
       "</table>\n",
       "</div>"
      ],
      "text/plain": [
       "                          Models   CV_mean    CV_std\n",
       "0     Multiple Linear Regression  0.061277  0.006886\n",
       "1  k-Nearest Neighbors Regressor  0.068667  0.008332\n",
       "2        Decision Tree Regressor  0.100224  0.011611\n",
       "3       Support Vector Regressor  0.074142  0.007039"
      ]
     },
     "execution_count": 256,
     "metadata": {},
     "output_type": "execute_result"
    }
   ],
   "source": [
    "# Dictionary to store model structures\n",
    "# Creating models\n",
    "models_simple = dict()\n",
    "\n",
    "# Addigin the different models\n",
    "models_simple.update({'Multiple Linear Regression':LinearRegression()})\n",
    "models_simple.update({'k-Nearest Neighbors Regressor':KNeighborsRegressor()})\n",
    "models_simple.update({'Decision Tree Regressor':DecisionTreeRegressor()})\n",
    "models_simple.update({'Support Vector Regressor':SVR()})\n",
    "\n",
    "model_comparison(df, models_simple)"
   ]
  },
  {
   "cell_type": "markdown",
   "id": "dd982390-ebbc-4ec8-8a43-54ff693095d0",
   "metadata": {},
   "source": [
    "**Takeaway:** Our best model is the Multiple linear regression with the lowest Cross-validated RMSE at ~0.06. The second best would be SVR instead of kNN because the lower standard deviation would indicate better reliability when thinking about scaling."
   ]
  },
  {
   "cell_type": "markdown",
   "id": "19466b67-4f13-4b45-bf93-ed8b11ed2853",
   "metadata": {},
   "source": [
    "# 8. Machine Learning - Ensemble Methods\n",
    "\n",
    "This section will extend our work in machine learning to incorporate ensemble methods. We generated simple models and compared the scores, which appear satisfactory, with the lowest cross validated RMSE at 0.06. In ourdesire greater performance and stability in our predictive algorithm, ensemble methods would prove more effective. Most often, they act as a 'superposer' of multiple models throughout various ways and thus, bolster their predictive power. Further Information [here](https://machinelearningmastery.com/tour-of-ensemble-learning-algorithms/). "
   ]
  },
  {
   "cell_type": "code",
   "execution_count": 258,
   "id": "56a04202-71f5-4555-9f74-5a7b48f92954",
   "metadata": {},
   "outputs": [
    {
     "data": {
      "text/html": [
       "<div>\n",
       "<style scoped>\n",
       "    .dataframe tbody tr th:only-of-type {\n",
       "        vertical-align: middle;\n",
       "    }\n",
       "\n",
       "    .dataframe tbody tr th {\n",
       "        vertical-align: top;\n",
       "    }\n",
       "\n",
       "    .dataframe thead th {\n",
       "        text-align: right;\n",
       "    }\n",
       "</style>\n",
       "<table border=\"1\" class=\"dataframe\">\n",
       "  <thead>\n",
       "    <tr style=\"text-align: right;\">\n",
       "      <th></th>\n",
       "      <th>Models</th>\n",
       "      <th>CV_mean</th>\n",
       "      <th>CV_std</th>\n",
       "    </tr>\n",
       "  </thead>\n",
       "  <tbody>\n",
       "    <tr>\n",
       "      <th>0</th>\n",
       "      <td>Random Forest Regressor</td>\n",
       "      <td>0.062902</td>\n",
       "      <td>0.010587</td>\n",
       "    </tr>\n",
       "    <tr>\n",
       "      <th>1</th>\n",
       "      <td>Stochastic Gradient Boosting Regressor</td>\n",
       "      <td>0.064029</td>\n",
       "      <td>0.012689</td>\n",
       "    </tr>\n",
       "    <tr>\n",
       "      <th>2</th>\n",
       "      <td>Stacking Regressor</td>\n",
       "      <td>0.061577</td>\n",
       "      <td>0.010433</td>\n",
       "    </tr>\n",
       "  </tbody>\n",
       "</table>\n",
       "</div>"
      ],
      "text/plain": [
       "                                   Models   CV_mean    CV_std\n",
       "0                 Random Forest Regressor  0.062902  0.010587\n",
       "1  Stochastic Gradient Boosting Regressor  0.064029  0.012689\n",
       "2                      Stacking Regressor  0.061577  0.010433"
      ]
     },
     "execution_count": 258,
     "metadata": {},
     "output_type": "execute_result"
    }
   ],
   "source": [
    "# Dictionary to store ensemble model structures\n",
    "models_ensemble = dict()\n",
    "\n",
    "# Adding Random Forest and SGB for regression\n",
    "models_ensemble.update({'Random Forest Regressor':RandomForestRegressor()})\n",
    "models_ensemble.update({'Stochastic Gradient Boosting Regressor':GradientBoostingRegressor()})\n",
    "\n",
    "## StackingClassifier (with two best models)\n",
    "stack_reg = StackingRegressor(estimators= [('svr', SVR())],\n",
    "                               final_estimator=LinearRegression())\n",
    "models_ensemble.update({'Stacking Regressor':stack_reg})\n",
    "\n",
    "model_comparison(df, models_ensemble)"
   ]
  },
  {
   "cell_type": "markdown",
   "id": "74e1a759-a60f-436f-9d29-9c4da813bff9",
   "metadata": {},
   "source": [
    "**Takeaway:** Based on the results, Stochastic Gradient Descent performs better than the other two ensemble methods while offering worse results than the Multiple Linear Regression. We would consider preferably the simple model that is the Multiple Linear Regression based on Occam's razor principles regarding complexity (Further information [here](https://math.ucr.edu/home/baez/physics/General/occam.html)). However, a more robust approach would take into account other metrics before recomming a final model for implementation and deployment into a real-world setting."
   ]
  },
  {
   "cell_type": "markdown",
   "id": "cb9adc54-45b9-4441-9eb7-9ed4bed65f3c",
   "metadata": {},
   "source": [
    "# 10. Model Performance Evaluation"
   ]
  },
  {
   "cell_type": "code",
   "execution_count": null,
   "id": "68658550-cfab-4d19-9714-09588a56287a",
   "metadata": {},
   "outputs": [],
   "source": [
    "# Define the metrics dictionary\n",
    "metrics = {}\n",
    "\n",
    "# Adding the desired metrics\n",
    "metrics.update({'R-Squared':'r2'})\n",
    "metrics.update({'MSE':'neg_mean_squared_error'})\n",
    "metrics.update({'RMSE':'neg_mean_absolute_error'})\n",
    "metrics.update({'MAE':'neg_root_mean_squared_error'})\n",
    "\n",
    "metrics"
   ]
  },
  {
   "cell_type": "code",
   "execution_count": null,
   "id": "b05d87fc-01ca-455a-8ba4-9ef12dcbeb6c",
   "metadata": {},
   "outputs": [],
   "source": [
    "# Function to evaluate model with a panoply of metrics\n",
    "def performance_metrics(model, X, y, cv, metrics):\n",
    "    '''Compiling multiple model metrics\n",
    "    '''\n",
    "    scoring = tuple(metrics.values())\n",
    "    names = list(metrics.keys())\n",
    "    \n",
    "    cv_results = cross_validate(model, X, y, cv=cv, \n",
    "                                scoring=scoring)\n",
    "    scores = [i for i in cv_results.keys() if 'test' in i]\n",
    "    \n",
    "    metrics_dict = {'Metrics': [],\n",
    "                    'CV_mean': [],\n",
    "                    'CV_std': [] }\n",
    "    \n",
    "    for idx in range(0, len(scores)):\n",
    "        score_values = abs(cv_results[scores[idx]])\n",
    "        metrics_dict['Metrics'].append(names[idx])\n",
    "        metrics_dict['CV_mean'].append(np.mean(score_values))\n",
    "        metrics_dict['CV_std'].append(np.std(score_values))\n",
    "    \n",
    "    metrics_df = pd.DataFrame(metrics_dict, columns = ['Metrics', 'CV_mean', 'CV_std'])\n",
    "    print(metrics_df, \"\\n\")"
   ]
  },
  {
   "cell_type": "code",
   "execution_count": null,
   "id": "0803e8be-31ed-4ee6-bafc-4d7b7860717d",
   "metadata": {},
   "outputs": [],
   "source": [
    "# Function Parameters\n",
    "X, y = X_train, y_train\n",
    "cv = 5\n",
    "metrics = metrics\n",
    "\n",
    "# Output\n",
    "models = [LinearRegression(), GradientBoostingRegressor()]\n",
    "for model in models:\n",
    "    print(\"Performance metrics for\", str(model))\n",
    "    performance_metrics(model, X, y, cv, metrics)"
   ]
  },
  {
   "cell_type": "code",
   "execution_count": null,
   "id": "646b8f6d-2fff-40a5-9595-8edf5f65e37a",
   "metadata": {},
   "outputs": [],
   "source": [
    "## Random Search\n",
    "\n",
    "# define search space\n",
    "linreg_space = {\n",
    "    'weights': ['uniform', 'distance'],\n",
    "    'metric': ['euclidean', 'manhattan', 'minkowski']\n",
    "            }\n",
    "sdg_space = {\n",
    "    'criterion': ['gini', 'entropy'],\n",
    "    'splitter': ['best', 'random']\n",
    "            }"
   ]
  },
  {
   "cell_type": "code",
   "execution_count": null,
   "id": "58622b5b-35f7-43f5-9589-99404631e79e",
   "metadata": {},
   "outputs": [],
   "source": []
  }
 ],
 "metadata": {
  "kernelspec": {
   "display_name": "Python 3 (ipykernel)",
   "language": "python",
   "name": "python3"
  },
  "language_info": {
   "codemirror_mode": {
    "name": "ipython",
    "version": 3
   },
   "file_extension": ".py",
   "mimetype": "text/x-python",
   "name": "python",
   "nbconvert_exporter": "python",
   "pygments_lexer": "ipython3",
   "version": "3.9.12"
  },
  "papermill": {
   "default_parameters": {},
   "duration": 18.948204,
   "end_time": "2021-05-04T14:04:56.943580",
   "environment_variables": {},
   "exception": null,
   "input_path": "__notebook__.ipynb",
   "output_path": "__notebook__.ipynb",
   "parameters": {},
   "start_time": "2021-05-04T14:04:37.995376",
   "version": "2.3.3"
  }
 },
 "nbformat": 4,
 "nbformat_minor": 5
}
