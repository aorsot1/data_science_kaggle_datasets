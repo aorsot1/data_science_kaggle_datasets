{
 "cells": [
  {
   "cell_type": "code",
   "execution_count": 1,
   "id": "covered-emperor",
   "metadata": {
    "_cell_guid": "b1076dfc-b9ad-4769-8c92-a6c4dae69d19",
    "_uuid": "8f2839f25d086af736a60e9eeb907d3b93b6e0e5",
    "execution": {
     "iopub.execute_input": "2021-04-21T01:24:46.983046Z",
     "iopub.status.busy": "2021-04-21T01:24:46.982340Z",
     "iopub.status.idle": "2021-04-21T01:24:48.739636Z",
     "shell.execute_reply": "2021-04-21T01:24:48.738906Z"
    },
    "papermill": {
     "duration": 1.791479,
     "end_time": "2021-04-21T01:24:48.739801",
     "exception": false,
     "start_time": "2021-04-21T01:24:46.948322",
     "status": "completed"
    },
    "tags": []
   },
   "outputs": [
    {
     "name": "stdout",
     "output_type": "stream",
     "text": [
      "/kaggle/input/drug-classification/drug200.csv\n"
     ]
    }
   ],
   "source": [
    "import operator as op\n",
    "import random\n",
    "random.seed(123)\n",
    "\n",
    "import numpy as np\n",
    "import pandas as pd\n",
    "\n",
    "from sklearn.naive_bayes import GaussianNB, MultinomialNB, BernoulliNB\n",
    "from sklearn.neighbors import KNeighborsClassifier\n",
    "from sklearn.linear_model import LogisticRegression\n",
    "from sklearn.tree import DecisionTreeClassifier\n",
    "from sklearn.model_selection import train_test_split, KFold, cross_val_score\n",
    "from sklearn.svm  import SVC\n",
    "import sklearn.metrics as skm\n",
    "\n",
    "import utils_data_prepping as udp\n",
    "import utils_clf_models as clf\n",
    "\n",
    "import matplotlib.pyplot as plt\n",
    "%matplotlib inline\n",
    "import seaborn as sns\n",
    "sns.set(rc={'figure.figsize':(12,8)})\n",
    "\n",
    "\n",
    "from sklearn.exceptions import ConvergenceWarning\n",
    "import warnings\n",
    "warnings.filterwarnings(\"ignore\")\n",
    "warnings.filterwarnings(\"ignore\", category=ConvergenceWarning,\n",
    "                        module=\"sklearn\")\n",
    "\n",
    "import os\n",
    "for dirname, _, filenames in os.walk('/kaggle/input'):\n",
    "    for filename in filenames:\n",
    "        print(os.path.join(dirname, filename))"
   ]
  },
  {
   "cell_type": "code",
   "execution_count": 2,
   "id": "velvet-layout",
   "metadata": {
    "execution": {
     "iopub.execute_input": "2021-04-21T01:24:48.786781Z",
     "iopub.status.busy": "2021-04-21T01:24:48.786138Z",
     "iopub.status.idle": "2021-04-21T01:24:48.826474Z",
     "shell.execute_reply": "2021-04-21T01:24:48.825943Z"
    },
    "papermill": {
     "duration": 0.064556,
     "end_time": "2021-04-21T01:24:48.826615",
     "exception": false,
     "start_time": "2021-04-21T01:24:48.762059",
     "status": "completed"
    },
    "tags": []
   },
   "outputs": [
    {
     "data": {
      "text/html": [
       "<div>\n",
       "<style scoped>\n",
       "    .dataframe tbody tr th:only-of-type {\n",
       "        vertical-align: middle;\n",
       "    }\n",
       "\n",
       "    .dataframe tbody tr th {\n",
       "        vertical-align: top;\n",
       "    }\n",
       "\n",
       "    .dataframe thead th {\n",
       "        text-align: right;\n",
       "    }\n",
       "</style>\n",
       "<table border=\"1\" class=\"dataframe\">\n",
       "  <thead>\n",
       "    <tr style=\"text-align: right;\">\n",
       "      <th></th>\n",
       "      <th>Age</th>\n",
       "      <th>Sex</th>\n",
       "      <th>BP</th>\n",
       "      <th>Cholesterol</th>\n",
       "      <th>Na_to_K</th>\n",
       "      <th>Drug</th>\n",
       "    </tr>\n",
       "  </thead>\n",
       "  <tbody>\n",
       "    <tr>\n",
       "      <th>0</th>\n",
       "      <td>23</td>\n",
       "      <td>F</td>\n",
       "      <td>HIGH</td>\n",
       "      <td>HIGH</td>\n",
       "      <td>25.355</td>\n",
       "      <td>DrugY</td>\n",
       "    </tr>\n",
       "    <tr>\n",
       "      <th>1</th>\n",
       "      <td>47</td>\n",
       "      <td>M</td>\n",
       "      <td>LOW</td>\n",
       "      <td>HIGH</td>\n",
       "      <td>13.093</td>\n",
       "      <td>drugC</td>\n",
       "    </tr>\n",
       "    <tr>\n",
       "      <th>2</th>\n",
       "      <td>47</td>\n",
       "      <td>M</td>\n",
       "      <td>LOW</td>\n",
       "      <td>HIGH</td>\n",
       "      <td>10.114</td>\n",
       "      <td>drugC</td>\n",
       "    </tr>\n",
       "    <tr>\n",
       "      <th>3</th>\n",
       "      <td>28</td>\n",
       "      <td>F</td>\n",
       "      <td>NORMAL</td>\n",
       "      <td>HIGH</td>\n",
       "      <td>7.798</td>\n",
       "      <td>drugX</td>\n",
       "    </tr>\n",
       "    <tr>\n",
       "      <th>4</th>\n",
       "      <td>61</td>\n",
       "      <td>F</td>\n",
       "      <td>LOW</td>\n",
       "      <td>HIGH</td>\n",
       "      <td>18.043</td>\n",
       "      <td>DrugY</td>\n",
       "    </tr>\n",
       "  </tbody>\n",
       "</table>\n",
       "</div>"
      ],
      "text/plain": [
       "   Age Sex      BP Cholesterol  Na_to_K   Drug\n",
       "0   23   F    HIGH        HIGH   25.355  DrugY\n",
       "1   47   M     LOW        HIGH   13.093  drugC\n",
       "2   47   M     LOW        HIGH   10.114  drugC\n",
       "3   28   F  NORMAL        HIGH    7.798  drugX\n",
       "4   61   F     LOW        HIGH   18.043  DrugY"
      ]
     },
     "execution_count": 2,
     "metadata": {},
     "output_type": "execute_result"
    }
   ],
   "source": [
    "df = pd.read_csv('/kaggle/input/drug-classification/drug200.csv')\n",
    "df.head()"
   ]
  },
  {
   "cell_type": "code",
   "execution_count": 3,
   "id": "average-heaven",
   "metadata": {
    "execution": {
     "iopub.execute_input": "2021-04-21T01:24:48.872985Z",
     "iopub.status.busy": "2021-04-21T01:24:48.872246Z",
     "iopub.status.idle": "2021-04-21T01:24:48.875232Z",
     "shell.execute_reply": "2021-04-21T01:24:48.875744Z"
    },
    "papermill": {
     "duration": 0.028925,
     "end_time": "2021-04-21T01:24:48.875935",
     "exception": false,
     "start_time": "2021-04-21T01:24:48.847010",
     "status": "completed"
    },
    "tags": []
   },
   "outputs": [
    {
     "data": {
      "text/plain": [
       "(200, 6)"
      ]
     },
     "execution_count": 3,
     "metadata": {},
     "output_type": "execute_result"
    }
   ],
   "source": [
    "df.shape"
   ]
  },
  {
   "cell_type": "code",
   "execution_count": 4,
   "id": "virtual-dayton",
   "metadata": {
    "execution": {
     "iopub.execute_input": "2021-04-21T01:24:48.921500Z",
     "iopub.status.busy": "2021-04-21T01:24:48.920808Z",
     "iopub.status.idle": "2021-04-21T01:24:48.929674Z",
     "shell.execute_reply": "2021-04-21T01:24:48.928995Z"
    },
    "papermill": {
     "duration": 0.032838,
     "end_time": "2021-04-21T01:24:48.929841",
     "exception": false,
     "start_time": "2021-04-21T01:24:48.897003",
     "status": "completed"
    },
    "tags": []
   },
   "outputs": [
    {
     "data": {
      "text/plain": [
       "array(['DrugY', 'drugC', 'drugX', 'drugA', 'drugB'], dtype=object)"
      ]
     },
     "execution_count": 4,
     "metadata": {},
     "output_type": "execute_result"
    }
   ],
   "source": [
    "df['Drug'].unique()"
   ]
  },
  {
   "cell_type": "code",
   "execution_count": 5,
   "id": "unauthorized-castle",
   "metadata": {
    "execution": {
     "iopub.execute_input": "2021-04-21T01:24:48.984563Z",
     "iopub.status.busy": "2021-04-21T01:24:48.983510Z",
     "iopub.status.idle": "2021-04-21T01:24:48.993825Z",
     "shell.execute_reply": "2021-04-21T01:24:48.994311Z"
    },
    "papermill": {
     "duration": 0.041748,
     "end_time": "2021-04-21T01:24:48.994501",
     "exception": false,
     "start_time": "2021-04-21T01:24:48.952753",
     "status": "completed"
    },
    "tags": []
   },
   "outputs": [
    {
     "name": "stdout",
     "output_type": "stream",
     "text": [
      "<class 'pandas.core.frame.DataFrame'>\n",
      "RangeIndex: 200 entries, 0 to 199\n",
      "Data columns (total 6 columns):\n",
      " #   Column       Non-Null Count  Dtype  \n",
      "---  ------       --------------  -----  \n",
      " 0   Age          200 non-null    int64  \n",
      " 1   Sex          200 non-null    object \n",
      " 2   BP           200 non-null    object \n",
      " 3   Cholesterol  200 non-null    object \n",
      " 4   Na_to_K      200 non-null    float64\n",
      " 5   Drug         200 non-null    object \n",
      "dtypes: float64(1), int64(1), object(4)\n",
      "memory usage: 9.5+ KB\n"
     ]
    }
   ],
   "source": [
    "df.info()"
   ]
  },
  {
   "cell_type": "code",
   "execution_count": 6,
   "id": "complimentary-bibliography",
   "metadata": {
    "execution": {
     "iopub.execute_input": "2021-04-21T01:24:49.056158Z",
     "iopub.status.busy": "2021-04-21T01:24:49.055285Z",
     "iopub.status.idle": "2021-04-21T01:24:49.059665Z",
     "shell.execute_reply": "2021-04-21T01:24:49.059133Z"
    },
    "papermill": {
     "duration": 0.043523,
     "end_time": "2021-04-21T01:24:49.059801",
     "exception": false,
     "start_time": "2021-04-21T01:24:49.016278",
     "status": "completed"
    },
    "tags": []
   },
   "outputs": [
    {
     "data": {
      "text/html": [
       "<div>\n",
       "<style scoped>\n",
       "    .dataframe tbody tr th:only-of-type {\n",
       "        vertical-align: middle;\n",
       "    }\n",
       "\n",
       "    .dataframe tbody tr th {\n",
       "        vertical-align: top;\n",
       "    }\n",
       "\n",
       "    .dataframe thead th {\n",
       "        text-align: right;\n",
       "    }\n",
       "</style>\n",
       "<table border=\"1\" class=\"dataframe\">\n",
       "  <thead>\n",
       "    <tr style=\"text-align: right;\">\n",
       "      <th></th>\n",
       "      <th>Age</th>\n",
       "      <th>Na_to_K</th>\n",
       "      <th>Drug</th>\n",
       "      <th>Sex_cat</th>\n",
       "      <th>BP_cat</th>\n",
       "      <th>Cholesterol_cat</th>\n",
       "    </tr>\n",
       "  </thead>\n",
       "  <tbody>\n",
       "    <tr>\n",
       "      <th>0</th>\n",
       "      <td>23</td>\n",
       "      <td>25.355</td>\n",
       "      <td>DrugY</td>\n",
       "      <td>0</td>\n",
       "      <td>0</td>\n",
       "      <td>0</td>\n",
       "    </tr>\n",
       "    <tr>\n",
       "      <th>1</th>\n",
       "      <td>47</td>\n",
       "      <td>13.093</td>\n",
       "      <td>drugC</td>\n",
       "      <td>1</td>\n",
       "      <td>1</td>\n",
       "      <td>0</td>\n",
       "    </tr>\n",
       "    <tr>\n",
       "      <th>2</th>\n",
       "      <td>47</td>\n",
       "      <td>10.114</td>\n",
       "      <td>drugC</td>\n",
       "      <td>1</td>\n",
       "      <td>1</td>\n",
       "      <td>0</td>\n",
       "    </tr>\n",
       "    <tr>\n",
       "      <th>3</th>\n",
       "      <td>28</td>\n",
       "      <td>7.798</td>\n",
       "      <td>drugX</td>\n",
       "      <td>0</td>\n",
       "      <td>2</td>\n",
       "      <td>0</td>\n",
       "    </tr>\n",
       "    <tr>\n",
       "      <th>4</th>\n",
       "      <td>61</td>\n",
       "      <td>18.043</td>\n",
       "      <td>DrugY</td>\n",
       "      <td>0</td>\n",
       "      <td>1</td>\n",
       "      <td>0</td>\n",
       "    </tr>\n",
       "  </tbody>\n",
       "</table>\n",
       "</div>"
      ],
      "text/plain": [
       "   Age  Na_to_K   Drug  Sex_cat  BP_cat  Cholesterol_cat\n",
       "0   23   25.355  DrugY        0       0                0\n",
       "1   47   13.093  drugC        1       1                0\n",
       "2   47   10.114  drugC        1       1                0\n",
       "3   28    7.798  drugX        0       2                0\n",
       "4   61   18.043  DrugY        0       1                0"
      ]
     },
     "execution_count": 6,
     "metadata": {},
     "output_type": "execute_result"
    }
   ],
   "source": [
    "# Categorical Encoding \n",
    "cat_vars = ['Sex', 'BP', 'Cholesterol']\n",
    "for i in cat_vars:\n",
    "    df[i+\"_cat\"] = df[i].astype('category').cat.codes\n",
    "df.drop(cat_vars, axis=1, inplace=True)\n",
    "df.head()"
   ]
  },
  {
   "cell_type": "markdown",
   "id": "cellular-enhancement",
   "metadata": {
    "papermill": {
     "duration": 0.022495,
     "end_time": "2021-04-21T01:24:49.104620",
     "exception": false,
     "start_time": "2021-04-21T01:24:49.082125",
     "status": "completed"
    },
    "tags": []
   },
   "source": [
    "# Exploratory Data Analysis"
   ]
  },
  {
   "cell_type": "markdown",
   "id": "social-feature",
   "metadata": {
    "papermill": {
     "duration": 0.022069,
     "end_time": "2021-04-21T01:24:49.150163",
     "exception": false,
     "start_time": "2021-04-21T01:24:49.128094",
     "status": "completed"
    },
    "tags": []
   },
   "source": [
    "## 1. Distribution of target variable"
   ]
  },
  {
   "cell_type": "code",
   "execution_count": 7,
   "id": "eleven-scholarship",
   "metadata": {
    "execution": {
     "iopub.execute_input": "2021-04-21T01:24:49.220484Z",
     "iopub.status.busy": "2021-04-21T01:24:49.217639Z",
     "iopub.status.idle": "2021-04-21T01:24:49.429050Z",
     "shell.execute_reply": "2021-04-21T01:24:49.428495Z"
    },
    "papermill": {
     "duration": 0.256699,
     "end_time": "2021-04-21T01:24:49.429204",
     "exception": false,
     "start_time": "2021-04-21T01:24:49.172505",
     "status": "completed"
    },
    "tags": []
   },
   "outputs": [
    {
     "data": {
      "image/png": "[encoded data removed]",
      "text/plain": [
       "<Figure size 864x576 with 1 Axes>"
      ]
     },
     "metadata": {},
     "output_type": "display_data"
    }
   ],
   "source": [
    "sns.histplot(data=df, x='Drug')\n",
    "plt.show()"
   ]
  },
  {
   "cell_type": "markdown",
   "id": "enclosed-extent",
   "metadata": {
    "papermill": {
     "duration": 0.023191,
     "end_time": "2021-04-21T01:24:49.476011",
     "exception": false,
     "start_time": "2021-04-21T01:24:49.452820",
     "status": "completed"
    },
    "tags": []
   },
   "source": [
    "## 2. Visualization of entire dataset"
   ]
  },
  {
   "cell_type": "code",
   "execution_count": 8,
   "id": "metric-bishop",
   "metadata": {
    "execution": {
     "iopub.execute_input": "2021-04-21T01:24:49.533941Z",
     "iopub.status.busy": "2021-04-21T01:24:49.532765Z",
     "iopub.status.idle": "2021-04-21T01:24:49.816147Z",
     "shell.execute_reply": "2021-04-21T01:24:49.815518Z"
    },
    "papermill": {
     "duration": 0.314978,
     "end_time": "2021-04-21T01:24:49.816296",
     "exception": false,
     "start_time": "2021-04-21T01:24:49.501318",
     "status": "completed"
    },
    "tags": []
   },
   "outputs": [
    {
     "data": {
      "text/plain": [
       "<function matplotlib.pyplot.show(close=None, block=None)>"
      ]
     },
     "execution_count": 8,
     "metadata": {},
     "output_type": "execute_result"
    },
    {
     "data": {
      "image/png": "[encoded data removed]",
      "text/plain": [
       "<Figure size 864x576 with 2 Axes>"
      ]
     },
     "metadata": {},
     "output_type": "display_data"
    }
   ],
   "source": [
    "# Masking to show only one side of the matrix\n",
    "corr = np.corrcoef(df.corr())                        \n",
    "mask = np.zeros_like(corr)\n",
    "mask[np.triu_indices_from(mask)] = True\n",
    "\n",
    "# Axtual Correlation matrix as a heatmap\n",
    "sns.heatmap(df.corr(), annot=True, mask=mask, cmap=\"YlGnBu\")\n",
    "plt.show"
   ]
  },
  {
   "cell_type": "markdown",
   "id": "photographic-casino",
   "metadata": {
    "papermill": {
     "duration": 0.02502,
     "end_time": "2021-04-21T01:24:49.866513",
     "exception": false,
     "start_time": "2021-04-21T01:24:49.841493",
     "status": "completed"
    },
    "tags": []
   },
   "source": [
    "## 3. Relationship between Drug Cat and Na to Potassium Ration"
   ]
  },
  {
   "cell_type": "code",
   "execution_count": 9,
   "id": "developmental-plasma",
   "metadata": {
    "execution": {
     "iopub.execute_input": "2021-04-21T01:24:49.944277Z",
     "iopub.status.busy": "2021-04-21T01:24:49.941385Z",
     "iopub.status.idle": "2021-04-21T01:24:50.344384Z",
     "shell.execute_reply": "2021-04-21T01:24:50.344879Z"
    },
    "papermill": {
     "duration": 0.453518,
     "end_time": "2021-04-21T01:24:50.345066",
     "exception": false,
     "start_time": "2021-04-21T01:24:49.891548",
     "status": "completed"
    },
    "tags": []
   },
   "outputs": [
    {
     "data": {
      "image/png": "[encoded data removed]",
      "text/plain": [
       "<Figure size 864x576 with 1 Axes>"
      ]
     },
     "metadata": {},
     "output_type": "display_data"
    }
   ],
   "source": [
    "sns.histplot(data=df, x='Na_to_K', hue='Drug')\n",
    "plt.show()"
   ]
  },
  {
   "cell_type": "markdown",
   "id": "regulation-pepper",
   "metadata": {
    "papermill": {
     "duration": 0.026407,
     "end_time": "2021-04-21T01:24:50.397523",
     "exception": false,
     "start_time": "2021-04-21T01:24:50.371116",
     "status": "completed"
    },
    "tags": []
   },
   "source": [
    "# Model Building & Evaluation"
   ]
  },
  {
   "cell_type": "code",
   "execution_count": 10,
   "id": "electoral-conflict",
   "metadata": {
    "execution": {
     "iopub.execute_input": "2021-04-21T01:24:50.454486Z",
     "iopub.status.busy": "2021-04-21T01:24:50.453533Z",
     "iopub.status.idle": "2021-04-21T01:24:50.456936Z",
     "shell.execute_reply": "2021-04-21T01:24:50.456427Z"
    },
    "papermill": {
     "duration": 0.033587,
     "end_time": "2021-04-21T01:24:50.457070",
     "exception": false,
     "start_time": "2021-04-21T01:24:50.423483",
     "status": "completed"
    },
    "tags": []
   },
   "outputs": [],
   "source": [
    "# Dictionary with model scores\n",
    "models = {}"
   ]
  },
  {
   "cell_type": "markdown",
   "id": "western-configuration",
   "metadata": {
    "papermill": {
     "duration": 0.029471,
     "end_time": "2021-04-21T01:24:50.512566",
     "exception": false,
     "start_time": "2021-04-21T01:24:50.483095",
     "status": "completed"
    },
    "tags": []
   },
   "source": [
    "## 1. K-Nearest Neighbors"
   ]
  },
  {
   "cell_type": "code",
   "execution_count": 11,
   "id": "pregnant-rover",
   "metadata": {
    "execution": {
     "iopub.execute_input": "2021-04-21T01:24:50.592772Z",
     "iopub.status.busy": "2021-04-21T01:24:50.591693Z",
     "iopub.status.idle": "2021-04-21T01:24:51.026389Z",
     "shell.execute_reply": "2021-04-21T01:24:51.025499Z"
    },
    "papermill": {
     "duration": 0.483552,
     "end_time": "2021-04-21T01:24:51.026534",
     "exception": false,
     "start_time": "2021-04-21T01:24:50.542982",
     "status": "completed"
    },
    "tags": []
   },
   "outputs": [
    {
     "name": "stdout",
     "output_type": "stream",
     "text": [
      "              precision    recall  f1-score   support\n",
      "\n",
      "       DrugY       0.92      1.00      0.96        22\n",
      "       drugA       1.00      0.67      0.80         3\n",
      "       drugB       0.75      1.00      0.86         3\n",
      "       drugC       1.00      0.67      0.80         3\n",
      "       drugX       1.00      0.89      0.94         9\n",
      "\n",
      "    accuracy                           0.93        40\n",
      "   macro avg       0.93      0.84      0.87        40\n",
      "weighted avg       0.94      0.93      0.92        40\n",
      "\n"
     ]
    }
   ],
   "source": [
    "class knn():\n",
    "    def __init__(self, df, target):\n",
    "        self.df = df\n",
    "        self.target = target\n",
    "    \n",
    "    def pre_processing(self):\n",
    "        X = self.df.drop([self.target], axis=1).values\n",
    "        Y = self.df[self.target].values\n",
    "\n",
    "        self.X_train, self.X_test, self.Y_train, self.Y_test = train_test_split(X, Y, \n",
    "                                                            test_size = 0.2, \n",
    "                                                            random_state = 2)\n",
    "        return self\n",
    "        \n",
    "    def fit_pred_acc(self):\n",
    "        # Elbow method to find best fit\n",
    "        errors = {}    \n",
    "        for k in range(1, 10):\n",
    "            model_k = KNeighborsClassifier(n_neighbors=k)\n",
    "            scores = cross_val_score(model_k, self.X_train, \n",
    "                                     self.Y_train, \n",
    "                                     cv=20, scoring='accuracy')\n",
    "            errors[k] = scores.mean()\n",
    "#         plt.plot(list(errors.keys()), list(errors.values()))\n",
    "#         plt.xlabel('Value of K for KNN')\n",
    "#         plt.ylabel('Cross-validated accuracy')\n",
    "        k_best = max(errors.items(), key=op.itemgetter(1))[0]\n",
    "        clf = KNeighborsClassifier(n_neighbors=k_best)\n",
    "        clf.fit(self.X_train, self.Y_train)\n",
    "        pred = clf.predict(self.X_test)\n",
    "        print(skm.classification_report(self.Y_test, pred))\n",
    "        return round(skm.accuracy_score(self.Y_test, pred), 2)\n",
    "\n",
    "model = knn(df, 'Drug').pre_processing()\n",
    "models['knn'] = model.fit_pred_acc()"
   ]
  },
  {
   "cell_type": "code",
   "execution_count": 12,
   "id": "wrong-intelligence",
   "metadata": {
    "execution": {
     "iopub.execute_input": "2021-04-21T01:24:51.086775Z",
     "iopub.status.busy": "2021-04-21T01:24:51.086140Z",
     "iopub.status.idle": "2021-04-21T01:24:51.108713Z",
     "shell.execute_reply": "2021-04-21T01:24:51.109197Z"
    },
    "papermill": {
     "duration": 0.05625,
     "end_time": "2021-04-21T01:24:51.109372",
     "exception": false,
     "start_time": "2021-04-21T01:24:51.053122",
     "status": "completed"
    },
    "tags": []
   },
   "outputs": [
    {
     "name": "stdout",
     "output_type": "stream",
     "text": [
      "For the training set:\n",
      "Your model's performance is captured by the following performance evaluation:\n",
      "\n",
      "{'Accuracy': 0.65, 'Balanced Accuracy': 0.5421, 'AUC': 0.0, 'Precision': 0.6996, 'Recall': 0.65, 'F1_Score': 0.6263, 'log_loss': 3.9201}\n"
     ]
    },
    {
     "data": {
      "text/plain": [
       "<utils_clf_models.Classifier at 0x7f31f73ff550>"
      ]
     },
     "execution_count": 12,
     "metadata": {},
     "output_type": "execute_result"
    }
   ],
   "source": [
    "# Using utils\n",
    "X, y = udp.pre_processing(df, 'Drug')\n",
    "clf1 = clf.Classifier(X, y, 'knn')\n",
    "clf1.preprocess_split(0.3, 62)\n",
    "clf1.fit_predict()\n",
    "print('For the training set:')\n",
    "clf1.metrics(printing=True)"
   ]
  },
  {
   "cell_type": "markdown",
   "id": "express-principle",
   "metadata": {
    "papermill": {
     "duration": 0.026943,
     "end_time": "2021-04-21T01:24:51.163396",
     "exception": false,
     "start_time": "2021-04-21T01:24:51.136453",
     "status": "completed"
    },
    "tags": []
   },
   "source": [
    "## 2. Naive Bayes"
   ]
  },
  {
   "cell_type": "code",
   "execution_count": 13,
   "id": "interim-monster",
   "metadata": {
    "execution": {
     "iopub.execute_input": "2021-04-21T01:24:51.230526Z",
     "iopub.status.busy": "2021-04-21T01:24:51.228117Z",
     "iopub.status.idle": "2021-04-21T01:24:51.241456Z",
     "shell.execute_reply": "2021-04-21T01:24:51.241949Z"
    },
    "papermill": {
     "duration": 0.05192,
     "end_time": "2021-04-21T01:24:51.242127",
     "exception": false,
     "start_time": "2021-04-21T01:24:51.190207",
     "status": "completed"
    },
    "tags": []
   },
   "outputs": [
    {
     "name": "stdout",
     "output_type": "stream",
     "text": [
      "              precision    recall  f1-score   support\n",
      "\n",
      "       DrugY       1.00      0.89      0.94        18\n",
      "       drugA       1.00      1.00      1.00         7\n",
      "       drugB       0.80      1.00      0.89         4\n",
      "       drugC       0.83      1.00      0.91         5\n",
      "       drugX       1.00      1.00      1.00        16\n",
      "\n",
      "    accuracy                           0.96        50\n",
      "   macro avg       0.93      0.98      0.95        50\n",
      "weighted avg       0.97      0.96      0.96        50\n",
      "\n"
     ]
    }
   ],
   "source": [
    "class nb():\n",
    "    def __init__(self, df, target):\n",
    "        self.df = df\n",
    "        self.target = target\n",
    "    \n",
    "    def pre_processing(self):\n",
    "        X = self.df.drop([self.target], axis=1).values\n",
    "        Y = self.df[self.target].values\n",
    "\n",
    "        self.X_train, self.X_test, self.Y_train, self.Y_test = train_test_split(X, Y, \n",
    "                                                            test_size = 0.25, \n",
    "                                                            random_state = 9)\n",
    "        return self\n",
    "        \n",
    "    def fit_pred_acc(self):\n",
    "        # Elbow method to find best fit\n",
    "        clf = GaussianNB()\n",
    "        clf.fit(self.X_train, self.Y_train)  \n",
    "        pred = clf.predict(self.X_test)\n",
    "        drug_names = ['DrugY', 'drugA', 'drugB', 'drugC', 'drugX']\n",
    "        \n",
    "        print(skm.classification_report(self.Y_test, pred, target_names=drug_names))\n",
    "        return round(skm.accuracy_score(self.Y_test, pred), 2)\n",
    "\n",
    "model = nb(df, 'Drug')\n",
    "model = model.pre_processing()\n",
    "models['nb'] = model.fit_pred_acc() "
   ]
  },
  {
   "cell_type": "code",
   "execution_count": 14,
   "id": "vulnerable-reach",
   "metadata": {
    "execution": {
     "iopub.execute_input": "2021-04-21T01:24:51.306674Z",
     "iopub.status.busy": "2021-04-21T01:24:51.305925Z",
     "iopub.status.idle": "2021-04-21T01:24:51.325665Z",
     "shell.execute_reply": "2021-04-21T01:24:51.326215Z"
    },
    "papermill": {
     "duration": 0.056454,
     "end_time": "2021-04-21T01:24:51.326389",
     "exception": false,
     "start_time": "2021-04-21T01:24:51.269935",
     "status": "completed"
    },
    "tags": []
   },
   "outputs": [
    {
     "name": "stdout",
     "output_type": "stream",
     "text": [
      "For the training set:\n",
      "Your model's performance is captured by the following performance evaluation:\n",
      "\n",
      "{'Accuracy': 0.9333, 'Balanced Accuracy': 0.966, 'AUC': 0.0, 'Precision': 0.9438, 'Recall': 0.9333, 'F1_Score': 0.9351, 'log_loss': 0.3021}\n"
     ]
    },
    {
     "data": {
      "text/plain": [
       "<utils_clf_models.Classifier at 0x7f31f73ff7d0>"
      ]
     },
     "execution_count": 14,
     "metadata": {},
     "output_type": "execute_result"
    }
   ],
   "source": [
    "# Using utils\n",
    "X, y = udp.pre_processing(df, 'Drug')\n",
    "clf1 = clf.Classifier(X, y, 'guass_nb')\n",
    "clf1.preprocess_split(0.3, 142)\n",
    "clf1.fit_predict()\n",
    "print('For the training set:')\n",
    "clf1.metrics(printing=True)"
   ]
  },
  {
   "cell_type": "markdown",
   "id": "split-estimate",
   "metadata": {
    "papermill": {
     "duration": 0.028395,
     "end_time": "2021-04-21T01:24:51.384161",
     "exception": false,
     "start_time": "2021-04-21T01:24:51.355766",
     "status": "completed"
    },
    "tags": []
   },
   "source": [
    "## 3. Logistic Regression"
   ]
  },
  {
   "cell_type": "code",
   "execution_count": 15,
   "id": "recreational-milton",
   "metadata": {
    "execution": {
     "iopub.execute_input": "2021-04-21T01:24:51.451296Z",
     "iopub.status.busy": "2021-04-21T01:24:51.450525Z",
     "iopub.status.idle": "2021-04-21T01:24:51.511580Z",
     "shell.execute_reply": "2021-04-21T01:24:51.512136Z"
    },
    "papermill": {
     "duration": 0.099423,
     "end_time": "2021-04-21T01:24:51.512303",
     "exception": false,
     "start_time": "2021-04-21T01:24:51.412880",
     "status": "completed"
    },
    "tags": []
   },
   "outputs": [
    {
     "name": "stdout",
     "output_type": "stream",
     "text": [
      "              precision    recall  f1-score   support\n",
      "\n",
      "       DrugY       1.00      1.00      1.00        22\n",
      "       drugA       1.00      1.00      1.00         5\n",
      "       drugB       1.00      1.00      1.00         4\n",
      "       drugC       1.00      0.80      0.89         5\n",
      "       drugX       0.93      1.00      0.97        14\n",
      "\n",
      "    accuracy                           0.98        50\n",
      "   macro avg       0.99      0.96      0.97        50\n",
      "weighted avg       0.98      0.98      0.98        50\n",
      "\n"
     ]
    }
   ],
   "source": [
    "class logreg():\n",
    "    def __init__(self, df, target):\n",
    "        self.df = df\n",
    "        self.target = target\n",
    "    \n",
    "    def pre_processing(self):\n",
    "        X = self.df.drop([self.target], axis=1).values\n",
    "        Y = self.df[self.target].values\n",
    "\n",
    "        self.X_train, self.X_test, self.Y_train, self.Y_test = train_test_split(X, Y, \n",
    "                                                            test_size = 0.25, \n",
    "                                                            random_state = 16)\n",
    "        return self\n",
    "        \n",
    "    def fit_pred_acc(self):\n",
    "        # Elbow method to find best fit\n",
    "        clf = LogisticRegression()\n",
    "        clf.fit(self.X_train, self.Y_train)  \n",
    "        pred = clf.predict(self.X_test)\n",
    "        drug_names = ['DrugY', 'drugA', 'drugB', 'drugC', 'drugX']\n",
    "        \n",
    "        print(skm.classification_report(self.Y_test, pred, target_names=drug_names))\n",
    "        return round(skm.accuracy_score(self.Y_test, pred), 2)\n",
    "model = logreg(df, 'Drug')\n",
    "model = model.pre_processing()\n",
    "models['logreg'] = model.fit_pred_acc()"
   ]
  },
  {
   "cell_type": "code",
   "execution_count": 16,
   "id": "assured-vertex",
   "metadata": {
    "execution": {
     "iopub.execute_input": "2021-04-21T01:24:51.582107Z",
     "iopub.status.busy": "2021-04-21T01:24:51.581391Z",
     "iopub.status.idle": "2021-04-21T01:24:51.627616Z",
     "shell.execute_reply": "2021-04-21T01:24:51.626688Z"
    },
    "papermill": {
     "duration": 0.085993,
     "end_time": "2021-04-21T01:24:51.627765",
     "exception": false,
     "start_time": "2021-04-21T01:24:51.541772",
     "status": "completed"
    },
    "tags": []
   },
   "outputs": [
    {
     "name": "stdout",
     "output_type": "stream",
     "text": [
      "For the training set:\n",
      "Your model's performance is captured by the following performance evaluation:\n",
      "\n",
      "{'Accuracy': 0.8833, 'Balanced Accuracy': 0.8382, 'AUC': 0.0, 'Precision': 0.9312, 'Recall': 0.8833, 'F1_Score': 0.8936, 'log_loss': 0.2968}\n"
     ]
    },
    {
     "data": {
      "text/plain": [
       "<utils_clf_models.Classifier at 0x7f31f740c190>"
      ]
     },
     "execution_count": 16,
     "metadata": {},
     "output_type": "execute_result"
    }
   ],
   "source": [
    "# Using utils\n",
    "X, y = udp.pre_processing(df, 'Drug')\n",
    "clf1 = clf.Classifier(X, y, 'log_reg')\n",
    "clf1.preprocess_split(0.3, 62)\n",
    "clf1.fit_predict()\n",
    "print('For the training set:')\n",
    "clf1.metrics(printing=True)"
   ]
  },
  {
   "cell_type": "markdown",
   "id": "meaning-stations",
   "metadata": {
    "papermill": {
     "duration": 0.029203,
     "end_time": "2021-04-21T01:24:51.686626",
     "exception": false,
     "start_time": "2021-04-21T01:24:51.657423",
     "status": "completed"
    },
    "tags": []
   },
   "source": [
    "## 4. Decision Tree"
   ]
  },
  {
   "cell_type": "code",
   "execution_count": 17,
   "id": "nasty-brunei",
   "metadata": {
    "execution": {
     "iopub.execute_input": "2021-04-21T01:24:51.768231Z",
     "iopub.status.busy": "2021-04-21T01:24:51.763112Z",
     "iopub.status.idle": "2021-04-21T01:24:51.772733Z",
     "shell.execute_reply": "2021-04-21T01:24:51.773204Z"
    },
    "papermill": {
     "duration": 0.057061,
     "end_time": "2021-04-21T01:24:51.773399",
     "exception": false,
     "start_time": "2021-04-21T01:24:51.716338",
     "status": "completed"
    },
    "tags": []
   },
   "outputs": [
    {
     "name": "stdout",
     "output_type": "stream",
     "text": [
      "              precision    recall  f1-score   support\n",
      "\n",
      "       DrugY       1.00      1.00      1.00        33\n",
      "       drugA       1.00      1.00      1.00         8\n",
      "       drugB       1.00      1.00      1.00         4\n",
      "       drugC       1.00      1.00      1.00         3\n",
      "       drugX       1.00      1.00      1.00        12\n",
      "\n",
      "    accuracy                           1.00        60\n",
      "   macro avg       1.00      1.00      1.00        60\n",
      "weighted avg       1.00      1.00      1.00        60\n",
      "\n"
     ]
    }
   ],
   "source": [
    "class tree():\n",
    "    def __init__(self, df, target):\n",
    "        self.df = df\n",
    "        self.target = target\n",
    "    \n",
    "    def pre_processing(self):\n",
    "        X = self.df.drop([self.target], axis=1).values\n",
    "        Y = self.df[self.target].values\n",
    "\n",
    "        self.X_train, self.X_test, self.Y_train, self.Y_test = train_test_split(X, Y, \n",
    "                                                            test_size = 0.3, \n",
    "                                                            random_state = 2)\n",
    "        return self\n",
    "        \n",
    "    def fit_pred_acc(self):\n",
    "        # Elbow method to find best fit\n",
    "        clf = DecisionTreeClassifier()\n",
    "        clf.fit(self.X_train, self.Y_train)  \n",
    "        pred = clf.predict(self.X_test)\n",
    "        drug_names = ['DrugY', 'drugA', 'drugB', 'drugC', 'drugX']\n",
    "        \n",
    "        print(skm.classification_report(self.Y_test, pred, target_names=drug_names))\n",
    "        return round(skm.accuracy_score(self.Y_test, pred), 2)\n",
    "    \n",
    "model = tree(df, 'Drug')\n",
    "model = model.pre_processing()\n",
    "models['tree'] = model.fit_pred_acc()"
   ]
  },
  {
   "cell_type": "code",
   "execution_count": 18,
   "id": "earlier-creativity",
   "metadata": {
    "execution": {
     "iopub.execute_input": "2021-04-21T01:24:51.844190Z",
     "iopub.status.busy": "2021-04-21T01:24:51.842745Z",
     "iopub.status.idle": "2021-04-21T01:24:51.861916Z",
     "shell.execute_reply": "2021-04-21T01:24:51.862418Z"
    },
    "papermill": {
     "duration": 0.059111,
     "end_time": "2021-04-21T01:24:51.862606",
     "exception": false,
     "start_time": "2021-04-21T01:24:51.803495",
     "status": "completed"
    },
    "tags": []
   },
   "outputs": [
    {
     "name": "stdout",
     "output_type": "stream",
     "text": [
      "For the training set:\n",
      "Your model's performance is captured by the following performance evaluation:\n",
      "\n",
      "{'Accuracy': 0.9833, 'Balanced Accuracy': 0.99, 'AUC': 0.0, 'Precision': 0.984, 'Recall': 0.9833, 'F1_Score': 0.9833, 'log_loss': 0.5756}\n"
     ]
    },
    {
     "data": {
      "text/plain": [
       "<utils_clf_models.Classifier at 0x7f31f99b3310>"
      ]
     },
     "execution_count": 18,
     "metadata": {},
     "output_type": "execute_result"
    }
   ],
   "source": [
    "# Using utils\n",
    "X, y = udp.pre_processing(df, 'Drug')\n",
    "clf1 = clf.Classifier(X, y, 'tree')\n",
    "clf1.preprocess_split(0.3, 142)\n",
    "clf1.fit_predict()\n",
    "print('For the training set:')\n",
    "clf1.metrics(printing=True)"
   ]
  },
  {
   "cell_type": "markdown",
   "id": "earlier-shannon",
   "metadata": {
    "papermill": {
     "duration": 0.030474,
     "end_time": "2021-04-21T01:24:51.924037",
     "exception": false,
     "start_time": "2021-04-21T01:24:51.893563",
     "status": "completed"
    },
    "tags": []
   },
   "source": [
    "## 5. Support Vector Classifier"
   ]
  },
  {
   "cell_type": "code",
   "execution_count": 19,
   "id": "filled-conversion",
   "metadata": {
    "execution": {
     "iopub.execute_input": "2021-04-21T01:24:52.007587Z",
     "iopub.status.busy": "2021-04-21T01:24:51.997817Z",
     "iopub.status.idle": "2021-04-21T01:24:52.014890Z",
     "shell.execute_reply": "2021-04-21T01:24:52.014318Z"
    },
    "papermill": {
     "duration": 0.060205,
     "end_time": "2021-04-21T01:24:52.015083",
     "exception": false,
     "start_time": "2021-04-21T01:24:51.954878",
     "status": "completed"
    },
    "tags": []
   },
   "outputs": [
    {
     "name": "stdout",
     "output_type": "stream",
     "text": [
      "              precision    recall  f1-score   support\n",
      "\n",
      "       DrugY       0.87      1.00      0.93        13\n",
      "       drugA       1.00      1.00      1.00         2\n",
      "       drugB       1.00      1.00      1.00         1\n",
      "       drugC       0.00      0.00      0.00         2\n",
      "       drugX       0.92      0.92      0.92        12\n",
      "\n",
      "    accuracy                           0.90        30\n",
      "   macro avg       0.76      0.78      0.77        30\n",
      "weighted avg       0.84      0.90      0.87        30\n",
      "\n"
     ]
    }
   ],
   "source": [
    "class svc():\n",
    "    def __init__(self, df, target):\n",
    "        self.df = df\n",
    "        self.target = target\n",
    "    \n",
    "    def pre_processing(self):\n",
    "        X = self.df.drop([self.target], axis=1).values\n",
    "        Y = self.df[self.target].values\n",
    "\n",
    "        self.X_train, self.X_test, self.Y_train, self.Y_test = train_test_split(X, Y, \n",
    "                                                            test_size = 0.15, \n",
    "                                                            random_state = 64)\n",
    "        return self\n",
    "        \n",
    "    def fit_pred_acc(self):\n",
    "        # Elbow method to find best fit\n",
    "        clf = SVC(gamma='auto')\n",
    "        clf.fit(self.X_train, self.Y_train)  \n",
    "        pred = clf.predict(self.X_test)\n",
    "        drug_names = ['DrugY', 'drugA', 'drugB', 'drugC', 'drugX']\n",
    "        \n",
    "        print(skm.classification_report(self.Y_test, pred, target_names=drug_names))\n",
    "        return round(skm.accuracy_score(self.Y_test, pred), 2)\n",
    "    \n",
    "model = svc(df, 'Drug')\n",
    "model = model.pre_processing()\n",
    "models['svc'] = model.fit_pred_acc()"
   ]
  },
  {
   "cell_type": "code",
   "execution_count": 20,
   "id": "spread-medline",
   "metadata": {
    "execution": {
     "iopub.execute_input": "2021-04-21T01:24:52.082549Z",
     "iopub.status.busy": "2021-04-21T01:24:52.081874Z",
     "iopub.status.idle": "2021-04-21T01:24:52.085154Z",
     "shell.execute_reply": "2021-04-21T01:24:52.084518Z"
    },
    "papermill": {
     "duration": 0.038586,
     "end_time": "2021-04-21T01:24:52.085292",
     "exception": false,
     "start_time": "2021-04-21T01:24:52.046706",
     "status": "completed"
    },
    "tags": []
   },
   "outputs": [],
   "source": [
    "# Using utils\n",
    "# X, y = udp.pre_processing(df, 'Drug')\n",
    "# clf1 = clf.Classifier(X, y, 'svc')\n",
    "# clf1.preprocess_split(0.3, 62)\n",
    "# clf1.fit_predict()\n",
    "# print('For the training set:')\n",
    "# clf1.metrics(printing=True)"
   ]
  },
  {
   "cell_type": "code",
   "execution_count": 21,
   "id": "seeing-pitch",
   "metadata": {
    "execution": {
     "iopub.execute_input": "2021-04-21T01:24:52.158101Z",
     "iopub.status.busy": "2021-04-21T01:24:52.157458Z",
     "iopub.status.idle": "2021-04-21T01:24:52.161610Z",
     "shell.execute_reply": "2021-04-21T01:24:52.160940Z"
    },
    "papermill": {
     "duration": 0.045121,
     "end_time": "2021-04-21T01:24:52.161743",
     "exception": false,
     "start_time": "2021-04-21T01:24:52.116622",
     "status": "completed"
    },
    "tags": []
   },
   "outputs": [
    {
     "data": {
      "text/html": [
       "<div>\n",
       "<style scoped>\n",
       "    .dataframe tbody tr th:only-of-type {\n",
       "        vertical-align: middle;\n",
       "    }\n",
       "\n",
       "    .dataframe tbody tr th {\n",
       "        vertical-align: top;\n",
       "    }\n",
       "\n",
       "    .dataframe thead th {\n",
       "        text-align: right;\n",
       "    }\n",
       "</style>\n",
       "<table border=\"1\" class=\"dataframe\">\n",
       "  <thead>\n",
       "    <tr style=\"text-align: right;\">\n",
       "      <th></th>\n",
       "      <th>accuracy</th>\n",
       "    </tr>\n",
       "  </thead>\n",
       "  <tbody>\n",
       "    <tr>\n",
       "      <th>knn</th>\n",
       "      <td>0.92</td>\n",
       "    </tr>\n",
       "    <tr>\n",
       "      <th>nb</th>\n",
       "      <td>0.96</td>\n",
       "    </tr>\n",
       "    <tr>\n",
       "      <th>logreg</th>\n",
       "      <td>0.98</td>\n",
       "    </tr>\n",
       "    <tr>\n",
       "      <th>tree</th>\n",
       "      <td>1.00</td>\n",
       "    </tr>\n",
       "    <tr>\n",
       "      <th>svc</th>\n",
       "      <td>0.90</td>\n",
       "    </tr>\n",
       "  </tbody>\n",
       "</table>\n",
       "</div>"
      ],
      "text/plain": [
       "        accuracy\n",
       "knn         0.92\n",
       "nb          0.96\n",
       "logreg      0.98\n",
       "tree        1.00\n",
       "svc         0.90"
      ]
     },
     "execution_count": 21,
     "metadata": {},
     "output_type": "execute_result"
    }
   ],
   "source": [
    "scores_df = pd.DataFrame.from_dict(models, orient='index', \n",
    "                              columns = ['accuracy'])\n",
    "scores_df"
   ]
  }
 ],
 "metadata": {
  "kernelspec": {
   "display_name": "Python 3",
   "language": "python",
   "name": "python3"
  },
  "language_info": {
   "codemirror_mode": {
    "name": "ipython",
    "version": 3
   },
   "file_extension": ".py",
   "mimetype": "text/x-python",
   "name": "python",
   "nbconvert_exporter": "python",
   "pygments_lexer": "ipython3",
   "version": "3.7.9"
  },
  "papermill": {
   "default_parameters": {},
   "duration": 12.393206,
   "end_time": "2021-04-21T01:24:52.904056",
   "environment_variables": {},
   "exception": null,
   "input_path": "__notebook__.ipynb",
   "output_path": "__notebook__.ipynb",
   "parameters": {},
   "start_time": "2021-04-21T01:24:40.510850",
   "version": "2.3.2"
  }
 },
 "nbformat": 4,
 "nbformat_minor": 5
}
