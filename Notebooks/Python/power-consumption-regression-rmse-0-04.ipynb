{
 "cells": [
  {
   "cell_type": "code",
   "execution_count": 1,
   "metadata": {
    "_cell_guid": "b1076dfc-b9ad-4769-8c92-a6c4dae69d19",
    "_uuid": "8f2839f25d086af736a60e9eeb907d3b93b6e0e5",
    "execution": {
     "iopub.execute_input": "2021-05-14T15:59:31.199772Z",
     "iopub.status.busy": "2021-05-14T15:59:31.198971Z",
     "iopub.status.idle": "2021-05-14T15:59:32.654425Z",
     "shell.execute_reply": "2021-05-14T15:59:32.655014Z"
    },
    "papermill": {
     "duration": 1.479905,
     "end_time": "2021-05-14T15:59:32.655331",
     "exception": false,
     "start_time": "2021-05-14T15:59:31.175426",
     "status": "completed"
    },
    "tags": []
   },
   "outputs": [
    {
     "name": "stdout",
     "output_type": "stream",
     "text": [
      "/kaggle/input/electric-power-consumption-data-set/household_power_consumption.txt\n"
     ]
    }
   ],
   "source": [
    "import random \n",
    "random.seed(123)\n",
    "\n",
    "import numpy as np\n",
    "import pandas as pd \n",
    "import matplotlib.pyplot as plt\n",
    "import seaborn\n",
    "\n",
    "from sklearn.linear_model import LinearRegression, Ridge, Lasso, ElasticNet\n",
    "from sklearn.svm import SVR\n",
    "from sklearn.preprocessing import PolynomialFeatures\n",
    "from sklearn.tree import DecisionTreeRegressor\n",
    "from sklearn.svm import SVR\n",
    "import sklearn.metrics as skm\n",
    "from sklearn.model_selection import train_test_split\n",
    "import operator as op\n",
    "\n",
    "from sklearn.impute import SimpleImputer\n",
    "\n",
    "import seaborn as sns\n",
    "sns.set(rc={'figure.figsize': (12,8)})\n",
    "\n",
    "import os\n",
    "for dirname, _, filenames in os.walk('/kaggle/input'):\n",
    "    for filename in filenames:\n",
    "        print(os.path.join(dirname, filename))\n"
   ]
  },
  {
   "cell_type": "markdown",
   "metadata": {
    "papermill": {
     "duration": 0.013506,
     "end_time": "2021-05-14T15:59:32.683627",
     "exception": false,
     "start_time": "2021-05-14T15:59:32.670121",
     "status": "completed"
    },
    "tags": []
   },
   "source": [
    "# 1. Data Importing"
   ]
  },
  {
   "cell_type": "code",
   "execution_count": 2,
   "metadata": {
    "execution": {
     "iopub.execute_input": "2021-05-14T15:59:32.715096Z",
     "iopub.status.busy": "2021-05-14T15:59:32.714138Z",
     "iopub.status.idle": "2021-05-14T15:59:37.292022Z",
     "shell.execute_reply": "2021-05-14T15:59:37.291457Z"
    },
    "papermill": {
     "duration": 4.594634,
     "end_time": "2021-05-14T15:59:37.292182",
     "exception": false,
     "start_time": "2021-05-14T15:59:32.697548",
     "status": "completed"
    },
    "tags": []
   },
   "outputs": [
    {
     "name": "stderr",
     "output_type": "stream",
     "text": [
      "/opt/conda/lib/python3.7/site-packages/IPython/core/interactiveshell.py:3147: DtypeWarning: Columns (2,3,4,5,6,7) have mixed types.Specify dtype option on import or set low_memory=False.\n",
      "  interactivity=interactivity, compiler=compiler, result=result)\n"
     ]
    },
    {
     "data": {
      "text/html": [
       "<div>\n",
       "<style scoped>\n",
       "    .dataframe tbody tr th:only-of-type {\n",
       "        vertical-align: middle;\n",
       "    }\n",
       "\n",
       "    .dataframe tbody tr th {\n",
       "        vertical-align: top;\n",
       "    }\n",
       "\n",
       "    .dataframe thead th {\n",
       "        text-align: right;\n",
       "    }\n",
       "</style>\n",
       "<table border=\"1\" class=\"dataframe\">\n",
       "  <thead>\n",
       "    <tr style=\"text-align: right;\">\n",
       "      <th></th>\n",
       "      <th>Date</th>\n",
       "      <th>Time</th>\n",
       "      <th>Global_active_power</th>\n",
       "      <th>Global_reactive_power</th>\n",
       "      <th>Voltage</th>\n",
       "      <th>Global_intensity</th>\n",
       "      <th>Sub_metering_1</th>\n",
       "      <th>Sub_metering_2</th>\n",
       "      <th>Sub_metering_3</th>\n",
       "    </tr>\n",
       "  </thead>\n",
       "  <tbody>\n",
       "    <tr>\n",
       "      <th>0</th>\n",
       "      <td>16/12/2006</td>\n",
       "      <td>17:24:00</td>\n",
       "      <td>4.216</td>\n",
       "      <td>0.418</td>\n",
       "      <td>234.84</td>\n",
       "      <td>18.4</td>\n",
       "      <td>0.0</td>\n",
       "      <td>1.0</td>\n",
       "      <td>17.0</td>\n",
       "    </tr>\n",
       "    <tr>\n",
       "      <th>1</th>\n",
       "      <td>16/12/2006</td>\n",
       "      <td>17:25:00</td>\n",
       "      <td>5.360</td>\n",
       "      <td>0.436</td>\n",
       "      <td>233.63</td>\n",
       "      <td>23.0</td>\n",
       "      <td>0.0</td>\n",
       "      <td>1.0</td>\n",
       "      <td>16.0</td>\n",
       "    </tr>\n",
       "    <tr>\n",
       "      <th>2</th>\n",
       "      <td>16/12/2006</td>\n",
       "      <td>17:26:00</td>\n",
       "      <td>5.374</td>\n",
       "      <td>0.498</td>\n",
       "      <td>233.29</td>\n",
       "      <td>23.0</td>\n",
       "      <td>0.0</td>\n",
       "      <td>2.0</td>\n",
       "      <td>17.0</td>\n",
       "    </tr>\n",
       "    <tr>\n",
       "      <th>3</th>\n",
       "      <td>16/12/2006</td>\n",
       "      <td>17:27:00</td>\n",
       "      <td>5.388</td>\n",
       "      <td>0.502</td>\n",
       "      <td>233.74</td>\n",
       "      <td>23.0</td>\n",
       "      <td>0.0</td>\n",
       "      <td>1.0</td>\n",
       "      <td>17.0</td>\n",
       "    </tr>\n",
       "    <tr>\n",
       "      <th>4</th>\n",
       "      <td>16/12/2006</td>\n",
       "      <td>17:28:00</td>\n",
       "      <td>3.666</td>\n",
       "      <td>0.528</td>\n",
       "      <td>235.68</td>\n",
       "      <td>15.8</td>\n",
       "      <td>0.0</td>\n",
       "      <td>1.0</td>\n",
       "      <td>17.0</td>\n",
       "    </tr>\n",
       "  </tbody>\n",
       "</table>\n",
       "</div>"
      ],
      "text/plain": [
       "         Date      Time Global_active_power Global_reactive_power Voltage  \\\n",
       "0  16/12/2006  17:24:00               4.216                 0.418  234.84   \n",
       "1  16/12/2006  17:25:00               5.360                 0.436  233.63   \n",
       "2  16/12/2006  17:26:00               5.374                 0.498  233.29   \n",
       "3  16/12/2006  17:27:00               5.388                 0.502  233.74   \n",
       "4  16/12/2006  17:28:00               3.666                 0.528  235.68   \n",
       "\n",
       "  Global_intensity Sub_metering_1 Sub_metering_2  Sub_metering_3  \n",
       "0             18.4            0.0            1.0            17.0  \n",
       "1             23.0            0.0            1.0            16.0  \n",
       "2             23.0            0.0            2.0            17.0  \n",
       "3             23.0            0.0            1.0            17.0  \n",
       "4             15.8            0.0            1.0            17.0  "
      ]
     },
     "execution_count": 2,
     "metadata": {},
     "output_type": "execute_result"
    }
   ],
   "source": [
    "df = pd.read_csv('/kaggle/input/electric-power-consumption-data-set/household_power_consumption.txt',sep=\";\")\n",
    "df.head()"
   ]
  },
  {
   "cell_type": "code",
   "execution_count": 3,
   "metadata": {
    "execution": {
     "iopub.execute_input": "2021-05-14T15:59:37.339183Z",
     "iopub.status.busy": "2021-05-14T15:59:37.338266Z",
     "iopub.status.idle": "2021-05-14T15:59:37.341374Z",
     "shell.execute_reply": "2021-05-14T15:59:37.341861Z"
    },
    "papermill": {
     "duration": 0.034925,
     "end_time": "2021-05-14T15:59:37.342071",
     "exception": false,
     "start_time": "2021-05-14T15:59:37.307146",
     "status": "completed"
    },
    "tags": []
   },
   "outputs": [
    {
     "name": "stdout",
     "output_type": "stream",
     "text": [
      "<class 'pandas.core.frame.DataFrame'>\n",
      "RangeIndex: 2075259 entries, 0 to 2075258\n",
      "Data columns (total 9 columns):\n",
      " #   Column                 Dtype  \n",
      "---  ------                 -----  \n",
      " 0   Date                   object \n",
      " 1   Time                   object \n",
      " 2   Global_active_power    object \n",
      " 3   Global_reactive_power  object \n",
      " 4   Voltage                object \n",
      " 5   Global_intensity       object \n",
      " 6   Sub_metering_1         object \n",
      " 7   Sub_metering_2         object \n",
      " 8   Sub_metering_3         float64\n",
      "dtypes: float64(1), object(8)\n",
      "memory usage: 142.5+ MB\n"
     ]
    }
   ],
   "source": [
    "df.info()"
   ]
  },
  {
   "cell_type": "code",
   "execution_count": 4,
   "metadata": {
    "execution": {
     "iopub.execute_input": "2021-05-14T15:59:37.379374Z",
     "iopub.status.busy": "2021-05-14T15:59:37.378714Z",
     "iopub.status.idle": "2021-05-14T15:59:38.898190Z",
     "shell.execute_reply": "2021-05-14T15:59:38.897499Z"
    },
    "papermill": {
     "duration": 1.539591,
     "end_time": "2021-05-14T15:59:38.898344",
     "exception": false,
     "start_time": "2021-05-14T15:59:37.358753",
     "status": "completed"
    },
    "tags": []
   },
   "outputs": [
    {
     "data": {
      "text/plain": [
       "Date                         0\n",
       "Time                         0\n",
       "Global_active_power          0\n",
       "Global_reactive_power        0\n",
       "Voltage                      0\n",
       "Global_intensity             0\n",
       "Sub_metering_1               0\n",
       "Sub_metering_2               0\n",
       "Sub_metering_3           25979\n",
       "dtype: int64"
      ]
     },
     "execution_count": 4,
     "metadata": {},
     "output_type": "execute_result"
    }
   ],
   "source": [
    "# Count the number of null values\n",
    "df.isnull().sum()"
   ]
  },
  {
   "cell_type": "code",
   "execution_count": 5,
   "metadata": {
    "execution": {
     "iopub.execute_input": "2021-05-14T15:59:38.935613Z",
     "iopub.status.busy": "2021-05-14T15:59:38.934932Z",
     "iopub.status.idle": "2021-05-14T15:59:40.445179Z",
     "shell.execute_reply": "2021-05-14T15:59:40.444624Z"
    },
    "papermill": {
     "duration": 1.530996,
     "end_time": "2021-05-14T15:59:40.445319",
     "exception": false,
     "start_time": "2021-05-14T15:59:38.914323",
     "status": "completed"
    },
    "tags": []
   },
   "outputs": [
    {
     "data": {
      "text/plain": [
       "25979"
      ]
     },
     "execution_count": 5,
     "metadata": {},
     "output_type": "execute_result"
    }
   ],
   "source": [
    "df.isnull().any(axis = 1).sum()"
   ]
  },
  {
   "cell_type": "code",
   "execution_count": 6,
   "metadata": {
    "execution": {
     "iopub.execute_input": "2021-05-14T15:59:40.485089Z",
     "iopub.status.busy": "2021-05-14T15:59:40.483962Z",
     "iopub.status.idle": "2021-05-14T15:59:43.493686Z",
     "shell.execute_reply": "2021-05-14T15:59:43.492463Z"
    },
    "papermill": {
     "duration": 3.032177,
     "end_time": "2021-05-14T15:59:43.493870",
     "exception": false,
     "start_time": "2021-05-14T15:59:40.461693",
     "status": "completed"
    },
    "tags": []
   },
   "outputs": [
    {
     "name": "stdout",
     "output_type": "stream",
     "text": [
      "0.012518437457686004\n",
      "{'Date': 0.0, 'Time': 0.0, 'Global_active_power': 0.0, 'Global_reactive_power': 0.0, 'Voltage': 0.0, 'Global_intensity': 0.0, 'Sub_metering_1': 0.0, 'Sub_metering_2': 0.0, 'Sub_metering_3': 0.012518437457686004}\n"
     ]
    }
   ],
   "source": [
    "m, n = df.shape\n",
    "df_per = (df.isnull().sum().sum())/m\n",
    "col_pers = {}\n",
    "for i in df.columns:\n",
    "    col_pers[i] = (df[i].isnull().sum())/m\n",
    "\n",
    "print(df_per)\n",
    "print(col_pers)"
   ]
  },
  {
   "cell_type": "markdown",
   "metadata": {
    "papermill": {
     "duration": 0.016281,
     "end_time": "2021-05-14T15:59:43.526933",
     "exception": false,
     "start_time": "2021-05-14T15:59:43.510652",
     "status": "completed"
    },
    "tags": []
   },
   "source": [
    "# 2. Data Pre-Processing"
   ]
  },
  {
   "cell_type": "code",
   "execution_count": 7,
   "metadata": {
    "execution": {
     "iopub.execute_input": "2021-05-14T15:59:43.570483Z",
     "iopub.status.busy": "2021-05-14T15:59:43.569284Z",
     "iopub.status.idle": "2021-05-14T15:59:58.070637Z",
     "shell.execute_reply": "2021-05-14T15:59:58.069954Z"
    },
    "papermill": {
     "duration": 14.525905,
     "end_time": "2021-05-14T15:59:58.070805",
     "exception": false,
     "start_time": "2021-05-14T15:59:43.544900",
     "status": "completed"
    },
    "tags": []
   },
   "outputs": [
    {
     "name": "stdout",
     "output_type": "stream",
     "text": [
      "<class 'pandas.core.frame.DataFrame'>\n",
      "RangeIndex: 2075259 entries, 0 to 2075258\n",
      "Data columns (total 9 columns):\n",
      " #   Column                 Dtype  \n",
      "---  ------                 -----  \n",
      " 0   Date                   object \n",
      " 1   Time                   object \n",
      " 2   Global_active_power    float64\n",
      " 3   Global_reactive_power  float64\n",
      " 4   Voltage                float64\n",
      " 5   Global_intensity       float64\n",
      " 6   Sub_metering_1         float64\n",
      " 7   Sub_metering_2         float64\n",
      " 8   Sub_metering_3         float64\n",
      "dtypes: float64(7), object(2)\n",
      "memory usage: 142.5+ MB\n"
     ]
    }
   ],
   "source": [
    "# Feature Modification\n",
    "df['Date'] = df['Date'].astype(str)\n",
    "df['Time'] = df['Time'].astype(str)\n",
    "df.replace(['?', 'nan', np.nan], -1, inplace=True) \n",
    "num_vars= ['Global_active_power', 'Global_reactive_power', 'Voltage', \n",
    "           'Global_intensity', 'Sub_metering_1', 'Sub_metering_2', 'Sub_metering_3']\n",
    "for i in num_vars:\n",
    "    df[i] = pd.to_numeric(df[i])\n",
    "imp = SimpleImputer(missing_values=-1, strategy='mean')\n",
    "df[num_vars] = imp.fit_transform(df[num_vars])\n",
    "df.info()"
   ]
  },
  {
   "cell_type": "code",
   "execution_count": 8,
   "metadata": {
    "execution": {
     "iopub.execute_input": "2021-05-14T15:59:58.111302Z",
     "iopub.status.busy": "2021-05-14T15:59:58.110457Z",
     "iopub.status.idle": "2021-05-14T15:59:58.166958Z",
     "shell.execute_reply": "2021-05-14T15:59:58.166288Z"
    },
    "papermill": {
     "duration": 0.079057,
     "end_time": "2021-05-14T15:59:58.167103",
     "exception": false,
     "start_time": "2021-05-14T15:59:58.088046",
     "status": "completed"
    },
    "tags": []
   },
   "outputs": [
    {
     "data": {
      "text/html": [
       "<div>\n",
       "<style scoped>\n",
       "    .dataframe tbody tr th:only-of-type {\n",
       "        vertical-align: middle;\n",
       "    }\n",
       "\n",
       "    .dataframe tbody tr th {\n",
       "        vertical-align: top;\n",
       "    }\n",
       "\n",
       "    .dataframe thead th {\n",
       "        text-align: right;\n",
       "    }\n",
       "</style>\n",
       "<table border=\"1\" class=\"dataframe\">\n",
       "  <thead>\n",
       "    <tr style=\"text-align: right;\">\n",
       "      <th></th>\n",
       "      <th>Date</th>\n",
       "      <th>Time</th>\n",
       "      <th>Global_active_power</th>\n",
       "      <th>Global_reactive_power</th>\n",
       "      <th>Voltage</th>\n",
       "      <th>Global_intensity</th>\n",
       "      <th>Sub_metering_1</th>\n",
       "      <th>Sub_metering_2</th>\n",
       "      <th>Sub_metering_3</th>\n",
       "      <th>power_consumption</th>\n",
       "    </tr>\n",
       "  </thead>\n",
       "  <tbody>\n",
       "    <tr>\n",
       "      <th>0</th>\n",
       "      <td>16/12/2006</td>\n",
       "      <td>17:24:00</td>\n",
       "      <td>4.216</td>\n",
       "      <td>0.418</td>\n",
       "      <td>234.84</td>\n",
       "      <td>18.4</td>\n",
       "      <td>0.0</td>\n",
       "      <td>1.0</td>\n",
       "      <td>17.0</td>\n",
       "      <td>52.266667</td>\n",
       "    </tr>\n",
       "    <tr>\n",
       "      <th>1</th>\n",
       "      <td>16/12/2006</td>\n",
       "      <td>17:25:00</td>\n",
       "      <td>5.360</td>\n",
       "      <td>0.436</td>\n",
       "      <td>233.63</td>\n",
       "      <td>23.0</td>\n",
       "      <td>0.0</td>\n",
       "      <td>1.0</td>\n",
       "      <td>16.0</td>\n",
       "      <td>72.333333</td>\n",
       "    </tr>\n",
       "    <tr>\n",
       "      <th>2</th>\n",
       "      <td>16/12/2006</td>\n",
       "      <td>17:26:00</td>\n",
       "      <td>5.374</td>\n",
       "      <td>0.498</td>\n",
       "      <td>233.29</td>\n",
       "      <td>23.0</td>\n",
       "      <td>0.0</td>\n",
       "      <td>2.0</td>\n",
       "      <td>17.0</td>\n",
       "      <td>70.566667</td>\n",
       "    </tr>\n",
       "    <tr>\n",
       "      <th>3</th>\n",
       "      <td>16/12/2006</td>\n",
       "      <td>17:27:00</td>\n",
       "      <td>5.388</td>\n",
       "      <td>0.502</td>\n",
       "      <td>233.74</td>\n",
       "      <td>23.0</td>\n",
       "      <td>0.0</td>\n",
       "      <td>1.0</td>\n",
       "      <td>17.0</td>\n",
       "      <td>71.800000</td>\n",
       "    </tr>\n",
       "    <tr>\n",
       "      <th>4</th>\n",
       "      <td>16/12/2006</td>\n",
       "      <td>17:28:00</td>\n",
       "      <td>3.666</td>\n",
       "      <td>0.528</td>\n",
       "      <td>235.68</td>\n",
       "      <td>15.8</td>\n",
       "      <td>0.0</td>\n",
       "      <td>1.0</td>\n",
       "      <td>17.0</td>\n",
       "      <td>43.100000</td>\n",
       "    </tr>\n",
       "  </tbody>\n",
       "</table>\n",
       "</div>"
      ],
      "text/plain": [
       "         Date      Time  Global_active_power  Global_reactive_power  Voltage  \\\n",
       "0  16/12/2006  17:24:00                4.216                  0.418   234.84   \n",
       "1  16/12/2006  17:25:00                5.360                  0.436   233.63   \n",
       "2  16/12/2006  17:26:00                5.374                  0.498   233.29   \n",
       "3  16/12/2006  17:27:00                5.388                  0.502   233.74   \n",
       "4  16/12/2006  17:28:00                3.666                  0.528   235.68   \n",
       "\n",
       "   Global_intensity  Sub_metering_1  Sub_metering_2  Sub_metering_3  \\\n",
       "0              18.4             0.0             1.0            17.0   \n",
       "1              23.0             0.0             1.0            16.0   \n",
       "2              23.0             0.0             2.0            17.0   \n",
       "3              23.0             0.0             1.0            17.0   \n",
       "4              15.8             0.0             1.0            17.0   \n",
       "\n",
       "   power_consumption  \n",
       "0          52.266667  \n",
       "1          72.333333  \n",
       "2          70.566667  \n",
       "3          71.800000  \n",
       "4          43.100000  "
      ]
     },
     "execution_count": 8,
     "metadata": {},
     "output_type": "execute_result"
    }
   ],
   "source": [
    "# Target Variable\n",
    "eq1 = (df['Global_active_power']*1000/60) \n",
    "eq2 = df['Sub_metering_1'] + df['Sub_metering_2'] + df['Sub_metering_3']\n",
    "df['power_consumption'] = eq1 - eq2\n",
    "df.head()"
   ]
  },
  {
   "cell_type": "markdown",
   "metadata": {
    "papermill": {
     "duration": 0.017913,
     "end_time": "2021-05-14T15:59:58.203114",
     "exception": false,
     "start_time": "2021-05-14T15:59:58.185201",
     "status": "completed"
    },
    "tags": []
   },
   "source": [
    "# Exploratory Data Analysis"
   ]
  },
  {
   "cell_type": "code",
   "execution_count": 9,
   "metadata": {
    "execution": {
     "iopub.execute_input": "2021-05-14T15:59:58.245179Z",
     "iopub.status.busy": "2021-05-14T15:59:58.244472Z",
     "iopub.status.idle": "2021-05-14T16:00:06.702576Z",
     "shell.execute_reply": "2021-05-14T16:00:06.702064Z"
    },
    "papermill": {
     "duration": 8.481418,
     "end_time": "2021-05-14T16:00:06.702737",
     "exception": false,
     "start_time": "2021-05-14T15:59:58.221319",
     "status": "completed"
    },
    "tags": []
   },
   "outputs": [
    {
     "data": {
      "image/png": "[encoded data removed]",
      "text/plain": [
       "<Figure size 864x576 with 1 Axes>"
      ]
     },
     "metadata": {},
     "output_type": "display_data"
    }
   ],
   "source": [
    "# Distribution of the target variables\n",
    "sns.histplot(data=df, x='power_consumption', bins=15, kde=True)\n",
    "plt.show()"
   ]
  },
  {
   "cell_type": "code",
   "execution_count": 10,
   "metadata": {
    "execution": {
     "iopub.execute_input": "2021-05-14T16:00:06.748626Z",
     "iopub.status.busy": "2021-05-14T16:00:06.747197Z",
     "iopub.status.idle": "2021-05-14T16:00:08.429364Z",
     "shell.execute_reply": "2021-05-14T16:00:08.429847Z"
    },
    "papermill": {
     "duration": 1.708286,
     "end_time": "2021-05-14T16:00:08.430039",
     "exception": false,
     "start_time": "2021-05-14T16:00:06.721753",
     "status": "completed"
    },
    "tags": []
   },
   "outputs": [
    {
     "data": {
      "image/png": "[encoded data removed]",
      "text/plain": [
       "<Figure size 864x576 with 2 Axes>"
      ]
     },
     "metadata": {},
     "output_type": "display_data"
    }
   ],
   "source": [
    "corr = np.corrcoef(df.corr())\n",
    "mask = np.zeros_like(corr)\n",
    "mask[np.triu_indices_from(mask)] = True\n",
    "sns.heatmap(df.corr(), annot=True, mask=mask)\n",
    "plt.show()"
   ]
  },
  {
   "cell_type": "markdown",
   "metadata": {
    "papermill": {
     "duration": 0.020482,
     "end_time": "2021-05-14T16:00:08.472551",
     "exception": false,
     "start_time": "2021-05-14T16:00:08.452069",
     "status": "completed"
    },
    "tags": []
   },
   "source": [
    "# Model Building & Evaluation"
   ]
  },
  {
   "cell_type": "code",
   "execution_count": 11,
   "metadata": {
    "execution": {
     "iopub.execute_input": "2021-05-14T16:00:08.532829Z",
     "iopub.status.busy": "2021-05-14T16:00:08.531878Z",
     "iopub.status.idle": "2021-05-14T16:00:08.536390Z",
     "shell.execute_reply": "2021-05-14T16:00:08.536884Z"
    },
    "papermill": {
     "duration": 0.043805,
     "end_time": "2021-05-14T16:00:08.537073",
     "exception": false,
     "start_time": "2021-05-14T16:00:08.493268",
     "status": "completed"
    },
    "tags": []
   },
   "outputs": [
    {
     "data": {
      "text/html": [
       "<div>\n",
       "<style scoped>\n",
       "    .dataframe tbody tr th:only-of-type {\n",
       "        vertical-align: middle;\n",
       "    }\n",
       "\n",
       "    .dataframe tbody tr th {\n",
       "        vertical-align: top;\n",
       "    }\n",
       "\n",
       "    .dataframe thead th {\n",
       "        text-align: right;\n",
       "    }\n",
       "</style>\n",
       "<table border=\"1\" class=\"dataframe\">\n",
       "  <thead>\n",
       "    <tr style=\"text-align: right;\">\n",
       "      <th></th>\n",
       "      <th>Date</th>\n",
       "      <th>Time</th>\n",
       "      <th>Global_active_power</th>\n",
       "      <th>Global_reactive_power</th>\n",
       "      <th>Voltage</th>\n",
       "      <th>Global_intensity</th>\n",
       "      <th>Sub_metering_1</th>\n",
       "      <th>Sub_metering_2</th>\n",
       "      <th>Sub_metering_3</th>\n",
       "      <th>power_consumption</th>\n",
       "    </tr>\n",
       "  </thead>\n",
       "  <tbody>\n",
       "    <tr>\n",
       "      <th>0</th>\n",
       "      <td>16/12/2006</td>\n",
       "      <td>17:24:00</td>\n",
       "      <td>4.216</td>\n",
       "      <td>0.418</td>\n",
       "      <td>234.84</td>\n",
       "      <td>18.4</td>\n",
       "      <td>0.0</td>\n",
       "      <td>1.0</td>\n",
       "      <td>17.0</td>\n",
       "      <td>52.266667</td>\n",
       "    </tr>\n",
       "    <tr>\n",
       "      <th>1</th>\n",
       "      <td>16/12/2006</td>\n",
       "      <td>17:25:00</td>\n",
       "      <td>5.360</td>\n",
       "      <td>0.436</td>\n",
       "      <td>233.63</td>\n",
       "      <td>23.0</td>\n",
       "      <td>0.0</td>\n",
       "      <td>1.0</td>\n",
       "      <td>16.0</td>\n",
       "      <td>72.333333</td>\n",
       "    </tr>\n",
       "    <tr>\n",
       "      <th>2</th>\n",
       "      <td>16/12/2006</td>\n",
       "      <td>17:26:00</td>\n",
       "      <td>5.374</td>\n",
       "      <td>0.498</td>\n",
       "      <td>233.29</td>\n",
       "      <td>23.0</td>\n",
       "      <td>0.0</td>\n",
       "      <td>2.0</td>\n",
       "      <td>17.0</td>\n",
       "      <td>70.566667</td>\n",
       "    </tr>\n",
       "    <tr>\n",
       "      <th>3</th>\n",
       "      <td>16/12/2006</td>\n",
       "      <td>17:27:00</td>\n",
       "      <td>5.388</td>\n",
       "      <td>0.502</td>\n",
       "      <td>233.74</td>\n",
       "      <td>23.0</td>\n",
       "      <td>0.0</td>\n",
       "      <td>1.0</td>\n",
       "      <td>17.0</td>\n",
       "      <td>71.800000</td>\n",
       "    </tr>\n",
       "    <tr>\n",
       "      <th>4</th>\n",
       "      <td>16/12/2006</td>\n",
       "      <td>17:28:00</td>\n",
       "      <td>3.666</td>\n",
       "      <td>0.528</td>\n",
       "      <td>235.68</td>\n",
       "      <td>15.8</td>\n",
       "      <td>0.0</td>\n",
       "      <td>1.0</td>\n",
       "      <td>17.0</td>\n",
       "      <td>43.100000</td>\n",
       "    </tr>\n",
       "  </tbody>\n",
       "</table>\n",
       "</div>"
      ],
      "text/plain": [
       "         Date      Time  Global_active_power  Global_reactive_power  Voltage  \\\n",
       "0  16/12/2006  17:24:00                4.216                  0.418   234.84   \n",
       "1  16/12/2006  17:25:00                5.360                  0.436   233.63   \n",
       "2  16/12/2006  17:26:00                5.374                  0.498   233.29   \n",
       "3  16/12/2006  17:27:00                5.388                  0.502   233.74   \n",
       "4  16/12/2006  17:28:00                3.666                  0.528   235.68   \n",
       "\n",
       "   Global_intensity  Sub_metering_1  Sub_metering_2  Sub_metering_3  \\\n",
       "0              18.4             0.0             1.0            17.0   \n",
       "1              23.0             0.0             1.0            16.0   \n",
       "2              23.0             0.0             2.0            17.0   \n",
       "3              23.0             0.0             1.0            17.0   \n",
       "4              15.8             0.0             1.0            17.0   \n",
       "\n",
       "   power_consumption  \n",
       "0          52.266667  \n",
       "1          72.333333  \n",
       "2          70.566667  \n",
       "3          71.800000  \n",
       "4          43.100000  "
      ]
     },
     "execution_count": 11,
     "metadata": {},
     "output_type": "execute_result"
    }
   ],
   "source": [
    "models = {}\n",
    "df1 = df\n",
    "df1.head()"
   ]
  },
  {
   "cell_type": "markdown",
   "metadata": {
    "papermill": {
     "duration": 0.021126,
     "end_time": "2021-05-14T16:00:08.580156",
     "exception": false,
     "start_time": "2021-05-14T16:00:08.559030",
     "status": "completed"
    },
    "tags": []
   },
   "source": [
    "## 1. Multiple Linear Regression"
   ]
  },
  {
   "cell_type": "code",
   "execution_count": 12,
   "metadata": {
    "execution": {
     "iopub.execute_input": "2021-05-14T16:00:08.635095Z",
     "iopub.status.busy": "2021-05-14T16:00:08.634319Z",
     "iopub.status.idle": "2021-05-14T16:00:09.509469Z",
     "shell.execute_reply": "2021-05-14T16:00:09.510221Z"
    },
    "papermill": {
     "duration": 0.908666,
     "end_time": "2021-05-14T16:00:09.510510",
     "exception": false,
     "start_time": "2021-05-14T16:00:08.601844",
     "status": "completed"
    },
    "tags": []
   },
   "outputs": [],
   "source": [
    "class linmodel():\n",
    "    def __init__(self, df, target):\n",
    "        self.df = df\n",
    "        self.target = target\n",
    "\n",
    "    def pre_processing(self):\n",
    "        cat = ['Date', 'Time', 'power_consumption']\n",
    "        X = self.df.drop(cat+[self.target], axis=1).values\n",
    "        Y = self.df[self.target].values\n",
    "\n",
    "        self.X_train, self.X_test, self.Y_train, self.Y_test = train_test_split(X, Y, \n",
    "                                                            test_size = 0.2, \n",
    "                                                            random_state = 2)\n",
    "        return self\n",
    "\n",
    "    def fit_pred_acc(self):\n",
    "        reg = LinearRegression()\n",
    "        reg.fit(self.X_train, self.Y_train)\n",
    "        pred = reg.predict(self.X_test)\n",
    "        mae = round(skm.mean_absolute_error(self.Y_test, pred), 2)\n",
    "        rmse = round(skm.mean_squared_error(self.Y_test, pred, squared=False), 2)\n",
    "        r2_score = round(skm.r2_score(self.Y_test, pred), 4)\n",
    "        ev = round(skm.explained_variance_score(self.Y_test, pred), 4)\n",
    "    \n",
    "        return [mae, rmse, r2_score, ev]\n",
    "    \n",
    "lin = linmodel(df, 'Global_active_power')\n",
    "lin = lin.pre_processing()\n",
    "models[\"Mult. Reg\"] = lin.fit_pred_acc()"
   ]
  },
  {
   "cell_type": "markdown",
   "metadata": {
    "papermill": {
     "duration": 0.022368,
     "end_time": "2021-05-14T16:00:09.570908",
     "exception": false,
     "start_time": "2021-05-14T16:00:09.548540",
     "status": "completed"
    },
    "tags": []
   },
   "source": [
    "## 2. Shrinkage Technique: Ridge"
   ]
  },
  {
   "cell_type": "code",
   "execution_count": 13,
   "metadata": {
    "execution": {
     "iopub.execute_input": "2021-05-14T16:00:09.660811Z",
     "iopub.status.busy": "2021-05-14T16:00:09.660031Z",
     "iopub.status.idle": "2021-05-14T16:00:10.249183Z",
     "shell.execute_reply": "2021-05-14T16:00:10.248420Z"
    },
    "papermill": {
     "duration": 0.656486,
     "end_time": "2021-05-14T16:00:10.249344",
     "exception": false,
     "start_time": "2021-05-14T16:00:09.592858",
     "status": "completed"
    },
    "tags": []
   },
   "outputs": [],
   "source": [
    "class rdgmodel():\n",
    "    def __init__(self, df, target):\n",
    "        self.df = df\n",
    "        self.target = target\n",
    "\n",
    "    def pre_processing(self):\n",
    "        cat = ['Date', 'Time', 'power_consumption']\n",
    "        X = self.df.drop(cat+[self.target], axis=1).values\n",
    "        Y = self.df[self.target].values\n",
    "        \n",
    "        self.X_train, self.X_test, self.Y_train, self.Y_test = train_test_split(X, Y, \n",
    "                                                            test_size = 0.2, \n",
    "                                                            random_state = 2)\n",
    "        return self\n",
    "\n",
    "    def fit_pred_acc(self):\n",
    "        reg = Ridge(alpha=0.0001, normalize=True)\n",
    "        reg.fit(self.X_train, self.Y_train)\n",
    "        pred = reg.predict(self.X_test)\n",
    "        mae = round(skm.mean_absolute_error(self.Y_test, pred), 2)\n",
    "        rmse = round(skm.mean_squared_error(self.Y_test, pred, squared=False), 2)\n",
    "        r2_score = round(skm.r2_score(self.Y_test, pred), 4)\n",
    "        ev = round(skm.explained_variance_score(self.Y_test, pred), 4)\n",
    "    \n",
    "        return [mae, rmse, r2_score, ev]\n",
    "    \n",
    "rdg = rdgmodel(df, 'Global_active_power')\n",
    "rdg = rdg.pre_processing()\n",
    "models[\"Ridge Reg\"] = rdg.fit_pred_acc()"
   ]
  },
  {
   "cell_type": "markdown",
   "metadata": {
    "papermill": {
     "duration": 0.021635,
     "end_time": "2021-05-14T16:00:10.292732",
     "exception": false,
     "start_time": "2021-05-14T16:00:10.271097",
     "status": "completed"
    },
    "tags": []
   },
   "source": [
    "## 3. Shrinkage Technique: Lasso"
   ]
  },
  {
   "cell_type": "code",
   "execution_count": 14,
   "metadata": {
    "execution": {
     "iopub.execute_input": "2021-05-14T16:00:10.382027Z",
     "iopub.status.busy": "2021-05-14T16:00:10.381267Z",
     "iopub.status.idle": "2021-05-14T16:00:10.979507Z",
     "shell.execute_reply": "2021-05-14T16:00:10.980457Z"
    },
    "papermill": {
     "duration": 0.665955,
     "end_time": "2021-05-14T16:00:10.980759",
     "exception": false,
     "start_time": "2021-05-14T16:00:10.314804",
     "status": "completed"
    },
    "tags": []
   },
   "outputs": [],
   "source": [
    "class lasmodel():\n",
    "    def __init__(self, df, target):\n",
    "        self.df = df\n",
    "        self.target = target\n",
    "\n",
    "    def pre_processing(self):\n",
    "        cat = ['Date', 'Time', 'power_consumption']\n",
    "        X = self.df.drop(cat+[self.target], axis=1).values\n",
    "        Y = self.df[self.target].values\n",
    "\n",
    "        self.X_train, self.X_test, self.Y_train, self.Y_test = train_test_split(X, Y, \n",
    "                                                            test_size = 0.3, \n",
    "                                                            random_state = 72)\n",
    "        return self\n",
    "\n",
    "    def fit_pred_acc(self):\n",
    "        reg = Lasso()\n",
    "        reg.fit(self.X_train, self.Y_train)\n",
    "        pred = reg.predict(self.X_test)\n",
    "        mae = round(skm.mean_absolute_error(self.Y_test, pred), 2)\n",
    "        rmse = round(skm.mean_squared_error(self.Y_test, pred, squared=False), 2)\n",
    "        r2_score = round(skm.r2_score(self.Y_test, pred), 4)\n",
    "        ev = round(skm.explained_variance_score(self.Y_test, pred), 4)\n",
    "    \n",
    "        return [mae, rmse, r2_score, ev]\n",
    "    \n",
    "las = lasmodel(df, 'Global_active_power')\n",
    "las = las.pre_processing()\n",
    "models[\"Lasso Reg\"] = las.fit_pred_acc()"
   ]
  },
  {
   "cell_type": "markdown",
   "metadata": {
    "papermill": {
     "duration": 0.03663,
     "end_time": "2021-05-14T16:00:11.057827",
     "exception": false,
     "start_time": "2021-05-14T16:00:11.021197",
     "status": "completed"
    },
    "tags": []
   },
   "source": [
    "## 4. Polynomial Multiple Regression"
   ]
  },
  {
   "cell_type": "code",
   "execution_count": 15,
   "metadata": {
    "execution": {
     "iopub.execute_input": "2021-05-14T16:00:11.148366Z",
     "iopub.status.busy": "2021-05-14T16:00:11.147623Z",
     "iopub.status.idle": "2021-05-14T16:00:14.494000Z",
     "shell.execute_reply": "2021-05-14T16:00:14.494517Z"
    },
    "papermill": {
     "duration": 3.4149,
     "end_time": "2021-05-14T16:00:14.494728",
     "exception": false,
     "start_time": "2021-05-14T16:00:11.079828",
     "status": "completed"
    },
    "tags": []
   },
   "outputs": [],
   "source": [
    "class polymodel():\n",
    "    def __init__(self, df, target):\n",
    "        self.df = df\n",
    "        self.target = target\n",
    "\n",
    "    def pre_processing(self):\n",
    "        cat = ['Date', 'Time', 'power_consumption']\n",
    "        X = self.df.drop(cat+[self.target], axis=1).values\n",
    "        Y = self.df[self.target].values\n",
    "\n",
    "        self.X_train, self.X_test, self.Y_train, self.Y_test = train_test_split(X, Y, \n",
    "                                                            test_size = 0.2, \n",
    "                                                            random_state = 42)\n",
    "        return self\n",
    "\n",
    "    def fit_pred_acc(self):\n",
    "        reg = LinearRegression(normalize=True)\n",
    "        pol_feat = PolynomialFeatures(2)\n",
    "        X_train_transf = pol_feat.fit_transform(self.X_train)\n",
    "        X_test_transf = pol_feat.fit_transform(self.X_test)\n",
    "        model = reg.fit(X_train_transf, self.Y_train)\n",
    "        pred = model.predict(X_test_transf)\n",
    "        mae = round(skm.mean_absolute_error(self.Y_test, pred), 2)\n",
    "        rmse = round(skm.mean_squared_error(self.Y_test, pred, squared=False), 2)\n",
    "        r2_score = round(skm.r2_score(self.Y_test, pred), 4)\n",
    "        ev = round(skm.explained_variance_score(self.Y_test, pred), 4)\n",
    "    \n",
    "        return [mae, rmse, r2_score, ev]\n",
    "    \n",
    "poly = polymodel(df, 'Global_active_power')\n",
    "poly = poly.pre_processing()\n",
    "models[\"Poly Reg\"] = poly.fit_pred_acc()"
   ]
  },
  {
   "cell_type": "code",
   "execution_count": 16,
   "metadata": {
    "execution": {
     "iopub.execute_input": "2021-05-14T16:00:14.554046Z",
     "iopub.status.busy": "2021-05-14T16:00:14.553002Z",
     "iopub.status.idle": "2021-05-14T16:00:14.558001Z",
     "shell.execute_reply": "2021-05-14T16:00:14.557422Z"
    },
    "papermill": {
     "duration": 0.041225,
     "end_time": "2021-05-14T16:00:14.558152",
     "exception": false,
     "start_time": "2021-05-14T16:00:14.516927",
     "status": "completed"
    },
    "tags": []
   },
   "outputs": [
    {
     "data": {
      "text/html": [
       "<div>\n",
       "<style scoped>\n",
       "    .dataframe tbody tr th:only-of-type {\n",
       "        vertical-align: middle;\n",
       "    }\n",
       "\n",
       "    .dataframe tbody tr th {\n",
       "        vertical-align: top;\n",
       "    }\n",
       "\n",
       "    .dataframe thead th {\n",
       "        text-align: right;\n",
       "    }\n",
       "</style>\n",
       "<table border=\"1\" class=\"dataframe\">\n",
       "  <thead>\n",
       "    <tr style=\"text-align: right;\">\n",
       "      <th></th>\n",
       "      <th>MAE</th>\n",
       "      <th>RMSE</th>\n",
       "      <th>R_sq</th>\n",
       "      <th>Expl. Var.</th>\n",
       "    </tr>\n",
       "  </thead>\n",
       "  <tbody>\n",
       "    <tr>\n",
       "      <th>Mult. Reg</th>\n",
       "      <td>0.03</td>\n",
       "      <td>0.04</td>\n",
       "      <td>0.9985</td>\n",
       "      <td>0.9985</td>\n",
       "    </tr>\n",
       "    <tr>\n",
       "      <th>Ridge Reg</th>\n",
       "      <td>0.03</td>\n",
       "      <td>0.04</td>\n",
       "      <td>0.9985</td>\n",
       "      <td>0.9985</td>\n",
       "    </tr>\n",
       "    <tr>\n",
       "      <th>Lasso Reg</th>\n",
       "      <td>0.17</td>\n",
       "      <td>0.23</td>\n",
       "      <td>0.9509</td>\n",
       "      <td>0.9509</td>\n",
       "    </tr>\n",
       "    <tr>\n",
       "      <th>Poly Reg</th>\n",
       "      <td>0.02</td>\n",
       "      <td>0.04</td>\n",
       "      <td>0.9988</td>\n",
       "      <td>0.9988</td>\n",
       "    </tr>\n",
       "  </tbody>\n",
       "</table>\n",
       "</div>"
      ],
      "text/plain": [
       "            MAE  RMSE    R_sq  Expl. Var.\n",
       "Mult. Reg  0.03  0.04  0.9985      0.9985\n",
       "Ridge Reg  0.03  0.04  0.9985      0.9985\n",
       "Lasso Reg  0.17  0.23  0.9509      0.9509\n",
       "Poly Reg   0.02  0.04  0.9988      0.9988"
      ]
     },
     "execution_count": 16,
     "metadata": {},
     "output_type": "execute_result"
    }
   ],
   "source": [
    "models_df = pd.DataFrame.from_dict(models, orient='index',\n",
    "                  columns=['MAE', 'RMSE', 'R_sq', 'Expl. Var.'])\n",
    "models_df"
   ]
  }
 ],
 "metadata": {
  "kernelspec": {
   "display_name": "Python 3",
   "language": "python",
   "name": "python3"
  },
  "language_info": {
   "codemirror_mode": {
    "name": "ipython",
    "version": 3
   },
   "file_extension": ".py",
   "mimetype": "text/x-python",
   "name": "python",
   "nbconvert_exporter": "python",
   "pygments_lexer": "ipython3",
   "version": "3.7.9"
  },
  "papermill": {
   "default_parameters": {},
   "duration": 50.146711,
   "end_time": "2021-05-14T16:00:15.291615",
   "environment_variables": {},
   "exception": null,
   "input_path": "__notebook__.ipynb",
   "output_path": "__notebook__.ipynb",
   "parameters": {},
   "start_time": "2021-05-14T15:59:25.144904",
   "version": "2.2.2"
  }
 },
 "nbformat": 4,
 "nbformat_minor": 4
}
