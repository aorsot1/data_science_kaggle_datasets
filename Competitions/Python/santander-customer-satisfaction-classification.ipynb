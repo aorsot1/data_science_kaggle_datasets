{
 "cells": [
  {
   "cell_type": "code",
   "execution_count": 1,
   "id": "biological-skill",
   "metadata": {
    "_cell_guid": "b1076dfc-b9ad-4769-8c92-a6c4dae69d19",
    "_uuid": "8f2839f25d086af736a60e9eeb907d3b93b6e0e5",
    "execution": {
     "iopub.execute_input": "2021-06-28T13:06:57.252317Z",
     "iopub.status.busy": "2021-06-28T13:06:57.246778Z",
     "iopub.status.idle": "2021-06-28T13:06:58.778838Z",
     "shell.execute_reply": "2021-06-28T13:06:58.777445Z",
     "shell.execute_reply.started": "2021-06-28T12:19:07.558673Z"
    },
    "papermill": {
     "duration": 1.571819,
     "end_time": "2021-06-28T13:06:58.779132",
     "exception": false,
     "start_time": "2021-06-28T13:06:57.207313",
     "status": "completed"
    },
    "tags": []
   },
   "outputs": [
    {
     "name": "stdout",
     "output_type": "stream",
     "text": [
      "/kaggle/input/santander-customer-satisfaction/sample_submission.csv\n",
      "/kaggle/input/santander-customer-satisfaction/train.csv\n",
      "/kaggle/input/santander-customer-satisfaction/test.csv\n",
      "/kaggle/input/santander-customer-satisfaction/sample_submission.csv\n",
      "/kaggle/input/santander-customer-satisfaction/train.csv\n",
      "/kaggle/input/santander-customer-satisfaction/test.csv\n"
     ]
    }
   ],
   "source": [
    "import numpy as np \n",
    "import pandas as pd \n",
    "import time\n",
    "from operator import itemgetter\n",
    "\n",
    "from sklearn.model_selection import train_test_split\n",
    "from sklearn.inspection import permutation_importance\n",
    "from sklearn.svm import SVC\n",
    "from sklearn.ensemble import BaggingClassifier\n",
    "from sklearn.ensemble import RandomForestClassifier\n",
    "from sklearn.metrics import classification_report\n",
    "\n",
    "import utils_clf_models as classifier\n",
    "import utils_best_search \n",
    "\n",
    "import matplotlib.pyplot as plt\n",
    "import seaborn as sns\n",
    "sns.set(rc={'figure.figsize':(10, 8)})\n",
    "%matplotlib inline\n",
    "\n",
    "import os\n",
    "for dirname, _, filenames in os.walk('/kaggle/input'):\n",
    "    for filename in filenames:\n",
    "        print(os.path.join(dirname, filename))"
   ]
  },
  {
   "cell_type": "markdown",
   "id": "excessive-pointer",
   "metadata": {
    "papermill": {
     "duration": 0.021434,
     "end_time": "2021-06-28T13:06:58.827215",
     "exception": false,
     "start_time": "2021-06-28T13:06:58.805781",
     "status": "completed"
    },
    "tags": []
   },
   "source": [
    "# Importing the data"
   ]
  },
  {
   "cell_type": "code",
   "execution_count": 2,
   "id": "weighted-median",
   "metadata": {
    "execution": {
     "iopub.execute_input": "2021-06-28T13:06:58.868966Z",
     "iopub.status.busy": "2021-06-28T13:06:58.868392Z",
     "iopub.status.idle": "2021-06-28T13:07:01.189925Z",
     "shell.execute_reply": "2021-06-28T13:07:01.189487Z",
     "shell.execute_reply.started": "2021-06-28T12:19:08.839721Z"
    },
    "papermill": {
     "duration": 2.343923,
     "end_time": "2021-06-28T13:07:01.190047",
     "exception": false,
     "start_time": "2021-06-28T13:06:58.846124",
     "status": "completed"
    },
    "tags": []
   },
   "outputs": [
    {
     "data": {
      "text/plain": [
       "0    0.960431\n",
       "1    0.039569\n",
       "Name: TARGET, dtype: float64"
      ]
     },
     "execution_count": 2,
     "metadata": {},
     "output_type": "execute_result"
    }
   ],
   "source": [
    "df = pd.read_csv('/kaggle/input/santander-customer-satisfaction/train.csv')\n",
    "df['TARGET'].value_counts(normalize=True)"
   ]
  },
  {
   "cell_type": "code",
   "execution_count": 3,
   "id": "dutch-porter",
   "metadata": {
    "execution": {
     "iopub.execute_input": "2021-06-28T13:07:01.233555Z",
     "iopub.status.busy": "2021-06-28T13:07:01.232981Z",
     "iopub.status.idle": "2021-06-28T13:07:01.236481Z",
     "shell.execute_reply": "2021-06-28T13:07:01.236925Z",
     "shell.execute_reply.started": "2021-06-28T12:19:11.205552Z"
    },
    "papermill": {
     "duration": 0.027535,
     "end_time": "2021-06-28T13:07:01.237097",
     "exception": false,
     "start_time": "2021-06-28T13:07:01.209562",
     "status": "completed"
    },
    "tags": []
   },
   "outputs": [
    {
     "data": {
      "text/plain": [
       "0.0395685345961589"
      ]
     },
     "execution_count": 3,
     "metadata": {},
     "output_type": "execute_result"
    }
   ],
   "source": [
    "3008/(3008+73012)"
   ]
  },
  {
   "cell_type": "markdown",
   "id": "linear-cooperation",
   "metadata": {
    "papermill": {
     "duration": 0.019502,
     "end_time": "2021-06-28T13:07:01.276233",
     "exception": false,
     "start_time": "2021-06-28T13:07:01.256731",
     "status": "completed"
    },
    "tags": []
   },
   "source": [
    "# Exploring the data"
   ]
  },
  {
   "cell_type": "code",
   "execution_count": 4,
   "id": "abstract-animation",
   "metadata": {
    "execution": {
     "iopub.execute_input": "2021-06-28T13:07:01.343261Z",
     "iopub.status.busy": "2021-06-28T13:07:01.326416Z",
     "iopub.status.idle": "2021-06-28T13:07:01.381233Z",
     "shell.execute_reply": "2021-06-28T13:07:01.380813Z",
     "shell.execute_reply.started": "2021-06-28T12:19:11.213051Z"
    },
    "papermill": {
     "duration": 0.085369,
     "end_time": "2021-06-28T13:07:01.381347",
     "exception": false,
     "start_time": "2021-06-28T13:07:01.295978",
     "status": "completed"
    },
    "tags": []
   },
   "outputs": [
    {
     "name": "stdout",
     "output_type": "stream",
     "text": [
      "(76020, 371)\n",
      "<class 'pandas.core.frame.DataFrame'>\n",
      "RangeIndex: 76020 entries, 0 to 76019\n",
      "Columns: 371 entries, ID to TARGET\n",
      "dtypes: float64(111), int64(260)\n",
      "memory usage: 215.2 MB\n",
      "None\n"
     ]
    },
    {
     "data": {
      "text/html": [
       "<div>\n",
       "<style scoped>\n",
       "    .dataframe tbody tr th:only-of-type {\n",
       "        vertical-align: middle;\n",
       "    }\n",
       "\n",
       "    .dataframe tbody tr th {\n",
       "        vertical-align: top;\n",
       "    }\n",
       "\n",
       "    .dataframe thead th {\n",
       "        text-align: right;\n",
       "    }\n",
       "</style>\n",
       "<table border=\"1\" class=\"dataframe\">\n",
       "  <thead>\n",
       "    <tr style=\"text-align: right;\">\n",
       "      <th></th>\n",
       "      <th>ID</th>\n",
       "      <th>var3</th>\n",
       "      <th>var15</th>\n",
       "      <th>imp_ent_var16_ult1</th>\n",
       "      <th>imp_op_var39_comer_ult1</th>\n",
       "      <th>imp_op_var39_comer_ult3</th>\n",
       "      <th>imp_op_var40_comer_ult1</th>\n",
       "      <th>imp_op_var40_comer_ult3</th>\n",
       "      <th>imp_op_var40_efect_ult1</th>\n",
       "      <th>imp_op_var40_efect_ult3</th>\n",
       "      <th>...</th>\n",
       "      <th>saldo_medio_var33_hace2</th>\n",
       "      <th>saldo_medio_var33_hace3</th>\n",
       "      <th>saldo_medio_var33_ult1</th>\n",
       "      <th>saldo_medio_var33_ult3</th>\n",
       "      <th>saldo_medio_var44_hace2</th>\n",
       "      <th>saldo_medio_var44_hace3</th>\n",
       "      <th>saldo_medio_var44_ult1</th>\n",
       "      <th>saldo_medio_var44_ult3</th>\n",
       "      <th>var38</th>\n",
       "      <th>TARGET</th>\n",
       "    </tr>\n",
       "  </thead>\n",
       "  <tbody>\n",
       "    <tr>\n",
       "      <th>0</th>\n",
       "      <td>1</td>\n",
       "      <td>2</td>\n",
       "      <td>23</td>\n",
       "      <td>0.0</td>\n",
       "      <td>0.0</td>\n",
       "      <td>0.0</td>\n",
       "      <td>0.0</td>\n",
       "      <td>0.0</td>\n",
       "      <td>0.0</td>\n",
       "      <td>0.0</td>\n",
       "      <td>...</td>\n",
       "      <td>0.0</td>\n",
       "      <td>0.0</td>\n",
       "      <td>0.0</td>\n",
       "      <td>0.0</td>\n",
       "      <td>0.0</td>\n",
       "      <td>0.0</td>\n",
       "      <td>0.0</td>\n",
       "      <td>0.0</td>\n",
       "      <td>39205.170000</td>\n",
       "      <td>0</td>\n",
       "    </tr>\n",
       "    <tr>\n",
       "      <th>1</th>\n",
       "      <td>3</td>\n",
       "      <td>2</td>\n",
       "      <td>34</td>\n",
       "      <td>0.0</td>\n",
       "      <td>0.0</td>\n",
       "      <td>0.0</td>\n",
       "      <td>0.0</td>\n",
       "      <td>0.0</td>\n",
       "      <td>0.0</td>\n",
       "      <td>0.0</td>\n",
       "      <td>...</td>\n",
       "      <td>0.0</td>\n",
       "      <td>0.0</td>\n",
       "      <td>0.0</td>\n",
       "      <td>0.0</td>\n",
       "      <td>0.0</td>\n",
       "      <td>0.0</td>\n",
       "      <td>0.0</td>\n",
       "      <td>0.0</td>\n",
       "      <td>49278.030000</td>\n",
       "      <td>0</td>\n",
       "    </tr>\n",
       "    <tr>\n",
       "      <th>2</th>\n",
       "      <td>4</td>\n",
       "      <td>2</td>\n",
       "      <td>23</td>\n",
       "      <td>0.0</td>\n",
       "      <td>0.0</td>\n",
       "      <td>0.0</td>\n",
       "      <td>0.0</td>\n",
       "      <td>0.0</td>\n",
       "      <td>0.0</td>\n",
       "      <td>0.0</td>\n",
       "      <td>...</td>\n",
       "      <td>0.0</td>\n",
       "      <td>0.0</td>\n",
       "      <td>0.0</td>\n",
       "      <td>0.0</td>\n",
       "      <td>0.0</td>\n",
       "      <td>0.0</td>\n",
       "      <td>0.0</td>\n",
       "      <td>0.0</td>\n",
       "      <td>67333.770000</td>\n",
       "      <td>0</td>\n",
       "    </tr>\n",
       "    <tr>\n",
       "      <th>3</th>\n",
       "      <td>8</td>\n",
       "      <td>2</td>\n",
       "      <td>37</td>\n",
       "      <td>0.0</td>\n",
       "      <td>195.0</td>\n",
       "      <td>195.0</td>\n",
       "      <td>0.0</td>\n",
       "      <td>0.0</td>\n",
       "      <td>0.0</td>\n",
       "      <td>0.0</td>\n",
       "      <td>...</td>\n",
       "      <td>0.0</td>\n",
       "      <td>0.0</td>\n",
       "      <td>0.0</td>\n",
       "      <td>0.0</td>\n",
       "      <td>0.0</td>\n",
       "      <td>0.0</td>\n",
       "      <td>0.0</td>\n",
       "      <td>0.0</td>\n",
       "      <td>64007.970000</td>\n",
       "      <td>0</td>\n",
       "    </tr>\n",
       "    <tr>\n",
       "      <th>4</th>\n",
       "      <td>10</td>\n",
       "      <td>2</td>\n",
       "      <td>39</td>\n",
       "      <td>0.0</td>\n",
       "      <td>0.0</td>\n",
       "      <td>0.0</td>\n",
       "      <td>0.0</td>\n",
       "      <td>0.0</td>\n",
       "      <td>0.0</td>\n",
       "      <td>0.0</td>\n",
       "      <td>...</td>\n",
       "      <td>0.0</td>\n",
       "      <td>0.0</td>\n",
       "      <td>0.0</td>\n",
       "      <td>0.0</td>\n",
       "      <td>0.0</td>\n",
       "      <td>0.0</td>\n",
       "      <td>0.0</td>\n",
       "      <td>0.0</td>\n",
       "      <td>117310.979016</td>\n",
       "      <td>0</td>\n",
       "    </tr>\n",
       "  </tbody>\n",
       "</table>\n",
       "<p>5 rows × 371 columns</p>\n",
       "</div>"
      ],
      "text/plain": [
       "   ID  var3  var15  imp_ent_var16_ult1  imp_op_var39_comer_ult1  \\\n",
       "0   1     2     23                 0.0                      0.0   \n",
       "1   3     2     34                 0.0                      0.0   \n",
       "2   4     2     23                 0.0                      0.0   \n",
       "3   8     2     37                 0.0                    195.0   \n",
       "4  10     2     39                 0.0                      0.0   \n",
       "\n",
       "   imp_op_var39_comer_ult3  imp_op_var40_comer_ult1  imp_op_var40_comer_ult3  \\\n",
       "0                      0.0                      0.0                      0.0   \n",
       "1                      0.0                      0.0                      0.0   \n",
       "2                      0.0                      0.0                      0.0   \n",
       "3                    195.0                      0.0                      0.0   \n",
       "4                      0.0                      0.0                      0.0   \n",
       "\n",
       "   imp_op_var40_efect_ult1  imp_op_var40_efect_ult3  ...  \\\n",
       "0                      0.0                      0.0  ...   \n",
       "1                      0.0                      0.0  ...   \n",
       "2                      0.0                      0.0  ...   \n",
       "3                      0.0                      0.0  ...   \n",
       "4                      0.0                      0.0  ...   \n",
       "\n",
       "   saldo_medio_var33_hace2  saldo_medio_var33_hace3  saldo_medio_var33_ult1  \\\n",
       "0                      0.0                      0.0                     0.0   \n",
       "1                      0.0                      0.0                     0.0   \n",
       "2                      0.0                      0.0                     0.0   \n",
       "3                      0.0                      0.0                     0.0   \n",
       "4                      0.0                      0.0                     0.0   \n",
       "\n",
       "   saldo_medio_var33_ult3  saldo_medio_var44_hace2  saldo_medio_var44_hace3  \\\n",
       "0                     0.0                      0.0                      0.0   \n",
       "1                     0.0                      0.0                      0.0   \n",
       "2                     0.0                      0.0                      0.0   \n",
       "3                     0.0                      0.0                      0.0   \n",
       "4                     0.0                      0.0                      0.0   \n",
       "\n",
       "   saldo_medio_var44_ult1  saldo_medio_var44_ult3          var38  TARGET  \n",
       "0                     0.0                     0.0   39205.170000       0  \n",
       "1                     0.0                     0.0   49278.030000       0  \n",
       "2                     0.0                     0.0   67333.770000       0  \n",
       "3                     0.0                     0.0   64007.970000       0  \n",
       "4                     0.0                     0.0  117310.979016       0  \n",
       "\n",
       "[5 rows x 371 columns]"
      ]
     },
     "execution_count": 4,
     "metadata": {},
     "output_type": "execute_result"
    }
   ],
   "source": [
    "print(df.shape)\n",
    "print(df.info())\n",
    "df.head(5)"
   ]
  },
  {
   "cell_type": "code",
   "execution_count": 5,
   "id": "reduced-beaver",
   "metadata": {
    "execution": {
     "iopub.execute_input": "2021-06-28T13:07:01.471016Z",
     "iopub.status.busy": "2021-06-28T13:07:01.470513Z",
     "iopub.status.idle": "2021-06-28T13:07:02.567893Z",
     "shell.execute_reply": "2021-06-28T13:07:02.568446Z",
     "shell.execute_reply.started": "2021-06-28T12:19:11.279015Z"
    },
    "papermill": {
     "duration": 1.166198,
     "end_time": "2021-06-28T13:07:02.568582",
     "exception": false,
     "start_time": "2021-06-28T13:07:01.402384",
     "status": "completed"
    },
    "tags": []
   },
   "outputs": [
    {
     "data": {
      "text/html": [
       "<div>\n",
       "<style scoped>\n",
       "    .dataframe tbody tr th:only-of-type {\n",
       "        vertical-align: middle;\n",
       "    }\n",
       "\n",
       "    .dataframe tbody tr th {\n",
       "        vertical-align: top;\n",
       "    }\n",
       "\n",
       "    .dataframe thead th {\n",
       "        text-align: right;\n",
       "    }\n",
       "</style>\n",
       "<table border=\"1\" class=\"dataframe\">\n",
       "  <thead>\n",
       "    <tr style=\"text-align: right;\">\n",
       "      <th></th>\n",
       "      <th>ID</th>\n",
       "      <th>var3</th>\n",
       "      <th>var15</th>\n",
       "      <th>imp_ent_var16_ult1</th>\n",
       "      <th>imp_op_var39_comer_ult1</th>\n",
       "      <th>imp_op_var39_comer_ult3</th>\n",
       "      <th>imp_op_var40_comer_ult1</th>\n",
       "      <th>imp_op_var40_comer_ult3</th>\n",
       "      <th>imp_op_var40_efect_ult1</th>\n",
       "      <th>imp_op_var40_efect_ult3</th>\n",
       "      <th>...</th>\n",
       "      <th>saldo_medio_var33_hace2</th>\n",
       "      <th>saldo_medio_var33_hace3</th>\n",
       "      <th>saldo_medio_var33_ult1</th>\n",
       "      <th>saldo_medio_var33_ult3</th>\n",
       "      <th>saldo_medio_var44_hace2</th>\n",
       "      <th>saldo_medio_var44_hace3</th>\n",
       "      <th>saldo_medio_var44_ult1</th>\n",
       "      <th>saldo_medio_var44_ult3</th>\n",
       "      <th>var38</th>\n",
       "      <th>TARGET</th>\n",
       "    </tr>\n",
       "  </thead>\n",
       "  <tbody>\n",
       "    <tr>\n",
       "      <th>count</th>\n",
       "      <td>76020.000000</td>\n",
       "      <td>76020.000000</td>\n",
       "      <td>76020.000000</td>\n",
       "      <td>76020.000000</td>\n",
       "      <td>76020.000000</td>\n",
       "      <td>76020.000000</td>\n",
       "      <td>76020.000000</td>\n",
       "      <td>76020.000000</td>\n",
       "      <td>76020.000000</td>\n",
       "      <td>76020.000000</td>\n",
       "      <td>...</td>\n",
       "      <td>76020.000000</td>\n",
       "      <td>76020.000000</td>\n",
       "      <td>76020.000000</td>\n",
       "      <td>76020.000000</td>\n",
       "      <td>76020.000000</td>\n",
       "      <td>76020.000000</td>\n",
       "      <td>76020.000000</td>\n",
       "      <td>76020.000000</td>\n",
       "      <td>7.602000e+04</td>\n",
       "      <td>76020.000000</td>\n",
       "    </tr>\n",
       "    <tr>\n",
       "      <th>mean</th>\n",
       "      <td>75964.050723</td>\n",
       "      <td>-1523.199277</td>\n",
       "      <td>33.212865</td>\n",
       "      <td>86.208265</td>\n",
       "      <td>72.363067</td>\n",
       "      <td>119.529632</td>\n",
       "      <td>3.559130</td>\n",
       "      <td>6.472698</td>\n",
       "      <td>0.412946</td>\n",
       "      <td>0.567352</td>\n",
       "      <td>...</td>\n",
       "      <td>7.935824</td>\n",
       "      <td>1.365146</td>\n",
       "      <td>12.215580</td>\n",
       "      <td>8.784074</td>\n",
       "      <td>31.505324</td>\n",
       "      <td>1.858575</td>\n",
       "      <td>76.026165</td>\n",
       "      <td>56.614351</td>\n",
       "      <td>1.172358e+05</td>\n",
       "      <td>0.039569</td>\n",
       "    </tr>\n",
       "    <tr>\n",
       "      <th>std</th>\n",
       "      <td>43781.947379</td>\n",
       "      <td>39033.462364</td>\n",
       "      <td>12.956486</td>\n",
       "      <td>1614.757313</td>\n",
       "      <td>339.315831</td>\n",
       "      <td>546.266294</td>\n",
       "      <td>93.155749</td>\n",
       "      <td>153.737066</td>\n",
       "      <td>30.604864</td>\n",
       "      <td>36.513513</td>\n",
       "      <td>...</td>\n",
       "      <td>455.887218</td>\n",
       "      <td>113.959637</td>\n",
       "      <td>783.207399</td>\n",
       "      <td>538.439211</td>\n",
       "      <td>2013.125393</td>\n",
       "      <td>147.786584</td>\n",
       "      <td>4040.337842</td>\n",
       "      <td>2852.579397</td>\n",
       "      <td>1.826646e+05</td>\n",
       "      <td>0.194945</td>\n",
       "    </tr>\n",
       "    <tr>\n",
       "      <th>min</th>\n",
       "      <td>1.000000</td>\n",
       "      <td>-999999.000000</td>\n",
       "      <td>5.000000</td>\n",
       "      <td>0.000000</td>\n",
       "      <td>0.000000</td>\n",
       "      <td>0.000000</td>\n",
       "      <td>0.000000</td>\n",
       "      <td>0.000000</td>\n",
       "      <td>0.000000</td>\n",
       "      <td>0.000000</td>\n",
       "      <td>...</td>\n",
       "      <td>0.000000</td>\n",
       "      <td>0.000000</td>\n",
       "      <td>0.000000</td>\n",
       "      <td>0.000000</td>\n",
       "      <td>0.000000</td>\n",
       "      <td>0.000000</td>\n",
       "      <td>0.000000</td>\n",
       "      <td>0.000000</td>\n",
       "      <td>5.163750e+03</td>\n",
       "      <td>0.000000</td>\n",
       "    </tr>\n",
       "    <tr>\n",
       "      <th>25%</th>\n",
       "      <td>38104.750000</td>\n",
       "      <td>2.000000</td>\n",
       "      <td>23.000000</td>\n",
       "      <td>0.000000</td>\n",
       "      <td>0.000000</td>\n",
       "      <td>0.000000</td>\n",
       "      <td>0.000000</td>\n",
       "      <td>0.000000</td>\n",
       "      <td>0.000000</td>\n",
       "      <td>0.000000</td>\n",
       "      <td>...</td>\n",
       "      <td>0.000000</td>\n",
       "      <td>0.000000</td>\n",
       "      <td>0.000000</td>\n",
       "      <td>0.000000</td>\n",
       "      <td>0.000000</td>\n",
       "      <td>0.000000</td>\n",
       "      <td>0.000000</td>\n",
       "      <td>0.000000</td>\n",
       "      <td>6.787061e+04</td>\n",
       "      <td>0.000000</td>\n",
       "    </tr>\n",
       "    <tr>\n",
       "      <th>50%</th>\n",
       "      <td>76043.000000</td>\n",
       "      <td>2.000000</td>\n",
       "      <td>28.000000</td>\n",
       "      <td>0.000000</td>\n",
       "      <td>0.000000</td>\n",
       "      <td>0.000000</td>\n",
       "      <td>0.000000</td>\n",
       "      <td>0.000000</td>\n",
       "      <td>0.000000</td>\n",
       "      <td>0.000000</td>\n",
       "      <td>...</td>\n",
       "      <td>0.000000</td>\n",
       "      <td>0.000000</td>\n",
       "      <td>0.000000</td>\n",
       "      <td>0.000000</td>\n",
       "      <td>0.000000</td>\n",
       "      <td>0.000000</td>\n",
       "      <td>0.000000</td>\n",
       "      <td>0.000000</td>\n",
       "      <td>1.064092e+05</td>\n",
       "      <td>0.000000</td>\n",
       "    </tr>\n",
       "    <tr>\n",
       "      <th>75%</th>\n",
       "      <td>113748.750000</td>\n",
       "      <td>2.000000</td>\n",
       "      <td>40.000000</td>\n",
       "      <td>0.000000</td>\n",
       "      <td>0.000000</td>\n",
       "      <td>0.000000</td>\n",
       "      <td>0.000000</td>\n",
       "      <td>0.000000</td>\n",
       "      <td>0.000000</td>\n",
       "      <td>0.000000</td>\n",
       "      <td>...</td>\n",
       "      <td>0.000000</td>\n",
       "      <td>0.000000</td>\n",
       "      <td>0.000000</td>\n",
       "      <td>0.000000</td>\n",
       "      <td>0.000000</td>\n",
       "      <td>0.000000</td>\n",
       "      <td>0.000000</td>\n",
       "      <td>0.000000</td>\n",
       "      <td>1.187563e+05</td>\n",
       "      <td>0.000000</td>\n",
       "    </tr>\n",
       "    <tr>\n",
       "      <th>max</th>\n",
       "      <td>151838.000000</td>\n",
       "      <td>238.000000</td>\n",
       "      <td>105.000000</td>\n",
       "      <td>210000.000000</td>\n",
       "      <td>12888.030000</td>\n",
       "      <td>21024.810000</td>\n",
       "      <td>8237.820000</td>\n",
       "      <td>11073.570000</td>\n",
       "      <td>6600.000000</td>\n",
       "      <td>6600.000000</td>\n",
       "      <td>...</td>\n",
       "      <td>50003.880000</td>\n",
       "      <td>20385.720000</td>\n",
       "      <td>138831.630000</td>\n",
       "      <td>91778.730000</td>\n",
       "      <td>438329.220000</td>\n",
       "      <td>24650.010000</td>\n",
       "      <td>681462.900000</td>\n",
       "      <td>397884.300000</td>\n",
       "      <td>2.203474e+07</td>\n",
       "      <td>1.000000</td>\n",
       "    </tr>\n",
       "  </tbody>\n",
       "</table>\n",
       "<p>8 rows × 371 columns</p>\n",
       "</div>"
      ],
      "text/plain": [
       "                  ID           var3         var15  imp_ent_var16_ult1  \\\n",
       "count   76020.000000   76020.000000  76020.000000        76020.000000   \n",
       "mean    75964.050723   -1523.199277     33.212865           86.208265   \n",
       "std     43781.947379   39033.462364     12.956486         1614.757313   \n",
       "min         1.000000 -999999.000000      5.000000            0.000000   \n",
       "25%     38104.750000       2.000000     23.000000            0.000000   \n",
       "50%     76043.000000       2.000000     28.000000            0.000000   \n",
       "75%    113748.750000       2.000000     40.000000            0.000000   \n",
       "max    151838.000000     238.000000    105.000000       210000.000000   \n",
       "\n",
       "       imp_op_var39_comer_ult1  imp_op_var39_comer_ult3  \\\n",
       "count             76020.000000             76020.000000   \n",
       "mean                 72.363067               119.529632   \n",
       "std                 339.315831               546.266294   \n",
       "min                   0.000000                 0.000000   \n",
       "25%                   0.000000                 0.000000   \n",
       "50%                   0.000000                 0.000000   \n",
       "75%                   0.000000                 0.000000   \n",
       "max               12888.030000             21024.810000   \n",
       "\n",
       "       imp_op_var40_comer_ult1  imp_op_var40_comer_ult3  \\\n",
       "count             76020.000000             76020.000000   \n",
       "mean                  3.559130                 6.472698   \n",
       "std                  93.155749               153.737066   \n",
       "min                   0.000000                 0.000000   \n",
       "25%                   0.000000                 0.000000   \n",
       "50%                   0.000000                 0.000000   \n",
       "75%                   0.000000                 0.000000   \n",
       "max                8237.820000             11073.570000   \n",
       "\n",
       "       imp_op_var40_efect_ult1  imp_op_var40_efect_ult3  ...  \\\n",
       "count             76020.000000             76020.000000  ...   \n",
       "mean                  0.412946                 0.567352  ...   \n",
       "std                  30.604864                36.513513  ...   \n",
       "min                   0.000000                 0.000000  ...   \n",
       "25%                   0.000000                 0.000000  ...   \n",
       "50%                   0.000000                 0.000000  ...   \n",
       "75%                   0.000000                 0.000000  ...   \n",
       "max                6600.000000              6600.000000  ...   \n",
       "\n",
       "       saldo_medio_var33_hace2  saldo_medio_var33_hace3  \\\n",
       "count             76020.000000             76020.000000   \n",
       "mean                  7.935824                 1.365146   \n",
       "std                 455.887218               113.959637   \n",
       "min                   0.000000                 0.000000   \n",
       "25%                   0.000000                 0.000000   \n",
       "50%                   0.000000                 0.000000   \n",
       "75%                   0.000000                 0.000000   \n",
       "max               50003.880000             20385.720000   \n",
       "\n",
       "       saldo_medio_var33_ult1  saldo_medio_var33_ult3  \\\n",
       "count            76020.000000            76020.000000   \n",
       "mean                12.215580                8.784074   \n",
       "std                783.207399              538.439211   \n",
       "min                  0.000000                0.000000   \n",
       "25%                  0.000000                0.000000   \n",
       "50%                  0.000000                0.000000   \n",
       "75%                  0.000000                0.000000   \n",
       "max             138831.630000            91778.730000   \n",
       "\n",
       "       saldo_medio_var44_hace2  saldo_medio_var44_hace3  \\\n",
       "count             76020.000000             76020.000000   \n",
       "mean                 31.505324                 1.858575   \n",
       "std                2013.125393               147.786584   \n",
       "min                   0.000000                 0.000000   \n",
       "25%                   0.000000                 0.000000   \n",
       "50%                   0.000000                 0.000000   \n",
       "75%                   0.000000                 0.000000   \n",
       "max              438329.220000             24650.010000   \n",
       "\n",
       "       saldo_medio_var44_ult1  saldo_medio_var44_ult3         var38  \\\n",
       "count            76020.000000            76020.000000  7.602000e+04   \n",
       "mean                76.026165               56.614351  1.172358e+05   \n",
       "std               4040.337842             2852.579397  1.826646e+05   \n",
       "min                  0.000000                0.000000  5.163750e+03   \n",
       "25%                  0.000000                0.000000  6.787061e+04   \n",
       "50%                  0.000000                0.000000  1.064092e+05   \n",
       "75%                  0.000000                0.000000  1.187563e+05   \n",
       "max             681462.900000           397884.300000  2.203474e+07   \n",
       "\n",
       "             TARGET  \n",
       "count  76020.000000  \n",
       "mean       0.039569  \n",
       "std        0.194945  \n",
       "min        0.000000  \n",
       "25%        0.000000  \n",
       "50%        0.000000  \n",
       "75%        0.000000  \n",
       "max        1.000000  \n",
       "\n",
       "[8 rows x 371 columns]"
      ]
     },
     "execution_count": 5,
     "metadata": {},
     "output_type": "execute_result"
    }
   ],
   "source": [
    "df.describe()"
   ]
  },
  {
   "cell_type": "markdown",
   "id": "copyrighted-reggae",
   "metadata": {
    "papermill": {
     "duration": 0.021507,
     "end_time": "2021-06-28T13:07:02.611429",
     "exception": false,
     "start_time": "2021-06-28T13:07:02.589922",
     "status": "completed"
    },
    "tags": []
   },
   "source": [
    "# Feature Importance"
   ]
  },
  {
   "cell_type": "code",
   "execution_count": 6,
   "id": "northern-irish",
   "metadata": {
    "execution": {
     "iopub.execute_input": "2021-06-28T13:07:02.656795Z",
     "iopub.status.busy": "2021-06-28T13:07:02.656156Z",
     "iopub.status.idle": "2021-06-28T13:07:02.968088Z",
     "shell.execute_reply": "2021-06-28T13:07:02.968469Z",
     "shell.execute_reply.started": "2021-06-28T12:19:12.802406Z"
    },
    "papermill": {
     "duration": 0.335872,
     "end_time": "2021-06-28T13:07:02.968632",
     "exception": false,
     "start_time": "2021-06-28T13:07:02.632760",
     "status": "completed"
    },
    "tags": []
   },
   "outputs": [],
   "source": [
    "X = df.drop(['TARGET'], axis=1).values\n",
    "y = df['TARGET'].values\n",
    "X_train, X_test, y_train, y_test = train_test_split(X, y, stratify=y, random_state=42)"
   ]
  },
  {
   "cell_type": "code",
   "execution_count": 7,
   "id": "painful-argentina",
   "metadata": {
    "execution": {
     "iopub.execute_input": "2021-06-28T13:07:03.014468Z",
     "iopub.status.busy": "2021-06-28T13:07:03.013823Z",
     "iopub.status.idle": "2021-06-28T13:07:20.210883Z",
     "shell.execute_reply": "2021-06-28T13:07:20.211267Z",
     "shell.execute_reply.started": "2021-06-28T12:19:13.326919Z"
    },
    "papermill": {
     "duration": 17.221051,
     "end_time": "2021-06-28T13:07:20.211403",
     "exception": false,
     "start_time": "2021-06-28T13:07:02.990352",
     "status": "completed"
    },
    "tags": []
   },
   "outputs": [
    {
     "data": {
      "text/plain": [
       "RandomForestClassifier(random_state=0)"
      ]
     },
     "execution_count": 7,
     "metadata": {},
     "output_type": "execute_result"
    }
   ],
   "source": [
    "feature_names = [f'feature {i}' for i in range(X.shape[1])]\n",
    "forest = RandomForestClassifier(random_state=0)\n",
    "forest.fit(X_train, y_train)"
   ]
  },
  {
   "cell_type": "markdown",
   "id": "atlantic-commodity",
   "metadata": {
    "papermill": {
     "duration": 0.020995,
     "end_time": "2021-06-28T13:07:20.254006",
     "exception": false,
     "start_time": "2021-06-28T13:07:20.233011",
     "status": "completed"
    },
    "tags": []
   },
   "source": [
    "## Based on mean decrease in impurity"
   ]
  },
  {
   "cell_type": "code",
   "execution_count": 8,
   "id": "robust-gross",
   "metadata": {
    "execution": {
     "iopub.execute_input": "2021-06-28T13:07:20.299701Z",
     "iopub.status.busy": "2021-06-28T13:07:20.299033Z",
     "iopub.status.idle": "2021-06-28T13:07:20.614489Z",
     "shell.execute_reply": "2021-06-28T13:07:20.614889Z",
     "shell.execute_reply.started": "2021-06-28T12:19:30.688434Z"
    },
    "papermill": {
     "duration": 0.339551,
     "end_time": "2021-06-28T13:07:20.615058",
     "exception": false,
     "start_time": "2021-06-28T13:07:20.275507",
     "status": "completed"
    },
    "tags": []
   },
   "outputs": [
    {
     "name": "stdout",
     "output_type": "stream",
     "text": [
      "Elapsed time to compute the importances: 0.027 seconds\n"
     ]
    },
    {
     "data": {
      "image/png": "[encoded data removed]",
      "text/plain": [
       "<Figure size 432x288 with 1 Axes>"
      ]
     },
     "metadata": {
      "needs_background": "light"
     },
     "output_type": "display_data"
    }
   ],
   "source": [
    "start_time = time.time()\n",
    "importances = forest.feature_importances_\n",
    "std = np.std([\n",
    "    tree.feature_importances_ for tree in forest.estimators_], axis=0)\n",
    "top_std = sorted(std, reverse=True)[:10]\n",
    "\n",
    "elapsed_time = time.time() - start_time\n",
    "\n",
    "print(f\"Elapsed time to compute the importances: \"\n",
    "      f\"{elapsed_time:.3f} seconds\")\n",
    "\n",
    "\n",
    "imp_dict = {feature_names[i]: importances[i] for i in range(len(feature_names))}\n",
    "imp_dict = dict(sorted(imp_dict.items(), key=itemgetter(0)))\n",
    "forest_importances = pd.Series(list(imp_dict.values())[:10], index=list(imp_dict.keys())[:10])\n",
    "\n",
    "fig, ax = plt.subplots()\n",
    "forest_importances.plot.bar(yerr=top_std, ax=ax)\n",
    "ax.set_title(\"Feature importances using MDI\")\n",
    "ax.set_ylabel(\"Mean decrease in impurity\")\n",
    "fig.tight_layout()"
   ]
  },
  {
   "cell_type": "markdown",
   "id": "danish-surveillance",
   "metadata": {
    "papermill": {
     "duration": 0.022284,
     "end_time": "2021-06-28T13:07:20.659872",
     "exception": false,
     "start_time": "2021-06-28T13:07:20.637588",
     "status": "completed"
    },
    "tags": []
   },
   "source": [
    "# Single Model Building & Evaluation"
   ]
  },
  {
   "cell_type": "markdown",
   "id": "supreme-enterprise",
   "metadata": {
    "papermill": {
     "duration": 0.022145,
     "end_time": "2021-06-28T13:07:20.704769",
     "exception": false,
     "start_time": "2021-06-28T13:07:20.682624",
     "status": "completed"
    },
    "tags": []
   },
   "source": [
    "## 1-  Naive Bayes"
   ]
  },
  {
   "cell_type": "code",
   "execution_count": 9,
   "id": "indoor-colonial",
   "metadata": {
    "execution": {
     "iopub.execute_input": "2021-06-28T13:07:20.760376Z",
     "iopub.status.busy": "2021-06-28T13:07:20.759841Z",
     "iopub.status.idle": "2021-06-28T13:07:21.578928Z",
     "shell.execute_reply": "2021-06-28T13:07:21.578399Z",
     "shell.execute_reply.started": "2021-06-28T12:19:30.979943Z"
    },
    "papermill": {
     "duration": 0.851555,
     "end_time": "2021-06-28T13:07:21.579208",
     "exception": false,
     "start_time": "2021-06-28T13:07:20.727653",
     "status": "completed"
    },
    "tags": []
   },
   "outputs": [
    {
     "name": "stdout",
     "output_type": "stream",
     "text": [
      "Your model's performance is captured by the following performance evaluation:\n",
      "\n",
      "{'Accuracy': 0.0662, 'Bal. Accuracy': 0.5124, 'Precision': 0.0411, 'Recall': 0.9974, 'F1_Score': 0.0789, 'log_loss': 32.1821}\n"
     ]
    },
    {
     "data": {
      "image/png": "[encoded data removed]",
      "text/plain": [
       "<Figure size 432x288 with 1 Axes>"
      ]
     },
     "metadata": {
      "needs_background": "light"
     },
     "output_type": "display_data"
    }
   ],
   "source": [
    "nb = classifier.Classifier(X, y, 'guass_nb')\n",
    "nb.preprocess_split(size=0.25, state=72)\n",
    "nb.fit_predict()\n",
    "nb.metrics(printing=True)\n",
    "nb.roc_curve()"
   ]
  },
  {
   "cell_type": "markdown",
   "id": "equal-lottery",
   "metadata": {
    "papermill": {
     "duration": 0.023664,
     "end_time": "2021-06-28T13:07:21.627478",
     "exception": false,
     "start_time": "2021-06-28T13:07:21.603814",
     "status": "completed"
    },
    "tags": []
   },
   "source": [
    "## 2- K-Nearest Neighbors"
   ]
  },
  {
   "cell_type": "code",
   "execution_count": 10,
   "id": "legendary-glass",
   "metadata": {
    "execution": {
     "iopub.execute_input": "2021-06-28T13:07:21.678700Z",
     "iopub.status.busy": "2021-06-28T13:07:21.678241Z",
     "iopub.status.idle": "2021-06-28T13:08:12.406286Z",
     "shell.execute_reply": "2021-06-28T13:08:12.405778Z",
     "shell.execute_reply.started": "2021-06-28T12:19:32.143912Z"
    },
    "papermill": {
     "duration": 50.755213,
     "end_time": "2021-06-28T13:08:12.406392",
     "exception": false,
     "start_time": "2021-06-28T13:07:21.651179",
     "status": "completed"
    },
    "tags": []
   },
   "outputs": [
    {
     "name": "stdout",
     "output_type": "stream",
     "text": [
      "Your model's performance is captured by the following performance evaluation:\n",
      "\n",
      "{'Accuracy': 0.9593, 'Bal. Accuracy': 0.5009, 'Precision': 0.125, 'Recall': 0.0026, 'F1_Score': 0.0051, 'log_loss': 1.1313}\n"
     ]
    },
    {
     "data": {
      "image/png": "[encoded data removed]",
      "text/plain": [
       "<Figure size 432x288 with 1 Axes>"
      ]
     },
     "metadata": {
      "needs_background": "light"
     },
     "output_type": "display_data"
    }
   ],
   "source": [
    "knn = classifier.Classifier(X, y, 'knn')\n",
    "knn.preprocess_split(size=0.25, state=72)\n",
    "knn.fit_predict()\n",
    "knn.metrics(printing=True)\n",
    "knn.roc_curve()"
   ]
  },
  {
   "cell_type": "markdown",
   "id": "peripheral-pierce",
   "metadata": {
    "papermill": {
     "duration": 0.023974,
     "end_time": "2021-06-28T13:08:12.455295",
     "exception": false,
     "start_time": "2021-06-28T13:08:12.431321",
     "status": "completed"
    },
    "tags": []
   },
   "source": [
    "## 3- Logistic Regression"
   ]
  },
  {
   "cell_type": "code",
   "execution_count": 11,
   "id": "generous-wayne",
   "metadata": {
    "execution": {
     "iopub.execute_input": "2021-06-28T13:08:12.509924Z",
     "iopub.status.busy": "2021-06-28T13:08:12.509411Z",
     "iopub.status.idle": "2021-06-28T13:08:17.213382Z",
     "shell.execute_reply": "2021-06-28T13:08:17.212829Z",
     "shell.execute_reply.started": "2021-06-28T12:20:32.778958Z"
    },
    "papermill": {
     "duration": 4.733259,
     "end_time": "2021-06-28T13:08:17.213496",
     "exception": false,
     "start_time": "2021-06-28T13:08:12.480237",
     "status": "completed"
    },
    "tags": []
   },
   "outputs": [
    {
     "name": "stdout",
     "output_type": "stream",
     "text": [
      "Your model's performance is captured by the following performance evaluation:\n",
      "\n",
      "{'Accuracy': 0.9599, 'Bal. Accuracy': 0.5, 'Precision': 0.0, 'Recall': 0.0, 'F1_Score': 0.0, 'log_loss': 0.1897}\n"
     ]
    },
    {
     "data": {
      "image/png": "[encoded data removed]",
      "text/plain": [
       "<Figure size 432x288 with 1 Axes>"
      ]
     },
     "metadata": {
      "needs_background": "light"
     },
     "output_type": "display_data"
    }
   ],
   "source": [
    "log = classifier.Classifier(X, y, 'log_reg')\n",
    "log.preprocess_split(size=0.25, state=72)\n",
    "log.fit_predict()\n",
    "log.metrics(printing=True)\n",
    "log.roc_curve()"
   ]
  },
  {
   "cell_type": "markdown",
   "id": "global-testing",
   "metadata": {
    "papermill": {
     "duration": 0.025437,
     "end_time": "2021-06-28T13:08:17.265125",
     "exception": false,
     "start_time": "2021-06-28T13:08:17.239688",
     "status": "completed"
    },
    "tags": []
   },
   "source": [
    "## 4- Decision Tree"
   ]
  },
  {
   "cell_type": "code",
   "execution_count": 12,
   "id": "brutal-showcase",
   "metadata": {
    "execution": {
     "iopub.execute_input": "2021-06-28T13:08:17.321241Z",
     "iopub.status.busy": "2021-06-28T13:08:17.320666Z",
     "iopub.status.idle": "2021-06-28T13:08:21.083274Z",
     "shell.execute_reply": "2021-06-28T13:08:21.083652Z",
     "shell.execute_reply.started": "2021-06-28T12:20:39.010680Z"
    },
    "papermill": {
     "duration": 3.79275,
     "end_time": "2021-06-28T13:08:21.083801",
     "exception": false,
     "start_time": "2021-06-28T13:08:17.291051",
     "status": "completed"
    },
    "tags": []
   },
   "outputs": [
    {
     "name": "stdout",
     "output_type": "stream",
     "text": [
      "Your model's performance is captured by the following performance evaluation:\n",
      "\n",
      "{'Accuracy': 0.9242, 'Bal. Accuracy': 0.5474, 'Precision': 0.1181, 'Recall': 0.1378, 'F1_Score': 0.1272, 'log_loss': 2.6188}\n"
     ]
    },
    {
     "data": {
      "image/png": "[encoded data removed]",
      "text/plain": [
       "<Figure size 432x288 with 1 Axes>"
      ]
     },
     "metadata": {
      "needs_background": "light"
     },
     "output_type": "display_data"
    }
   ],
   "source": [
    "tree = classifier.Classifier(X, y, 'tree')\n",
    "tree.preprocess_split(size=0.25, state=72)\n",
    "tree.fit_predict()\n",
    "tree.metrics(printing=True)\n",
    "tree.roc_curve()"
   ]
  },
  {
   "cell_type": "markdown",
   "id": "unavailable-essay",
   "metadata": {
    "papermill": {
     "duration": 0.026727,
     "end_time": "2021-06-28T13:08:21.137216",
     "exception": false,
     "start_time": "2021-06-28T13:08:21.110489",
     "status": "completed"
    },
    "tags": []
   },
   "source": [
    "### What's next? Model Tuning (Best Parameter Search), Ensemble Learning, Model Finalization"
   ]
  },
  {
   "cell_type": "markdown",
   "id": "waiting-determination",
   "metadata": {
    "papermill": {
     "duration": 0.026535,
     "end_time": "2021-06-28T13:08:21.190434",
     "exception": false,
     "start_time": "2021-06-28T13:08:21.163899",
     "status": "completed"
    },
    "tags": []
   },
   "source": [
    "# Ensemble Learning"
   ]
  },
  {
   "cell_type": "markdown",
   "id": "smart-constitution",
   "metadata": {
    "papermill": {
     "duration": 0.026581,
     "end_time": "2021-06-28T13:08:21.243633",
     "exception": false,
     "start_time": "2021-06-28T13:08:21.217052",
     "status": "completed"
    },
    "tags": []
   },
   "source": [
    "## 1- Random Forest (Given the individual tree performed better than any other model, we will proceed on starting with the random forest)"
   ]
  },
  {
   "cell_type": "code",
   "execution_count": 13,
   "id": "tender-approach",
   "metadata": {
    "execution": {
     "iopub.execute_input": "2021-06-28T13:08:21.302727Z",
     "iopub.status.busy": "2021-06-28T13:08:21.302236Z",
     "iopub.status.idle": "2021-06-28T13:08:21.517109Z",
     "shell.execute_reply": "2021-06-28T13:08:21.516645Z",
     "shell.execute_reply.started": "2021-06-28T12:20:42.997905Z"
    },
    "papermill": {
     "duration": 0.247281,
     "end_time": "2021-06-28T13:08:21.517221",
     "exception": false,
     "start_time": "2021-06-28T13:08:21.269940",
     "status": "completed"
    },
    "tags": []
   },
   "outputs": [],
   "source": [
    "X_train, X_test, y_train, y_test = train_test_split(X, y, test_size=0.3, random_state=42)"
   ]
  },
  {
   "cell_type": "code",
   "execution_count": 14,
   "id": "textile-wireless",
   "metadata": {
    "execution": {
     "iopub.execute_input": "2021-06-28T13:08:21.574986Z",
     "iopub.status.busy": "2021-06-28T13:08:21.574502Z",
     "iopub.status.idle": "2021-06-28T13:34:37.597558Z",
     "shell.execute_reply": "2021-06-28T13:34:37.598007Z",
     "shell.execute_reply.started": "2021-06-28T12:20:43.338733Z"
    },
    "papermill": {
     "duration": 1576.053977,
     "end_time": "2021-06-28T13:34:37.598143",
     "exception": false,
     "start_time": "2021-06-28T13:08:21.544166",
     "status": "completed"
    },
    "tags": []
   },
   "outputs": [
    {
     "name": "stdout",
     "output_type": "stream",
     "text": [
      "              precision    recall  f1-score   support\n",
      "\n",
      "           0       0.96      1.00      0.98     21891\n",
      "           1       0.22      0.02      0.04       915\n",
      "\n",
      "    accuracy                           0.96     22806\n",
      "   macro avg       0.59      0.51      0.51     22806\n",
      "weighted avg       0.93      0.96      0.94     22806\n",
      "\n"
     ]
    }
   ],
   "source": [
    "rf = RandomForestClassifier(n_estimators = 10000, random_state = 42, class_weight='balanced_subsample')\n",
    "rf.fit(X_train, y_train)\n",
    "pred = rf.predict(X_test)\n",
    "print(classification_report(y_test, pred))"
   ]
  },
  {
   "cell_type": "markdown",
   "id": "straight-amplifier",
   "metadata": {
    "papermill": {
     "duration": 0.026584,
     "end_time": "2021-06-28T13:34:37.652607",
     "exception": false,
     "start_time": "2021-06-28T13:34:37.626023",
     "status": "completed"
    },
    "tags": []
   },
   "source": [
    "## 2- Bagging (with a tree as base estmiator)"
   ]
  },
  {
   "cell_type": "code",
   "execution_count": 15,
   "id": "falling-request",
   "metadata": {
    "execution": {
     "iopub.execute_input": "2021-06-28T13:34:37.709570Z",
     "iopub.status.busy": "2021-06-28T13:34:37.708879Z",
     "iopub.status.idle": "2021-06-28T13:34:56.532302Z",
     "shell.execute_reply": "2021-06-28T13:34:56.531793Z",
     "shell.execute_reply.started": "2021-06-28T12:47:08.629212Z"
    },
    "papermill": {
     "duration": 18.852672,
     "end_time": "2021-06-28T13:34:56.532414",
     "exception": false,
     "start_time": "2021-06-28T13:34:37.679742",
     "status": "completed"
    },
    "tags": []
   },
   "outputs": [
    {
     "name": "stdout",
     "output_type": "stream",
     "text": [
      "              precision    recall  f1-score   support\n",
      "\n",
      "           0       0.96      0.99      0.98     21891\n",
      "           1       0.21      0.04      0.06       915\n",
      "\n",
      "    accuracy                           0.96     22806\n",
      "   macro avg       0.59      0.52      0.52     22806\n",
      "weighted avg       0.93      0.96      0.94     22806\n",
      "\n"
     ]
    }
   ],
   "source": [
    "bag = BaggingClassifier(random_state=42)\n",
    "bag.fit(X_train, y_train)\n",
    "pred = bag.predict(X_test)\n",
    "print(classification_report(y_test, pred))"
   ]
  },
  {
   "cell_type": "markdown",
   "id": "encouraging-great",
   "metadata": {
    "papermill": {
     "duration": 0.027401,
     "end_time": "2021-06-28T13:34:56.587455",
     "exception": false,
     "start_time": "2021-06-28T13:34:56.560054",
     "status": "completed"
    },
    "tags": []
   },
   "source": [
    "# Obtain the submission format on the test data"
   ]
  },
  {
   "cell_type": "code",
   "execution_count": 16,
   "id": "advised-vegetarian",
   "metadata": {
    "execution": {
     "iopub.execute_input": "2021-06-28T13:34:56.646968Z",
     "iopub.status.busy": "2021-06-28T13:34:56.646434Z",
     "iopub.status.idle": "2021-06-28T13:34:56.692180Z",
     "shell.execute_reply": "2021-06-28T13:34:56.691733Z",
     "shell.execute_reply.started": "2021-06-28T12:47:32.784942Z"
    },
    "papermill": {
     "duration": 0.077074,
     "end_time": "2021-06-28T13:34:56.692282",
     "exception": false,
     "start_time": "2021-06-28T13:34:56.615208",
     "status": "completed"
    },
    "tags": []
   },
   "outputs": [
    {
     "data": {
      "text/html": [
       "<div>\n",
       "<style scoped>\n",
       "    .dataframe tbody tr th:only-of-type {\n",
       "        vertical-align: middle;\n",
       "    }\n",
       "\n",
       "    .dataframe tbody tr th {\n",
       "        vertical-align: top;\n",
       "    }\n",
       "\n",
       "    .dataframe thead th {\n",
       "        text-align: right;\n",
       "    }\n",
       "</style>\n",
       "<table border=\"1\" class=\"dataframe\">\n",
       "  <thead>\n",
       "    <tr style=\"text-align: right;\">\n",
       "      <th></th>\n",
       "      <th>ID</th>\n",
       "      <th>TARGET</th>\n",
       "    </tr>\n",
       "  </thead>\n",
       "  <tbody>\n",
       "    <tr>\n",
       "      <th>0</th>\n",
       "      <td>2</td>\n",
       "      <td>0</td>\n",
       "    </tr>\n",
       "    <tr>\n",
       "      <th>1</th>\n",
       "      <td>5</td>\n",
       "      <td>0</td>\n",
       "    </tr>\n",
       "    <tr>\n",
       "      <th>2</th>\n",
       "      <td>6</td>\n",
       "      <td>0</td>\n",
       "    </tr>\n",
       "    <tr>\n",
       "      <th>3</th>\n",
       "      <td>7</td>\n",
       "      <td>0</td>\n",
       "    </tr>\n",
       "    <tr>\n",
       "      <th>4</th>\n",
       "      <td>9</td>\n",
       "      <td>0</td>\n",
       "    </tr>\n",
       "    <tr>\n",
       "      <th>...</th>\n",
       "      <td>...</td>\n",
       "      <td>...</td>\n",
       "    </tr>\n",
       "    <tr>\n",
       "      <th>75813</th>\n",
       "      <td>151831</td>\n",
       "      <td>0</td>\n",
       "    </tr>\n",
       "    <tr>\n",
       "      <th>75814</th>\n",
       "      <td>151832</td>\n",
       "      <td>0</td>\n",
       "    </tr>\n",
       "    <tr>\n",
       "      <th>75815</th>\n",
       "      <td>151833</td>\n",
       "      <td>0</td>\n",
       "    </tr>\n",
       "    <tr>\n",
       "      <th>75816</th>\n",
       "      <td>151834</td>\n",
       "      <td>0</td>\n",
       "    </tr>\n",
       "    <tr>\n",
       "      <th>75817</th>\n",
       "      <td>151837</td>\n",
       "      <td>0</td>\n",
       "    </tr>\n",
       "  </tbody>\n",
       "</table>\n",
       "<p>75818 rows × 2 columns</p>\n",
       "</div>"
      ],
      "text/plain": [
       "           ID  TARGET\n",
       "0           2       0\n",
       "1           5       0\n",
       "2           6       0\n",
       "3           7       0\n",
       "4           9       0\n",
       "...       ...     ...\n",
       "75813  151831       0\n",
       "75814  151832       0\n",
       "75815  151833       0\n",
       "75816  151834       0\n",
       "75817  151837       0\n",
       "\n",
       "[75818 rows x 2 columns]"
      ]
     },
     "execution_count": 16,
     "metadata": {},
     "output_type": "execute_result"
    }
   ],
   "source": [
    "sample = pd.read_csv('/kaggle/input/santander-customer-satisfaction/sample_submission.csv')\n",
    "sample"
   ]
  },
  {
   "cell_type": "code",
   "execution_count": 17,
   "id": "velvet-reaction",
   "metadata": {
    "execution": {
     "iopub.execute_input": "2021-06-28T13:34:56.756390Z",
     "iopub.status.busy": "2021-06-28T13:34:56.755312Z",
     "iopub.status.idle": "2021-06-28T13:34:59.569521Z",
     "shell.execute_reply": "2021-06-28T13:34:59.568656Z",
     "shell.execute_reply.started": "2021-06-28T12:47:32.842011Z"
    },
    "papermill": {
     "duration": 2.849853,
     "end_time": "2021-06-28T13:34:59.569659",
     "exception": false,
     "start_time": "2021-06-28T13:34:56.719806",
     "status": "completed"
    },
    "tags": []
   },
   "outputs": [
    {
     "data": {
      "text/html": [
       "<div>\n",
       "<style scoped>\n",
       "    .dataframe tbody tr th:only-of-type {\n",
       "        vertical-align: middle;\n",
       "    }\n",
       "\n",
       "    .dataframe tbody tr th {\n",
       "        vertical-align: top;\n",
       "    }\n",
       "\n",
       "    .dataframe thead th {\n",
       "        text-align: right;\n",
       "    }\n",
       "</style>\n",
       "<table border=\"1\" class=\"dataframe\">\n",
       "  <thead>\n",
       "    <tr style=\"text-align: right;\">\n",
       "      <th></th>\n",
       "      <th>ID</th>\n",
       "      <th>var3</th>\n",
       "      <th>var15</th>\n",
       "      <th>imp_ent_var16_ult1</th>\n",
       "      <th>imp_op_var39_comer_ult1</th>\n",
       "      <th>imp_op_var39_comer_ult3</th>\n",
       "      <th>imp_op_var40_comer_ult1</th>\n",
       "      <th>imp_op_var40_comer_ult3</th>\n",
       "      <th>imp_op_var40_efect_ult1</th>\n",
       "      <th>imp_op_var40_efect_ult3</th>\n",
       "      <th>...</th>\n",
       "      <th>saldo_medio_var29_ult3</th>\n",
       "      <th>saldo_medio_var33_hace2</th>\n",
       "      <th>saldo_medio_var33_hace3</th>\n",
       "      <th>saldo_medio_var33_ult1</th>\n",
       "      <th>saldo_medio_var33_ult3</th>\n",
       "      <th>saldo_medio_var44_hace2</th>\n",
       "      <th>saldo_medio_var44_hace3</th>\n",
       "      <th>saldo_medio_var44_ult1</th>\n",
       "      <th>saldo_medio_var44_ult3</th>\n",
       "      <th>var38</th>\n",
       "    </tr>\n",
       "  </thead>\n",
       "  <tbody>\n",
       "    <tr>\n",
       "      <th>0</th>\n",
       "      <td>2</td>\n",
       "      <td>2</td>\n",
       "      <td>32</td>\n",
       "      <td>0.0</td>\n",
       "      <td>0.0</td>\n",
       "      <td>0.0</td>\n",
       "      <td>0.0</td>\n",
       "      <td>0.0</td>\n",
       "      <td>0.0</td>\n",
       "      <td>0.0</td>\n",
       "      <td>...</td>\n",
       "      <td>0.0</td>\n",
       "      <td>0.0</td>\n",
       "      <td>0.0</td>\n",
       "      <td>0.0</td>\n",
       "      <td>0.0</td>\n",
       "      <td>0.0</td>\n",
       "      <td>0.0</td>\n",
       "      <td>0.0</td>\n",
       "      <td>0.0</td>\n",
       "      <td>40532.100000</td>\n",
       "    </tr>\n",
       "    <tr>\n",
       "      <th>1</th>\n",
       "      <td>5</td>\n",
       "      <td>2</td>\n",
       "      <td>35</td>\n",
       "      <td>0.0</td>\n",
       "      <td>0.0</td>\n",
       "      <td>0.0</td>\n",
       "      <td>0.0</td>\n",
       "      <td>0.0</td>\n",
       "      <td>0.0</td>\n",
       "      <td>0.0</td>\n",
       "      <td>...</td>\n",
       "      <td>0.0</td>\n",
       "      <td>0.0</td>\n",
       "      <td>0.0</td>\n",
       "      <td>0.0</td>\n",
       "      <td>0.0</td>\n",
       "      <td>0.0</td>\n",
       "      <td>0.0</td>\n",
       "      <td>0.0</td>\n",
       "      <td>0.0</td>\n",
       "      <td>45486.720000</td>\n",
       "    </tr>\n",
       "    <tr>\n",
       "      <th>2</th>\n",
       "      <td>6</td>\n",
       "      <td>2</td>\n",
       "      <td>23</td>\n",
       "      <td>0.0</td>\n",
       "      <td>0.0</td>\n",
       "      <td>0.0</td>\n",
       "      <td>0.0</td>\n",
       "      <td>0.0</td>\n",
       "      <td>0.0</td>\n",
       "      <td>0.0</td>\n",
       "      <td>...</td>\n",
       "      <td>0.0</td>\n",
       "      <td>0.0</td>\n",
       "      <td>0.0</td>\n",
       "      <td>0.0</td>\n",
       "      <td>0.0</td>\n",
       "      <td>0.0</td>\n",
       "      <td>0.0</td>\n",
       "      <td>0.0</td>\n",
       "      <td>0.0</td>\n",
       "      <td>46993.950000</td>\n",
       "    </tr>\n",
       "    <tr>\n",
       "      <th>3</th>\n",
       "      <td>7</td>\n",
       "      <td>2</td>\n",
       "      <td>24</td>\n",
       "      <td>0.0</td>\n",
       "      <td>0.0</td>\n",
       "      <td>0.0</td>\n",
       "      <td>0.0</td>\n",
       "      <td>0.0</td>\n",
       "      <td>0.0</td>\n",
       "      <td>0.0</td>\n",
       "      <td>...</td>\n",
       "      <td>0.0</td>\n",
       "      <td>0.0</td>\n",
       "      <td>0.0</td>\n",
       "      <td>0.0</td>\n",
       "      <td>0.0</td>\n",
       "      <td>0.0</td>\n",
       "      <td>0.0</td>\n",
       "      <td>0.0</td>\n",
       "      <td>0.0</td>\n",
       "      <td>187898.610000</td>\n",
       "    </tr>\n",
       "    <tr>\n",
       "      <th>4</th>\n",
       "      <td>9</td>\n",
       "      <td>2</td>\n",
       "      <td>23</td>\n",
       "      <td>0.0</td>\n",
       "      <td>0.0</td>\n",
       "      <td>0.0</td>\n",
       "      <td>0.0</td>\n",
       "      <td>0.0</td>\n",
       "      <td>0.0</td>\n",
       "      <td>0.0</td>\n",
       "      <td>...</td>\n",
       "      <td>0.0</td>\n",
       "      <td>0.0</td>\n",
       "      <td>0.0</td>\n",
       "      <td>0.0</td>\n",
       "      <td>0.0</td>\n",
       "      <td>0.0</td>\n",
       "      <td>0.0</td>\n",
       "      <td>0.0</td>\n",
       "      <td>0.0</td>\n",
       "      <td>73649.730000</td>\n",
       "    </tr>\n",
       "    <tr>\n",
       "      <th>...</th>\n",
       "      <td>...</td>\n",
       "      <td>...</td>\n",
       "      <td>...</td>\n",
       "      <td>...</td>\n",
       "      <td>...</td>\n",
       "      <td>...</td>\n",
       "      <td>...</td>\n",
       "      <td>...</td>\n",
       "      <td>...</td>\n",
       "      <td>...</td>\n",
       "      <td>...</td>\n",
       "      <td>...</td>\n",
       "      <td>...</td>\n",
       "      <td>...</td>\n",
       "      <td>...</td>\n",
       "      <td>...</td>\n",
       "      <td>...</td>\n",
       "      <td>...</td>\n",
       "      <td>...</td>\n",
       "      <td>...</td>\n",
       "      <td>...</td>\n",
       "    </tr>\n",
       "    <tr>\n",
       "      <th>75813</th>\n",
       "      <td>151831</td>\n",
       "      <td>2</td>\n",
       "      <td>23</td>\n",
       "      <td>0.0</td>\n",
       "      <td>0.0</td>\n",
       "      <td>0.0</td>\n",
       "      <td>0.0</td>\n",
       "      <td>0.0</td>\n",
       "      <td>0.0</td>\n",
       "      <td>0.0</td>\n",
       "      <td>...</td>\n",
       "      <td>0.0</td>\n",
       "      <td>0.0</td>\n",
       "      <td>0.0</td>\n",
       "      <td>0.0</td>\n",
       "      <td>0.0</td>\n",
       "      <td>0.0</td>\n",
       "      <td>0.0</td>\n",
       "      <td>0.0</td>\n",
       "      <td>0.0</td>\n",
       "      <td>40243.200000</td>\n",
       "    </tr>\n",
       "    <tr>\n",
       "      <th>75814</th>\n",
       "      <td>151832</td>\n",
       "      <td>2</td>\n",
       "      <td>26</td>\n",
       "      <td>0.0</td>\n",
       "      <td>0.0</td>\n",
       "      <td>0.0</td>\n",
       "      <td>0.0</td>\n",
       "      <td>0.0</td>\n",
       "      <td>0.0</td>\n",
       "      <td>0.0</td>\n",
       "      <td>...</td>\n",
       "      <td>0.0</td>\n",
       "      <td>0.0</td>\n",
       "      <td>0.0</td>\n",
       "      <td>0.0</td>\n",
       "      <td>0.0</td>\n",
       "      <td>0.0</td>\n",
       "      <td>0.0</td>\n",
       "      <td>0.0</td>\n",
       "      <td>0.0</td>\n",
       "      <td>146961.300000</td>\n",
       "    </tr>\n",
       "    <tr>\n",
       "      <th>75815</th>\n",
       "      <td>151833</td>\n",
       "      <td>2</td>\n",
       "      <td>24</td>\n",
       "      <td>0.0</td>\n",
       "      <td>0.0</td>\n",
       "      <td>0.0</td>\n",
       "      <td>0.0</td>\n",
       "      <td>0.0</td>\n",
       "      <td>0.0</td>\n",
       "      <td>0.0</td>\n",
       "      <td>...</td>\n",
       "      <td>0.0</td>\n",
       "      <td>0.0</td>\n",
       "      <td>0.0</td>\n",
       "      <td>0.0</td>\n",
       "      <td>0.0</td>\n",
       "      <td>0.0</td>\n",
       "      <td>0.0</td>\n",
       "      <td>0.0</td>\n",
       "      <td>0.0</td>\n",
       "      <td>167299.770000</td>\n",
       "    </tr>\n",
       "    <tr>\n",
       "      <th>75816</th>\n",
       "      <td>151834</td>\n",
       "      <td>2</td>\n",
       "      <td>40</td>\n",
       "      <td>0.0</td>\n",
       "      <td>0.0</td>\n",
       "      <td>0.0</td>\n",
       "      <td>0.0</td>\n",
       "      <td>0.0</td>\n",
       "      <td>0.0</td>\n",
       "      <td>0.0</td>\n",
       "      <td>...</td>\n",
       "      <td>0.0</td>\n",
       "      <td>0.0</td>\n",
       "      <td>0.0</td>\n",
       "      <td>0.0</td>\n",
       "      <td>0.0</td>\n",
       "      <td>0.0</td>\n",
       "      <td>0.0</td>\n",
       "      <td>0.0</td>\n",
       "      <td>0.0</td>\n",
       "      <td>117310.979016</td>\n",
       "    </tr>\n",
       "    <tr>\n",
       "      <th>75817</th>\n",
       "      <td>151837</td>\n",
       "      <td>2</td>\n",
       "      <td>23</td>\n",
       "      <td>0.0</td>\n",
       "      <td>0.0</td>\n",
       "      <td>0.0</td>\n",
       "      <td>0.0</td>\n",
       "      <td>0.0</td>\n",
       "      <td>0.0</td>\n",
       "      <td>0.0</td>\n",
       "      <td>...</td>\n",
       "      <td>0.0</td>\n",
       "      <td>0.0</td>\n",
       "      <td>0.0</td>\n",
       "      <td>0.0</td>\n",
       "      <td>0.0</td>\n",
       "      <td>0.0</td>\n",
       "      <td>0.0</td>\n",
       "      <td>0.0</td>\n",
       "      <td>0.0</td>\n",
       "      <td>117310.979016</td>\n",
       "    </tr>\n",
       "  </tbody>\n",
       "</table>\n",
       "<p>75818 rows × 370 columns</p>\n",
       "</div>"
      ],
      "text/plain": [
       "           ID  var3  var15  imp_ent_var16_ult1  imp_op_var39_comer_ult1  \\\n",
       "0           2     2     32                 0.0                      0.0   \n",
       "1           5     2     35                 0.0                      0.0   \n",
       "2           6     2     23                 0.0                      0.0   \n",
       "3           7     2     24                 0.0                      0.0   \n",
       "4           9     2     23                 0.0                      0.0   \n",
       "...       ...   ...    ...                 ...                      ...   \n",
       "75813  151831     2     23                 0.0                      0.0   \n",
       "75814  151832     2     26                 0.0                      0.0   \n",
       "75815  151833     2     24                 0.0                      0.0   \n",
       "75816  151834     2     40                 0.0                      0.0   \n",
       "75817  151837     2     23                 0.0                      0.0   \n",
       "\n",
       "       imp_op_var39_comer_ult3  imp_op_var40_comer_ult1  \\\n",
       "0                          0.0                      0.0   \n",
       "1                          0.0                      0.0   \n",
       "2                          0.0                      0.0   \n",
       "3                          0.0                      0.0   \n",
       "4                          0.0                      0.0   \n",
       "...                        ...                      ...   \n",
       "75813                      0.0                      0.0   \n",
       "75814                      0.0                      0.0   \n",
       "75815                      0.0                      0.0   \n",
       "75816                      0.0                      0.0   \n",
       "75817                      0.0                      0.0   \n",
       "\n",
       "       imp_op_var40_comer_ult3  imp_op_var40_efect_ult1  \\\n",
       "0                          0.0                      0.0   \n",
       "1                          0.0                      0.0   \n",
       "2                          0.0                      0.0   \n",
       "3                          0.0                      0.0   \n",
       "4                          0.0                      0.0   \n",
       "...                        ...                      ...   \n",
       "75813                      0.0                      0.0   \n",
       "75814                      0.0                      0.0   \n",
       "75815                      0.0                      0.0   \n",
       "75816                      0.0                      0.0   \n",
       "75817                      0.0                      0.0   \n",
       "\n",
       "       imp_op_var40_efect_ult3  ...  saldo_medio_var29_ult3  \\\n",
       "0                          0.0  ...                     0.0   \n",
       "1                          0.0  ...                     0.0   \n",
       "2                          0.0  ...                     0.0   \n",
       "3                          0.0  ...                     0.0   \n",
       "4                          0.0  ...                     0.0   \n",
       "...                        ...  ...                     ...   \n",
       "75813                      0.0  ...                     0.0   \n",
       "75814                      0.0  ...                     0.0   \n",
       "75815                      0.0  ...                     0.0   \n",
       "75816                      0.0  ...                     0.0   \n",
       "75817                      0.0  ...                     0.0   \n",
       "\n",
       "       saldo_medio_var33_hace2  saldo_medio_var33_hace3  \\\n",
       "0                          0.0                      0.0   \n",
       "1                          0.0                      0.0   \n",
       "2                          0.0                      0.0   \n",
       "3                          0.0                      0.0   \n",
       "4                          0.0                      0.0   \n",
       "...                        ...                      ...   \n",
       "75813                      0.0                      0.0   \n",
       "75814                      0.0                      0.0   \n",
       "75815                      0.0                      0.0   \n",
       "75816                      0.0                      0.0   \n",
       "75817                      0.0                      0.0   \n",
       "\n",
       "       saldo_medio_var33_ult1  saldo_medio_var33_ult3  \\\n",
       "0                         0.0                     0.0   \n",
       "1                         0.0                     0.0   \n",
       "2                         0.0                     0.0   \n",
       "3                         0.0                     0.0   \n",
       "4                         0.0                     0.0   \n",
       "...                       ...                     ...   \n",
       "75813                     0.0                     0.0   \n",
       "75814                     0.0                     0.0   \n",
       "75815                     0.0                     0.0   \n",
       "75816                     0.0                     0.0   \n",
       "75817                     0.0                     0.0   \n",
       "\n",
       "       saldo_medio_var44_hace2  saldo_medio_var44_hace3  \\\n",
       "0                          0.0                      0.0   \n",
       "1                          0.0                      0.0   \n",
       "2                          0.0                      0.0   \n",
       "3                          0.0                      0.0   \n",
       "4                          0.0                      0.0   \n",
       "...                        ...                      ...   \n",
       "75813                      0.0                      0.0   \n",
       "75814                      0.0                      0.0   \n",
       "75815                      0.0                      0.0   \n",
       "75816                      0.0                      0.0   \n",
       "75817                      0.0                      0.0   \n",
       "\n",
       "       saldo_medio_var44_ult1  saldo_medio_var44_ult3          var38  \n",
       "0                         0.0                     0.0   40532.100000  \n",
       "1                         0.0                     0.0   45486.720000  \n",
       "2                         0.0                     0.0   46993.950000  \n",
       "3                         0.0                     0.0  187898.610000  \n",
       "4                         0.0                     0.0   73649.730000  \n",
       "...                       ...                     ...            ...  \n",
       "75813                     0.0                     0.0   40243.200000  \n",
       "75814                     0.0                     0.0  146961.300000  \n",
       "75815                     0.0                     0.0  167299.770000  \n",
       "75816                     0.0                     0.0  117310.979016  \n",
       "75817                     0.0                     0.0  117310.979016  \n",
       "\n",
       "[75818 rows x 370 columns]"
      ]
     },
     "execution_count": 17,
     "metadata": {},
     "output_type": "execute_result"
    }
   ],
   "source": [
    "test_df = pd.read_csv('/kaggle/input/santander-customer-satisfaction/test.csv')\n",
    "test_df"
   ]
  },
  {
   "cell_type": "code",
   "execution_count": 18,
   "id": "ambient-appearance",
   "metadata": {
    "execution": {
     "iopub.execute_input": "2021-06-28T13:34:59.658003Z",
     "iopub.status.busy": "2021-06-28T13:34:59.657047Z",
     "iopub.status.idle": "2021-06-28T13:38:39.181675Z",
     "shell.execute_reply": "2021-06-28T13:38:39.182101Z",
     "shell.execute_reply.started": "2021-06-28T12:47:35.631421Z"
    },
    "papermill": {
     "duration": 219.570376,
     "end_time": "2021-06-28T13:38:39.182243",
     "exception": false,
     "start_time": "2021-06-28T13:34:59.611867",
     "status": "completed"
    },
    "tags": []
   },
   "outputs": [],
   "source": [
    "X_final_test = test_df.values\n",
    "final_pred = rf.predict(X_final_test)"
   ]
  },
  {
   "cell_type": "code",
   "execution_count": 19,
   "id": "secure-transformation",
   "metadata": {
    "execution": {
     "iopub.execute_input": "2021-06-28T13:38:39.243737Z",
     "iopub.status.busy": "2021-06-28T13:38:39.243251Z",
     "iopub.status.idle": "2021-06-28T13:38:39.249411Z",
     "shell.execute_reply": "2021-06-28T13:38:39.249895Z",
     "shell.execute_reply.started": "2021-06-28T12:51:44.598683Z"
    },
    "papermill": {
     "duration": 0.039581,
     "end_time": "2021-06-28T13:38:39.250052",
     "exception": false,
     "start_time": "2021-06-28T13:38:39.210471",
     "status": "completed"
    },
    "tags": []
   },
   "outputs": [
    {
     "data": {
      "text/plain": [
       "0    0.996109\n",
       "1    0.003891\n",
       "Name: TARGET, dtype: float64"
      ]
     },
     "execution_count": 19,
     "metadata": {},
     "output_type": "execute_result"
    }
   ],
   "source": [
    "frame = {'ID': pd.Series(test_df['ID']), 'TARGET': pd.Series(final_pred)}\n",
    "result = pd.DataFrame(frame)\n",
    "result['TARGET'].value_counts(normalize=True)"
   ]
  },
  {
   "cell_type": "code",
   "execution_count": 20,
   "id": "genetic-covering",
   "metadata": {
    "execution": {
     "iopub.execute_input": "2021-06-28T13:38:39.309981Z",
     "iopub.status.busy": "2021-06-28T13:38:39.309430Z",
     "iopub.status.idle": "2021-06-28T13:38:39.317226Z",
     "shell.execute_reply": "2021-06-28T13:38:39.317643Z",
     "shell.execute_reply.started": "2021-06-28T12:51:44.611060Z"
    },
    "papermill": {
     "duration": 0.039376,
     "end_time": "2021-06-28T13:38:39.317784",
     "exception": false,
     "start_time": "2021-06-28T13:38:39.278408",
     "status": "completed"
    },
    "tags": []
   },
   "outputs": [
    {
     "data": {
      "text/html": [
       "<div>\n",
       "<style scoped>\n",
       "    .dataframe tbody tr th:only-of-type {\n",
       "        vertical-align: middle;\n",
       "    }\n",
       "\n",
       "    .dataframe tbody tr th {\n",
       "        vertical-align: top;\n",
       "    }\n",
       "\n",
       "    .dataframe thead th {\n",
       "        text-align: right;\n",
       "    }\n",
       "</style>\n",
       "<table border=\"1\" class=\"dataframe\">\n",
       "  <thead>\n",
       "    <tr style=\"text-align: right;\">\n",
       "      <th></th>\n",
       "      <th>ID</th>\n",
       "      <th>TARGET</th>\n",
       "    </tr>\n",
       "  </thead>\n",
       "  <tbody>\n",
       "    <tr>\n",
       "      <th>0</th>\n",
       "      <td>2</td>\n",
       "      <td>0</td>\n",
       "    </tr>\n",
       "    <tr>\n",
       "      <th>1</th>\n",
       "      <td>5</td>\n",
       "      <td>0</td>\n",
       "    </tr>\n",
       "    <tr>\n",
       "      <th>2</th>\n",
       "      <td>6</td>\n",
       "      <td>0</td>\n",
       "    </tr>\n",
       "    <tr>\n",
       "      <th>3</th>\n",
       "      <td>7</td>\n",
       "      <td>0</td>\n",
       "    </tr>\n",
       "    <tr>\n",
       "      <th>4</th>\n",
       "      <td>9</td>\n",
       "      <td>0</td>\n",
       "    </tr>\n",
       "  </tbody>\n",
       "</table>\n",
       "</div>"
      ],
      "text/plain": [
       "   ID  TARGET\n",
       "0   2       0\n",
       "1   5       0\n",
       "2   6       0\n",
       "3   7       0\n",
       "4   9       0"
      ]
     },
     "execution_count": 20,
     "metadata": {},
     "output_type": "execute_result"
    }
   ],
   "source": [
    "result.head()"
   ]
  },
  {
   "cell_type": "code",
   "execution_count": 21,
   "id": "unknown-accountability",
   "metadata": {
    "execution": {
     "iopub.execute_input": "2021-06-28T13:38:39.379331Z",
     "iopub.status.busy": "2021-06-28T13:38:39.378794Z",
     "iopub.status.idle": "2021-06-28T13:38:39.466790Z",
     "shell.execute_reply": "2021-06-28T13:38:39.466283Z",
     "shell.execute_reply.started": "2021-06-28T12:51:44.626278Z"
    },
    "papermill": {
     "duration": 0.119775,
     "end_time": "2021-06-28T13:38:39.466899",
     "exception": false,
     "start_time": "2021-06-28T13:38:39.347124",
     "status": "completed"
    },
    "tags": []
   },
   "outputs": [],
   "source": [
    "result.to_csv('santander_customer_satisfaction_submission.csv', header=True, index=False)"
   ]
  }
 ],
 "metadata": {
  "kernelspec": {
   "display_name": "Python 3",
   "language": "python",
   "name": "python3"
  },
  "language_info": {
   "codemirror_mode": {
    "name": "ipython",
    "version": 3
   },
   "file_extension": ".py",
   "mimetype": "text/x-python",
   "name": "python",
   "nbconvert_exporter": "python",
   "pygments_lexer": "ipython3",
   "version": "3.7.10"
  },
  "papermill": {
   "default_parameters": {},
   "duration": 1910.382298,
   "end_time": "2021-06-28T13:38:40.405682",
   "environment_variables": {},
   "exception": null,
   "input_path": "__notebook__.ipynb",
   "output_path": "__notebook__.ipynb",
   "parameters": {},
   "start_time": "2021-06-28T13:06:50.023384",
   "version": "2.3.3"
  }
 },
 "nbformat": 4,
 "nbformat_minor": 5
}
