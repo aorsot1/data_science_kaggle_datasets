{
 "cells": [
  {
   "cell_type": "markdown",
   "id": "c5651757",
   "metadata": {
    "papermill": {
     "duration": 0.060819,
     "end_time": "2022-08-16T04:03:43.177224",
     "exception": false,
     "start_time": "2022-08-16T04:03:43.116405",
     "status": "completed"
    },
    "tags": []
   },
   "source": [
    "# Fraud Detection \n",
    "This notebook will attempt to build a predictive algorithm to detect a fraudulent transaction using a training dataset. We will explain the thinking process at every step using LIME (Local Interpretable Model-agnostic Explanations) principles making it accessible and user-friendly.\n",
    "\n",
    "\n",
    "## Table of Contents\n",
    "1. Environment set-up\n",
    "    * Importing Libraries\n",
    "    * Loading the data\n",
    "2. Initial Diagnostics\n",
    "    * Glimpse\n",
    "    * Descriptive Statitics\n",
    "    * Target Variable Analysis\n",
    "    * Predictors Analysis\n",
    "3. Data Cleaning\n",
    "    * Missing Values\n",
    "    * Outliers\n",
    "    * Duplicate Observations\n",
    "4. Correlation Analysis\n",
    "    * Correlation Matrix\n",
    "    * Strongest relationship\n",
    "5. Inquiry Exploration\n",
    "    * How does Amount's distribution behaves across classes?\n",
    "    * Are there any noteworthy point in time where fraud occured?\n",
    "6. Class Imbalance \n",
    "    * SMOTE - Synthetic Minority Oversampling Technique\n",
    "    * Near-Miss Algorithm\n",
    "    * Combined Random Sampler\n",
    "7. Machine Learning set-up\n",
    "    * Train-test split\n",
    "    * Cross-validation\n",
    "8. Dimensionality Reduction\n",
    "    * PCA - Principal Component Analysis\n",
    "    * SVD - Singular Value Decomposition\n",
    "    * LDA - Linear Discriminant Analysis\n",
    "9. Machine Learning - Simple Models\n",
    "    * Logistic Regression\n",
    "    * k-Nearest Neighbors\n",
    "    * Decision Tree\n",
    "    * Stochastic Gradient Descent\n",
    "10. Machine Learning - Ensemble Methods\n",
    "    * Random Forest\n",
    "    * Stochastic Gradient Boosting\n",
    "    * StackingClassifier\n",
    "11. Hyperparameter Tuning\n",
    "    * Random Search\n",
    "    * Grid Search\n",
    "12. Model Performance Evaluation\n",
    "    * Final Model\n",
    "    * AUC - ROC Curve"
   ]
  },
  {
   "cell_type": "markdown",
   "id": "4a5d6559",
   "metadata": {
    "papermill": {
     "duration": 0.05421,
     "end_time": "2022-08-16T04:03:43.288065",
     "exception": false,
     "start_time": "2022-08-16T04:03:43.233855",
     "status": "completed"
    },
    "tags": []
   },
   "source": [
    "# 1. Environment set-up"
   ]
  },
  {
   "cell_type": "code",
   "execution_count": 1,
   "id": "22fd85cb",
   "metadata": {
    "_cell_guid": "b1076dfc-b9ad-4769-8c92-a6c4dae69d19",
    "_uuid": "8f2839f25d086af736a60e9eeb907d3b93b6e0e5",
    "execution": {
     "iopub.execute_input": "2022-08-16T04:03:43.401601Z",
     "iopub.status.busy": "2022-08-16T04:03:43.400289Z",
     "iopub.status.idle": "2022-08-16T04:03:45.068679Z",
     "shell.execute_reply": "2022-08-16T04:03:45.069405Z",
     "shell.execute_reply.started": "2022-02-11T15:36:11.075408Z"
    },
    "papermill": {
     "duration": 1.728072,
     "end_time": "2022-08-16T04:03:45.069740",
     "exception": false,
     "start_time": "2022-08-16T04:03:43.341668",
     "status": "completed"
    },
    "tags": []
   },
   "outputs": [
    {
     "name": "stdout",
     "output_type": "stream",
     "text": [
      "/kaggle/input/creditcardfraud/creditcard.csv\n"
     ]
    }
   ],
   "source": [
    "## Importing Libraries\n",
    "\n",
    "#Set seed\n",
    "import random\n",
    "random.seed(1234)\n",
    "\n",
    "# Manipulating & Visualizing Data\n",
    "import pandas as pd\n",
    "import numpy as np\n",
    "from collections import Counter\n",
    "import matplotlib.pyplot as plt\n",
    "import seaborn as sns\n",
    "sns.set(rc={'figure.figsize':(12, 8)})\n",
    "\n",
    "# Sampling Methods\n",
    "from imblearn.over_sampling import RandomOverSampler, SMOTE\n",
    "from imblearn.under_sampling import RandomUnderSampler, NearMiss\n",
    "\n",
    "# Training/Testing Split\n",
    "from sklearn.model_selection import train_test_split\n",
    "\n",
    "# Cross Validation\n",
    "from sklearn.model_selection import cross_val_score, KFold\n",
    "\n",
    "# Dimensionality Reduction\n",
    "from sklearn.decomposition import PCA, TruncatedSVD\n",
    "#from sklearn.lda import LDA\n",
    "from sklearn.discriminant_analysis import LinearDiscriminantAnalysis \n",
    "\n",
    "# Simple ML models\n",
    "from sklearn.pipeline import Pipeline\n",
    "from sklearn.linear_model import LogisticRegression, SGDClassifier\n",
    "from sklearn.neighbors import KNeighborsClassifier\n",
    "from sklearn.tree import DecisionTreeClassifier\n",
    "from sklearn.svm import SVC\n",
    "\n",
    "# Ensemble Learning\n",
    "from sklearn.ensemble import RandomForestClassifier\n",
    "from sklearn.ensemble import GradientBoostingClassifier\n",
    "from sklearn.ensemble import StackingClassifier\n",
    "\n",
    "# Hyperparameter Tuning\n",
    "from sklearn.model_selection import GridSearchCV\n",
    "from sklearn.model_selection import RandomizedSearchCV\n",
    "\n",
    "# Performance metrics\n",
    "import sklearn.metrics as skm"
   ]
  },
  {
   "cell_type": "code",
   "execution_count": 2,
   "id": "96dd494a",
   "metadata": {
    "execution": {
     "iopub.execute_input": "2022-08-16T04:03:45.181273Z",
     "iopub.status.busy": "2022-08-16T04:03:45.180582Z",
     "iopub.status.idle": "2022-08-16T04:03:48.709557Z",
     "shell.execute_reply": "2022-08-16T04:03:48.708797Z",
     "shell.execute_reply.started": "2022-02-11T15:36:12.689033Z"
    },
    "papermill": {
     "duration": 3.585425,
     "end_time": "2022-08-16T04:03:48.709718",
     "exception": false,
     "start_time": "2022-08-16T04:03:45.124293",
     "status": "completed"
    },
    "tags": []
   },
   "outputs": [],
   "source": [
    "## Loading the dataset\n",
    "df = pd.read_csv(r\"C:\\Users\\Graduate\\Desktop\\ds_proj_data\\creditcard.csv\")"
   ]
  },
  {
   "cell_type": "markdown",
   "id": "d0425021",
   "metadata": {
    "papermill": {
     "duration": 0.055172,
     "end_time": "2022-08-16T04:03:48.819346",
     "exception": false,
     "start_time": "2022-08-16T04:03:48.764174",
     "status": "completed"
    },
    "tags": []
   },
   "source": [
    "# 2. Initial Diagnostics"
   ]
  },
  {
   "cell_type": "code",
   "execution_count": 3,
   "id": "824ea363",
   "metadata": {
    "execution": {
     "iopub.execute_input": "2022-08-16T04:03:48.943828Z",
     "iopub.status.busy": "2022-08-16T04:03:48.943053Z",
     "iopub.status.idle": "2022-08-16T04:03:48.985802Z",
     "shell.execute_reply": "2022-08-16T04:03:48.986323Z",
     "shell.execute_reply.started": "2022-02-11T15:36:17.049976Z"
    },
    "papermill": {
     "duration": 0.110655,
     "end_time": "2022-08-16T04:03:48.986548",
     "exception": false,
     "start_time": "2022-08-16T04:03:48.875893",
     "status": "completed"
    },
    "tags": []
   },
   "outputs": [
    {
     "name": "stdout",
     "output_type": "stream",
     "text": [
      "<class 'pandas.core.frame.DataFrame'>\n",
      "RangeIndex: 284807 entries, 0 to 284806\n",
      "Data columns (total 31 columns):\n",
      " #   Column  Non-Null Count   Dtype  \n",
      "---  ------  --------------   -----  \n",
      " 0   Time    284807 non-null  float64\n",
      " 1   V1      284807 non-null  float64\n",
      " 2   V2      284807 non-null  float64\n",
      " 3   V3      284807 non-null  float64\n",
      " 4   V4      284807 non-null  float64\n",
      " 5   V5      284807 non-null  float64\n",
      " 6   V6      284807 non-null  float64\n",
      " 7   V7      284807 non-null  float64\n",
      " 8   V8      284807 non-null  float64\n",
      " 9   V9      284807 non-null  float64\n",
      " 10  V10     284807 non-null  float64\n",
      " 11  V11     284807 non-null  float64\n",
      " 12  V12     284807 non-null  float64\n",
      " 13  V13     284807 non-null  float64\n",
      " 14  V14     284807 non-null  float64\n",
      " 15  V15     284807 non-null  float64\n",
      " 16  V16     284807 non-null  float64\n",
      " 17  V17     284807 non-null  float64\n",
      " 18  V18     284807 non-null  float64\n",
      " 19  V19     284807 non-null  float64\n",
      " 20  V20     284807 non-null  float64\n",
      " 21  V21     284807 non-null  float64\n",
      " 22  V22     284807 non-null  float64\n",
      " 23  V23     284807 non-null  float64\n",
      " 24  V24     284807 non-null  float64\n",
      " 25  V25     284807 non-null  float64\n",
      " 26  V26     284807 non-null  float64\n",
      " 27  V27     284807 non-null  float64\n",
      " 28  V28     284807 non-null  float64\n",
      " 29  Amount  284807 non-null  float64\n",
      " 30  Class   284807 non-null  int64  \n",
      "dtypes: float64(30), int64(1)\n",
      "memory usage: 67.4 MB\n"
     ]
    }
   ],
   "source": [
    "## Glimpse of the data\n",
    "df.info()"
   ]
  },
  {
   "cell_type": "code",
   "execution_count": 4,
   "id": "f63af8cf",
   "metadata": {
    "execution": {
     "iopub.execute_input": "2022-08-16T04:03:49.155643Z",
     "iopub.status.busy": "2022-08-16T04:03:49.154463Z",
     "iopub.status.idle": "2022-08-16T04:03:49.579656Z",
     "shell.execute_reply": "2022-08-16T04:03:49.580202Z",
     "shell.execute_reply.started": "2022-02-11T15:36:17.102767Z"
    },
    "papermill": {
     "duration": 0.537761,
     "end_time": "2022-08-16T04:03:49.580386",
     "exception": false,
     "start_time": "2022-08-16T04:03:49.042625",
     "status": "completed"
    },
    "tags": []
   },
   "outputs": [
    {
     "data": {
      "text/html": [
       "<div>\n",
       "<style scoped>\n",
       "    .dataframe tbody tr th:only-of-type {\n",
       "        vertical-align: middle;\n",
       "    }\n",
       "\n",
       "    .dataframe tbody tr th {\n",
       "        vertical-align: top;\n",
       "    }\n",
       "\n",
       "    .dataframe thead th {\n",
       "        text-align: right;\n",
       "    }\n",
       "</style>\n",
       "<table border=\"1\" class=\"dataframe\">\n",
       "  <thead>\n",
       "    <tr style=\"text-align: right;\">\n",
       "      <th></th>\n",
       "      <th>Time</th>\n",
       "      <th>V1</th>\n",
       "      <th>V2</th>\n",
       "      <th>V3</th>\n",
       "      <th>V4</th>\n",
       "      <th>V5</th>\n",
       "      <th>V6</th>\n",
       "      <th>V7</th>\n",
       "      <th>V8</th>\n",
       "      <th>V9</th>\n",
       "      <th>...</th>\n",
       "      <th>V21</th>\n",
       "      <th>V22</th>\n",
       "      <th>V23</th>\n",
       "      <th>V24</th>\n",
       "      <th>V25</th>\n",
       "      <th>V26</th>\n",
       "      <th>V27</th>\n",
       "      <th>V28</th>\n",
       "      <th>Amount</th>\n",
       "      <th>Class</th>\n",
       "    </tr>\n",
       "  </thead>\n",
       "  <tbody>\n",
       "    <tr>\n",
       "      <th>count</th>\n",
       "      <td>284807.000000</td>\n",
       "      <td>2.848070e+05</td>\n",
       "      <td>2.848070e+05</td>\n",
       "      <td>2.848070e+05</td>\n",
       "      <td>2.848070e+05</td>\n",
       "      <td>2.848070e+05</td>\n",
       "      <td>2.848070e+05</td>\n",
       "      <td>2.848070e+05</td>\n",
       "      <td>2.848070e+05</td>\n",
       "      <td>2.848070e+05</td>\n",
       "      <td>...</td>\n",
       "      <td>2.848070e+05</td>\n",
       "      <td>2.848070e+05</td>\n",
       "      <td>2.848070e+05</td>\n",
       "      <td>2.848070e+05</td>\n",
       "      <td>2.848070e+05</td>\n",
       "      <td>2.848070e+05</td>\n",
       "      <td>2.848070e+05</td>\n",
       "      <td>2.848070e+05</td>\n",
       "      <td>284807.000000</td>\n",
       "      <td>284807.000000</td>\n",
       "    </tr>\n",
       "    <tr>\n",
       "      <th>mean</th>\n",
       "      <td>94813.859575</td>\n",
       "      <td>3.918649e-15</td>\n",
       "      <td>5.682686e-16</td>\n",
       "      <td>-8.761736e-15</td>\n",
       "      <td>2.811118e-15</td>\n",
       "      <td>-1.552103e-15</td>\n",
       "      <td>2.040130e-15</td>\n",
       "      <td>-1.698953e-15</td>\n",
       "      <td>-1.893285e-16</td>\n",
       "      <td>-3.147640e-15</td>\n",
       "      <td>...</td>\n",
       "      <td>1.473120e-16</td>\n",
       "      <td>8.042109e-16</td>\n",
       "      <td>5.282512e-16</td>\n",
       "      <td>4.456271e-15</td>\n",
       "      <td>1.426896e-15</td>\n",
       "      <td>1.701640e-15</td>\n",
       "      <td>-3.662252e-16</td>\n",
       "      <td>-1.217809e-16</td>\n",
       "      <td>88.349619</td>\n",
       "      <td>0.001727</td>\n",
       "    </tr>\n",
       "    <tr>\n",
       "      <th>std</th>\n",
       "      <td>47488.145955</td>\n",
       "      <td>1.958696e+00</td>\n",
       "      <td>1.651309e+00</td>\n",
       "      <td>1.516255e+00</td>\n",
       "      <td>1.415869e+00</td>\n",
       "      <td>1.380247e+00</td>\n",
       "      <td>1.332271e+00</td>\n",
       "      <td>1.237094e+00</td>\n",
       "      <td>1.194353e+00</td>\n",
       "      <td>1.098632e+00</td>\n",
       "      <td>...</td>\n",
       "      <td>7.345240e-01</td>\n",
       "      <td>7.257016e-01</td>\n",
       "      <td>6.244603e-01</td>\n",
       "      <td>6.056471e-01</td>\n",
       "      <td>5.212781e-01</td>\n",
       "      <td>4.822270e-01</td>\n",
       "      <td>4.036325e-01</td>\n",
       "      <td>3.300833e-01</td>\n",
       "      <td>250.120109</td>\n",
       "      <td>0.041527</td>\n",
       "    </tr>\n",
       "    <tr>\n",
       "      <th>min</th>\n",
       "      <td>0.000000</td>\n",
       "      <td>-5.640751e+01</td>\n",
       "      <td>-7.271573e+01</td>\n",
       "      <td>-4.832559e+01</td>\n",
       "      <td>-5.683171e+00</td>\n",
       "      <td>-1.137433e+02</td>\n",
       "      <td>-2.616051e+01</td>\n",
       "      <td>-4.355724e+01</td>\n",
       "      <td>-7.321672e+01</td>\n",
       "      <td>-1.343407e+01</td>\n",
       "      <td>...</td>\n",
       "      <td>-3.483038e+01</td>\n",
       "      <td>-1.093314e+01</td>\n",
       "      <td>-4.480774e+01</td>\n",
       "      <td>-2.836627e+00</td>\n",
       "      <td>-1.029540e+01</td>\n",
       "      <td>-2.604551e+00</td>\n",
       "      <td>-2.256568e+01</td>\n",
       "      <td>-1.543008e+01</td>\n",
       "      <td>0.000000</td>\n",
       "      <td>0.000000</td>\n",
       "    </tr>\n",
       "    <tr>\n",
       "      <th>25%</th>\n",
       "      <td>54201.500000</td>\n",
       "      <td>-9.203734e-01</td>\n",
       "      <td>-5.985499e-01</td>\n",
       "      <td>-8.903648e-01</td>\n",
       "      <td>-8.486401e-01</td>\n",
       "      <td>-6.915971e-01</td>\n",
       "      <td>-7.682956e-01</td>\n",
       "      <td>-5.540759e-01</td>\n",
       "      <td>-2.086297e-01</td>\n",
       "      <td>-6.430976e-01</td>\n",
       "      <td>...</td>\n",
       "      <td>-2.283949e-01</td>\n",
       "      <td>-5.423504e-01</td>\n",
       "      <td>-1.618463e-01</td>\n",
       "      <td>-3.545861e-01</td>\n",
       "      <td>-3.171451e-01</td>\n",
       "      <td>-3.269839e-01</td>\n",
       "      <td>-7.083953e-02</td>\n",
       "      <td>-5.295979e-02</td>\n",
       "      <td>5.600000</td>\n",
       "      <td>0.000000</td>\n",
       "    </tr>\n",
       "    <tr>\n",
       "      <th>50%</th>\n",
       "      <td>84692.000000</td>\n",
       "      <td>1.810880e-02</td>\n",
       "      <td>6.548556e-02</td>\n",
       "      <td>1.798463e-01</td>\n",
       "      <td>-1.984653e-02</td>\n",
       "      <td>-5.433583e-02</td>\n",
       "      <td>-2.741871e-01</td>\n",
       "      <td>4.010308e-02</td>\n",
       "      <td>2.235804e-02</td>\n",
       "      <td>-5.142873e-02</td>\n",
       "      <td>...</td>\n",
       "      <td>-2.945017e-02</td>\n",
       "      <td>6.781943e-03</td>\n",
       "      <td>-1.119293e-02</td>\n",
       "      <td>4.097606e-02</td>\n",
       "      <td>1.659350e-02</td>\n",
       "      <td>-5.213911e-02</td>\n",
       "      <td>1.342146e-03</td>\n",
       "      <td>1.124383e-02</td>\n",
       "      <td>22.000000</td>\n",
       "      <td>0.000000</td>\n",
       "    </tr>\n",
       "    <tr>\n",
       "      <th>75%</th>\n",
       "      <td>139320.500000</td>\n",
       "      <td>1.315642e+00</td>\n",
       "      <td>8.037239e-01</td>\n",
       "      <td>1.027196e+00</td>\n",
       "      <td>7.433413e-01</td>\n",
       "      <td>6.119264e-01</td>\n",
       "      <td>3.985649e-01</td>\n",
       "      <td>5.704361e-01</td>\n",
       "      <td>3.273459e-01</td>\n",
       "      <td>5.971390e-01</td>\n",
       "      <td>...</td>\n",
       "      <td>1.863772e-01</td>\n",
       "      <td>5.285536e-01</td>\n",
       "      <td>1.476421e-01</td>\n",
       "      <td>4.395266e-01</td>\n",
       "      <td>3.507156e-01</td>\n",
       "      <td>2.409522e-01</td>\n",
       "      <td>9.104512e-02</td>\n",
       "      <td>7.827995e-02</td>\n",
       "      <td>77.165000</td>\n",
       "      <td>0.000000</td>\n",
       "    </tr>\n",
       "    <tr>\n",
       "      <th>max</th>\n",
       "      <td>172792.000000</td>\n",
       "      <td>2.454930e+00</td>\n",
       "      <td>2.205773e+01</td>\n",
       "      <td>9.382558e+00</td>\n",
       "      <td>1.687534e+01</td>\n",
       "      <td>3.480167e+01</td>\n",
       "      <td>7.330163e+01</td>\n",
       "      <td>1.205895e+02</td>\n",
       "      <td>2.000721e+01</td>\n",
       "      <td>1.559499e+01</td>\n",
       "      <td>...</td>\n",
       "      <td>2.720284e+01</td>\n",
       "      <td>1.050309e+01</td>\n",
       "      <td>2.252841e+01</td>\n",
       "      <td>4.584549e+00</td>\n",
       "      <td>7.519589e+00</td>\n",
       "      <td>3.517346e+00</td>\n",
       "      <td>3.161220e+01</td>\n",
       "      <td>3.384781e+01</td>\n",
       "      <td>25691.160000</td>\n",
       "      <td>1.000000</td>\n",
       "    </tr>\n",
       "  </tbody>\n",
       "</table>\n",
       "<p>8 rows × 31 columns</p>\n",
       "</div>"
      ],
      "text/plain": [
       "                Time            V1            V2            V3            V4  \\\n",
       "count  284807.000000  2.848070e+05  2.848070e+05  2.848070e+05  2.848070e+05   \n",
       "mean    94813.859575  3.918649e-15  5.682686e-16 -8.761736e-15  2.811118e-15   \n",
       "std     47488.145955  1.958696e+00  1.651309e+00  1.516255e+00  1.415869e+00   \n",
       "min         0.000000 -5.640751e+01 -7.271573e+01 -4.832559e+01 -5.683171e+00   \n",
       "25%     54201.500000 -9.203734e-01 -5.985499e-01 -8.903648e-01 -8.486401e-01   \n",
       "50%     84692.000000  1.810880e-02  6.548556e-02  1.798463e-01 -1.984653e-02   \n",
       "75%    139320.500000  1.315642e+00  8.037239e-01  1.027196e+00  7.433413e-01   \n",
       "max    172792.000000  2.454930e+00  2.205773e+01  9.382558e+00  1.687534e+01   \n",
       "\n",
       "                 V5            V6            V7            V8            V9  \\\n",
       "count  2.848070e+05  2.848070e+05  2.848070e+05  2.848070e+05  2.848070e+05   \n",
       "mean  -1.552103e-15  2.040130e-15 -1.698953e-15 -1.893285e-16 -3.147640e-15   \n",
       "std    1.380247e+00  1.332271e+00  1.237094e+00  1.194353e+00  1.098632e+00   \n",
       "min   -1.137433e+02 -2.616051e+01 -4.355724e+01 -7.321672e+01 -1.343407e+01   \n",
       "25%   -6.915971e-01 -7.682956e-01 -5.540759e-01 -2.086297e-01 -6.430976e-01   \n",
       "50%   -5.433583e-02 -2.741871e-01  4.010308e-02  2.235804e-02 -5.142873e-02   \n",
       "75%    6.119264e-01  3.985649e-01  5.704361e-01  3.273459e-01  5.971390e-01   \n",
       "max    3.480167e+01  7.330163e+01  1.205895e+02  2.000721e+01  1.559499e+01   \n",
       "\n",
       "       ...           V21           V22           V23           V24  \\\n",
       "count  ...  2.848070e+05  2.848070e+05  2.848070e+05  2.848070e+05   \n",
       "mean   ...  1.473120e-16  8.042109e-16  5.282512e-16  4.456271e-15   \n",
       "std    ...  7.345240e-01  7.257016e-01  6.244603e-01  6.056471e-01   \n",
       "min    ... -3.483038e+01 -1.093314e+01 -4.480774e+01 -2.836627e+00   \n",
       "25%    ... -2.283949e-01 -5.423504e-01 -1.618463e-01 -3.545861e-01   \n",
       "50%    ... -2.945017e-02  6.781943e-03 -1.119293e-02  4.097606e-02   \n",
       "75%    ...  1.863772e-01  5.285536e-01  1.476421e-01  4.395266e-01   \n",
       "max    ...  2.720284e+01  1.050309e+01  2.252841e+01  4.584549e+00   \n",
       "\n",
       "                V25           V26           V27           V28         Amount  \\\n",
       "count  2.848070e+05  2.848070e+05  2.848070e+05  2.848070e+05  284807.000000   \n",
       "mean   1.426896e-15  1.701640e-15 -3.662252e-16 -1.217809e-16      88.349619   \n",
       "std    5.212781e-01  4.822270e-01  4.036325e-01  3.300833e-01     250.120109   \n",
       "min   -1.029540e+01 -2.604551e+00 -2.256568e+01 -1.543008e+01       0.000000   \n",
       "25%   -3.171451e-01 -3.269839e-01 -7.083953e-02 -5.295979e-02       5.600000   \n",
       "50%    1.659350e-02 -5.213911e-02  1.342146e-03  1.124383e-02      22.000000   \n",
       "75%    3.507156e-01  2.409522e-01  9.104512e-02  7.827995e-02      77.165000   \n",
       "max    7.519589e+00  3.517346e+00  3.161220e+01  3.384781e+01   25691.160000   \n",
       "\n",
       "               Class  \n",
       "count  284807.000000  \n",
       "mean        0.001727  \n",
       "std         0.041527  \n",
       "min         0.000000  \n",
       "25%         0.000000  \n",
       "50%         0.000000  \n",
       "75%         0.000000  \n",
       "max         1.000000  \n",
       "\n",
       "[8 rows x 31 columns]"
      ]
     },
     "execution_count": 4,
     "metadata": {},
     "output_type": "execute_result"
    }
   ],
   "source": [
    "## Descriptive Statistics\n",
    "df.describe()"
   ]
  },
  {
   "cell_type": "markdown",
   "id": "8b6d08a5",
   "metadata": {
    "papermill": {
     "duration": 0.056375,
     "end_time": "2022-08-16T04:03:49.693285",
     "exception": false,
     "start_time": "2022-08-16T04:03:49.636910",
     "status": "completed"
    },
    "tags": []
   },
   "source": [
    "**Takeaway:** The following percentage breakdown confirms the note in the project description; indeed, we have a considerable class imbalance with the target variable. It stays consistent that most fraudulent activities are much less frequent than non-fraudulent. Before proceeding, we shall note it to avoid any overfitting issues when fitting the machine learning models."
   ]
  },
  {
   "cell_type": "code",
   "execution_count": 5,
   "id": "a133b755",
   "metadata": {
    "execution": {
     "iopub.execute_input": "2022-08-16T04:03:49.814640Z",
     "iopub.status.busy": "2022-08-16T04:03:49.813465Z",
     "iopub.status.idle": "2022-08-16T04:03:49.818095Z",
     "shell.execute_reply": "2022-08-16T04:03:49.817538Z",
     "shell.execute_reply.started": "2022-02-11T15:36:17.594115Z"
    },
    "papermill": {
     "duration": 0.069851,
     "end_time": "2022-08-16T04:03:49.818244",
     "exception": false,
     "start_time": "2022-08-16T04:03:49.748393",
     "status": "completed"
    },
    "tags": []
   },
   "outputs": [
    {
     "data": {
      "text/plain": [
       "0    0.998273\n",
       "1    0.001727\n",
       "Name: Class, dtype: float64"
      ]
     },
     "execution_count": 5,
     "metadata": {},
     "output_type": "execute_result"
    }
   ],
   "source": [
    "## Target Variable Analysis\n",
    "df['Class'].value_counts(normalize=True)"
   ]
  },
  {
   "cell_type": "markdown",
   "id": "6ae21b1b",
   "metadata": {
    "papermill": {
     "duration": 0.056171,
     "end_time": "2022-08-16T04:03:49.930630",
     "exception": false,
     "start_time": "2022-08-16T04:03:49.874459",
     "status": "completed"
    },
    "tags": []
   },
   "source": [
    "**Note:** We did not have any information on the numerical predictors for privacy, given their transformation and standardization, excluding Amount & Time. In that regard, Amount presented itself as potentially most informative for the feature variable analysis. To better understand the variable's distribution, we had to transform it using a log scale."
   ]
  },
  {
   "cell_type": "code",
   "execution_count": 6,
   "id": "8fc68556",
   "metadata": {
    "execution": {
     "iopub.execute_input": "2022-08-16T04:03:50.049138Z",
     "iopub.status.busy": "2022-08-16T04:03:50.048379Z",
     "iopub.status.idle": "2022-08-16T04:04:15.997867Z",
     "shell.execute_reply": "2022-08-16T04:04:15.998398Z",
     "shell.execute_reply.started": "2022-02-11T15:36:17.607514Z"
    },
    "papermill": {
     "duration": 26.01188,
     "end_time": "2022-08-16T04:04:15.998618",
     "exception": false,
     "start_time": "2022-08-16T04:03:49.986738",
     "status": "completed"
    },
    "tags": []
   },
   "outputs": [
    {
     "name": "stdout",
     "output_type": "stream",
     "text": [
      "count    284807.000000\n",
      "mean         88.349619\n",
      "std         250.120109\n",
      "min           0.000000\n",
      "25%           5.600000\n",
      "50%          22.000000\n",
      "75%          77.165000\n",
      "max       25691.160000\n",
      "Name: Amount, dtype: float64\n"
     ]
    },
    {
     "data": {
      "image/png": "[encoded data removed]",
      "text/plain": [
       "<Figure size 864x576 with 1 Axes>"
      ]
     },
     "metadata": {},
     "output_type": "display_data"
    }
   ],
   "source": [
    "## Feature Variable Analysis\n",
    "\n",
    "# Basic statistics\n",
    "print(df['Amount'].describe())\n",
    "\n",
    "# Distribution\n",
    "sns.histplot(data=df, x='Amount').set(xscale=\"log\")\n",
    "plt.xlabel(\"Dollar Amount (Log Scale)\")\n",
    "plt.ylabel(\"Frequency (Count)\")\n",
    "plt.title(\"Distribution of Transaction Amount (log scaled)\")\n",
    "plt.show()"
   ]
  },
  {
   "cell_type": "markdown",
   "id": "3b939b36",
   "metadata": {
    "papermill": {
     "duration": 0.05989,
     "end_time": "2022-08-16T04:04:16.117960",
     "exception": false,
     "start_time": "2022-08-16T04:04:16.058070",
     "status": "completed"
    },
    "tags": []
   },
   "source": [
    "# 3. Data Cleaning"
   ]
  },
  {
   "cell_type": "code",
   "execution_count": 1,
   "id": "c3daa474",
   "metadata": {
    "papermill": {
     "duration": 18.121136,
     "end_time": "2022-08-16T04:04:34.299311",
     "exception": false,
     "start_time": "2022-08-16T04:04:16.178175",
     "status": "completed"
    },
    "tags": []
   },
   "outputs": [
    {
     "ename": "NameError",
     "evalue": "name 'df' is not defined",
     "output_type": "error",
     "traceback": [
      "\u001b[1;31m---------------------------------------------------------------------------\u001b[0m",
      "\u001b[1;31mNameError\u001b[0m                                 Traceback (most recent call last)",
      "\u001b[1;32m~\\AppData\\Local\\Temp\\ipykernel_21100\\3601209217.py\u001b[0m in \u001b[0;36m<module>\u001b[1;34m\u001b[0m\n\u001b[0;32m      1\u001b[0m \u001b[1;31m## Missing Values\u001b[0m\u001b[1;33m\u001b[0m\u001b[1;33m\u001b[0m\u001b[0m\n\u001b[1;32m----> 2\u001b[1;33m \u001b[0msum_nulls\u001b[0m \u001b[1;33m=\u001b[0m \u001b[0mdf\u001b[0m\u001b[1;33m.\u001b[0m\u001b[0misna\u001b[0m\u001b[1;33m(\u001b[0m\u001b[1;33m)\u001b[0m\u001b[1;33m.\u001b[0m\u001b[0msum\u001b[0m\u001b[1;33m(\u001b[0m\u001b[1;33m)\u001b[0m\u001b[1;33m.\u001b[0m\u001b[0msum\u001b[0m\u001b[1;33m(\u001b[0m\u001b[1;33m)\u001b[0m\u001b[1;33m\u001b[0m\u001b[1;33m\u001b[0m\u001b[0m\n\u001b[0m\u001b[0;32m      3\u001b[0m \u001b[0mprint\u001b[0m\u001b[1;33m(\u001b[0m\u001b[1;34m\"There are %2d null/na values in the dataset\"\u001b[0m \u001b[1;33m%\u001b[0m \u001b[0msum_nulls\u001b[0m\u001b[1;33m)\u001b[0m\u001b[1;33m\u001b[0m\u001b[1;33m\u001b[0m\u001b[0m\n\u001b[0;32m      4\u001b[0m \u001b[1;33m\u001b[0m\u001b[0m\n\u001b[0;32m      5\u001b[0m \u001b[1;32mif\u001b[0m \u001b[0msum_nulls\u001b[0m \u001b[1;33m>\u001b[0m \u001b[1;36m0\u001b[0m\u001b[1;33m:\u001b[0m\u001b[1;33m\u001b[0m\u001b[1;33m\u001b[0m\u001b[0m\n",
      "\u001b[1;31mNameError\u001b[0m: name 'df' is not defined"
     ]
    }
   ],
   "source": [
    "## Missing Values\n",
    "sum_nulls = df.isna().sum().sum()\n",
    "print(\"There are %2d null/na values in the dataset\" % sum_nulls)\n",
    "\n",
    "if sum_nulls > 0: \n",
    "    plt.figure(figsize=(10,6))\n",
    "    sns.heatmap(df.isna().transpose(),\n",
    "                cmap=\"YlGnBu\",\n",
    "                cbar_kws={'label': 'Missing Data'})\n",
    "    plt.xlabel(\"Features\")\n",
    "    plt.ylabel(\"Observations\")\n",
    "    plt.show()\n",
    "else:\n",
    "    pass"
   ]
  },
  {
   "cell_type": "markdown",
   "id": "4e6bc69d",
   "metadata": {
    "papermill": {
     "duration": 0.058141,
     "end_time": "2022-08-16T04:04:34.416160",
     "exception": false,
     "start_time": "2022-08-16T04:04:34.358019",
     "status": "completed"
    },
    "tags": []
   },
   "source": [
    "**Takeaway:** We have no missing values given the pre-processing done prior."
   ]
  },
  {
   "cell_type": "markdown",
   "id": "319c9e41",
   "metadata": {
    "papermill": {
     "duration": 0.058298,
     "end_time": "2022-08-16T04:04:34.533963",
     "exception": false,
     "start_time": "2022-08-16T04:04:34.475665",
     "status": "completed"
    },
    "tags": []
   },
   "source": [
    "**Note**:\n",
    "With most predictors transformed, there will be little chance for any outliers in the data points for V1, V2, ..., V28. So, we will only examine Amount as the only meaningful numeric feature."
   ]
  },
  {
   "cell_type": "code",
   "execution_count": 8,
   "id": "65e4215e",
   "metadata": {
    "execution": {
     "iopub.execute_input": "2022-08-16T04:04:34.654973Z",
     "iopub.status.busy": "2022-08-16T04:04:34.654281Z",
     "iopub.status.idle": "2022-08-16T04:04:34.958945Z",
     "shell.execute_reply": "2022-08-16T04:04:34.958341Z",
     "shell.execute_reply.started": "2022-02-11T15:37:00.86248Z"
    },
    "papermill": {
     "duration": 0.366226,
     "end_time": "2022-08-16T04:04:34.959111",
     "exception": false,
     "start_time": "2022-08-16T04:04:34.592885",
     "status": "completed"
    },
    "tags": []
   },
   "outputs": [
    {
     "data": {
      "image/png": "[encoded data removed]",
      "text/plain": [
       "<Figure size 864x576 with 1 Axes>"
      ]
     },
     "metadata": {},
     "output_type": "display_data"
    }
   ],
   "source": [
    "## Outliers\n",
    "sns.boxplot(data=df, x='Amount')\n",
    "plt.show()"
   ]
  },
  {
   "cell_type": "markdown",
   "id": "3754dd3e",
   "metadata": {
    "papermill": {
     "duration": 0.061076,
     "end_time": "2022-08-16T04:04:35.080045",
     "exception": false,
     "start_time": "2022-08-16T04:04:35.018969",
     "status": "completed"
    },
    "tags": []
   },
   "source": [
    "**Takeaway:** From the boxplot below, we can observe a non-negligible number of outliers on the upper end of the distribution. It would denote transactions with high amounts in the order of thousands of dollars. We would assess the effect of this skewed distribution when building the predictive models in terms of feature transformation or selecting models robust to such feature types."
   ]
  },
  {
   "cell_type": "code",
   "execution_count": 9,
   "id": "e2c3b9bd",
   "metadata": {
    "execution": {
     "iopub.execute_input": "2022-08-16T04:04:35.204790Z",
     "iopub.status.busy": "2022-08-16T04:04:35.204088Z",
     "iopub.status.idle": "2022-08-16T04:04:36.231895Z",
     "shell.execute_reply": "2022-08-16T04:04:36.231308Z",
     "shell.execute_reply.started": "2022-02-11T15:37:01.161807Z"
    },
    "papermill": {
     "duration": 1.090566,
     "end_time": "2022-08-16T04:04:36.232104",
     "exception": false,
     "start_time": "2022-08-16T04:04:35.141538",
     "status": "completed"
    },
    "tags": []
   },
   "outputs": [
    {
     "data": {
      "text/plain": [
       "False    283726\n",
       "True       1081\n",
       "dtype: int64"
      ]
     },
     "execution_count": 9,
     "metadata": {},
     "output_type": "execute_result"
    }
   ],
   "source": [
    "## Duplicate Observations\n",
    "\n",
    "# No. of duplicate rows\n",
    "df.duplicated().value_counts()"
   ]
  },
  {
   "cell_type": "markdown",
   "id": "67eb292c",
   "metadata": {
    "papermill": {
     "duration": 0.061459,
     "end_time": "2022-08-16T04:04:36.354943",
     "exception": false,
     "start_time": "2022-08-16T04:04:36.293484",
     "status": "completed"
    },
    "tags": []
   },
   "source": [
    "**Takeaway:** A quick check reveals 1081 duplicate rows, so we proceed in removing them from the dataset."
   ]
  },
  {
   "cell_type": "code",
   "execution_count": 10,
   "id": "a4401278",
   "metadata": {
    "execution": {
     "iopub.execute_input": "2022-08-16T04:04:36.505529Z",
     "iopub.status.busy": "2022-08-16T04:04:36.504496Z",
     "iopub.status.idle": "2022-08-16T04:04:37.608180Z",
     "shell.execute_reply": "2022-08-16T04:04:37.608755Z",
     "shell.execute_reply.started": "2022-02-11T15:37:02.184018Z"
    },
    "papermill": {
     "duration": 1.177048,
     "end_time": "2022-08-16T04:04:37.608941",
     "exception": false,
     "start_time": "2022-08-16T04:04:36.431893",
     "status": "completed"
    },
    "tags": []
   },
   "outputs": [],
   "source": [
    "df.drop_duplicates(keep='last', inplace=True)"
   ]
  },
  {
   "cell_type": "markdown",
   "id": "6b8710ea",
   "metadata": {
    "papermill": {
     "duration": 0.059278,
     "end_time": "2022-08-16T04:04:37.728404",
     "exception": false,
     "start_time": "2022-08-16T04:04:37.669126",
     "status": "completed"
    },
    "tags": []
   },
   "source": [
    "**Definition:** Feature Engineering"
   ]
  },
  {
   "cell_type": "code",
   "execution_count": 11,
   "id": "cc046386",
   "metadata": {
    "execution": {
     "iopub.execute_input": "2022-08-16T04:04:37.850750Z",
     "iopub.status.busy": "2022-08-16T04:04:37.849990Z",
     "iopub.status.idle": "2022-08-16T04:04:37.859832Z",
     "shell.execute_reply": "2022-08-16T04:04:37.860370Z",
     "shell.execute_reply.started": "2022-02-11T15:37:03.320301Z"
    },
    "papermill": {
     "duration": 0.073167,
     "end_time": "2022-08-16T04:04:37.860584",
     "exception": false,
     "start_time": "2022-08-16T04:04:37.787417",
     "status": "completed"
    },
    "tags": []
   },
   "outputs": [],
   "source": [
    "# Feature Engineering\n",
    "from sklearn.preprocessing import StandardScaler\n",
    "scaler = StandardScaler()\n",
    "df['Amount'] = scaler.fit_transform(df['Amount'].values.reshape(-1, 1))"
   ]
  },
  {
   "cell_type": "markdown",
   "id": "dd61ca28",
   "metadata": {
    "papermill": {
     "duration": 0.059452,
     "end_time": "2022-08-16T04:04:37.980692",
     "exception": false,
     "start_time": "2022-08-16T04:04:37.921240",
     "status": "completed"
    },
    "tags": []
   },
   "source": [
    "# 4. Correlation Analysis"
   ]
  },
  {
   "cell_type": "code",
   "execution_count": 12,
   "id": "cafe6a81",
   "metadata": {
    "execution": {
     "iopub.execute_input": "2022-08-16T04:04:38.103967Z",
     "iopub.status.busy": "2022-08-16T04:04:38.103280Z",
     "iopub.status.idle": "2022-08-16T04:04:41.151844Z",
     "shell.execute_reply": "2022-08-16T04:04:41.152472Z",
     "shell.execute_reply.started": "2022-02-11T15:37:03.338042Z"
    },
    "papermill": {
     "duration": 3.112071,
     "end_time": "2022-08-16T04:04:41.152664",
     "exception": false,
     "start_time": "2022-08-16T04:04:38.040593",
     "status": "completed"
    },
    "tags": []
   },
   "outputs": [
    {
     "data": {
      "image/png": "[encoded data removed]",
      "text/plain": [
       "<Figure size 1368x1080 with 2 Axes>"
      ]
     },
     "metadata": {},
     "output_type": "display_data"
    }
   ],
   "source": [
    "# Correlation Matrix\n",
    "f = plt.figure(figsize=(19, 15))\n",
    "matrix = df.corr().round(2)\n",
    "mask = np.triu(np.ones_like(matrix, dtype=bool))\n",
    "sns.heatmap(matrix, annot=True, vmax=1, vmin=-1, \n",
    "            center=0, cmap='vlag', mask=mask)\n",
    "plt.show()"
   ]
  },
  {
   "cell_type": "markdown",
   "id": "4847e80b",
   "metadata": {
    "papermill": {
     "duration": 0.079186,
     "end_time": "2022-08-16T04:04:41.295401",
     "exception": false,
     "start_time": "2022-08-16T04:04:41.216215",
     "status": "completed"
    },
    "tags": []
   },
   "source": [
    "**Takeaway:** From the correlation matrix plotted, we can observe very few correlated variables as we would expect after the feature transformation. The two meaningful features, are Time and Amount, have some relative correlation with some variables with coefficients approximating 0.4. With such low values, it would be pretty challenging to imply a correlation between any of them with any certainty. It also indicates that there would be a very low incidence of any colinearity within our data"
   ]
  },
  {
   "cell_type": "markdown",
   "id": "8f3f3dfd",
   "metadata": {
    "papermill": {
     "duration": 0.062632,
     "end_time": "2022-08-16T04:04:41.423211",
     "exception": false,
     "start_time": "2022-08-16T04:04:41.360579",
     "status": "completed"
    },
    "tags": []
   },
   "source": [
    "**Note:**  The code below filters those pairs with correlation coefficients above 0.5 as a threshold. As noted above, those values give very little to no confidence in any solid correlated relationship between variables as few crossing the 0.5 mark."
   ]
  },
  {
   "cell_type": "code",
   "execution_count": 13,
   "id": "45b8fa5e",
   "metadata": {
    "execution": {
     "iopub.execute_input": "2022-08-16T04:04:41.555579Z",
     "iopub.status.busy": "2022-08-16T04:04:41.554873Z",
     "iopub.status.idle": "2022-08-16T04:04:42.361369Z",
     "shell.execute_reply": "2022-08-16T04:04:42.361961Z",
     "shell.execute_reply.started": "2022-02-11T15:37:06.415423Z"
    },
    "papermill": {
     "duration": 0.875945,
     "end_time": "2022-08-16T04:04:42.362168",
     "exception": false,
     "start_time": "2022-08-16T04:04:41.486223",
     "status": "completed"
    },
    "tags": []
   },
   "outputs": [
    {
     "name": "stdout",
     "output_type": "stream",
     "text": [
      "Time    Time      1.000000\n",
      "V1      V1        1.000000\n",
      "V2      V2        1.000000\n",
      "        Amount   -0.533428\n",
      "V3      V3        1.000000\n",
      "V4      V4        1.000000\n",
      "V5      V5        1.000000\n",
      "V6      V6        1.000000\n",
      "V7      V7        1.000000\n",
      "V8      V8        1.000000\n",
      "V9      V9        1.000000\n",
      "V10     V10       1.000000\n",
      "V11     V11       1.000000\n",
      "V12     V12       1.000000\n",
      "V13     V13       1.000000\n",
      "V14     V14       1.000000\n",
      "V15     V15       1.000000\n",
      "V16     V16       1.000000\n",
      "V17     V17       1.000000\n",
      "V18     V18       1.000000\n",
      "V19     V19       1.000000\n",
      "V20     V20       1.000000\n",
      "V21     V21       1.000000\n",
      "V22     V22       1.000000\n",
      "V23     V23       1.000000\n",
      "V24     V24       1.000000\n",
      "V25     V25       1.000000\n",
      "V26     V26       1.000000\n",
      "V27     V27       1.000000\n",
      "V28     V28       1.000000\n",
      "Amount  V2       -0.533428\n",
      "        Amount    1.000000\n",
      "Class   Class     1.000000\n",
      "dtype: float64\n"
     ]
    }
   ],
   "source": [
    "# Filtering those with some signigicant correlation coefficients\n",
    "matrix = df.corr()\n",
    "matrix = matrix.unstack()\n",
    "matrix = matrix[abs(matrix) >= 0.5]\n",
    "\n",
    "print(matrix)"
   ]
  },
  {
   "cell_type": "markdown",
   "id": "cb0d4b96",
   "metadata": {
    "papermill": {
     "duration": 0.063094,
     "end_time": "2022-08-16T04:04:42.491851",
     "exception": false,
     "start_time": "2022-08-16T04:04:42.428757",
     "status": "completed"
    },
    "tags": []
   },
   "source": [
    "# 5. Inquiry Exploration"
   ]
  },
  {
   "cell_type": "markdown",
   "id": "16a5bd96",
   "metadata": {
    "papermill": {
     "duration": 0.063959,
     "end_time": "2022-08-16T04:04:42.619266",
     "exception": false,
     "start_time": "2022-08-16T04:04:42.555307",
     "status": "completed"
    },
    "tags": []
   },
   "source": [
    "**Note:** In an attempt to answer the first question, we first split our dataset by class types; in other words, fraudulent and non-fraudulent transactions. We then plot the histogram side by side to observe any unusual behavior. In doing so, the non-fraud transactions were heavily right-skewed, making it quite challenging to compare the plots. To solve this issue, we used a logarithmic transformation, making it easier to see and thus, evaluate any similarities and differences."
   ]
  },
  {
   "cell_type": "code",
   "execution_count": 14,
   "id": "5ee673f6",
   "metadata": {
    "execution": {
     "iopub.execute_input": "2022-08-16T04:04:42.752931Z",
     "iopub.status.busy": "2022-08-16T04:04:42.752161Z",
     "iopub.status.idle": "2022-08-16T04:05:09.175958Z",
     "shell.execute_reply": "2022-08-16T04:05:09.176497Z",
     "shell.execute_reply.started": "2022-02-11T15:37:07.23338Z"
    },
    "papermill": {
     "duration": 26.494341,
     "end_time": "2022-08-16T04:05:09.176682",
     "exception": false,
     "start_time": "2022-08-16T04:04:42.682341",
     "status": "completed"
    },
    "tags": []
   },
   "outputs": [
    {
     "data": {
      "image/png": "[encoded data removed]",
      "text/plain": [
       "<Figure size 864x576 with 2 Axes>"
      ]
     },
     "metadata": {},
     "output_type": "display_data"
    }
   ],
   "source": [
    "# How does Amount's distribution behaves across classes?\n",
    "\n",
    "# Splitting data by fraud class\n",
    "df_no_fraud = df[df['Class'] == 0]\n",
    "df_fraud = df[df['Class'] == 1]\n",
    "\n",
    "# Histogram for Amount Distribution per class\n",
    "fig, (ax1, ax2) = plt.subplots(1, 2, figsize=(12, 8))\n",
    "fig.suptitle('Distribution of Transaction Amount across Class')\n",
    "sns.histplot(ax=ax1, data=df_no_fraud, x='Amount', stat='probability').set(xscale=\"log\")\n",
    "sns.histplot(ax=ax2, data=df_fraud, x='Amount', stat='probability').set(xscale=\"log\")\n",
    "plt.show()"
   ]
  },
  {
   "cell_type": "markdown",
   "id": "7c08b878",
   "metadata": {
    "papermill": {
     "duration": 0.064989,
     "end_time": "2022-08-16T04:05:09.307287",
     "exception": false,
     "start_time": "2022-08-16T04:05:09.242298",
     "status": "completed"
    },
    "tags": []
   },
   "source": [
    "**Takeaway:** Before making a note on the plots, we will first explain how to interpret logarithmic scales. In short, log scales show relative values rather than absolute ones. Indeed, 2 minus 1 would be displayed similarly to 9999 minus 9998, given that we are dealing with percentages here. In context, the histograms below would depict the order of growth of transaction value. Both distributions represent a similar trajectory, with most transactions on the lower end of the graph. It stays consistent with the mean value found at USD88, even with max values averaging USD20,000."
   ]
  },
  {
   "cell_type": "code",
   "execution_count": 15,
   "id": "6754a8a7",
   "metadata": {
    "execution": {
     "iopub.execute_input": "2022-08-16T04:05:09.483963Z",
     "iopub.status.busy": "2022-08-16T04:05:09.482874Z",
     "iopub.status.idle": "2022-08-16T04:05:35.738018Z",
     "shell.execute_reply": "2022-08-16T04:05:35.737388Z",
     "shell.execute_reply.started": "2022-02-11T15:37:35.333752Z"
    },
    "papermill": {
     "duration": 26.349107,
     "end_time": "2022-08-16T04:05:35.738183",
     "exception": false,
     "start_time": "2022-08-16T04:05:09.389076",
     "status": "completed"
    },
    "tags": []
   },
   "outputs": [
    {
     "data": {
      "image/png": "[encoded data removed]",
      "text/plain": [
       "<Figure size 864x576 with 2 Axes>"
      ]
     },
     "metadata": {},
     "output_type": "display_data"
    }
   ],
   "source": [
    "# Histogram for Amount Distribution per class after log transformation\n",
    "fig, (ax1, ax2) = plt.subplots(1, 2, figsize=(12, 8))\n",
    "fig.suptitle('Distribution of Transaction Amount across Class')\n",
    "sns.histplot(ax=ax1, data=df_no_fraud, x='Amount', stat='probability').set(xscale=\"log\")\n",
    "sns.histplot(ax=ax2, data=df_fraud, x='Amount', stat='probability').set(xscale=\"log\")\n",
    "plt.show()"
   ]
  },
  {
   "cell_type": "markdown",
   "id": "b6ecb418",
   "metadata": {
    "execution": {
     "iopub.execute_input": "2022-01-26T13:54:39.6243Z",
     "iopub.status.busy": "2022-01-26T13:54:39.623398Z",
     "iopub.status.idle": "2022-01-26T13:54:39.628399Z",
     "shell.execute_reply": "2022-01-26T13:54:39.627607Z",
     "shell.execute_reply.started": "2022-01-26T13:54:39.624254Z"
    },
    "papermill": {
     "duration": 0.064848,
     "end_time": "2022-08-16T04:05:35.869341",
     "exception": false,
     "start_time": "2022-08-16T04:05:35.804493",
     "status": "completed"
    },
    "tags": []
   },
   "source": [
    "**Note:** For the second question, we will check the timing of transactions to detect anything unusual. We will use only the fraud dataset and plot a scatterplot accordingly. "
   ]
  },
  {
   "cell_type": "code",
   "execution_count": 16,
   "id": "f8a6b2f7",
   "metadata": {
    "execution": {
     "iopub.execute_input": "2022-08-16T04:05:36.008650Z",
     "iopub.status.busy": "2022-08-16T04:05:36.007886Z",
     "iopub.status.idle": "2022-08-16T04:05:36.317990Z",
     "shell.execute_reply": "2022-08-16T04:05:36.317460Z",
     "shell.execute_reply.started": "2022-02-11T15:38:03.522327Z"
    },
    "papermill": {
     "duration": 0.381549,
     "end_time": "2022-08-16T04:05:36.318175",
     "exception": false,
     "start_time": "2022-08-16T04:05:35.936626",
     "status": "completed"
    },
    "tags": []
   },
   "outputs": [
    {
     "data": {
      "image/png": "[encoded data removed]",
      "text/plain": [
       "<Figure size 864x576 with 1 Axes>"
      ]
     },
     "metadata": {},
     "output_type": "display_data"
    }
   ],
   "source": [
    "## Are there any noteworthy point in time where fraud occured?\n",
    "# Scatterplot\n",
    "sns.scatterplot(data=df_fraud, x='Time', y='Amount')\n",
    "plt.show()"
   ]
  },
  {
   "cell_type": "markdown",
   "id": "44578d07",
   "metadata": {
    "papermill": {
     "duration": 0.069968,
     "end_time": "2022-08-16T04:05:36.457038",
     "exception": false,
     "start_time": "2022-08-16T04:05:36.387070",
     "status": "completed"
    },
    "tags": []
   },
   "source": [
    "**Takeaway:** The graph above does not appear that there is a clustering pattern on a time interval. So, we would assume that fraud occurred across time quite randomly. "
   ]
  },
  {
   "cell_type": "markdown",
   "id": "1dd4d66e",
   "metadata": {
    "papermill": {
     "duration": 0.06718,
     "end_time": "2022-08-16T04:05:36.592005",
     "exception": false,
     "start_time": "2022-08-16T04:05:36.524825",
     "status": "completed"
    },
    "tags": []
   },
   "source": [
    "# 6. Class Imbalance"
   ]
  },
  {
   "cell_type": "markdown",
   "id": "8f7c88af",
   "metadata": {
    "papermill": {
     "duration": 0.068854,
     "end_time": "2022-08-16T04:05:36.729880",
     "exception": false,
     "start_time": "2022-08-16T04:05:36.661026",
     "status": "completed"
    },
    "tags": []
   },
   "source": [
    "**Note:** Our diagnostics observed a stark imbalance between classes of transactions, with fraud only making up 0.2% of all transaction statuses. Given the limited pool of examples to train, it poses an issue in terms of building an effective machine model to predict if there is a fraud. With the minority class being so small, we would expect poor performance on the critical task of detecting fraud transactions. In that vein, we will use different sampling methods (Undersampling & Oversampling) to tackle this problem."
   ]
  },
  {
   "cell_type": "code",
   "execution_count": 17,
   "id": "96302828",
   "metadata": {
    "execution": {
     "iopub.execute_input": "2022-08-16T04:05:36.899527Z",
     "iopub.status.busy": "2022-08-16T04:05:36.898642Z",
     "iopub.status.idle": "2022-08-16T04:05:36.902709Z",
     "shell.execute_reply": "2022-08-16T04:05:36.902122Z",
     "shell.execute_reply.started": "2022-02-11T15:38:03.816815Z"
    },
    "papermill": {
     "duration": 0.104919,
     "end_time": "2022-08-16T04:05:36.902882",
     "exception": false,
     "start_time": "2022-08-16T04:05:36.797963",
     "status": "completed"
    },
    "tags": []
   },
   "outputs": [],
   "source": [
    "# Splitting features & target variable\n",
    "X = df.drop(['Class'], axis=1)\n",
    "y = df['Class']"
   ]
  },
  {
   "cell_type": "markdown",
   "id": "7b6cdcd3",
   "metadata": {
    "papermill": {
     "duration": 0.06626,
     "end_time": "2022-08-16T04:05:37.037110",
     "exception": false,
     "start_time": "2022-08-16T04:05:36.970850",
     "status": "completed"
    },
    "tags": []
   },
   "source": [
    "**Definition:** SMOTE (Synthetic Minority Oversampling Technique) is an oversampling approach to the minority class. In context, it would mean to randomly increase fraud examples by \"artificially\" replicating to have a more balanced class distribution. Further information [here](https://rikunert.com/smote_explained)."
   ]
  },
  {
   "cell_type": "code",
   "execution_count": 18,
   "id": "27c4ae9b",
   "metadata": {
    "execution": {
     "iopub.execute_input": "2022-08-16T04:05:37.175655Z",
     "iopub.status.busy": "2022-08-16T04:05:37.174922Z",
     "iopub.status.idle": "2022-08-16T04:05:37.702661Z",
     "shell.execute_reply": "2022-08-16T04:05:37.702125Z",
     "shell.execute_reply.started": "2022-02-11T15:38:03.863282Z"
    },
    "papermill": {
     "duration": 0.597695,
     "end_time": "2022-08-16T04:05:37.702818",
     "exception": false,
     "start_time": "2022-08-16T04:05:37.105123",
     "status": "completed"
    },
    "tags": []
   },
   "outputs": [
    {
     "name": "stdout",
     "output_type": "stream",
     "text": [
      "Shape of X before SMOTE: (283726, 30)\n",
      "Shape of X after SMOTE: (566506, 30)\n",
      "\n",
      "Balance of positive and negative classes (%):\n"
     ]
    },
    {
     "data": {
      "text/plain": [
       "0    50.0\n",
       "1    50.0\n",
       "Name: Class, dtype: float64"
      ]
     },
     "execution_count": 18,
     "metadata": {},
     "output_type": "execute_result"
    }
   ],
   "source": [
    "##SMOTE\n",
    "oversample = SMOTE()\n",
    "X_sm, y_sm = oversample.fit_resample(X, y)\n",
    "\n",
    "print(f'''Shape of X before SMOTE: {X.shape}\n",
    "Shape of X after SMOTE: {X_sm.shape}''')\n",
    "\n",
    "print('\\nBalance of positive and negative classes (%):')\n",
    "y_sm.value_counts(normalize=True) * 100"
   ]
  },
  {
   "cell_type": "markdown",
   "id": "5073c300",
   "metadata": {
    "papermill": {
     "duration": 0.068457,
     "end_time": "2022-08-16T04:05:37.838697",
     "exception": false,
     "start_time": "2022-08-16T04:05:37.770240",
     "status": "completed"
    },
    "tags": []
   },
   "source": [
    "**Definition:** Near-Miss Algorithm is an undersampling approach on the majority class. In context, we select examples to keep out of the training set based on the distance of majority class examples to minority class examples. Further information [here](https://machinelearningmastery.com/undersampling-algorithms-for-imbalanced-classification/)."
   ]
  },
  {
   "cell_type": "code",
   "execution_count": 19,
   "id": "befd40af",
   "metadata": {
    "execution": {
     "iopub.execute_input": "2022-08-16T04:05:37.981651Z",
     "iopub.status.busy": "2022-08-16T04:05:37.980926Z",
     "iopub.status.idle": "2022-08-16T04:05:39.850140Z",
     "shell.execute_reply": "2022-08-16T04:05:39.850655Z",
     "shell.execute_reply.started": "2022-02-11T15:38:04.604493Z"
    },
    "papermill": {
     "duration": 1.944424,
     "end_time": "2022-08-16T04:05:39.850843",
     "exception": false,
     "start_time": "2022-08-16T04:05:37.906419",
     "status": "completed"
    },
    "tags": []
   },
   "outputs": [
    {
     "name": "stdout",
     "output_type": "stream",
     "text": [
      "Shape of X before NearMiss Algorithm: (283726, 30)\n",
      "Shape of X after NearMiss Algorithm: (946, 30)\n",
      "\n",
      "Balance of positive and negative classes (%):\n"
     ]
    },
    {
     "data": {
      "text/plain": [
       "0    50.0\n",
       "1    50.0\n",
       "Name: Class, dtype: float64"
      ]
     },
     "execution_count": 19,
     "metadata": {},
     "output_type": "execute_result"
    }
   ],
   "source": [
    "##Near Miss Algorithm\n",
    "nr = NearMiss()\n",
    "\n",
    "X_nmiss, y_nmiss = nr.fit_resample(X, y)\n",
    "\n",
    "print(f'''Shape of X before NearMiss Algorithm: {X.shape}\n",
    "Shape of X after NearMiss Algorithm: {X_nmiss.shape}''')\n",
    "\n",
    "print('\\nBalance of positive and negative classes (%):')\n",
    "y_nmiss.value_counts(normalize=True) * 100"
   ]
  },
  {
   "cell_type": "markdown",
   "id": "93f092a8",
   "metadata": {
    "papermill": {
     "duration": 0.071856,
     "end_time": "2022-08-16T04:05:39.992173",
     "exception": false,
     "start_time": "2022-08-16T04:05:39.920317",
     "status": "completed"
    },
    "tags": []
   },
   "source": [
    "**Note:** With the risk of overfitting with oversampling and the possibility to lose valuable information from undersampling, we will also consider combining both to rebalance the distribution. So, we shall proceed with the combination to offer curve out the risks we identified."
   ]
  },
  {
   "cell_type": "code",
   "execution_count": 20,
   "id": "aee9f743",
   "metadata": {
    "execution": {
     "iopub.execute_input": "2022-08-16T04:05:40.139238Z",
     "iopub.status.busy": "2022-08-16T04:05:40.138400Z",
     "iopub.status.idle": "2022-08-16T04:05:40.963654Z",
     "shell.execute_reply": "2022-08-16T04:05:40.964190Z",
     "shell.execute_reply.started": "2022-02-11T15:38:06.678669Z"
    },
    "papermill": {
     "duration": 0.901862,
     "end_time": "2022-08-16T04:05:40.964379",
     "exception": false,
     "start_time": "2022-08-16T04:05:40.062517",
     "status": "completed"
    },
    "tags": []
   },
   "outputs": [
    {
     "name": "stdout",
     "output_type": "stream",
     "text": [
      "Shape of X before Combined Random Sampler: (283726, 30)\n",
      "Shape of X after Combined Random Sampler: (318658, 30)\n",
      "\n",
      "Balance of positive and negative classes (%):\n"
     ]
    },
    {
     "data": {
      "text/plain": [
       "0    55.555486\n",
       "1    44.444514\n",
       "Name: Class, dtype: float64"
      ]
     },
     "execution_count": 20,
     "metadata": {},
     "output_type": "execute_result"
    }
   ],
   "source": [
    "## Combined Random Sampler\n",
    "over = RandomOverSampler(sampling_strategy=0.5)\n",
    "under = RandomUnderSampler(sampling_strategy=0.8)\n",
    "\n",
    "# Oversampling minority class\n",
    "X_over, y_over = over.fit_resample(X, y)\n",
    "\n",
    "# Comine with under sampling \n",
    "X_combined_sampling, y_combined_sampling = under.fit_resample(X_over, y_over)\n",
    "print(f'''Shape of X before Combined Random Sampler: {X.shape}\n",
    "Shape of X after Combined Random Sampler: {X_combined_sampling.shape}''')\n",
    "\n",
    "print('\\nBalance of positive and negative classes (%):')\n",
    "y_combined_sampling.value_counts(normalize=True) * 100"
   ]
  },
  {
   "cell_type": "code",
   "execution_count": 21,
   "id": "37afd659",
   "metadata": {
    "execution": {
     "iopub.execute_input": "2022-08-16T04:05:41.109565Z",
     "iopub.status.busy": "2022-08-16T04:05:41.108493Z",
     "iopub.status.idle": "2022-08-16T04:05:41.111189Z",
     "shell.execute_reply": "2022-08-16T04:05:41.111730Z",
     "shell.execute_reply.started": "2022-02-11T15:38:07.814742Z"
    },
    "papermill": {
     "duration": 0.076803,
     "end_time": "2022-08-16T04:05:41.111933",
     "exception": false,
     "start_time": "2022-08-16T04:05:41.035130",
     "status": "completed"
    },
    "tags": []
   },
   "outputs": [],
   "source": [
    "# Defined the final features & target\n",
    "X_final, y_final = X_combined_sampling, y_combined_sampling"
   ]
  },
  {
   "cell_type": "markdown",
   "id": "f579b2a2",
   "metadata": {
    "papermill": {
     "duration": 0.068626,
     "end_time": "2022-08-16T04:05:41.248590",
     "exception": false,
     "start_time": "2022-08-16T04:05:41.179964",
     "status": "completed"
    },
    "tags": []
   },
   "source": [
    "# 7. Machine Learning set-up\n",
    "\n",
    "Under this section, we will explain the procedure of two main splitting approach to estimate our models' performance. "
   ]
  },
  {
   "cell_type": "markdown",
   "id": "f824325f",
   "metadata": {
    "papermill": {
     "duration": 0.069168,
     "end_time": "2022-08-16T04:05:41.388102",
     "exception": false,
     "start_time": "2022-08-16T04:05:41.318934",
     "status": "completed"
    },
    "tags": []
   },
   "source": [
    "**Definition:** Often denoted as the most popular by its simplicity, the train-test split is a sampling technique dividing the dataset between training and testing sets. In doing so, the goal would be to have enough (but not too much) in our training set used for the machine learning model to predict the observations in the testing set as accurately as possible. Most would opt for a 70/30 training-testing split, respectively, others 80/20, 60/40, or whichever else works best for the case scenario. Further information [here](https://machinelearningmastery.com/train-test-split-for-evaluating-machine-learning-algorithms/). "
   ]
  },
  {
   "cell_type": "code",
   "execution_count": 22,
   "id": "15d95c09",
   "metadata": {
    "execution": {
     "iopub.execute_input": "2022-08-16T04:05:41.530952Z",
     "iopub.status.busy": "2022-08-16T04:05:41.530246Z",
     "iopub.status.idle": "2022-08-16T04:05:45.956576Z",
     "shell.execute_reply": "2022-08-16T04:05:45.957625Z",
     "shell.execute_reply.started": "2022-02-11T15:38:07.82214Z"
    },
    "papermill": {
     "duration": 4.501907,
     "end_time": "2022-08-16T04:05:45.957951",
     "exception": false,
     "start_time": "2022-08-16T04:05:41.456044",
     "status": "completed"
    },
    "tags": []
   },
   "outputs": [
    {
     "data": {
      "text/plain": [
       "0.9084582539801113"
      ]
     },
     "execution_count": 22,
     "metadata": {},
     "output_type": "execute_result"
    }
   ],
   "source": [
    "## Training Testing Split\n",
    "X_train, X_test, y_train, y_test = train_test_split(X_final, y_final, \n",
    "                                                    test_size=0.3, \n",
    "                                                    random_state=42)\n",
    "\n",
    "clf = LogisticRegression(max_iter=1000, solver='liblinear')\n",
    "clf.fit(X_train, y_train)\n",
    "y_pred = clf.predict(X_test)\n",
    "skm.average_precision_score(y_test, y_pred)"
   ]
  },
  {
   "cell_type": "markdown",
   "id": "010097dc",
   "metadata": {
    "papermill": {
     "duration": 0.072276,
     "end_time": "2022-08-16T04:05:46.149793",
     "exception": false,
     "start_time": "2022-08-16T04:05:46.077517",
     "status": "completed"
    },
    "tags": []
   },
   "source": [
    "**Definition:** As the name would suggest, we will engage here in the process of validation to ensure reliability on our model. Cross-Validation is a statistical method applied in various ways to estimate the model's performance. Some examples are **Holdout Method, K-Fold, Stratified K-Fold, Leave-P-Out.**  Further information [here](https://machinelearningmastery.com/k-fold-cross-validation/) and [here](https://towardsdatascience.com/cross-validation-in-machine-learning-72924a69872f).\n",
    "\n",
    "**Note:** As we already tackled the issue of class imbalance with a combination of under- and over-sampling, we will use the K-Fold cross-validation"
   ]
  },
  {
   "cell_type": "code",
   "execution_count": 23,
   "id": "953cacc8",
   "metadata": {
    "execution": {
     "iopub.execute_input": "2022-08-16T04:05:46.294535Z",
     "iopub.status.busy": "2022-08-16T04:05:46.293816Z",
     "iopub.status.idle": "2022-08-16T04:05:54.587967Z",
     "shell.execute_reply": "2022-08-16T04:05:54.589354Z",
     "shell.execute_reply.started": "2022-02-11T15:38:12.519095Z"
    },
    "papermill": {
     "duration": 8.370464,
     "end_time": "2022-08-16T04:05:54.589714",
     "exception": false,
     "start_time": "2022-08-16T04:05:46.219250",
     "status": "completed"
    },
    "tags": []
   },
   "outputs": [
    {
     "name": "stdout",
     "output_type": "stream",
     "text": [
      "Average Precision Score: 0.965 (0.001)\n"
     ]
    }
   ],
   "source": [
    "## Cross-Validation\n",
    "scores = cross_val_score(LogisticRegression(max_iter=1000, solver='liblinear'), X_train, y_train,\n",
    "                        cv=3, scoring='average_precision')\n",
    "\n",
    "print('Average Precision Score: %.3f (%.3f)' % (np.mean(scores), \n",
    "                                                np.std(scores)))"
   ]
  },
  {
   "cell_type": "markdown",
   "id": "1ac65882",
   "metadata": {
    "papermill": {
     "duration": 0.069517,
     "end_time": "2022-08-16T04:05:54.774877",
     "exception": false,
     "start_time": "2022-08-16T04:05:54.705360",
     "status": "completed"
    },
    "tags": []
   },
   "source": [
    "**Takeaway:** As we advance, we would opt for the cross-validation testing procedure in model performance evaluation.  "
   ]
  },
  {
   "cell_type": "markdown",
   "id": "01bfd3de",
   "metadata": {
    "papermill": {
     "duration": 0.06938,
     "end_time": "2022-08-16T04:05:54.915190",
     "exception": false,
     "start_time": "2022-08-16T04:05:54.845810",
     "status": "completed"
    },
    "tags": []
   },
   "source": [
    "# 8. Dimensionality Reduction\n",
    "\n",
    "This section will use dimensionality reduction to trim down the number of features we have. Dimensionality reduction encapsulates the techniques reducing the input variables in our training data. In doing so, we hope to have a more straightforward but effective machine learning model structure and avoid any potential case of overfitting. We will be testing three different methods from Linear Algebra: **PCA, SVD, and LDA** and pick the one capturing the most variability in the datasets after reducing it to principal components."
   ]
  },
  {
   "cell_type": "markdown",
   "id": "30248e55",
   "metadata": {
    "papermill": {
     "duration": 0.06992,
     "end_time": "2022-08-16T04:05:55.054618",
     "exception": false,
     "start_time": "2022-08-16T04:05:54.984698",
     "status": "completed"
    },
    "tags": []
   },
   "source": [
    "**Definition:** PCA (Principal Component Analysis) takes data with m-columns projected to a subspace with n-features (n < m) while preserving the crucial information from the original data; in other words, PCA attempts to find the **principal components (or features)** as its names denote. Further information [here](https://machinelearningmastery.com/calculate-principal-component-analysis-scratch-python/). "
   ]
  },
  {
   "cell_type": "code",
   "execution_count": 24,
   "id": "9d14125e",
   "metadata": {
    "execution": {
     "iopub.execute_input": "2022-08-16T04:05:55.200448Z",
     "iopub.status.busy": "2022-08-16T04:05:55.199147Z",
     "iopub.status.idle": "2022-08-16T04:05:56.887294Z",
     "shell.execute_reply": "2022-08-16T04:05:56.886520Z",
     "shell.execute_reply.started": "2022-02-11T15:38:20.654387Z"
    },
    "papermill": {
     "duration": 1.763845,
     "end_time": "2022-08-16T04:05:56.887465",
     "exception": false,
     "start_time": "2022-08-16T04:05:55.123620",
     "status": "completed"
    },
    "tags": []
   },
   "outputs": [
    {
     "data": {
      "text/plain": [
       "0.9999999650672606"
      ]
     },
     "execution_count": 24,
     "metadata": {},
     "output_type": "execute_result"
    }
   ],
   "source": [
    "## Principal Component Analysis\n",
    "pca = PCA(n_components=2)\n",
    "pca.fit_transform(X_final)\n",
    "np.sum(pca.explained_variance_ratio_)"
   ]
  },
  {
   "cell_type": "markdown",
   "id": "639d8c6c",
   "metadata": {
    "papermill": {
     "duration": 0.069152,
     "end_time": "2022-08-16T04:05:57.027380",
     "exception": false,
     "start_time": "2022-08-16T04:05:56.958228",
     "status": "completed"
    },
    "tags": []
   },
   "source": [
    "**Definition:** SVD (Singular Value Decomposition) is a process breaking down a matrix into its constituents elements by factorizing it into three separate matrices: **M=UΣVᵗ**. \n",
    "* M: original matrix\n",
    "* U: left singular matrix (columns are left singular vectors) containing eigenvectors of matrix MMᵗ\n",
    "* Σ: a diagonal matrix containing singular (eigen)values\n",
    "* V: right singular matrix (columns are right singular vectors) containing  eigenvectors of matrix MᵗM.\n",
    "\n",
    "Further information [here](https://machinelearningmastery.com/singular-value-decomposition-for-machine-learning/). "
   ]
  },
  {
   "cell_type": "code",
   "execution_count": 25,
   "id": "4415b440",
   "metadata": {
    "execution": {
     "iopub.execute_input": "2022-08-16T04:05:57.174013Z",
     "iopub.status.busy": "2022-08-16T04:05:57.172804Z",
     "iopub.status.idle": "2022-08-16T04:05:58.459945Z",
     "shell.execute_reply": "2022-08-16T04:05:58.459242Z",
     "shell.execute_reply.started": "2022-02-11T15:38:22.839868Z"
    },
    "papermill": {
     "duration": 1.363749,
     "end_time": "2022-08-16T04:05:58.460097",
     "exception": false,
     "start_time": "2022-08-16T04:05:57.096348",
     "status": "completed"
    },
    "tags": []
   },
   "outputs": [
    {
     "data": {
      "text/plain": [
       "0.9999999646918222"
      ]
     },
     "execution_count": 25,
     "metadata": {},
     "output_type": "execute_result"
    }
   ],
   "source": [
    "## Singular Value Decomposition\n",
    "svd = TruncatedSVD(n_components=2)\n",
    "svd.fit_transform(X_final)\n",
    "np.sum(svd.explained_variance_ratio_)"
   ]
  },
  {
   "cell_type": "markdown",
   "id": "a1195496",
   "metadata": {
    "papermill": {
     "duration": 0.069793,
     "end_time": "2022-08-16T04:05:58.600110",
     "exception": false,
     "start_time": "2022-08-16T04:05:58.530317",
     "status": "completed"
    },
    "tags": []
   },
   "source": [
    "**Definition:** LDA (Linear Discriminant Analysis) seeks to separate class types samples within the training set by finding a linear combination of input variables. The LDA algorithms take roots in matrix factorization, a core concept in Linear Algebra. Futher information [here](https://machinelearningmastery.com/linear-discriminant-analysis-for-dimensionality-reduction-in-python/). "
   ]
  },
  {
   "cell_type": "code",
   "execution_count": 26,
   "id": "eb0eb5bf",
   "metadata": {
    "execution": {
     "iopub.execute_input": "2022-08-16T04:05:58.744654Z",
     "iopub.status.busy": "2022-08-16T04:05:58.743952Z",
     "iopub.status.idle": "2022-08-16T04:06:00.409456Z",
     "shell.execute_reply": "2022-08-16T04:06:00.411228Z",
     "shell.execute_reply.started": "2022-02-11T15:38:24.595853Z"
    },
    "papermill": {
     "duration": 1.741336,
     "end_time": "2022-08-16T04:06:00.411604",
     "exception": false,
     "start_time": "2022-08-16T04:05:58.670268",
     "status": "completed"
    },
    "tags": []
   },
   "outputs": [
    {
     "data": {
      "text/plain": [
       "1.0"
      ]
     },
     "execution_count": 26,
     "metadata": {},
     "output_type": "execute_result"
    }
   ],
   "source": [
    "##Linear Discriminant Analysis\n",
    "lda = LinearDiscriminantAnalysis()\n",
    "lda.fit_transform(X_final, y_final)\n",
    "np.sum(lda.explained_variance_ratio_)"
   ]
  },
  {
   "cell_type": "markdown",
   "id": "07e3f8dc",
   "metadata": {
    "papermill": {
     "duration": 0.069532,
     "end_time": "2022-08-16T04:06:00.617777",
     "exception": false,
     "start_time": "2022-08-16T04:06:00.548245",
     "status": "completed"
    },
    "tags": []
   },
   "source": [
    "**Takeaway:** We will proceed by using LDA as it captures the entire variation (100%) in the dataset."
   ]
  },
  {
   "cell_type": "code",
   "execution_count": 27,
   "id": "cf1b7286",
   "metadata": {
    "execution": {
     "iopub.execute_input": "2022-08-16T04:06:00.769562Z",
     "iopub.status.busy": "2022-08-16T04:06:00.768092Z",
     "iopub.status.idle": "2022-08-16T04:06:02.454670Z",
     "shell.execute_reply": "2022-08-16T04:06:02.455789Z",
     "shell.execute_reply.started": "2022-02-11T15:38:26.56118Z"
    },
    "papermill": {
     "duration": 1.76788,
     "end_time": "2022-08-16T04:06:02.456154",
     "exception": false,
     "start_time": "2022-08-16T04:06:00.688274",
     "status": "completed"
    },
    "tags": []
   },
   "outputs": [],
   "source": [
    "X_lda = lda.fit_transform(X_final, y_final)\n",
    "\n",
    "## Training Testing Split\n",
    "X_train, X_test, y_train, y_test = train_test_split(X_lda, y_final, \n",
    "                                                    test_size=0.3, \n",
    "                                                    random_state=42)"
   ]
  },
  {
   "cell_type": "markdown",
   "id": "97911394",
   "metadata": {
    "papermill": {
     "duration": 0.070651,
     "end_time": "2022-08-16T04:06:02.641584",
     "exception": false,
     "start_time": "2022-08-16T04:06:02.570933",
     "status": "completed"
    },
    "tags": []
   },
   "source": [
    "# 9. Machine Learning - Simple Models\n",
    "\n",
    "This section will leverage the powerful sci-kit-learn package to build multiple models with little to no parameter tuning for comparison. We will only use the cross-validation error on our training dataset to avoid any data leakage."
   ]
  },
  {
   "cell_type": "code",
   "execution_count": 28,
   "id": "88c54653",
   "metadata": {
    "execution": {
     "iopub.execute_input": "2022-08-16T04:06:02.789563Z",
     "iopub.status.busy": "2022-08-16T04:06:02.788836Z",
     "iopub.status.idle": "2022-08-16T04:06:02.792367Z",
     "shell.execute_reply": "2022-08-16T04:06:02.791643Z",
     "shell.execute_reply.started": "2022-02-11T15:38:28.469733Z"
    },
    "papermill": {
     "duration": 0.078779,
     "end_time": "2022-08-16T04:06:02.792586",
     "exception": false,
     "start_time": "2022-08-16T04:06:02.713807",
     "status": "completed"
    },
    "tags": []
   },
   "outputs": [],
   "source": [
    "# Dictionary to store model structures\n",
    "models = dict()"
   ]
  },
  {
   "cell_type": "markdown",
   "id": "2764ab88",
   "metadata": {
    "papermill": {
     "duration": 0.070241,
     "end_time": "2022-08-16T04:06:02.933198",
     "exception": false,
     "start_time": "2022-08-16T04:06:02.862957",
     "status": "completed"
    },
    "tags": []
   },
   "source": [
    "**Definition:** Logistic Regression is a predictive classifier that models an S-shaped curve (Sigmoid function) on the data to label the examples. Further information [here](https://machinelearningmastery.com/logistic-regression-for-machine-learning/)."
   ]
  },
  {
   "cell_type": "code",
   "execution_count": 29,
   "id": "fd5a30a3",
   "metadata": {
    "execution": {
     "iopub.execute_input": "2022-08-16T04:06:03.080646Z",
     "iopub.status.busy": "2022-08-16T04:06:03.079928Z",
     "iopub.status.idle": "2022-08-16T04:06:03.081293Z",
     "shell.execute_reply": "2022-08-16T04:06:03.081898Z",
     "shell.execute_reply.started": "2022-02-11T15:38:28.481214Z"
    },
    "papermill": {
     "duration": 0.078753,
     "end_time": "2022-08-16T04:06:03.082093",
     "exception": false,
     "start_time": "2022-08-16T04:06:03.003340",
     "status": "completed"
    },
    "tags": []
   },
   "outputs": [],
   "source": [
    "## Logistic Regression\n",
    "logreg = LogisticRegression()\n",
    "models.update({'Logistic Regression':logreg})"
   ]
  },
  {
   "cell_type": "markdown",
   "id": "2c7b8237",
   "metadata": {
    "papermill": {
     "duration": 0.069475,
     "end_time": "2022-08-16T04:06:03.221795",
     "exception": false,
     "start_time": "2022-08-16T04:06:03.152320",
     "status": "completed"
    },
    "tags": []
   },
   "source": [
    "**Definition:** k-Nearest Neighbors is a machine learning model built on Euclidean distance that categorizes the observations. Further information [here](https://towardsdatascience.com/machine-learning-basics-with-the-k-nearest-neighbors-algorithm-6a6e71d01761#:~:text=Summary-,The%20k%2Dnearest%20neighbors%20(KNN)%20algorithm%20is%20a%20simple,that%20data%20in%20use%20grows.)."
   ]
  },
  {
   "cell_type": "code",
   "execution_count": 30,
   "id": "eb41532f",
   "metadata": {
    "execution": {
     "iopub.execute_input": "2022-08-16T04:06:03.367033Z",
     "iopub.status.busy": "2022-08-16T04:06:03.366293Z",
     "iopub.status.idle": "2022-08-16T04:06:03.370038Z",
     "shell.execute_reply": "2022-08-16T04:06:03.370698Z",
     "shell.execute_reply.started": "2022-02-11T15:38:28.494213Z"
    },
    "papermill": {
     "duration": 0.079621,
     "end_time": "2022-08-16T04:06:03.370881",
     "exception": false,
     "start_time": "2022-08-16T04:06:03.291260",
     "status": "completed"
    },
    "tags": []
   },
   "outputs": [],
   "source": [
    "## k-Nearest Neighbors\n",
    "knn = KNeighborsClassifier(n_neighbors=2)\n",
    "models.update({'k-Nearest Neighbors':knn})"
   ]
  },
  {
   "cell_type": "markdown",
   "id": "783debc2",
   "metadata": {
    "papermill": {
     "duration": 0.069457,
     "end_time": "2022-08-16T04:06:03.509560",
     "exception": false,
     "start_time": "2022-08-16T04:06:03.440103",
     "status": "completed"
    },
    "tags": []
   },
   "source": [
    "**Definition:** Stochastic Gradient Descent is an iterative algorithm that minimizes the model's error rate. Further information [here](https://towardsdatascience.com/stochastic-gradient-descent-clearly-explained-53d239905d31)."
   ]
  },
  {
   "cell_type": "code",
   "execution_count": 31,
   "id": "cbace81b",
   "metadata": {
    "execution": {
     "iopub.execute_input": "2022-08-16T04:06:03.652570Z",
     "iopub.status.busy": "2022-08-16T04:06:03.651828Z",
     "iopub.status.idle": "2022-08-16T04:06:03.655947Z",
     "shell.execute_reply": "2022-08-16T04:06:03.656622Z",
     "shell.execute_reply.started": "2022-02-11T15:38:28.507089Z"
    },
    "papermill": {
     "duration": 0.077571,
     "end_time": "2022-08-16T04:06:03.656813",
     "exception": false,
     "start_time": "2022-08-16T04:06:03.579242",
     "status": "completed"
    },
    "tags": []
   },
   "outputs": [],
   "source": [
    "## Stochastic Gradient Descent\n",
    "sgd =  SGDClassifier()\n",
    "models.update({'Stochastic Gradient Descent':sgd})"
   ]
  },
  {
   "cell_type": "markdown",
   "id": "daec51a8",
   "metadata": {
    "papermill": {
     "duration": 0.069907,
     "end_time": "2022-08-16T04:06:03.797132",
     "exception": false,
     "start_time": "2022-08-16T04:06:03.727225",
     "status": "completed"
    },
    "tags": []
   },
   "source": [
    "**Definition:** A Decision Tree is a supervised machine learning algorithm building an actual tree based on splits within the data. [here](https://www.xoriant.com/blog/product-engineering/decision-trees-machine-learning-algorithm.html)."
   ]
  },
  {
   "cell_type": "code",
   "execution_count": 32,
   "id": "4e2b386f",
   "metadata": {
    "execution": {
     "iopub.execute_input": "2022-08-16T04:06:03.943185Z",
     "iopub.status.busy": "2022-08-16T04:06:03.942373Z",
     "iopub.status.idle": "2022-08-16T04:06:03.945861Z",
     "shell.execute_reply": "2022-08-16T04:06:03.946536Z",
     "shell.execute_reply.started": "2022-02-11T15:38:28.521602Z"
    },
    "papermill": {
     "duration": 0.079643,
     "end_time": "2022-08-16T04:06:03.946739",
     "exception": false,
     "start_time": "2022-08-16T04:06:03.867096",
     "status": "completed"
    },
    "tags": []
   },
   "outputs": [],
   "source": [
    "## Decision Tree\n",
    "tree = DecisionTreeClassifier()\n",
    "models.update({'Decision Tree Classifier':tree})"
   ]
  },
  {
   "cell_type": "code",
   "execution_count": 33,
   "id": "42549a60",
   "metadata": {
    "execution": {
     "iopub.execute_input": "2022-08-16T04:06:04.089315Z",
     "iopub.status.busy": "2022-08-16T04:06:04.088674Z",
     "iopub.status.idle": "2022-08-16T04:06:04.097176Z",
     "shell.execute_reply": "2022-08-16T04:06:04.097799Z",
     "shell.execute_reply.started": "2022-02-11T15:38:28.537756Z"
    },
    "papermill": {
     "duration": 0.081588,
     "end_time": "2022-08-16T04:06:04.097997",
     "exception": false,
     "start_time": "2022-08-16T04:06:04.016409",
     "status": "completed"
    },
    "tags": []
   },
   "outputs": [
    {
     "data": {
      "text/plain": [
       "{'Logistic Regression': LogisticRegression(),\n",
       " 'k-Nearest Neighbors': KNeighborsClassifier(n_neighbors=2),\n",
       " 'Stochastic Gradient Descent': SGDClassifier(),\n",
       " 'Decision Tree Classifier': DecisionTreeClassifier()}"
      ]
     },
     "execution_count": 33,
     "metadata": {},
     "output_type": "execute_result"
    }
   ],
   "source": [
    "# Checking the dictionary of models\n",
    "models"
   ]
  },
  {
   "cell_type": "code",
   "execution_count": 34,
   "id": "b57747d7",
   "metadata": {
    "execution": {
     "iopub.execute_input": "2022-08-16T04:06:04.241863Z",
     "iopub.status.busy": "2022-08-16T04:06:04.241084Z",
     "iopub.status.idle": "2022-08-16T04:06:08.305552Z",
     "shell.execute_reply": "2022-08-16T04:06:08.304939Z",
     "shell.execute_reply.started": "2022-02-11T15:38:28.562541Z"
    },
    "papermill": {
     "duration": 4.137511,
     "end_time": "2022-08-16T04:06:08.305745",
     "exception": false,
     "start_time": "2022-08-16T04:06:04.168234",
     "status": "completed"
    },
    "tags": []
   },
   "outputs": [
    {
     "name": "stdout",
     "output_type": "stream",
     "text": [
      "Logistic Regression - Average Precision Score: 0.97518 (0.00036)\n",
      "k-Nearest Neighbors - Average Precision Score: 0.99616 (0.00058)\n",
      "Stochastic Gradient Descent - Average Precision Score: 0.97518 (0.00036)\n",
      "Decision Tree Classifier - Average Precision Score: 0.99616 (0.00060)\n"
     ]
    }
   ],
   "source": [
    "# Cross-Validation & model building\n",
    "for name, model in models.items():\n",
    "    n_scores = cross_val_score(model, X_train, y_train, \n",
    "                                cv=3, scoring='average_precision')\n",
    "    # report performance\n",
    "    print('{} - Average Precision Score: {:.5f} ({:.5f})' .format(name, np.mean(n_scores), \n",
    "                                                                  np.std(n_scores)))"
   ]
  },
  {
   "cell_type": "markdown",
   "id": "7e6832f6",
   "metadata": {
    "papermill": {
     "duration": 0.073622,
     "end_time": "2022-08-16T04:06:08.451216",
     "exception": false,
     "start_time": "2022-08-16T04:06:08.377594",
     "status": "completed"
    },
    "tags": []
   },
   "source": [
    "**Takeaway:** Our two best models are k-NN and Decision Tree with both 99.7% AUPRC."
   ]
  },
  {
   "cell_type": "markdown",
   "id": "fc315bb7",
   "metadata": {
    "papermill": {
     "duration": 0.071829,
     "end_time": "2022-08-16T04:06:08.595245",
     "exception": false,
     "start_time": "2022-08-16T04:06:08.523416",
     "status": "completed"
    },
    "tags": []
   },
   "source": [
    "# 10. Machine Learning - Ensemble Methods\n",
    "\n",
    "This section will extend our work in machine learning to incorporate ensemble methods. We generated simple models and compared the scores, which appear satisfactory, with the lowest at 0.974 for the Average Precision Score. However, we may want more stability and minor variation in our predictive algorithm; it is where ensemble techniques come in. Most often, they act as a 'superposer' of multiple models throughout various ways and thus, bolster their predictive power. Further Information [here](https://machinelearningmastery.com/tour-of-ensemble-learning-algorithms/). "
   ]
  },
  {
   "cell_type": "code",
   "execution_count": 35,
   "id": "927f489a",
   "metadata": {
    "execution": {
     "iopub.execute_input": "2022-08-16T04:06:08.749220Z",
     "iopub.status.busy": "2022-08-16T04:06:08.748134Z",
     "iopub.status.idle": "2022-08-16T04:06:08.752046Z",
     "shell.execute_reply": "2022-08-16T04:06:08.752547Z",
     "shell.execute_reply.started": "2022-02-11T15:38:33.384652Z"
    },
    "papermill": {
     "duration": 0.082406,
     "end_time": "2022-08-16T04:06:08.752743",
     "exception": false,
     "start_time": "2022-08-16T04:06:08.670337",
     "status": "completed"
    },
    "tags": []
   },
   "outputs": [],
   "source": [
    "# Dictionary to store ensemble model structures\n",
    "ensemble_models = dict()"
   ]
  },
  {
   "cell_type": "markdown",
   "id": "4077c176",
   "metadata": {
    "papermill": {
     "duration": 0.071629,
     "end_time": "2022-08-16T04:06:08.896678",
     "exception": false,
     "start_time": "2022-08-16T04:06:08.825049",
     "status": "completed"
    },
    "tags": []
   },
   "source": [
    "**Definition:** Random Forest builds onto the logic of decision trees by agglomerating multiple trees and obtaining a given prediction from majority voting; in other words, it is a Decision Tree times n (number of trees). Further information [here](https://towardsdatascience.com/understanding-random-forest-58381e0602d2)."
   ]
  },
  {
   "cell_type": "code",
   "execution_count": 36,
   "id": "ba1bd27e",
   "metadata": {
    "execution": {
     "iopub.execute_input": "2022-08-16T04:06:09.045825Z",
     "iopub.status.busy": "2022-08-16T04:06:09.044835Z",
     "iopub.status.idle": "2022-08-16T04:06:09.048824Z",
     "shell.execute_reply": "2022-08-16T04:06:09.049288Z",
     "shell.execute_reply.started": "2022-02-11T15:38:33.391186Z"
    },
    "papermill": {
     "duration": 0.07984,
     "end_time": "2022-08-16T04:06:09.049495",
     "exception": false,
     "start_time": "2022-08-16T04:06:08.969655",
     "status": "completed"
    },
    "tags": []
   },
   "outputs": [],
   "source": [
    "## Random Forest\n",
    "rf_clf = RandomForestClassifier()\n",
    "ensemble_models.update({'Random Forest':rf_clf})"
   ]
  },
  {
   "cell_type": "markdown",
   "id": "3cec6521",
   "metadata": {
    "papermill": {
     "duration": 0.071718,
     "end_time": "2022-08-16T04:06:09.193660",
     "exception": false,
     "start_time": "2022-08-16T04:06:09.121942",
     "status": "completed"
    },
    "tags": []
   },
   "source": [
    "**Definition:** Stochastic Gradient Boosting is part of the more sophisticated ensemble techniques (Boosting), learning from previous models' errors and building a sequential improvement process. Further information [here](https://towardsdatascience.com/understanding-random-forest-58381e0602d2)."
   ]
  },
  {
   "cell_type": "code",
   "execution_count": 37,
   "id": "9ece6987",
   "metadata": {
    "execution": {
     "iopub.execute_input": "2022-08-16T04:06:09.341838Z",
     "iopub.status.busy": "2022-08-16T04:06:09.340844Z",
     "iopub.status.idle": "2022-08-16T04:06:09.346204Z",
     "shell.execute_reply": "2022-08-16T04:06:09.346755Z",
     "shell.execute_reply.started": "2022-02-11T15:38:33.404759Z"
    },
    "papermill": {
     "duration": 0.080955,
     "end_time": "2022-08-16T04:06:09.346949",
     "exception": false,
     "start_time": "2022-08-16T04:06:09.265994",
     "status": "completed"
    },
    "tags": []
   },
   "outputs": [],
   "source": [
    "## Stochastic Gradient Boosting\n",
    "boost_clf = GradientBoostingClassifier()\n",
    "ensemble_models.update({'Stochastic Gradient Boosting':boost_clf})"
   ]
  },
  {
   "cell_type": "markdown",
   "id": "fbb41d5d",
   "metadata": {
    "papermill": {
     "duration": 0.071138,
     "end_time": "2022-08-16T04:06:09.492017",
     "exception": false,
     "start_time": "2022-08-16T04:06:09.420879",
     "status": "completed"
    },
    "tags": []
   },
   "source": [
    "**Definition:** Stacking Classifier creates a meta-model based on individual models to improve performance, though not always so in all cases. In our instance, we will use all simple models. Further information [here](https://machinelearningmastery.com/stacking-ensemble-machine-learning-with-python/)."
   ]
  },
  {
   "cell_type": "code",
   "execution_count": 38,
   "id": "2729e68e",
   "metadata": {
    "execution": {
     "iopub.execute_input": "2022-08-16T04:06:09.639005Z",
     "iopub.status.busy": "2022-08-16T04:06:09.637996Z",
     "iopub.status.idle": "2022-08-16T04:06:09.643553Z",
     "shell.execute_reply": "2022-08-16T04:06:09.644022Z",
     "shell.execute_reply.started": "2022-02-11T15:38:33.416341Z"
    },
    "papermill": {
     "duration": 0.080849,
     "end_time": "2022-08-16T04:06:09.644209",
     "exception": false,
     "start_time": "2022-08-16T04:06:09.563360",
     "status": "completed"
    },
    "tags": []
   },
   "outputs": [],
   "source": [
    "## StackingClassifier\n",
    "estimators = [\n",
    "    ('logreg', LogisticRegression()),\n",
    "    ('knn', KNeighborsClassifier(n_neighbors=2)),\n",
    "    ('sdg', SGDClassifier()),\n",
    "     \n",
    "]\n",
    "stack_clf = StackingClassifier(estimators=estimators,\n",
    "                               final_estimator=DecisionTreeClassifier())\n",
    "ensemble_models.update({'StackingClassifier':stack_clf})"
   ]
  },
  {
   "cell_type": "code",
   "execution_count": 39,
   "id": "23e3e900",
   "metadata": {
    "execution": {
     "iopub.execute_input": "2022-08-16T04:06:09.804446Z",
     "iopub.status.busy": "2022-08-16T04:06:09.794742Z",
     "iopub.status.idle": "2022-08-16T04:06:09.809443Z",
     "shell.execute_reply": "2022-08-16T04:06:09.809983Z",
     "shell.execute_reply.started": "2022-02-11T15:38:33.42888Z"
    },
    "papermill": {
     "duration": 0.091529,
     "end_time": "2022-08-16T04:06:09.810165",
     "exception": false,
     "start_time": "2022-08-16T04:06:09.718636",
     "status": "completed"
    },
    "tags": []
   },
   "outputs": [
    {
     "data": {
      "text/plain": [
       "{'Random Forest': RandomForestClassifier(),\n",
       " 'Stochastic Gradient Boosting': GradientBoostingClassifier(),\n",
       " 'StackingClassifier': StackingClassifier(estimators=[('logreg', LogisticRegression()),\n",
       "                                ('knn', KNeighborsClassifier(n_neighbors=2)),\n",
       "                                ('sdg', SGDClassifier())],\n",
       "                    final_estimator=DecisionTreeClassifier())}"
      ]
     },
     "execution_count": 39,
     "metadata": {},
     "output_type": "execute_result"
    }
   ],
   "source": [
    "ensemble_models"
   ]
  },
  {
   "cell_type": "code",
   "execution_count": 40,
   "id": "bd445e6c",
   "metadata": {
    "execution": {
     "iopub.execute_input": "2022-08-16T04:06:09.961734Z",
     "iopub.status.busy": "2022-08-16T04:06:09.960975Z",
     "iopub.status.idle": "2022-08-16T04:08:17.223275Z",
     "shell.execute_reply": "2022-08-16T04:08:17.222701Z",
     "shell.execute_reply.started": "2022-02-11T15:38:33.448197Z"
    },
    "papermill": {
     "duration": 127.341536,
     "end_time": "2022-08-16T04:08:17.223452",
     "exception": false,
     "start_time": "2022-08-16T04:06:09.881916",
     "status": "completed"
    },
    "tags": []
   },
   "outputs": [
    {
     "name": "stdout",
     "output_type": "stream",
     "text": [
      "Random Forest - Average Precision Score: 0.99616 (0.00060)\n",
      "Stochastic Gradient Boosting - Average Precision Score: 0.98917 (0.00026)\n",
      "StackingClassifier - Average Precision Score: 0.95577 (0.00568)\n"
     ]
    }
   ],
   "source": [
    "# Cross-Validation & model building\n",
    "for name, model in ensemble_models.items():\n",
    "    n_scores = cross_val_score(model, X_train, y_train, \n",
    "                               cv=3, scoring='average_precision')\n",
    "    # report performance\n",
    "    print('{} - Average Precision Score: {:.5f} ({:.5f})' .format(name, np.mean(n_scores), \n",
    "                                                                  np.std(n_scores)))"
   ]
  },
  {
   "cell_type": "markdown",
   "id": "eda90661",
   "metadata": {
    "papermill": {
     "duration": 0.073186,
     "end_time": "2022-08-16T04:08:17.369349",
     "exception": false,
     "start_time": "2022-08-16T04:08:17.296163",
     "status": "completed"
    },
    "tags": []
   },
   "source": [
    "**Takeaway:** Based on the numbers obtained, the Random Forest model was on par with the two best individual models, K-Nearest Neighbors and Decision Tree. The Stochastic Gradient Boosting outperformed Logistic Regression and Stochastic Gradient Descent. In contrast, the staking model was worse than all of the above. Moving forward, we will evaluate the performance of the top 2 models from the simple models using the Occam's razor principles regarding complexity. Further information [here](https://math.ucr.edu/home/baez/physics/General/occam.html)."
   ]
  },
  {
   "cell_type": "markdown",
   "id": "b87046a5",
   "metadata": {
    "papermill": {
     "duration": 0.072736,
     "end_time": "2022-08-16T04:08:17.514951",
     "exception": false,
     "start_time": "2022-08-16T04:08:17.442215",
     "status": "completed"
    },
    "tags": []
   },
   "source": [
    "# 11. Hyperparameter Tuning\n",
    "\n",
    "This section will walk through a process to find the best possible models given a set of parameters. In machine learning, we name it hyperparameter tuning during which the algorithm search for the set of optimal hyperarameters driving the metric as high (or low depending the case scenario) as possible. "
   ]
  },
  {
   "cell_type": "code",
   "execution_count": 41,
   "id": "b8a19adc",
   "metadata": {
    "execution": {
     "iopub.execute_input": "2022-08-16T04:08:17.664975Z",
     "iopub.status.busy": "2022-08-16T04:08:17.664323Z",
     "iopub.status.idle": "2022-08-16T04:08:17.669148Z",
     "shell.execute_reply": "2022-08-16T04:08:17.669795Z",
     "shell.execute_reply.started": "2022-02-11T15:41:02.697956Z"
    },
    "papermill": {
     "duration": 0.082313,
     "end_time": "2022-08-16T04:08:17.669973",
     "exception": false,
     "start_time": "2022-08-16T04:08:17.587660",
     "status": "completed"
    },
    "tags": []
   },
   "outputs": [],
   "source": [
    "## Random Search\n",
    "\n",
    "# define search space\n",
    "knn_space = {\n",
    "    'weights': ['uniform', 'distance'],\n",
    "    'metric': ['euclidean', 'manhattan', 'minkowski']\n",
    "            }\n",
    "tree_space = {\n",
    "    'criterion': ['gini', 'entropy'],\n",
    "    'splitter': ['best', 'random']\n",
    "            }"
   ]
  },
  {
   "cell_type": "code",
   "execution_count": 42,
   "id": "6e02bd65",
   "metadata": {
    "execution": {
     "iopub.execute_input": "2022-08-16T04:08:17.818774Z",
     "iopub.status.busy": "2022-08-16T04:08:17.818050Z",
     "iopub.status.idle": "2022-08-16T04:08:17.825728Z",
     "shell.execute_reply": "2022-08-16T04:08:17.825211Z",
     "shell.execute_reply.started": "2022-02-11T15:41:02.706908Z"
    },
    "papermill": {
     "duration": 0.083608,
     "end_time": "2022-08-16T04:08:17.825876",
     "exception": false,
     "start_time": "2022-08-16T04:08:17.742268",
     "status": "completed"
    },
    "tags": []
   },
   "outputs": [
    {
     "data": {
      "text/plain": [
       "{'k-Nearest Neighbors': [KNeighborsClassifier(n_neighbors=2),\n",
       "  {'weights': ['uniform', 'distance'],\n",
       "   'metric': ['euclidean', 'manhattan', 'minkowski']}],\n",
       " 'Decision Tree Classifier': [DecisionTreeClassifier(),\n",
       "  {'criterion': ['gini', 'entropy'], 'splitter': ['best', 'random']}]}"
      ]
     },
     "execution_count": 42,
     "metadata": {},
     "output_type": "execute_result"
    }
   ],
   "source": [
    "# The top 3 models\n",
    "top_models = {\n",
    "    'k-Nearest Neighbors':[knn, knn_space],\n",
    "    'Decision Tree Classifier':[tree,tree_space]\n",
    "    }\n",
    "\n",
    "top_models"
   ]
  },
  {
   "cell_type": "markdown",
   "id": "e0b6991c",
   "metadata": {
    "papermill": {
     "duration": 0.074109,
     "end_time": "2022-08-16T04:08:17.973762",
     "exception": false,
     "start_time": "2022-08-16T04:08:17.899653",
     "status": "completed"
    },
    "tags": []
   },
   "source": [
    "**Definition:** Grid Search will define its search space as a grid and evaluate every position inside the grid. Further information [here](https://machinelearningmastery.com/hyperparameter-optimization-with-random-search-and-grid-search/). "
   ]
  },
  {
   "cell_type": "code",
   "execution_count": 43,
   "id": "43deb236",
   "metadata": {
    "execution": {
     "iopub.execute_input": "2022-08-16T04:08:18.123072Z",
     "iopub.status.busy": "2022-08-16T04:08:18.122377Z",
     "iopub.status.idle": "2022-08-16T04:08:25.379381Z",
     "shell.execute_reply": "2022-08-16T04:08:25.378830Z",
     "shell.execute_reply.started": "2022-02-11T15:41:02.723795Z"
    },
    "papermill": {
     "duration": 7.332809,
     "end_time": "2022-08-16T04:08:25.379571",
     "exception": false,
     "start_time": "2022-08-16T04:08:18.046762",
     "status": "completed"
    },
    "tags": []
   },
   "outputs": [
    {
     "name": "stdout",
     "output_type": "stream",
     "text": [
      "k-Nearest Neighbors - Average Precision Score: 0.99549\n",
      "with best parameters: {'metric': 'euclidean', 'weights': 'uniform'}.\n",
      "\n",
      "Decision Tree Classifier - Average Precision Score: 0.99557\n",
      "with best parameters: {'criterion': 'gini', 'splitter': 'random'}.\n",
      "\n"
     ]
    }
   ],
   "source": [
    "for name, specs in top_models.items():\n",
    "    model, space = specs[0], specs[1]\n",
    "    search = GridSearchCV(estimator=model, param_grid=space, \n",
    "                          cv=2, scoring='average_precision')\n",
    "    search.fit(X_train, y_train)\n",
    "    print('{} - Average Precision Score: {:.5f}' .format(name, search.best_score_))\n",
    "    print('with best parameters: {}.\\n' .format(search.best_params_))"
   ]
  },
  {
   "cell_type": "markdown",
   "id": "024c179a",
   "metadata": {
    "papermill": {
     "duration": 0.075889,
     "end_time": "2022-08-16T04:08:25.528942",
     "exception": false,
     "start_time": "2022-08-16T04:08:25.453053",
     "status": "completed"
    },
    "tags": []
   },
   "source": [
    "**Definition:** Random Search will define its search space as a limited domain and randomly select sample points to test and do so recursively. Further information [here](https://machinelearningmastery.com/hyperparameter-optimization-with-random-search-and-grid-search/). "
   ]
  },
  {
   "cell_type": "code",
   "execution_count": 44,
   "id": "455db88f",
   "metadata": {
    "execution": {
     "iopub.execute_input": "2022-08-16T04:08:25.684198Z",
     "iopub.status.busy": "2022-08-16T04:08:25.680499Z",
     "iopub.status.idle": "2022-08-16T04:08:29.239073Z",
     "shell.execute_reply": "2022-08-16T04:08:29.238345Z",
     "shell.execute_reply.started": "2022-02-11T15:41:12.316284Z"
    },
    "papermill": {
     "duration": 3.636043,
     "end_time": "2022-08-16T04:08:29.239237",
     "exception": false,
     "start_time": "2022-08-16T04:08:25.603194",
     "status": "completed"
    },
    "tags": []
   },
   "outputs": [
    {
     "name": "stdout",
     "output_type": "stream",
     "text": [
      "k-Nearest Neighbors - Average Precision Score: 0.99549\n",
      "with best parameters: {'weights': 'distance', 'metric': 'euclidean'}.\n",
      "\n",
      "Decision Tree Classifier - Average Precision Score: 0.99548\n",
      "with best parameters: {'splitter': 'best', 'criterion': 'gini'}.\n",
      "\n"
     ]
    }
   ],
   "source": [
    "for name, specs in top_models.items():\n",
    "    model, space = specs[0], specs[1]\n",
    "    search = RandomizedSearchCV(estimator=model, param_distributions=space, \n",
    "                                cv=2, n_iter=2, scoring='average_precision')\n",
    "    search.fit(X_train, y_train)\n",
    "    print('{} - Average Precision Score: {:.5f}' .format(name, search.best_score_))\n",
    "    print('with best parameters: {}.\\n' .format(search.best_params_))"
   ]
  },
  {
   "cell_type": "markdown",
   "id": "63658125",
   "metadata": {
    "papermill": {
     "duration": 0.083382,
     "end_time": "2022-08-16T04:08:29.397146",
     "exception": false,
     "start_time": "2022-08-16T04:08:29.313764",
     "status": "completed"
    },
    "tags": []
   },
   "source": [
    "**Takeaway:** Though both models produce quite similar AUPRC, we will opt for the Decision Tree Classifier having the highest value during the hyperparameter tuning."
   ]
  },
  {
   "cell_type": "markdown",
   "id": "4ec6c358",
   "metadata": {
    "papermill": {
     "duration": 0.082046,
     "end_time": "2022-08-16T04:08:29.560049",
     "exception": false,
     "start_time": "2022-08-16T04:08:29.478003",
     "status": "completed"
    },
    "tags": []
   },
   "source": [
    "### 12. Model Performance Evaluation\n",
    "\n",
    "This section will build on everything we've done throughout this notebook and evaluate the best model using AUPRC."
   ]
  },
  {
   "cell_type": "markdown",
   "id": "90a8267d",
   "metadata": {
    "papermill": {
     "duration": 0.075515,
     "end_time": "2022-08-16T04:08:29.716310",
     "exception": false,
     "start_time": "2022-08-16T04:08:29.640795",
     "status": "completed"
    },
    "tags": []
   },
   "source": [
    "**Definition:** AUPRC (Area Under the Precision-Recall Curve) focuses on finding the positive examples; in other words, the fraudulent transactions in our case. Further information  [here](https://glassboxmedicine.com/2019/03/02/measuring-performance-auprc/)."
   ]
  },
  {
   "cell_type": "code",
   "execution_count": 45,
   "id": "e7fef9f1",
   "metadata": {
    "execution": {
     "iopub.execute_input": "2022-08-16T04:08:29.874950Z",
     "iopub.status.busy": "2022-08-16T04:08:29.873621Z",
     "iopub.status.idle": "2022-08-16T04:08:30.018891Z",
     "shell.execute_reply": "2022-08-16T04:08:30.018185Z",
     "shell.execute_reply.started": "2022-02-11T15:41:16.202284Z"
    },
    "papermill": {
     "duration": 0.226281,
     "end_time": "2022-08-16T04:08:30.019116",
     "exception": false,
     "start_time": "2022-08-16T04:08:29.792835",
     "status": "completed"
    },
    "tags": []
   },
   "outputs": [
    {
     "name": "stdout",
     "output_type": "stream",
     "text": [
      "Decision Tree Classifier - AUPRC: 0.99673\n"
     ]
    }
   ],
   "source": [
    "# Running on testing set\n",
    "tree = DecisionTreeClassifier(splitter='random', criterion='gini')\n",
    "tree.fit(X_train, y_train)\n",
    "y_pred = tree.predict(X_test)\n",
    "\n",
    "# report performance\n",
    "print('Decision Tree Classifier - AUPRC: {:.5f}' .format(skm.average_precision_score(y_test, y_pred)))"
   ]
  },
  {
   "cell_type": "markdown",
   "id": "bf249ed4",
   "metadata": {
    "papermill": {
     "duration": 0.085658,
     "end_time": "2022-08-16T04:08:30.191168",
     "exception": false,
     "start_time": "2022-08-16T04:08:30.105510",
     "status": "completed"
    },
    "tags": []
   },
   "source": [
    "**Conclusion:** Given its simple implementation and recurrent high performance, we will present the Decision Tree Classifier as our final model."
   ]
  }
 ],
 "metadata": {
  "kernelspec": {
   "display_name": "Python 3 (ipykernel)",
   "language": "python",
   "name": "python3"
  },
  "language_info": {
   "codemirror_mode": {
    "name": "ipython",
    "version": 3
   },
   "file_extension": ".py",
   "mimetype": "text/x-python",
   "name": "python",
   "nbconvert_exporter": "python",
   "pygments_lexer": "ipython3",
   "version": "3.9.12"
  },
  "papermill": {
   "default_parameters": {},
   "duration": 300.056381,
   "end_time": "2022-08-16T04:08:32.793938",
   "environment_variables": {},
   "exception": null,
   "input_path": "__notebook__.ipynb",
   "output_path": "__notebook__.ipynb",
   "parameters": {},
   "start_time": "2022-08-16T04:03:32.737557",
   "version": "2.3.3"
  }
 },
 "nbformat": 4,
 "nbformat_minor": 5
}
