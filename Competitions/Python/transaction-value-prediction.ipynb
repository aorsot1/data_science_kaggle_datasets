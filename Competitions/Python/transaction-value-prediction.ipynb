{
 "cells": [
  {
   "cell_type": "markdown",
   "id": "d734cd34",
   "metadata": {
    "papermill": {
     "duration": 0.022968,
     "end_time": "2022-08-16T01:18:44.832854",
     "exception": false,
     "start_time": "2022-08-16T01:18:44.809886",
     "status": "completed"
    },
    "tags": []
   },
   "source": [
    "# Santander Transaction Value\n",
    "With advent of new service type that are more personlized, Santander understand the business opportunities present. However, it would throwing a dart blindly without any information the market out there. The task here would be to predict the value of transactions for each potential customer working given a set of variables anonymized (best pratcice approach for security and privacy). In doing so, we will follow LIME (Local Interpretable Model-agnostic Explanations) principles making it accessible and user-friendly to most readers.\n",
    "\n",
    "## Table of Contents\n",
    "1. Environment set-up\n",
    "    * Importing Libraries\n",
    "    * Loading the data  \n",
    "2. Initial Diagnostics\n",
    "    * Glimpse\n",
    "    * Descriptive Statitics\n",
    "    * Target Variable Analysis\n",
    "    * Predictors Analysis  \n",
    "3. Feature Engineering\n",
    "    * Feature Scaling\n",
    "    * Categorical Encoding\n",
    "5. Dimensionality Reduction\n",
    "6. Machine Learning set-up\n",
    "7. ML Model Building\n",
    "8. Hyperparameter Tuning\n",
    "9. Final Submission"
   ]
  },
  {
   "cell_type": "markdown",
   "id": "0d15643d",
   "metadata": {
    "papermill": {
     "duration": 0.018667,
     "end_time": "2022-08-16T01:18:44.870753",
     "exception": false,
     "start_time": "2022-08-16T01:18:44.852086",
     "status": "completed"
    },
    "tags": []
   },
   "source": [
    "# 1. Environment set-up"
   ]
  },
  {
   "cell_type": "code",
   "execution_count": 1,
   "id": "2c8c37d2",
   "metadata": {
    "_cell_guid": "b1076dfc-b9ad-4769-8c92-a6c4dae69d19",
    "_uuid": "8f2839f25d086af736a60e9eeb907d3b93b6e0e5",
    "papermill": {
     "duration": 6.472779,
     "end_time": "2022-08-16T01:18:51.362534",
     "exception": false,
     "start_time": "2022-08-16T01:18:44.889755",
     "status": "completed"
    },
    "tags": []
   },
   "outputs": [],
   "source": [
    "## Importing Libraries\n",
    "import warnings\n",
    "warnings.filterwarnings(\"ignore\")\n",
    "\n",
    "#Set seed\n",
    "import random\n",
    "random.seed(1234)\n",
    "\n",
    "# Time function\n",
    "import time\n",
    "\n",
    "# Regex\n",
    "import re\n",
    "\n",
    "# Statiscal methods\n",
    "from math import sqrt\n",
    "from scipy import stats\n",
    "\n",
    "# Manipulating & Visualizing Data\n",
    "import pandas as pd\n",
    "import numpy as np\n",
    "from collections import Counter\n",
    "import matplotlib.pyplot as plt\n",
    "import seaborn as sns\n",
    "sns.set(rc={'figure.figsize':(12, 8)})\n",
    "\n",
    "# Categorical Encoding\n",
    "import category_encoders as ce\n",
    "\n",
    "# Feature Scaling\n",
    "from sklearn.compose import ColumnTransformer\n",
    "from sklearn.preprocessing import MinMaxScaler\n",
    "\n",
    "# Model Selection\n",
    "from sklearn.model_selection import train_test_split\n",
    "from sklearn.model_selection import cross_validate\n",
    "\n",
    "# Dimensionality Reduction\n",
    "from sklearn.decomposition import PCA, TruncatedSVD\n",
    "\n",
    "# ML Models\n",
    "import sklearn.linear_model as lm\n",
    "from sklearn.neighbors import KNeighborsRegressor\n",
    "from sklearn.tree import DecisionTreeRegressor\n",
    "\n",
    "# Ensemble Learning\n",
    "import sklearn.ensemble as esmb\n",
    "from xgboost import XGBRegressor\n",
    "\n",
    "# Hyperparameter Tuning\n",
    "from sklearn.model_selection import RandomizedSearchCV\n",
    "\n",
    "# Performance metrics\n",
    "import sklearn.metrics as skm"
   ]
  },
  {
   "cell_type": "code",
   "execution_count": 2,
   "id": "d0621e0c",
   "metadata": {
    "papermill": {
     "duration": 4.883907,
     "end_time": "2022-08-16T01:18:56.265794",
     "exception": false,
     "start_time": "2022-08-16T01:18:51.381887",
     "status": "completed"
    },
    "tags": []
   },
   "outputs": [
    {
     "data": {
      "text/html": [
       "<div>\n",
       "<style scoped>\n",
       "    .dataframe tbody tr th:only-of-type {\n",
       "        vertical-align: middle;\n",
       "    }\n",
       "\n",
       "    .dataframe tbody tr th {\n",
       "        vertical-align: top;\n",
       "    }\n",
       "\n",
       "    .dataframe thead th {\n",
       "        text-align: right;\n",
       "    }\n",
       "</style>\n",
       "<table border=\"1\" class=\"dataframe\">\n",
       "  <thead>\n",
       "    <tr style=\"text-align: right;\">\n",
       "      <th></th>\n",
       "      <th>ID</th>\n",
       "      <th>target</th>\n",
       "      <th>48df886f9</th>\n",
       "      <th>0deb4b6a8</th>\n",
       "      <th>34b15f335</th>\n",
       "      <th>a8cb14b00</th>\n",
       "      <th>2f0771a37</th>\n",
       "      <th>30347e683</th>\n",
       "      <th>d08d1fbe3</th>\n",
       "      <th>6ee66e115</th>\n",
       "      <th>...</th>\n",
       "      <th>3ecc09859</th>\n",
       "      <th>9281abeea</th>\n",
       "      <th>8675bec0b</th>\n",
       "      <th>3a13ed79a</th>\n",
       "      <th>f677d4d13</th>\n",
       "      <th>71b203550</th>\n",
       "      <th>137efaa80</th>\n",
       "      <th>fb36b89d9</th>\n",
       "      <th>7e293fbaf</th>\n",
       "      <th>9fc776466</th>\n",
       "    </tr>\n",
       "  </thead>\n",
       "  <tbody>\n",
       "    <tr>\n",
       "      <th>0</th>\n",
       "      <td>000d6aaf2</td>\n",
       "      <td>38000000.0</td>\n",
       "      <td>0.0</td>\n",
       "      <td>0</td>\n",
       "      <td>0.0</td>\n",
       "      <td>0</td>\n",
       "      <td>0</td>\n",
       "      <td>0</td>\n",
       "      <td>0</td>\n",
       "      <td>0</td>\n",
       "      <td>...</td>\n",
       "      <td>0.0</td>\n",
       "      <td>0.0</td>\n",
       "      <td>0.0</td>\n",
       "      <td>0</td>\n",
       "      <td>0</td>\n",
       "      <td>0</td>\n",
       "      <td>0</td>\n",
       "      <td>0</td>\n",
       "      <td>0</td>\n",
       "      <td>0</td>\n",
       "    </tr>\n",
       "    <tr>\n",
       "      <th>1</th>\n",
       "      <td>000fbd867</td>\n",
       "      <td>600000.0</td>\n",
       "      <td>0.0</td>\n",
       "      <td>0</td>\n",
       "      <td>0.0</td>\n",
       "      <td>0</td>\n",
       "      <td>0</td>\n",
       "      <td>0</td>\n",
       "      <td>0</td>\n",
       "      <td>0</td>\n",
       "      <td>...</td>\n",
       "      <td>0.0</td>\n",
       "      <td>0.0</td>\n",
       "      <td>0.0</td>\n",
       "      <td>0</td>\n",
       "      <td>0</td>\n",
       "      <td>0</td>\n",
       "      <td>0</td>\n",
       "      <td>0</td>\n",
       "      <td>0</td>\n",
       "      <td>0</td>\n",
       "    </tr>\n",
       "    <tr>\n",
       "      <th>2</th>\n",
       "      <td>0027d6b71</td>\n",
       "      <td>10000000.0</td>\n",
       "      <td>0.0</td>\n",
       "      <td>0</td>\n",
       "      <td>0.0</td>\n",
       "      <td>0</td>\n",
       "      <td>0</td>\n",
       "      <td>0</td>\n",
       "      <td>0</td>\n",
       "      <td>0</td>\n",
       "      <td>...</td>\n",
       "      <td>0.0</td>\n",
       "      <td>0.0</td>\n",
       "      <td>0.0</td>\n",
       "      <td>0</td>\n",
       "      <td>0</td>\n",
       "      <td>0</td>\n",
       "      <td>0</td>\n",
       "      <td>0</td>\n",
       "      <td>0</td>\n",
       "      <td>0</td>\n",
       "    </tr>\n",
       "    <tr>\n",
       "      <th>3</th>\n",
       "      <td>0028cbf45</td>\n",
       "      <td>2000000.0</td>\n",
       "      <td>0.0</td>\n",
       "      <td>0</td>\n",
       "      <td>0.0</td>\n",
       "      <td>0</td>\n",
       "      <td>0</td>\n",
       "      <td>0</td>\n",
       "      <td>0</td>\n",
       "      <td>0</td>\n",
       "      <td>...</td>\n",
       "      <td>0.0</td>\n",
       "      <td>0.0</td>\n",
       "      <td>0.0</td>\n",
       "      <td>0</td>\n",
       "      <td>0</td>\n",
       "      <td>0</td>\n",
       "      <td>0</td>\n",
       "      <td>0</td>\n",
       "      <td>0</td>\n",
       "      <td>0</td>\n",
       "    </tr>\n",
       "    <tr>\n",
       "      <th>4</th>\n",
       "      <td>002a68644</td>\n",
       "      <td>14400000.0</td>\n",
       "      <td>0.0</td>\n",
       "      <td>0</td>\n",
       "      <td>0.0</td>\n",
       "      <td>0</td>\n",
       "      <td>0</td>\n",
       "      <td>0</td>\n",
       "      <td>0</td>\n",
       "      <td>0</td>\n",
       "      <td>...</td>\n",
       "      <td>0.0</td>\n",
       "      <td>0.0</td>\n",
       "      <td>0.0</td>\n",
       "      <td>0</td>\n",
       "      <td>0</td>\n",
       "      <td>0</td>\n",
       "      <td>0</td>\n",
       "      <td>0</td>\n",
       "      <td>0</td>\n",
       "      <td>0</td>\n",
       "    </tr>\n",
       "  </tbody>\n",
       "</table>\n",
       "<p>5 rows × 4993 columns</p>\n",
       "</div>"
      ],
      "text/plain": [
       "          ID      target  48df886f9  0deb4b6a8  34b15f335  a8cb14b00  \\\n",
       "0  000d6aaf2  38000000.0        0.0          0        0.0          0   \n",
       "1  000fbd867    600000.0        0.0          0        0.0          0   \n",
       "2  0027d6b71  10000000.0        0.0          0        0.0          0   \n",
       "3  0028cbf45   2000000.0        0.0          0        0.0          0   \n",
       "4  002a68644  14400000.0        0.0          0        0.0          0   \n",
       "\n",
       "   2f0771a37  30347e683  d08d1fbe3  6ee66e115  ...  3ecc09859  9281abeea  \\\n",
       "0          0          0          0          0  ...        0.0        0.0   \n",
       "1          0          0          0          0  ...        0.0        0.0   \n",
       "2          0          0          0          0  ...        0.0        0.0   \n",
       "3          0          0          0          0  ...        0.0        0.0   \n",
       "4          0          0          0          0  ...        0.0        0.0   \n",
       "\n",
       "   8675bec0b  3a13ed79a  f677d4d13  71b203550  137efaa80  fb36b89d9  \\\n",
       "0        0.0          0          0          0          0          0   \n",
       "1        0.0          0          0          0          0          0   \n",
       "2        0.0          0          0          0          0          0   \n",
       "3        0.0          0          0          0          0          0   \n",
       "4        0.0          0          0          0          0          0   \n",
       "\n",
       "   7e293fbaf  9fc776466  \n",
       "0          0          0  \n",
       "1          0          0  \n",
       "2          0          0  \n",
       "3          0          0  \n",
       "4          0          0  \n",
       "\n",
       "[5 rows x 4993 columns]"
      ]
     },
     "execution_count": 2,
     "metadata": {},
     "output_type": "execute_result"
    }
   ],
   "source": [
    "## Loading the dataset\n",
    "raw_data = pd.read_csv(r\"C:\\Users\\Graduate\\Desktop\\ds_proj_data\\santander_value\\train.csv\")\n",
    "raw_data.head()"
   ]
  },
  {
   "cell_type": "markdown",
   "id": "e5bf1b1d",
   "metadata": {
    "papermill": {
     "duration": 0.018481,
     "end_time": "2022-08-16T01:18:56.303496",
     "exception": false,
     "start_time": "2022-08-16T01:18:56.285015",
     "status": "completed"
    },
    "tags": []
   },
   "source": [
    "# 2. Initial Diagnostics"
   ]
  },
  {
   "cell_type": "code",
   "execution_count": 3,
   "id": "ae7c37c2",
   "metadata": {
    "papermill": {
     "duration": 0.054197,
     "end_time": "2022-08-16T01:18:56.377102",
     "exception": false,
     "start_time": "2022-08-16T01:18:56.322905",
     "status": "completed"
    },
    "tags": []
   },
   "outputs": [
    {
     "name": "stdout",
     "output_type": "stream",
     "text": [
      "<class 'pandas.core.frame.DataFrame'>\n",
      "RangeIndex: 4459 entries, 0 to 4458\n",
      "Columns: 4993 entries, ID to 9fc776466\n",
      "dtypes: float64(1845), int64(3147), object(1)\n",
      "memory usage: 169.9+ MB\n"
     ]
    }
   ],
   "source": [
    "# General info on the dataset\n",
    "raw_data.info()"
   ]
  },
  {
   "cell_type": "markdown",
   "id": "8d5810b5",
   "metadata": {
    "papermill": {
     "duration": 0.019428,
     "end_time": "2022-08-16T01:18:56.850233",
     "exception": false,
     "start_time": "2022-08-16T01:18:56.830805",
     "status": "completed"
    },
    "tags": []
   },
   "source": [
    "**Note:** The histogram below shows a right-skewed distribution indicating that most transactions are on the lower end. It remains consistent given that banking transaction for x person (on average) is relatively modest, with some expectations on the upper tail as shown with the outliers on the boxplot below.  "
   ]
  },
  {
   "cell_type": "code",
   "execution_count": 4,
   "id": "5d7e8332",
   "metadata": {
    "papermill": {
     "duration": 0.386163,
     "end_time": "2022-08-16T01:18:57.255960",
     "exception": false,
     "start_time": "2022-08-16T01:18:56.869797",
     "status": "completed"
    },
    "tags": []
   },
   "outputs": [
    {
     "data": {
      "image/png": "[encoded data removed]",
      "text/plain": [
       "<Figure size 864x576 with 1 Axes>"
      ]
     },
     "metadata": {},
     "output_type": "display_data"
    }
   ],
   "source": [
    "# Target Variable Analysis\n",
    "sns.histplot(data=raw_data, x='target', stat='frequency')\n",
    "plt.title(\"Transaction Value Distribution\")\n",
    "plt.xlabel(\"Value ($)\")\n",
    "plt.show()"
   ]
  },
  {
   "cell_type": "markdown",
   "id": "3eb180e1",
   "metadata": {
    "papermill": {
     "duration": 0.020565,
     "end_time": "2022-08-16T01:18:57.297138",
     "exception": false,
     "start_time": "2022-08-16T01:18:57.276573",
     "status": "completed"
    },
    "tags": []
   },
   "source": [
    "**Note:** As noted in the introduction, we have an anonymized dataset with all predictors standardized. Thus, we would have minimal insights in exploring them individually. "
   ]
  },
  {
   "cell_type": "code",
   "execution_count": 5,
   "id": "ec7f7899-703f-4894-9f3d-eb50b0824e2e",
   "metadata": {},
   "outputs": [],
   "source": [
    "df = raw_data"
   ]
  },
  {
   "cell_type": "markdown",
   "id": "3e62eaae",
   "metadata": {
    "papermill": {
     "duration": 0.020751,
     "end_time": "2022-08-16T01:18:57.338502",
     "exception": false,
     "start_time": "2022-08-16T01:18:57.317751",
     "status": "completed"
    },
    "tags": []
   },
   "source": [
    "# 3. Dimensionality Reduction\n",
    "\n",
    "This section will use dimensionality reduction to trim down the number of features we have. Dimensionality reduction encapsulates the techniques reducing the input variables in our training data. In doing so, we hope to have a more straightforward but effective machine learning model structure and avoid any potential case of overfitting. We will be testing three different methods from Linear Algebra: **PCA, SVD, and LDA** and pick the one capturing the most variability in the datasets after reducing it to principal components.\n",
    "* **PCA** (Principal Component Analysis) takes data with m-columns projected to a subspace with n-features (n < m) while preserving the crucial information from the original data; in other words, PCA attempts to find the **principal components (or features)** as its names denote. Further information [here](https://machinelearningmastery.com/calculate-principal-component-analysis-scratch-python/). \n",
    "* **SVD** (Singular Value Decomposition) is a process breaking down a matrix into its constituents elements by factorizing it into three separate matrices: **M=UΣVᵗ**. Further information [here](https://machinelearningmastery.com/singular-value-decomposition-for-machine-learning/). \n",
    "    * M: original matrix\n",
    "    * U: left singular matrix (columns are left singular vectors) containing eigenvectors of matrix MMᵗ\n",
    "    * Σ: a diagonal matrix containing singular (eigen)values\n",
    "    * V: right singular matrix (columns are right singular vectors) containing  eigenvectors of matrix MᵗM.\n",
    "* **Factor Analysis** is a technique that is used to reduce a large number of variables into fewer numbers of factors.  This technique extracts maximum common variance from all variables and puts them into a common score.  As an index of all variables, we can use this score for further analysis. Futher information [here](https://www.alchemer.com/resources/blog/factor-analysis/). "
   ]
  },
  {
   "cell_type": "code",
   "execution_count": 6,
   "id": "d4a3af14-30ce-463a-a326-5b806b16c15b",
   "metadata": {},
   "outputs": [],
   "source": [
    "def dimensionality_reduction(X, n=5,\n",
    "                             dimred_methods={'PCA':PCA(),'SVD':TruncatedSVD()}):\n",
    "    \"\"\" Deal with the multiple anonymized variables using dimensionality reduction\n",
    "    \n",
    "    Parameters\n",
    "    ----------\n",
    "    X: Array\n",
    "        Feature(s)\n",
    "        \n",
    "    n: Discrete number\n",
    "        Reduce the total number of features into n components\n",
    "        \n",
    "    dimred_methods: dictionary\n",
    "        Key-pair values of dimensionality reduction methods\n",
    "        \n",
    "    Returns\n",
    "    -------\n",
    "    X, y\n",
    "        Final Feature(s) and Target variables after dimensionality reduction\n",
    "    \"\"\"\n",
    "    \n",
    "    name, result = '', 0\n",
    "    for method_name, method_func in dimred_methods.items():\n",
    "        method_func.n_components = n\n",
    "        method_func.fit_transform(X)\n",
    "        exp_var = np.sum(method_func.explained_variance_ratio_)\n",
    "        if exp_var > result:\n",
    "            name = method_name \n",
    "            result = exp_var\n",
    "        else:\n",
    "            continue\n",
    "    final = dimred_methods[name]\n",
    "    final.n_components = n\n",
    "    \n",
    "    return final.fit_transform(X)\n"
   ]
  },
  {
   "cell_type": "code",
   "execution_count": null,
   "id": "94f20e98-f182-4d14-9c77-7709beb6b34b",
   "metadata": {},
   "outputs": [],
   "source": [
    "#X_red = dimensionality_reduction(X, n=3)"
   ]
  },
  {
   "cell_type": "markdown",
   "id": "05006df6",
   "metadata": {
    "papermill": {
     "duration": 0.023483,
     "end_time": "2022-08-16T01:18:58.755132",
     "exception": false,
     "start_time": "2022-08-16T01:18:58.731649",
     "status": "completed"
    },
    "tags": []
   },
   "source": [
    "# 4. Machine Learning set-up\n",
    "\n",
    "Under this section, we will explain the procedure of two main splitting approach to estimate our models' performance. \n",
    "\n",
    "**Model Selection methods:** \n",
    "* **Train_test_split**: Often denoted as the most popular by its simplicity, the train-test split is a sampling technique dividing the dataset between training and testing sets. In doing so, the goal would be to have enough (but not too much) in our training set used for the machine learning model to predict the observations in the testing set as accurately as possible. Most would opt for a 70/30 training-testing split, respectively, others 80/20, 60/40, or whichever else works best for the case scenario. Further information [here](https://machinelearningmastery.com/train-test-split-for-evaluating-machine-learning-algorithms/). \n",
    "\n",
    "* **Cross-validation**: As the name would suggest, we will engage here in the process of validation to ensure reliability on our model. Cross-Validation is a statistical method applied in various ways to estimate the model's performance. Some examples are **Holdout Method, K-Fold, Stratified K-Fold, Leave-P-Out.**  Further information [here](https://machinelearningmastery.com/k-fold-cross-validation/) and [here](https://towardsdatascience.com/cross-validation-in-machine-learning-72924a69872f)."
   ]
  },
  {
   "cell_type": "code",
   "execution_count": 7,
   "id": "4e9ef6d3-e28c-4828-b3dd-af6fd2b729c0",
   "metadata": {
    "papermill": {
     "duration": 0.023724,
     "end_time": "2022-08-16T01:18:58.802484",
     "exception": false,
     "start_time": "2022-08-16T01:18:58.778760",
     "status": "completed"
    },
    "tags": []
   },
   "outputs": [],
   "source": [
    "def model_comparison(df, models, \n",
    "                     metric='neg_mean_squared_log_error'):\n",
    "    \n",
    "    \"\"\" Function to split data into training and testing set\n",
    "    \n",
    "    Parameters\n",
    "    ----------\n",
    "    data : dataframe\n",
    "        A dataset\n",
    "    models: A dictionary\n",
    "        A pre-defined dictionary with each model name and applicable function\n",
    "    \n",
    "    optional train_test params\n",
    "    \n",
    "    Returns\n",
    "    -------\n",
    "    models_df\n",
    "        A dataframe with each model performance\n",
    "    \"\"\"\n",
    "    \n",
    "    # Splitting features & target variable\n",
    "    X = df.drop(columns=['target'], axis=1)\n",
    "    y = df['target']\n",
    "    \n",
    "    # Obtain training and testing sets from function above\n",
    "    #X_train, X_test, y_train, y_test = train_test_split(X, y)\n",
    "    \n",
    "    # Craete dictionary to save performance data \n",
    "    avg, sd = 'mean_'+metric, 'std_'+metric\n",
    "    models_perf = {'Models': [], avg: [], sd: []}\n",
    "    \n",
    "    # Obtain model performance across K-Fold using Cross-Validation \n",
    "    for model in models:\n",
    "        cv_results = cross_validate(model, X, y, \n",
    "                                    cv=2, scoring=metric)\n",
    "        cv_metric = np.sqrt(abs(cv_results['test_score']))\n",
    "        m = str(model)\n",
    "        m = m[m.find(\".\")+1:m.find(\"(\")]\n",
    "        models_perf['Models'].append(m)\n",
    "        models_perf[avg].append(np.mean(cv_metric))\n",
    "        models_perf[sd].append(np.std(cv_metric))\n",
    "        print(m, \"- Build successful\")\n",
    "    models_df = pd.DataFrame(models_perf, columns = ['Models', avg, sd])\n",
    "    return models_df.sort_values(by=avg, ascending=False)"
   ]
  },
  {
   "cell_type": "markdown",
   "id": "f3b5c85f",
   "metadata": {
    "papermill": {
     "duration": 0.023154,
     "end_time": "2022-08-16T01:18:58.850225",
     "exception": false,
     "start_time": "2022-08-16T01:18:58.827071",
     "status": "completed"
    },
    "tags": []
   },
   "source": [
    "# 5. Machine Learning - Model Building\n",
    "\n",
    "* **Simple Methods:** We will leverage the powerful sci-kit-learn package to build multiple models with little to no parameter tuning for comparison. We will only use the cross-validation error on our training dataset to avoid any data leakage.\n",
    "\n",
    "* **Ensemble Methods:** We will extend our work in machine learning to incorporate ensemble methods. We generated simple models and compared the scores, which appear satisfactory; however, we may want more stability and minor variation in our predictive algorithm; it is where ensemble techniques come in. Most often, they act as a 'superposer' of multiple models throughout various ways and thus, bolster their predictive power. Further Information [here](https://machinelearningmastery.com/tour-of-ensemble-learning-algorithms/). "
   ]
  },
  {
   "cell_type": "code",
   "execution_count": 8,
   "id": "4ead8397",
   "metadata": {
    "papermill": {
     "duration": 0.157145,
     "end_time": "2022-08-16T01:18:59.031818",
     "exception": false,
     "start_time": "2022-08-16T01:18:58.874673",
     "status": "completed"
    },
    "tags": []
   },
   "outputs": [
    {
     "ename": "TypeError",
     "evalue": "model_comparison() missing 1 required positional argument: 'models'",
     "output_type": "error",
     "traceback": [
      "\u001b[1;31m---------------------------------------------------------------------------\u001b[0m",
      "\u001b[1;31mTypeError\u001b[0m                                 Traceback (most recent call last)",
      "\u001b[1;32m~\\AppData\\Local\\Temp\\ipykernel_691192\\738901134.py\u001b[0m in \u001b[0;36m<module>\u001b[1;34m\u001b[0m\n\u001b[0;32m      4\u001b[0m \u001b[1;33m\u001b[0m\u001b[0m\n\u001b[0;32m      5\u001b[0m \u001b[1;31m# Model Comparison\u001b[0m\u001b[1;33m\u001b[0m\u001b[1;33m\u001b[0m\u001b[0m\n\u001b[1;32m----> 6\u001b[1;33m \u001b[0mmodel_comparison\u001b[0m\u001b[1;33m(\u001b[0m\u001b[0mdf\u001b[0m\u001b[1;33m,\u001b[0m \u001b[0mmodels_simple\u001b[0m\u001b[1;33m)\u001b[0m\u001b[1;33m\u001b[0m\u001b[1;33m\u001b[0m\u001b[0m\n\u001b[0m",
      "\u001b[1;31mTypeError\u001b[0m: model_comparison() missing 1 required positional argument: 'models'"
     ]
    }
   ],
   "source": [
    "# Simple ML Models\n",
    "models_simple = [lm.LinearRegression(), lm.Lasso(), \n",
    "                 lm.ElasticNet(), lm.Ridge(), \n",
    "                 KNeighborsRegressor(), DecisionTreeRegressor()]\n",
    "\n",
    "# Model Comparison\n",
    "model_comparison(df, models_simple)"
   ]
  },
  {
   "cell_type": "code",
   "execution_count": 9,
   "id": "885a4a4b-fabb-46cc-8aeb-1bff0c973bba",
   "metadata": {},
   "outputs": [
    {
     "ename": "TypeError",
     "evalue": "model_comparison() missing 1 required positional argument: 'models'",
     "output_type": "error",
     "traceback": [
      "\u001b[1;31m---------------------------------------------------------------------------\u001b[0m",
      "\u001b[1;31mTypeError\u001b[0m                                 Traceback (most recent call last)",
      "\u001b[1;32m~\\AppData\\Local\\Temp\\ipykernel_691192\\1293413389.py\u001b[0m in \u001b[0;36m<module>\u001b[1;34m\u001b[0m\n\u001b[0;32m      6\u001b[0m \u001b[1;33m\u001b[0m\u001b[0m\n\u001b[0;32m      7\u001b[0m \u001b[1;31m# Model Comparison\u001b[0m\u001b[1;33m\u001b[0m\u001b[1;33m\u001b[0m\u001b[0m\n\u001b[1;32m----> 8\u001b[1;33m \u001b[0mmodel_comparison\u001b[0m\u001b[1;33m(\u001b[0m\u001b[0mdf\u001b[0m\u001b[1;33m,\u001b[0m \u001b[0mmodels_ensemble\u001b[0m\u001b[1;33m)\u001b[0m\u001b[1;33m\u001b[0m\u001b[1;33m\u001b[0m\u001b[0m\n\u001b[0m",
      "\u001b[1;31mTypeError\u001b[0m: model_comparison() missing 1 required positional argument: 'models'"
     ]
    }
   ],
   "source": [
    "# # List of ML ensemble models\n",
    "models_ensemble = [esmb.RandomForestRegressor(), esmb.BaggingRegressor(),\n",
    "                   esmb.AdaBoostRegressor(), esmb.GradientBoostingRegressor(), \n",
    "                   XGBRegressor(objective='reg:squaredlogerror', \n",
    "                                 eval_metric='rmsle')]\n",
    "\n",
    "# Model Comparison\n",
    "model_comparison(df, models_ensemble)"
   ]
  },
  {
   "cell_type": "markdown",
   "id": "23b88174",
   "metadata": {
    "papermill": {
     "duration": 0.034387,
     "end_time": "2022-08-16T01:19:19.643406",
     "exception": false,
     "start_time": "2022-08-16T01:19:19.609019",
     "status": "completed"
    },
    "tags": []
   },
   "source": [
    "# 8. Final Submission"
   ]
  },
  {
   "cell_type": "code",
   "execution_count": 13,
   "id": "283fb430",
   "metadata": {
    "execution": {
     "iopub.execute_input": "2022-08-16T01:19:19.709556Z",
     "iopub.status.busy": "2022-08-16T01:19:19.708915Z",
     "iopub.status.idle": "2022-08-16T01:20:19.668530Z",
     "shell.execute_reply": "2022-08-16T01:20:19.669074Z",
     "shell.execute_reply.started": "2022-03-04T02:31:27.540471Z"
    },
    "papermill": {
     "duration": 59.991012,
     "end_time": "2022-08-16T01:20:19.669282",
     "exception": false,
     "start_time": "2022-08-16T01:19:19.678270",
     "status": "completed"
    },
    "tags": []
   },
   "outputs": [],
   "source": [
    "# Loading the dataset\n",
    "test_df = pd.read_csv(\"/kaggle/input/santander-value-prediction-challenge/test.csv\")\n",
    "ids = test_df['ID']\n",
    "test_df.drop(['ID'], axis=1, inplace=True)"
   ]
  },
  {
   "cell_type": "code",
   "execution_count": 14,
   "id": "2da7502e",
   "metadata": {
    "execution": {
     "iopub.execute_input": "2022-08-16T01:20:19.718324Z",
     "iopub.status.busy": "2022-08-16T01:20:19.717633Z",
     "iopub.status.idle": "2022-08-16T01:21:00.538936Z",
     "shell.execute_reply": "2022-08-16T01:21:00.537882Z",
     "shell.execute_reply.started": "2022-03-04T02:31:27.542224Z"
    },
    "papermill": {
     "duration": 40.846743,
     "end_time": "2022-08-16T01:21:00.539114",
     "exception": false,
     "start_time": "2022-08-16T01:20:19.692371",
     "status": "completed"
    },
    "tags": []
   },
   "outputs": [],
   "source": [
    "# Defining our orignal model\n",
    "final_model = MLPRegressor(hidden_layer_sizes= (5,5,5,5),\n",
    "                           max_iter=500, alpha=0.05, solver='sgd',\n",
    "                           learning_rate='adaptive', activation='tanh')\n",
    "final_model.fit(X, y)\n",
    "pred = final_model.predict(test_df)\n",
    "nonneg_pred = np.clip(pred, df['target'].min(), df['target'].max())\n",
    "sub = pd.DataFrame({'ID': ids, 'target': nonneg_pred})\n",
    "sub.to_csv('submission.csv', index=False)"
   ]
  }
 ],
 "metadata": {
  "kernelspec": {
   "display_name": "Python 3 (ipykernel)",
   "language": "python",
   "name": "python3"
  },
  "language_info": {
   "codemirror_mode": {
    "name": "ipython",
    "version": 3
   },
   "file_extension": ".py",
   "mimetype": "text/x-python",
   "name": "python",
   "nbconvert_exporter": "python",
   "pygments_lexer": "ipython3",
   "version": "3.9.12"
  },
  "papermill": {
   "default_parameters": {},
   "duration": 147.623697,
   "end_time": "2022-08-16T01:21:03.388665",
   "environment_variables": {},
   "exception": null,
   "input_path": "__notebook__.ipynb",
   "output_path": "__notebook__.ipynb",
   "parameters": {},
   "start_time": "2022-08-16T01:18:35.764968",
   "version": "2.3.3"
  }
 },
 "nbformat": 4,
 "nbformat_minor": 5
}
