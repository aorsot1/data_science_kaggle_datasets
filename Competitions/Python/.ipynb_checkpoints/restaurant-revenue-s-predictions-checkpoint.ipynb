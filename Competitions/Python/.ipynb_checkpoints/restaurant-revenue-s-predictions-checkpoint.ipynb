{
 "cells": [
  {
   "cell_type": "markdown",
   "id": "4764f915-6408-4e32-9fe3-e9f04970fb29",
   "metadata": {},
   "source": [
    "# Restaurant Revenue\n",
    "As probably the riskiest business out there, restaurants face fierce competition across the board as well as an increasingly more demanding customers. Thre are so many things that would go into making a restaurant successful in its spefici cuisine or location. In that vein, this notebook will analyze different variables driving revenues for a restaurant by building a predictive algortihm.In doing so, we will follow LIME (Local Interpretable Model-agnostic Explanations) principles making it accessible and user-friendly to most readers. \n",
    "\n",
    "# Table of Contents\n",
    "1. Environment set-up\n",
    "    * Importing Libraries\n",
    "    * Loading the data\n",
    "2. Initial Diagnostics\n",
    "    * Glimpse\n",
    "    * Descriptive Statitics\n",
    "    * Target Variable Analysis\n",
    "3. Data Cleaning\n",
    "    * Missing Values\n",
    "    * Outliers\n",
    "    * Duplicate Observations\n",
    "4. Correlation Analysis\n",
    "5. Machine Learning set-up\n",
    "    * Feature Scaling\n",
    "    * Train-test split\n",
    "6. Machine Learning - Ensemble Methods\n",
    "    * Random Forest Regressor\n",
    "    * XGBoostRegressor\n",
    "7. Machine Learning - Neural Networks\n",
    "8. Final Submission"
   ]
  },
  {
   "cell_type": "code",
   "execution_count": 1,
   "id": "romantic-patent",
   "metadata": {
    "_cell_guid": "b1076dfc-b9ad-4769-8c92-a6c4dae69d19",
    "_uuid": "8f2839f25d086af736a60e9eeb907d3b93b6e0e5",
    "execution": {
     "iopub.execute_input": "2021-06-11T13:30:07.122267Z",
     "iopub.status.busy": "2021-06-11T13:30:07.121052Z",
     "iopub.status.idle": "2021-06-11T13:30:08.537847Z",
     "shell.execute_reply": "2021-06-11T13:30:08.537062Z",
     "shell.execute_reply.started": "2021-06-11T13:29:37.478387Z"
    },
    "papermill": {
     "duration": 1.445423,
     "end_time": "2021-06-11T13:30:08.538060",
     "exception": false,
     "start_time": "2021-06-11T13:30:07.092637",
     "status": "completed"
    },
    "tags": []
   },
   "outputs": [
    {
     "name": "stdout",
     "output_type": "stream",
     "text": [
      "/kaggle/input/restaurant-revenue-prediction/train.csv.zip\n",
      "/kaggle/input/restaurant-revenue-prediction/sampleSubmission.csv\n",
      "/kaggle/input/restaurant-revenue-prediction/test.csv.zip\n"
     ]
    }
   ],
   "source": [
    "import random \n",
    "random.seed(123)\n",
    "\n",
    "import numpy as np\n",
    "import pandas as pd \n",
    "import matplotlib.pyplot as plt\n",
    "import seaborn\n",
    "\n",
    "from sklearn.linear_model import LinearRegression, Ridge, Lasso, ElasticNet\n",
    "from sklearn.svm import SVR\n",
    "from sklearn.preprocessing import PolynomialFeatures\n",
    "from sklearn.tree import DecisionTreeRegressor\n",
    "import sklearn.metrics as skm\n",
    "from sklearn.model_selection import train_test_split\n",
    "import operator as op\n",
    "\n",
    "import seaborn as sns\n",
    "sns.set(rc={'figure.figsize': (12,8)})\n",
    "\n",
    "import os\n",
    "for dirname, _, filenames in os.walk('/kaggle/input'):\n",
    "    for filename in filenames:\n",
    "        print(os.path.join(dirname, filename))"
   ]
  },
  {
   "cell_type": "markdown",
   "id": "graduate-difficulty",
   "metadata": {
    "papermill": {
     "duration": 0.025515,
     "end_time": "2021-06-11T13:30:08.589830",
     "exception": false,
     "start_time": "2021-06-11T13:30:08.564315",
     "status": "completed"
    },
    "tags": []
   },
   "source": [
    "# Data Importing "
   ]
  },
  {
   "cell_type": "code",
   "execution_count": 2,
   "id": "considered-information",
   "metadata": {
    "execution": {
     "iopub.execute_input": "2021-06-11T13:30:08.646843Z",
     "iopub.status.busy": "2021-06-11T13:30:08.646091Z",
     "iopub.status.idle": "2021-06-11T13:30:08.708844Z",
     "shell.execute_reply": "2021-06-11T13:30:08.709390Z",
     "shell.execute_reply.started": "2021-06-11T13:29:37.494192Z"
    },
    "papermill": {
     "duration": 0.093926,
     "end_time": "2021-06-11T13:30:08.709560",
     "exception": false,
     "start_time": "2021-06-11T13:30:08.615634",
     "status": "completed"
    },
    "tags": []
   },
   "outputs": [
    {
     "data": {
      "text/html": [
       "<div>\n",
       "<style scoped>\n",
       "    .dataframe tbody tr th:only-of-type {\n",
       "        vertical-align: middle;\n",
       "    }\n",
       "\n",
       "    .dataframe tbody tr th {\n",
       "        vertical-align: top;\n",
       "    }\n",
       "\n",
       "    .dataframe thead th {\n",
       "        text-align: right;\n",
       "    }\n",
       "</style>\n",
       "<table border=\"1\" class=\"dataframe\">\n",
       "  <thead>\n",
       "    <tr style=\"text-align: right;\">\n",
       "      <th></th>\n",
       "      <th>Id</th>\n",
       "      <th>Open Date</th>\n",
       "      <th>City</th>\n",
       "      <th>City Group</th>\n",
       "      <th>Type</th>\n",
       "      <th>P1</th>\n",
       "      <th>P2</th>\n",
       "      <th>P3</th>\n",
       "      <th>P4</th>\n",
       "      <th>P5</th>\n",
       "      <th>...</th>\n",
       "      <th>P29</th>\n",
       "      <th>P30</th>\n",
       "      <th>P31</th>\n",
       "      <th>P32</th>\n",
       "      <th>P33</th>\n",
       "      <th>P34</th>\n",
       "      <th>P35</th>\n",
       "      <th>P36</th>\n",
       "      <th>P37</th>\n",
       "      <th>revenue</th>\n",
       "    </tr>\n",
       "  </thead>\n",
       "  <tbody>\n",
       "    <tr>\n",
       "      <th>0</th>\n",
       "      <td>0</td>\n",
       "      <td>07/17/1999</td>\n",
       "      <td>İstanbul</td>\n",
       "      <td>Big Cities</td>\n",
       "      <td>IL</td>\n",
       "      <td>4</td>\n",
       "      <td>5.0</td>\n",
       "      <td>4.0</td>\n",
       "      <td>4.0</td>\n",
       "      <td>2</td>\n",
       "      <td>...</td>\n",
       "      <td>3.0</td>\n",
       "      <td>5</td>\n",
       "      <td>3</td>\n",
       "      <td>4</td>\n",
       "      <td>5</td>\n",
       "      <td>5</td>\n",
       "      <td>4</td>\n",
       "      <td>3</td>\n",
       "      <td>4</td>\n",
       "      <td>5653753.0</td>\n",
       "    </tr>\n",
       "    <tr>\n",
       "      <th>1</th>\n",
       "      <td>1</td>\n",
       "      <td>02/14/2008</td>\n",
       "      <td>Ankara</td>\n",
       "      <td>Big Cities</td>\n",
       "      <td>FC</td>\n",
       "      <td>4</td>\n",
       "      <td>5.0</td>\n",
       "      <td>4.0</td>\n",
       "      <td>4.0</td>\n",
       "      <td>1</td>\n",
       "      <td>...</td>\n",
       "      <td>3.0</td>\n",
       "      <td>0</td>\n",
       "      <td>0</td>\n",
       "      <td>0</td>\n",
       "      <td>0</td>\n",
       "      <td>0</td>\n",
       "      <td>0</td>\n",
       "      <td>0</td>\n",
       "      <td>0</td>\n",
       "      <td>6923131.0</td>\n",
       "    </tr>\n",
       "    <tr>\n",
       "      <th>2</th>\n",
       "      <td>2</td>\n",
       "      <td>03/09/2013</td>\n",
       "      <td>Diyarbakır</td>\n",
       "      <td>Other</td>\n",
       "      <td>IL</td>\n",
       "      <td>2</td>\n",
       "      <td>4.0</td>\n",
       "      <td>2.0</td>\n",
       "      <td>5.0</td>\n",
       "      <td>2</td>\n",
       "      <td>...</td>\n",
       "      <td>3.0</td>\n",
       "      <td>0</td>\n",
       "      <td>0</td>\n",
       "      <td>0</td>\n",
       "      <td>0</td>\n",
       "      <td>0</td>\n",
       "      <td>0</td>\n",
       "      <td>0</td>\n",
       "      <td>0</td>\n",
       "      <td>2055379.0</td>\n",
       "    </tr>\n",
       "    <tr>\n",
       "      <th>3</th>\n",
       "      <td>3</td>\n",
       "      <td>02/02/2012</td>\n",
       "      <td>Tokat</td>\n",
       "      <td>Other</td>\n",
       "      <td>IL</td>\n",
       "      <td>6</td>\n",
       "      <td>4.5</td>\n",
       "      <td>6.0</td>\n",
       "      <td>6.0</td>\n",
       "      <td>4</td>\n",
       "      <td>...</td>\n",
       "      <td>7.5</td>\n",
       "      <td>25</td>\n",
       "      <td>12</td>\n",
       "      <td>10</td>\n",
       "      <td>6</td>\n",
       "      <td>18</td>\n",
       "      <td>12</td>\n",
       "      <td>12</td>\n",
       "      <td>6</td>\n",
       "      <td>2675511.0</td>\n",
       "    </tr>\n",
       "    <tr>\n",
       "      <th>4</th>\n",
       "      <td>4</td>\n",
       "      <td>05/09/2009</td>\n",
       "      <td>Gaziantep</td>\n",
       "      <td>Other</td>\n",
       "      <td>IL</td>\n",
       "      <td>3</td>\n",
       "      <td>4.0</td>\n",
       "      <td>3.0</td>\n",
       "      <td>4.0</td>\n",
       "      <td>2</td>\n",
       "      <td>...</td>\n",
       "      <td>3.0</td>\n",
       "      <td>5</td>\n",
       "      <td>1</td>\n",
       "      <td>3</td>\n",
       "      <td>2</td>\n",
       "      <td>3</td>\n",
       "      <td>4</td>\n",
       "      <td>3</td>\n",
       "      <td>3</td>\n",
       "      <td>4316715.0</td>\n",
       "    </tr>\n",
       "  </tbody>\n",
       "</table>\n",
       "<p>5 rows × 43 columns</p>\n",
       "</div>"
      ],
      "text/plain": [
       "   Id   Open Date        City  City Group Type  P1   P2   P3   P4  P5  ...  \\\n",
       "0   0  07/17/1999    İstanbul  Big Cities   IL   4  5.0  4.0  4.0   2  ...   \n",
       "1   1  02/14/2008      Ankara  Big Cities   FC   4  5.0  4.0  4.0   1  ...   \n",
       "2   2  03/09/2013  Diyarbakır       Other   IL   2  4.0  2.0  5.0   2  ...   \n",
       "3   3  02/02/2012       Tokat       Other   IL   6  4.5  6.0  6.0   4  ...   \n",
       "4   4  05/09/2009   Gaziantep       Other   IL   3  4.0  3.0  4.0   2  ...   \n",
       "\n",
       "   P29  P30  P31  P32  P33  P34  P35  P36  P37    revenue  \n",
       "0  3.0    5    3    4    5    5    4    3    4  5653753.0  \n",
       "1  3.0    0    0    0    0    0    0    0    0  6923131.0  \n",
       "2  3.0    0    0    0    0    0    0    0    0  2055379.0  \n",
       "3  7.5   25   12   10    6   18   12   12    6  2675511.0  \n",
       "4  3.0    5    1    3    2    3    4    3    3  4316715.0  \n",
       "\n",
       "[5 rows x 43 columns]"
      ]
     },
     "execution_count": 2,
     "metadata": {},
     "output_type": "execute_result"
    }
   ],
   "source": [
    "df = pd.read_csv('/kaggle/input/restaurant-revenue-prediction/train.csv.zip')\n",
    "df.head()"
   ]
  },
  {
   "cell_type": "code",
   "execution_count": 3,
   "id": "adjacent-mention",
   "metadata": {
    "execution": {
     "iopub.execute_input": "2021-06-11T13:30:08.767668Z",
     "iopub.status.busy": "2021-06-11T13:30:08.767001Z",
     "iopub.status.idle": "2021-06-11T13:30:08.769926Z",
     "shell.execute_reply": "2021-06-11T13:30:08.770480Z",
     "shell.execute_reply.started": "2021-06-11T13:29:37.542396Z"
    },
    "papermill": {
     "duration": 0.03372,
     "end_time": "2021-06-11T13:30:08.770648",
     "exception": false,
     "start_time": "2021-06-11T13:30:08.736928",
     "status": "completed"
    },
    "tags": []
   },
   "outputs": [],
   "source": [
    "# df_test = pd.read_csv('/kaggle/input/restaurant-revenue-prediction/test.csv.zip')\n",
    "# df_test.head()"
   ]
  },
  {
   "cell_type": "code",
   "execution_count": 4,
   "id": "hybrid-clark",
   "metadata": {
    "execution": {
     "iopub.execute_input": "2021-06-11T13:30:08.829014Z",
     "iopub.status.busy": "2021-06-11T13:30:08.821047Z",
     "iopub.status.idle": "2021-06-11T13:30:08.845314Z",
     "shell.execute_reply": "2021-06-11T13:30:08.845876Z",
     "shell.execute_reply.started": "2021-06-11T13:29:37.547671Z"
    },
    "papermill": {
     "duration": 0.051495,
     "end_time": "2021-06-11T13:30:08.846059",
     "exception": false,
     "start_time": "2021-06-11T13:30:08.794564",
     "status": "completed"
    },
    "tags": []
   },
   "outputs": [
    {
     "name": "stdout",
     "output_type": "stream",
     "text": [
      "<class 'pandas.core.frame.DataFrame'>\n",
      "RangeIndex: 137 entries, 0 to 136\n",
      "Data columns (total 43 columns):\n",
      " #   Column      Non-Null Count  Dtype  \n",
      "---  ------      --------------  -----  \n",
      " 0   Id          137 non-null    int64  \n",
      " 1   Open Date   137 non-null    object \n",
      " 2   City        137 non-null    object \n",
      " 3   City Group  137 non-null    object \n",
      " 4   Type        137 non-null    object \n",
      " 5   P1          137 non-null    int64  \n",
      " 6   P2          137 non-null    float64\n",
      " 7   P3          137 non-null    float64\n",
      " 8   P4          137 non-null    float64\n",
      " 9   P5          137 non-null    int64  \n",
      " 10  P6          137 non-null    int64  \n",
      " 11  P7          137 non-null    int64  \n",
      " 12  P8          137 non-null    int64  \n",
      " 13  P9          137 non-null    int64  \n",
      " 14  P10         137 non-null    int64  \n",
      " 15  P11         137 non-null    int64  \n",
      " 16  P12         137 non-null    int64  \n",
      " 17  P13         137 non-null    float64\n",
      " 18  P14         137 non-null    int64  \n",
      " 19  P15         137 non-null    int64  \n",
      " 20  P16         137 non-null    int64  \n",
      " 21  P17         137 non-null    int64  \n",
      " 22  P18         137 non-null    int64  \n",
      " 23  P19         137 non-null    int64  \n",
      " 24  P20         137 non-null    int64  \n",
      " 25  P21         137 non-null    int64  \n",
      " 26  P22         137 non-null    int64  \n",
      " 27  P23         137 non-null    int64  \n",
      " 28  P24         137 non-null    int64  \n",
      " 29  P25         137 non-null    int64  \n",
      " 30  P26         137 non-null    float64\n",
      " 31  P27         137 non-null    float64\n",
      " 32  P28         137 non-null    float64\n",
      " 33  P29         137 non-null    float64\n",
      " 34  P30         137 non-null    int64  \n",
      " 35  P31         137 non-null    int64  \n",
      " 36  P32         137 non-null    int64  \n",
      " 37  P33         137 non-null    int64  \n",
      " 38  P34         137 non-null    int64  \n",
      " 39  P35         137 non-null    int64  \n",
      " 40  P36         137 non-null    int64  \n",
      " 41  P37         137 non-null    int64  \n",
      " 42  revenue     137 non-null    float64\n",
      "dtypes: float64(9), int64(30), object(4)\n",
      "memory usage: 46.1+ KB\n",
      "None\n"
     ]
    }
   ],
   "source": [
    "# General info on the dataset\n",
    "print(df.info())"
   ]
  },
  {
   "cell_type": "code",
   "execution_count": 5,
   "id": "governmental-updating",
   "metadata": {
    "execution": {
     "iopub.execute_input": "2021-06-11T13:30:08.898434Z",
     "iopub.status.busy": "2021-06-11T13:30:08.897669Z",
     "iopub.status.idle": "2021-06-11T13:30:08.906177Z",
     "shell.execute_reply": "2021-06-11T13:30:08.906803Z",
     "shell.execute_reply.started": "2021-06-11T13:29:37.572605Z"
    },
    "papermill": {
     "duration": 0.036367,
     "end_time": "2021-06-11T13:30:08.906990",
     "exception": false,
     "start_time": "2021-06-11T13:30:08.870623",
     "status": "completed"
    },
    "tags": []
   },
   "outputs": [
    {
     "data": {
      "text/plain": [
       "Id            0\n",
       "Open Date     0\n",
       "City          0\n",
       "City Group    0\n",
       "Type          0\n",
       "P1            0\n",
       "P2            0\n",
       "P3            0\n",
       "P4            0\n",
       "P5            0\n",
       "P6            0\n",
       "P7            0\n",
       "P8            0\n",
       "P9            0\n",
       "P10           0\n",
       "P11           0\n",
       "P12           0\n",
       "P13           0\n",
       "P14           0\n",
       "P15           0\n",
       "P16           0\n",
       "P17           0\n",
       "P18           0\n",
       "P19           0\n",
       "P20           0\n",
       "P21           0\n",
       "P22           0\n",
       "P23           0\n",
       "P24           0\n",
       "P25           0\n",
       "P26           0\n",
       "P27           0\n",
       "P28           0\n",
       "P29           0\n",
       "P30           0\n",
       "P31           0\n",
       "P32           0\n",
       "P33           0\n",
       "P34           0\n",
       "P35           0\n",
       "P36           0\n",
       "P37           0\n",
       "revenue       0\n",
       "dtype: int64"
      ]
     },
     "execution_count": 5,
     "metadata": {},
     "output_type": "execute_result"
    }
   ],
   "source": [
    "# Count the number of null values\n",
    "df.isnull().sum()"
   ]
  },
  {
   "cell_type": "code",
   "execution_count": 6,
   "id": "plain-least",
   "metadata": {
    "execution": {
     "iopub.execute_input": "2021-06-11T13:30:08.960134Z",
     "iopub.status.busy": "2021-06-11T13:30:08.959516Z",
     "iopub.status.idle": "2021-06-11T13:30:09.076505Z",
     "shell.execute_reply": "2021-06-11T13:30:09.077013Z",
     "shell.execute_reply.started": "2021-06-11T13:29:37.583140Z"
    },
    "papermill": {
     "duration": 0.145017,
     "end_time": "2021-06-11T13:30:09.077184",
     "exception": false,
     "start_time": "2021-06-11T13:30:08.932167",
     "status": "completed"
    },
    "tags": []
   },
   "outputs": [
    {
     "data": {
      "text/html": [
       "<div>\n",
       "<style scoped>\n",
       "    .dataframe tbody tr th:only-of-type {\n",
       "        vertical-align: middle;\n",
       "    }\n",
       "\n",
       "    .dataframe tbody tr th {\n",
       "        vertical-align: top;\n",
       "    }\n",
       "\n",
       "    .dataframe thead th {\n",
       "        text-align: right;\n",
       "    }\n",
       "</style>\n",
       "<table border=\"1\" class=\"dataframe\">\n",
       "  <thead>\n",
       "    <tr style=\"text-align: right;\">\n",
       "      <th></th>\n",
       "      <th>Id</th>\n",
       "      <th>P1</th>\n",
       "      <th>P2</th>\n",
       "      <th>P3</th>\n",
       "      <th>P4</th>\n",
       "      <th>P5</th>\n",
       "      <th>P6</th>\n",
       "      <th>P7</th>\n",
       "      <th>P8</th>\n",
       "      <th>P9</th>\n",
       "      <th>...</th>\n",
       "      <th>P29</th>\n",
       "      <th>P30</th>\n",
       "      <th>P31</th>\n",
       "      <th>P32</th>\n",
       "      <th>P33</th>\n",
       "      <th>P34</th>\n",
       "      <th>P35</th>\n",
       "      <th>P36</th>\n",
       "      <th>P37</th>\n",
       "      <th>revenue</th>\n",
       "    </tr>\n",
       "  </thead>\n",
       "  <tbody>\n",
       "    <tr>\n",
       "      <th>count</th>\n",
       "      <td>137.000000</td>\n",
       "      <td>137.000000</td>\n",
       "      <td>137.000000</td>\n",
       "      <td>137.000000</td>\n",
       "      <td>137.000000</td>\n",
       "      <td>137.000000</td>\n",
       "      <td>137.000000</td>\n",
       "      <td>137.000000</td>\n",
       "      <td>137.000000</td>\n",
       "      <td>137.000000</td>\n",
       "      <td>...</td>\n",
       "      <td>137.000000</td>\n",
       "      <td>137.000000</td>\n",
       "      <td>137.000000</td>\n",
       "      <td>137.000000</td>\n",
       "      <td>137.000000</td>\n",
       "      <td>137.000000</td>\n",
       "      <td>137.000000</td>\n",
       "      <td>137.000000</td>\n",
       "      <td>137.000000</td>\n",
       "      <td>1.370000e+02</td>\n",
       "    </tr>\n",
       "    <tr>\n",
       "      <th>mean</th>\n",
       "      <td>68.000000</td>\n",
       "      <td>4.014599</td>\n",
       "      <td>4.408759</td>\n",
       "      <td>4.317518</td>\n",
       "      <td>4.372263</td>\n",
       "      <td>2.007299</td>\n",
       "      <td>3.357664</td>\n",
       "      <td>5.423358</td>\n",
       "      <td>5.153285</td>\n",
       "      <td>5.445255</td>\n",
       "      <td>...</td>\n",
       "      <td>3.135036</td>\n",
       "      <td>2.729927</td>\n",
       "      <td>1.941606</td>\n",
       "      <td>2.525547</td>\n",
       "      <td>1.138686</td>\n",
       "      <td>2.489051</td>\n",
       "      <td>2.029197</td>\n",
       "      <td>2.211679</td>\n",
       "      <td>1.116788</td>\n",
       "      <td>4.453533e+06</td>\n",
       "    </tr>\n",
       "    <tr>\n",
       "      <th>std</th>\n",
       "      <td>39.692569</td>\n",
       "      <td>2.910391</td>\n",
       "      <td>1.514900</td>\n",
       "      <td>1.032337</td>\n",
       "      <td>1.016462</td>\n",
       "      <td>1.209620</td>\n",
       "      <td>2.134235</td>\n",
       "      <td>2.296809</td>\n",
       "      <td>1.858567</td>\n",
       "      <td>1.834793</td>\n",
       "      <td>...</td>\n",
       "      <td>1.680887</td>\n",
       "      <td>5.536647</td>\n",
       "      <td>3.512093</td>\n",
       "      <td>5.230117</td>\n",
       "      <td>1.698540</td>\n",
       "      <td>5.165093</td>\n",
       "      <td>3.436272</td>\n",
       "      <td>4.168211</td>\n",
       "      <td>1.790768</td>\n",
       "      <td>2.576072e+06</td>\n",
       "    </tr>\n",
       "    <tr>\n",
       "      <th>min</th>\n",
       "      <td>0.000000</td>\n",
       "      <td>1.000000</td>\n",
       "      <td>1.000000</td>\n",
       "      <td>0.000000</td>\n",
       "      <td>3.000000</td>\n",
       "      <td>1.000000</td>\n",
       "      <td>1.000000</td>\n",
       "      <td>1.000000</td>\n",
       "      <td>1.000000</td>\n",
       "      <td>4.000000</td>\n",
       "      <td>...</td>\n",
       "      <td>0.000000</td>\n",
       "      <td>0.000000</td>\n",
       "      <td>0.000000</td>\n",
       "      <td>0.000000</td>\n",
       "      <td>0.000000</td>\n",
       "      <td>0.000000</td>\n",
       "      <td>0.000000</td>\n",
       "      <td>0.000000</td>\n",
       "      <td>0.000000</td>\n",
       "      <td>1.149870e+06</td>\n",
       "    </tr>\n",
       "    <tr>\n",
       "      <th>25%</th>\n",
       "      <td>34.000000</td>\n",
       "      <td>2.000000</td>\n",
       "      <td>4.000000</td>\n",
       "      <td>4.000000</td>\n",
       "      <td>4.000000</td>\n",
       "      <td>1.000000</td>\n",
       "      <td>2.000000</td>\n",
       "      <td>5.000000</td>\n",
       "      <td>4.000000</td>\n",
       "      <td>4.000000</td>\n",
       "      <td>...</td>\n",
       "      <td>2.500000</td>\n",
       "      <td>0.000000</td>\n",
       "      <td>0.000000</td>\n",
       "      <td>0.000000</td>\n",
       "      <td>0.000000</td>\n",
       "      <td>0.000000</td>\n",
       "      <td>0.000000</td>\n",
       "      <td>0.000000</td>\n",
       "      <td>0.000000</td>\n",
       "      <td>2.999068e+06</td>\n",
       "    </tr>\n",
       "    <tr>\n",
       "      <th>50%</th>\n",
       "      <td>68.000000</td>\n",
       "      <td>3.000000</td>\n",
       "      <td>5.000000</td>\n",
       "      <td>4.000000</td>\n",
       "      <td>4.000000</td>\n",
       "      <td>2.000000</td>\n",
       "      <td>3.000000</td>\n",
       "      <td>5.000000</td>\n",
       "      <td>5.000000</td>\n",
       "      <td>5.000000</td>\n",
       "      <td>...</td>\n",
       "      <td>3.000000</td>\n",
       "      <td>0.000000</td>\n",
       "      <td>0.000000</td>\n",
       "      <td>0.000000</td>\n",
       "      <td>0.000000</td>\n",
       "      <td>0.000000</td>\n",
       "      <td>0.000000</td>\n",
       "      <td>0.000000</td>\n",
       "      <td>0.000000</td>\n",
       "      <td>3.939804e+06</td>\n",
       "    </tr>\n",
       "    <tr>\n",
       "      <th>75%</th>\n",
       "      <td>102.000000</td>\n",
       "      <td>4.000000</td>\n",
       "      <td>5.000000</td>\n",
       "      <td>5.000000</td>\n",
       "      <td>5.000000</td>\n",
       "      <td>2.000000</td>\n",
       "      <td>4.000000</td>\n",
       "      <td>5.000000</td>\n",
       "      <td>5.000000</td>\n",
       "      <td>5.000000</td>\n",
       "      <td>...</td>\n",
       "      <td>3.000000</td>\n",
       "      <td>4.000000</td>\n",
       "      <td>3.000000</td>\n",
       "      <td>3.000000</td>\n",
       "      <td>2.000000</td>\n",
       "      <td>3.000000</td>\n",
       "      <td>4.000000</td>\n",
       "      <td>3.000000</td>\n",
       "      <td>2.000000</td>\n",
       "      <td>5.166635e+06</td>\n",
       "    </tr>\n",
       "    <tr>\n",
       "      <th>max</th>\n",
       "      <td>136.000000</td>\n",
       "      <td>12.000000</td>\n",
       "      <td>7.500000</td>\n",
       "      <td>7.500000</td>\n",
       "      <td>7.500000</td>\n",
       "      <td>8.000000</td>\n",
       "      <td>10.000000</td>\n",
       "      <td>10.000000</td>\n",
       "      <td>10.000000</td>\n",
       "      <td>10.000000</td>\n",
       "      <td>...</td>\n",
       "      <td>7.500000</td>\n",
       "      <td>25.000000</td>\n",
       "      <td>15.000000</td>\n",
       "      <td>25.000000</td>\n",
       "      <td>6.000000</td>\n",
       "      <td>24.000000</td>\n",
       "      <td>15.000000</td>\n",
       "      <td>20.000000</td>\n",
       "      <td>8.000000</td>\n",
       "      <td>1.969694e+07</td>\n",
       "    </tr>\n",
       "  </tbody>\n",
       "</table>\n",
       "<p>8 rows × 39 columns</p>\n",
       "</div>"
      ],
      "text/plain": [
       "               Id          P1          P2          P3          P4          P5  \\\n",
       "count  137.000000  137.000000  137.000000  137.000000  137.000000  137.000000   \n",
       "mean    68.000000    4.014599    4.408759    4.317518    4.372263    2.007299   \n",
       "std     39.692569    2.910391    1.514900    1.032337    1.016462    1.209620   \n",
       "min      0.000000    1.000000    1.000000    0.000000    3.000000    1.000000   \n",
       "25%     34.000000    2.000000    4.000000    4.000000    4.000000    1.000000   \n",
       "50%     68.000000    3.000000    5.000000    4.000000    4.000000    2.000000   \n",
       "75%    102.000000    4.000000    5.000000    5.000000    5.000000    2.000000   \n",
       "max    136.000000   12.000000    7.500000    7.500000    7.500000    8.000000   \n",
       "\n",
       "               P6          P7          P8          P9  ...         P29  \\\n",
       "count  137.000000  137.000000  137.000000  137.000000  ...  137.000000   \n",
       "mean     3.357664    5.423358    5.153285    5.445255  ...    3.135036   \n",
       "std      2.134235    2.296809    1.858567    1.834793  ...    1.680887   \n",
       "min      1.000000    1.000000    1.000000    4.000000  ...    0.000000   \n",
       "25%      2.000000    5.000000    4.000000    4.000000  ...    2.500000   \n",
       "50%      3.000000    5.000000    5.000000    5.000000  ...    3.000000   \n",
       "75%      4.000000    5.000000    5.000000    5.000000  ...    3.000000   \n",
       "max     10.000000   10.000000   10.000000   10.000000  ...    7.500000   \n",
       "\n",
       "              P30         P31         P32         P33         P34         P35  \\\n",
       "count  137.000000  137.000000  137.000000  137.000000  137.000000  137.000000   \n",
       "mean     2.729927    1.941606    2.525547    1.138686    2.489051    2.029197   \n",
       "std      5.536647    3.512093    5.230117    1.698540    5.165093    3.436272   \n",
       "min      0.000000    0.000000    0.000000    0.000000    0.000000    0.000000   \n",
       "25%      0.000000    0.000000    0.000000    0.000000    0.000000    0.000000   \n",
       "50%      0.000000    0.000000    0.000000    0.000000    0.000000    0.000000   \n",
       "75%      4.000000    3.000000    3.000000    2.000000    3.000000    4.000000   \n",
       "max     25.000000   15.000000   25.000000    6.000000   24.000000   15.000000   \n",
       "\n",
       "              P36         P37       revenue  \n",
       "count  137.000000  137.000000  1.370000e+02  \n",
       "mean     2.211679    1.116788  4.453533e+06  \n",
       "std      4.168211    1.790768  2.576072e+06  \n",
       "min      0.000000    0.000000  1.149870e+06  \n",
       "25%      0.000000    0.000000  2.999068e+06  \n",
       "50%      0.000000    0.000000  3.939804e+06  \n",
       "75%      3.000000    2.000000  5.166635e+06  \n",
       "max     20.000000    8.000000  1.969694e+07  \n",
       "\n",
       "[8 rows x 39 columns]"
      ]
     },
     "execution_count": 6,
     "metadata": {},
     "output_type": "execute_result"
    }
   ],
   "source": [
    "df.describe()"
   ]
  },
  {
   "cell_type": "markdown",
   "id": "muslim-brooklyn",
   "metadata": {
    "papermill": {
     "duration": 0.025292,
     "end_time": "2021-06-11T13:30:09.128723",
     "exception": false,
     "start_time": "2021-06-11T13:30:09.103431",
     "status": "completed"
    },
    "tags": []
   },
   "source": [
    "# Exploratory Data Analysis"
   ]
  },
  {
   "cell_type": "code",
   "execution_count": 7,
   "id": "bibliographic-england",
   "metadata": {
    "execution": {
     "iopub.execute_input": "2021-06-11T13:30:09.183351Z",
     "iopub.status.busy": "2021-06-11T13:30:09.182716Z",
     "iopub.status.idle": "2021-06-11T13:30:09.213909Z",
     "shell.execute_reply": "2021-06-11T13:30:09.214443Z",
     "shell.execute_reply.started": "2021-06-11T13:29:37.721134Z"
    },
    "papermill": {
     "duration": 0.060241,
     "end_time": "2021-06-11T13:30:09.214612",
     "exception": false,
     "start_time": "2021-06-11T13:30:09.154371",
     "status": "completed"
    },
    "tags": []
   },
   "outputs": [
    {
     "data": {
      "text/html": [
       "<div>\n",
       "<style scoped>\n",
       "    .dataframe tbody tr th:only-of-type {\n",
       "        vertical-align: middle;\n",
       "    }\n",
       "\n",
       "    .dataframe tbody tr th {\n",
       "        vertical-align: top;\n",
       "    }\n",
       "\n",
       "    .dataframe thead th {\n",
       "        text-align: right;\n",
       "    }\n",
       "</style>\n",
       "<table border=\"1\" class=\"dataframe\">\n",
       "  <thead>\n",
       "    <tr style=\"text-align: right;\">\n",
       "      <th></th>\n",
       "      <th>Id</th>\n",
       "      <th>Open Date</th>\n",
       "      <th>City</th>\n",
       "      <th>City Group</th>\n",
       "      <th>Type</th>\n",
       "      <th>P1</th>\n",
       "      <th>P2</th>\n",
       "      <th>P3</th>\n",
       "      <th>P4</th>\n",
       "      <th>P5</th>\n",
       "      <th>...</th>\n",
       "      <th>P32</th>\n",
       "      <th>P33</th>\n",
       "      <th>P34</th>\n",
       "      <th>P35</th>\n",
       "      <th>P36</th>\n",
       "      <th>P37</th>\n",
       "      <th>revenue</th>\n",
       "      <th>City_cat</th>\n",
       "      <th>City Group_cat</th>\n",
       "      <th>Type_cat</th>\n",
       "    </tr>\n",
       "  </thead>\n",
       "  <tbody>\n",
       "    <tr>\n",
       "      <th>0</th>\n",
       "      <td>0</td>\n",
       "      <td>07/17/1999</td>\n",
       "      <td>İstanbul</td>\n",
       "      <td>Big Cities</td>\n",
       "      <td>IL</td>\n",
       "      <td>4</td>\n",
       "      <td>5.0</td>\n",
       "      <td>4.0</td>\n",
       "      <td>4.0</td>\n",
       "      <td>2</td>\n",
       "      <td>...</td>\n",
       "      <td>4</td>\n",
       "      <td>5</td>\n",
       "      <td>5</td>\n",
       "      <td>4</td>\n",
       "      <td>3</td>\n",
       "      <td>4</td>\n",
       "      <td>5653753.0</td>\n",
       "      <td>31</td>\n",
       "      <td>0</td>\n",
       "      <td>2</td>\n",
       "    </tr>\n",
       "    <tr>\n",
       "      <th>1</th>\n",
       "      <td>1</td>\n",
       "      <td>02/14/2008</td>\n",
       "      <td>Ankara</td>\n",
       "      <td>Big Cities</td>\n",
       "      <td>FC</td>\n",
       "      <td>4</td>\n",
       "      <td>5.0</td>\n",
       "      <td>4.0</td>\n",
       "      <td>4.0</td>\n",
       "      <td>1</td>\n",
       "      <td>...</td>\n",
       "      <td>0</td>\n",
       "      <td>0</td>\n",
       "      <td>0</td>\n",
       "      <td>0</td>\n",
       "      <td>0</td>\n",
       "      <td>0</td>\n",
       "      <td>6923131.0</td>\n",
       "      <td>3</td>\n",
       "      <td>0</td>\n",
       "      <td>1</td>\n",
       "    </tr>\n",
       "    <tr>\n",
       "      <th>2</th>\n",
       "      <td>2</td>\n",
       "      <td>03/09/2013</td>\n",
       "      <td>Diyarbakır</td>\n",
       "      <td>Other</td>\n",
       "      <td>IL</td>\n",
       "      <td>2</td>\n",
       "      <td>4.0</td>\n",
       "      <td>2.0</td>\n",
       "      <td>5.0</td>\n",
       "      <td>2</td>\n",
       "      <td>...</td>\n",
       "      <td>0</td>\n",
       "      <td>0</td>\n",
       "      <td>0</td>\n",
       "      <td>0</td>\n",
       "      <td>0</td>\n",
       "      <td>0</td>\n",
       "      <td>2055379.0</td>\n",
       "      <td>10</td>\n",
       "      <td>1</td>\n",
       "      <td>2</td>\n",
       "    </tr>\n",
       "    <tr>\n",
       "      <th>3</th>\n",
       "      <td>3</td>\n",
       "      <td>02/02/2012</td>\n",
       "      <td>Tokat</td>\n",
       "      <td>Other</td>\n",
       "      <td>IL</td>\n",
       "      <td>6</td>\n",
       "      <td>4.5</td>\n",
       "      <td>6.0</td>\n",
       "      <td>6.0</td>\n",
       "      <td>4</td>\n",
       "      <td>...</td>\n",
       "      <td>10</td>\n",
       "      <td>6</td>\n",
       "      <td>18</td>\n",
       "      <td>12</td>\n",
       "      <td>12</td>\n",
       "      <td>6</td>\n",
       "      <td>2675511.0</td>\n",
       "      <td>28</td>\n",
       "      <td>1</td>\n",
       "      <td>2</td>\n",
       "    </tr>\n",
       "    <tr>\n",
       "      <th>4</th>\n",
       "      <td>4</td>\n",
       "      <td>05/09/2009</td>\n",
       "      <td>Gaziantep</td>\n",
       "      <td>Other</td>\n",
       "      <td>IL</td>\n",
       "      <td>3</td>\n",
       "      <td>4.0</td>\n",
       "      <td>3.0</td>\n",
       "      <td>4.0</td>\n",
       "      <td>2</td>\n",
       "      <td>...</td>\n",
       "      <td>3</td>\n",
       "      <td>2</td>\n",
       "      <td>3</td>\n",
       "      <td>4</td>\n",
       "      <td>3</td>\n",
       "      <td>3</td>\n",
       "      <td>4316715.0</td>\n",
       "      <td>14</td>\n",
       "      <td>1</td>\n",
       "      <td>2</td>\n",
       "    </tr>\n",
       "  </tbody>\n",
       "</table>\n",
       "<p>5 rows × 46 columns</p>\n",
       "</div>"
      ],
      "text/plain": [
       "   Id   Open Date        City  City Group Type  P1   P2   P3   P4  P5  ...  \\\n",
       "0   0  07/17/1999    İstanbul  Big Cities   IL   4  5.0  4.0  4.0   2  ...   \n",
       "1   1  02/14/2008      Ankara  Big Cities   FC   4  5.0  4.0  4.0   1  ...   \n",
       "2   2  03/09/2013  Diyarbakır       Other   IL   2  4.0  2.0  5.0   2  ...   \n",
       "3   3  02/02/2012       Tokat       Other   IL   6  4.5  6.0  6.0   4  ...   \n",
       "4   4  05/09/2009   Gaziantep       Other   IL   3  4.0  3.0  4.0   2  ...   \n",
       "\n",
       "   P32  P33  P34  P35  P36  P37    revenue  City_cat  City Group_cat  Type_cat  \n",
       "0    4    5    5    4    3    4  5653753.0        31               0         2  \n",
       "1    0    0    0    0    0    0  6923131.0         3               0         1  \n",
       "2    0    0    0    0    0    0  2055379.0        10               1         2  \n",
       "3   10    6   18   12   12    6  2675511.0        28               1         2  \n",
       "4    3    2    3    4    3    3  4316715.0        14               1         2  \n",
       "\n",
       "[5 rows x 46 columns]"
      ]
     },
     "execution_count": 7,
     "metadata": {},
     "output_type": "execute_result"
    }
   ],
   "source": [
    "# Encoding Categorical Variable\n",
    "cat_vars = ['City', 'City Group', 'Type']\n",
    "for i in cat_vars:\n",
    "    df[i+\"_cat\"] = df[i].astype('category').cat.codes\n",
    "# df.drop(cat_vars, axis=1, inplace=True)\n",
    "df.head()"
   ]
  },
  {
   "cell_type": "code",
   "execution_count": 8,
   "id": "bibliographic-explanation",
   "metadata": {
    "execution": {
     "iopub.execute_input": "2021-06-11T13:30:09.270208Z",
     "iopub.status.busy": "2021-06-11T13:30:09.269585Z",
     "iopub.status.idle": "2021-06-11T13:30:09.974471Z",
     "shell.execute_reply": "2021-06-11T13:30:09.974976Z",
     "shell.execute_reply.started": "2021-06-11T13:29:37.764732Z"
    },
    "papermill": {
     "duration": 0.734449,
     "end_time": "2021-06-11T13:30:09.975151",
     "exception": false,
     "start_time": "2021-06-11T13:30:09.240702",
     "status": "completed"
    },
    "tags": []
   },
   "outputs": [
    {
     "name": "stderr",
     "output_type": "stream",
     "text": [
      "/opt/conda/lib/python3.7/site-packages/seaborn/_decorators.py:43: FutureWarning: Pass the following variables as keyword args: x, y. From version 0.12, the only valid positional argument will be `data`, and passing other arguments without an explicit keyword will result in an error or misinterpretation.\n",
      "  FutureWarning\n"
     ]
    },
    {
     "data": {
      "image/png": "[encoded data removed]",
      "text/plain": [
       "<Figure size 1440x1152 with 1 Axes>"
      ]
     },
     "metadata": {},
     "output_type": "display_data"
    }
   ],
   "source": [
    "# Creating a plot for the correlation of features to the target variable\n",
    "fig = plt.figure(figsize=(20,16))\n",
    "target_corr = df[df.columns[1:]].corr()['revenue']\n",
    "order_corr = target_corr.sort_values()\n",
    "y = pd.DataFrame(order_corr).index[:-1]\n",
    "x = pd.DataFrame(order_corr).revenue[:-1]\n",
    "sns.barplot(x, y, orient='h')\n",
    "plt.show()"
   ]
  },
  {
   "cell_type": "code",
   "execution_count": 9,
   "id": "progressive-olympus",
   "metadata": {
    "execution": {
     "iopub.execute_input": "2021-06-11T13:30:10.035536Z",
     "iopub.status.busy": "2021-06-11T13:30:10.034835Z",
     "iopub.status.idle": "2021-06-11T13:30:10.876033Z",
     "shell.execute_reply": "2021-06-11T13:30:10.875393Z",
     "shell.execute_reply.started": "2021-06-11T13:29:38.345101Z"
    },
    "papermill": {
     "duration": 0.872095,
     "end_time": "2021-06-11T13:30:10.876250",
     "exception": false,
     "start_time": "2021-06-11T13:30:10.004155",
     "status": "completed"
    },
    "tags": []
   },
   "outputs": [
    {
     "data": {
      "image/png": "[encoded data removed]",
      "text/plain": [
       "<Figure size 864x720 with 2 Axes>"
      ]
     },
     "metadata": {},
     "output_type": "display_data"
    }
   ],
   "source": [
    "# Distribution of target variable (revenue) by Type and by City Group\n",
    "fig = plt.figure(figsize=(12,10))\n",
    "gs = fig.add_gridspec(1, 2, hspace=0.7, wspace=0.1)\n",
    "(ax1, ax2) = gs.subplots(sharex='col', sharey='row')\n",
    "fig.suptitle('Distributions of Total Revenue')\n",
    "fig.subplots_adjust(top=0.85)\n",
    "\n",
    "sns.histplot(data=df, x='revenue', bins=25,hue='Type', ax=ax1)\n",
    "sns.histplot(data=df, x='revenue', bins=25,hue='City Group', ax=ax2)\n",
    "\n",
    "plt.show()"
   ]
  },
  {
   "cell_type": "code",
   "execution_count": 10,
   "id": "intermediate-maryland",
   "metadata": {
    "execution": {
     "iopub.execute_input": "2021-06-11T13:30:10.942049Z",
     "iopub.status.busy": "2021-06-11T13:30:10.941290Z",
     "iopub.status.idle": "2021-06-11T13:30:11.386858Z",
     "shell.execute_reply": "2021-06-11T13:30:11.387364Z",
     "shell.execute_reply.started": "2021-06-11T13:29:39.288462Z"
    },
    "papermill": {
     "duration": 0.481245,
     "end_time": "2021-06-11T13:30:11.387552",
     "exception": false,
     "start_time": "2021-06-11T13:30:10.906307",
     "status": "completed"
    },
    "tags": []
   },
   "outputs": [
    {
     "data": {
      "image/png": "[encoded data removed]",
      "text/plain": [
       "<Figure size 864x576 with 1 Axes>"
      ]
     },
     "metadata": {},
     "output_type": "display_data"
    }
   ],
   "source": [
    "# Time Series of revenues generated\n",
    "df_timeseries = pd.read_csv('/kaggle/input/restaurant-revenue-prediction/train.csv.zip',\n",
    "                             parse_dates=['Open Date'],\n",
    "                             index_col= ['Open Date'],\n",
    "                             na_values=['999.99'])\n",
    "sns.lineplot(data=df_timeseries, x='Open Date', y='revenue')\n",
    "plt.show()"
   ]
  },
  {
   "cell_type": "markdown",
   "id": "gentle-fellow",
   "metadata": {
    "papermill": {
     "duration": 0.030849,
     "end_time": "2021-06-11T13:30:11.449862",
     "exception": false,
     "start_time": "2021-06-11T13:30:11.419013",
     "status": "completed"
    },
    "tags": []
   },
   "source": [
    "# Feature Transformation"
   ]
  },
  {
   "cell_type": "code",
   "execution_count": 11,
   "id": "agreed-andorra",
   "metadata": {
    "execution": {
     "iopub.execute_input": "2021-06-11T13:30:11.516468Z",
     "iopub.status.busy": "2021-06-11T13:30:11.515782Z",
     "iopub.status.idle": "2021-06-11T13:30:11.518119Z",
     "shell.execute_reply": "2021-06-11T13:30:11.518664Z",
     "shell.execute_reply.started": "2021-06-11T13:29:39.763173Z"
    },
    "papermill": {
     "duration": 0.037679,
     "end_time": "2021-06-11T13:30:11.518833",
     "exception": false,
     "start_time": "2021-06-11T13:30:11.481154",
     "status": "completed"
    },
    "tags": []
   },
   "outputs": [],
   "source": [
    "# Changing the open_date into datetime\n",
    "# df['Open Date'] = pd.to_datetime(df['Open Date'])"
   ]
  },
  {
   "cell_type": "code",
   "execution_count": 12,
   "id": "unlimited-resort",
   "metadata": {
    "execution": {
     "iopub.execute_input": "2021-06-11T13:30:11.586292Z",
     "iopub.status.busy": "2021-06-11T13:30:11.585576Z",
     "iopub.status.idle": "2021-06-11T13:30:11.594887Z",
     "shell.execute_reply": "2021-06-11T13:30:11.595483Z",
     "shell.execute_reply.started": "2021-06-11T13:29:39.769045Z"
    },
    "papermill": {
     "duration": 0.044074,
     "end_time": "2021-06-11T13:30:11.595661",
     "exception": false,
     "start_time": "2021-06-11T13:30:11.551587",
     "status": "completed"
    },
    "tags": []
   },
   "outputs": [
    {
     "name": "stdout",
     "output_type": "stream",
     "text": [
      "['İstanbul' 'Ankara' 'Diyarbakır' 'Tokat' 'Gaziantep' 'Afyonkarahisar'\n",
      " 'Edirne' 'Kocaeli' 'Bursa' 'İzmir' 'Sakarya' 'Elazığ' 'Kayseri'\n",
      " 'Eskişehir' 'Şanlıurfa' 'Samsun' 'Adana' 'Antalya' 'Kastamonu' 'Uşak'\n",
      " 'Muğla' 'Kırklareli' 'Konya' 'Karabük' 'Tekirdağ' 'Denizli' 'Balıkesir'\n",
      " 'Aydın' 'Amasya' 'Kütahya' 'Bolu' 'Trabzon' 'Isparta' 'Osmaniye'] 34\n",
      "['Big Cities' 'Other'] 2\n",
      "['IL' 'FC' 'DT'] 3\n"
     ]
    }
   ],
   "source": [
    "# Checking the options in both city, city_group, and Type\n",
    "# to evaluate if categorical encoding may be necessary\n",
    "print(df.City.unique(), len(df.City.unique()))\n",
    "print(df['City Group'].unique(), len(df['City Group'].unique()))\n",
    "print(df['Type'].unique(), len(df['Type'].unique()))"
   ]
  },
  {
   "cell_type": "code",
   "execution_count": 13,
   "id": "unusual-folks",
   "metadata": {
    "execution": {
     "iopub.execute_input": "2021-06-11T13:30:11.662644Z",
     "iopub.status.busy": "2021-06-11T13:30:11.661926Z",
     "iopub.status.idle": "2021-06-11T13:30:11.704012Z",
     "shell.execute_reply": "2021-06-11T13:30:11.704674Z",
     "shell.execute_reply.started": "2021-06-11T13:29:39.784232Z"
    },
    "papermill": {
     "duration": 0.077351,
     "end_time": "2021-06-11T13:30:11.704869",
     "exception": false,
     "start_time": "2021-06-11T13:30:11.627518",
     "status": "completed"
    },
    "tags": []
   },
   "outputs": [
    {
     "data": {
      "text/html": [
       "<div>\n",
       "<style scoped>\n",
       "    .dataframe tbody tr th:only-of-type {\n",
       "        vertical-align: middle;\n",
       "    }\n",
       "\n",
       "    .dataframe tbody tr th {\n",
       "        vertical-align: top;\n",
       "    }\n",
       "\n",
       "    .dataframe thead th {\n",
       "        text-align: right;\n",
       "    }\n",
       "</style>\n",
       "<table border=\"1\" class=\"dataframe\">\n",
       "  <thead>\n",
       "    <tr style=\"text-align: right;\">\n",
       "      <th></th>\n",
       "      <th>Id</th>\n",
       "      <th>Open Date</th>\n",
       "      <th>City</th>\n",
       "      <th>City Group</th>\n",
       "      <th>Type</th>\n",
       "      <th>P1</th>\n",
       "      <th>P2</th>\n",
       "      <th>P3</th>\n",
       "      <th>P4</th>\n",
       "      <th>P5</th>\n",
       "      <th>...</th>\n",
       "      <th>_Trabzon</th>\n",
       "      <th>_Uşak</th>\n",
       "      <th>_İstanbul</th>\n",
       "      <th>_İzmir</th>\n",
       "      <th>_Şanlıurfa</th>\n",
       "      <th>_Big Cities</th>\n",
       "      <th>_Other</th>\n",
       "      <th>_DT</th>\n",
       "      <th>_FC</th>\n",
       "      <th>_IL</th>\n",
       "    </tr>\n",
       "  </thead>\n",
       "  <tbody>\n",
       "    <tr>\n",
       "      <th>0</th>\n",
       "      <td>0</td>\n",
       "      <td>07/17/1999</td>\n",
       "      <td>İstanbul</td>\n",
       "      <td>Big Cities</td>\n",
       "      <td>IL</td>\n",
       "      <td>4</td>\n",
       "      <td>5.0</td>\n",
       "      <td>4.0</td>\n",
       "      <td>4.0</td>\n",
       "      <td>2</td>\n",
       "      <td>...</td>\n",
       "      <td>0</td>\n",
       "      <td>0</td>\n",
       "      <td>1</td>\n",
       "      <td>0</td>\n",
       "      <td>0</td>\n",
       "      <td>1</td>\n",
       "      <td>0</td>\n",
       "      <td>0</td>\n",
       "      <td>0</td>\n",
       "      <td>1</td>\n",
       "    </tr>\n",
       "    <tr>\n",
       "      <th>1</th>\n",
       "      <td>1</td>\n",
       "      <td>02/14/2008</td>\n",
       "      <td>Ankara</td>\n",
       "      <td>Big Cities</td>\n",
       "      <td>FC</td>\n",
       "      <td>4</td>\n",
       "      <td>5.0</td>\n",
       "      <td>4.0</td>\n",
       "      <td>4.0</td>\n",
       "      <td>1</td>\n",
       "      <td>...</td>\n",
       "      <td>0</td>\n",
       "      <td>0</td>\n",
       "      <td>0</td>\n",
       "      <td>0</td>\n",
       "      <td>0</td>\n",
       "      <td>1</td>\n",
       "      <td>0</td>\n",
       "      <td>0</td>\n",
       "      <td>1</td>\n",
       "      <td>0</td>\n",
       "    </tr>\n",
       "    <tr>\n",
       "      <th>2</th>\n",
       "      <td>2</td>\n",
       "      <td>03/09/2013</td>\n",
       "      <td>Diyarbakır</td>\n",
       "      <td>Other</td>\n",
       "      <td>IL</td>\n",
       "      <td>2</td>\n",
       "      <td>4.0</td>\n",
       "      <td>2.0</td>\n",
       "      <td>5.0</td>\n",
       "      <td>2</td>\n",
       "      <td>...</td>\n",
       "      <td>0</td>\n",
       "      <td>0</td>\n",
       "      <td>0</td>\n",
       "      <td>0</td>\n",
       "      <td>0</td>\n",
       "      <td>0</td>\n",
       "      <td>1</td>\n",
       "      <td>0</td>\n",
       "      <td>0</td>\n",
       "      <td>1</td>\n",
       "    </tr>\n",
       "  </tbody>\n",
       "</table>\n",
       "<p>3 rows × 85 columns</p>\n",
       "</div>"
      ],
      "text/plain": [
       "   Id   Open Date        City  City Group Type  P1   P2   P3   P4  P5  ...  \\\n",
       "0   0  07/17/1999    İstanbul  Big Cities   IL   4  5.0  4.0  4.0   2  ...   \n",
       "1   1  02/14/2008      Ankara  Big Cities   FC   4  5.0  4.0  4.0   1  ...   \n",
       "2   2  03/09/2013  Diyarbakır       Other   IL   2  4.0  2.0  5.0   2  ...   \n",
       "\n",
       "   _Trabzon  _Uşak  _İstanbul  _İzmir  _Şanlıurfa  _Big Cities  _Other  _DT  \\\n",
       "0         0      0          1       0           0            1       0    0   \n",
       "1         0      0          0       0           0            1       0    0   \n",
       "2         0      0          0       0           0            0       1    0   \n",
       "\n",
       "   _FC  _IL  \n",
       "0    0    1  \n",
       "1    1    0  \n",
       "2    0    1  \n",
       "\n",
       "[3 rows x 85 columns]"
      ]
     },
     "execution_count": 13,
     "metadata": {},
     "output_type": "execute_result"
    }
   ],
   "source": [
    "def encode_and_bind(df, feature):\n",
    "    dummies = pd.get_dummies(df[[feature]], prefix='')\n",
    "    return pd.concat([df, dummies], axis=1)\n",
    "df = encode_and_bind(df, 'City')\n",
    "df = encode_and_bind(df, 'City Group')\n",
    "df = encode_and_bind(df, 'Type')\n",
    "df.head(3)"
   ]
  },
  {
   "cell_type": "markdown",
   "id": "distinguished-train",
   "metadata": {
    "papermill": {
     "duration": 0.03301,
     "end_time": "2021-06-11T13:30:11.771679",
     "exception": false,
     "start_time": "2021-06-11T13:30:11.738669",
     "status": "completed"
    },
    "tags": []
   },
   "source": [
    "# Model Building"
   ]
  },
  {
   "cell_type": "code",
   "execution_count": 14,
   "id": "crazy-bracket",
   "metadata": {
    "execution": {
     "iopub.execute_input": "2021-06-11T13:30:11.841886Z",
     "iopub.status.busy": "2021-06-11T13:30:11.841206Z",
     "iopub.status.idle": "2021-06-11T13:30:11.866263Z",
     "shell.execute_reply": "2021-06-11T13:30:11.866791Z",
     "shell.execute_reply.started": "2021-06-11T13:29:39.831410Z"
    },
    "papermill": {
     "duration": 0.061819,
     "end_time": "2021-06-11T13:30:11.867004",
     "exception": false,
     "start_time": "2021-06-11T13:30:11.805185",
     "status": "completed"
    },
    "tags": []
   },
   "outputs": [
    {
     "data": {
      "text/html": [
       "<div>\n",
       "<style scoped>\n",
       "    .dataframe tbody tr th:only-of-type {\n",
       "        vertical-align: middle;\n",
       "    }\n",
       "\n",
       "    .dataframe tbody tr th {\n",
       "        vertical-align: top;\n",
       "    }\n",
       "\n",
       "    .dataframe thead th {\n",
       "        text-align: right;\n",
       "    }\n",
       "</style>\n",
       "<table border=\"1\" class=\"dataframe\">\n",
       "  <thead>\n",
       "    <tr style=\"text-align: right;\">\n",
       "      <th></th>\n",
       "      <th>Id</th>\n",
       "      <th>Open Date</th>\n",
       "      <th>City</th>\n",
       "      <th>City Group</th>\n",
       "      <th>Type</th>\n",
       "      <th>P1</th>\n",
       "      <th>P2</th>\n",
       "      <th>P3</th>\n",
       "      <th>P4</th>\n",
       "      <th>P5</th>\n",
       "      <th>...</th>\n",
       "      <th>_Trabzon</th>\n",
       "      <th>_Uşak</th>\n",
       "      <th>_İstanbul</th>\n",
       "      <th>_İzmir</th>\n",
       "      <th>_Şanlıurfa</th>\n",
       "      <th>_Big Cities</th>\n",
       "      <th>_Other</th>\n",
       "      <th>_DT</th>\n",
       "      <th>_FC</th>\n",
       "      <th>_IL</th>\n",
       "    </tr>\n",
       "  </thead>\n",
       "  <tbody>\n",
       "    <tr>\n",
       "      <th>0</th>\n",
       "      <td>0</td>\n",
       "      <td>07/17/1999</td>\n",
       "      <td>İstanbul</td>\n",
       "      <td>Big Cities</td>\n",
       "      <td>IL</td>\n",
       "      <td>4</td>\n",
       "      <td>5.0</td>\n",
       "      <td>4.0</td>\n",
       "      <td>4.0</td>\n",
       "      <td>2</td>\n",
       "      <td>...</td>\n",
       "      <td>0</td>\n",
       "      <td>0</td>\n",
       "      <td>1</td>\n",
       "      <td>0</td>\n",
       "      <td>0</td>\n",
       "      <td>1</td>\n",
       "      <td>0</td>\n",
       "      <td>0</td>\n",
       "      <td>0</td>\n",
       "      <td>1</td>\n",
       "    </tr>\n",
       "    <tr>\n",
       "      <th>1</th>\n",
       "      <td>1</td>\n",
       "      <td>02/14/2008</td>\n",
       "      <td>Ankara</td>\n",
       "      <td>Big Cities</td>\n",
       "      <td>FC</td>\n",
       "      <td>4</td>\n",
       "      <td>5.0</td>\n",
       "      <td>4.0</td>\n",
       "      <td>4.0</td>\n",
       "      <td>1</td>\n",
       "      <td>...</td>\n",
       "      <td>0</td>\n",
       "      <td>0</td>\n",
       "      <td>0</td>\n",
       "      <td>0</td>\n",
       "      <td>0</td>\n",
       "      <td>1</td>\n",
       "      <td>0</td>\n",
       "      <td>0</td>\n",
       "      <td>1</td>\n",
       "      <td>0</td>\n",
       "    </tr>\n",
       "    <tr>\n",
       "      <th>2</th>\n",
       "      <td>2</td>\n",
       "      <td>03/09/2013</td>\n",
       "      <td>Diyarbakır</td>\n",
       "      <td>Other</td>\n",
       "      <td>IL</td>\n",
       "      <td>2</td>\n",
       "      <td>4.0</td>\n",
       "      <td>2.0</td>\n",
       "      <td>5.0</td>\n",
       "      <td>2</td>\n",
       "      <td>...</td>\n",
       "      <td>0</td>\n",
       "      <td>0</td>\n",
       "      <td>0</td>\n",
       "      <td>0</td>\n",
       "      <td>0</td>\n",
       "      <td>0</td>\n",
       "      <td>1</td>\n",
       "      <td>0</td>\n",
       "      <td>0</td>\n",
       "      <td>1</td>\n",
       "    </tr>\n",
       "    <tr>\n",
       "      <th>3</th>\n",
       "      <td>3</td>\n",
       "      <td>02/02/2012</td>\n",
       "      <td>Tokat</td>\n",
       "      <td>Other</td>\n",
       "      <td>IL</td>\n",
       "      <td>6</td>\n",
       "      <td>4.5</td>\n",
       "      <td>6.0</td>\n",
       "      <td>6.0</td>\n",
       "      <td>4</td>\n",
       "      <td>...</td>\n",
       "      <td>0</td>\n",
       "      <td>0</td>\n",
       "      <td>0</td>\n",
       "      <td>0</td>\n",
       "      <td>0</td>\n",
       "      <td>0</td>\n",
       "      <td>1</td>\n",
       "      <td>0</td>\n",
       "      <td>0</td>\n",
       "      <td>1</td>\n",
       "    </tr>\n",
       "    <tr>\n",
       "      <th>4</th>\n",
       "      <td>4</td>\n",
       "      <td>05/09/2009</td>\n",
       "      <td>Gaziantep</td>\n",
       "      <td>Other</td>\n",
       "      <td>IL</td>\n",
       "      <td>3</td>\n",
       "      <td>4.0</td>\n",
       "      <td>3.0</td>\n",
       "      <td>4.0</td>\n",
       "      <td>2</td>\n",
       "      <td>...</td>\n",
       "      <td>0</td>\n",
       "      <td>0</td>\n",
       "      <td>0</td>\n",
       "      <td>0</td>\n",
       "      <td>0</td>\n",
       "      <td>0</td>\n",
       "      <td>1</td>\n",
       "      <td>0</td>\n",
       "      <td>0</td>\n",
       "      <td>1</td>\n",
       "    </tr>\n",
       "  </tbody>\n",
       "</table>\n",
       "<p>5 rows × 85 columns</p>\n",
       "</div>"
      ],
      "text/plain": [
       "   Id   Open Date        City  City Group Type  P1   P2   P3   P4  P5  ...  \\\n",
       "0   0  07/17/1999    İstanbul  Big Cities   IL   4  5.0  4.0  4.0   2  ...   \n",
       "1   1  02/14/2008      Ankara  Big Cities   FC   4  5.0  4.0  4.0   1  ...   \n",
       "2   2  03/09/2013  Diyarbakır       Other   IL   2  4.0  2.0  5.0   2  ...   \n",
       "3   3  02/02/2012       Tokat       Other   IL   6  4.5  6.0  6.0   4  ...   \n",
       "4   4  05/09/2009   Gaziantep       Other   IL   3  4.0  3.0  4.0   2  ...   \n",
       "\n",
       "   _Trabzon  _Uşak  _İstanbul  _İzmir  _Şanlıurfa  _Big Cities  _Other  _DT  \\\n",
       "0         0      0          1       0           0            1       0    0   \n",
       "1         0      0          0       0           0            1       0    0   \n",
       "2         0      0          0       0           0            0       1    0   \n",
       "3         0      0          0       0           0            0       1    0   \n",
       "4         0      0          0       0           0            0       1    0   \n",
       "\n",
       "   _FC  _IL  \n",
       "0    0    1  \n",
       "1    1    0  \n",
       "2    0    1  \n",
       "3    0    1  \n",
       "4    0    1  \n",
       "\n",
       "[5 rows x 85 columns]"
      ]
     },
     "execution_count": 14,
     "metadata": {},
     "output_type": "execute_result"
    }
   ],
   "source": [
    "df.head()"
   ]
  },
  {
   "cell_type": "code",
   "execution_count": 15,
   "id": "younger-liechtenstein",
   "metadata": {
    "execution": {
     "iopub.execute_input": "2021-06-11T13:30:11.939108Z",
     "iopub.status.busy": "2021-06-11T13:30:11.938318Z",
     "iopub.status.idle": "2021-06-11T13:30:11.947709Z",
     "shell.execute_reply": "2021-06-11T13:30:11.947054Z",
     "shell.execute_reply.started": "2021-06-11T13:29:39.860235Z"
    },
    "papermill": {
     "duration": 0.047109,
     "end_time": "2021-06-11T13:30:11.947864",
     "exception": false,
     "start_time": "2021-06-11T13:30:11.900755",
     "status": "completed"
    },
    "tags": []
   },
   "outputs": [],
   "source": [
    "# Features and Target \n",
    "X = df.drop(['revenue', 'Open Date', 'City', 'City Group', 'Type'], axis=1).values\n",
    "y = df['revenue'].values\n",
    "X_train, X_test, y_train, y_test = train_test_split(X, y, test_size=1/3, random_state=202)"
   ]
  },
  {
   "cell_type": "markdown",
   "id": "former-republican",
   "metadata": {
    "papermill": {
     "duration": 0.034656,
     "end_time": "2021-06-11T13:30:12.016218",
     "exception": false,
     "start_time": "2021-06-11T13:30:11.981562",
     "status": "completed"
    },
    "tags": []
   },
   "source": [
    "## 1- Single Models"
   ]
  },
  {
   "cell_type": "code",
   "execution_count": 16,
   "id": "bronze-freeware",
   "metadata": {
    "execution": {
     "iopub.execute_input": "2021-06-11T13:30:12.095593Z",
     "iopub.status.busy": "2021-06-11T13:30:12.089414Z",
     "iopub.status.idle": "2021-06-11T13:30:12.114314Z",
     "shell.execute_reply": "2021-06-11T13:30:12.113741Z",
     "shell.execute_reply.started": "2021-06-11T13:29:39.871269Z"
    },
    "papermill": {
     "duration": 0.06429,
     "end_time": "2021-06-11T13:30:12.114473",
     "exception": false,
     "start_time": "2021-06-11T13:30:12.050183",
     "status": "completed"
    },
    "tags": []
   },
   "outputs": [
    {
     "name": "stdout",
     "output_type": "stream",
     "text": [
      "RMSE: 4026608.73244476\n"
     ]
    }
   ],
   "source": [
    "# Multiple Linear Regression\n",
    "from sklearn.linear_model import LinearRegression\n",
    "reg = LinearRegression().fit(X_train, y_train)\n",
    "y_pred = reg.predict(X_test)\n",
    "rmse = skm.mean_squared_error(y_test, y_pred, squared=False)\n",
    "print(\"RMSE: {0}\".format(rmse))"
   ]
  },
  {
   "cell_type": "code",
   "execution_count": 17,
   "id": "urban-equilibrium",
   "metadata": {
    "execution": {
     "iopub.execute_input": "2021-06-11T13:30:12.197638Z",
     "iopub.status.busy": "2021-06-11T13:30:12.196978Z",
     "iopub.status.idle": "2021-06-11T13:30:12.205085Z",
     "shell.execute_reply": "2021-06-11T13:30:12.205794Z",
     "shell.execute_reply.started": "2021-06-11T13:29:39.900253Z"
    },
    "papermill": {
     "duration": 0.052858,
     "end_time": "2021-06-11T13:30:12.206062",
     "exception": false,
     "start_time": "2021-06-11T13:30:12.153204",
     "status": "completed"
    },
    "tags": []
   },
   "outputs": [
    {
     "name": "stdout",
     "output_type": "stream",
     "text": [
      "RMSE: 3444293.042549561\n"
     ]
    }
   ],
   "source": [
    "# Single Tree Regression\n",
    "reg = DecisionTreeRegressor(max_depth=10)\n",
    "reg.fit(X_train, y_train)\n",
    "y_pred = reg.predict(X_test)\n",
    "rmse = skm.mean_squared_error(y_test, y_pred, squared=False)\n",
    "print(\"RMSE: {0}\".format(rmse))"
   ]
  },
  {
   "cell_type": "code",
   "execution_count": 18,
   "id": "missing-wholesale",
   "metadata": {
    "execution": {
     "iopub.execute_input": "2021-06-11T13:30:12.282095Z",
     "iopub.status.busy": "2021-06-11T13:30:12.281000Z",
     "iopub.status.idle": "2021-06-11T13:30:12.286789Z",
     "shell.execute_reply": "2021-06-11T13:30:12.287318Z",
     "shell.execute_reply.started": "2021-06-11T13:29:39.911217Z"
    },
    "papermill": {
     "duration": 0.046477,
     "end_time": "2021-06-11T13:30:12.287504",
     "exception": false,
     "start_time": "2021-06-11T13:30:12.241027",
     "status": "completed"
    },
    "tags": []
   },
   "outputs": [
    {
     "name": "stdout",
     "output_type": "stream",
     "text": [
      "RMSE: 3157885.2820315906\n"
     ]
    }
   ],
   "source": [
    "# SVR - linear\n",
    "reg = SVR(kernel='linear', C=100, gamma='auto')\n",
    "reg.fit(X_train, y_train)\n",
    "y_pred = reg.predict(X_test)\n",
    "rmse = skm.mean_squared_error(y_test, y_pred, squared=False)\n",
    "print(\"RMSE: {0}\".format(rmse))"
   ]
  },
  {
   "cell_type": "code",
   "execution_count": 19,
   "id": "intimate-consultation",
   "metadata": {
    "execution": {
     "iopub.execute_input": "2021-06-11T13:30:12.358785Z",
     "iopub.status.busy": "2021-06-11T13:30:12.358123Z",
     "iopub.status.idle": "2021-06-11T13:30:12.368048Z",
     "shell.execute_reply": "2021-06-11T13:30:12.368730Z",
     "shell.execute_reply.started": "2021-06-11T13:29:39.925390Z"
    },
    "papermill": {
     "duration": 0.047225,
     "end_time": "2021-06-11T13:30:12.368999",
     "exception": false,
     "start_time": "2021-06-11T13:30:12.321774",
     "status": "completed"
    },
    "tags": []
   },
   "outputs": [
    {
     "name": "stdout",
     "output_type": "stream",
     "text": [
      "RMSE: 3180197.6133088586\n"
     ]
    }
   ],
   "source": [
    "# SVR - rbf\n",
    "reg = SVR(kernel='rbf', C=100, gamma=0.1, epsilon=.1)\n",
    "reg.fit(X_train, y_train)\n",
    "y_pred = reg.predict(X_test)\n",
    "rmse = skm.mean_squared_error(y_test, y_pred, squared=False)\n",
    "print(\"RMSE: {0}\".format(rmse))"
   ]
  },
  {
   "cell_type": "code",
   "execution_count": 20,
   "id": "available-timothy",
   "metadata": {
    "execution": {
     "iopub.execute_input": "2021-06-11T13:30:12.447152Z",
     "iopub.status.busy": "2021-06-11T13:30:12.446235Z",
     "iopub.status.idle": "2021-06-11T13:30:12.451192Z",
     "shell.execute_reply": "2021-06-11T13:30:12.450518Z",
     "shell.execute_reply.started": "2021-06-11T13:29:39.937689Z"
    },
    "papermill": {
     "duration": 0.046706,
     "end_time": "2021-06-11T13:30:12.451349",
     "exception": false,
     "start_time": "2021-06-11T13:30:12.404643",
     "status": "completed"
    },
    "tags": []
   },
   "outputs": [
    {
     "name": "stdout",
     "output_type": "stream",
     "text": [
      "RMSE: 3170165.9942523534\n"
     ]
    }
   ],
   "source": [
    "# SVR - poly\n",
    "reg = SVR(kernel='poly', C=100, gamma='auto', degree=2, epsilon=.1,\n",
    "               coef0=1)\n",
    "reg.fit(X_train, y_train)\n",
    "y_pred = reg.predict(X_test)\n",
    "rmse = skm.mean_squared_error(y_test, y_pred, squared=False)\n",
    "print(\"RMSE: {0}\".format(rmse))"
   ]
  },
  {
   "cell_type": "markdown",
   "id": "chubby-address",
   "metadata": {
    "papermill": {
     "duration": 0.035157,
     "end_time": "2021-06-11T13:30:12.522464",
     "exception": false,
     "start_time": "2021-06-11T13:30:12.487307",
     "status": "completed"
    },
    "tags": []
   },
   "source": [
    "## 2 - Ensemble Learning"
   ]
  },
  {
   "cell_type": "code",
   "execution_count": 21,
   "id": "velvet-shadow",
   "metadata": {
    "execution": {
     "iopub.execute_input": "2021-06-11T13:30:12.601070Z",
     "iopub.status.busy": "2021-06-11T13:30:12.600295Z",
     "iopub.status.idle": "2021-06-11T13:30:12.711168Z",
     "shell.execute_reply": "2021-06-11T13:30:12.710504Z",
     "shell.execute_reply.started": "2021-06-11T13:29:39.954481Z"
    },
    "papermill": {
     "duration": 0.15214,
     "end_time": "2021-06-11T13:30:12.711321",
     "exception": false,
     "start_time": "2021-06-11T13:30:12.559181",
     "status": "completed"
    },
    "tags": []
   },
   "outputs": [
    {
     "ename": "NameError",
     "evalue": "name 'RandomForestRegressor' is not defined",
     "output_type": "error",
     "traceback": [
      "\u001b[0;31m---------------------------------------------------------------------------\u001b[0m",
      "\u001b[0;31mNameError\u001b[0m                                 Traceback (most recent call last)",
      "\u001b[0;32m<ipython-input-21-33a159f6f9c9>\u001b[0m in \u001b[0;36m<module>\u001b[0;34m\u001b[0m\n\u001b[1;32m      1\u001b[0m \u001b[0;31m# Random Forest\u001b[0m\u001b[0;34m\u001b[0m\u001b[0;34m\u001b[0m\u001b[0;34m\u001b[0m\u001b[0m\n\u001b[0;32m----> 2\u001b[0;31m \u001b[0mreg\u001b[0m \u001b[0;34m=\u001b[0m \u001b[0mRandomForestRegressor\u001b[0m\u001b[0;34m(\u001b[0m\u001b[0mn_estimators\u001b[0m\u001b[0;34m=\u001b[0m\u001b[0;36m1000\u001b[0m\u001b[0;34m,\u001b[0m \u001b[0mcriterion\u001b[0m\u001b[0;34m=\u001b[0m\u001b[0;34m\"mse\"\u001b[0m\u001b[0;34m)\u001b[0m\u001b[0;34m\u001b[0m\u001b[0;34m\u001b[0m\u001b[0m\n\u001b[0m\u001b[1;32m      3\u001b[0m \u001b[0mreg\u001b[0m\u001b[0;34m.\u001b[0m\u001b[0mfit\u001b[0m\u001b[0;34m(\u001b[0m\u001b[0mX_train\u001b[0m\u001b[0;34m,\u001b[0m \u001b[0my_train\u001b[0m\u001b[0;34m)\u001b[0m\u001b[0;34m\u001b[0m\u001b[0;34m\u001b[0m\u001b[0m\n\u001b[1;32m      4\u001b[0m \u001b[0my_pred\u001b[0m \u001b[0;34m=\u001b[0m \u001b[0mreg\u001b[0m\u001b[0;34m.\u001b[0m\u001b[0mpredict\u001b[0m\u001b[0;34m(\u001b[0m\u001b[0mX_test\u001b[0m\u001b[0;34m)\u001b[0m\u001b[0;34m\u001b[0m\u001b[0;34m\u001b[0m\u001b[0m\n\u001b[1;32m      5\u001b[0m \u001b[0mrmse\u001b[0m \u001b[0;34m=\u001b[0m \u001b[0mskm\u001b[0m\u001b[0;34m.\u001b[0m\u001b[0mmean_squared_error\u001b[0m\u001b[0;34m(\u001b[0m\u001b[0my_test\u001b[0m\u001b[0;34m,\u001b[0m \u001b[0my_pred\u001b[0m\u001b[0;34m,\u001b[0m \u001b[0msquared\u001b[0m\u001b[0;34m=\u001b[0m\u001b[0;32mFalse\u001b[0m\u001b[0;34m)\u001b[0m\u001b[0;34m\u001b[0m\u001b[0;34m\u001b[0m\u001b[0m\n",
      "\u001b[0;31mNameError\u001b[0m: name 'RandomForestRegressor' is not defined"
     ]
    }
   ],
   "source": [
    "# Random Forest\n",
    "reg = RandomForestRegressor(n_estimators=1000, criterion=\"mse\")\n",
    "reg.fit(X_train, y_train)\n",
    "y_pred = reg.predict(X_test)\n",
    "rmse = skm.mean_squared_error(y_test, y_pred, squared=False)\n",
    "print(\"RMSE: {0}\".format(rmse))"
   ]
  },
  {
   "cell_type": "code",
   "execution_count": 22,
   "id": "golden-offset",
   "metadata": {
    "execution": {
     "iopub.execute_input": "2021-06-11T13:30:12.786208Z",
     "iopub.status.busy": "2021-06-11T13:30:12.785171Z",
     "iopub.status.idle": "2021-06-11T13:30:12.885800Z",
     "shell.execute_reply": "2021-06-11T13:30:12.886335Z",
     "shell.execute_reply.started": "2021-06-11T13:29:42.345963Z"
    },
    "papermill": {
     "duration": 0.139466,
     "end_time": "2021-06-11T13:30:12.886566",
     "exception": false,
     "start_time": "2021-06-11T13:30:12.747100",
     "status": "completed"
    },
    "tags": []
   },
   "outputs": [
    {
     "name": "stdout",
     "output_type": "stream",
     "text": [
      "RMSE: 3023787.468195769\n"
     ]
    }
   ],
   "source": [
    "# Gradient Boosting\n",
    "from sklearn.ensemble import GradientBoostingRegressor\n",
    "reg = GradientBoostingRegressor(random_state=0)\n",
    "reg.fit(X_train, y_train)\n",
    "y_pred = reg.predict(X_test)\n",
    "rmse = skm.mean_squared_error(y_test, y_pred, squared=False)\n",
    "print(\"RMSE: {0}\".format(rmse))"
   ]
  },
  {
   "cell_type": "code",
   "execution_count": 23,
   "id": "acute-belgium",
   "metadata": {
    "execution": {
     "iopub.execute_input": "2021-06-11T13:30:12.965030Z",
     "iopub.status.busy": "2021-06-11T13:30:12.963920Z",
     "iopub.status.idle": "2021-06-11T13:30:14.371547Z",
     "shell.execute_reply": "2021-06-11T13:30:14.372139Z",
     "shell.execute_reply.started": "2021-06-11T13:29:42.423527Z"
    },
    "papermill": {
     "duration": 1.450542,
     "end_time": "2021-06-11T13:30:14.372327",
     "exception": false,
     "start_time": "2021-06-11T13:30:12.921785",
     "status": "completed"
    },
    "tags": []
   },
   "outputs": [
    {
     "name": "stdout",
     "output_type": "stream",
     "text": [
      "RMSE: 2791741.7710572933\n"
     ]
    }
   ],
   "source": [
    "# Ada Boosting\n",
    "from sklearn.ensemble import AdaBoostRegressor\n",
    "reg = AdaBoostRegressor(random_state=0, n_estimators=1000)\n",
    "reg.fit(X_train, y_train)\n",
    "y_pred = reg.predict(X_test)\n",
    "rmse = skm.mean_squared_error(y_test, y_pred, squared=False)\n",
    "print(\"RMSE: {0}\".format(rmse))"
   ]
  },
  {
   "cell_type": "code",
   "execution_count": 24,
   "id": "manufactured-zoning",
   "metadata": {
    "execution": {
     "iopub.execute_input": "2021-06-11T13:30:14.453561Z",
     "iopub.status.busy": "2021-06-11T13:30:14.450780Z",
     "iopub.status.idle": "2021-06-11T13:30:16.867454Z",
     "shell.execute_reply": "2021-06-11T13:30:16.867999Z",
     "shell.execute_reply.started": "2021-06-11T13:29:43.940616Z"
    },
    "papermill": {
     "duration": 2.459907,
     "end_time": "2021-06-11T13:30:16.868181",
     "exception": false,
     "start_time": "2021-06-11T13:30:14.408274",
     "status": "completed"
    },
    "tags": []
   },
   "outputs": [
    {
     "name": "stdout",
     "output_type": "stream",
     "text": [
      "RMSE: 3183674.789392173\n"
     ]
    }
   ],
   "source": [
    "from sklearn.ensemble import BaggingRegressor\n",
    "reg = BaggingRegressor(base_estimator=SVR(),\n",
    "                        n_estimators=1000, random_state=0)\n",
    "reg.fit(X_train, y_train)\n",
    "y_pred = reg.predict(X_test)\n",
    "rmse = skm.mean_squared_error(y_test, y_pred, squared=False)\n",
    "print(\"RMSE: {0}\".format(rmse))"
   ]
  },
  {
   "cell_type": "markdown",
   "id": "stuck-candy",
   "metadata": {
    "papermill": {
     "duration": 0.035305,
     "end_time": "2021-06-11T13:30:16.939159",
     "exception": false,
     "start_time": "2021-06-11T13:30:16.903854",
     "status": "completed"
    },
    "tags": []
   },
   "source": [
    "### What's next? Putting all the modeling into 4 respective functions for split/cv for single and ensemble learning methods."
   ]
  }
 ],
 "metadata": {
  "kernelspec": {
   "display_name": "Python 3 (ipykernel)",
   "language": "python",
   "name": "python3"
  },
  "language_info": {
   "codemirror_mode": {
    "name": "ipython",
    "version": 3
   },
   "file_extension": ".py",
   "mimetype": "text/x-python",
   "name": "python",
   "nbconvert_exporter": "python",
   "pygments_lexer": "ipython3",
   "version": "3.9.12"
  },
  "papermill": {
   "default_parameters": {},
   "duration": 19.915115,
   "end_time": "2021-06-11T13:30:18.543905",
   "environment_variables": {},
   "exception": null,
   "input_path": "__notebook__.ipynb",
   "output_path": "__notebook__.ipynb",
   "parameters": {},
   "start_time": "2021-06-11T13:29:58.628790",
   "version": "2.3.3"
  }
 },
 "nbformat": 4,
 "nbformat_minor": 5
}
