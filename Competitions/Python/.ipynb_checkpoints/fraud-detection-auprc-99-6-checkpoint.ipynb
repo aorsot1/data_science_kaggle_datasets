{
 "cells": [
  {
   "cell_type": "markdown",
   "id": "c5651757",
   "metadata": {
    "papermill": {
     "duration": 0.060819,
     "end_time": "2022-08-16T04:03:43.177224",
     "exception": false,
     "start_time": "2022-08-16T04:03:43.116405",
     "status": "completed"
    },
    "tags": []
   },
   "source": [
    "# Fraud Detection \n",
    "This notebook will attempt to build a predictive algorithm to detect a fraudulent transaction using a training dataset. We will explain the thinking process at every step using LIME (Local Interpretable Model-agnostic Explanations) principles making it accessible and user-friendly.\n",
    "\n",
    "\n",
    "## Table of Contents\n",
    "1. Environment set-up\n",
    "    * Importing Libraries\n",
    "    * Loading the data\n",
    "2. Initial Diagnostics\n",
    "    * Glimpse\n",
    "    * Descriptive Statitics\n",
    "    * Target Variable Analysis\n",
    "    * Predictors Analysis\n",
    "    * Correlation Matrix\n",
    "3. Data Processing\n",
    "    * Missing Values\n",
    "    * Outliers\n",
    "    * Duplicate Observations\n",
    "4. Exploratory Data Analysis\n",
    "    * How does Amount's distribution behaves across targetes?\n",
    "    * Are there any noteworthy point in time where fraud occured?\n",
    "5. Class Imbalance \n",
    "    * SMOTE - Synthetic Minority Oversampling Technique\n",
    "    * Near-Miss Algorithm\n",
    "    * Combined Random Sampler\n",
    "6. Dimensionality Reduction\n",
    "    * PCA - Principal Component Analysis\n",
    "    * SVD - Singular Value Decomposition\n",
    "    * LDA - Linear Discriminant Analysis\n",
    "7. Machine Learning set-up\n",
    "    * Train-test split\n",
    "    * Cross-validation\n",
    "8. Machine Learning - Simple Models\n",
    "    * Logistic Regression\n",
    "    * k-Nearest Neighbors\n",
    "    * Decision Tree\n",
    "    * Stochastic Gradient Descent\n",
    "9. Machine Learning - Ensemble Methods\n",
    "    * Random Forest\n",
    "    * Stochastic Gradient Boosting\n",
    "    * Stackingtargetifier\n",
    "11. Final Recommendation"
   ]
  },
  {
   "cell_type": "markdown",
   "id": "4a5d6559",
   "metadata": {
    "papermill": {
     "duration": 0.05421,
     "end_time": "2022-08-16T04:03:43.288065",
     "exception": false,
     "start_time": "2022-08-16T04:03:43.233855",
     "status": "completed"
    },
    "tags": []
   },
   "source": [
    "# 1. Environment set-up"
   ]
  },
  {
   "cell_type": "code",
   "execution_count": 33,
   "id": "22fd85cb",
   "metadata": {
    "_cell_guid": "b1076dfc-b9ad-4769-8c92-a6c4dae69d19",
    "_uuid": "8f2839f25d086af736a60e9eeb907d3b93b6e0e5",
    "papermill": {
     "duration": 1.728072,
     "end_time": "2022-08-16T04:03:45.069740",
     "exception": false,
     "start_time": "2022-08-16T04:03:43.341668",
     "status": "completed"
    },
    "tags": []
   },
   "outputs": [],
   "source": [
    "## Importing Libraries\n",
    "\n",
    "#Set seed\n",
    "import random\n",
    "random.seed(1234)\n",
    "\n",
    "# Manipulating & Visualizing Data\n",
    "import pandas as pd\n",
    "import numpy as np\n",
    "import matplotlib.pyplot as plt\n",
    "import seaborn as sns\n",
    "sns.set(rc={'figure.figsize':(12, 8)})\n",
    "\n",
    "# Statiscal methods\n",
    "from scipy import stats\n",
    "\n",
    "# Sampling Methods\n",
    "from imblearn.over_sampling import RandomOverSampler, SMOTE\n",
    "from imblearn.under_sampling import RandomUnderSampler, NearMiss\n",
    "\n",
    "# Training/Testing Split\n",
    "from sklearn.model_selection import train_test_split\n",
    "\n",
    "# Cross Validation\n",
    "from sklearn.model_selection import cross_validate\n",
    "\n",
    "# Dimensionality Reduction\n",
    "from sklearn.decomposition import PCA, TruncatedSVD\n",
    "\n",
    "# Simple ML models\n",
    "from sklearn.pipeline import Pipeline\n",
    "from sklearn.linear_model import LogisticRegression, SGDClassifier\n",
    "from sklearn.neighbors import KNeighborsClassifier\n",
    "from sklearn.tree import DecisionTreeClassifier\n",
    "\n",
    "# Ensemble Learning\n",
    "from sklearn.ensemble import RandomForestClassifier\n",
    "from sklearn.ensemble import BaggingClassifier\n",
    "from sklearn.ensemble import GradientBoostingClassifier\n",
    "\n",
    "# Hyperparameter Tuning\n",
    "from sklearn.model_selection import GridSearchCV\n",
    "from sklearn.model_selection import RandomizedSearchCV\n",
    "# import h2o\n",
    "# from h2o.grid.grid_search import H2OGridSearch\n",
    "\n",
    "# Performance metrics\n",
    "import sklearn.metrics as skm"
   ]
  },
  {
   "cell_type": "code",
   "execution_count": 2,
   "id": "96dd494a",
   "metadata": {
    "papermill": {
     "duration": 3.585425,
     "end_time": "2022-08-16T04:03:48.709718",
     "exception": false,
     "start_time": "2022-08-16T04:03:45.124293",
     "status": "completed"
    },
    "tags": []
   },
   "outputs": [],
   "source": [
    "## Loading the dataset\n",
    "df = pd.read_csv(r\"C:\\Users\\Graduate\\Desktop\\ds_proj_data\\creditcard.csv\")"
   ]
  },
  {
   "cell_type": "markdown",
   "id": "d0425021",
   "metadata": {
    "papermill": {
     "duration": 0.055172,
     "end_time": "2022-08-16T04:03:48.819346",
     "exception": false,
     "start_time": "2022-08-16T04:03:48.764174",
     "status": "completed"
    },
    "tags": []
   },
   "source": [
    "# 2. Initial Diagnostics"
   ]
  },
  {
   "cell_type": "code",
   "execution_count": 3,
   "id": "824ea363",
   "metadata": {
    "papermill": {
     "duration": 0.110655,
     "end_time": "2022-08-16T04:03:48.986548",
     "exception": false,
     "start_time": "2022-08-16T04:03:48.875893",
     "status": "completed"
    },
    "tags": []
   },
   "outputs": [
    {
     "name": "stdout",
     "output_type": "stream",
     "text": [
      "<class 'pandas.core.frame.DataFrame'>\n",
      "RangeIndex: 284807 entries, 0 to 284806\n",
      "Data columns (total 31 columns):\n",
      " #   Column  Non-Null Count   Dtype  \n",
      "---  ------  --------------   -----  \n",
      " 0   Time    284807 non-null  float64\n",
      " 1   V1      284807 non-null  float64\n",
      " 2   V2      284807 non-null  float64\n",
      " 3   V3      284807 non-null  float64\n",
      " 4   V4      284807 non-null  float64\n",
      " 5   V5      284807 non-null  float64\n",
      " 6   V6      284807 non-null  float64\n",
      " 7   V7      284807 non-null  float64\n",
      " 8   V8      284807 non-null  float64\n",
      " 9   V9      284807 non-null  float64\n",
      " 10  V10     284807 non-null  float64\n",
      " 11  V11     284807 non-null  float64\n",
      " 12  V12     284807 non-null  float64\n",
      " 13  V13     284807 non-null  float64\n",
      " 14  V14     284807 non-null  float64\n",
      " 15  V15     284807 non-null  float64\n",
      " 16  V16     284807 non-null  float64\n",
      " 17  V17     284807 non-null  float64\n",
      " 18  V18     284807 non-null  float64\n",
      " 19  V19     284807 non-null  float64\n",
      " 20  V20     284807 non-null  float64\n",
      " 21  V21     284807 non-null  float64\n",
      " 22  V22     284807 non-null  float64\n",
      " 23  V23     284807 non-null  float64\n",
      " 24  V24     284807 non-null  float64\n",
      " 25  V25     284807 non-null  float64\n",
      " 26  V26     284807 non-null  float64\n",
      " 27  V27     284807 non-null  float64\n",
      " 28  V28     284807 non-null  float64\n",
      " 29  Amount  284807 non-null  float64\n",
      " 30  Class   284807 non-null  int64  \n",
      "dtypes: float64(30), int64(1)\n",
      "memory usage: 67.4 MB\n"
     ]
    }
   ],
   "source": [
    "## Glimpse of the data\n",
    "df.info()"
   ]
  },
  {
   "cell_type": "code",
   "execution_count": 4,
   "id": "f63af8cf",
   "metadata": {
    "papermill": {
     "duration": 0.537761,
     "end_time": "2022-08-16T04:03:49.580386",
     "exception": false,
     "start_time": "2022-08-16T04:03:49.042625",
     "status": "completed"
    },
    "tags": []
   },
   "outputs": [
    {
     "data": {
      "text/html": [
       "<div>\n",
       "<style scoped>\n",
       "    .dataframe tbody tr th:only-of-type {\n",
       "        vertical-align: middle;\n",
       "    }\n",
       "\n",
       "    .dataframe tbody tr th {\n",
       "        vertical-align: top;\n",
       "    }\n",
       "\n",
       "    .dataframe thead th {\n",
       "        text-align: right;\n",
       "    }\n",
       "</style>\n",
       "<table border=\"1\" class=\"dataframe\">\n",
       "  <thead>\n",
       "    <tr style=\"text-align: right;\">\n",
       "      <th></th>\n",
       "      <th>Time</th>\n",
       "      <th>V1</th>\n",
       "      <th>V2</th>\n",
       "      <th>V3</th>\n",
       "      <th>V4</th>\n",
       "      <th>V5</th>\n",
       "      <th>V6</th>\n",
       "      <th>V7</th>\n",
       "      <th>V8</th>\n",
       "      <th>V9</th>\n",
       "      <th>...</th>\n",
       "      <th>V21</th>\n",
       "      <th>V22</th>\n",
       "      <th>V23</th>\n",
       "      <th>V24</th>\n",
       "      <th>V25</th>\n",
       "      <th>V26</th>\n",
       "      <th>V27</th>\n",
       "      <th>V28</th>\n",
       "      <th>Amount</th>\n",
       "      <th>Class</th>\n",
       "    </tr>\n",
       "  </thead>\n",
       "  <tbody>\n",
       "    <tr>\n",
       "      <th>count</th>\n",
       "      <td>284807.000000</td>\n",
       "      <td>2.848070e+05</td>\n",
       "      <td>2.848070e+05</td>\n",
       "      <td>2.848070e+05</td>\n",
       "      <td>2.848070e+05</td>\n",
       "      <td>2.848070e+05</td>\n",
       "      <td>2.848070e+05</td>\n",
       "      <td>2.848070e+05</td>\n",
       "      <td>2.848070e+05</td>\n",
       "      <td>2.848070e+05</td>\n",
       "      <td>...</td>\n",
       "      <td>2.848070e+05</td>\n",
       "      <td>2.848070e+05</td>\n",
       "      <td>2.848070e+05</td>\n",
       "      <td>2.848070e+05</td>\n",
       "      <td>2.848070e+05</td>\n",
       "      <td>2.848070e+05</td>\n",
       "      <td>2.848070e+05</td>\n",
       "      <td>2.848070e+05</td>\n",
       "      <td>284807.000000</td>\n",
       "      <td>284807.000000</td>\n",
       "    </tr>\n",
       "    <tr>\n",
       "      <th>mean</th>\n",
       "      <td>94813.859575</td>\n",
       "      <td>3.918649e-15</td>\n",
       "      <td>5.682686e-16</td>\n",
       "      <td>-8.761736e-15</td>\n",
       "      <td>2.811118e-15</td>\n",
       "      <td>-1.552103e-15</td>\n",
       "      <td>2.040130e-15</td>\n",
       "      <td>-1.698953e-15</td>\n",
       "      <td>-1.893285e-16</td>\n",
       "      <td>-3.147640e-15</td>\n",
       "      <td>...</td>\n",
       "      <td>1.473120e-16</td>\n",
       "      <td>8.042109e-16</td>\n",
       "      <td>5.282512e-16</td>\n",
       "      <td>4.456271e-15</td>\n",
       "      <td>1.426896e-15</td>\n",
       "      <td>1.701640e-15</td>\n",
       "      <td>-3.662252e-16</td>\n",
       "      <td>-1.217809e-16</td>\n",
       "      <td>88.349619</td>\n",
       "      <td>0.001727</td>\n",
       "    </tr>\n",
       "    <tr>\n",
       "      <th>std</th>\n",
       "      <td>47488.145955</td>\n",
       "      <td>1.958696e+00</td>\n",
       "      <td>1.651309e+00</td>\n",
       "      <td>1.516255e+00</td>\n",
       "      <td>1.415869e+00</td>\n",
       "      <td>1.380247e+00</td>\n",
       "      <td>1.332271e+00</td>\n",
       "      <td>1.237094e+00</td>\n",
       "      <td>1.194353e+00</td>\n",
       "      <td>1.098632e+00</td>\n",
       "      <td>...</td>\n",
       "      <td>7.345240e-01</td>\n",
       "      <td>7.257016e-01</td>\n",
       "      <td>6.244603e-01</td>\n",
       "      <td>6.056471e-01</td>\n",
       "      <td>5.212781e-01</td>\n",
       "      <td>4.822270e-01</td>\n",
       "      <td>4.036325e-01</td>\n",
       "      <td>3.300833e-01</td>\n",
       "      <td>250.120109</td>\n",
       "      <td>0.041527</td>\n",
       "    </tr>\n",
       "    <tr>\n",
       "      <th>min</th>\n",
       "      <td>0.000000</td>\n",
       "      <td>-5.640751e+01</td>\n",
       "      <td>-7.271573e+01</td>\n",
       "      <td>-4.832559e+01</td>\n",
       "      <td>-5.683171e+00</td>\n",
       "      <td>-1.137433e+02</td>\n",
       "      <td>-2.616051e+01</td>\n",
       "      <td>-4.355724e+01</td>\n",
       "      <td>-7.321672e+01</td>\n",
       "      <td>-1.343407e+01</td>\n",
       "      <td>...</td>\n",
       "      <td>-3.483038e+01</td>\n",
       "      <td>-1.093314e+01</td>\n",
       "      <td>-4.480774e+01</td>\n",
       "      <td>-2.836627e+00</td>\n",
       "      <td>-1.029540e+01</td>\n",
       "      <td>-2.604551e+00</td>\n",
       "      <td>-2.256568e+01</td>\n",
       "      <td>-1.543008e+01</td>\n",
       "      <td>0.000000</td>\n",
       "      <td>0.000000</td>\n",
       "    </tr>\n",
       "    <tr>\n",
       "      <th>25%</th>\n",
       "      <td>54201.500000</td>\n",
       "      <td>-9.203734e-01</td>\n",
       "      <td>-5.985499e-01</td>\n",
       "      <td>-8.903648e-01</td>\n",
       "      <td>-8.486401e-01</td>\n",
       "      <td>-6.915971e-01</td>\n",
       "      <td>-7.682956e-01</td>\n",
       "      <td>-5.540759e-01</td>\n",
       "      <td>-2.086297e-01</td>\n",
       "      <td>-6.430976e-01</td>\n",
       "      <td>...</td>\n",
       "      <td>-2.283949e-01</td>\n",
       "      <td>-5.423504e-01</td>\n",
       "      <td>-1.618463e-01</td>\n",
       "      <td>-3.545861e-01</td>\n",
       "      <td>-3.171451e-01</td>\n",
       "      <td>-3.269839e-01</td>\n",
       "      <td>-7.083953e-02</td>\n",
       "      <td>-5.295979e-02</td>\n",
       "      <td>5.600000</td>\n",
       "      <td>0.000000</td>\n",
       "    </tr>\n",
       "    <tr>\n",
       "      <th>50%</th>\n",
       "      <td>84692.000000</td>\n",
       "      <td>1.810880e-02</td>\n",
       "      <td>6.548556e-02</td>\n",
       "      <td>1.798463e-01</td>\n",
       "      <td>-1.984653e-02</td>\n",
       "      <td>-5.433583e-02</td>\n",
       "      <td>-2.741871e-01</td>\n",
       "      <td>4.010308e-02</td>\n",
       "      <td>2.235804e-02</td>\n",
       "      <td>-5.142873e-02</td>\n",
       "      <td>...</td>\n",
       "      <td>-2.945017e-02</td>\n",
       "      <td>6.781943e-03</td>\n",
       "      <td>-1.119293e-02</td>\n",
       "      <td>4.097606e-02</td>\n",
       "      <td>1.659350e-02</td>\n",
       "      <td>-5.213911e-02</td>\n",
       "      <td>1.342146e-03</td>\n",
       "      <td>1.124383e-02</td>\n",
       "      <td>22.000000</td>\n",
       "      <td>0.000000</td>\n",
       "    </tr>\n",
       "    <tr>\n",
       "      <th>75%</th>\n",
       "      <td>139320.500000</td>\n",
       "      <td>1.315642e+00</td>\n",
       "      <td>8.037239e-01</td>\n",
       "      <td>1.027196e+00</td>\n",
       "      <td>7.433413e-01</td>\n",
       "      <td>6.119264e-01</td>\n",
       "      <td>3.985649e-01</td>\n",
       "      <td>5.704361e-01</td>\n",
       "      <td>3.273459e-01</td>\n",
       "      <td>5.971390e-01</td>\n",
       "      <td>...</td>\n",
       "      <td>1.863772e-01</td>\n",
       "      <td>5.285536e-01</td>\n",
       "      <td>1.476421e-01</td>\n",
       "      <td>4.395266e-01</td>\n",
       "      <td>3.507156e-01</td>\n",
       "      <td>2.409522e-01</td>\n",
       "      <td>9.104512e-02</td>\n",
       "      <td>7.827995e-02</td>\n",
       "      <td>77.165000</td>\n",
       "      <td>0.000000</td>\n",
       "    </tr>\n",
       "    <tr>\n",
       "      <th>max</th>\n",
       "      <td>172792.000000</td>\n",
       "      <td>2.454930e+00</td>\n",
       "      <td>2.205773e+01</td>\n",
       "      <td>9.382558e+00</td>\n",
       "      <td>1.687534e+01</td>\n",
       "      <td>3.480167e+01</td>\n",
       "      <td>7.330163e+01</td>\n",
       "      <td>1.205895e+02</td>\n",
       "      <td>2.000721e+01</td>\n",
       "      <td>1.559499e+01</td>\n",
       "      <td>...</td>\n",
       "      <td>2.720284e+01</td>\n",
       "      <td>1.050309e+01</td>\n",
       "      <td>2.252841e+01</td>\n",
       "      <td>4.584549e+00</td>\n",
       "      <td>7.519589e+00</td>\n",
       "      <td>3.517346e+00</td>\n",
       "      <td>3.161220e+01</td>\n",
       "      <td>3.384781e+01</td>\n",
       "      <td>25691.160000</td>\n",
       "      <td>1.000000</td>\n",
       "    </tr>\n",
       "  </tbody>\n",
       "</table>\n",
       "<p>8 rows × 31 columns</p>\n",
       "</div>"
      ],
      "text/plain": [
       "                Time            V1            V2            V3            V4  \\\n",
       "count  284807.000000  2.848070e+05  2.848070e+05  2.848070e+05  2.848070e+05   \n",
       "mean    94813.859575  3.918649e-15  5.682686e-16 -8.761736e-15  2.811118e-15   \n",
       "std     47488.145955  1.958696e+00  1.651309e+00  1.516255e+00  1.415869e+00   \n",
       "min         0.000000 -5.640751e+01 -7.271573e+01 -4.832559e+01 -5.683171e+00   \n",
       "25%     54201.500000 -9.203734e-01 -5.985499e-01 -8.903648e-01 -8.486401e-01   \n",
       "50%     84692.000000  1.810880e-02  6.548556e-02  1.798463e-01 -1.984653e-02   \n",
       "75%    139320.500000  1.315642e+00  8.037239e-01  1.027196e+00  7.433413e-01   \n",
       "max    172792.000000  2.454930e+00  2.205773e+01  9.382558e+00  1.687534e+01   \n",
       "\n",
       "                 V5            V6            V7            V8            V9  \\\n",
       "count  2.848070e+05  2.848070e+05  2.848070e+05  2.848070e+05  2.848070e+05   \n",
       "mean  -1.552103e-15  2.040130e-15 -1.698953e-15 -1.893285e-16 -3.147640e-15   \n",
       "std    1.380247e+00  1.332271e+00  1.237094e+00  1.194353e+00  1.098632e+00   \n",
       "min   -1.137433e+02 -2.616051e+01 -4.355724e+01 -7.321672e+01 -1.343407e+01   \n",
       "25%   -6.915971e-01 -7.682956e-01 -5.540759e-01 -2.086297e-01 -6.430976e-01   \n",
       "50%   -5.433583e-02 -2.741871e-01  4.010308e-02  2.235804e-02 -5.142873e-02   \n",
       "75%    6.119264e-01  3.985649e-01  5.704361e-01  3.273459e-01  5.971390e-01   \n",
       "max    3.480167e+01  7.330163e+01  1.205895e+02  2.000721e+01  1.559499e+01   \n",
       "\n",
       "       ...           V21           V22           V23           V24  \\\n",
       "count  ...  2.848070e+05  2.848070e+05  2.848070e+05  2.848070e+05   \n",
       "mean   ...  1.473120e-16  8.042109e-16  5.282512e-16  4.456271e-15   \n",
       "std    ...  7.345240e-01  7.257016e-01  6.244603e-01  6.056471e-01   \n",
       "min    ... -3.483038e+01 -1.093314e+01 -4.480774e+01 -2.836627e+00   \n",
       "25%    ... -2.283949e-01 -5.423504e-01 -1.618463e-01 -3.545861e-01   \n",
       "50%    ... -2.945017e-02  6.781943e-03 -1.119293e-02  4.097606e-02   \n",
       "75%    ...  1.863772e-01  5.285536e-01  1.476421e-01  4.395266e-01   \n",
       "max    ...  2.720284e+01  1.050309e+01  2.252841e+01  4.584549e+00   \n",
       "\n",
       "                V25           V26           V27           V28         Amount  \\\n",
       "count  2.848070e+05  2.848070e+05  2.848070e+05  2.848070e+05  284807.000000   \n",
       "mean   1.426896e-15  1.701640e-15 -3.662252e-16 -1.217809e-16      88.349619   \n",
       "std    5.212781e-01  4.822270e-01  4.036325e-01  3.300833e-01     250.120109   \n",
       "min   -1.029540e+01 -2.604551e+00 -2.256568e+01 -1.543008e+01       0.000000   \n",
       "25%   -3.171451e-01 -3.269839e-01 -7.083953e-02 -5.295979e-02       5.600000   \n",
       "50%    1.659350e-02 -5.213911e-02  1.342146e-03  1.124383e-02      22.000000   \n",
       "75%    3.507156e-01  2.409522e-01  9.104512e-02  7.827995e-02      77.165000   \n",
       "max    7.519589e+00  3.517346e+00  3.161220e+01  3.384781e+01   25691.160000   \n",
       "\n",
       "               Class  \n",
       "count  284807.000000  \n",
       "mean        0.001727  \n",
       "std         0.041527  \n",
       "min         0.000000  \n",
       "25%         0.000000  \n",
       "50%         0.000000  \n",
       "75%         0.000000  \n",
       "max         1.000000  \n",
       "\n",
       "[8 rows x 31 columns]"
      ]
     },
     "execution_count": 4,
     "metadata": {},
     "output_type": "execute_result"
    }
   ],
   "source": [
    "## Descriptive Statistics\n",
    "df.describe()"
   ]
  },
  {
   "cell_type": "markdown",
   "id": "8b6d08a5",
   "metadata": {
    "papermill": {
     "duration": 0.056375,
     "end_time": "2022-08-16T04:03:49.693285",
     "exception": false,
     "start_time": "2022-08-16T04:03:49.636910",
     "status": "completed"
    },
    "tags": []
   },
   "source": [
    "**Takeaway:** The following percentage breakdown confirms the note in the project description; indeed, we have a considerable target imbalance with the target variable. It stays consistent that most fraudulent activities are much less frequent than non-fraudulent. Before proceeding, we shall note it to avoid any overfitting issues when fitting the machine learning models."
   ]
  },
  {
   "cell_type": "code",
   "execution_count": 5,
   "id": "a133b755",
   "metadata": {
    "papermill": {
     "duration": 0.069851,
     "end_time": "2022-08-16T04:03:49.818244",
     "exception": false,
     "start_time": "2022-08-16T04:03:49.748393",
     "status": "completed"
    },
    "tags": []
   },
   "outputs": [
    {
     "data": {
      "text/plain": [
       "0    0.998273\n",
       "1    0.001727\n",
       "Name: Class, dtype: float64"
      ]
     },
     "execution_count": 5,
     "metadata": {},
     "output_type": "execute_result"
    }
   ],
   "source": [
    "## Target Variable Analysis\n",
    "df['Class'].value_counts(normalize=True)"
   ]
  },
  {
   "cell_type": "markdown",
   "id": "6ae21b1b",
   "metadata": {
    "papermill": {
     "duration": 0.056171,
     "end_time": "2022-08-16T04:03:49.930630",
     "exception": false,
     "start_time": "2022-08-16T04:03:49.874459",
     "status": "completed"
    },
    "tags": []
   },
   "source": [
    "**Note:** We did not have any information on the numerical predictors for privacy, given their transformation and standardization, excluding Amount & Time. In that regard, Amount presented itself as potentially most informative for the feature variable analysis. To better understand the variable's distribution, we had to transform it using a log scale."
   ]
  },
  {
   "cell_type": "code",
   "execution_count": 6,
   "id": "8fc68556",
   "metadata": {
    "papermill": {
     "duration": 26.01188,
     "end_time": "2022-08-16T04:04:15.998618",
     "exception": false,
     "start_time": "2022-08-16T04:03:49.986738",
     "status": "completed"
    },
    "tags": []
   },
   "outputs": [
    {
     "name": "stdout",
     "output_type": "stream",
     "text": [
      "count    284807.000000\n",
      "mean         88.349619\n",
      "std         250.120109\n",
      "min           0.000000\n",
      "25%           5.600000\n",
      "50%          22.000000\n",
      "75%          77.165000\n",
      "max       25691.160000\n",
      "Name: Amount, dtype: float64\n"
     ]
    },
    {
     "data": {
      "image/png": "[encoded data removed]",
      "text/plain": [
       "<Figure size 864x576 with 1 Axes>"
      ]
     },
     "metadata": {},
     "output_type": "display_data"
    }
   ],
   "source": [
    "## Feature Variable Analysis\n",
    "\n",
    "# Basic statistics\n",
    "print(df['Amount'].describe())\n",
    "\n",
    "# Distribution\n",
    "sns.histplot(data=df, x='Amount').set(xscale=\"log\")\n",
    "plt.xlabel(\"Dollar Amount (Log Scale)\")\n",
    "plt.ylabel(\"Frequency (Count)\")\n",
    "plt.title(\"Distribution of Transaction Amount (log scaled)\")\n",
    "plt.show()"
   ]
  },
  {
   "cell_type": "code",
   "execution_count": 7,
   "id": "cafe6a81",
   "metadata": {
    "papermill": {
     "duration": 3.112071,
     "end_time": "2022-08-16T04:04:41.152664",
     "exception": false,
     "start_time": "2022-08-16T04:04:38.040593",
     "status": "completed"
    },
    "tags": []
   },
   "outputs": [
    {
     "data": {
      "image/png": "[encoded data removed]",
      "text/plain": [
       "<Figure size 1368x1080 with 2 Axes>"
      ]
     },
     "metadata": {},
     "output_type": "display_data"
    }
   ],
   "source": [
    "# Correlation Matrix\n",
    "f = plt.figure(figsize=(19, 15))\n",
    "matrix = df.corr().round(2)\n",
    "mask = np.triu(np.ones_like(matrix, dtype=bool))\n",
    "sns.heatmap(matrix, annot=True, vmax=1, vmin=-1, \n",
    "            center=0, cmap='vlag', mask=mask)\n",
    "plt.show()"
   ]
  },
  {
   "cell_type": "markdown",
   "id": "4847e80b",
   "metadata": {
    "papermill": {
     "duration": 0.079186,
     "end_time": "2022-08-16T04:04:41.295401",
     "exception": false,
     "start_time": "2022-08-16T04:04:41.216215",
     "status": "completed"
    },
    "tags": []
   },
   "source": [
    "**Takeaway:** From the correlation matrix plotted, we can observe very few correlated variables as we would expect after the feature transformation. The two meaningful features, are Time and Amount, have some relative correlation with some variables with coefficients approximating 0.4. With such low values, it would be pretty challenging to imply a correlation between any of them with any certainty. It also indicates that there would be a very low incidence of any colinearity within our data"
   ]
  },
  {
   "cell_type": "markdown",
   "id": "8f3f3dfd",
   "metadata": {
    "papermill": {
     "duration": 0.062632,
     "end_time": "2022-08-16T04:04:41.423211",
     "exception": false,
     "start_time": "2022-08-16T04:04:41.360579",
     "status": "completed"
    },
    "tags": []
   },
   "source": [
    "**Note:**  The code below filters those pairs with correlation coefficients above 0.5 as a threshold. As noted above, those values give very little to no confidence in any solid correlated relationship between variables as few crossing the 0.5 mark."
   ]
  },
  {
   "cell_type": "code",
   "execution_count": 8,
   "id": "45b8fa5e",
   "metadata": {
    "papermill": {
     "duration": 0.875945,
     "end_time": "2022-08-16T04:04:42.362168",
     "exception": false,
     "start_time": "2022-08-16T04:04:41.486223",
     "status": "completed"
    },
    "tags": []
   },
   "outputs": [
    {
     "name": "stdout",
     "output_type": "stream",
     "text": [
      "V2      Amount    0.531409\n",
      "Amount  V2        0.531409\n",
      "dtype: float64\n"
     ]
    }
   ],
   "source": [
    "# Filtering those with some signigicant correlation coefficients\n",
    "matrix = df.corr()\n",
    "matrix = abs(matrix).unstack()\n",
    "matrix = matrix[matrix.between(0.5, 1, inclusive='neither')]\n",
    "\n",
    "print(matrix)"
   ]
  },
  {
   "cell_type": "markdown",
   "id": "46852876-6012-47fa-9e5b-8303768dd36f",
   "metadata": {},
   "source": [
    "**Takeaway:** It appears that the V2 variable has a notable correlation to the Transaction Amount variable. Since most of them have been anonymized, we cannot make any further conclusion or analysis."
   ]
  },
  {
   "cell_type": "markdown",
   "id": "3b939b36",
   "metadata": {
    "papermill": {
     "duration": 0.05989,
     "end_time": "2022-08-16T04:04:16.117960",
     "exception": false,
     "start_time": "2022-08-16T04:04:16.058070",
     "status": "completed"
    },
    "tags": []
   },
   "source": [
    "# 3. Data Processing"
   ]
  },
  {
   "cell_type": "code",
   "execution_count": 9,
   "id": "66730c52-46bf-46a1-abbe-a3c392e5354b",
   "metadata": {},
   "outputs": [],
   "source": [
    "## Simple processing steps\n",
    "def basic_processing(data, col_drop, col_rename):\n",
    "    \"\"\" Basic data processing: drop/rename columns, remove duplicate(s)\n",
    "    \n",
    "    Parameters\n",
    "    ----------\n",
    "    data : dataframe\n",
    "        A dataset\n",
    "    col_drop : list\n",
    "        A list of column names to drop\n",
    "    col_rename : dict\n",
    "        A dictionary pairing the old and new column names desired\n",
    "\n",
    "    Returns\n",
    "    -------\n",
    "    data\n",
    "        a modified dataframe\n",
    "    \"\"\" \n",
    "    #Drop the 'Serial No.' column\n",
    "    if len(col_drop) > 0:\n",
    "        data.drop(col_drop, axis=1, inplace=True)\n",
    "\n",
    "    # Renaming the target variable and one predictor\n",
    "    if col_rename:\n",
    "        data.rename(columns=col_rename, inplace=True)\n",
    "    \n",
    "    # Removing any Duplicate Observations if any\n",
    "    data.drop_duplicates(keep='first', inplace=True)\n",
    "    return data"
   ]
  },
  {
   "cell_type": "code",
   "execution_count": 10,
   "id": "fe8575c9-646b-49ff-a71b-44ad4c88a7d7",
   "metadata": {},
   "outputs": [
    {
     "data": {
      "text/html": [
       "<div>\n",
       "<style scoped>\n",
       "    .dataframe tbody tr th:only-of-type {\n",
       "        vertical-align: middle;\n",
       "    }\n",
       "\n",
       "    .dataframe tbody tr th {\n",
       "        vertical-align: top;\n",
       "    }\n",
       "\n",
       "    .dataframe thead th {\n",
       "        text-align: right;\n",
       "    }\n",
       "</style>\n",
       "<table border=\"1\" class=\"dataframe\">\n",
       "  <thead>\n",
       "    <tr style=\"text-align: right;\">\n",
       "      <th></th>\n",
       "      <th>Time</th>\n",
       "      <th>V1</th>\n",
       "      <th>V2</th>\n",
       "      <th>V3</th>\n",
       "      <th>V4</th>\n",
       "      <th>V5</th>\n",
       "      <th>V6</th>\n",
       "      <th>V7</th>\n",
       "      <th>V8</th>\n",
       "      <th>V9</th>\n",
       "      <th>...</th>\n",
       "      <th>V21</th>\n",
       "      <th>V22</th>\n",
       "      <th>V23</th>\n",
       "      <th>V24</th>\n",
       "      <th>V25</th>\n",
       "      <th>V26</th>\n",
       "      <th>V27</th>\n",
       "      <th>V28</th>\n",
       "      <th>Amount</th>\n",
       "      <th>target</th>\n",
       "    </tr>\n",
       "  </thead>\n",
       "  <tbody>\n",
       "    <tr>\n",
       "      <th>0</th>\n",
       "      <td>0.0</td>\n",
       "      <td>-1.359807</td>\n",
       "      <td>-0.072781</td>\n",
       "      <td>2.536347</td>\n",
       "      <td>1.378155</td>\n",
       "      <td>-0.338321</td>\n",
       "      <td>0.462388</td>\n",
       "      <td>0.239599</td>\n",
       "      <td>0.098698</td>\n",
       "      <td>0.363787</td>\n",
       "      <td>...</td>\n",
       "      <td>-0.018307</td>\n",
       "      <td>0.277838</td>\n",
       "      <td>-0.110474</td>\n",
       "      <td>0.066928</td>\n",
       "      <td>0.128539</td>\n",
       "      <td>-0.189115</td>\n",
       "      <td>0.133558</td>\n",
       "      <td>-0.021053</td>\n",
       "      <td>149.62</td>\n",
       "      <td>0</td>\n",
       "    </tr>\n",
       "    <tr>\n",
       "      <th>1</th>\n",
       "      <td>0.0</td>\n",
       "      <td>1.191857</td>\n",
       "      <td>0.266151</td>\n",
       "      <td>0.166480</td>\n",
       "      <td>0.448154</td>\n",
       "      <td>0.060018</td>\n",
       "      <td>-0.082361</td>\n",
       "      <td>-0.078803</td>\n",
       "      <td>0.085102</td>\n",
       "      <td>-0.255425</td>\n",
       "      <td>...</td>\n",
       "      <td>-0.225775</td>\n",
       "      <td>-0.638672</td>\n",
       "      <td>0.101288</td>\n",
       "      <td>-0.339846</td>\n",
       "      <td>0.167170</td>\n",
       "      <td>0.125895</td>\n",
       "      <td>-0.008983</td>\n",
       "      <td>0.014724</td>\n",
       "      <td>2.69</td>\n",
       "      <td>0</td>\n",
       "    </tr>\n",
       "    <tr>\n",
       "      <th>2</th>\n",
       "      <td>1.0</td>\n",
       "      <td>-1.358354</td>\n",
       "      <td>-1.340163</td>\n",
       "      <td>1.773209</td>\n",
       "      <td>0.379780</td>\n",
       "      <td>-0.503198</td>\n",
       "      <td>1.800499</td>\n",
       "      <td>0.791461</td>\n",
       "      <td>0.247676</td>\n",
       "      <td>-1.514654</td>\n",
       "      <td>...</td>\n",
       "      <td>0.247998</td>\n",
       "      <td>0.771679</td>\n",
       "      <td>0.909412</td>\n",
       "      <td>-0.689281</td>\n",
       "      <td>-0.327642</td>\n",
       "      <td>-0.139097</td>\n",
       "      <td>-0.055353</td>\n",
       "      <td>-0.059752</td>\n",
       "      <td>378.66</td>\n",
       "      <td>0</td>\n",
       "    </tr>\n",
       "    <tr>\n",
       "      <th>3</th>\n",
       "      <td>1.0</td>\n",
       "      <td>-0.966272</td>\n",
       "      <td>-0.185226</td>\n",
       "      <td>1.792993</td>\n",
       "      <td>-0.863291</td>\n",
       "      <td>-0.010309</td>\n",
       "      <td>1.247203</td>\n",
       "      <td>0.237609</td>\n",
       "      <td>0.377436</td>\n",
       "      <td>-1.387024</td>\n",
       "      <td>...</td>\n",
       "      <td>-0.108300</td>\n",
       "      <td>0.005274</td>\n",
       "      <td>-0.190321</td>\n",
       "      <td>-1.175575</td>\n",
       "      <td>0.647376</td>\n",
       "      <td>-0.221929</td>\n",
       "      <td>0.062723</td>\n",
       "      <td>0.061458</td>\n",
       "      <td>123.50</td>\n",
       "      <td>0</td>\n",
       "    </tr>\n",
       "    <tr>\n",
       "      <th>4</th>\n",
       "      <td>2.0</td>\n",
       "      <td>-1.158233</td>\n",
       "      <td>0.877737</td>\n",
       "      <td>1.548718</td>\n",
       "      <td>0.403034</td>\n",
       "      <td>-0.407193</td>\n",
       "      <td>0.095921</td>\n",
       "      <td>0.592941</td>\n",
       "      <td>-0.270533</td>\n",
       "      <td>0.817739</td>\n",
       "      <td>...</td>\n",
       "      <td>-0.009431</td>\n",
       "      <td>0.798278</td>\n",
       "      <td>-0.137458</td>\n",
       "      <td>0.141267</td>\n",
       "      <td>-0.206010</td>\n",
       "      <td>0.502292</td>\n",
       "      <td>0.219422</td>\n",
       "      <td>0.215153</td>\n",
       "      <td>69.99</td>\n",
       "      <td>0</td>\n",
       "    </tr>\n",
       "  </tbody>\n",
       "</table>\n",
       "<p>5 rows × 31 columns</p>\n",
       "</div>"
      ],
      "text/plain": [
       "   Time        V1        V2        V3        V4        V5        V6        V7  \\\n",
       "0   0.0 -1.359807 -0.072781  2.536347  1.378155 -0.338321  0.462388  0.239599   \n",
       "1   0.0  1.191857  0.266151  0.166480  0.448154  0.060018 -0.082361 -0.078803   \n",
       "2   1.0 -1.358354 -1.340163  1.773209  0.379780 -0.503198  1.800499  0.791461   \n",
       "3   1.0 -0.966272 -0.185226  1.792993 -0.863291 -0.010309  1.247203  0.237609   \n",
       "4   2.0 -1.158233  0.877737  1.548718  0.403034 -0.407193  0.095921  0.592941   \n",
       "\n",
       "         V8        V9  ...       V21       V22       V23       V24       V25  \\\n",
       "0  0.098698  0.363787  ... -0.018307  0.277838 -0.110474  0.066928  0.128539   \n",
       "1  0.085102 -0.255425  ... -0.225775 -0.638672  0.101288 -0.339846  0.167170   \n",
       "2  0.247676 -1.514654  ...  0.247998  0.771679  0.909412 -0.689281 -0.327642   \n",
       "3  0.377436 -1.387024  ... -0.108300  0.005274 -0.190321 -1.175575  0.647376   \n",
       "4 -0.270533  0.817739  ... -0.009431  0.798278 -0.137458  0.141267 -0.206010   \n",
       "\n",
       "        V26       V27       V28  Amount  target  \n",
       "0 -0.189115  0.133558 -0.021053  149.62       0  \n",
       "1  0.125895 -0.008983  0.014724    2.69       0  \n",
       "2 -0.139097 -0.055353 -0.059752  378.66       0  \n",
       "3 -0.221929  0.062723  0.061458  123.50       0  \n",
       "4  0.502292  0.219422  0.215153   69.99       0  \n",
       "\n",
       "[5 rows x 31 columns]"
      ]
     },
     "execution_count": 10,
     "metadata": {},
     "output_type": "execute_result"
    }
   ],
   "source": [
    "df = basic_processing(df, col_drop = [], col_rename = {\"Class\": \"target\"})\n",
    "df.head()"
   ]
  },
  {
   "cell_type": "code",
   "execution_count": 11,
   "id": "c5648b23-76a6-40cc-aeb3-659b68b26287",
   "metadata": {},
   "outputs": [],
   "source": [
    "# Applying statistical imputation\n",
    "def imputation_missing_val(data):\n",
    "    \"\"\" Impute missing value using median and mode\n",
    "    \n",
    "    Parameters\n",
    "    ----------\n",
    "    data : dataframe\n",
    "        A dataset\n",
    "\n",
    "    Returns\n",
    "    -------\n",
    "    data\n",
    "        an imputed dataframe\n",
    "    \"\"\" \n",
    "    \n",
    "    # Filter the columns with missing values\n",
    "    null_cols = data.columns[data.isna().any()].tolist()\n",
    "    \n",
    "    for col in null_cols:\n",
    "        # Impute using median for numeric columns\n",
    "        if data[col].dtype.kind in 'iufc':\n",
    "            data[col] = data[col].transform(lambda x: x.fillna(x.median()))\n",
    "            \n",
    "        # Impute using median for non-numeric columns\n",
    "        else:\n",
    "            data[col] = data[col].transform(lambda x: x.fillna(x.mode()))\n",
    "    \n",
    "    return data"
   ]
  },
  {
   "cell_type": "code",
   "execution_count": 12,
   "id": "b3aea7b2-7465-4117-bca5-2dce95f91a47",
   "metadata": {},
   "outputs": [],
   "source": [
    "# Identify missing values and dealing with them if present\n",
    "def identify_missing_val(data):\n",
    "    \"\"\" Identify missing/na values\n",
    "    \n",
    "    Parameters\n",
    "    ----------\n",
    "    data : dataframe\n",
    "        A dataset\n",
    "\n",
    "    Returns\n",
    "    -------\n",
    "    data\n",
    "        a dataframe with no missing values \n",
    "        either after imputation or original format\n",
    "    \"\"\"\n",
    "    \n",
    "    # Count number of missing values \n",
    "    sum_nulls = data.isna().sum().sum()\n",
    "    print(\"With %d null/na values in the dataset:\" % sum_nulls)\n",
    "    \n",
    "    # Only visualize if missing values present\n",
    "    if sum_nulls > 0: \n",
    "        print(\"- We need to resolve this issue.\")\n",
    "        plt.figure(figsize=(10,6))\n",
    "        sns.heatmap(df.isna().transpose(),\n",
    "                    cmap=\"YlGnBu\",\n",
    "                    cbar_kws={'label': 'Missing Data'})\n",
    "        plt.xlabel(\"Features\")\n",
    "        plt.ylabel(\"Observations\")\n",
    "        plt.show()\n",
    "        \n",
    "        # Proceeding in imputing the dataset with missing values\n",
    "        data = imputation_missing_val(data)\n",
    "        sum_nulls = data.isna().sum().sum()\n",
    "        print(\"After imputation, we have missing {:d} values in our data.\" % sum_nulls)\n",
    "    else:\n",
    "        print(\"- No action needed\")\n",
    "        pass\n",
    "    return data"
   ]
  },
  {
   "cell_type": "code",
   "execution_count": 13,
   "id": "c6c597ab-4305-48a2-b62c-8fd1e091e878",
   "metadata": {},
   "outputs": [
    {
     "name": "stdout",
     "output_type": "stream",
     "text": [
      "With 0 null/na values in the dataset:\n",
      "- No action needed\n"
     ]
    },
    {
     "data": {
      "text/html": [
       "<div>\n",
       "<style scoped>\n",
       "    .dataframe tbody tr th:only-of-type {\n",
       "        vertical-align: middle;\n",
       "    }\n",
       "\n",
       "    .dataframe tbody tr th {\n",
       "        vertical-align: top;\n",
       "    }\n",
       "\n",
       "    .dataframe thead th {\n",
       "        text-align: right;\n",
       "    }\n",
       "</style>\n",
       "<table border=\"1\" class=\"dataframe\">\n",
       "  <thead>\n",
       "    <tr style=\"text-align: right;\">\n",
       "      <th></th>\n",
       "      <th>Time</th>\n",
       "      <th>V1</th>\n",
       "      <th>V2</th>\n",
       "      <th>V3</th>\n",
       "      <th>V4</th>\n",
       "      <th>V5</th>\n",
       "      <th>V6</th>\n",
       "      <th>V7</th>\n",
       "      <th>V8</th>\n",
       "      <th>V9</th>\n",
       "      <th>...</th>\n",
       "      <th>V21</th>\n",
       "      <th>V22</th>\n",
       "      <th>V23</th>\n",
       "      <th>V24</th>\n",
       "      <th>V25</th>\n",
       "      <th>V26</th>\n",
       "      <th>V27</th>\n",
       "      <th>V28</th>\n",
       "      <th>Amount</th>\n",
       "      <th>target</th>\n",
       "    </tr>\n",
       "  </thead>\n",
       "  <tbody>\n",
       "    <tr>\n",
       "      <th>0</th>\n",
       "      <td>0.0</td>\n",
       "      <td>-1.359807</td>\n",
       "      <td>-0.072781</td>\n",
       "      <td>2.536347</td>\n",
       "      <td>1.378155</td>\n",
       "      <td>-0.338321</td>\n",
       "      <td>0.462388</td>\n",
       "      <td>0.239599</td>\n",
       "      <td>0.098698</td>\n",
       "      <td>0.363787</td>\n",
       "      <td>...</td>\n",
       "      <td>-0.018307</td>\n",
       "      <td>0.277838</td>\n",
       "      <td>-0.110474</td>\n",
       "      <td>0.066928</td>\n",
       "      <td>0.128539</td>\n",
       "      <td>-0.189115</td>\n",
       "      <td>0.133558</td>\n",
       "      <td>-0.021053</td>\n",
       "      <td>149.62</td>\n",
       "      <td>0</td>\n",
       "    </tr>\n",
       "    <tr>\n",
       "      <th>1</th>\n",
       "      <td>0.0</td>\n",
       "      <td>1.191857</td>\n",
       "      <td>0.266151</td>\n",
       "      <td>0.166480</td>\n",
       "      <td>0.448154</td>\n",
       "      <td>0.060018</td>\n",
       "      <td>-0.082361</td>\n",
       "      <td>-0.078803</td>\n",
       "      <td>0.085102</td>\n",
       "      <td>-0.255425</td>\n",
       "      <td>...</td>\n",
       "      <td>-0.225775</td>\n",
       "      <td>-0.638672</td>\n",
       "      <td>0.101288</td>\n",
       "      <td>-0.339846</td>\n",
       "      <td>0.167170</td>\n",
       "      <td>0.125895</td>\n",
       "      <td>-0.008983</td>\n",
       "      <td>0.014724</td>\n",
       "      <td>2.69</td>\n",
       "      <td>0</td>\n",
       "    </tr>\n",
       "    <tr>\n",
       "      <th>2</th>\n",
       "      <td>1.0</td>\n",
       "      <td>-1.358354</td>\n",
       "      <td>-1.340163</td>\n",
       "      <td>1.773209</td>\n",
       "      <td>0.379780</td>\n",
       "      <td>-0.503198</td>\n",
       "      <td>1.800499</td>\n",
       "      <td>0.791461</td>\n",
       "      <td>0.247676</td>\n",
       "      <td>-1.514654</td>\n",
       "      <td>...</td>\n",
       "      <td>0.247998</td>\n",
       "      <td>0.771679</td>\n",
       "      <td>0.909412</td>\n",
       "      <td>-0.689281</td>\n",
       "      <td>-0.327642</td>\n",
       "      <td>-0.139097</td>\n",
       "      <td>-0.055353</td>\n",
       "      <td>-0.059752</td>\n",
       "      <td>378.66</td>\n",
       "      <td>0</td>\n",
       "    </tr>\n",
       "    <tr>\n",
       "      <th>3</th>\n",
       "      <td>1.0</td>\n",
       "      <td>-0.966272</td>\n",
       "      <td>-0.185226</td>\n",
       "      <td>1.792993</td>\n",
       "      <td>-0.863291</td>\n",
       "      <td>-0.010309</td>\n",
       "      <td>1.247203</td>\n",
       "      <td>0.237609</td>\n",
       "      <td>0.377436</td>\n",
       "      <td>-1.387024</td>\n",
       "      <td>...</td>\n",
       "      <td>-0.108300</td>\n",
       "      <td>0.005274</td>\n",
       "      <td>-0.190321</td>\n",
       "      <td>-1.175575</td>\n",
       "      <td>0.647376</td>\n",
       "      <td>-0.221929</td>\n",
       "      <td>0.062723</td>\n",
       "      <td>0.061458</td>\n",
       "      <td>123.50</td>\n",
       "      <td>0</td>\n",
       "    </tr>\n",
       "    <tr>\n",
       "      <th>4</th>\n",
       "      <td>2.0</td>\n",
       "      <td>-1.158233</td>\n",
       "      <td>0.877737</td>\n",
       "      <td>1.548718</td>\n",
       "      <td>0.403034</td>\n",
       "      <td>-0.407193</td>\n",
       "      <td>0.095921</td>\n",
       "      <td>0.592941</td>\n",
       "      <td>-0.270533</td>\n",
       "      <td>0.817739</td>\n",
       "      <td>...</td>\n",
       "      <td>-0.009431</td>\n",
       "      <td>0.798278</td>\n",
       "      <td>-0.137458</td>\n",
       "      <td>0.141267</td>\n",
       "      <td>-0.206010</td>\n",
       "      <td>0.502292</td>\n",
       "      <td>0.219422</td>\n",
       "      <td>0.215153</td>\n",
       "      <td>69.99</td>\n",
       "      <td>0</td>\n",
       "    </tr>\n",
       "  </tbody>\n",
       "</table>\n",
       "<p>5 rows × 31 columns</p>\n",
       "</div>"
      ],
      "text/plain": [
       "   Time        V1        V2        V3        V4        V5        V6        V7  \\\n",
       "0   0.0 -1.359807 -0.072781  2.536347  1.378155 -0.338321  0.462388  0.239599   \n",
       "1   0.0  1.191857  0.266151  0.166480  0.448154  0.060018 -0.082361 -0.078803   \n",
       "2   1.0 -1.358354 -1.340163  1.773209  0.379780 -0.503198  1.800499  0.791461   \n",
       "3   1.0 -0.966272 -0.185226  1.792993 -0.863291 -0.010309  1.247203  0.237609   \n",
       "4   2.0 -1.158233  0.877737  1.548718  0.403034 -0.407193  0.095921  0.592941   \n",
       "\n",
       "         V8        V9  ...       V21       V22       V23       V24       V25  \\\n",
       "0  0.098698  0.363787  ... -0.018307  0.277838 -0.110474  0.066928  0.128539   \n",
       "1  0.085102 -0.255425  ... -0.225775 -0.638672  0.101288 -0.339846  0.167170   \n",
       "2  0.247676 -1.514654  ...  0.247998  0.771679  0.909412 -0.689281 -0.327642   \n",
       "3  0.377436 -1.387024  ... -0.108300  0.005274 -0.190321 -1.175575  0.647376   \n",
       "4 -0.270533  0.817739  ... -0.009431  0.798278 -0.137458  0.141267 -0.206010   \n",
       "\n",
       "        V26       V27       V28  Amount  target  \n",
       "0 -0.189115  0.133558 -0.021053  149.62       0  \n",
       "1  0.125895 -0.008983  0.014724    2.69       0  \n",
       "2 -0.139097 -0.055353 -0.059752  378.66       0  \n",
       "3 -0.221929  0.062723  0.061458  123.50       0  \n",
       "4  0.502292  0.219422  0.215153   69.99       0  \n",
       "\n",
       "[5 rows x 31 columns]"
      ]
     },
     "execution_count": 13,
     "metadata": {},
     "output_type": "execute_result"
    }
   ],
   "source": [
    "df = identify_missing_val(df)\n",
    "df.head()"
   ]
  },
  {
   "cell_type": "markdown",
   "id": "4e6bc69d",
   "metadata": {
    "papermill": {
     "duration": 0.058141,
     "end_time": "2022-08-16T04:04:34.416160",
     "exception": false,
     "start_time": "2022-08-16T04:04:34.358019",
     "status": "completed"
    },
    "tags": []
   },
   "source": [
    "**Takeaway:** We have no missing values given the pre-processing done prior."
   ]
  },
  {
   "cell_type": "markdown",
   "id": "319c9e41",
   "metadata": {
    "papermill": {
     "duration": 0.058298,
     "end_time": "2022-08-16T04:04:34.533963",
     "exception": false,
     "start_time": "2022-08-16T04:04:34.475665",
     "status": "completed"
    },
    "tags": []
   },
   "source": [
    "**Note**:\n",
    "With most predictors transformed, there will be little chance for any outliers in the data points for V1, V2, ..., V28. So, we will only examine Amount as the only meaningful numeric feature."
   ]
  },
  {
   "cell_type": "code",
   "execution_count": 14,
   "id": "65e4215e",
   "metadata": {
    "papermill": {
     "duration": 0.366226,
     "end_time": "2022-08-16T04:04:34.959111",
     "exception": false,
     "start_time": "2022-08-16T04:04:34.592885",
     "status": "completed"
    },
    "tags": []
   },
   "outputs": [
    {
     "data": {
      "image/png": "[encoded data removed]",
      "text/plain": [
       "<Figure size 864x576 with 1 Axes>"
      ]
     },
     "metadata": {},
     "output_type": "display_data"
    }
   ],
   "source": [
    "## Outliers\n",
    "sns.boxplot(data=df, x='Amount')\n",
    "plt.show()"
   ]
  },
  {
   "cell_type": "markdown",
   "id": "3754dd3e",
   "metadata": {
    "papermill": {
     "duration": 0.061076,
     "end_time": "2022-08-16T04:04:35.080045",
     "exception": false,
     "start_time": "2022-08-16T04:04:35.018969",
     "status": "completed"
    },
    "tags": []
   },
   "source": [
    "**Takeaway:** From the boxplot below, we can observe a non-negligible number of outliers on the upper end of the distribution. It would denote transactions with high amounts in the order of thousands of dollars. We would assess the effect of this skewed distribution when building the predictive models in terms of feature transformation or selecting models robust to such feature types.\n",
    "\n",
    "**Note:** Now, we will proceed in doing the same thing with each continuous independent variable"
   ]
  },
  {
   "cell_type": "code",
   "execution_count": 15,
   "id": "df0e340e-b6c8-478d-9c36-6e80e745b28f",
   "metadata": {},
   "outputs": [],
   "source": [
    "# Detecting outliers using z-score\n",
    "def outliers_detection(data, threshold=3):\n",
    "    \"\"\" Function to detect outliers\n",
    "    \n",
    "    Parameters\n",
    "    ----------\n",
    "    data : dataframe\n",
    "        A dataset\n",
    "    threshold:\n",
    "        The threshold at which a value is an outlier\n",
    "        ±2.5σ from the µ\n",
    "\n",
    "    Returns\n",
    "    -------\n",
    "    data\n",
    "        a dataframe with no missing values \n",
    "        either after imputation or original format\n",
    "    \"\"\"\n",
    "    print(\"At ±\", threshold, \"standard deviation from the mean:\")\n",
    "    for col in data.columns[:-1]:\n",
    "        # Calculating the z-score for each predictor\n",
    "        var = data[col]\n",
    "        z = np.abs(stats.zscore(var))\n",
    "\n",
    "        # Outlier\n",
    "        pos = list(np.where(z > threshold)[0])\n",
    "        no_of_outliers = len(pos)\n",
    "        if no_of_outliers > 0:\n",
    "            print(\"\\t- \", col, \"variable contains\", no_of_outliers,  \"outliers\")\n",
    "            if no_of_outliers < 10:\n",
    "                outliers = list(var[pos])\n",
    "                print(outliers)\n",
    "            else:\n",
    "                continue\n",
    "\n",
    "        else:\n",
    "            print(\"\\t- No outliers detected for the\", col, \"variable\")"
   ]
  },
  {
   "cell_type": "code",
   "execution_count": 16,
   "id": "2b146a71-0eb5-4211-81fd-d98f9aa4dbcd",
   "metadata": {},
   "outputs": [
    {
     "name": "stdout",
     "output_type": "stream",
     "text": [
      "At ± 3 standard deviation from the mean:\n",
      "\t- No outliers detected for the Time variable\n",
      "\t-  V1 variable contains 3647 outliers\n",
      "\t-  V2 variable contains 4303 outliers\n",
      "\t-  V3 variable contains 1953 outliers\n",
      "\t-  V4 variable contains 3101 outliers\n",
      "\t-  V5 variable contains 2913 outliers\n",
      "\t-  V6 variable contains 4638 outliers\n",
      "\t-  V7 variable contains 3404 outliers\n",
      "\t-  V8 variable contains 4205 outliers\n",
      "\t-  V9 variable contains 2253 outliers\n",
      "\t-  V10 variable contains 3450 outliers\n",
      "\t-  V11 variable contains 661 outliers\n",
      "\t-  V12 variable contains 3446 outliers\n",
      "\t-  V13 variable contains 1189 outliers\n",
      "\t-  V14 variable contains 3378 outliers\n",
      "\t-  V15 variable contains 1252 outliers\n",
      "\t-  V16 variable contains 2085 outliers\n",
      "\t-  V17 variable contains 2520 outliers\n",
      "\t-  V18 variable contains 1669 outliers\n",
      "\t-  V19 variable contains 3395 outliers\n",
      "\t-  V20 variable contains 4594 outliers\n",
      "\t-  V21 variable contains 4096 outliers\n",
      "\t-  V22 variable contains 1212 outliers\n",
      "\t-  V23 variable contains 3356 outliers\n",
      "\t-  V24 variable contains 659 outliers\n",
      "\t-  V25 variable contains 2799 outliers\n",
      "\t-  V26 variable contains 1044 outliers\n",
      "\t-  V27 variable contains 4775 outliers\n",
      "\t-  V28 variable contains 3236 outliers\n",
      "\t-  Amount variable contains 4063 outliers\n"
     ]
    }
   ],
   "source": [
    "outliers_detection(df)"
   ]
  },
  {
   "cell_type": "markdown",
   "id": "9d5deb9e-0888-4745-b8f4-87598d358746",
   "metadata": {},
   "source": [
    "**Takeaway:** As we thought about handling those outliers, we decided to keep them all since ggood data science practices advocates to conserve as many data points as possible. Thus, allowing us to limit the biases simply to produce a better fitting model or statistically significant results."
   ]
  },
  {
   "cell_type": "markdown",
   "id": "cb0d4b96",
   "metadata": {
    "papermill": {
     "duration": 0.063094,
     "end_time": "2022-08-16T04:04:42.491851",
     "exception": false,
     "start_time": "2022-08-16T04:04:42.428757",
     "status": "completed"
    },
    "tags": []
   },
   "source": [
    "# 4. Exploratory Data Analysis"
   ]
  },
  {
   "cell_type": "markdown",
   "id": "16a5bd96",
   "metadata": {
    "papermill": {
     "duration": 0.063959,
     "end_time": "2022-08-16T04:04:42.619266",
     "exception": false,
     "start_time": "2022-08-16T04:04:42.555307",
     "status": "completed"
    },
    "tags": []
   },
   "source": [
    "**Note:** In an attempt to answer the first question, we first split our dataset by target types; in other words, fraudulent and non-fraudulent transactions. We then plot the histogram side by side to observe any unusual behavior. In doing so, the non-fraud transactions were heavily right-skewed, making it quite challenging to compare the plots. To solve this issue, we used a logarithmic transformation, making it easier to see and thus, evaluate any similarities and differences."
   ]
  },
  {
   "cell_type": "markdown",
   "id": "e17798b2-df75-433b-ba16-5bdbc2a28919",
   "metadata": {
    "tags": []
   },
   "source": [
    "### How does Amount's distribution behaves across targetes?"
   ]
  },
  {
   "cell_type": "code",
   "execution_count": 17,
   "id": "5ee673f6",
   "metadata": {
    "papermill": {
     "duration": 26.494341,
     "end_time": "2022-08-16T04:05:09.176682",
     "exception": false,
     "start_time": "2022-08-16T04:04:42.682341",
     "status": "completed"
    },
    "tags": []
   },
   "outputs": [
    {
     "data": {
      "image/png": "[encoded data removed]",
      "text/plain": [
       "<Figure size 864x576 with 2 Axes>"
      ]
     },
     "metadata": {},
     "output_type": "display_data"
    }
   ],
   "source": [
    "# Splitting data by fraud target\n",
    "df_no_fraud = df[df['target'] == 0]\n",
    "df_fraud = df[df['target'] == 1]\n",
    "\n",
    "# Histogram for Amount Distribution per target\n",
    "fig, (ax1, ax2) = plt.subplots(1, 2, figsize=(12, 8))\n",
    "fig.suptitle('Distribution of Transaction Amount across target')\n",
    "sns.histplot(ax=ax1, data=df_no_fraud, x='Amount', stat='probability').set(xscale=\"log\")\n",
    "sns.histplot(ax=ax2, data=df_fraud, x='Amount', stat='probability').set(xscale=\"log\")\n",
    "plt.show()"
   ]
  },
  {
   "cell_type": "markdown",
   "id": "7c08b878",
   "metadata": {
    "papermill": {
     "duration": 0.064989,
     "end_time": "2022-08-16T04:05:09.307287",
     "exception": false,
     "start_time": "2022-08-16T04:05:09.242298",
     "status": "completed"
    },
    "tags": []
   },
   "source": [
    "**Takeaway:** Before making a note on the plots, we will first explain how to interpret logarithmic scales. In short, log scales show relative values rather than absolute ones. Indeed, 2 minus 1 would be displayed similarly to 9999 minus 9998, given that we are dealing with percentages here. In context, the histograms below would depict the order of growth of transaction value. Both distributions represent a similar trajectory, with most transactions on the lower end of the graph. It stays consistent with the mean value found at USD88, even with max values averaging USD20,000."
   ]
  },
  {
   "cell_type": "code",
   "execution_count": 18,
   "id": "6754a8a7",
   "metadata": {
    "papermill": {
     "duration": 26.349107,
     "end_time": "2022-08-16T04:05:35.738183",
     "exception": false,
     "start_time": "2022-08-16T04:05:09.389076",
     "status": "completed"
    },
    "tags": []
   },
   "outputs": [
    {
     "data": {
      "image/png": "[encoded data removed]",
      "text/plain": [
       "<Figure size 864x576 with 2 Axes>"
      ]
     },
     "metadata": {},
     "output_type": "display_data"
    }
   ],
   "source": [
    "# Histogram for Amount Distribution per target after log transformation\n",
    "fig, (ax1, ax2) = plt.subplots(1, 2, figsize=(12, 8))\n",
    "fig.suptitle('Distribution of Transaction Amount across the Transaction Type')\n",
    "sns.histplot(ax=ax1, data=df_no_fraud, x='Amount', stat='probability').set(xscale=\"log\")\n",
    "sns.histplot(ax=ax2, data=df_fraud, x='Amount', stat='probability').set(xscale=\"log\")\n",
    "plt.show()"
   ]
  },
  {
   "cell_type": "markdown",
   "id": "b6ecb418",
   "metadata": {
    "execution": {
     "iopub.execute_input": "2022-01-26T13:54:39.6243Z",
     "iopub.status.busy": "2022-01-26T13:54:39.623398Z",
     "iopub.status.idle": "2022-01-26T13:54:39.628399Z",
     "shell.execute_reply": "2022-01-26T13:54:39.627607Z",
     "shell.execute_reply.started": "2022-01-26T13:54:39.624254Z"
    },
    "papermill": {
     "duration": 0.064848,
     "end_time": "2022-08-16T04:05:35.869341",
     "exception": false,
     "start_time": "2022-08-16T04:05:35.804493",
     "status": "completed"
    },
    "tags": []
   },
   "source": [
    "**Note:** For the second question, we will check the timing of transactions to detect anything unusual. We will use only the fraud dataset and plot a scatterplot accordingly. "
   ]
  },
  {
   "cell_type": "markdown",
   "id": "8a66c8cc-d976-4e0b-9305-80a7704d3710",
   "metadata": {},
   "source": [
    "### Are there any noteworthy point in time where fraud occured?"
   ]
  },
  {
   "cell_type": "code",
   "execution_count": 19,
   "id": "f8a6b2f7",
   "metadata": {
    "papermill": {
     "duration": 0.381549,
     "end_time": "2022-08-16T04:05:36.318175",
     "exception": false,
     "start_time": "2022-08-16T04:05:35.936626",
     "status": "completed"
    },
    "tags": []
   },
   "outputs": [
    {
     "data": {
      "image/png": "[encoded data removed]",
      "text/plain": [
       "<Figure size 864x576 with 1 Axes>"
      ]
     },
     "metadata": {},
     "output_type": "display_data"
    }
   ],
   "source": [
    "# Scatterplot\n",
    "sns.scatterplot(data=df_fraud, x='Time', y='Amount')\n",
    "plt.show()"
   ]
  },
  {
   "cell_type": "markdown",
   "id": "44578d07",
   "metadata": {
    "papermill": {
     "duration": 0.069968,
     "end_time": "2022-08-16T04:05:36.457038",
     "exception": false,
     "start_time": "2022-08-16T04:05:36.387070",
     "status": "completed"
    },
    "tags": []
   },
   "source": [
    "**Takeaway:** The graph above does not appear that there is a clustering pattern on a time interval. So, we would assume that fraud occurred across time quite randomly. "
   ]
  },
  {
   "cell_type": "markdown",
   "id": "1dd4d66e",
   "metadata": {
    "papermill": {
     "duration": 0.06718,
     "end_time": "2022-08-16T04:05:36.592005",
     "exception": false,
     "start_time": "2022-08-16T04:05:36.524825",
     "status": "completed"
    },
    "tags": []
   },
   "source": [
    "# 5. Class Imbalance"
   ]
  },
  {
   "cell_type": "markdown",
   "id": "8f7c88af",
   "metadata": {
    "papermill": {
     "duration": 0.068854,
     "end_time": "2022-08-16T04:05:36.729880",
     "exception": false,
     "start_time": "2022-08-16T04:05:36.661026",
     "status": "completed"
    },
    "tags": []
   },
   "source": [
    "**Note:** Our diagnostics observed a stark imbalance between targetes of transactions, with fraud only making up 0.2% of all transaction. Given the limited pool of examples to train, it poses an issue in terms of building an effective machine model to predict if there is a fraud. With the minority target being so small, we would expect poor performance on the critical task of detecting fraud transactions. In that vein, we will use different sampling methods (Undersampling & Oversampling) to tackle this problem.\n",
    "\n",
    "* **SMOTE** (Synthetic Minority Oversampling Technique) is an oversampling approach to the minority target. In context, it would mean to randomly increase fraud examples by \"artificially\" replicating to have a more balanced target distribution. Further information [here](https://rikunert.com/smote_explained).\n",
    "* **Near-Miss Algorithm** is an undersampling approach on the majority target. In context, we select examples to keep out of the training set based on the distance of majority target examples to minority target examples. Further information [here](https://machinelearningmastery.com/undersampling-algorithms-for-imbalanced-targetification/).\n",
    "* **Combine over- and uner- sampling**: With the risk of overfitting with oversampling and the possibility to lose valuable information from undersampling, we will also consider combining both to rebalance the distribution. So, we shall proceed with the combination to offer curve out the risks we identified."
   ]
  },
  {
   "cell_type": "code",
   "execution_count": 24,
   "id": "af97b4aa-a97a-496c-9386-6afc94a0f83e",
   "metadata": {},
   "outputs": [],
   "source": [
    "def class_imbalance(data, sampling_methods={'over': RandomOverSampler(sampling_strategy=0.5),\n",
    "                                            'under':RandomUnderSampler(sampling_strategy=0.8)}):\n",
    "    \"\"\" Mitigate the risk of poor model performance using re-sampling methods\n",
    "    \n",
    "    Parameters\n",
    "    ----------\n",
    "    data: dataframe\n",
    "        A dataset\n",
    "    \n",
    "    sampling_methods: dictionary\n",
    "        Key-pair values of under- and over- sampling methods\n",
    "        \n",
    "    Returns\n",
    "    -------\n",
    "    X, y: arrays of values\n",
    "        Feature(s) and Target variable respectively with sampling methods done\n",
    "    \"\"\"\n",
    "    # Splitting features & target variable\n",
    "    X = df.drop(columns=['target'], axis=1)\n",
    "    y = df['target']\n",
    "    \n",
    "    ## Combined Sampling: SMOTE & NearMiss Sampling Algorithms\n",
    "    X_over, y_over = sampling_methods['over'].fit_resample(X, y)\n",
    "    X_sampled, y_sampled = sampling_methods['under'].fit_resample(X_over, y_over)\n",
    "    \n",
    "    return X_sampled, y_sampled"
   ]
  },
  {
   "cell_type": "code",
   "execution_count": 25,
   "id": "dff001b2-01da-4d97-a145-619e624e7be4",
   "metadata": {},
   "outputs": [],
   "source": [
    "X, y = class_imbalance(df)"
   ]
  },
  {
   "cell_type": "markdown",
   "id": "01bfd3de",
   "metadata": {
    "papermill": {
     "duration": 0.06938,
     "end_time": "2022-08-16T04:05:54.915190",
     "exception": false,
     "start_time": "2022-08-16T04:05:54.845810",
     "status": "completed"
    },
    "tags": []
   },
   "source": [
    "# 6. Dimensionality Reduction\n",
    "\n",
    "This section will use dimensionality reduction to trim down the number of features we have. Dimensionality reduction encapsulates the techniques reducing the input variables in our training data. In doing so, we hope to have a more straightforward but effective machine learning model structure and avoid any potential case of overfitting. We will be testing three different methods from Linear Algebra: **PCA, SVD, and LDA** and pick the one capturing the most variability in the datasets after reducing it to principal components.\n",
    "* **PCA** (Principal Component Analysis) takes data with m-columns projected to a subspace with n-features (n < m) while preserving the crucial information from the original data; in other words, PCA attempts to find the **principal components (or features)** as its names denote. Further information [here](https://machinelearningmastery.com/calculate-principal-component-analysis-scratch-python/). \n",
    "* **SVD** (Singular Value Decomposition) is a process breaking down a matrix into its constituents elements by factorizing it into three separate matrices: **M=UΣVᵗ**. Further information [here](https://machinelearningmastery.com/singular-value-decomposition-for-machine-learning/). \n",
    "    * M: original matrix\n",
    "    * U: left singular matrix (columns are left singular vectors) containing eigenvectors of matrix MMᵗ\n",
    "    * Σ: a diagonal matrix containing singular (eigen)values\n",
    "    * V: right singular matrix (columns are right singular vectors) containing  eigenvectors of matrix MᵗM.\n",
    "* **Factor Analysis** is a technique that is used to reduce a large number of variables into fewer numbers of factors.  This technique extracts maximum common variance from all variables and puts them into a common score.  As an index of all variables, we can use this score for further analysis. Futher information [here](https://www.alchemer.com/resources/blog/factor-analysis/). "
   ]
  },
  {
   "cell_type": "code",
   "execution_count": 26,
   "id": "6d981c82-aff8-4602-859b-83912112c5da",
   "metadata": {},
   "outputs": [],
   "source": [
    "def dimensionality_reduction(X, n=5,\n",
    "                             dimred_methods={'PCA':PCA(),'SVD':TruncatedSVD()}):\n",
    "    \"\"\" Deal with the multiple anonymized variables using dimensionality reduction\n",
    "    \n",
    "    Parameters\n",
    "    ----------\n",
    "    X: Array\n",
    "        Feature(s)\n",
    "        \n",
    "    n: Discrete number\n",
    "        Reduce the total number of features into n components\n",
    "        \n",
    "    dimred_methods: dictionary\n",
    "        Key-pair values of dimensionality reduction methods\n",
    "        \n",
    "    Returns\n",
    "    -------\n",
    "    X, y\n",
    "        Final Feature(s) and Target variables after dimensionality reduction\n",
    "    \"\"\"\n",
    "    \n",
    "    name, result = '', 0\n",
    "    for method_name, method_func in dimred_methods.items():\n",
    "        method_func.n_components = n\n",
    "        method_func.fit_transform(X)\n",
    "        exp_var = np.sum(method_func.explained_variance_ratio_)\n",
    "        if exp_var > result:\n",
    "            name = method_name \n",
    "            result = exp_var\n",
    "        else:\n",
    "            continue\n",
    "    final = dimred_methods[name]\n",
    "    final.n_components = n\n",
    "    \n",
    "    return final.fit_transform(X)\n"
   ]
  },
  {
   "cell_type": "code",
   "execution_count": 27,
   "id": "62517f15-2050-422e-9431-c196b1e749ce",
   "metadata": {},
   "outputs": [],
   "source": [
    "X_red = dimensionality_reduction(X)"
   ]
  },
  {
   "cell_type": "markdown",
   "id": "f579b2a2",
   "metadata": {
    "papermill": {
     "duration": 0.068626,
     "end_time": "2022-08-16T04:05:41.248590",
     "exception": false,
     "start_time": "2022-08-16T04:05:41.179964",
     "status": "completed"
    },
    "tags": []
   },
   "source": [
    "# 7. Machine Learning set-up\n",
    "\n",
    "Under this section, we will explain the procedure of two main splitting approach to estimate our models' performance. "
   ]
  },
  {
   "cell_type": "markdown",
   "id": "f824325f",
   "metadata": {
    "papermill": {
     "duration": 0.069168,
     "end_time": "2022-08-16T04:05:41.388102",
     "exception": false,
     "start_time": "2022-08-16T04:05:41.318934",
     "status": "completed"
    },
    "tags": []
   },
   "source": [
    "**Model Selection methods:** \n",
    "* **Train_test_split**: Often denoted as the most popular by its simplicity, the train-test split is a sampling technique dividing the dataset between training and testing sets. In doing so, the goal would be to have enough (but not too much) in our training set used for the machine learning model to predict the observations in the testing set as accurately as possible. Most would opt for a 70/30 training-testing split, respectively, others 80/20, 60/40, or whichever else works best for the case scenario. Further information [here](https://machinelearningmastery.com/train-test-split-for-evaluating-machine-learning-algorithms/). \n",
    "\n",
    "* **Cross-validation**: As the name would suggest, we will engage here in the process of validation to ensure reliability on our model. Cross-Validation is a statistical method applied in various ways to estimate the model's performance. Some examples are **Holdout Method, K-Fold, Stratified K-Fold, Leave-P-Out.**  Further information [here](https://machinelearningmastery.com/k-fold-cross-validation/) and [here](https://towardsdatascience.com/cross-validation-in-machine-learning-72924a69872f)."
   ]
  },
  {
   "cell_type": "code",
   "execution_count": 28,
   "id": "e17bd038-9395-47d1-8ca3-1d3412ff7f13",
   "metadata": {},
   "outputs": [],
   "source": [
    "def model_comparison(X, y, models):\n",
    "    \"\"\" Function to split data into training and testing set\n",
    "    \n",
    "    Parameters\n",
    "    ----------\n",
    "    data : dataframe\n",
    "        A dataset\n",
    "    models: A dictionary\n",
    "        A pre-defined dictionary with each model name and applicable function\n",
    "    \n",
    "    optional train_test params\n",
    "    \n",
    "    Returns\n",
    "    -------\n",
    "    models_df\n",
    "        A dataframe with each model performance\n",
    "    \"\"\"\n",
    "    # Obtain training and testing sets from function above\n",
    "    X_train, X_test, y_train, y_test = train_test_split(X, y)\n",
    "    \n",
    "    # Craete dictionary to save performance data \n",
    "    models_perf = {'Models': [], 'CV_mean': [], 'CV_std': []}\n",
    "    \n",
    "    # Obtain model performance across K-Fold using Cross-Validation \n",
    "    for model in models:\n",
    "        cv_results = cross_validate(model, X_train, y_train, \n",
    "                                    cv=3, scoring='average_precision')\n",
    "        n_scores = abs(cv_results['test_score'])\n",
    "        models_perf['Models'].append(str(model))\n",
    "        models_perf['CV_mean'].append(np.mean(n_scores))\n",
    "        models_perf['CV_std'].append(np.std(n_scores))\n",
    "    \n",
    "    models_df = pd.DataFrame(models_perf, columns = ['Models', 'CV_mean', 'CV_std'])\n",
    "    return models_df"
   ]
  },
  {
   "cell_type": "markdown",
   "id": "97911394",
   "metadata": {
    "papermill": {
     "duration": 0.070651,
     "end_time": "2022-08-16T04:06:02.641584",
     "exception": false,
     "start_time": "2022-08-16T04:06:02.570933",
     "status": "completed"
    },
    "tags": []
   },
   "source": [
    "# 8. Machine Learning - Simple Models\n",
    "\n",
    "This section will leverage the powerful sci-kit-learn package to build multiple models with little to no parameter tuning for comparison. We will only use the cross-validation error on our training dataset to avoid any data leakage.\n",
    "\n",
    "* **Logistic Regression**  is a predictive targetifier that models an S-shaped curve (Sigmoid function) on the data to label the examples. Further information [here](https://machinelearningmastery.com/logistic-regression-for-machine-learning/).\n",
    "* **k-Nearest Neighbors**  is a machine learning model built on Euclidean distance that categorizes the observations. Further information [here](https://towardsdatascience.com/machine-learning-basics-with-the-k-nearest-neighbors-algorithm-6a6e71d01761#:~:text=Summary-,The%20k%2Dnearest%20neighbors%20(KNN)%20algorithm%20is%20a%20simple,that%20data%20in%20use%20grows.).\n",
    "* **Stochastic Gradient**  Descent is an iterative algorithm that minimizes the model's error rate. Further information [here](https://towardsdatascience.com/stochastic-gradient-descent-clearly-explained-53d239905d31).\n",
    "* **A Decision Tree**  is a supervised machine learning algorithm building an actual tree based on splits within the data. [here](https://www.xoriant.com/blog/product-engineering/decision-trees-machine-learning-algorithm.html)."
   ]
  },
  {
   "cell_type": "code",
   "execution_count": 29,
   "id": "88c54653",
   "metadata": {
    "papermill": {
     "duration": 0.078779,
     "end_time": "2022-08-16T04:06:02.792586",
     "exception": false,
     "start_time": "2022-08-16T04:06:02.713807",
     "status": "completed"
    },
    "tags": []
   },
   "outputs": [
    {
     "data": {
      "text/plain": [
       "[LogisticRegression(max_iter=1000),\n",
       " KNeighborsClassifier(),\n",
       " SGDClassifier(),\n",
       " DecisionTreeClassifier()]"
      ]
     },
     "execution_count": 29,
     "metadata": {},
     "output_type": "execute_result"
    }
   ],
   "source": [
    "# List of simple ML models\n",
    "models_simple = [LogisticRegression(max_iter=1000), KNeighborsClassifier(), \n",
    "                 SGDClassifier(), DecisionTreeClassifier()]\n",
    "\n",
    "models_simple"
   ]
  },
  {
   "cell_type": "code",
   "execution_count": 30,
   "id": "b06a70c7-dc72-4e5d-aaa3-5990d8a65c51",
   "metadata": {},
   "outputs": [
    {
     "data": {
      "text/html": [
       "<div>\n",
       "<style scoped>\n",
       "    .dataframe tbody tr th:only-of-type {\n",
       "        vertical-align: middle;\n",
       "    }\n",
       "\n",
       "    .dataframe tbody tr th {\n",
       "        vertical-align: top;\n",
       "    }\n",
       "\n",
       "    .dataframe thead th {\n",
       "        text-align: right;\n",
       "    }\n",
       "</style>\n",
       "<table border=\"1\" class=\"dataframe\">\n",
       "  <thead>\n",
       "    <tr style=\"text-align: right;\">\n",
       "      <th></th>\n",
       "      <th>Models</th>\n",
       "      <th>CV_mean</th>\n",
       "      <th>CV_std</th>\n",
       "    </tr>\n",
       "  </thead>\n",
       "  <tbody>\n",
       "    <tr>\n",
       "      <th>0</th>\n",
       "      <td>LogisticRegression(max_iter=1000)</td>\n",
       "      <td>0.982054</td>\n",
       "      <td>0.000764</td>\n",
       "    </tr>\n",
       "    <tr>\n",
       "      <th>1</th>\n",
       "      <td>KNeighborsClassifier()</td>\n",
       "      <td>0.997579</td>\n",
       "      <td>0.000196</td>\n",
       "    </tr>\n",
       "    <tr>\n",
       "      <th>2</th>\n",
       "      <td>SGDClassifier()</td>\n",
       "      <td>0.907748</td>\n",
       "      <td>0.029609</td>\n",
       "    </tr>\n",
       "    <tr>\n",
       "      <th>3</th>\n",
       "      <td>DecisionTreeClassifier()</td>\n",
       "      <td>0.998572</td>\n",
       "      <td>0.000208</td>\n",
       "    </tr>\n",
       "  </tbody>\n",
       "</table>\n",
       "</div>"
      ],
      "text/plain": [
       "                              Models   CV_mean    CV_std\n",
       "0  LogisticRegression(max_iter=1000)  0.982054  0.000764\n",
       "1             KNeighborsClassifier()  0.997579  0.000196\n",
       "2                    SGDClassifier()  0.907748  0.029609\n",
       "3           DecisionTreeClassifier()  0.998572  0.000208"
      ]
     },
     "execution_count": 30,
     "metadata": {},
     "output_type": "execute_result"
    }
   ],
   "source": [
    "model_comparison(X_red, y, models_simple)"
   ]
  },
  {
   "cell_type": "markdown",
   "id": "7e6832f6",
   "metadata": {
    "papermill": {
     "duration": 0.073622,
     "end_time": "2022-08-16T04:06:08.451216",
     "exception": false,
     "start_time": "2022-08-16T04:06:08.377594",
     "status": "completed"
    },
    "tags": []
   },
   "source": [
    "**Takeaway:** Our two best models are kNN and Decision Tree with both approximating 0.996 AUPRC."
   ]
  },
  {
   "cell_type": "markdown",
   "id": "fc315bb7",
   "metadata": {
    "papermill": {
     "duration": 0.071829,
     "end_time": "2022-08-16T04:06:08.595245",
     "exception": false,
     "start_time": "2022-08-16T04:06:08.523416",
     "status": "completed"
    },
    "tags": []
   },
   "source": [
    "# 9. Machine Learning - Ensemble Methods\n",
    "\n",
    "This section will extend our work in machine learning to incorporate ensemble methods. We generated simple models and compared the scores, which appear satisfactory even for the lowest Average Precision Score. However, we may want more stability and minor variation in our predictive algorithm; it is where ensemble techniques come in. Most often, they act as a 'superposer' of multiple models throughout various ways and thus, bolster their predictive power. Further Information [here](https://machinelearningmastery.com/tour-of-ensemble-learning-algorithms/). \n",
    "* **Random Forest** builds onto the logic of decision trees by agglomerating multiple trees and obtaining a given prediction from majority voting; in other words, it is a Decision Tree times n (number of trees). Further information [here](https://towardsdatascience.com/understanding-random-forest-58381e0602d2).\n",
    "* **Stochastic Gradient Boosting**  is part of the more sophisticated ensemble techniques (Boosting), learning from previous models' errors and building a sequential improvement process. Further information [here](https://towardsdatascience.com/understanding-random-forest-58381e0602d2).\n",
    "* **XGBoost**: It stands for “Extreme Gradient Boosting” and is an optimized distributed gradient boosting library designed to be highly efficient, flexible and portable. Further information [here](https://www.mygreatlearning.com/blog/xgboost-algorithm/)."
   ]
  },
  {
   "cell_type": "code",
   "execution_count": 34,
   "id": "927f489a",
   "metadata": {
    "papermill": {
     "duration": 0.082406,
     "end_time": "2022-08-16T04:06:08.752743",
     "exception": false,
     "start_time": "2022-08-16T04:06:08.670337",
     "status": "completed"
    },
    "tags": []
   },
   "outputs": [
    {
     "data": {
      "text/plain": [
       "[RandomForestClassifier(), BaggingClassifier(), GradientBoostingClassifier()]"
      ]
     },
     "execution_count": 34,
     "metadata": {},
     "output_type": "execute_result"
    }
   ],
   "source": [
    "# List of ML ensemble models\n",
    "models_ensemble = [RandomForestClassifier(), \n",
    "                   BaggingClassifier(),\n",
    "                   GradientBoostingClassifier(), ]\n",
    "\n",
    "models_ensemble"
   ]
  },
  {
   "cell_type": "code",
   "execution_count": 35,
   "id": "bd445e6c",
   "metadata": {
    "papermill": {
     "duration": 127.341536,
     "end_time": "2022-08-16T04:08:17.223452",
     "exception": false,
     "start_time": "2022-08-16T04:06:09.881916",
     "status": "completed"
    },
    "tags": []
   },
   "outputs": [
    {
     "data": {
      "text/html": [
       "<div>\n",
       "<style scoped>\n",
       "    .dataframe tbody tr th:only-of-type {\n",
       "        vertical-align: middle;\n",
       "    }\n",
       "\n",
       "    .dataframe tbody tr th {\n",
       "        vertical-align: top;\n",
       "    }\n",
       "\n",
       "    .dataframe thead th {\n",
       "        text-align: right;\n",
       "    }\n",
       "</style>\n",
       "<table border=\"1\" class=\"dataframe\">\n",
       "  <thead>\n",
       "    <tr style=\"text-align: right;\">\n",
       "      <th></th>\n",
       "      <th>Models</th>\n",
       "      <th>CV_mean</th>\n",
       "      <th>CV_std</th>\n",
       "    </tr>\n",
       "  </thead>\n",
       "  <tbody>\n",
       "    <tr>\n",
       "      <th>0</th>\n",
       "      <td>RandomForestClassifier()</td>\n",
       "      <td>0.999991</td>\n",
       "      <td>0.000013</td>\n",
       "    </tr>\n",
       "    <tr>\n",
       "      <th>1</th>\n",
       "      <td>BaggingClassifier()</td>\n",
       "      <td>0.999821</td>\n",
       "      <td>0.000093</td>\n",
       "    </tr>\n",
       "    <tr>\n",
       "      <th>2</th>\n",
       "      <td>GradientBoostingClassifier()</td>\n",
       "      <td>0.996412</td>\n",
       "      <td>0.000264</td>\n",
       "    </tr>\n",
       "  </tbody>\n",
       "</table>\n",
       "</div>"
      ],
      "text/plain": [
       "                         Models   CV_mean    CV_std\n",
       "0      RandomForestClassifier()  0.999991  0.000013\n",
       "1           BaggingClassifier()  0.999821  0.000093\n",
       "2  GradientBoostingClassifier()  0.996412  0.000264"
      ]
     },
     "execution_count": 35,
     "metadata": {},
     "output_type": "execute_result"
    }
   ],
   "source": [
    "model_comparison(X_red, y, models_ensemble)"
   ]
  },
  {
   "cell_type": "markdown",
   "id": "eda90661",
   "metadata": {
    "papermill": {
     "duration": 0.073186,
     "end_time": "2022-08-16T04:08:17.369349",
     "exception": false,
     "start_time": "2022-08-16T04:08:17.296163",
     "status": "completed"
    },
    "tags": []
   },
   "source": [
    "**Takeaway:** In all three instances, the ensemble methods outperform the simple ML models going approximating 0.999 AUPRC. "
   ]
  },
  {
   "cell_type": "code",
   "execution_count": null,
   "id": "0e7aadb4-15eb-42ca-93a7-bc3a6ac09b4c",
   "metadata": {},
   "outputs": [],
   "source": [
    "# def hyperparameter_tuning(data, model, search_space):\n",
    "#     \"\"\" Conduct hyperparameter tuning using GridSearch\n",
    "    \n",
    "#     Parameters\n",
    "#     ----------\n",
    "#     data : dataframe\n",
    "#         Dataset\n",
    "#     model: Model function\n",
    "#         Corresponding function in Sklearn\n",
    "#     search_space: A dictionary\n",
    "#         Possible values for each parameter to iterate\n",
    "        \n",
    "#     Returns\n",
    "#     -------\n",
    "#     models_df\n",
    "#         A\n",
    "#     \"\"\"\n",
    "#     search = GridSearchCV(estimator=model, param_grid=search_space, \n",
    "#                           cv=5, scoring='neg_root_mean_squared_error')\n",
    "    \n",
    "#     # Obtain training and testing sets from function above\n",
    "#     X_train, X_test, y_train, y_test = data_split(data)\n",
    "    \n",
    "#     # Fit the GridSearchCV\n",
    "#     search.fit(X_train, y_train)\n",
    "#     best_score = abs(search.best_score_)\n",
    "    \n",
    "#     print('The RMSE of {} is {:.5f} with the best parameters as follows:' .format(str(model), \n",
    "#                                                                                   best_score))\n",
    "#     return search.best_params_"
   ]
  },
  {
   "cell_type": "code",
   "execution_count": null,
   "id": "b8a19adc",
   "metadata": {
    "papermill": {
     "duration": 0.082313,
     "end_time": "2022-08-16T04:08:17.669973",
     "exception": false,
     "start_time": "2022-08-16T04:08:17.587660",
     "status": "completed"
    },
    "tags": []
   },
   "outputs": [],
   "source": [
    "# ## Random Search\n",
    "\n",
    "# # define search space\n",
    "# knn_space = {\n",
    "#     'weights': ['uniform', 'distance'],\n",
    "#     'metric': ['euclidean', 'manhattan', 'minkowski']\n",
    "#             }\n",
    "# tree_space = {\n",
    "#     'criterion': ['gini', 'entropy'],\n",
    "#     'splitter': ['best', 'random']\n",
    "#             }"
   ]
  },
  {
   "cell_type": "code",
   "execution_count": null,
   "id": "6e02bd65",
   "metadata": {
    "papermill": {
     "duration": 0.083608,
     "end_time": "2022-08-16T04:08:17.825876",
     "exception": false,
     "start_time": "2022-08-16T04:08:17.742268",
     "status": "completed"
    },
    "tags": []
   },
   "outputs": [],
   "source": [
    "# # The top 3 models\n",
    "# top_models = {\n",
    "#     'k-Nearest Neighbors':[knn, knn_space],\n",
    "#     'Decision Tree targetifier':[tree,tree_space]\n",
    "#     }\n",
    "\n",
    "# top_models"
   ]
  },
  {
   "cell_type": "code",
   "execution_count": null,
   "id": "43deb236",
   "metadata": {
    "papermill": {
     "duration": 7.332809,
     "end_time": "2022-08-16T04:08:25.379571",
     "exception": false,
     "start_time": "2022-08-16T04:08:18.046762",
     "status": "completed"
    },
    "tags": []
   },
   "outputs": [],
   "source": [
    "# for name, specs in top_models.items():\n",
    "#     model, space = specs[0], specs[1]\n",
    "#     search = GridSearchCV(estimator=model, param_grid=space, \n",
    "#                           cv=2, scoring='average_precision')\n",
    "#     search.fit(X_train, y_train)\n",
    "#     print('{} - Average Precision Score: {:.5f}' .format(name, search.best_score_))\n",
    "#     print('with best parameters: {}.\\n' .format(search.best_params_))"
   ]
  },
  {
   "cell_type": "code",
   "execution_count": null,
   "id": "455db88f",
   "metadata": {
    "papermill": {
     "duration": 3.636043,
     "end_time": "2022-08-16T04:08:29.239237",
     "exception": false,
     "start_time": "2022-08-16T04:08:25.603194",
     "status": "completed"
    },
    "tags": []
   },
   "outputs": [],
   "source": [
    "# for name, specs in top_models.items():\n",
    "#     model, space = specs[0], specs[1]\n",
    "#     search = RandomizedSearchCV(estimator=model, param_distributions=space, \n",
    "#                                 cv=2, n_iter=2, scoring='average_precision')\n",
    "#     search.fit(X_train, y_train)\n",
    "#     print('{} - Average Precision Score: {:.5f}' .format(name, search.best_score_))\n",
    "#     print('with best parameters: {}.\\n' .format(search.best_params_))"
   ]
  },
  {
   "cell_type": "markdown",
   "id": "63658125",
   "metadata": {
    "papermill": {
     "duration": 0.083382,
     "end_time": "2022-08-16T04:08:29.397146",
     "exception": false,
     "start_time": "2022-08-16T04:08:29.313764",
     "status": "completed"
    },
    "tags": []
   },
   "source": [
    "**Takeaway:** Though both models produce quite similar AUPRC, we will opt for the Decision Tree targetifier having the highest value during the hyperparameter tuning."
   ]
  },
  {
   "cell_type": "markdown",
   "id": "4ec6c358",
   "metadata": {
    "papermill": {
     "duration": 0.082046,
     "end_time": "2022-08-16T04:08:29.560049",
     "exception": false,
     "start_time": "2022-08-16T04:08:29.478003",
     "status": "completed"
    },
    "tags": []
   },
   "source": [
    "# 10. Final Recommendation\n",
    "\n",
    "This section will build on everything we've done throughout this notebook and evaluate the best model using AUPRC."
   ]
  },
  {
   "cell_type": "markdown",
   "id": "90a8267d",
   "metadata": {
    "papermill": {
     "duration": 0.075515,
     "end_time": "2022-08-16T04:08:29.716310",
     "exception": false,
     "start_time": "2022-08-16T04:08:29.640795",
     "status": "completed"
    },
    "tags": []
   },
   "source": [
    "**Definition:** AUPRC (Area Under the Precision-Recall Curve) focuses on finding the positive examples; in other words, the fraudulent transactions in our case. Further information  [here](https://glassboxmedicine.com/2019/03/02/measuring-performance-auprc/)."
   ]
  },
  {
   "cell_type": "code",
   "execution_count": 44,
   "id": "e7fef9f1",
   "metadata": {
    "papermill": {
     "duration": 0.226281,
     "end_time": "2022-08-16T04:08:30.019116",
     "exception": false,
     "start_time": "2022-08-16T04:08:29.792835",
     "status": "completed"
    },
    "tags": []
   },
   "outputs": [],
   "source": [
    "# Running on testing set\n",
    "X_train, X_test, y_train, y_test = train_test_split(X_red, y)\n",
    "final_clf = RandomForestClassifier()\n",
    "final_clf.fit(X_train, y_train)"
   ]
  },
  {
   "cell_type": "code",
   "execution_count": 43,
   "id": "b8ba6820-9fbc-47f5-a5b2-00d36c686da2",
   "metadata": {},
   "outputs": [
    {
     "name": "stdout",
     "output_type": "stream",
     "text": [
      "Final Model RandomForestClassifier() - AUPRC: 0.99961\n"
     ]
    },
    {
     "data": {
      "text/plain": [
       "<sklearn.metrics._plot.roc_curve.RocCurveDisplay at 0x1feae1de070>"
      ]
     },
     "execution_count": 43,
     "metadata": {},
     "output_type": "execute_result"
    },
    {
     "data": {
      "image/png": "[encoded data removed]",
      "text/plain": [
       "<Figure size 864x576 with 1 Axes>"
      ]
     },
     "metadata": {},
     "output_type": "display_data"
    }
   ],
   "source": [
    "y_pred = final_clf.predict(X_test)\n",
    "auprc = skm.average_precision_score(y_test, y_pred)\n",
    "# report performance\n",
    "print('Final Model {} - AUPRC: {:.5f}' .format(final_clf, auprc))\n",
    "skm.RocCurveDisplay.from_estimator(final_clf, X_test, y_test)"
   ]
  },
  {
   "cell_type": "markdown",
   "id": "bf249ed4",
   "metadata": {
    "papermill": {
     "duration": 0.085658,
     "end_time": "2022-08-16T04:08:30.191168",
     "exception": false,
     "start_time": "2022-08-16T04:08:30.105510",
     "status": "completed"
    },
    "tags": []
   },
   "source": [
    "**Conclusion:** Given both high performance results and stability from its low standard deviation, we will recommend the RandomForestClassifier(). "
   ]
  }
 ],
 "metadata": {
  "kernelspec": {
   "display_name": "Python 3 (ipykernel)",
   "language": "python",
   "name": "python3"
  },
  "language_info": {
   "codemirror_mode": {
    "name": "ipython",
    "version": 3
   },
   "file_extension": ".py",
   "mimetype": "text/x-python",
   "name": "python",
   "nbconvert_exporter": "python",
   "pygments_lexer": "ipython3",
   "version": "3.9.12"
  },
  "papermill": {
   "default_parameters": {},
   "duration": 300.056381,
   "end_time": "2022-08-16T04:08:32.793938",
   "environment_variables": {},
   "exception": null,
   "input_path": "__notebook__.ipynb",
   "output_path": "__notebook__.ipynb",
   "parameters": {},
   "start_time": "2022-08-16T04:03:32.737557",
   "version": "2.3.3"
  }
 },
 "nbformat": 4,
 "nbformat_minor": 5
}
