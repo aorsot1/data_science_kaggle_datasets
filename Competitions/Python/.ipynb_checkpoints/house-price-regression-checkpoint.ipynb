{
 "cells": [
  {
   "cell_type": "markdown",
   "id": "287b2092",
   "metadata": {
    "papermill": {
     "duration": 0.067421,
     "end_time": "2022-08-16T04:03:39.125506",
     "exception": false,
     "start_time": "2022-08-16T04:03:39.058085",
     "status": "completed"
    },
    "tags": []
   },
   "source": [
    "## House Price Predictions\n",
    "Different variables come into play in appraising a house, such as the number of bedrooms, square footage, location, and much more. So, our task here is to build a machine learning model to make reasonably accurate predictions in terms of pricing houses. It would be an opportunity for those in real estate to gain more visibility on the market as a whole. In doing so, this notebook will offer a user-friendly explanation through every step using LIME (Local Interpretable Model-agnostic Explanations) principles.\n",
    "\n",
    "## Table of Contents\n",
    "1. Environment set-up\n",
    "    * Importing Libraries\n",
    "    * Loading the data\n",
    "2. Initial Diagnostics\n",
    "    * Glimpse\n",
    "    * Descriptive Statitics\n",
    "    * Target Variable Analysis\n",
    "    * Predictors Analysis\n",
    "3. Data Processing\n",
    "    * Basic cleanup\n",
    "    * Missing Values - Imputation\n",
    "    * Outliers Detection\n",
    "4. Inquiry Exploration\n",
    "    * Does bigger means pricier houses?\n",
    "    * Where is the real estate hotspot?\n",
    "    * Which miscellaneous feature add the most value?\n",
    "5. Feature Engineering\n",
    "    * Outliers - Feature Scaling\n",
    "    * Categorical Encoding\n",
    "    * Datetime Variables\n",
    "    \n",
    "6. Correlation Analysis\n",
    "\n",
    "7. Machine Learning set-up\n",
    "    * Train-test split\n",
    "    * Cross-validation\n",
    "    * Dimensionality Reduction\n",
    "\n",
    "8. Machine Learning - Simple Models\n",
    "\n",
    "9. Machine Learning - Ensemble Methods\n",
    "\n",
    "10. Hyperparameter Tuning\n",
    "\n",
    "11. Model Performance Evaluation\n",
    " \n",
    "12. Final Submission"
   ]
  },
  {
   "cell_type": "markdown",
   "id": "b6431fe0",
   "metadata": {
    "papermill": {
     "duration": 0.064206,
     "end_time": "2022-08-16T04:03:39.252869",
     "exception": false,
     "start_time": "2022-08-16T04:03:39.188663",
     "status": "completed"
    },
    "tags": []
   },
   "source": [
    "# 1. Environment Set-up"
   ]
  },
  {
   "cell_type": "code",
   "execution_count": 111,
   "id": "4fcf0930",
   "metadata": {
    "_cell_guid": "b1076dfc-b9ad-4769-8c92-a6c4dae69d19",
    "_uuid": "8f2839f25d086af736a60e9eeb907d3b93b6e0e5",
    "papermill": {
     "duration": 1.946762,
     "end_time": "2022-08-16T04:03:41.263034",
     "exception": false,
     "start_time": "2022-08-16T04:03:39.316272",
     "status": "completed"
    },
    "tags": []
   },
   "outputs": [],
   "source": [
    "## Importing Libraries\n",
    "import warnings\n",
    "warnings.filterwarnings(\"ignore\")\n",
    "\n",
    "#Set seed\n",
    "import random\n",
    "random.seed(1234)\n",
    "\n",
    "# Manipulating & Visualizing Data\n",
    "import pandas as pd\n",
    "import numpy as np\n",
    "from collections import Counter\n",
    "import matplotlib.pyplot as plt\n",
    "import seaborn as sns\n",
    "sns.set(rc={'figure.figsize':(16,10)})\n",
    "\n",
    "# Feature Scaling\n",
    "from sklearn.compose import ColumnTransformer\n",
    "from sklearn.preprocessing import StandardScaler\n",
    "\n",
    "# Categorical Encoding\n",
    "import category_encoders as ce\n",
    "\n",
    "# Model Selection\n",
    "from sklearn.model_selection import train_test_split\n",
    "from sklearn.model_selection import cross_val_score, KFold\n",
    "\n",
    "# Dimensionality Reduction\n",
    "from sklearn.decomposition import PCA, TruncatedSVD\n",
    "\n",
    "# ML Models\n",
    "from sklearn.tree import DecisionTreeRegressor\n",
    "from sklearn import linear_model \n",
    "\n",
    "# Ensemble Learning\n",
    "from sklearn.ensemble import RandomForestRegressor\n",
    "import xgboost as xgb\n",
    "from sklearn.ensemble import BaggingRegressor\n",
    "from sklearn.ensemble import StackingRegressor\n",
    "\n",
    "# Hyperparameter Tuning\n",
    "from sklearn.model_selection import GridSearchCV\n",
    "from sklearn.model_selection import RandomizedSearchCV\n",
    "\n",
    "# Performance metrics\n",
    "import sklearn.metrics as skm"
   ]
  },
  {
   "cell_type": "code",
   "execution_count": 112,
   "id": "116bde14",
   "metadata": {
    "papermill": {
     "duration": 0.14023,
     "end_time": "2022-08-16T04:03:41.467263",
     "exception": false,
     "start_time": "2022-08-16T04:03:41.327033",
     "status": "completed"
    },
    "tags": []
   },
   "outputs": [
    {
     "data": {
      "text/html": [
       "<div>\n",
       "<style scoped>\n",
       "    .dataframe tbody tr th:only-of-type {\n",
       "        vertical-align: middle;\n",
       "    }\n",
       "\n",
       "    .dataframe tbody tr th {\n",
       "        vertical-align: top;\n",
       "    }\n",
       "\n",
       "    .dataframe thead th {\n",
       "        text-align: right;\n",
       "    }\n",
       "</style>\n",
       "<table border=\"1\" class=\"dataframe\">\n",
       "  <thead>\n",
       "    <tr style=\"text-align: right;\">\n",
       "      <th></th>\n",
       "      <th>Id</th>\n",
       "      <th>MSSubClass</th>\n",
       "      <th>MSZoning</th>\n",
       "      <th>LotFrontage</th>\n",
       "      <th>LotArea</th>\n",
       "      <th>Street</th>\n",
       "      <th>Alley</th>\n",
       "      <th>LotShape</th>\n",
       "      <th>LandContour</th>\n",
       "      <th>Utilities</th>\n",
       "      <th>...</th>\n",
       "      <th>PoolArea</th>\n",
       "      <th>PoolQC</th>\n",
       "      <th>Fence</th>\n",
       "      <th>MiscFeature</th>\n",
       "      <th>MiscVal</th>\n",
       "      <th>MoSold</th>\n",
       "      <th>YrSold</th>\n",
       "      <th>SaleType</th>\n",
       "      <th>SaleCondition</th>\n",
       "      <th>SalePrice</th>\n",
       "    </tr>\n",
       "  </thead>\n",
       "  <tbody>\n",
       "    <tr>\n",
       "      <th>0</th>\n",
       "      <td>1</td>\n",
       "      <td>60</td>\n",
       "      <td>RL</td>\n",
       "      <td>65.0</td>\n",
       "      <td>8450</td>\n",
       "      <td>Pave</td>\n",
       "      <td>NaN</td>\n",
       "      <td>Reg</td>\n",
       "      <td>Lvl</td>\n",
       "      <td>AllPub</td>\n",
       "      <td>...</td>\n",
       "      <td>0</td>\n",
       "      <td>NaN</td>\n",
       "      <td>NaN</td>\n",
       "      <td>NaN</td>\n",
       "      <td>0</td>\n",
       "      <td>2</td>\n",
       "      <td>2008</td>\n",
       "      <td>WD</td>\n",
       "      <td>Normal</td>\n",
       "      <td>208500</td>\n",
       "    </tr>\n",
       "    <tr>\n",
       "      <th>1</th>\n",
       "      <td>2</td>\n",
       "      <td>20</td>\n",
       "      <td>RL</td>\n",
       "      <td>80.0</td>\n",
       "      <td>9600</td>\n",
       "      <td>Pave</td>\n",
       "      <td>NaN</td>\n",
       "      <td>Reg</td>\n",
       "      <td>Lvl</td>\n",
       "      <td>AllPub</td>\n",
       "      <td>...</td>\n",
       "      <td>0</td>\n",
       "      <td>NaN</td>\n",
       "      <td>NaN</td>\n",
       "      <td>NaN</td>\n",
       "      <td>0</td>\n",
       "      <td>5</td>\n",
       "      <td>2007</td>\n",
       "      <td>WD</td>\n",
       "      <td>Normal</td>\n",
       "      <td>181500</td>\n",
       "    </tr>\n",
       "    <tr>\n",
       "      <th>2</th>\n",
       "      <td>3</td>\n",
       "      <td>60</td>\n",
       "      <td>RL</td>\n",
       "      <td>68.0</td>\n",
       "      <td>11250</td>\n",
       "      <td>Pave</td>\n",
       "      <td>NaN</td>\n",
       "      <td>IR1</td>\n",
       "      <td>Lvl</td>\n",
       "      <td>AllPub</td>\n",
       "      <td>...</td>\n",
       "      <td>0</td>\n",
       "      <td>NaN</td>\n",
       "      <td>NaN</td>\n",
       "      <td>NaN</td>\n",
       "      <td>0</td>\n",
       "      <td>9</td>\n",
       "      <td>2008</td>\n",
       "      <td>WD</td>\n",
       "      <td>Normal</td>\n",
       "      <td>223500</td>\n",
       "    </tr>\n",
       "    <tr>\n",
       "      <th>3</th>\n",
       "      <td>4</td>\n",
       "      <td>70</td>\n",
       "      <td>RL</td>\n",
       "      <td>60.0</td>\n",
       "      <td>9550</td>\n",
       "      <td>Pave</td>\n",
       "      <td>NaN</td>\n",
       "      <td>IR1</td>\n",
       "      <td>Lvl</td>\n",
       "      <td>AllPub</td>\n",
       "      <td>...</td>\n",
       "      <td>0</td>\n",
       "      <td>NaN</td>\n",
       "      <td>NaN</td>\n",
       "      <td>NaN</td>\n",
       "      <td>0</td>\n",
       "      <td>2</td>\n",
       "      <td>2006</td>\n",
       "      <td>WD</td>\n",
       "      <td>Abnorml</td>\n",
       "      <td>140000</td>\n",
       "    </tr>\n",
       "    <tr>\n",
       "      <th>4</th>\n",
       "      <td>5</td>\n",
       "      <td>60</td>\n",
       "      <td>RL</td>\n",
       "      <td>84.0</td>\n",
       "      <td>14260</td>\n",
       "      <td>Pave</td>\n",
       "      <td>NaN</td>\n",
       "      <td>IR1</td>\n",
       "      <td>Lvl</td>\n",
       "      <td>AllPub</td>\n",
       "      <td>...</td>\n",
       "      <td>0</td>\n",
       "      <td>NaN</td>\n",
       "      <td>NaN</td>\n",
       "      <td>NaN</td>\n",
       "      <td>0</td>\n",
       "      <td>12</td>\n",
       "      <td>2008</td>\n",
       "      <td>WD</td>\n",
       "      <td>Normal</td>\n",
       "      <td>250000</td>\n",
       "    </tr>\n",
       "  </tbody>\n",
       "</table>\n",
       "<p>5 rows × 81 columns</p>\n",
       "</div>"
      ],
      "text/plain": [
       "   Id  MSSubClass MSZoning  LotFrontage  LotArea Street Alley LotShape  \\\n",
       "0   1          60       RL         65.0     8450   Pave   NaN      Reg   \n",
       "1   2          20       RL         80.0     9600   Pave   NaN      Reg   \n",
       "2   3          60       RL         68.0    11250   Pave   NaN      IR1   \n",
       "3   4          70       RL         60.0     9550   Pave   NaN      IR1   \n",
       "4   5          60       RL         84.0    14260   Pave   NaN      IR1   \n",
       "\n",
       "  LandContour Utilities  ... PoolArea PoolQC Fence MiscFeature MiscVal MoSold  \\\n",
       "0         Lvl    AllPub  ...        0    NaN   NaN         NaN       0      2   \n",
       "1         Lvl    AllPub  ...        0    NaN   NaN         NaN       0      5   \n",
       "2         Lvl    AllPub  ...        0    NaN   NaN         NaN       0      9   \n",
       "3         Lvl    AllPub  ...        0    NaN   NaN         NaN       0      2   \n",
       "4         Lvl    AllPub  ...        0    NaN   NaN         NaN       0     12   \n",
       "\n",
       "  YrSold  SaleType  SaleCondition  SalePrice  \n",
       "0   2008        WD         Normal     208500  \n",
       "1   2007        WD         Normal     181500  \n",
       "2   2008        WD         Normal     223500  \n",
       "3   2006        WD        Abnorml     140000  \n",
       "4   2008        WD         Normal     250000  \n",
       "\n",
       "[5 rows x 81 columns]"
      ]
     },
     "execution_count": 112,
     "metadata": {},
     "output_type": "execute_result"
    }
   ],
   "source": [
    "## Loading the dataset\n",
    "raw_data = pd.read_csv(\"/Users/Graduate/Desktop/ds_proj_data/house_price/train.csv\")\n",
    "raw_data.head()"
   ]
  },
  {
   "cell_type": "markdown",
   "id": "0f999305",
   "metadata": {
    "jp-MarkdownHeadingCollapsed": true,
    "papermill": {
     "duration": 0.063888,
     "end_time": "2022-08-16T04:03:41.595698",
     "exception": false,
     "start_time": "2022-08-16T04:03:41.531810",
     "status": "completed"
    },
    "tags": []
   },
   "source": [
    "# 2. Initial Diagnostics"
   ]
  },
  {
   "cell_type": "code",
   "execution_count": 113,
   "id": "97a2b428",
   "metadata": {
    "papermill": {
     "duration": 0.102694,
     "end_time": "2022-08-16T04:03:41.762236",
     "exception": false,
     "start_time": "2022-08-16T04:03:41.659542",
     "status": "completed"
    },
    "tags": []
   },
   "outputs": [
    {
     "name": "stdout",
     "output_type": "stream",
     "text": [
      "<class 'pandas.core.frame.DataFrame'>\n",
      "RangeIndex: 1460 entries, 0 to 1459\n",
      "Data columns (total 81 columns):\n",
      " #   Column         Non-Null Count  Dtype  \n",
      "---  ------         --------------  -----  \n",
      " 0   Id             1460 non-null   int64  \n",
      " 1   MSSubClass     1460 non-null   int64  \n",
      " 2   MSZoning       1460 non-null   object \n",
      " 3   LotFrontage    1201 non-null   float64\n",
      " 4   LotArea        1460 non-null   int64  \n",
      " 5   Street         1460 non-null   object \n",
      " 6   Alley          91 non-null     object \n",
      " 7   LotShape       1460 non-null   object \n",
      " 8   LandContour    1460 non-null   object \n",
      " 9   Utilities      1460 non-null   object \n",
      " 10  LotConfig      1460 non-null   object \n",
      " 11  LandSlope      1460 non-null   object \n",
      " 12  Neighborhood   1460 non-null   object \n",
      " 13  Condition1     1460 non-null   object \n",
      " 14  Condition2     1460 non-null   object \n",
      " 15  BldgType       1460 non-null   object \n",
      " 16  HouseStyle     1460 non-null   object \n",
      " 17  OverallQual    1460 non-null   int64  \n",
      " 18  OverallCond    1460 non-null   int64  \n",
      " 19  YearBuilt      1460 non-null   int64  \n",
      " 20  YearRemodAdd   1460 non-null   int64  \n",
      " 21  RoofStyle      1460 non-null   object \n",
      " 22  RoofMatl       1460 non-null   object \n",
      " 23  Exterior1st    1460 non-null   object \n",
      " 24  Exterior2nd    1460 non-null   object \n",
      " 25  MasVnrType     1452 non-null   object \n",
      " 26  MasVnrArea     1452 non-null   float64\n",
      " 27  ExterQual      1460 non-null   object \n",
      " 28  ExterCond      1460 non-null   object \n",
      " 29  Foundation     1460 non-null   object \n",
      " 30  BsmtQual       1423 non-null   object \n",
      " 31  BsmtCond       1423 non-null   object \n",
      " 32  BsmtExposure   1422 non-null   object \n",
      " 33  BsmtFinType1   1423 non-null   object \n",
      " 34  BsmtFinSF1     1460 non-null   int64  \n",
      " 35  BsmtFinType2   1422 non-null   object \n",
      " 36  BsmtFinSF2     1460 non-null   int64  \n",
      " 37  BsmtUnfSF      1460 non-null   int64  \n",
      " 38  TotalBsmtSF    1460 non-null   int64  \n",
      " 39  Heating        1460 non-null   object \n",
      " 40  HeatingQC      1460 non-null   object \n",
      " 41  CentralAir     1460 non-null   object \n",
      " 42  Electrical     1459 non-null   object \n",
      " 43  1stFlrSF       1460 non-null   int64  \n",
      " 44  2ndFlrSF       1460 non-null   int64  \n",
      " 45  LowQualFinSF   1460 non-null   int64  \n",
      " 46  GrLivArea      1460 non-null   int64  \n",
      " 47  BsmtFullBath   1460 non-null   int64  \n",
      " 48  BsmtHalfBath   1460 non-null   int64  \n",
      " 49  FullBath       1460 non-null   int64  \n",
      " 50  HalfBath       1460 non-null   int64  \n",
      " 51  BedroomAbvGr   1460 non-null   int64  \n",
      " 52  KitchenAbvGr   1460 non-null   int64  \n",
      " 53  KitchenQual    1460 non-null   object \n",
      " 54  TotRmsAbvGrd   1460 non-null   int64  \n",
      " 55  Functional     1460 non-null   object \n",
      " 56  Fireplaces     1460 non-null   int64  \n",
      " 57  FireplaceQu    770 non-null    object \n",
      " 58  GarageType     1379 non-null   object \n",
      " 59  GarageYrBlt    1379 non-null   float64\n",
      " 60  GarageFinish   1379 non-null   object \n",
      " 61  GarageCars     1460 non-null   int64  \n",
      " 62  GarageArea     1460 non-null   int64  \n",
      " 63  GarageQual     1379 non-null   object \n",
      " 64  GarageCond     1379 non-null   object \n",
      " 65  PavedDrive     1460 non-null   object \n",
      " 66  WoodDeckSF     1460 non-null   int64  \n",
      " 67  OpenPorchSF    1460 non-null   int64  \n",
      " 68  EnclosedPorch  1460 non-null   int64  \n",
      " 69  3SsnPorch      1460 non-null   int64  \n",
      " 70  ScreenPorch    1460 non-null   int64  \n",
      " 71  PoolArea       1460 non-null   int64  \n",
      " 72  PoolQC         7 non-null      object \n",
      " 73  Fence          281 non-null    object \n",
      " 74  MiscFeature    54 non-null     object \n",
      " 75  MiscVal        1460 non-null   int64  \n",
      " 76  MoSold         1460 non-null   int64  \n",
      " 77  YrSold         1460 non-null   int64  \n",
      " 78  SaleType       1460 non-null   object \n",
      " 79  SaleCondition  1460 non-null   object \n",
      " 80  SalePrice      1460 non-null   int64  \n",
      "dtypes: float64(3), int64(35), object(43)\n",
      "memory usage: 924.0+ KB\n"
     ]
    }
   ],
   "source": [
    "## Glimpse of the data\n",
    "raw_data.info()"
   ]
  },
  {
   "cell_type": "markdown",
   "id": "f76f98ee",
   "metadata": {
    "papermill": {
     "duration": 0.065236,
     "end_time": "2022-08-16T04:03:41.892247",
     "exception": false,
     "start_time": "2022-08-16T04:03:41.827011",
     "status": "completed"
    },
    "tags": []
   },
   "source": [
    "**Takeaway:** From the glimpse above, we could already draw some observations. \n",
    "* Our dataset comprises 1460 rows and 80 columns, making it relatively small, so we would not expect the training process o to be as computationally intensive.\n",
    "* For null values, most columns appear to have no missing values, while null values make up 80% for some of those variables. It indicates that we shall proceed with data cleaning and tidying before doing any statistical analysis or machine learning. \n",
    "* In terms of variable type, we have mostly int64, float64, and object. Though 'object' can indicate text or categorical, we will need to investigate further in feature engineering."
   ]
  },
  {
   "cell_type": "code",
   "execution_count": 114,
   "id": "801296a7",
   "metadata": {
    "papermill": {
     "duration": 0.163572,
     "end_time": "2022-08-16T04:03:42.120335",
     "exception": false,
     "start_time": "2022-08-16T04:03:41.956763",
     "status": "completed"
    },
    "tags": []
   },
   "outputs": [
    {
     "data": {
      "text/html": [
       "<div>\n",
       "<style scoped>\n",
       "    .dataframe tbody tr th:only-of-type {\n",
       "        vertical-align: middle;\n",
       "    }\n",
       "\n",
       "    .dataframe tbody tr th {\n",
       "        vertical-align: top;\n",
       "    }\n",
       "\n",
       "    .dataframe thead th {\n",
       "        text-align: right;\n",
       "    }\n",
       "</style>\n",
       "<table border=\"1\" class=\"dataframe\">\n",
       "  <thead>\n",
       "    <tr style=\"text-align: right;\">\n",
       "      <th></th>\n",
       "      <th>Id</th>\n",
       "      <th>MSSubClass</th>\n",
       "      <th>LotFrontage</th>\n",
       "      <th>LotArea</th>\n",
       "      <th>OverallQual</th>\n",
       "      <th>OverallCond</th>\n",
       "      <th>YearBuilt</th>\n",
       "      <th>YearRemodAdd</th>\n",
       "      <th>MasVnrArea</th>\n",
       "      <th>BsmtFinSF1</th>\n",
       "      <th>...</th>\n",
       "      <th>WoodDeckSF</th>\n",
       "      <th>OpenPorchSF</th>\n",
       "      <th>EnclosedPorch</th>\n",
       "      <th>3SsnPorch</th>\n",
       "      <th>ScreenPorch</th>\n",
       "      <th>PoolArea</th>\n",
       "      <th>MiscVal</th>\n",
       "      <th>MoSold</th>\n",
       "      <th>YrSold</th>\n",
       "      <th>SalePrice</th>\n",
       "    </tr>\n",
       "  </thead>\n",
       "  <tbody>\n",
       "    <tr>\n",
       "      <th>count</th>\n",
       "      <td>1460.000000</td>\n",
       "      <td>1460.000000</td>\n",
       "      <td>1201.000000</td>\n",
       "      <td>1460.000000</td>\n",
       "      <td>1460.000000</td>\n",
       "      <td>1460.000000</td>\n",
       "      <td>1460.000000</td>\n",
       "      <td>1460.000000</td>\n",
       "      <td>1452.000000</td>\n",
       "      <td>1460.000000</td>\n",
       "      <td>...</td>\n",
       "      <td>1460.000000</td>\n",
       "      <td>1460.000000</td>\n",
       "      <td>1460.000000</td>\n",
       "      <td>1460.000000</td>\n",
       "      <td>1460.000000</td>\n",
       "      <td>1460.000000</td>\n",
       "      <td>1460.000000</td>\n",
       "      <td>1460.000000</td>\n",
       "      <td>1460.000000</td>\n",
       "      <td>1460.000000</td>\n",
       "    </tr>\n",
       "    <tr>\n",
       "      <th>mean</th>\n",
       "      <td>730.500000</td>\n",
       "      <td>56.897260</td>\n",
       "      <td>70.049958</td>\n",
       "      <td>10516.828082</td>\n",
       "      <td>6.099315</td>\n",
       "      <td>5.575342</td>\n",
       "      <td>1971.267808</td>\n",
       "      <td>1984.865753</td>\n",
       "      <td>103.685262</td>\n",
       "      <td>443.639726</td>\n",
       "      <td>...</td>\n",
       "      <td>94.244521</td>\n",
       "      <td>46.660274</td>\n",
       "      <td>21.954110</td>\n",
       "      <td>3.409589</td>\n",
       "      <td>15.060959</td>\n",
       "      <td>2.758904</td>\n",
       "      <td>43.489041</td>\n",
       "      <td>6.321918</td>\n",
       "      <td>2007.815753</td>\n",
       "      <td>180921.195890</td>\n",
       "    </tr>\n",
       "    <tr>\n",
       "      <th>std</th>\n",
       "      <td>421.610009</td>\n",
       "      <td>42.300571</td>\n",
       "      <td>24.284752</td>\n",
       "      <td>9981.264932</td>\n",
       "      <td>1.382997</td>\n",
       "      <td>1.112799</td>\n",
       "      <td>30.202904</td>\n",
       "      <td>20.645407</td>\n",
       "      <td>181.066207</td>\n",
       "      <td>456.098091</td>\n",
       "      <td>...</td>\n",
       "      <td>125.338794</td>\n",
       "      <td>66.256028</td>\n",
       "      <td>61.119149</td>\n",
       "      <td>29.317331</td>\n",
       "      <td>55.757415</td>\n",
       "      <td>40.177307</td>\n",
       "      <td>496.123024</td>\n",
       "      <td>2.703626</td>\n",
       "      <td>1.328095</td>\n",
       "      <td>79442.502883</td>\n",
       "    </tr>\n",
       "    <tr>\n",
       "      <th>min</th>\n",
       "      <td>1.000000</td>\n",
       "      <td>20.000000</td>\n",
       "      <td>21.000000</td>\n",
       "      <td>1300.000000</td>\n",
       "      <td>1.000000</td>\n",
       "      <td>1.000000</td>\n",
       "      <td>1872.000000</td>\n",
       "      <td>1950.000000</td>\n",
       "      <td>0.000000</td>\n",
       "      <td>0.000000</td>\n",
       "      <td>...</td>\n",
       "      <td>0.000000</td>\n",
       "      <td>0.000000</td>\n",
       "      <td>0.000000</td>\n",
       "      <td>0.000000</td>\n",
       "      <td>0.000000</td>\n",
       "      <td>0.000000</td>\n",
       "      <td>0.000000</td>\n",
       "      <td>1.000000</td>\n",
       "      <td>2006.000000</td>\n",
       "      <td>34900.000000</td>\n",
       "    </tr>\n",
       "    <tr>\n",
       "      <th>25%</th>\n",
       "      <td>365.750000</td>\n",
       "      <td>20.000000</td>\n",
       "      <td>59.000000</td>\n",
       "      <td>7553.500000</td>\n",
       "      <td>5.000000</td>\n",
       "      <td>5.000000</td>\n",
       "      <td>1954.000000</td>\n",
       "      <td>1967.000000</td>\n",
       "      <td>0.000000</td>\n",
       "      <td>0.000000</td>\n",
       "      <td>...</td>\n",
       "      <td>0.000000</td>\n",
       "      <td>0.000000</td>\n",
       "      <td>0.000000</td>\n",
       "      <td>0.000000</td>\n",
       "      <td>0.000000</td>\n",
       "      <td>0.000000</td>\n",
       "      <td>0.000000</td>\n",
       "      <td>5.000000</td>\n",
       "      <td>2007.000000</td>\n",
       "      <td>129975.000000</td>\n",
       "    </tr>\n",
       "    <tr>\n",
       "      <th>50%</th>\n",
       "      <td>730.500000</td>\n",
       "      <td>50.000000</td>\n",
       "      <td>69.000000</td>\n",
       "      <td>9478.500000</td>\n",
       "      <td>6.000000</td>\n",
       "      <td>5.000000</td>\n",
       "      <td>1973.000000</td>\n",
       "      <td>1994.000000</td>\n",
       "      <td>0.000000</td>\n",
       "      <td>383.500000</td>\n",
       "      <td>...</td>\n",
       "      <td>0.000000</td>\n",
       "      <td>25.000000</td>\n",
       "      <td>0.000000</td>\n",
       "      <td>0.000000</td>\n",
       "      <td>0.000000</td>\n",
       "      <td>0.000000</td>\n",
       "      <td>0.000000</td>\n",
       "      <td>6.000000</td>\n",
       "      <td>2008.000000</td>\n",
       "      <td>163000.000000</td>\n",
       "    </tr>\n",
       "    <tr>\n",
       "      <th>75%</th>\n",
       "      <td>1095.250000</td>\n",
       "      <td>70.000000</td>\n",
       "      <td>80.000000</td>\n",
       "      <td>11601.500000</td>\n",
       "      <td>7.000000</td>\n",
       "      <td>6.000000</td>\n",
       "      <td>2000.000000</td>\n",
       "      <td>2004.000000</td>\n",
       "      <td>166.000000</td>\n",
       "      <td>712.250000</td>\n",
       "      <td>...</td>\n",
       "      <td>168.000000</td>\n",
       "      <td>68.000000</td>\n",
       "      <td>0.000000</td>\n",
       "      <td>0.000000</td>\n",
       "      <td>0.000000</td>\n",
       "      <td>0.000000</td>\n",
       "      <td>0.000000</td>\n",
       "      <td>8.000000</td>\n",
       "      <td>2009.000000</td>\n",
       "      <td>214000.000000</td>\n",
       "    </tr>\n",
       "    <tr>\n",
       "      <th>max</th>\n",
       "      <td>1460.000000</td>\n",
       "      <td>190.000000</td>\n",
       "      <td>313.000000</td>\n",
       "      <td>215245.000000</td>\n",
       "      <td>10.000000</td>\n",
       "      <td>9.000000</td>\n",
       "      <td>2010.000000</td>\n",
       "      <td>2010.000000</td>\n",
       "      <td>1600.000000</td>\n",
       "      <td>5644.000000</td>\n",
       "      <td>...</td>\n",
       "      <td>857.000000</td>\n",
       "      <td>547.000000</td>\n",
       "      <td>552.000000</td>\n",
       "      <td>508.000000</td>\n",
       "      <td>480.000000</td>\n",
       "      <td>738.000000</td>\n",
       "      <td>15500.000000</td>\n",
       "      <td>12.000000</td>\n",
       "      <td>2010.000000</td>\n",
       "      <td>755000.000000</td>\n",
       "    </tr>\n",
       "  </tbody>\n",
       "</table>\n",
       "<p>8 rows × 38 columns</p>\n",
       "</div>"
      ],
      "text/plain": [
       "                Id   MSSubClass  LotFrontage        LotArea  OverallQual  \\\n",
       "count  1460.000000  1460.000000  1201.000000    1460.000000  1460.000000   \n",
       "mean    730.500000    56.897260    70.049958   10516.828082     6.099315   \n",
       "std     421.610009    42.300571    24.284752    9981.264932     1.382997   \n",
       "min       1.000000    20.000000    21.000000    1300.000000     1.000000   \n",
       "25%     365.750000    20.000000    59.000000    7553.500000     5.000000   \n",
       "50%     730.500000    50.000000    69.000000    9478.500000     6.000000   \n",
       "75%    1095.250000    70.000000    80.000000   11601.500000     7.000000   \n",
       "max    1460.000000   190.000000   313.000000  215245.000000    10.000000   \n",
       "\n",
       "       OverallCond    YearBuilt  YearRemodAdd   MasVnrArea   BsmtFinSF1  ...  \\\n",
       "count  1460.000000  1460.000000   1460.000000  1452.000000  1460.000000  ...   \n",
       "mean      5.575342  1971.267808   1984.865753   103.685262   443.639726  ...   \n",
       "std       1.112799    30.202904     20.645407   181.066207   456.098091  ...   \n",
       "min       1.000000  1872.000000   1950.000000     0.000000     0.000000  ...   \n",
       "25%       5.000000  1954.000000   1967.000000     0.000000     0.000000  ...   \n",
       "50%       5.000000  1973.000000   1994.000000     0.000000   383.500000  ...   \n",
       "75%       6.000000  2000.000000   2004.000000   166.000000   712.250000  ...   \n",
       "max       9.000000  2010.000000   2010.000000  1600.000000  5644.000000  ...   \n",
       "\n",
       "        WoodDeckSF  OpenPorchSF  EnclosedPorch    3SsnPorch  ScreenPorch  \\\n",
       "count  1460.000000  1460.000000    1460.000000  1460.000000  1460.000000   \n",
       "mean     94.244521    46.660274      21.954110     3.409589    15.060959   \n",
       "std     125.338794    66.256028      61.119149    29.317331    55.757415   \n",
       "min       0.000000     0.000000       0.000000     0.000000     0.000000   \n",
       "25%       0.000000     0.000000       0.000000     0.000000     0.000000   \n",
       "50%       0.000000    25.000000       0.000000     0.000000     0.000000   \n",
       "75%     168.000000    68.000000       0.000000     0.000000     0.000000   \n",
       "max     857.000000   547.000000     552.000000   508.000000   480.000000   \n",
       "\n",
       "          PoolArea       MiscVal       MoSold       YrSold      SalePrice  \n",
       "count  1460.000000   1460.000000  1460.000000  1460.000000    1460.000000  \n",
       "mean      2.758904     43.489041     6.321918  2007.815753  180921.195890  \n",
       "std      40.177307    496.123024     2.703626     1.328095   79442.502883  \n",
       "min       0.000000      0.000000     1.000000  2006.000000   34900.000000  \n",
       "25%       0.000000      0.000000     5.000000  2007.000000  129975.000000  \n",
       "50%       0.000000      0.000000     6.000000  2008.000000  163000.000000  \n",
       "75%       0.000000      0.000000     8.000000  2009.000000  214000.000000  \n",
       "max     738.000000  15500.000000    12.000000  2010.000000  755000.000000  \n",
       "\n",
       "[8 rows x 38 columns]"
      ]
     },
     "execution_count": 114,
     "metadata": {},
     "output_type": "execute_result"
    }
   ],
   "source": [
    "## Descriptive Statistics\n",
    "raw_data.describe()"
   ]
  },
  {
   "cell_type": "markdown",
   "id": "41123eec",
   "metadata": {
    "papermill": {
     "duration": 0.064766,
     "end_time": "2022-08-16T04:03:42.250625",
     "exception": false,
     "start_time": "2022-08-16T04:03:42.185859",
     "status": "completed"
    },
    "tags": []
   },
   "source": [
    "**Takeaway:** For all 80 variables, the table above captures the basic descriptive statistics showing things like mean, standard deviation, min, max, etc. Commenting on each variable would bring little value to our overall analysis, and so we will zoom on the target variable 'SalePrice'."
   ]
  },
  {
   "cell_type": "code",
   "execution_count": 115,
   "id": "86984e8a",
   "metadata": {
    "papermill": {
     "duration": 0.0791,
     "end_time": "2022-08-16T04:03:42.395594",
     "exception": false,
     "start_time": "2022-08-16T04:03:42.316494",
     "status": "completed"
    },
    "tags": []
   },
   "outputs": [
    {
     "data": {
      "text/plain": [
       "count      1460.000000\n",
       "mean     180921.195890\n",
       "std       79442.502883\n",
       "min       34900.000000\n",
       "25%      129975.000000\n",
       "50%      163000.000000\n",
       "75%      214000.000000\n",
       "max      755000.000000\n",
       "Name: SalePrice, dtype: float64"
      ]
     },
     "execution_count": 115,
     "metadata": {},
     "output_type": "execute_result"
    }
   ],
   "source": [
    "# Stats for the target variable\n",
    "raw_data['SalePrice'].describe()"
   ]
  },
  {
   "cell_type": "markdown",
   "id": "875e22e2",
   "metadata": {
    "papermill": {
     "duration": 0.065471,
     "end_time": "2022-08-16T04:03:42.526792",
     "exception": false,
     "start_time": "2022-08-16T04:03:42.461321",
     "status": "completed"
    },
    "tags": []
   },
   "source": [
    "**Takeaway:** The count indicates no null values in the column. The houses in the dataset vary from ~USD34.9k to ~USD755k, with a mean value of ~USD180k. With the standard deviation at ~USD79k, it appears that prices fluctuate pretty significantly, or we may potentially have houses with exorbitant prices (outliers) skewing the data. We will create a histogram to look at the distribution more closely."
   ]
  },
  {
   "cell_type": "code",
   "execution_count": 116,
   "id": "5f021acd",
   "metadata": {
    "papermill": {
     "duration": 0.459836,
     "end_time": "2022-08-16T04:03:43.052869",
     "exception": false,
     "start_time": "2022-08-16T04:03:42.593033",
     "status": "completed"
    },
    "tags": []
   },
   "outputs": [
    {
     "data": {
      "image/png": "[encoded data removed]",
      "text/plain": [
       "<Figure size 1152x720 with 1 Axes>"
      ]
     },
     "metadata": {},
     "output_type": "display_data"
    }
   ],
   "source": [
    "## Feature Variable Analysis\n",
    "sns.histplot(data=raw_data, x='SalePrice')\n",
    "plt.xlabel(\"Dollar Amount ($)\")\n",
    "plt.ylabel(\"Frequency (Count)\")\n",
    "plt.title(\"Distribution of House Sale Price\")\n",
    "plt.show()"
   ]
  },
  {
   "cell_type": "markdown",
   "id": "6124484e",
   "metadata": {
    "papermill": {
     "duration": 0.066825,
     "end_time": "2022-08-16T04:03:43.189488",
     "exception": false,
     "start_time": "2022-08-16T04:03:43.122663",
     "status": "completed"
    },
    "tags": []
   },
   "source": [
    "**Takeaway:** From the histogram above, we can deduct that house sale prices in this dataset have a right-skewed distribution with outliers on the upper end, indicating luxury houses with higher price points. However, most houses appear to fall between ~USD100k and ~USD300k, relatively consistent with real estate markets in the United States."
   ]
  },
  {
   "cell_type": "markdown",
   "id": "c14bcf57",
   "metadata": {
    "papermill": {
     "duration": 0.068261,
     "end_time": "2022-08-16T04:03:43.325334",
     "exception": false,
     "start_time": "2022-08-16T04:03:43.257073",
     "status": "completed"
    },
    "tags": []
   },
   "source": [
    "# 3. Data Processing"
   ]
  },
  {
   "cell_type": "markdown",
   "id": "2d8304ce-6971-4a7d-911c-16ca516f88e0",
   "metadata": {},
   "source": [
    "## Basic cleanup"
   ]
  },
  {
   "cell_type": "code",
   "execution_count": 117,
   "id": "c73cc68d-ce3d-475c-9587-ee3100a32e23",
   "metadata": {},
   "outputs": [],
   "source": [
    "## Simple processing steps\n",
    "def basic_processing(data, col_drop, col_rename):\n",
    "    \"\"\" Basic data processing: drop/rename columns, remove duplicate(s)\n",
    "    \n",
    "    Parameters\n",
    "    ----------\n",
    "    data : dataframe\n",
    "        A dataset\n",
    "    col_drop : list\n",
    "        A list of column names to drop\n",
    "    col_rename : dict\n",
    "        A dictionary pairing the old and new column names desired\n",
    "\n",
    "    Returns\n",
    "    -------\n",
    "    data\n",
    "        a modified dataframe\n",
    "    \"\"\" \n",
    "    #Drop the 'Serial No.' column\n",
    "    if len(col_drop) > 0:\n",
    "        data.drop(col_drop, axis=1, inplace=True)\n",
    "\n",
    "    # Renaming the target variable and one predictor\n",
    "    if col_rename:\n",
    "        data.rename(columns=col_rename, inplace=True)\n",
    "    \n",
    "    # Removing any Duplicate Observations if any\n",
    "    data.drop_duplicates(keep='first', inplace=True)\n",
    "    return data"
   ]
  },
  {
   "cell_type": "code",
   "execution_count": 120,
   "id": "f261beb3-482b-4a44-9d94-cb2b43fb796a",
   "metadata": {},
   "outputs": [
    {
     "ename": "KeyError",
     "evalue": "\"['Id'] not found in axis\"",
     "output_type": "error",
     "traceback": [
      "\u001b[1;31m---------------------------------------------------------------------------\u001b[0m",
      "\u001b[1;31mKeyError\u001b[0m                                  Traceback (most recent call last)",
      "\u001b[1;32m~\\AppData\\Local\\Temp\\ipykernel_11860\\1053869950.py\u001b[0m in \u001b[0;36m<module>\u001b[1;34m\u001b[0m\n\u001b[1;32m----> 1\u001b[1;33m \u001b[0mdf\u001b[0m \u001b[1;33m=\u001b[0m \u001b[0mbasic_processing\u001b[0m\u001b[1;33m(\u001b[0m\u001b[0mraw_data\u001b[0m\u001b[1;33m,\u001b[0m \u001b[0mcol_drop\u001b[0m \u001b[1;33m=\u001b[0m \u001b[1;33m[\u001b[0m\u001b[1;34m'Id'\u001b[0m\u001b[1;33m]\u001b[0m\u001b[1;33m,\u001b[0m \u001b[0mcol_rename\u001b[0m \u001b[1;33m=\u001b[0m \u001b[1;33m{\u001b[0m\u001b[1;34m\"SalePrice\"\u001b[0m\u001b[1;33m:\u001b[0m \u001b[1;34m\"target\"\u001b[0m\u001b[1;33m}\u001b[0m\u001b[1;33m)\u001b[0m\u001b[1;33m\u001b[0m\u001b[1;33m\u001b[0m\u001b[0m\n\u001b[0m\u001b[0;32m      2\u001b[0m \u001b[0mdf\u001b[0m\u001b[1;33m.\u001b[0m\u001b[0mhead\u001b[0m\u001b[1;33m(\u001b[0m\u001b[1;33m)\u001b[0m\u001b[1;33m\u001b[0m\u001b[1;33m\u001b[0m\u001b[0m\n",
      "\u001b[1;32m~\\AppData\\Local\\Temp\\ipykernel_11860\\3898677808.py\u001b[0m in \u001b[0;36mbasic_processing\u001b[1;34m(data, col_drop, col_rename)\u001b[0m\n\u001b[0;32m     19\u001b[0m     \u001b[1;31m#Drop the 'Serial No.' column\u001b[0m\u001b[1;33m\u001b[0m\u001b[1;33m\u001b[0m\u001b[0m\n\u001b[0;32m     20\u001b[0m     \u001b[1;32mif\u001b[0m \u001b[0mlen\u001b[0m\u001b[1;33m(\u001b[0m\u001b[0mcol_drop\u001b[0m\u001b[1;33m)\u001b[0m \u001b[1;33m>\u001b[0m \u001b[1;36m0\u001b[0m\u001b[1;33m:\u001b[0m\u001b[1;33m\u001b[0m\u001b[1;33m\u001b[0m\u001b[0m\n\u001b[1;32m---> 21\u001b[1;33m         \u001b[0mdata\u001b[0m\u001b[1;33m.\u001b[0m\u001b[0mdrop\u001b[0m\u001b[1;33m(\u001b[0m\u001b[0mcol_drop\u001b[0m\u001b[1;33m,\u001b[0m \u001b[0maxis\u001b[0m\u001b[1;33m=\u001b[0m\u001b[1;36m1\u001b[0m\u001b[1;33m,\u001b[0m \u001b[0minplace\u001b[0m\u001b[1;33m=\u001b[0m\u001b[1;32mTrue\u001b[0m\u001b[1;33m)\u001b[0m\u001b[1;33m\u001b[0m\u001b[1;33m\u001b[0m\u001b[0m\n\u001b[0m\u001b[0;32m     22\u001b[0m \u001b[1;33m\u001b[0m\u001b[0m\n\u001b[0;32m     23\u001b[0m     \u001b[1;31m# Renaming the target variable and one predictor\u001b[0m\u001b[1;33m\u001b[0m\u001b[1;33m\u001b[0m\u001b[0m\n",
      "\u001b[1;32m~\\anaconda3\\lib\\site-packages\\pandas\\util\\_decorators.py\u001b[0m in \u001b[0;36mwrapper\u001b[1;34m(*args, **kwargs)\u001b[0m\n\u001b[0;32m    309\u001b[0m                     \u001b[0mstacklevel\u001b[0m\u001b[1;33m=\u001b[0m\u001b[0mstacklevel\u001b[0m\u001b[1;33m,\u001b[0m\u001b[1;33m\u001b[0m\u001b[1;33m\u001b[0m\u001b[0m\n\u001b[0;32m    310\u001b[0m                 )\n\u001b[1;32m--> 311\u001b[1;33m             \u001b[1;32mreturn\u001b[0m \u001b[0mfunc\u001b[0m\u001b[1;33m(\u001b[0m\u001b[1;33m*\u001b[0m\u001b[0margs\u001b[0m\u001b[1;33m,\u001b[0m \u001b[1;33m**\u001b[0m\u001b[0mkwargs\u001b[0m\u001b[1;33m)\u001b[0m\u001b[1;33m\u001b[0m\u001b[1;33m\u001b[0m\u001b[0m\n\u001b[0m\u001b[0;32m    312\u001b[0m \u001b[1;33m\u001b[0m\u001b[0m\n\u001b[0;32m    313\u001b[0m         \u001b[1;32mreturn\u001b[0m \u001b[0mwrapper\u001b[0m\u001b[1;33m\u001b[0m\u001b[1;33m\u001b[0m\u001b[0m\n",
      "\u001b[1;32m~\\anaconda3\\lib\\site-packages\\pandas\\core\\frame.py\u001b[0m in \u001b[0;36mdrop\u001b[1;34m(self, labels, axis, index, columns, level, inplace, errors)\u001b[0m\n\u001b[0;32m   4952\u001b[0m                 \u001b[0mweight\u001b[0m  \u001b[1;36m1.0\u001b[0m     \u001b[1;36m0.8\u001b[0m\u001b[1;33m\u001b[0m\u001b[1;33m\u001b[0m\u001b[0m\n\u001b[0;32m   4953\u001b[0m         \"\"\"\n\u001b[1;32m-> 4954\u001b[1;33m         return super().drop(\n\u001b[0m\u001b[0;32m   4955\u001b[0m             \u001b[0mlabels\u001b[0m\u001b[1;33m=\u001b[0m\u001b[0mlabels\u001b[0m\u001b[1;33m,\u001b[0m\u001b[1;33m\u001b[0m\u001b[1;33m\u001b[0m\u001b[0m\n\u001b[0;32m   4956\u001b[0m             \u001b[0maxis\u001b[0m\u001b[1;33m=\u001b[0m\u001b[0maxis\u001b[0m\u001b[1;33m,\u001b[0m\u001b[1;33m\u001b[0m\u001b[1;33m\u001b[0m\u001b[0m\n",
      "\u001b[1;32m~\\anaconda3\\lib\\site-packages\\pandas\\core\\generic.py\u001b[0m in \u001b[0;36mdrop\u001b[1;34m(self, labels, axis, index, columns, level, inplace, errors)\u001b[0m\n\u001b[0;32m   4265\u001b[0m         \u001b[1;32mfor\u001b[0m \u001b[0maxis\u001b[0m\u001b[1;33m,\u001b[0m \u001b[0mlabels\u001b[0m \u001b[1;32min\u001b[0m \u001b[0maxes\u001b[0m\u001b[1;33m.\u001b[0m\u001b[0mitems\u001b[0m\u001b[1;33m(\u001b[0m\u001b[1;33m)\u001b[0m\u001b[1;33m:\u001b[0m\u001b[1;33m\u001b[0m\u001b[1;33m\u001b[0m\u001b[0m\n\u001b[0;32m   4266\u001b[0m             \u001b[1;32mif\u001b[0m \u001b[0mlabels\u001b[0m \u001b[1;32mis\u001b[0m \u001b[1;32mnot\u001b[0m \u001b[1;32mNone\u001b[0m\u001b[1;33m:\u001b[0m\u001b[1;33m\u001b[0m\u001b[1;33m\u001b[0m\u001b[0m\n\u001b[1;32m-> 4267\u001b[1;33m                 \u001b[0mobj\u001b[0m \u001b[1;33m=\u001b[0m \u001b[0mobj\u001b[0m\u001b[1;33m.\u001b[0m\u001b[0m_drop_axis\u001b[0m\u001b[1;33m(\u001b[0m\u001b[0mlabels\u001b[0m\u001b[1;33m,\u001b[0m \u001b[0maxis\u001b[0m\u001b[1;33m,\u001b[0m \u001b[0mlevel\u001b[0m\u001b[1;33m=\u001b[0m\u001b[0mlevel\u001b[0m\u001b[1;33m,\u001b[0m \u001b[0merrors\u001b[0m\u001b[1;33m=\u001b[0m\u001b[0merrors\u001b[0m\u001b[1;33m)\u001b[0m\u001b[1;33m\u001b[0m\u001b[1;33m\u001b[0m\u001b[0m\n\u001b[0m\u001b[0;32m   4268\u001b[0m \u001b[1;33m\u001b[0m\u001b[0m\n\u001b[0;32m   4269\u001b[0m         \u001b[1;32mif\u001b[0m \u001b[0minplace\u001b[0m\u001b[1;33m:\u001b[0m\u001b[1;33m\u001b[0m\u001b[1;33m\u001b[0m\u001b[0m\n",
      "\u001b[1;32m~\\anaconda3\\lib\\site-packages\\pandas\\core\\generic.py\u001b[0m in \u001b[0;36m_drop_axis\u001b[1;34m(self, labels, axis, level, errors, consolidate, only_slice)\u001b[0m\n\u001b[0;32m   4309\u001b[0m                 \u001b[0mnew_axis\u001b[0m \u001b[1;33m=\u001b[0m \u001b[0maxis\u001b[0m\u001b[1;33m.\u001b[0m\u001b[0mdrop\u001b[0m\u001b[1;33m(\u001b[0m\u001b[0mlabels\u001b[0m\u001b[1;33m,\u001b[0m \u001b[0mlevel\u001b[0m\u001b[1;33m=\u001b[0m\u001b[0mlevel\u001b[0m\u001b[1;33m,\u001b[0m \u001b[0merrors\u001b[0m\u001b[1;33m=\u001b[0m\u001b[0merrors\u001b[0m\u001b[1;33m)\u001b[0m\u001b[1;33m\u001b[0m\u001b[1;33m\u001b[0m\u001b[0m\n\u001b[0;32m   4310\u001b[0m             \u001b[1;32melse\u001b[0m\u001b[1;33m:\u001b[0m\u001b[1;33m\u001b[0m\u001b[1;33m\u001b[0m\u001b[0m\n\u001b[1;32m-> 4311\u001b[1;33m                 \u001b[0mnew_axis\u001b[0m \u001b[1;33m=\u001b[0m \u001b[0maxis\u001b[0m\u001b[1;33m.\u001b[0m\u001b[0mdrop\u001b[0m\u001b[1;33m(\u001b[0m\u001b[0mlabels\u001b[0m\u001b[1;33m,\u001b[0m \u001b[0merrors\u001b[0m\u001b[1;33m=\u001b[0m\u001b[0merrors\u001b[0m\u001b[1;33m)\u001b[0m\u001b[1;33m\u001b[0m\u001b[1;33m\u001b[0m\u001b[0m\n\u001b[0m\u001b[0;32m   4312\u001b[0m             \u001b[0mindexer\u001b[0m \u001b[1;33m=\u001b[0m \u001b[0maxis\u001b[0m\u001b[1;33m.\u001b[0m\u001b[0mget_indexer\u001b[0m\u001b[1;33m(\u001b[0m\u001b[0mnew_axis\u001b[0m\u001b[1;33m)\u001b[0m\u001b[1;33m\u001b[0m\u001b[1;33m\u001b[0m\u001b[0m\n\u001b[0;32m   4313\u001b[0m \u001b[1;33m\u001b[0m\u001b[0m\n",
      "\u001b[1;32m~\\anaconda3\\lib\\site-packages\\pandas\\core\\indexes\\base.py\u001b[0m in \u001b[0;36mdrop\u001b[1;34m(self, labels, errors)\u001b[0m\n\u001b[0;32m   6642\u001b[0m         \u001b[1;32mif\u001b[0m \u001b[0mmask\u001b[0m\u001b[1;33m.\u001b[0m\u001b[0many\u001b[0m\u001b[1;33m(\u001b[0m\u001b[1;33m)\u001b[0m\u001b[1;33m:\u001b[0m\u001b[1;33m\u001b[0m\u001b[1;33m\u001b[0m\u001b[0m\n\u001b[0;32m   6643\u001b[0m             \u001b[1;32mif\u001b[0m \u001b[0merrors\u001b[0m \u001b[1;33m!=\u001b[0m \u001b[1;34m\"ignore\"\u001b[0m\u001b[1;33m:\u001b[0m\u001b[1;33m\u001b[0m\u001b[1;33m\u001b[0m\u001b[0m\n\u001b[1;32m-> 6644\u001b[1;33m                 \u001b[1;32mraise\u001b[0m \u001b[0mKeyError\u001b[0m\u001b[1;33m(\u001b[0m\u001b[1;34mf\"{list(labels[mask])} not found in axis\"\u001b[0m\u001b[1;33m)\u001b[0m\u001b[1;33m\u001b[0m\u001b[1;33m\u001b[0m\u001b[0m\n\u001b[0m\u001b[0;32m   6645\u001b[0m             \u001b[0mindexer\u001b[0m \u001b[1;33m=\u001b[0m \u001b[0mindexer\u001b[0m\u001b[1;33m[\u001b[0m\u001b[1;33m~\u001b[0m\u001b[0mmask\u001b[0m\u001b[1;33m]\u001b[0m\u001b[1;33m\u001b[0m\u001b[1;33m\u001b[0m\u001b[0m\n\u001b[0;32m   6646\u001b[0m         \u001b[1;32mreturn\u001b[0m \u001b[0mself\u001b[0m\u001b[1;33m.\u001b[0m\u001b[0mdelete\u001b[0m\u001b[1;33m(\u001b[0m\u001b[0mindexer\u001b[0m\u001b[1;33m)\u001b[0m\u001b[1;33m\u001b[0m\u001b[1;33m\u001b[0m\u001b[0m\n",
      "\u001b[1;31mKeyError\u001b[0m: \"['Id'] not found in axis\""
     ]
    }
   ],
   "source": [
    "df = basic_processing(raw_data, col_drop = ['Id'], col_rename = {\"SalePrice\": \"target\"})\n",
    "df.head()"
   ]
  },
  {
   "cell_type": "markdown",
   "id": "e8c1807c-a2ec-4f9d-bd19-bc5de806d63c",
   "metadata": {},
   "source": [
    "**Note:** In data science, imperfect information is all we have so, there is always doubt on data quality of which, a recurrent issue is **missing values**. One could attempt collecting more data, delete the missing value, or proceed by imputation. Imputation methods offre replacement strategies by leveraging statistical measures like mean, mode, or median. More information [here](https://machinelearningmastery.com/statistical-imputation-for-missing-values-in-machine-learning/)."
   ]
  },
  {
   "cell_type": "markdown",
   "id": "69e5411a-83f1-4b67-8045-e928867f6729",
   "metadata": {
    "tags": []
   },
   "source": [
    "## Missing Values - Imputation"
   ]
  },
  {
   "cell_type": "code",
   "execution_count": 79,
   "id": "d82945ad-efde-4d16-9cd4-734768f72711",
   "metadata": {},
   "outputs": [],
   "source": [
    "# Identify missing values and dealing with them if present\n",
    "def identify_missing_val(data):\n",
    "    \"\"\" Identify missing/na values\n",
    "    \n",
    "    Parameters\n",
    "    ----------\n",
    "    data : dataframe\n",
    "        A dataset\n",
    "\n",
    "    Returns\n",
    "    -------\n",
    "    data\n",
    "        a dataframe with no missing values \n",
    "        either after imputation or original format\n",
    "    \"\"\"\n",
    "    \n",
    "    # Count number of missing values \n",
    "    sum_na = data.isna().sum().sum()\n",
    "    print(\"%d null/na values found in the dataset.\" % sum_na)\n",
    "    \n",
    "    # Only visualize if missing values present\n",
    "    if sum_na > 0: \n",
    "        plt.figure(figsize=(10,6))\n",
    "        sns.heatmap(df.isna().transpose(),\n",
    "                    cmap=\"YlGnBu\",\n",
    "                    cbar_kws={'label': 'Missing Data'})\n",
    "        plt.xlabel(\"Features\")\n",
    "        plt.ylabel(\"Observations\")\n",
    "        plt.show()\n",
    "        \n",
    "        # Proceeding in imputing the dataset with missing values\n",
    "        null_cols = data.columns[data.isna().any()].tolist()\n",
    "        print('Those columns have missing values in those count and proportions:')\n",
    "        for i in null_cols:\n",
    "            col_null = data[i].isnull().sum()\n",
    "            per_null = col_null / len(df[i])\n",
    "            print(\"  - {}: {} ({:.2%})\".format(i, col_null, per_null))\n",
    "        #print(*null_cols, sep = \"\\n\") \n",
    "    else:\n",
    "        print(\"- No action needed\")\n",
    "        pass\n",
    "    return data, null_cols"
   ]
  },
  {
   "cell_type": "code",
   "execution_count": 80,
   "id": "6358a474-a341-40ef-8a30-a737df7a4d77",
   "metadata": {},
   "outputs": [
    {
     "name": "stdout",
     "output_type": "stream",
     "text": [
      "6965 null/na values found in the dataset.\n"
     ]
    },
    {
     "data": {
      "image/png": "[encoded data removed]",
      "text/plain": [
       "<Figure size 720x432 with 2 Axes>"
      ]
     },
     "metadata": {},
     "output_type": "display_data"
    },
    {
     "name": "stdout",
     "output_type": "stream",
     "text": [
      "Those columns have missing values in those count and proportions:\n",
      "  - LotFrontage: 259 (17.74%)\n",
      "  - Alley: 1369 (93.77%)\n",
      "  - MasVnrType: 8 (0.55%)\n",
      "  - MasVnrArea: 8 (0.55%)\n",
      "  - BsmtQual: 37 (2.53%)\n",
      "  - BsmtCond: 37 (2.53%)\n",
      "  - BsmtExposure: 38 (2.60%)\n",
      "  - BsmtFinType1: 37 (2.53%)\n",
      "  - BsmtFinType2: 38 (2.60%)\n",
      "  - Electrical: 1 (0.07%)\n",
      "  - FireplaceQu: 690 (47.26%)\n",
      "  - GarageType: 81 (5.55%)\n",
      "  - GarageYrBlt: 81 (5.55%)\n",
      "  - GarageFinish: 81 (5.55%)\n",
      "  - GarageQual: 81 (5.55%)\n",
      "  - GarageCond: 81 (5.55%)\n",
      "  - PoolQC: 1453 (99.52%)\n",
      "  - Fence: 1179 (80.75%)\n",
      "  - MiscFeature: 1406 (96.30%)\n"
     ]
    }
   ],
   "source": [
    "df, null_cols = identify_missing_val(df)"
   ]
  },
  {
   "cell_type": "markdown",
   "id": "66b48e1f",
   "metadata": {
    "papermill": {
     "duration": 0.068511,
     "end_time": "2022-08-16T04:03:44.563161",
     "exception": false,
     "start_time": "2022-08-16T04:03:44.494650",
     "status": "completed"
    },
    "tags": []
   },
   "source": [
    "**Takeaway:** As the plot shows above, there are indeed null values confirming our observation in the initial diagnostics. Given that not all variables are of the same type or the same proportion of missing values, the cleaning process will attend to each column or group of similar columns."
   ]
  },
  {
   "cell_type": "markdown",
   "id": "96cc0014",
   "metadata": {
    "papermill": {
     "duration": 0.070916,
     "end_time": "2022-08-16T04:03:45.008444",
     "exception": false,
     "start_time": "2022-08-16T04:03:44.937528",
     "status": "completed"
    },
    "tags": []
   },
   "source": [
    "**LotFrontage:** As per the data dictionary, it is the linear feet of street connected to property and indicates the measurement of a piece of land (lot) defined by frontage and depth respectively. For instance, an house can be 50 by 150, meaning 50 feet wide (frontage) and 150 feet long. Read more about it [here](https://www.gimme-shelter.com/frontage-50043/). \n",
    "\n",
    "Given that 'LotFrontage' is one of those characteristics all houses have, the null values indicate missing information that cannot just be equal to 0. Since we cannot go out and collect more data, we will investigate differences in distribution across Lot shape."
   ]
  },
  {
   "cell_type": "code",
   "execution_count": 110,
   "id": "2cbff959",
   "metadata": {
    "papermill": {
     "duration": 0.088257,
     "end_time": "2022-08-16T04:03:45.765803",
     "exception": false,
     "start_time": "2022-08-16T04:03:45.677546",
     "status": "completed"
    },
    "tags": []
   },
   "outputs": [
    {
     "name": "stdout",
     "output_type": "stream",
     "text": [
      "For all houses' LotFrontage, mean = 70.05 and median =69.00\n",
      "For houses of shape: \n",
      " -Reg, mean LotFrontage = 67.04 and median LotFrontage = 67.00\n",
      " -IR1, mean LotFrontage = 76.09 and median LotFrontage = 74.00\n",
      " -IR2, mean LotFrontage = 76.50 and median LotFrontage = 57.50\n",
      " -IR3, mean LotFrontage = 138.43 and median LotFrontage = 150.00\n"
     ]
    }
   ],
   "source": [
    "print(\"For all houses' LotFrontage, mean = {:.2f} and median ={:.2f}\".format(df['LotFrontage'].mean(),\n",
    "                                                                            df['LotFrontage'].median()))\n",
    "\n",
    "print(\"For houses of shape: \")\n",
    "for i in df[\"LotShape\"].unique().tolist():\n",
    "    df_i = df[df[\"LotShape\"]==i]\n",
    "    mean_frontage = df_i['LotFrontage'].mean()\n",
    "    median_frontage = df_i['LotFrontage'].median()\n",
    "    print(\" -{}, mean LotFrontage = {:.2f} and median LotFrontage = {:.2f}\".format(i,\n",
    "                                                                            mean_frontage,\n",
    "                                                                            median_frontage))"
   ]
  },
  {
   "cell_type": "markdown",
   "id": "7428d29c",
   "metadata": {
    "papermill": {
     "duration": 0.071956,
     "end_time": "2022-08-16T04:03:45.908434",
     "exception": false,
     "start_time": "2022-08-16T04:03:45.836478",
     "status": "completed"
    },
    "tags": []
   },
   "source": [
    "**Takeaway:** \n",
    "- When broken down by 'LotShape', we also observe a notable difference in those houses categorized as IR3, in other words, of very irregular shape. In light of both the outliers and category differences, we will use the median value grouped by LotShape for the imputation process to ensure consistency in the data.\n",
    "\n",
    "- Since houses have or may not have some features, it would imply that those missing values are significant as actual categories denoting the abscence of those characteristics. The function below will deal with that"
   ]
  },
  {
   "cell_type": "code",
   "execution_count": null,
   "id": "80060795-aa58-43f0-84b5-1ba8826475f9",
   "metadata": {},
   "outputs": [],
   "source": [
    "def imputation_grouping(df, na_col='LotFrontage', gr='LotShape'):\n",
    "    ''' Imputation using group by\n",
    "    '''\n",
    "    df[na_col] = df.groupby(gr).LotFrontage.transform(lambda x: x.fillna(x.median()))\n",
    "    df.LotFrontage = df.LotFrontage.round(2)\n",
    "    df.head()\n",
    "    return df\n",
    "\n",
    "\n",
    "def val_replace(df, null_cols):\n",
    "    ''' Non-imputation techniques for null/na values\n",
    "    ''' \n",
    "    # Non-meaningful null values\n",
    "    df.dropna(subset=['Electrical'], inplace=True)\n",
    "    \n",
    "    # Significant Null Value\n",
    "    sig_null_cols = {}\n",
    "    for i in null_cols:\n",
    "        if re.match(r\"(?i).*area.*|.*Yr.*\", i):\n",
    "            sig_null_cols[i] = 0\n",
    "        else:\n",
    "            sig_null_cols[i] = \"No \" + i\n",
    "            \n",
    "    # Grouping of variables dependent on the presence of other amenities\n",
    "    for i, j in sig_null_cols.items():\n",
    "        df[i].fillna(j, inplace = True)\n",
    "    \n",
    "    ## No. of null values\n",
    "    null_vals = df.isna().sum().sum()\n",
    "\n",
    "    # Reporting back\n",
    "    print(\"Afer imputation, we have missing {:d} values in our data.\".format(null_vals))\n",
    "        \n",
    "    return data_imp"
   ]
  },
  {
   "cell_type": "code",
   "execution_count": null,
   "id": "ee24011a-740c-48e5-93b2-d91f17450ec7",
   "metadata": {},
   "outputs": [],
   "source": []
  },
  {
   "cell_type": "markdown",
   "id": "1b67cdad",
   "metadata": {
    "papermill": {
     "duration": 0.071384,
     "end_time": "2022-08-16T04:03:47.522984",
     "exception": false,
     "start_time": "2022-08-16T04:03:47.451600",
     "status": "completed"
    },
    "tags": []
   },
   "source": [
    "# 4. Inquiry Exploration\n",
    "\n",
    "In this section, we will generate various questions to further consolidate our understanding of the problem at hand. It will allow us to guide the machine learning process more attuned to the particular subject matter."
   ]
  },
  {
   "cell_type": "markdown",
   "id": "7d9105f5",
   "metadata": {
    "papermill": {
     "duration": 0.072735,
     "end_time": "2022-08-16T04:03:47.667813",
     "exception": false,
     "start_time": "2022-08-16T04:03:47.595078",
     "status": "completed"
    },
    "tags": []
   },
   "source": [
    "**Question 1:** Do bigger houses always translate into higher prices?"
   ]
  },
  {
   "cell_type": "code",
   "execution_count": 18,
   "id": "35ef8195",
   "metadata": {
    "execution": {
     "iopub.execute_input": "2022-08-16T04:03:47.818118Z",
     "iopub.status.busy": "2022-08-16T04:03:47.817132Z",
     "iopub.status.idle": "2022-08-16T04:03:48.234386Z",
     "shell.execute_reply": "2022-08-16T04:03:48.233808Z",
     "shell.execute_reply.started": "2022-04-14T12:33:00.669597Z"
    },
    "papermill": {
     "duration": 0.492959,
     "end_time": "2022-08-16T04:03:48.234555",
     "exception": false,
     "start_time": "2022-08-16T04:03:47.741596",
     "status": "completed"
    },
    "tags": []
   },
   "outputs": [
    {
     "data": {
      "image/png": "[encoded data removed]",
      "text/plain": [
       "<Figure size 1152x720 with 1 Axes>"
      ]
     },
     "metadata": {},
     "output_type": "display_data"
    }
   ],
   "source": [
    "## Scatterplot between lotArea and SalePrice\n",
    "sns.scatterplot(data=df, x='LotArea', y='SalePrice')\n",
    "plt.show()"
   ]
  },
  {
   "cell_type": "markdown",
   "id": "7b9aa4a7",
   "metadata": {
    "papermill": {
     "duration": 0.073574,
     "end_time": "2022-08-16T04:03:48.382662",
     "exception": false,
     "start_time": "2022-08-16T04:03:48.309088",
     "status": "completed"
    },
    "tags": []
   },
   "source": [
    "**Takeaway:** From the scatterplot above, there is very little evidence indicating that bigger houses are ultimiately pricier. As noted in the diagnostics, the 80 initial variables show how the house valuation process is multi-dimensional."
   ]
  },
  {
   "cell_type": "markdown",
   "id": "ef35d96c",
   "metadata": {
    "papermill": {
     "duration": 0.073885,
     "end_time": "2022-08-16T04:03:48.531281",
     "exception": false,
     "start_time": "2022-08-16T04:03:48.457396",
     "status": "completed"
    },
    "tags": []
   },
   "source": [
    "**Question 2:** Where is the real estate hotspot?"
   ]
  },
  {
   "cell_type": "code",
   "execution_count": 19,
   "id": "59d968d3",
   "metadata": {
    "execution": {
     "iopub.execute_input": "2022-08-16T04:03:48.684589Z",
     "iopub.status.busy": "2022-08-16T04:03:48.683610Z",
     "iopub.status.idle": "2022-08-16T04:03:48.693636Z",
     "shell.execute_reply": "2022-08-16T04:03:48.694308Z",
     "shell.execute_reply.started": "2022-04-14T12:33:00.985345Z"
    },
    "papermill": {
     "duration": 0.088444,
     "end_time": "2022-08-16T04:03:48.694507",
     "exception": false,
     "start_time": "2022-08-16T04:03:48.606063",
     "status": "completed"
    },
    "tags": []
   },
   "outputs": [
    {
     "name": "stdout",
     "output_type": "stream",
     "text": [
      "NAmes has the most houses sales with 225 making up 15.42% of all sales.\n"
     ]
    }
   ],
   "source": [
    "# Which neighborhood registers the most sales?\n",
    "total = df['Neighborhood'].value_counts()[0]\n",
    "per = df['Neighborhood'].value_counts(normalize=True)[0]\n",
    "neigh_name = pd.DataFrame(df['Neighborhood'].value_counts()).index[0]\n",
    "print(\"{} has the most houses sales with {} making up {:.2%} of all sales.\".format(neigh_name, \n",
    "                                                                                  total, per))"
   ]
  },
  {
   "cell_type": "code",
   "execution_count": 20,
   "id": "aab9e59f",
   "metadata": {
    "execution": {
     "iopub.execute_input": "2022-08-16T04:03:48.872838Z",
     "iopub.status.busy": "2022-08-16T04:03:48.872085Z",
     "iopub.status.idle": "2022-08-16T04:03:48.879734Z",
     "shell.execute_reply": "2022-08-16T04:03:48.879075Z",
     "shell.execute_reply.started": "2022-04-14T12:33:00.999868Z"
    },
    "papermill": {
     "duration": 0.094522,
     "end_time": "2022-08-16T04:03:48.879888",
     "exception": false,
     "start_time": "2022-08-16T04:03:48.785366",
     "status": "completed"
    },
    "tags": []
   },
   "outputs": [
    {
     "name": "stdout",
     "output_type": "stream",
     "text": [
      "NAmes has the highest cumulative sales amount of $32,815,593 making up 12.43% of all transactions.\n"
     ]
    }
   ],
   "source": [
    "# Which neighborhood registers the sales with the highest price tags?\n",
    "df_grouped = pd.DataFrame(df.groupby('Neighborhood')['SalePrice'].sum())\n",
    "df_sorted = df_grouped.sort_values('SalePrice', ascending=False)\n",
    "df_sorted['per_total'] = (df_sorted['SalePrice'] / df_sorted['SalePrice'].sum())\n",
    "\n",
    "neigh_name = df_sorted.index[0]\n",
    "total = df_sorted['SalePrice'][0]\n",
    "per = df_sorted['per_total'][0]\n",
    "print(\"{} has the highest cumulative sales amount of ${:,} making up {:.2%} of all transactions.\".format(\n",
    "                                                                                                    neigh_name, \n",
    "                                                                                                    total, per))"
   ]
  },
  {
   "cell_type": "markdown",
   "id": "26ba9efb",
   "metadata": {
    "papermill": {
     "duration": 0.077279,
     "end_time": "2022-08-16T04:03:49.034360",
     "exception": false,
     "start_time": "2022-08-16T04:03:48.957081",
     "status": "completed"
    },
    "tags": []
   },
   "source": [
    "**Note:** As per the data dictionary, NAmes refers to Iowan city of North Ames. "
   ]
  },
  {
   "cell_type": "markdown",
   "id": "1789edf1",
   "metadata": {
    "papermill": {
     "duration": 0.075407,
     "end_time": "2022-08-16T04:03:49.184954",
     "exception": false,
     "start_time": "2022-08-16T04:03:49.109547",
     "status": "completed"
    },
    "tags": []
   },
   "source": [
    "**Question 3:** What miscellaneous feature add the most value?"
   ]
  },
  {
   "cell_type": "code",
   "execution_count": 21,
   "id": "05386671",
   "metadata": {
    "execution": {
     "iopub.execute_input": "2022-08-16T04:03:49.339627Z",
     "iopub.status.busy": "2022-08-16T04:03:49.338953Z",
     "iopub.status.idle": "2022-08-16T04:03:49.347002Z",
     "shell.execute_reply": "2022-08-16T04:03:49.346319Z",
     "shell.execute_reply.started": "2022-04-14T12:33:01.018408Z"
    },
    "papermill": {
     "duration": 0.086827,
     "end_time": "2022-08-16T04:03:49.347167",
     "exception": false,
     "start_time": "2022-08-16T04:03:49.260340",
     "status": "completed"
    },
    "tags": []
   },
   "outputs": [
    {
     "name": "stdout",
     "output_type": "stream",
     "text": [
      "For houses with miscellaneous features, Shed is the most prevalent in 49 houses.\n"
     ]
    }
   ],
   "source": [
    "# Which miscellaneous feature is the most prevalent?\n",
    "total = df['MiscFeature'].value_counts()[1]\n",
    "misc_name = pd.DataFrame(df['MiscFeature'].value_counts()).index[1]\n",
    "print(\"For houses with miscellaneous features, {} is the most prevalent in {} houses.\".format(misc_name, total))"
   ]
  },
  {
   "cell_type": "code",
   "execution_count": 22,
   "id": "bc489874",
   "metadata": {
    "execution": {
     "iopub.execute_input": "2022-08-16T04:03:49.511112Z",
     "iopub.status.busy": "2022-08-16T04:03:49.510411Z",
     "iopub.status.idle": "2022-08-16T04:03:49.513159Z",
     "shell.execute_reply": "2022-08-16T04:03:49.513650Z",
     "shell.execute_reply.started": "2022-04-14T12:33:01.037216Z"
    },
    "papermill": {
     "duration": 0.09063,
     "end_time": "2022-08-16T04:03:49.513825",
     "exception": false,
     "start_time": "2022-08-16T04:03:49.423195",
     "status": "completed"
    },
    "tags": []
   },
   "outputs": [
    {
     "name": "stdout",
     "output_type": "stream",
     "text": [
      "Shed brings $697.84 of value added making 0.48% of the house sale price on average.\n"
     ]
    }
   ],
   "source": [
    "# Calculating the value added\n",
    "misc = df[df['MiscFeature'] == 'Shed']['MiscVal']\n",
    "sale = df[df['MiscFeature'] == 'Shed']['SalePrice']\n",
    "avg_value_added = np.average(misc)\n",
    "per_sale = np.average(misc/sale)\n",
    "print(\"{} brings ${:.2f} of value added making {:.2%} of the house sale price on average.\".format(\n",
    "                                                                                                misc_name, \n",
    "                                                                                                avg_value_added,\n",
    "                                                                                                per_sale))"
   ]
  },
  {
   "cell_type": "markdown",
   "id": "96435b1a",
   "metadata": {
    "papermill": {
     "duration": 0.076698,
     "end_time": "2022-08-16T04:03:49.667881",
     "exception": false,
     "start_time": "2022-08-16T04:03:49.591183",
     "status": "completed"
    },
    "tags": []
   },
   "source": [
    "# 5. Feature Engineering"
   ]
  },
  {
   "cell_type": "markdown",
   "id": "fbe99f97",
   "metadata": {
    "papermill": {
     "duration": 0.076174,
     "end_time": "2022-08-16T04:03:49.821638",
     "exception": false,
     "start_time": "2022-08-16T04:03:49.745464",
     "status": "completed"
    },
    "tags": []
   },
   "source": [
    "**Feature Scaling:** When dealing with data, we are working with different types of which required adpated pre-processing before applying any machine learning techniques. In our content, we perform feature scaling to standardize only the values in continuous numerical variables. Read more [here](https://towardsdatascience.com/all-about-feature-scaling-bcc0ad75cb35)."
   ]
  },
  {
   "cell_type": "code",
   "execution_count": 23,
   "id": "543da4df",
   "metadata": {
    "execution": {
     "iopub.execute_input": "2022-08-16T04:03:49.976939Z",
     "iopub.status.busy": "2022-08-16T04:03:49.976246Z",
     "iopub.status.idle": "2022-08-16T04:03:50.010043Z",
     "shell.execute_reply": "2022-08-16T04:03:50.010639Z",
     "shell.execute_reply.started": "2022-04-14T12:33:01.05418Z"
    },
    "papermill": {
     "duration": 0.113335,
     "end_time": "2022-08-16T04:03:50.010825",
     "exception": false,
     "start_time": "2022-08-16T04:03:49.897490",
     "status": "completed"
    },
    "tags": []
   },
   "outputs": [
    {
     "data": {
      "text/html": [
       "<div>\n",
       "<style scoped>\n",
       "    .dataframe tbody tr th:only-of-type {\n",
       "        vertical-align: middle;\n",
       "    }\n",
       "\n",
       "    .dataframe tbody tr th {\n",
       "        vertical-align: top;\n",
       "    }\n",
       "\n",
       "    .dataframe thead th {\n",
       "        text-align: right;\n",
       "    }\n",
       "</style>\n",
       "<table border=\"1\" class=\"dataframe\">\n",
       "  <thead>\n",
       "    <tr style=\"text-align: right;\">\n",
       "      <th></th>\n",
       "      <th>Id</th>\n",
       "      <th>MSSubClass</th>\n",
       "      <th>MSZoning</th>\n",
       "      <th>LotFrontage</th>\n",
       "      <th>LotArea</th>\n",
       "      <th>Street</th>\n",
       "      <th>Alley</th>\n",
       "      <th>LotShape</th>\n",
       "      <th>LandContour</th>\n",
       "      <th>Utilities</th>\n",
       "      <th>...</th>\n",
       "      <th>PoolArea</th>\n",
       "      <th>PoolQC</th>\n",
       "      <th>Fence</th>\n",
       "      <th>MiscFeature</th>\n",
       "      <th>MiscVal</th>\n",
       "      <th>MoSold</th>\n",
       "      <th>YrSold</th>\n",
       "      <th>SaleType</th>\n",
       "      <th>SaleCondition</th>\n",
       "      <th>SalePrice</th>\n",
       "    </tr>\n",
       "  </thead>\n",
       "  <tbody>\n",
       "    <tr>\n",
       "      <th>0</th>\n",
       "      <td>1</td>\n",
       "      <td>60</td>\n",
       "      <td>RL</td>\n",
       "      <td>-0.240163</td>\n",
       "      <td>-0.207125</td>\n",
       "      <td>Pave</td>\n",
       "      <td>No alley access</td>\n",
       "      <td>Reg</td>\n",
       "      <td>Lvl</td>\n",
       "      <td>AllPub</td>\n",
       "      <td>...</td>\n",
       "      <td>-0.068715</td>\n",
       "      <td>No Pool</td>\n",
       "      <td>No Fence</td>\n",
       "      <td>No Misc</td>\n",
       "      <td>-0.087718</td>\n",
       "      <td>2</td>\n",
       "      <td>2008</td>\n",
       "      <td>WD</td>\n",
       "      <td>Normal</td>\n",
       "      <td>208500</td>\n",
       "    </tr>\n",
       "    <tr>\n",
       "      <th>1</th>\n",
       "      <td>2</td>\n",
       "      <td>20</td>\n",
       "      <td>RL</td>\n",
       "      <td>0.429345</td>\n",
       "      <td>-0.091909</td>\n",
       "      <td>Pave</td>\n",
       "      <td>No alley access</td>\n",
       "      <td>Reg</td>\n",
       "      <td>Lvl</td>\n",
       "      <td>AllPub</td>\n",
       "      <td>...</td>\n",
       "      <td>-0.068715</td>\n",
       "      <td>No Pool</td>\n",
       "      <td>No Fence</td>\n",
       "      <td>No Misc</td>\n",
       "      <td>-0.087718</td>\n",
       "      <td>5</td>\n",
       "      <td>2007</td>\n",
       "      <td>WD</td>\n",
       "      <td>Normal</td>\n",
       "      <td>181500</td>\n",
       "    </tr>\n",
       "    <tr>\n",
       "      <th>2</th>\n",
       "      <td>3</td>\n",
       "      <td>60</td>\n",
       "      <td>RL</td>\n",
       "      <td>-0.106262</td>\n",
       "      <td>0.073401</td>\n",
       "      <td>Pave</td>\n",
       "      <td>No alley access</td>\n",
       "      <td>IR1</td>\n",
       "      <td>Lvl</td>\n",
       "      <td>AllPub</td>\n",
       "      <td>...</td>\n",
       "      <td>-0.068715</td>\n",
       "      <td>No Pool</td>\n",
       "      <td>No Fence</td>\n",
       "      <td>No Misc</td>\n",
       "      <td>-0.087718</td>\n",
       "      <td>9</td>\n",
       "      <td>2008</td>\n",
       "      <td>WD</td>\n",
       "      <td>Normal</td>\n",
       "      <td>223500</td>\n",
       "    </tr>\n",
       "    <tr>\n",
       "      <th>3</th>\n",
       "      <td>4</td>\n",
       "      <td>70</td>\n",
       "      <td>RL</td>\n",
       "      <td>-0.463332</td>\n",
       "      <td>-0.096918</td>\n",
       "      <td>Pave</td>\n",
       "      <td>No alley access</td>\n",
       "      <td>IR1</td>\n",
       "      <td>Lvl</td>\n",
       "      <td>AllPub</td>\n",
       "      <td>...</td>\n",
       "      <td>-0.068715</td>\n",
       "      <td>No Pool</td>\n",
       "      <td>No Fence</td>\n",
       "      <td>No Misc</td>\n",
       "      <td>-0.087718</td>\n",
       "      <td>2</td>\n",
       "      <td>2006</td>\n",
       "      <td>WD</td>\n",
       "      <td>Abnorml</td>\n",
       "      <td>140000</td>\n",
       "    </tr>\n",
       "    <tr>\n",
       "      <th>4</th>\n",
       "      <td>5</td>\n",
       "      <td>60</td>\n",
       "      <td>RL</td>\n",
       "      <td>0.607880</td>\n",
       "      <td>0.374967</td>\n",
       "      <td>Pave</td>\n",
       "      <td>No alley access</td>\n",
       "      <td>IR1</td>\n",
       "      <td>Lvl</td>\n",
       "      <td>AllPub</td>\n",
       "      <td>...</td>\n",
       "      <td>-0.068715</td>\n",
       "      <td>No Pool</td>\n",
       "      <td>No Fence</td>\n",
       "      <td>No Misc</td>\n",
       "      <td>-0.087718</td>\n",
       "      <td>12</td>\n",
       "      <td>2008</td>\n",
       "      <td>WD</td>\n",
       "      <td>Normal</td>\n",
       "      <td>250000</td>\n",
       "    </tr>\n",
       "  </tbody>\n",
       "</table>\n",
       "<p>5 rows × 81 columns</p>\n",
       "</div>"
      ],
      "text/plain": [
       "   Id  MSSubClass MSZoning  LotFrontage   LotArea Street            Alley  \\\n",
       "0   1          60       RL    -0.240163 -0.207125   Pave  No alley access   \n",
       "1   2          20       RL     0.429345 -0.091909   Pave  No alley access   \n",
       "2   3          60       RL    -0.106262  0.073401   Pave  No alley access   \n",
       "3   4          70       RL    -0.463332 -0.096918   Pave  No alley access   \n",
       "4   5          60       RL     0.607880  0.374967   Pave  No alley access   \n",
       "\n",
       "  LotShape LandContour Utilities  ...  PoolArea   PoolQC     Fence  \\\n",
       "0      Reg         Lvl    AllPub  ... -0.068715  No Pool  No Fence   \n",
       "1      Reg         Lvl    AllPub  ... -0.068715  No Pool  No Fence   \n",
       "2      IR1         Lvl    AllPub  ... -0.068715  No Pool  No Fence   \n",
       "3      IR1         Lvl    AllPub  ... -0.068715  No Pool  No Fence   \n",
       "4      IR1         Lvl    AllPub  ... -0.068715  No Pool  No Fence   \n",
       "\n",
       "  MiscFeature   MiscVal MoSold YrSold  SaleType  SaleCondition  SalePrice  \n",
       "0     No Misc -0.087718      2   2008        WD         Normal     208500  \n",
       "1     No Misc -0.087718      5   2007        WD         Normal     181500  \n",
       "2     No Misc -0.087718      9   2008        WD         Normal     223500  \n",
       "3     No Misc -0.087718      2   2006        WD        Abnorml     140000  \n",
       "4     No Misc -0.087718     12   2008        WD         Normal     250000  \n",
       "\n",
       "[5 rows x 81 columns]"
      ]
     },
     "execution_count": 23,
     "metadata": {},
     "output_type": "execute_result"
    }
   ],
   "source": [
    "# Filter numeric columns\n",
    "num_vars = ['LotFrontage', 'LotArea', 'MasVnrArea', 'BsmtFinSF1',\n",
    "           'BsmtFinSF2', 'BsmtUnfSF', 'TotalBsmtSF', '1stFlrSF', '2ndFlrSF',\n",
    "           'LowQualFinSF', 'GrLivArea', 'GarageArea', 'WoodDeckSF', 'OpenPorchSF',\n",
    "            'EnclosedPorch', '3SsnPorch', 'ScreenPorch', 'PoolArea', 'MiscVal']\n",
    "\n",
    "scaler = StandardScaler().fit(df[num_vars].values)\n",
    "df[num_vars] = scaler.transform(df[num_vars].values)\n",
    "df.head()"
   ]
  },
  {
   "cell_type": "markdown",
   "id": "ef44fab1",
   "metadata": {
    "papermill": {
     "duration": 0.077438,
     "end_time": "2022-08-16T04:03:50.166086",
     "exception": false,
     "start_time": "2022-08-16T04:03:50.088648",
     "status": "completed"
    },
    "tags": []
   },
   "source": [
    "**Categorical feature encoding** ensures that variables with categories/groupings are transformed into numerical inputs for the predictive modeling phase. The categorical variables are also subdivided as:\n",
    "- binary (two possible outcomes)\n",
    "- cardinal (no meaningful order) \n",
    "- ordinal (meaningful order) \n",
    "\n",
    "Read more [here](https://www.analyticsvidhya.com/blog/2020/08/types-of-categorical-data-encoding/)."
   ]
  },
  {
   "cell_type": "code",
   "execution_count": 24,
   "id": "e9adaf2e",
   "metadata": {
    "execution": {
     "iopub.execute_input": "2022-08-16T04:03:50.322053Z",
     "iopub.status.busy": "2022-08-16T04:03:50.321344Z",
     "iopub.status.idle": "2022-08-16T04:03:50.383559Z",
     "shell.execute_reply": "2022-08-16T04:03:50.382885Z",
     "shell.execute_reply.started": "2022-04-14T12:33:01.094708Z"
    },
    "papermill": {
     "duration": 0.14131,
     "end_time": "2022-08-16T04:03:50.383708",
     "exception": false,
     "start_time": "2022-08-16T04:03:50.242398",
     "status": "completed"
    },
    "tags": []
   },
   "outputs": [
    {
     "data": {
      "text/html": [
       "<div>\n",
       "<style scoped>\n",
       "    .dataframe tbody tr th:only-of-type {\n",
       "        vertical-align: middle;\n",
       "    }\n",
       "\n",
       "    .dataframe tbody tr th {\n",
       "        vertical-align: top;\n",
       "    }\n",
       "\n",
       "    .dataframe thead th {\n",
       "        text-align: right;\n",
       "    }\n",
       "</style>\n",
       "<table border=\"1\" class=\"dataframe\">\n",
       "  <thead>\n",
       "    <tr style=\"text-align: right;\">\n",
       "      <th></th>\n",
       "      <th>Id</th>\n",
       "      <th>MSSubClass</th>\n",
       "      <th>MSZoning</th>\n",
       "      <th>LotFrontage</th>\n",
       "      <th>LotArea</th>\n",
       "      <th>Street</th>\n",
       "      <th>Alley</th>\n",
       "      <th>LotShape</th>\n",
       "      <th>LandContour</th>\n",
       "      <th>Utilities</th>\n",
       "      <th>...</th>\n",
       "      <th>PoolArea</th>\n",
       "      <th>PoolQC</th>\n",
       "      <th>Fence</th>\n",
       "      <th>MiscFeature</th>\n",
       "      <th>MiscVal</th>\n",
       "      <th>MoSold</th>\n",
       "      <th>YrSold</th>\n",
       "      <th>SaleType</th>\n",
       "      <th>SaleCondition</th>\n",
       "      <th>SalePrice</th>\n",
       "    </tr>\n",
       "  </thead>\n",
       "  <tbody>\n",
       "    <tr>\n",
       "      <th>0</th>\n",
       "      <td>1</td>\n",
       "      <td>60</td>\n",
       "      <td>RL</td>\n",
       "      <td>-0.240163</td>\n",
       "      <td>-0.207125</td>\n",
       "      <td>Pave</td>\n",
       "      <td>No alley access</td>\n",
       "      <td>Reg</td>\n",
       "      <td>Lvl</td>\n",
       "      <td>AllPub</td>\n",
       "      <td>...</td>\n",
       "      <td>-0.068715</td>\n",
       "      <td>No Pool</td>\n",
       "      <td>No Fence</td>\n",
       "      <td>No Misc</td>\n",
       "      <td>-0.087718</td>\n",
       "      <td>2</td>\n",
       "      <td>2008</td>\n",
       "      <td>WD</td>\n",
       "      <td>Normal</td>\n",
       "      <td>208500</td>\n",
       "    </tr>\n",
       "    <tr>\n",
       "      <th>1</th>\n",
       "      <td>2</td>\n",
       "      <td>20</td>\n",
       "      <td>RL</td>\n",
       "      <td>0.429345</td>\n",
       "      <td>-0.091909</td>\n",
       "      <td>Pave</td>\n",
       "      <td>No alley access</td>\n",
       "      <td>Reg</td>\n",
       "      <td>Lvl</td>\n",
       "      <td>AllPub</td>\n",
       "      <td>...</td>\n",
       "      <td>-0.068715</td>\n",
       "      <td>No Pool</td>\n",
       "      <td>No Fence</td>\n",
       "      <td>No Misc</td>\n",
       "      <td>-0.087718</td>\n",
       "      <td>5</td>\n",
       "      <td>2007</td>\n",
       "      <td>WD</td>\n",
       "      <td>Normal</td>\n",
       "      <td>181500</td>\n",
       "    </tr>\n",
       "    <tr>\n",
       "      <th>2</th>\n",
       "      <td>3</td>\n",
       "      <td>60</td>\n",
       "      <td>RL</td>\n",
       "      <td>-0.106262</td>\n",
       "      <td>0.073401</td>\n",
       "      <td>Pave</td>\n",
       "      <td>No alley access</td>\n",
       "      <td>IR1</td>\n",
       "      <td>Lvl</td>\n",
       "      <td>AllPub</td>\n",
       "      <td>...</td>\n",
       "      <td>-0.068715</td>\n",
       "      <td>No Pool</td>\n",
       "      <td>No Fence</td>\n",
       "      <td>No Misc</td>\n",
       "      <td>-0.087718</td>\n",
       "      <td>9</td>\n",
       "      <td>2008</td>\n",
       "      <td>WD</td>\n",
       "      <td>Normal</td>\n",
       "      <td>223500</td>\n",
       "    </tr>\n",
       "    <tr>\n",
       "      <th>3</th>\n",
       "      <td>4</td>\n",
       "      <td>70</td>\n",
       "      <td>RL</td>\n",
       "      <td>-0.463332</td>\n",
       "      <td>-0.096918</td>\n",
       "      <td>Pave</td>\n",
       "      <td>No alley access</td>\n",
       "      <td>IR1</td>\n",
       "      <td>Lvl</td>\n",
       "      <td>AllPub</td>\n",
       "      <td>...</td>\n",
       "      <td>-0.068715</td>\n",
       "      <td>No Pool</td>\n",
       "      <td>No Fence</td>\n",
       "      <td>No Misc</td>\n",
       "      <td>-0.087718</td>\n",
       "      <td>2</td>\n",
       "      <td>2006</td>\n",
       "      <td>WD</td>\n",
       "      <td>Abnorml</td>\n",
       "      <td>140000</td>\n",
       "    </tr>\n",
       "    <tr>\n",
       "      <th>4</th>\n",
       "      <td>5</td>\n",
       "      <td>60</td>\n",
       "      <td>RL</td>\n",
       "      <td>0.607880</td>\n",
       "      <td>0.374967</td>\n",
       "      <td>Pave</td>\n",
       "      <td>No alley access</td>\n",
       "      <td>IR1</td>\n",
       "      <td>Lvl</td>\n",
       "      <td>AllPub</td>\n",
       "      <td>...</td>\n",
       "      <td>-0.068715</td>\n",
       "      <td>No Pool</td>\n",
       "      <td>No Fence</td>\n",
       "      <td>No Misc</td>\n",
       "      <td>-0.087718</td>\n",
       "      <td>12</td>\n",
       "      <td>2008</td>\n",
       "      <td>WD</td>\n",
       "      <td>Normal</td>\n",
       "      <td>250000</td>\n",
       "    </tr>\n",
       "  </tbody>\n",
       "</table>\n",
       "<p>5 rows × 82 columns</p>\n",
       "</div>"
      ],
      "text/plain": [
       "   Id  MSSubClass MSZoning  LotFrontage   LotArea Street            Alley  \\\n",
       "0   1          60       RL    -0.240163 -0.207125   Pave  No alley access   \n",
       "1   2          20       RL     0.429345 -0.091909   Pave  No alley access   \n",
       "2   3          60       RL    -0.106262  0.073401   Pave  No alley access   \n",
       "3   4          70       RL    -0.463332 -0.096918   Pave  No alley access   \n",
       "4   5          60       RL     0.607880  0.374967   Pave  No alley access   \n",
       "\n",
       "  LotShape LandContour Utilities  ...  PoolArea   PoolQC     Fence  \\\n",
       "0      Reg         Lvl    AllPub  ... -0.068715  No Pool  No Fence   \n",
       "1      Reg         Lvl    AllPub  ... -0.068715  No Pool  No Fence   \n",
       "2      IR1         Lvl    AllPub  ... -0.068715  No Pool  No Fence   \n",
       "3      IR1         Lvl    AllPub  ... -0.068715  No Pool  No Fence   \n",
       "4      IR1         Lvl    AllPub  ... -0.068715  No Pool  No Fence   \n",
       "\n",
       "  MiscFeature   MiscVal MoSold YrSold  SaleType  SaleCondition  SalePrice  \n",
       "0     No Misc -0.087718      2   2008        WD         Normal     208500  \n",
       "1     No Misc -0.087718      5   2007        WD         Normal     181500  \n",
       "2     No Misc -0.087718      9   2008        WD         Normal     223500  \n",
       "3     No Misc -0.087718      2   2006        WD        Abnorml     140000  \n",
       "4     No Misc -0.087718     12   2008        WD         Normal     250000  \n",
       "\n",
       "[5 rows x 82 columns]"
      ]
     },
     "execution_count": 24,
     "metadata": {},
     "output_type": "execute_result"
    }
   ],
   "source": [
    "# Encoding binary categorical variables\n",
    "binary = ['CentralAir']\n",
    "\n",
    "# Applying binary encoder\n",
    "binenc = ce.BinaryEncoder(cols = binary, return_df = True)\n",
    "bin_df = binenc.fit_transform(df)  \n",
    "bin_df.head()"
   ]
  },
  {
   "cell_type": "code",
   "execution_count": 25,
   "id": "401d5abb",
   "metadata": {
    "execution": {
     "iopub.execute_input": "2022-08-16T04:03:50.545683Z",
     "iopub.status.busy": "2022-08-16T04:03:50.544913Z",
     "iopub.status.idle": "2022-08-16T04:03:50.890196Z",
     "shell.execute_reply": "2022-08-16T04:03:50.890743Z",
     "shell.execute_reply.started": "2022-04-14T12:33:01.163148Z"
    },
    "papermill": {
     "duration": 0.428075,
     "end_time": "2022-08-16T04:03:50.890931",
     "exception": false,
     "start_time": "2022-08-16T04:03:50.462856",
     "status": "completed"
    },
    "tags": []
   },
   "outputs": [
    {
     "data": {
      "text/html": [
       "<div>\n",
       "<style scoped>\n",
       "    .dataframe tbody tr th:only-of-type {\n",
       "        vertical-align: middle;\n",
       "    }\n",
       "\n",
       "    .dataframe tbody tr th {\n",
       "        vertical-align: top;\n",
       "    }\n",
       "\n",
       "    .dataframe thead th {\n",
       "        text-align: right;\n",
       "    }\n",
       "</style>\n",
       "<table border=\"1\" class=\"dataframe\">\n",
       "  <thead>\n",
       "    <tr style=\"text-align: right;\">\n",
       "      <th></th>\n",
       "      <th>Id</th>\n",
       "      <th>MSSubClass_60.0</th>\n",
       "      <th>MSSubClass_20.0</th>\n",
       "      <th>MSSubClass_70.0</th>\n",
       "      <th>MSSubClass_50.0</th>\n",
       "      <th>MSSubClass_190.0</th>\n",
       "      <th>MSSubClass_45.0</th>\n",
       "      <th>MSSubClass_90.0</th>\n",
       "      <th>MSSubClass_120.0</th>\n",
       "      <th>MSSubClass_30.0</th>\n",
       "      <th>...</th>\n",
       "      <th>SaleType_ConLw</th>\n",
       "      <th>SaleType_Con</th>\n",
       "      <th>SaleType_Oth</th>\n",
       "      <th>SaleCondition_Normal</th>\n",
       "      <th>SaleCondition_Abnorml</th>\n",
       "      <th>SaleCondition_Partial</th>\n",
       "      <th>SaleCondition_AdjLand</th>\n",
       "      <th>SaleCondition_Alloca</th>\n",
       "      <th>SaleCondition_Family</th>\n",
       "      <th>SalePrice</th>\n",
       "    </tr>\n",
       "  </thead>\n",
       "  <tbody>\n",
       "    <tr>\n",
       "      <th>0</th>\n",
       "      <td>1</td>\n",
       "      <td>1</td>\n",
       "      <td>0</td>\n",
       "      <td>0</td>\n",
       "      <td>0</td>\n",
       "      <td>0</td>\n",
       "      <td>0</td>\n",
       "      <td>0</td>\n",
       "      <td>0</td>\n",
       "      <td>0</td>\n",
       "      <td>...</td>\n",
       "      <td>0</td>\n",
       "      <td>0</td>\n",
       "      <td>0</td>\n",
       "      <td>1</td>\n",
       "      <td>0</td>\n",
       "      <td>0</td>\n",
       "      <td>0</td>\n",
       "      <td>0</td>\n",
       "      <td>0</td>\n",
       "      <td>208500</td>\n",
       "    </tr>\n",
       "    <tr>\n",
       "      <th>1</th>\n",
       "      <td>2</td>\n",
       "      <td>0</td>\n",
       "      <td>1</td>\n",
       "      <td>0</td>\n",
       "      <td>0</td>\n",
       "      <td>0</td>\n",
       "      <td>0</td>\n",
       "      <td>0</td>\n",
       "      <td>0</td>\n",
       "      <td>0</td>\n",
       "      <td>...</td>\n",
       "      <td>0</td>\n",
       "      <td>0</td>\n",
       "      <td>0</td>\n",
       "      <td>1</td>\n",
       "      <td>0</td>\n",
       "      <td>0</td>\n",
       "      <td>0</td>\n",
       "      <td>0</td>\n",
       "      <td>0</td>\n",
       "      <td>181500</td>\n",
       "    </tr>\n",
       "    <tr>\n",
       "      <th>2</th>\n",
       "      <td>3</td>\n",
       "      <td>1</td>\n",
       "      <td>0</td>\n",
       "      <td>0</td>\n",
       "      <td>0</td>\n",
       "      <td>0</td>\n",
       "      <td>0</td>\n",
       "      <td>0</td>\n",
       "      <td>0</td>\n",
       "      <td>0</td>\n",
       "      <td>...</td>\n",
       "      <td>0</td>\n",
       "      <td>0</td>\n",
       "      <td>0</td>\n",
       "      <td>1</td>\n",
       "      <td>0</td>\n",
       "      <td>0</td>\n",
       "      <td>0</td>\n",
       "      <td>0</td>\n",
       "      <td>0</td>\n",
       "      <td>223500</td>\n",
       "    </tr>\n",
       "    <tr>\n",
       "      <th>3</th>\n",
       "      <td>4</td>\n",
       "      <td>0</td>\n",
       "      <td>0</td>\n",
       "      <td>1</td>\n",
       "      <td>0</td>\n",
       "      <td>0</td>\n",
       "      <td>0</td>\n",
       "      <td>0</td>\n",
       "      <td>0</td>\n",
       "      <td>0</td>\n",
       "      <td>...</td>\n",
       "      <td>0</td>\n",
       "      <td>0</td>\n",
       "      <td>0</td>\n",
       "      <td>0</td>\n",
       "      <td>1</td>\n",
       "      <td>0</td>\n",
       "      <td>0</td>\n",
       "      <td>0</td>\n",
       "      <td>0</td>\n",
       "      <td>140000</td>\n",
       "    </tr>\n",
       "    <tr>\n",
       "      <th>4</th>\n",
       "      <td>5</td>\n",
       "      <td>1</td>\n",
       "      <td>0</td>\n",
       "      <td>0</td>\n",
       "      <td>0</td>\n",
       "      <td>0</td>\n",
       "      <td>0</td>\n",
       "      <td>0</td>\n",
       "      <td>0</td>\n",
       "      <td>0</td>\n",
       "      <td>...</td>\n",
       "      <td>0</td>\n",
       "      <td>0</td>\n",
       "      <td>0</td>\n",
       "      <td>1</td>\n",
       "      <td>0</td>\n",
       "      <td>0</td>\n",
       "      <td>0</td>\n",
       "      <td>0</td>\n",
       "      <td>0</td>\n",
       "      <td>250000</td>\n",
       "    </tr>\n",
       "  </tbody>\n",
       "</table>\n",
       "<p>5 rows × 245 columns</p>\n",
       "</div>"
      ],
      "text/plain": [
       "   Id  MSSubClass_60.0  MSSubClass_20.0  MSSubClass_70.0  MSSubClass_50.0  \\\n",
       "0   1                1                0                0                0   \n",
       "1   2                0                1                0                0   \n",
       "2   3                1                0                0                0   \n",
       "3   4                0                0                1                0   \n",
       "4   5                1                0                0                0   \n",
       "\n",
       "   MSSubClass_190.0  MSSubClass_45.0  MSSubClass_90.0  MSSubClass_120.0  \\\n",
       "0                 0                0                0                 0   \n",
       "1                 0                0                0                 0   \n",
       "2                 0                0                0                 0   \n",
       "3                 0                0                0                 0   \n",
       "4                 0                0                0                 0   \n",
       "\n",
       "   MSSubClass_30.0  ...  SaleType_ConLw  SaleType_Con  SaleType_Oth  \\\n",
       "0                0  ...               0             0             0   \n",
       "1                0  ...               0             0             0   \n",
       "2                0  ...               0             0             0   \n",
       "3                0  ...               0             0             0   \n",
       "4                0  ...               0             0             0   \n",
       "\n",
       "   SaleCondition_Normal  SaleCondition_Abnorml  SaleCondition_Partial  \\\n",
       "0                     1                      0                      0   \n",
       "1                     1                      0                      0   \n",
       "2                     1                      0                      0   \n",
       "3                     0                      1                      0   \n",
       "4                     1                      0                      0   \n",
       "\n",
       "   SaleCondition_AdjLand  SaleCondition_Alloca  SaleCondition_Family  \\\n",
       "0                      0                     0                     0   \n",
       "1                      0                     0                     0   \n",
       "2                      0                     0                     0   \n",
       "3                      0                     0                     0   \n",
       "4                      0                     0                     0   \n",
       "\n",
       "   SalePrice  \n",
       "0     208500  \n",
       "1     181500  \n",
       "2     223500  \n",
       "3     140000  \n",
       "4     250000  \n",
       "\n",
       "[5 rows x 245 columns]"
      ]
     },
     "execution_count": 25,
     "metadata": {},
     "output_type": "execute_result"
    }
   ],
   "source": [
    "# List of nominal categorical variables\n",
    "cardinal = ['MSSubClass', 'MSZoning', 'Street', 'Alley', 'LotConfig', \n",
    "            'Neighborhood', 'Condition1', 'Condition2', 'BldgType', \n",
    "            'HouseStyle', 'RoofStyle', 'RoofMatl', 'Exterior1st', \n",
    "            'Exterior2nd', 'MasVnrType', 'Foundation', 'Heating', 'Electrical', \n",
    "            'Functional', 'GarageType', 'MiscFeature', 'SaleType', \n",
    "            'SaleCondition']\n",
    "\n",
    "\n",
    "# Applying one-hot encoder \n",
    "ohe = ce.OneHotEncoder(cols = cardinal, use_cat_names=True, return_df = True)\n",
    "df_card_enc = ohe.fit_transform(bin_df)  \n",
    "df_card_enc.head()"
   ]
  },
  {
   "cell_type": "code",
   "execution_count": 26,
   "id": "aacb014e",
   "metadata": {
    "execution": {
     "iopub.execute_input": "2022-08-16T04:03:51.050313Z",
     "iopub.status.busy": "2022-08-16T04:03:51.049491Z",
     "iopub.status.idle": "2022-08-16T04:03:51.177361Z",
     "shell.execute_reply": "2022-08-16T04:03:51.177871Z",
     "shell.execute_reply.started": "2022-04-14T12:33:01.528777Z"
    },
    "papermill": {
     "duration": 0.209319,
     "end_time": "2022-08-16T04:03:51.178058",
     "exception": false,
     "start_time": "2022-08-16T04:03:50.968739",
     "status": "completed"
    },
    "tags": []
   },
   "outputs": [
    {
     "data": {
      "text/html": [
       "<div>\n",
       "<style scoped>\n",
       "    .dataframe tbody tr th:only-of-type {\n",
       "        vertical-align: middle;\n",
       "    }\n",
       "\n",
       "    .dataframe tbody tr th {\n",
       "        vertical-align: top;\n",
       "    }\n",
       "\n",
       "    .dataframe thead th {\n",
       "        text-align: right;\n",
       "    }\n",
       "</style>\n",
       "<table border=\"1\" class=\"dataframe\">\n",
       "  <thead>\n",
       "    <tr style=\"text-align: right;\">\n",
       "      <th></th>\n",
       "      <th>Id</th>\n",
       "      <th>MSSubClass_60.0</th>\n",
       "      <th>MSSubClass_20.0</th>\n",
       "      <th>MSSubClass_70.0</th>\n",
       "      <th>MSSubClass_50.0</th>\n",
       "      <th>MSSubClass_190.0</th>\n",
       "      <th>MSSubClass_45.0</th>\n",
       "      <th>MSSubClass_90.0</th>\n",
       "      <th>MSSubClass_120.0</th>\n",
       "      <th>MSSubClass_30.0</th>\n",
       "      <th>...</th>\n",
       "      <th>SaleType_ConLw</th>\n",
       "      <th>SaleType_Con</th>\n",
       "      <th>SaleType_Oth</th>\n",
       "      <th>SaleCondition_Normal</th>\n",
       "      <th>SaleCondition_Abnorml</th>\n",
       "      <th>SaleCondition_Partial</th>\n",
       "      <th>SaleCondition_AdjLand</th>\n",
       "      <th>SaleCondition_Alloca</th>\n",
       "      <th>SaleCondition_Family</th>\n",
       "      <th>SalePrice</th>\n",
       "    </tr>\n",
       "  </thead>\n",
       "  <tbody>\n",
       "    <tr>\n",
       "      <th>0</th>\n",
       "      <td>1</td>\n",
       "      <td>1</td>\n",
       "      <td>0</td>\n",
       "      <td>0</td>\n",
       "      <td>0</td>\n",
       "      <td>0</td>\n",
       "      <td>0</td>\n",
       "      <td>0</td>\n",
       "      <td>0</td>\n",
       "      <td>0</td>\n",
       "      <td>...</td>\n",
       "      <td>0</td>\n",
       "      <td>0</td>\n",
       "      <td>0</td>\n",
       "      <td>1</td>\n",
       "      <td>0</td>\n",
       "      <td>0</td>\n",
       "      <td>0</td>\n",
       "      <td>0</td>\n",
       "      <td>0</td>\n",
       "      <td>208500</td>\n",
       "    </tr>\n",
       "    <tr>\n",
       "      <th>1</th>\n",
       "      <td>2</td>\n",
       "      <td>0</td>\n",
       "      <td>1</td>\n",
       "      <td>0</td>\n",
       "      <td>0</td>\n",
       "      <td>0</td>\n",
       "      <td>0</td>\n",
       "      <td>0</td>\n",
       "      <td>0</td>\n",
       "      <td>0</td>\n",
       "      <td>...</td>\n",
       "      <td>0</td>\n",
       "      <td>0</td>\n",
       "      <td>0</td>\n",
       "      <td>1</td>\n",
       "      <td>0</td>\n",
       "      <td>0</td>\n",
       "      <td>0</td>\n",
       "      <td>0</td>\n",
       "      <td>0</td>\n",
       "      <td>181500</td>\n",
       "    </tr>\n",
       "    <tr>\n",
       "      <th>2</th>\n",
       "      <td>3</td>\n",
       "      <td>1</td>\n",
       "      <td>0</td>\n",
       "      <td>0</td>\n",
       "      <td>0</td>\n",
       "      <td>0</td>\n",
       "      <td>0</td>\n",
       "      <td>0</td>\n",
       "      <td>0</td>\n",
       "      <td>0</td>\n",
       "      <td>...</td>\n",
       "      <td>0</td>\n",
       "      <td>0</td>\n",
       "      <td>0</td>\n",
       "      <td>1</td>\n",
       "      <td>0</td>\n",
       "      <td>0</td>\n",
       "      <td>0</td>\n",
       "      <td>0</td>\n",
       "      <td>0</td>\n",
       "      <td>223500</td>\n",
       "    </tr>\n",
       "    <tr>\n",
       "      <th>3</th>\n",
       "      <td>4</td>\n",
       "      <td>0</td>\n",
       "      <td>0</td>\n",
       "      <td>1</td>\n",
       "      <td>0</td>\n",
       "      <td>0</td>\n",
       "      <td>0</td>\n",
       "      <td>0</td>\n",
       "      <td>0</td>\n",
       "      <td>0</td>\n",
       "      <td>...</td>\n",
       "      <td>0</td>\n",
       "      <td>0</td>\n",
       "      <td>0</td>\n",
       "      <td>0</td>\n",
       "      <td>1</td>\n",
       "      <td>0</td>\n",
       "      <td>0</td>\n",
       "      <td>0</td>\n",
       "      <td>0</td>\n",
       "      <td>140000</td>\n",
       "    </tr>\n",
       "    <tr>\n",
       "      <th>4</th>\n",
       "      <td>5</td>\n",
       "      <td>1</td>\n",
       "      <td>0</td>\n",
       "      <td>0</td>\n",
       "      <td>0</td>\n",
       "      <td>0</td>\n",
       "      <td>0</td>\n",
       "      <td>0</td>\n",
       "      <td>0</td>\n",
       "      <td>0</td>\n",
       "      <td>...</td>\n",
       "      <td>0</td>\n",
       "      <td>0</td>\n",
       "      <td>0</td>\n",
       "      <td>1</td>\n",
       "      <td>0</td>\n",
       "      <td>0</td>\n",
       "      <td>0</td>\n",
       "      <td>0</td>\n",
       "      <td>0</td>\n",
       "      <td>250000</td>\n",
       "    </tr>\n",
       "  </tbody>\n",
       "</table>\n",
       "<p>5 rows × 245 columns</p>\n",
       "</div>"
      ],
      "text/plain": [
       "   Id  MSSubClass_60.0  MSSubClass_20.0  MSSubClass_70.0  MSSubClass_50.0  \\\n",
       "0   1                1                0                0                0   \n",
       "1   2                0                1                0                0   \n",
       "2   3                1                0                0                0   \n",
       "3   4                0                0                1                0   \n",
       "4   5                1                0                0                0   \n",
       "\n",
       "   MSSubClass_190.0  MSSubClass_45.0  MSSubClass_90.0  MSSubClass_120.0  \\\n",
       "0                 0                0                0                 0   \n",
       "1                 0                0                0                 0   \n",
       "2                 0                0                0                 0   \n",
       "3                 0                0                0                 0   \n",
       "4                 0                0                0                 0   \n",
       "\n",
       "   MSSubClass_30.0  ...  SaleType_ConLw  SaleType_Con  SaleType_Oth  \\\n",
       "0                0  ...               0             0             0   \n",
       "1                0  ...               0             0             0   \n",
       "2                0  ...               0             0             0   \n",
       "3                0  ...               0             0             0   \n",
       "4                0  ...               0             0             0   \n",
       "\n",
       "   SaleCondition_Normal  SaleCondition_Abnorml  SaleCondition_Partial  \\\n",
       "0                     1                      0                      0   \n",
       "1                     1                      0                      0   \n",
       "2                     1                      0                      0   \n",
       "3                     0                      1                      0   \n",
       "4                     1                      0                      0   \n",
       "\n",
       "   SaleCondition_AdjLand  SaleCondition_Alloca  SaleCondition_Family  \\\n",
       "0                      0                     0                     0   \n",
       "1                      0                     0                     0   \n",
       "2                      0                     0                     0   \n",
       "3                      0                     0                     0   \n",
       "4                      0                     0                     0   \n",
       "\n",
       "   SalePrice  \n",
       "0     208500  \n",
       "1     181500  \n",
       "2     223500  \n",
       "3     140000  \n",
       "4     250000  \n",
       "\n",
       "[5 rows x 245 columns]"
      ]
     },
     "execution_count": 26,
     "metadata": {},
     "output_type": "execute_result"
    }
   ],
   "source": [
    "# Encoding cardinal categorical variables\n",
    "ordinal_cols_mapping = [ \n",
    "    {\"col\" : 'LotShape', \"mapping\": {'Reg':0, 'IR1': 1, 'IR2':2, 'IR3':3}},\n",
    "    {\"col\" : 'LandContour', \"mapping\": {'Low':0, 'Lvl':1, 'Bnk':2, 'HLS':3}},\n",
    "    {\"col\" : 'Utilities', \"mapping\": {'ELO':0, 'NoSeWa':1, 'NoSewr':2, 'AllPub':3}},\n",
    "    {\"col\" : 'LandSlope', \"mapping\": {'Gtl': 0, 'Mod': 1, 'Sev':2}},\n",
    "    {\"col\" : 'OverallQual', \"mapping\": {1: 0, 2: 1, 3:2, 4:3, 5:4, 6:5, 7:6, 8:7, 9:8, 10:9}},\n",
    "    {\"col\" : 'OverallCond', \"mapping\": {1: 0, 2: 1, 3:2, 4:3, 5:4, 6:5, 7:6, 8:7, 9:8, 10:9}},\n",
    "    {\"col\" : 'ExterQual', \"mapping\": {'Po':0, 'Fa':1, 'TA':2, 'Gd':3, 'Ex':4}},\n",
    "    {\"col\" : 'ExterCond', \"mapping\": {'Po':0, 'Fa':1, 'TA':2, 'Gd':3, 'Ex':4}},\n",
    "    {\"col\" : 'BsmtQual', \"mapping\": {'No Basement':0, 'Po':1, 'Fa':2, 'TA':3, 'Gd':4, 'Ex':5}},\n",
    "    {\"col\" : 'BsmtCond', \"mapping\": {'No Basement':0, 'Po':1, 'Fa':2, 'TA':3, 'Gd':4, 'Ex':5}},   \n",
    "    {\"col\" : 'BsmtExposure', \"mapping\": {'No Basement':0, 'No':1, 'Mn':2, 'Av':3, 'Gd':4}},\n",
    "    {\"col\" : 'BsmtFinType1', \"mapping\": {'No Basement':0, 'Unf':1, 'LwQ':2, 'Rec':3, 'BLQ':4, 'ALQ':5, 'GLQ':6}}, \n",
    "    {\"col\" : 'BsmtFinType2', \"mapping\": {'No Basement':0, 'Unf':1, 'LwQ':2, 'Rec':3, 'BLQ':4, 'ALQ':5, 'GLQ':6}},  \n",
    "    {\"col\" : 'HeatingQC', \"mapping\": {'Po':0, 'Fa':1, 'TA':2, 'Gd':3, 'Ex':4}},\n",
    "    {\"col\" : 'KitchenQual', \"mapping\": {'Po':0, 'Fa':1, 'TA':2, 'Gd':3, 'Ex':4}},\n",
    "    {\"col\" : 'FireplaceQu', \"mapping\": {'No Fireplace':0, 'Po':1, 'Fa':2, 'TA':3, 'Gd':4, 'Ex':5}},\n",
    "    {\"col\" : 'GarageFinish', \"mapping\": {'No Garage':0, 'Unf':1, 'RFn':2, 'Fin':3}},\n",
    "    {\"col\" : 'GarageQual', \"mapping\": {'No Garage':0, 'Po':1, 'Fa':2, 'TA':3, 'Gd':4, 'Ex':5}},\n",
    "    {\"col\" : 'GarageCond', \"mapping\": {'No Garage':0, 'Po':1, 'Fa':2, 'TA':3, 'Gd':4, 'Ex':5}},\n",
    "    {\"col\" : 'PavedDrive', \"mapping\": {'N':0, 'P':1, 'Y':2}}, \n",
    "    {\"col\" : 'PoolQC', \"mapping\": {'No Pool':0, 'Po':1, 'Fa':2, 'TA':3, 'Gd':4, 'Ex':5}},\n",
    "    {\"col\" : 'Fence', \"mapping\":{'No Fence':0, 'MnWw':1, 'GdWo':2, 'MnPrv':3, 'GdPrv':4}}\n",
    "]\n",
    "\n",
    "# Applying ordinal encoder\n",
    "ordenc = ce.OrdinalEncoder(mapping = ordinal_cols_mapping, return_df = True)\n",
    "df_ord_enc = ordenc.fit_transform(df_card_enc)  \n",
    "df_ord_enc.head()"
   ]
  },
  {
   "cell_type": "markdown",
   "id": "568b5532",
   "metadata": {
    "papermill": {
     "duration": 0.077909,
     "end_time": "2022-08-16T04:03:51.334122",
     "exception": false,
     "start_time": "2022-08-16T04:03:51.256213",
     "status": "completed"
    },
    "tags": []
   },
   "source": [
    "**Datetime Variables:** There are variables denoting dates and thus, may hold significance and impact our target variable: the house's sale price. \n",
    "\n",
    "Based on research, we thought that the most sensible option would be to transform the datetime variables into ordinal categories in twofold:\n",
    " - Direct encoding of 'MoSold' and 'YrSold' having 12 and 5 pre-defined categories that are the 12 months and 5 years respectively during which the houses in the dataset were sold.\n",
    " - Binning of 'YearRemodAdd' and 'YearBuilt' into 6 categories of 10 and 20 years of interval respectively before proceding to ordinal encoding as well."
   ]
  },
  {
   "cell_type": "code",
   "execution_count": 27,
   "id": "c8cd8ca6",
   "metadata": {
    "execution": {
     "iopub.execute_input": "2022-08-16T04:03:51.493806Z",
     "iopub.status.busy": "2022-08-16T04:03:51.493167Z",
     "iopub.status.idle": "2022-08-16T04:03:51.510924Z",
     "shell.execute_reply": "2022-08-16T04:03:51.511416Z",
     "shell.execute_reply.started": "2022-04-14T12:33:01.676558Z"
    },
    "papermill": {
     "duration": 0.099219,
     "end_time": "2022-08-16T04:03:51.511598",
     "exception": false,
     "start_time": "2022-08-16T04:03:51.412379",
     "status": "completed"
    },
    "tags": []
   },
   "outputs": [
    {
     "data": {
      "text/plain": [
       "(2000.0, 2010.0]    496\n",
       "(1990.0, 2000.0]    285\n",
       "(1950.0, 1960.0]    284\n",
       "(1970.0, 1980.0]    159\n",
       "(1960.0, 1970.0]    149\n",
       "(1980.0, 1990.0]     86\n",
       "Name: YearRemodAdd, dtype: int64"
      ]
     },
     "execution_count": 27,
     "metadata": {},
     "output_type": "execute_result"
    }
   ],
   "source": [
    "# Binning date variables in time intervals\n",
    "df_ord_enc['YearRemodAdd'] = pd.cut(df_ord_enc['YearRemodAdd'], bins=6, precision=0).astype(str)\n",
    "df_ord_enc['YearRemodAdd'].value_counts()"
   ]
  },
  {
   "cell_type": "code",
   "execution_count": 28,
   "id": "12466366",
   "metadata": {
    "execution": {
     "iopub.execute_input": "2022-08-16T04:03:51.671781Z",
     "iopub.status.busy": "2022-08-16T04:03:51.671167Z",
     "iopub.status.idle": "2022-08-16T04:03:51.683503Z",
     "shell.execute_reply": "2022-08-16T04:03:51.684129Z",
     "shell.execute_reply.started": "2022-04-14T12:33:01.702725Z"
    },
    "papermill": {
     "duration": 0.093838,
     "end_time": "2022-08-16T04:03:51.684339",
     "exception": false,
     "start_time": "2022-08-16T04:03:51.590501",
     "status": "completed"
    },
    "tags": []
   },
   "outputs": [
    {
     "data": {
      "text/plain": [
       "(1987.0, 2010.0]    564\n",
       "(1964.0, 1987.0]    329\n",
       "(1941.0, 1964.0]    294\n",
       "(1918.0, 1941.0]    187\n",
       "(1895.0, 1918.0]     71\n",
       "(1872.0, 1895.0]     14\n",
       "Name: YearBuilt, dtype: int64"
      ]
     },
     "execution_count": 28,
     "metadata": {},
     "output_type": "execute_result"
    }
   ],
   "source": [
    "df_ord_enc['YearBuilt'] = pd.cut(df_ord_enc['YearBuilt'], bins=6, precision=0).astype(str)\n",
    "df_ord_enc['YearBuilt'].value_counts()"
   ]
  },
  {
   "cell_type": "code",
   "execution_count": 29,
   "id": "4f2430ee",
   "metadata": {
    "execution": {
     "iopub.execute_input": "2022-08-16T04:03:51.847935Z",
     "iopub.status.busy": "2022-08-16T04:03:51.847267Z",
     "iopub.status.idle": "2022-08-16T04:03:51.865925Z",
     "shell.execute_reply": "2022-08-16T04:03:51.866477Z",
     "shell.execute_reply.started": "2022-04-14T12:33:01.723964Z"
    },
    "papermill": {
     "duration": 0.100786,
     "end_time": "2022-08-16T04:03:51.866657",
     "exception": false,
     "start_time": "2022-08-16T04:03:51.765871",
     "status": "completed"
    },
    "tags": []
   },
   "outputs": [
    {
     "data": {
      "text/plain": [
       "(1992.0, 2010.0]    572\n",
       "(1955.0, 1973.0]    320\n",
       "(1973.0, 1992.0]    245\n",
       "(1937.0, 1955.0]    146\n",
       "No Garage            81\n",
       "(1918.0, 1937.0]     78\n",
       "(1900.0, 1918.0]     17\n",
       "Name: GarageYrBlt, dtype: int64"
      ]
     },
     "execution_count": 29,
     "metadata": {},
     "output_type": "execute_result"
    }
   ],
   "source": [
    "df_ord_enc['GarageYrBlt'] = pd.cut(df_ord_enc[df_ord_enc['GarageYrBlt'] != 0]['GarageYrBlt']\n",
    "                                   , bins=6, precision=0).astype(str)\n",
    "df_ord_enc['GarageYrBlt'].fillna(\"No Garage\", inplace = True)\n",
    "df_ord_enc['GarageYrBlt'].value_counts()"
   ]
  },
  {
   "cell_type": "code",
   "execution_count": 30,
   "id": "82a23127",
   "metadata": {
    "execution": {
     "iopub.execute_input": "2022-08-16T04:03:52.030438Z",
     "iopub.status.busy": "2022-08-16T04:03:52.029658Z",
     "iopub.status.idle": "2022-08-16T04:03:52.076291Z",
     "shell.execute_reply": "2022-08-16T04:03:52.075728Z",
     "shell.execute_reply.started": "2022-04-14T12:33:01.755613Z"
    },
    "papermill": {
     "duration": 0.129795,
     "end_time": "2022-08-16T04:03:52.076456",
     "exception": false,
     "start_time": "2022-08-16T04:03:51.946661",
     "status": "completed"
    },
    "tags": []
   },
   "outputs": [
    {
     "data": {
      "text/html": [
       "<div>\n",
       "<style scoped>\n",
       "    .dataframe tbody tr th:only-of-type {\n",
       "        vertical-align: middle;\n",
       "    }\n",
       "\n",
       "    .dataframe tbody tr th {\n",
       "        vertical-align: top;\n",
       "    }\n",
       "\n",
       "    .dataframe thead th {\n",
       "        text-align: right;\n",
       "    }\n",
       "</style>\n",
       "<table border=\"1\" class=\"dataframe\">\n",
       "  <thead>\n",
       "    <tr style=\"text-align: right;\">\n",
       "      <th></th>\n",
       "      <th>Id</th>\n",
       "      <th>MSSubClass_60.0</th>\n",
       "      <th>MSSubClass_20.0</th>\n",
       "      <th>MSSubClass_70.0</th>\n",
       "      <th>MSSubClass_50.0</th>\n",
       "      <th>MSSubClass_190.0</th>\n",
       "      <th>MSSubClass_45.0</th>\n",
       "      <th>MSSubClass_90.0</th>\n",
       "      <th>MSSubClass_120.0</th>\n",
       "      <th>MSSubClass_30.0</th>\n",
       "      <th>...</th>\n",
       "      <th>SaleType_ConLw</th>\n",
       "      <th>SaleType_Con</th>\n",
       "      <th>SaleType_Oth</th>\n",
       "      <th>SaleCondition_Normal</th>\n",
       "      <th>SaleCondition_Abnorml</th>\n",
       "      <th>SaleCondition_Partial</th>\n",
       "      <th>SaleCondition_AdjLand</th>\n",
       "      <th>SaleCondition_Alloca</th>\n",
       "      <th>SaleCondition_Family</th>\n",
       "      <th>SalePrice</th>\n",
       "    </tr>\n",
       "  </thead>\n",
       "  <tbody>\n",
       "    <tr>\n",
       "      <th>0</th>\n",
       "      <td>1</td>\n",
       "      <td>1</td>\n",
       "      <td>0</td>\n",
       "      <td>0</td>\n",
       "      <td>0</td>\n",
       "      <td>0</td>\n",
       "      <td>0</td>\n",
       "      <td>0</td>\n",
       "      <td>0</td>\n",
       "      <td>0</td>\n",
       "      <td>...</td>\n",
       "      <td>0</td>\n",
       "      <td>0</td>\n",
       "      <td>0</td>\n",
       "      <td>1</td>\n",
       "      <td>0</td>\n",
       "      <td>0</td>\n",
       "      <td>0</td>\n",
       "      <td>0</td>\n",
       "      <td>0</td>\n",
       "      <td>208500</td>\n",
       "    </tr>\n",
       "    <tr>\n",
       "      <th>1</th>\n",
       "      <td>2</td>\n",
       "      <td>0</td>\n",
       "      <td>1</td>\n",
       "      <td>0</td>\n",
       "      <td>0</td>\n",
       "      <td>0</td>\n",
       "      <td>0</td>\n",
       "      <td>0</td>\n",
       "      <td>0</td>\n",
       "      <td>0</td>\n",
       "      <td>...</td>\n",
       "      <td>0</td>\n",
       "      <td>0</td>\n",
       "      <td>0</td>\n",
       "      <td>1</td>\n",
       "      <td>0</td>\n",
       "      <td>0</td>\n",
       "      <td>0</td>\n",
       "      <td>0</td>\n",
       "      <td>0</td>\n",
       "      <td>181500</td>\n",
       "    </tr>\n",
       "    <tr>\n",
       "      <th>2</th>\n",
       "      <td>3</td>\n",
       "      <td>1</td>\n",
       "      <td>0</td>\n",
       "      <td>0</td>\n",
       "      <td>0</td>\n",
       "      <td>0</td>\n",
       "      <td>0</td>\n",
       "      <td>0</td>\n",
       "      <td>0</td>\n",
       "      <td>0</td>\n",
       "      <td>...</td>\n",
       "      <td>0</td>\n",
       "      <td>0</td>\n",
       "      <td>0</td>\n",
       "      <td>1</td>\n",
       "      <td>0</td>\n",
       "      <td>0</td>\n",
       "      <td>0</td>\n",
       "      <td>0</td>\n",
       "      <td>0</td>\n",
       "      <td>223500</td>\n",
       "    </tr>\n",
       "    <tr>\n",
       "      <th>3</th>\n",
       "      <td>4</td>\n",
       "      <td>0</td>\n",
       "      <td>0</td>\n",
       "      <td>1</td>\n",
       "      <td>0</td>\n",
       "      <td>0</td>\n",
       "      <td>0</td>\n",
       "      <td>0</td>\n",
       "      <td>0</td>\n",
       "      <td>0</td>\n",
       "      <td>...</td>\n",
       "      <td>0</td>\n",
       "      <td>0</td>\n",
       "      <td>0</td>\n",
       "      <td>0</td>\n",
       "      <td>1</td>\n",
       "      <td>0</td>\n",
       "      <td>0</td>\n",
       "      <td>0</td>\n",
       "      <td>0</td>\n",
       "      <td>140000</td>\n",
       "    </tr>\n",
       "    <tr>\n",
       "      <th>4</th>\n",
       "      <td>5</td>\n",
       "      <td>1</td>\n",
       "      <td>0</td>\n",
       "      <td>0</td>\n",
       "      <td>0</td>\n",
       "      <td>0</td>\n",
       "      <td>0</td>\n",
       "      <td>0</td>\n",
       "      <td>0</td>\n",
       "      <td>0</td>\n",
       "      <td>...</td>\n",
       "      <td>0</td>\n",
       "      <td>0</td>\n",
       "      <td>0</td>\n",
       "      <td>1</td>\n",
       "      <td>0</td>\n",
       "      <td>0</td>\n",
       "      <td>0</td>\n",
       "      <td>0</td>\n",
       "      <td>0</td>\n",
       "      <td>250000</td>\n",
       "    </tr>\n",
       "  </tbody>\n",
       "</table>\n",
       "<p>5 rows × 245 columns</p>\n",
       "</div>"
      ],
      "text/plain": [
       "   Id  MSSubClass_60.0  MSSubClass_20.0  MSSubClass_70.0  MSSubClass_50.0  \\\n",
       "0   1                1                0                0                0   \n",
       "1   2                0                1                0                0   \n",
       "2   3                1                0                0                0   \n",
       "3   4                0                0                1                0   \n",
       "4   5                1                0                0                0   \n",
       "\n",
       "   MSSubClass_190.0  MSSubClass_45.0  MSSubClass_90.0  MSSubClass_120.0  \\\n",
       "0                 0                0                0                 0   \n",
       "1                 0                0                0                 0   \n",
       "2                 0                0                0                 0   \n",
       "3                 0                0                0                 0   \n",
       "4                 0                0                0                 0   \n",
       "\n",
       "   MSSubClass_30.0  ...  SaleType_ConLw  SaleType_Con  SaleType_Oth  \\\n",
       "0                0  ...               0             0             0   \n",
       "1                0  ...               0             0             0   \n",
       "2                0  ...               0             0             0   \n",
       "3                0  ...               0             0             0   \n",
       "4                0  ...               0             0             0   \n",
       "\n",
       "   SaleCondition_Normal  SaleCondition_Abnorml  SaleCondition_Partial  \\\n",
       "0                     1                      0                      0   \n",
       "1                     1                      0                      0   \n",
       "2                     1                      0                      0   \n",
       "3                     0                      1                      0   \n",
       "4                     1                      0                      0   \n",
       "\n",
       "   SaleCondition_AdjLand  SaleCondition_Alloca  SaleCondition_Family  \\\n",
       "0                      0                     0                     0   \n",
       "1                      0                     0                     0   \n",
       "2                      0                     0                     0   \n",
       "3                      0                     0                     0   \n",
       "4                      0                     0                     0   \n",
       "\n",
       "   SalePrice  \n",
       "0     208500  \n",
       "1     181500  \n",
       "2     223500  \n",
       "3     140000  \n",
       "4     250000  \n",
       "\n",
       "[5 rows x 245 columns]"
      ]
     },
     "execution_count": 30,
     "metadata": {},
     "output_type": "execute_result"
    }
   ],
   "source": [
    "# Datetime variable - ordinal encoding\n",
    "date_cols_mapping = [ \n",
    "    {\"col\" : 'YrSold', \"mapping\": {2006:0, 2007: 1, 2008:2, \n",
    "                                   2009:3, 2010:4}},\n",
    "    \n",
    "    {\"col\" : 'MoSold', \"mapping\": {1: 0, 2: 1, 3:2, 4:3, 5:4, 6:5, 7:6, \n",
    "                                   8:7, 9:8, 10:9, 11:10, 12:11}},\n",
    "    \n",
    "    {\"col\" : 'YearRemodAdd', \"mapping\": {'(1950.0, 1960.0]':0, '(1960.0, 1970.0]':1,\n",
    "                                         '(1970.0, 1980.0]':2, '(1980.0, 1990.0]':3,\n",
    "                                         '(1990.0, 2000.0]':4, '(2000.0, 2010.0]':5}},\n",
    "    \n",
    "    {\"col\" : 'YearBuilt', \"mapping\": {'(1872.0, 1895.0]':0, '(1895.0, 1918.0]':1,\n",
    "                                         '(1918.0, 1941.0]':2, '(1941.0, 1964.0]':3,\n",
    "                                         '(1964.0, 1987.0]':4, '(1987.0, 2010.0]':5}},\n",
    "    \n",
    "    {\"col\" : 'GarageYrBlt', \"mapping\": {'No Garage':0, '(1900.0, 1918.0]':1,\n",
    "                                        '(1918.0, 1937.0]':2, '(1937.0, 1955.0]':3,\n",
    "                                        '(1955.0, 1973.0]':4, '(1973.0, 1992.0]':5,\n",
    "                                        '(1992.0, 2010.0]':6}},\n",
    "]\n",
    "\n",
    "# Applying label encoder\n",
    "ordenc = ce.OrdinalEncoder(mapping = date_cols_mapping, return_df = True)\n",
    "df_final = ordenc.fit_transform(df_ord_enc)  \n",
    "df_final.head()"
   ]
  },
  {
   "cell_type": "markdown",
   "id": "790f2fe4",
   "metadata": {
    "papermill": {
     "duration": 0.079338,
     "end_time": "2022-08-16T04:03:52.235647",
     "exception": false,
     "start_time": "2022-08-16T04:03:52.156309",
     "status": "completed"
    },
    "tags": []
   },
   "source": [
    "# 4. Correlation Analysis"
   ]
  },
  {
   "cell_type": "markdown",
   "id": "904f6107",
   "metadata": {
    "papermill": {
     "duration": 0.079328,
     "end_time": "2022-08-16T04:03:52.394926",
     "exception": false,
     "start_time": "2022-08-16T04:03:52.315598",
     "status": "completed"
    },
    "tags": []
   },
   "source": [
    "**Note:** Given that we have 240 columns, it would be quite computationally intensive to display the entire correlation matrix and visualize it for user-friendly analysis. As a result, we will only filter out relatively and highly correlated relationship with coefficient between 0.7 and 1 (non-inclusive to avoid pairs of identical variables)."
   ]
  },
  {
   "cell_type": "code",
   "execution_count": 31,
   "id": "92c457bb",
   "metadata": {
    "execution": {
     "iopub.execute_input": "2022-08-16T04:03:52.559013Z",
     "iopub.status.busy": "2022-08-16T04:03:52.558338Z",
     "iopub.status.idle": "2022-08-16T04:03:52.807188Z",
     "shell.execute_reply": "2022-08-16T04:03:52.806631Z",
     "shell.execute_reply.started": "2022-04-14T12:33:01.811634Z"
    },
    "papermill": {
     "duration": 0.333085,
     "end_time": "2022-08-16T04:03:52.807333",
     "exception": false,
     "start_time": "2022-08-16T04:03:52.474248",
     "status": "completed"
    },
    "tags": []
   },
   "outputs": [
    {
     "data": {
      "text/plain": [
       "MSSubClass_60.0        HouseStyle_2Story        0.76\n",
       "MSSubClass_20.0        HouseStyle_1Story        0.76\n",
       "MSSubClass_50.0        HouseStyle_1.5Fin        0.94\n",
       "MSSubClass_190.0       BldgType_2fmCon          0.98\n",
       "MSSubClass_45.0        HouseStyle_1.5Unf        0.93\n",
       "                                                ... \n",
       "SaleType_New           SaleCondition_Partial    0.99\n",
       "SaleCondition_Partial  SaleType_WD             -0.77\n",
       "                       SaleType_New             0.99\n",
       "SalePrice              OverallQual              0.79\n",
       "                       GrLivArea                0.71\n",
       "Length: 106, dtype: float64"
      ]
     },
     "execution_count": 31,
     "metadata": {},
     "output_type": "execute_result"
    }
   ],
   "source": [
    "## Strongest Relationships\n",
    "matrix_corr = df_final.corr()\n",
    "matrix_corr = np.round(matrix_corr.unstack(), 2)\n",
    "strong_rel = matrix_corr[(abs(matrix_corr) >= 0.7) & (abs(matrix_corr) != 1.00)]\n",
    "strong_rel"
   ]
  },
  {
   "cell_type": "markdown",
   "id": "80481f40",
   "metadata": {
    "papermill": {
     "duration": 0.080116,
     "end_time": "2022-08-16T04:03:52.969635",
     "exception": false,
     "start_time": "2022-08-16T04:03:52.889519",
     "status": "completed"
    },
    "tags": []
   },
   "source": [
    "**Takeaway:** We detected 98 relationships of which we assume 40 to be unique pairs having a correlation coefficients greather than 0.75. Given that our focus is on the sale of the house, we will filter out only relationships related to variables with 'Sale' as a prefix."
   ]
  },
  {
   "cell_type": "code",
   "execution_count": 32,
   "id": "46c7c9c2",
   "metadata": {
    "execution": {
     "iopub.execute_input": "2022-08-16T04:03:53.133979Z",
     "iopub.status.busy": "2022-08-16T04:03:53.133309Z",
     "iopub.status.idle": "2022-08-16T04:03:53.382283Z",
     "shell.execute_reply": "2022-08-16T04:03:53.382751Z",
     "shell.execute_reply.started": "2022-04-14T12:33:02.070757Z"
    },
    "papermill": {
     "duration": 0.332234,
     "end_time": "2022-08-16T04:03:53.382945",
     "exception": false,
     "start_time": "2022-08-16T04:03:53.050711",
     "status": "completed"
    },
    "tags": []
   },
   "outputs": [
    {
     "data": {
      "text/plain": [
       "SaleType_WD            SaleType_New            -0.77\n",
       "                       SaleCondition_Partial   -0.77\n",
       "SaleType_New           SaleType_WD             -0.77\n",
       "                       SaleCondition_Partial    0.99\n",
       "SaleCondition_Partial  SaleType_WD             -0.77\n",
       "                       SaleType_New             0.99\n",
       "SalePrice              OverallQual              0.79\n",
       "                       GrLivArea                0.71\n",
       "dtype: float64"
      ]
     },
     "execution_count": 32,
     "metadata": {},
     "output_type": "execute_result"
    }
   ],
   "source": [
    "# Focus on variables directly related to the sale\n",
    "matrix_corr = df_final.corr()\n",
    "matrix_sale = matrix_corr.filter(regex='^Sale',axis=1)\n",
    "matrix_sale = np.round(matrix_sale.unstack(), 2)\n",
    "strong_rel_sale = matrix_sale[(abs(matrix_sale) >= 0.7) & (abs(matrix_sale) != 1.00)]\n",
    "strong_rel_sale"
   ]
  },
  {
   "cell_type": "markdown",
   "id": "970227f9",
   "metadata": {
    "papermill": {
     "duration": 0.080848,
     "end_time": "2022-08-16T04:03:53.546675",
     "exception": false,
     "start_time": "2022-08-16T04:03:53.465827",
     "status": "completed"
    },
    "tags": []
   },
   "source": [
    "**Takeaway:** Among the two detected, 'OverallQual' appears to be a key variable that is highly correlated to the sale price of the house. It probably falls inline with our expectations in terms of the valuation process of a house; indeed, it requires good to excellent quality to be desired on the real estate market."
   ]
  },
  {
   "cell_type": "markdown",
   "id": "98fc48d8",
   "metadata": {
    "papermill": {
     "duration": 0.080334,
     "end_time": "2022-08-16T04:03:53.709079",
     "exception": false,
     "start_time": "2022-08-16T04:03:53.628745",
     "status": "completed"
    },
    "tags": []
   },
   "source": [
    "# 7. Machine Learning Set-Up\n",
    "\n",
    "First off, we need to prepapre the data to feed the machine learning models. In doing so, we first separate the features and target variables and then proceed in creating train and testing set for model training and performance evaluation."
   ]
  },
  {
   "cell_type": "code",
   "execution_count": 33,
   "id": "e7756b06",
   "metadata": {
    "execution": {
     "iopub.execute_input": "2022-08-16T04:03:53.874644Z",
     "iopub.status.busy": "2022-08-16T04:03:53.873964Z",
     "iopub.status.idle": "2022-08-16T04:03:53.884418Z",
     "shell.execute_reply": "2022-08-16T04:03:53.884981Z",
     "shell.execute_reply.started": "2022-04-14T12:33:02.325677Z"
    },
    "papermill": {
     "duration": 0.095091,
     "end_time": "2022-08-16T04:03:53.885178",
     "exception": false,
     "start_time": "2022-08-16T04:03:53.790087",
     "status": "completed"
    },
    "tags": []
   },
   "outputs": [],
   "source": [
    "# Splitting features & target variable\n",
    "X = df_final.drop(['SalePrice'], axis=1).values\n",
    "y = df_final['SalePrice'].values\n",
    "y_log = np.log(y)"
   ]
  },
  {
   "cell_type": "code",
   "execution_count": 34,
   "id": "64bd25e5",
   "metadata": {
    "execution": {
     "iopub.execute_input": "2022-08-16T04:03:54.052447Z",
     "iopub.status.busy": "2022-08-16T04:03:54.051760Z",
     "iopub.status.idle": "2022-08-16T04:03:54.058219Z",
     "shell.execute_reply": "2022-08-16T04:03:54.058821Z",
     "shell.execute_reply.started": "2022-04-14T12:33:02.341471Z"
    },
    "papermill": {
     "duration": 0.091194,
     "end_time": "2022-08-16T04:03:54.059012",
     "exception": false,
     "start_time": "2022-08-16T04:03:53.967818",
     "status": "completed"
    },
    "tags": []
   },
   "outputs": [],
   "source": [
    "## Training Testing Split\n",
    "X_train, X_test, y_train, y_test = train_test_split(X, y_log, \n",
    "                                                    test_size=1/3, \n",
    "                                                    random_state=0)"
   ]
  },
  {
   "cell_type": "markdown",
   "id": "052ef987",
   "metadata": {
    "papermill": {
     "duration": 0.085546,
     "end_time": "2022-08-16T04:03:54.226497",
     "exception": false,
     "start_time": "2022-08-16T04:03:54.140951",
     "status": "completed"
    },
    "tags": []
   },
   "source": [
    "# 8. Machine Learning - Simple Models\n",
    "\n",
    "This section will leverage the powerful sci-kit-learn package to build multiple models with little to no parameter tuning for comparison. We will only use the cross-validation error on our training dataset to avoid any data leakage."
   ]
  },
  {
   "cell_type": "code",
   "execution_count": 35,
   "id": "6a194a89",
   "metadata": {
    "execution": {
     "iopub.execute_input": "2022-08-16T04:03:54.391592Z",
     "iopub.status.busy": "2022-08-16T04:03:54.390934Z",
     "iopub.status.idle": "2022-08-16T04:03:54.395714Z",
     "shell.execute_reply": "2022-08-16T04:03:54.396357Z",
     "shell.execute_reply.started": "2022-04-14T12:33:02.352683Z"
    },
    "papermill": {
     "duration": 0.089276,
     "end_time": "2022-08-16T04:03:54.396543",
     "exception": false,
     "start_time": "2022-08-16T04:03:54.307267",
     "status": "completed"
    },
    "tags": []
   },
   "outputs": [],
   "source": [
    "# Dictionary to store model structures\n",
    "models = {'MLR': linear_model.LinearRegression(),\n",
    "          'Ridge': linear_model.Ridge(),\n",
    "          'Lasso': linear_model.Lasso(),\n",
    "          'Elastic Net': linear_model.ElasticNet(),\n",
    "          'Decision tree': DecisionTreeRegressor()\n",
    "        }"
   ]
  },
  {
   "cell_type": "markdown",
   "id": "ee301e7a",
   "metadata": {
    "papermill": {
     "duration": 0.081059,
     "end_time": "2022-08-16T04:03:54.559928",
     "exception": false,
     "start_time": "2022-08-16T04:03:54.478869",
     "status": "completed"
    },
    "tags": []
   },
   "source": [
    "**Note:** Our goal is predict house prices which are all non-negative values; however, our machine learning will likely also results in some negative values. To mitiagte this issue, we performed logarithmic transformation on our target values and then obtain the error rate accordingly. Read more [here](https://stats.stackexchange.com/questions/360399/how-to-constrain-gradient-boosting-predictions-to-be-non-negative.)."
   ]
  },
  {
   "cell_type": "code",
   "execution_count": 36,
   "id": "76707fde",
   "metadata": {
    "execution": {
     "iopub.execute_input": "2022-08-16T04:03:54.731747Z",
     "iopub.status.busy": "2022-08-16T04:03:54.731062Z",
     "iopub.status.idle": "2022-08-16T04:03:55.356861Z",
     "shell.execute_reply": "2022-08-16T04:03:55.356342Z",
     "shell.execute_reply.started": "2022-04-14T12:33:02.365202Z"
    },
    "papermill": {
     "duration": 0.714953,
     "end_time": "2022-08-16T04:03:55.357008",
     "exception": false,
     "start_time": "2022-08-16T04:03:54.642055",
     "status": "completed"
    },
    "tags": []
   },
   "outputs": [
    {
     "name": "stdout",
     "output_type": "stream",
     "text": [
      "MLR - RMSLE: 0.08077 (0.00328)\n",
      "Ridge - RMSLE: 0.09245 (0.00314)\n",
      "Lasso - RMSLE: 0.40108 (0.00786)\n",
      "Elastic Net - RMSLE: 0.40108 (0.00786)\n",
      "Decision tree - RMSLE: 0.00000 (0.00000)\n"
     ]
    }
   ],
   "source": [
    "# Model Building & performance evaluation\n",
    "kf = KFold(n_splits=5)\n",
    "kf.get_n_splits(X_train)\n",
    "\n",
    "for name, model in models.items():\n",
    "    model_errs = []\n",
    "    for train_index, test_index in kf.split(X_train):\n",
    "        X_train_k = X_train[train_index] \n",
    "        y_train_k = y_train[train_index]\n",
    "        model.fit(X_train_k, y_train_k)\n",
    "        pred_log = model.predict(X_train_k)\n",
    "        # pred = np.exp(pred_log)\n",
    "        rmse = skm.mean_squared_error(y_train_k, pred_log, squared=False) \n",
    "        model_errs.append(rmse)\n",
    "        # report performance\n",
    "    print('{} - RMSLE: {:.5f} ({:.5f})' .format(name, np.mean(model_errs), \n",
    "                                               np.std(model_errs)))"
   ]
  },
  {
   "cell_type": "markdown",
   "id": "1c0e208a",
   "metadata": {
    "papermill": {
     "duration": 0.08109,
     "end_time": "2022-08-16T04:03:55.520040",
     "exception": false,
     "start_time": "2022-08-16T04:03:55.438950",
     "status": "completed"
    },
    "tags": []
   },
   "source": [
    "# 10. Machine Learning - Ensemble Methods\n",
    "\n",
    "This section will extend our work in machine learning to incorporate ensemble methods. We generated simple models and compared the scores, which appear satisfactory; however, we may want more stability and minor variation in our predictive algorithm; it is where ensemble techniques come in. Most often, they act as a 'superposer' of multiple models throughout various ways and thus, bolster their predictive power. Further Information [here](https://machinelearningmastery.com/tour-of-ensemble-learning-algorithms/). "
   ]
  },
  {
   "cell_type": "code",
   "execution_count": 37,
   "id": "d713ef99",
   "metadata": {
    "execution": {
     "iopub.execute_input": "2022-08-16T04:03:55.691029Z",
     "iopub.status.busy": "2022-08-16T04:03:55.690323Z",
     "iopub.status.idle": "2022-08-16T04:03:55.692614Z",
     "shell.execute_reply": "2022-08-16T04:03:55.693303Z",
     "shell.execute_reply.started": "2022-04-14T12:33:03.073174Z"
    },
    "papermill": {
     "duration": 0.091633,
     "end_time": "2022-08-16T04:03:55.693483",
     "exception": false,
     "start_time": "2022-08-16T04:03:55.601850",
     "status": "completed"
    },
    "tags": []
   },
   "outputs": [],
   "source": [
    "# Stacking multiple models\n",
    "estimators = [\n",
    "    ('MLR', linear_model.LinearRegression()),\n",
    "    ('Ridge', linear_model.Ridge())\n",
    "]\n",
    "# Dictionary to store ensemble model structures\n",
    "ensemble_models = {\n",
    "    'RF': RandomForestRegressor(),\n",
    "    'XGBoost': BaggingRegressor(base_estimator=xgb.XGBRegressor()),\n",
    "    'Stacking': StackingRegressor(estimators=estimators,\n",
    "                                   final_estimator=DecisionTreeRegressor())\n",
    "}"
   ]
  },
  {
   "cell_type": "code",
   "execution_count": 38,
   "id": "f7ab7f95",
   "metadata": {
    "execution": {
     "iopub.execute_input": "2022-08-16T04:03:55.864201Z",
     "iopub.status.busy": "2022-08-16T04:03:55.863519Z",
     "iopub.status.idle": "2022-08-16T04:04:51.504599Z",
     "shell.execute_reply": "2022-08-16T04:04:51.506733Z",
     "shell.execute_reply.started": "2022-04-14T12:33:03.080577Z"
    },
    "papermill": {
     "duration": 55.72756,
     "end_time": "2022-08-16T04:04:51.507077",
     "exception": false,
     "start_time": "2022-08-16T04:03:55.779517",
     "status": "completed"
    },
    "tags": []
   },
   "outputs": [
    {
     "name": "stdout",
     "output_type": "stream",
     "text": [
      "RF - RMSLE: 0.05556 (0.00119)\n",
      "XGBoost - RMSLE: 0.05542 (0.00369)\n",
      "Stacking - RMSLE: 0.14507 (0.00721)\n"
     ]
    }
   ],
   "source": [
    "# Model Building & performance evaluation\n",
    "kf = KFold(n_splits=5)\n",
    "kf.get_n_splits(X_train)\n",
    "\n",
    "for name, model in ensemble_models.items():\n",
    "    model_errs = []\n",
    "    for train_index, test_index in kf.split(X_train):\n",
    "        X_train_k = X_train[train_index] \n",
    "        y_train_k = y_train[train_index]\n",
    "        model.fit(X_train_k, y_train_k)\n",
    "        pred_log = model.predict(X_train_k)\n",
    "        #pred = np.exp(pred_log)\n",
    "        rmsle = skm.mean_squared_error(y_train_k, pred_log, squared=False) \n",
    "        model_errs.append(rmsle)\n",
    "        # report performance\n",
    "    print('{} - RMSLE: {:.5f} ({:.5f})' .format(name, np.mean(model_errs), \n",
    "                                               np.std(model_errs)))"
   ]
  },
  {
   "cell_type": "markdown",
   "id": "d2aba3a7",
   "metadata": {
    "papermill": {
     "duration": 0.08266,
     "end_time": "2022-08-16T04:04:51.755912",
     "exception": false,
     "start_time": "2022-08-16T04:04:51.673252",
     "status": "completed"
    },
    "tags": []
   },
   "source": [
    "**Takeaway:** In this instance, our best model is the XGBoost having the lowest RMSE for the log values of house prices. We will proceed in doing the hyperparameter tuning with the random Forest given that they offer more robust and reliable results than the simple ones. "
   ]
  },
  {
   "cell_type": "markdown",
   "id": "dabfe87b",
   "metadata": {
    "papermill": {
     "duration": 0.083401,
     "end_time": "2022-08-16T04:04:51.926074",
     "exception": false,
     "start_time": "2022-08-16T04:04:51.842673",
     "status": "completed"
    },
    "tags": []
   },
   "source": [
    "# 10. Hyperparameter Tuning\n",
    "\n",
    "This section will walk through a process to find the best possible models given a set of parameters. In machine learning, we name it hyperparameter tuning during which the algorithm search for the set of optimal hyperarameters driving the metric as high (or low depending the case scenario) as possible. Further information [here](https://machinelearningmastery.com/hyperparameter-optimization-with-random-search-and-grid-search/). "
   ]
  },
  {
   "cell_type": "code",
   "execution_count": 39,
   "id": "f6374926",
   "metadata": {
    "execution": {
     "iopub.execute_input": "2022-08-16T04:04:52.099177Z",
     "iopub.status.busy": "2022-08-16T04:04:52.097992Z",
     "iopub.status.idle": "2022-08-16T04:04:52.100793Z",
     "shell.execute_reply": "2022-08-16T04:04:52.100247Z",
     "shell.execute_reply.started": "2022-04-14T12:33:58.616179Z"
    },
    "papermill": {
     "duration": 0.091903,
     "end_time": "2022-08-16T04:04:52.100948",
     "exception": false,
     "start_time": "2022-08-16T04:04:52.009045",
     "status": "completed"
    },
    "tags": []
   },
   "outputs": [],
   "source": [
    "## Random Search\n",
    "# Define the model\n",
    "model = RandomForestRegressor()\n",
    "# define search space\n",
    "rf_space = {\n",
    "   'n_estimators': range(20, 100, 20),\n",
    "   'max_depth': range(3, 15, 3),\n",
    "   'min_samples_split': [2, 5, 10], \n",
    "   'min_samples_leaf': [1, 2, 4]\n",
    "}"
   ]
  },
  {
   "cell_type": "code",
   "execution_count": 40,
   "id": "60f4c549",
   "metadata": {
    "execution": {
     "iopub.execute_input": "2022-08-16T04:04:52.274428Z",
     "iopub.status.busy": "2022-08-16T04:04:52.273373Z",
     "iopub.status.idle": "2022-08-16T04:06:12.879768Z",
     "shell.execute_reply": "2022-08-16T04:06:12.880303Z",
     "shell.execute_reply.started": "2022-04-14T12:33:58.635931Z"
    },
    "papermill": {
     "duration": 80.697233,
     "end_time": "2022-08-16T04:06:12.880502",
     "exception": false,
     "start_time": "2022-08-16T04:04:52.183269",
     "status": "completed"
    },
    "tags": []
   },
   "outputs": [
    {
     "name": "stdout",
     "output_type": "stream",
     "text": [
      "RF - RMSE of log values: -0.15238\n",
      "with best parameters: {'max_depth': 12, 'min_samples_leaf': 1, 'min_samples_split': 5, 'n_estimators': 80}.\n",
      "\n"
     ]
    }
   ],
   "source": [
    "search = GridSearchCV(estimator=model, param_grid=rf_space, \n",
    "                      cv=2, scoring='neg_root_mean_squared_error')\n",
    "search.fit(X_train, y_train)\n",
    "print('RF - RMSE of log values: {:.5f}' .format(search.best_score_))\n",
    "print('with best parameters: {}.\\n' .format(search.best_params_))"
   ]
  },
  {
   "cell_type": "code",
   "execution_count": 41,
   "id": "22aa7248",
   "metadata": {
    "execution": {
     "iopub.execute_input": "2022-08-16T04:06:13.051386Z",
     "iopub.status.busy": "2022-08-16T04:06:13.050673Z",
     "iopub.status.idle": "2022-08-16T04:06:19.771085Z",
     "shell.execute_reply": "2022-08-16T04:06:19.771674Z",
     "shell.execute_reply.started": "2022-04-14T12:35:34.345429Z"
    },
    "papermill": {
     "duration": 6.808058,
     "end_time": "2022-08-16T04:06:19.771871",
     "exception": false,
     "start_time": "2022-08-16T04:06:12.963813",
     "status": "completed"
    },
    "tags": []
   },
   "outputs": [
    {
     "name": "stdout",
     "output_type": "stream",
     "text": [
      "RF - RMSE of log values: -0.15519\n",
      "with best parameters: {'n_estimators': 60, 'min_samples_split': 2, 'min_samples_leaf': 2, 'max_depth': 12}.\n",
      "\n"
     ]
    }
   ],
   "source": [
    "search = RandomizedSearchCV(estimator=model, param_distributions=rf_space, \n",
    "                            cv=2, scoring='neg_root_mean_squared_error')\n",
    "search.fit(X_train, y_train)\n",
    "print('RF - RMSE of log values: {:.5f}' .format(search.best_score_))\n",
    "print('with best parameters: {}.\\n' .format(search.best_params_))"
   ]
  },
  {
   "cell_type": "markdown",
   "id": "18eb2fb4",
   "metadata": {
    "papermill": {
     "duration": 0.084019,
     "end_time": "2022-08-16T04:06:19.941626",
     "exception": false,
     "start_time": "2022-08-16T04:06:19.857607",
     "status": "completed"
    },
    "tags": []
   },
   "source": [
    "# 11. Model Performance Evaluation\n",
    "\n",
    "This section will build on everything we've done throughout this notebook and evaluate the best model using RMSE of log values."
   ]
  },
  {
   "cell_type": "code",
   "execution_count": 42,
   "id": "ff3ba6e1",
   "metadata": {
    "execution": {
     "iopub.execute_input": "2022-08-16T04:06:20.116965Z",
     "iopub.status.busy": "2022-08-16T04:06:20.113649Z",
     "iopub.status.idle": "2022-08-16T04:06:20.956982Z",
     "shell.execute_reply": "2022-08-16T04:06:20.956344Z",
     "shell.execute_reply.started": "2022-04-14T12:35:40.747948Z"
    },
    "papermill": {
     "duration": 0.932005,
     "end_time": "2022-08-16T04:06:20.957129",
     "exception": false,
     "start_time": "2022-08-16T04:06:20.025124",
     "status": "completed"
    },
    "tags": []
   },
   "outputs": [
    {
     "name": "stdout",
     "output_type": "stream",
     "text": [
      "RF - RMSE of log values: 0.14489\n"
     ]
    }
   ],
   "source": [
    "# Running on testing set\n",
    "tree = RandomForestRegressor(n_estimators=60, max_depth=12, \n",
    "                              min_samples_leaf=2, min_samples_split=5)\n",
    "tree.fit(X_train, y_train)\n",
    "y_pred_log = tree.predict(X_test)\n",
    "rmsle = skm.mean_squared_error(y_test, y_pred_log, squared=False) \n",
    "# report performance\n",
    "print('RF - RMSE of log values: {:.5f}' .format(rmsle))"
   ]
  },
  {
   "cell_type": "markdown",
   "id": "1b4a6b4a",
   "metadata": {
    "papermill": {
     "duration": 0.08609,
     "end_time": "2022-08-16T04:06:21.129037",
     "exception": false,
     "start_time": "2022-08-16T04:06:21.042947",
     "status": "completed"
    },
    "tags": []
   },
   "source": [
    "# 12. Final Submission"
   ]
  },
  {
   "cell_type": "code",
   "execution_count": 43,
   "id": "bd728cad",
   "metadata": {
    "execution": {
     "iopub.execute_input": "2022-08-16T04:06:21.301811Z",
     "iopub.status.busy": "2022-08-16T04:06:21.301071Z",
     "iopub.status.idle": "2022-08-16T04:06:21.330456Z",
     "shell.execute_reply": "2022-08-16T04:06:21.331084Z",
     "shell.execute_reply.started": "2022-04-14T12:35:41.629731Z"
    },
    "papermill": {
     "duration": 0.11868,
     "end_time": "2022-08-16T04:06:21.331313",
     "exception": false,
     "start_time": "2022-08-16T04:06:21.212633",
     "status": "completed"
    },
    "tags": []
   },
   "outputs": [],
   "source": [
    "# Loading the dataset\n",
    "test_df = pd.read_csv(\"/kaggle/input/house-prices-advanced-regression-techniques/test.csv\")"
   ]
  },
  {
   "cell_type": "code",
   "execution_count": 44,
   "id": "1a44e9c1",
   "metadata": {
    "execution": {
     "iopub.execute_input": "2022-08-16T04:06:21.503680Z",
     "iopub.status.busy": "2022-08-16T04:06:21.502617Z",
     "iopub.status.idle": "2022-08-16T04:06:21.540685Z",
     "shell.execute_reply": "2022-08-16T04:06:21.541251Z",
     "shell.execute_reply.started": "2022-04-14T12:35:41.674956Z"
    },
    "papermill": {
     "duration": 0.126081,
     "end_time": "2022-08-16T04:06:21.541441",
     "exception": false,
     "start_time": "2022-08-16T04:06:21.415360",
     "status": "completed"
    },
    "tags": []
   },
   "outputs": [],
   "source": [
    "# List of columns with missing values\n",
    "null_cols = test_df.columns[test_df.isna().any()].tolist()\n",
    "\n",
    "# Imputation using group by\n",
    "test_df['LotFrontage'] = test_df.groupby('LotShape').LotFrontage.transform(lambda x: x.fillna(x.median()))\n",
    "test_df.LotFrontage = test_df.LotFrontage.round(2)\n",
    "test_df['LotFrontage'].isnull().sum()\n",
    "test_df.head()\n",
    "\n",
    "# Replacing the null values with a significant term\n",
    "test_df['Alley'].fillna(\"No alley access\", inplace = True)\n",
    "test_df['Alley'].value_counts()\n",
    "\n",
    "# Grouping of variables dependent on the presence of a basement\n",
    "for i in null_cols:\n",
    "    if 'Bsmt' in i:\n",
    "        test_df[i].fillna(\"No Basement\", inplace = True)\n",
    "        \n",
    "# Grouping of variables dependent on the presence of a garage\n",
    "for i in null_cols:\n",
    "    if 'Garage' in i and i != 'GarageYrBlt':\n",
    "        test_df[i].fillna(\"No Garage\", inplace = True)\n",
    "    elif i == 'GarageYrBlt':\n",
    "        test_df[i].fillna(0, inplace = True)\n",
    "        \n",
    "other_cols_imp = {\n",
    "    'MasVnrType': 'No Veneer',\n",
    "    'MasVnrArea': 0, \n",
    "    'FireplaceQu': 'No Fireplace', \n",
    "    'PoolQC': 'No Pool', \n",
    "    'Fence': 'No Fence', \n",
    "    'MiscFeature': 'No Misc'\n",
    "   }\n",
    "\n",
    "# Grouping of variables dependent on the presence of other amenities\n",
    "for i, j in other_cols_imp.items():\n",
    "    test_df[i].fillna(j, inplace = True)\n",
    "\n",
    "# Deleting the Electrical \n",
    "test_df.dropna(subset=['Electrical'], inplace=True)"
   ]
  },
  {
   "cell_type": "code",
   "execution_count": 45,
   "id": "f575c49d",
   "metadata": {
    "execution": {
     "iopub.execute_input": "2022-08-16T04:06:21.715899Z",
     "iopub.status.busy": "2022-08-16T04:06:21.714856Z",
     "iopub.status.idle": "2022-08-16T04:06:21.745049Z",
     "shell.execute_reply": "2022-08-16T04:06:21.745543Z",
     "shell.execute_reply.started": "2022-04-14T12:35:41.723881Z"
    },
    "papermill": {
     "duration": 0.119655,
     "end_time": "2022-08-16T04:06:21.745726",
     "exception": false,
     "start_time": "2022-08-16T04:06:21.626071",
     "status": "completed"
    },
    "tags": []
   },
   "outputs": [
    {
     "name": "stdout",
     "output_type": "stream",
     "text": [
      "We are missing 12 values in our data at given percentages in the following columns:\n",
      "  - MSZoning: 4 (0.27%)\n",
      "  - LotFrontage: 0 (0.00%)\n",
      "  - Alley: 0 (0.00%)\n",
      "  - Utilities: 2 (0.14%)\n",
      "  - Exterior1st: 1 (0.07%)\n",
      "  - Exterior2nd: 1 (0.07%)\n",
      "  - MasVnrType: 0 (0.00%)\n",
      "  - MasVnrArea: 0 (0.00%)\n",
      "  - BsmtQual: 0 (0.00%)\n",
      "  - BsmtCond: 0 (0.00%)\n",
      "  - BsmtExposure: 0 (0.00%)\n",
      "  - BsmtFinType1: 0 (0.00%)\n",
      "  - BsmtFinSF1: 0 (0.00%)\n",
      "  - BsmtFinType2: 0 (0.00%)\n",
      "  - BsmtFinSF2: 0 (0.00%)\n",
      "  - BsmtUnfSF: 0 (0.00%)\n",
      "  - TotalBsmtSF: 0 (0.00%)\n",
      "  - BsmtFullBath: 0 (0.00%)\n",
      "  - BsmtHalfBath: 0 (0.00%)\n",
      "  - KitchenQual: 1 (0.07%)\n",
      "  - Functional: 2 (0.14%)\n",
      "  - FireplaceQu: 0 (0.00%)\n",
      "  - GarageType: 0 (0.00%)\n",
      "  - GarageYrBlt: 0 (0.00%)\n",
      "  - GarageFinish: 0 (0.00%)\n",
      "  - GarageCars: 0 (0.00%)\n",
      "  - GarageArea: 0 (0.00%)\n",
      "  - GarageQual: 0 (0.00%)\n",
      "  - GarageCond: 0 (0.00%)\n",
      "  - PoolQC: 0 (0.00%)\n",
      "  - Fence: 0 (0.00%)\n",
      "  - MiscFeature: 0 (0.00%)\n",
      "  - SaleType: 1 (0.07%)\n"
     ]
    }
   ],
   "source": [
    "## No. of null values\n",
    "null_vals = test_df.isna().sum().sum()\n",
    "\n",
    "# Reporting back\n",
    "print(\"We are missing {:2d} values in our data at given percentages in the following columns:\" .format(null_vals))\n",
    "for i in null_cols:\n",
    "    col_null = test_df[i].isnull().sum()\n",
    "    per_null = col_null / len(test_df[i])\n",
    "    print(\"  - {}: {} ({:.2%})\".format(i, col_null, per_null))"
   ]
  },
  {
   "cell_type": "code",
   "execution_count": 46,
   "id": "fb9fb3fc",
   "metadata": {
    "execution": {
     "iopub.execute_input": "2022-08-16T04:06:21.924362Z",
     "iopub.status.busy": "2022-08-16T04:06:21.923655Z",
     "iopub.status.idle": "2022-08-16T04:06:21.934382Z",
     "shell.execute_reply": "2022-08-16T04:06:21.934963Z",
     "shell.execute_reply.started": "2022-04-14T12:35:41.765994Z"
    },
    "papermill": {
     "duration": 0.105647,
     "end_time": "2022-08-16T04:06:21.935167",
     "exception": false,
     "start_time": "2022-08-16T04:06:21.829520",
     "status": "completed"
    },
    "tags": []
   },
   "outputs": [
    {
     "name": "stdout",
     "output_type": "stream",
     "text": [
      "We are missing  0 values in our data at given percentages in the following columns:\n"
     ]
    }
   ],
   "source": [
    "#Given how few null values are left, we will drop those 12 rows.\n",
    "test_df.dropna(subset=null_cols, inplace=True)\n",
    "\n",
    "## No. of null values\n",
    "null_vals = test_df.isna().sum().sum()\n",
    "\n",
    "# Reporting back\n",
    "print(\"We are missing {:2d} values in our data at given percentages in the following columns:\" .format(null_vals))"
   ]
  },
  {
   "cell_type": "code",
   "execution_count": 47,
   "id": "2b2cfdd4",
   "metadata": {
    "execution": {
     "iopub.execute_input": "2022-08-16T04:06:22.115927Z",
     "iopub.status.busy": "2022-08-16T04:06:22.110639Z",
     "iopub.status.idle": "2022-08-16T04:06:22.117628Z",
     "shell.execute_reply": "2022-08-16T04:06:22.118240Z",
     "shell.execute_reply.started": "2022-04-14T12:35:41.793523Z"
    },
    "papermill": {
     "duration": 0.096015,
     "end_time": "2022-08-16T04:06:22.118417",
     "exception": false,
     "start_time": "2022-08-16T04:06:22.022402",
     "status": "completed"
    },
    "tags": []
   },
   "outputs": [],
   "source": [
    "# # Filter numeric columns\n",
    "# df = test_df\n",
    "# num_vars = ['LotFrontage', 'LotArea', 'MasVnrArea', 'BsmtFinSF1',\n",
    "#            'BsmtFinSF2', 'BsmtUnfSF', 'TotalBsmtSF', '1stFlrSF', '2ndFlrSF',\n",
    "#            'LowQualFinSF', 'GrLivArea', 'GarageArea', 'WoodDeckSF', 'OpenPorchSF',\n",
    "#             'EnclosedPorch', '3SsnPorch', 'ScreenPorch', 'PoolArea', 'MiscVal']\n",
    "\n",
    "# scaler = StandardScaler().fit(df[num_vars].values)\n",
    "# df[num_vars] = scaler.transform(df[num_vars].values)\n",
    "# df.head()\n",
    "\n",
    "# # Encoding binary categorical variables\n",
    "# binary = ['CentralAir']\n",
    "\n",
    "# # Applying binary encoder\n",
    "# binenc = ce.BinaryEncoder(cols = binary, return_df = True)\n",
    "# bin_df = binenc.fit_transform(df)  \n",
    "# bin_df.head()\n",
    "\n",
    "# # List of nominal categorical/cardinal variables\n",
    "# cardinal = ['MSSubClass', 'MSZoning', 'Street', 'Alley', 'LotConfig', \n",
    "#             'Neighborhood', 'Condition1', 'Condition2', 'BldgType', \n",
    "#             'HouseStyle', 'RoofStyle', 'RoofMatl', 'Exterior1st', \n",
    "#             'Exterior2nd', 'MasVnrType', 'Foundation', 'Heating', 'Electrical', \n",
    "#             'Functional', 'GarageType', 'MiscFeature', 'SaleType', \n",
    "#             'SaleCondition']\n",
    "\n",
    "# # Applying one-hot encoder \n",
    "# ohe = ce.OneHotEncoder(cols = cardinal, use_cat_names=True, return_df = True)\n",
    "# df_card_enc = ohe.fit_transform(bin_df)  \n",
    "# df_card_enc.head()\n",
    "\n",
    "# # Encoding ordinal variables\n",
    "# ordinal_cols_mapping = [ \n",
    "#     {\"col\" : 'LotShape', \"mapping\": {'Reg':0, 'IR1': 1, 'IR2':2, 'IR3':3}},\n",
    "#     {\"col\" : 'LandContour', \"mapping\": {'Low':0, 'Lvl':1, 'Bnk':2, 'HLS':3}},\n",
    "#     {\"col\" : 'Utilities', \"mapping\": {'ELO':0, 'NoSeWa':1, 'NoSewr':2, 'AllPub':3}},\n",
    "#     {\"col\" : 'LandSlope', \"mapping\": {'Gtl': 0, 'Mod': 1, 'Sev':2}},\n",
    "#     {\"col\" : 'OverallQual', \"mapping\": {1: 0, 2: 1, 3:2, 4:3, 5:4, 6:5, 7:6, 8:7, 9:8, 10:9}},\n",
    "#     {\"col\" : 'OverallCond', \"mapping\": {1: 0, 2: 1, 3:2, 4:3, 5:4, 6:5, 7:6, 8:7, 9:8, 10:9}},\n",
    "#     {\"col\" : 'ExterQual', \"mapping\": {'Po':0, 'Fa':1, 'TA':2, 'Gd':3, 'Ex':4}},\n",
    "#     {\"col\" : 'ExterCond', \"mapping\": {'Po':0, 'Fa':1, 'TA':2, 'Gd':3, 'Ex':4}},\n",
    "#     {\"col\" : 'BsmtQual', \"mapping\": {'No Basement':0, 'Po':1, 'Fa':2, 'TA':3, 'Gd':4, 'Ex':5}},\n",
    "#     {\"col\" : 'BsmtCond', \"mapping\": {'No Basement':0, 'Po':1, 'Fa':2, 'TA':3, 'Gd':4, 'Ex':5}},   \n",
    "#     {\"col\" : 'BsmtExposure', \"mapping\": {'No Basement':0, 'No':1, 'Mn':2, 'Av':3, 'Gd':4}},\n",
    "#     {\"col\" : 'BsmtFinType1', \"mapping\": {'No Basement':0, 'Unf':1, 'LwQ':2, 'Rec':3, 'BLQ':4, 'ALQ':5, 'GLQ':6}}, \n",
    "#     {\"col\" : 'BsmtFinType2', \"mapping\": {'No Basement':0, 'Unf':1, 'LwQ':2, 'Rec':3, 'BLQ':4, 'ALQ':5, 'GLQ':6}},  \n",
    "#     {\"col\" : 'HeatingQC', \"mapping\": {'Po':0, 'Fa':1, 'TA':2, 'Gd':3, 'Ex':4}},\n",
    "#     {\"col\" : 'KitchenQual', \"mapping\": {'Po':0, 'Fa':1, 'TA':2, 'Gd':3, 'Ex':4}},\n",
    "#     {\"col\" : 'FireplaceQu', \"mapping\": {'No Fireplace':0, 'Po':1, 'Fa':2, 'TA':3, 'Gd':4, 'Ex':5}},\n",
    "#     {\"col\" : 'GarageFinish', \"mapping\": {'No Garage':0, 'Unf':1, 'RFn':2, 'Fin':3}},\n",
    "#     {\"col\" : 'GarageQual', \"mapping\": {'No Garage':0, 'Po':1, 'Fa':2, 'TA':3, 'Gd':4, 'Ex':5}},\n",
    "#     {\"col\" : 'GarageCond', \"mapping\": {'No Garage':0, 'Po':1, 'Fa':2, 'TA':3, 'Gd':4, 'Ex':5}},\n",
    "#     {\"col\" : 'PavedDrive', \"mapping\": {'N':0, 'P':1, 'Y':2}}, \n",
    "#     {\"col\" : 'PoolQC', \"mapping\": {'No Pool':0, 'Po':1, 'Fa':2, 'TA':3, 'Gd':4, 'Ex':5}},\n",
    "#     {\"col\" : 'Fence', \"mapping\":{'No Fence':0, 'MnWw':1, 'GdWo':2, 'MnPrv':3, 'GdPrv':4}}\n",
    "# ]\n",
    "\n",
    "# # Applying ordinal encoder\n",
    "# ordenc = ce.OrdinalEncoder(mapping = ordinal_cols_mapping, return_df = True)\n",
    "# df_ord_enc = ordenc.fit_transform(df_card_enc)  \n",
    "# df_ord_enc.head()\n",
    "\n",
    "# # Binning date variables in time intervals\n",
    "# df_ord_enc['YearRemodAdd'] = pd.cut(df_ord_enc['YearRemodAdd'], bins=6, precision=0).astype(str)\n",
    "# df_ord_enc['YearRemodAdd'].value_counts()\n",
    "\n",
    "# df_ord_enc['YearBuilt'] = pd.cut(df_ord_enc['YearBuilt'], bins=6, precision=0).astype(str)\n",
    "# df_ord_enc['YearBuilt'].value_counts()\n",
    "\n",
    "# df_ord_enc['GarageYrBlt'] = pd.cut(df_ord_enc[df_ord_enc['GarageYrBlt'] != 0]['GarageYrBlt']\n",
    "#                                    , bins=6, precision=0).astype(str)\n",
    "# df_ord_enc['GarageYrBlt'].fillna(\"No Garage\", inplace = True)\n",
    "# df_ord_enc['GarageYrBlt'].value_counts()\n",
    "\n",
    "# # Datetime variable - ordinal encoding\n",
    "# date_cols_mapping = [ \n",
    "#     {\"col\" : 'YrSold', \"mapping\": {2006:0, 2007: 1, 2008:2, \n",
    "#                                    2009:3, 2010:4}},\n",
    "    \n",
    "#     {\"col\" : 'MoSold', \"mapping\": {1: 0, 2: 1, 3:2, 4:3, 5:4, 6:5, 7:6, \n",
    "#                                    8:7, 9:8, 10:9, 11:10, 12:11}},\n",
    "    \n",
    "#     {\"col\" : 'YearRemodAdd', \"mapping\": {'(1950.0, 1960.0]':0, '(1960.0, 1970.0]':1,\n",
    "#                                          '(1970.0, 1980.0]':2, '(1980.0, 1990.0]':3,\n",
    "#                                          '(1990.0, 2000.0]':4, '(2000.0, 2010.0]':5}},\n",
    "    \n",
    "#     {\"col\" : 'YearBuilt', \"mapping\": {'(1872.0, 1895.0]':0, '(1895.0, 1918.0]':1,\n",
    "#                                          '(1918.0, 1941.0]':2, '(1941.0, 1964.0]':3,\n",
    "#                                          '(1964.0, 1987.0]':4, '(1987.0, 2010.0]':5}},\n",
    "    \n",
    "#     {\"col\" : 'GarageYrBlt', \"mapping\": {'No Garage':0, '(1900.0, 1918.0]':1,\n",
    "#                                         '(1918.0, 1937.0]':2, '(1937.0, 1955.0]':3,\n",
    "#                                         '(1955.0, 1973.0]':4, '(1973.0, 1992.0]':5,\n",
    "#                                         '(1992.0, 2010.0]':6}},\n",
    "# ]\n",
    "\n",
    "# # Applying label encoder\n",
    "# ordenc = ce.OrdinalEncoder(mapping = date_cols_mapping, return_df = True)\n",
    "# test_df_final = ordenc.fit_transform(df_ord_enc)  \n",
    "# test_final.head()"
   ]
  },
  {
   "cell_type": "code",
   "execution_count": 48,
   "id": "153e4fe4",
   "metadata": {
    "execution": {
     "iopub.execute_input": "2022-08-16T04:06:22.291581Z",
     "iopub.status.busy": "2022-08-16T04:06:22.290774Z",
     "iopub.status.idle": "2022-08-16T04:06:22.294004Z",
     "shell.execute_reply": "2022-08-16T04:06:22.294585Z",
     "shell.execute_reply.started": "2022-04-14T12:35:41.803942Z"
    },
    "papermill": {
     "duration": 0.09146,
     "end_time": "2022-08-16T04:06:22.294761",
     "exception": false,
     "start_time": "2022-08-16T04:06:22.203301",
     "status": "completed"
    },
    "tags": []
   },
   "outputs": [],
   "source": [
    "# Defining our orignal model\n",
    "# final_model = RandomForestRegressor(n_estimators=60, max_depth=12, \n",
    "#                               min_samples_leaf=2, min_samples_split=5)\n",
    "# final_model.fit(X, y)\n",
    "# pred_log = final_model.predict(test_df)\n",
    "# pred = np.exp(pred_log)\n",
    "# sub = pd.DataFrame({'ID': ids, 'target': pred})\n",
    "# sub.to_csv('submission.csv', index=False)"
   ]
  }
 ],
 "metadata": {
  "kernelspec": {
   "display_name": "Python 3 (ipykernel)",
   "language": "python",
   "name": "python3"
  },
  "language_info": {
   "codemirror_mode": {
    "name": "ipython",
    "version": 3
   },
   "file_extension": ".py",
   "mimetype": "text/x-python",
   "name": "python",
   "nbconvert_exporter": "python",
   "pygments_lexer": "ipython3",
   "version": "3.9.12"
  },
  "papermill": {
   "default_parameters": {},
   "duration": 174.348447,
   "end_time": "2022-08-16T04:06:23.191638",
   "environment_variables": {},
   "exception": null,
   "input_path": "__notebook__.ipynb",
   "output_path": "__notebook__.ipynb",
   "parameters": {},
   "start_time": "2022-08-16T04:03:28.843191",
   "version": "2.3.3"
  }
 },
 "nbformat": 4,
 "nbformat_minor": 5
}
