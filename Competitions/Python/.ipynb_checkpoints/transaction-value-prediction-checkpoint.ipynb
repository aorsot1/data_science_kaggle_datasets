{
 "cells": [
  {
   "cell_type": "markdown",
   "id": "d734cd34",
   "metadata": {
    "papermill": {
     "duration": 0.022968,
     "end_time": "2022-08-16T01:18:44.832854",
     "exception": false,
     "start_time": "2022-08-16T01:18:44.809886",
     "status": "completed"
    },
    "tags": []
   },
   "source": [
    "# Santander Transaction Value\n",
    "With advent of new service type that are more personlized, Santander understand the business opportunities present. However, it would throwing a dart blindly without any information the market out there. The task here would be to predict the value of transactions for each potential customer working given a set of variables anonymized (best pratcice approach for security and privacy). In doing so, we will follow LIME (Local Interpretable Model-agnostic Explanations) principles making it accessible and user-friendly to most readers.\n",
    "\n",
    "# Table of Contents\n",
    "1. Environment set-up\n",
    "    * Importing Libraries\n",
    "    * Loading the data\n",
    "2. Initial Diagnostics\n",
    "    * Glimpse\n",
    "    * Descriptive Statitics\n",
    "    * Target Variable Analysis\n",
    "3. Data Cleaning\n",
    "    * Missing Values\n",
    "    * Outliers\n",
    "    * Duplicate Observations\n",
    "4. Correlation Analysis\n",
    "5. Machine Learning set-up\n",
    "    * Feature Scaling\n",
    "    * Train-test split\n",
    "6. Machine Learning - Ensemble Methods\n",
    "    * Random Forest Regressor\n",
    "    * XGBoostRegressor\n",
    "7. Machine Learning - Neural Networks\n",
    "8. Final Submission"
   ]
  },
  {
   "cell_type": "markdown",
   "id": "0d15643d",
   "metadata": {
    "papermill": {
     "duration": 0.018667,
     "end_time": "2022-08-16T01:18:44.870753",
     "exception": false,
     "start_time": "2022-08-16T01:18:44.852086",
     "status": "completed"
    },
    "tags": []
   },
   "source": [
    "# 1. Environment set-up"
   ]
  },
  {
   "cell_type": "code",
   "execution_count": 1,
   "id": "2c8c37d2",
   "metadata": {
    "_cell_guid": "b1076dfc-b9ad-4769-8c92-a6c4dae69d19",
    "_uuid": "8f2839f25d086af736a60e9eeb907d3b93b6e0e5",
    "execution": {
     "iopub.execute_input": "2022-08-16T01:18:44.916928Z",
     "iopub.status.busy": "2022-08-16T01:18:44.915125Z",
     "iopub.status.idle": "2022-08-16T01:18:51.361674Z",
     "shell.execute_reply": "2022-08-16T01:18:51.362216Z",
     "shell.execute_reply.started": "2022-03-04T02:31:11.801807Z"
    },
    "papermill": {
     "duration": 6.472779,
     "end_time": "2022-08-16T01:18:51.362534",
     "exception": false,
     "start_time": "2022-08-16T01:18:44.889755",
     "status": "completed"
    },
    "tags": []
   },
   "outputs": [
    {
     "name": "stdout",
     "output_type": "stream",
     "text": [
      "/kaggle/input/santander-value-prediction-challenge/sample_submission.csv\n",
      "/kaggle/input/santander-value-prediction-challenge/train.csv\n",
      "/kaggle/input/santander-value-prediction-challenge/test.csv\n"
     ]
    }
   ],
   "source": [
    "## Importing Libraries\n",
    "\n",
    "#Set seed\n",
    "import random\n",
    "random.seed(69)\n",
    "\n",
    "# Manipulating & Visualizing Data\n",
    "import pandas as pd\n",
    "import numpy as np\n",
    "from collections import Counter\n",
    "import matplotlib.pyplot as plt\n",
    "import seaborn as sns\n",
    "sns.set(rc={'figure.figsize':(12, 8)})\n",
    "\n",
    "# Machine Learning set-up\n",
    "from sklearn import preprocessing\n",
    "from sklearn.model_selection import train_test_split\n",
    "from sklearn.model_selection import cross_val_score, KFold\n",
    "\n",
    "# Cross Validation\n",
    "from sklearn.model_selection import  KFold\n",
    "\n",
    "# Ensemble Learning\n",
    "from sklearn.ensemble import RandomForestRegressor\n",
    "from sklearn.ensemble import AdaBoostRegressor\n",
    "\n",
    "# Neural Networks\n",
    "from sklearn.neural_network import MLPRegressor\n",
    "import tensorflow as tf\n",
    "from tensorflow import keras\n",
    "from keras.models import Sequential\n",
    "from keras.layers import Dense\n",
    "\n",
    "# Performance metrics\n",
    "import sklearn.metrics as skm\n",
    "\n",
    "# System file\n",
    "import os\n",
    "for dirname, _, filenames in os.walk('/kaggle/input'):\n",
    "    for filename in filenames:\n",
    "        print(os.path.join(dirname, filename))\n",
    "\n",
    "# You can write up to 20GB to the current directory (/kaggle/working/) that gets preserved as output when you create a version using \"Save & Run All\" \n",
    "# You can also write temporary files to /kaggle/temp/, but they won't be saved outside of the current session"
   ]
  },
  {
   "cell_type": "code",
   "execution_count": 2,
   "id": "d0621e0c",
   "metadata": {
    "execution": {
     "iopub.execute_input": "2022-08-16T01:18:51.404116Z",
     "iopub.status.busy": "2022-08-16T01:18:51.403456Z",
     "iopub.status.idle": "2022-08-16T01:18:56.265648Z",
     "shell.execute_reply": "2022-08-16T01:18:56.265068Z",
     "shell.execute_reply.started": "2022-03-04T02:31:19.050223Z"
    },
    "papermill": {
     "duration": 4.883907,
     "end_time": "2022-08-16T01:18:56.265794",
     "exception": false,
     "start_time": "2022-08-16T01:18:51.381887",
     "status": "completed"
    },
    "tags": []
   },
   "outputs": [],
   "source": [
    "## Loading the dataset\n",
    "df = pd.read_csv(\"/kaggle/input/santander-value-prediction-challenge/train.csv\")\n",
    "\n",
    "#Removing the unnecessary ID column\n",
    "df.drop(\"ID\", axis=1, inplace=True)"
   ]
  },
  {
   "cell_type": "markdown",
   "id": "e5bf1b1d",
   "metadata": {
    "papermill": {
     "duration": 0.018481,
     "end_time": "2022-08-16T01:18:56.303496",
     "exception": false,
     "start_time": "2022-08-16T01:18:56.285015",
     "status": "completed"
    },
    "tags": []
   },
   "source": [
    "# 2. Initial Diagnostics"
   ]
  },
  {
   "cell_type": "code",
   "execution_count": 3,
   "id": "ae7c37c2",
   "metadata": {
    "execution": {
     "iopub.execute_input": "2022-08-16T01:18:56.351629Z",
     "iopub.status.busy": "2022-08-16T01:18:56.350709Z",
     "iopub.status.idle": "2022-08-16T01:18:56.376950Z",
     "shell.execute_reply": "2022-08-16T01:18:56.376326Z",
     "shell.execute_reply.started": "2022-03-04T02:31:24.789259Z"
    },
    "papermill": {
     "duration": 0.054197,
     "end_time": "2022-08-16T01:18:56.377102",
     "exception": false,
     "start_time": "2022-08-16T01:18:56.322905",
     "status": "completed"
    },
    "tags": []
   },
   "outputs": [
    {
     "data": {
      "text/html": [
       "<div>\n",
       "<style scoped>\n",
       "    .dataframe tbody tr th:only-of-type {\n",
       "        vertical-align: middle;\n",
       "    }\n",
       "\n",
       "    .dataframe tbody tr th {\n",
       "        vertical-align: top;\n",
       "    }\n",
       "\n",
       "    .dataframe thead th {\n",
       "        text-align: right;\n",
       "    }\n",
       "</style>\n",
       "<table border=\"1\" class=\"dataframe\">\n",
       "  <thead>\n",
       "    <tr style=\"text-align: right;\">\n",
       "      <th></th>\n",
       "      <th>target</th>\n",
       "      <th>48df886f9</th>\n",
       "      <th>0deb4b6a8</th>\n",
       "      <th>34b15f335</th>\n",
       "      <th>a8cb14b00</th>\n",
       "      <th>2f0771a37</th>\n",
       "      <th>30347e683</th>\n",
       "      <th>d08d1fbe3</th>\n",
       "      <th>6ee66e115</th>\n",
       "      <th>20aa07010</th>\n",
       "      <th>...</th>\n",
       "      <th>3ecc09859</th>\n",
       "      <th>9281abeea</th>\n",
       "      <th>8675bec0b</th>\n",
       "      <th>3a13ed79a</th>\n",
       "      <th>f677d4d13</th>\n",
       "      <th>71b203550</th>\n",
       "      <th>137efaa80</th>\n",
       "      <th>fb36b89d9</th>\n",
       "      <th>7e293fbaf</th>\n",
       "      <th>9fc776466</th>\n",
       "    </tr>\n",
       "  </thead>\n",
       "  <tbody>\n",
       "    <tr>\n",
       "      <th>0</th>\n",
       "      <td>38000000.0</td>\n",
       "      <td>0.0</td>\n",
       "      <td>0</td>\n",
       "      <td>0.0</td>\n",
       "      <td>0</td>\n",
       "      <td>0</td>\n",
       "      <td>0</td>\n",
       "      <td>0</td>\n",
       "      <td>0</td>\n",
       "      <td>0.0</td>\n",
       "      <td>...</td>\n",
       "      <td>0.0</td>\n",
       "      <td>0.0</td>\n",
       "      <td>0.0</td>\n",
       "      <td>0</td>\n",
       "      <td>0</td>\n",
       "      <td>0</td>\n",
       "      <td>0</td>\n",
       "      <td>0</td>\n",
       "      <td>0</td>\n",
       "      <td>0</td>\n",
       "    </tr>\n",
       "    <tr>\n",
       "      <th>1</th>\n",
       "      <td>600000.0</td>\n",
       "      <td>0.0</td>\n",
       "      <td>0</td>\n",
       "      <td>0.0</td>\n",
       "      <td>0</td>\n",
       "      <td>0</td>\n",
       "      <td>0</td>\n",
       "      <td>0</td>\n",
       "      <td>0</td>\n",
       "      <td>2200000.0</td>\n",
       "      <td>...</td>\n",
       "      <td>0.0</td>\n",
       "      <td>0.0</td>\n",
       "      <td>0.0</td>\n",
       "      <td>0</td>\n",
       "      <td>0</td>\n",
       "      <td>0</td>\n",
       "      <td>0</td>\n",
       "      <td>0</td>\n",
       "      <td>0</td>\n",
       "      <td>0</td>\n",
       "    </tr>\n",
       "    <tr>\n",
       "      <th>2</th>\n",
       "      <td>10000000.0</td>\n",
       "      <td>0.0</td>\n",
       "      <td>0</td>\n",
       "      <td>0.0</td>\n",
       "      <td>0</td>\n",
       "      <td>0</td>\n",
       "      <td>0</td>\n",
       "      <td>0</td>\n",
       "      <td>0</td>\n",
       "      <td>0.0</td>\n",
       "      <td>...</td>\n",
       "      <td>0.0</td>\n",
       "      <td>0.0</td>\n",
       "      <td>0.0</td>\n",
       "      <td>0</td>\n",
       "      <td>0</td>\n",
       "      <td>0</td>\n",
       "      <td>0</td>\n",
       "      <td>0</td>\n",
       "      <td>0</td>\n",
       "      <td>0</td>\n",
       "    </tr>\n",
       "    <tr>\n",
       "      <th>3</th>\n",
       "      <td>2000000.0</td>\n",
       "      <td>0.0</td>\n",
       "      <td>0</td>\n",
       "      <td>0.0</td>\n",
       "      <td>0</td>\n",
       "      <td>0</td>\n",
       "      <td>0</td>\n",
       "      <td>0</td>\n",
       "      <td>0</td>\n",
       "      <td>0.0</td>\n",
       "      <td>...</td>\n",
       "      <td>0.0</td>\n",
       "      <td>0.0</td>\n",
       "      <td>0.0</td>\n",
       "      <td>0</td>\n",
       "      <td>0</td>\n",
       "      <td>0</td>\n",
       "      <td>0</td>\n",
       "      <td>0</td>\n",
       "      <td>0</td>\n",
       "      <td>0</td>\n",
       "    </tr>\n",
       "    <tr>\n",
       "      <th>4</th>\n",
       "      <td>14400000.0</td>\n",
       "      <td>0.0</td>\n",
       "      <td>0</td>\n",
       "      <td>0.0</td>\n",
       "      <td>0</td>\n",
       "      <td>0</td>\n",
       "      <td>0</td>\n",
       "      <td>0</td>\n",
       "      <td>0</td>\n",
       "      <td>2000000.0</td>\n",
       "      <td>...</td>\n",
       "      <td>0.0</td>\n",
       "      <td>0.0</td>\n",
       "      <td>0.0</td>\n",
       "      <td>0</td>\n",
       "      <td>0</td>\n",
       "      <td>0</td>\n",
       "      <td>0</td>\n",
       "      <td>0</td>\n",
       "      <td>0</td>\n",
       "      <td>0</td>\n",
       "    </tr>\n",
       "  </tbody>\n",
       "</table>\n",
       "<p>5 rows × 4992 columns</p>\n",
       "</div>"
      ],
      "text/plain": [
       "       target  48df886f9  0deb4b6a8  34b15f335  a8cb14b00  2f0771a37  \\\n",
       "0  38000000.0        0.0          0        0.0          0          0   \n",
       "1    600000.0        0.0          0        0.0          0          0   \n",
       "2  10000000.0        0.0          0        0.0          0          0   \n",
       "3   2000000.0        0.0          0        0.0          0          0   \n",
       "4  14400000.0        0.0          0        0.0          0          0   \n",
       "\n",
       "   30347e683  d08d1fbe3  6ee66e115  20aa07010  ...  3ecc09859  9281abeea  \\\n",
       "0          0          0          0        0.0  ...        0.0        0.0   \n",
       "1          0          0          0  2200000.0  ...        0.0        0.0   \n",
       "2          0          0          0        0.0  ...        0.0        0.0   \n",
       "3          0          0          0        0.0  ...        0.0        0.0   \n",
       "4          0          0          0  2000000.0  ...        0.0        0.0   \n",
       "\n",
       "   8675bec0b  3a13ed79a  f677d4d13  71b203550  137efaa80  fb36b89d9  \\\n",
       "0        0.0          0          0          0          0          0   \n",
       "1        0.0          0          0          0          0          0   \n",
       "2        0.0          0          0          0          0          0   \n",
       "3        0.0          0          0          0          0          0   \n",
       "4        0.0          0          0          0          0          0   \n",
       "\n",
       "   7e293fbaf  9fc776466  \n",
       "0          0          0  \n",
       "1          0          0  \n",
       "2          0          0  \n",
       "3          0          0  \n",
       "4          0          0  \n",
       "\n",
       "[5 rows x 4992 columns]"
      ]
     },
     "execution_count": 3,
     "metadata": {},
     "output_type": "execute_result"
    }
   ],
   "source": [
    "## Glimpse of the data\n",
    "df.head()"
   ]
  },
  {
   "cell_type": "code",
   "execution_count": 4,
   "id": "2e67ea5c",
   "metadata": {
    "execution": {
     "iopub.execute_input": "2022-08-16T01:18:56.446640Z",
     "iopub.status.busy": "2022-08-16T01:18:56.421464Z",
     "iopub.status.idle": "2022-08-16T01:18:56.810210Z",
     "shell.execute_reply": "2022-08-16T01:18:56.810666Z",
     "shell.execute_reply.started": "2022-03-04T02:31:24.828711Z"
    },
    "papermill": {
     "duration": 0.412794,
     "end_time": "2022-08-16T01:18:56.810871",
     "exception": false,
     "start_time": "2022-08-16T01:18:56.398077",
     "status": "completed"
    },
    "tags": []
   },
   "outputs": [
    {
     "name": "stdout",
     "output_type": "stream",
     "text": [
      "<class 'pandas.core.frame.DataFrame'>\n",
      "RangeIndex: 4459 entries, 0 to 4458\n",
      "Columns: 4992 entries, target to 9fc776466\n",
      "dtypes: float64(1845), int64(3147)\n",
      "memory usage: 169.8 MB\n"
     ]
    }
   ],
   "source": [
    "## Structure of dataframe\n",
    "df.info()"
   ]
  },
  {
   "cell_type": "markdown",
   "id": "8d5810b5",
   "metadata": {
    "papermill": {
     "duration": 0.019428,
     "end_time": "2022-08-16T01:18:56.850233",
     "exception": false,
     "start_time": "2022-08-16T01:18:56.830805",
     "status": "completed"
    },
    "tags": []
   },
   "source": [
    "**Note:** The histogram below shows a right-skewed distribution indicating that most transactions are on the lower end. It remains consistent given that banking transaction for x person (on average) is relatively modest, with some expectations on the upper tail as shown with the outliers on the boxplot below.  "
   ]
  },
  {
   "cell_type": "code",
   "execution_count": 5,
   "id": "5d7e8332",
   "metadata": {
    "execution": {
     "iopub.execute_input": "2022-08-16T01:18:56.904070Z",
     "iopub.status.busy": "2022-08-16T01:18:56.902823Z",
     "iopub.status.idle": "2022-08-16T01:18:57.255783Z",
     "shell.execute_reply": "2022-08-16T01:18:57.255242Z",
     "shell.execute_reply.started": "2022-03-04T02:31:25.252934Z"
    },
    "papermill": {
     "duration": 0.386163,
     "end_time": "2022-08-16T01:18:57.255960",
     "exception": false,
     "start_time": "2022-08-16T01:18:56.869797",
     "status": "completed"
    },
    "tags": []
   },
   "outputs": [
    {
     "data": {
      "image/png": "[encoded data removed]",
      "text/plain": [
       "<Figure size 864x576 with 1 Axes>"
      ]
     },
     "metadata": {},
     "output_type": "display_data"
    }
   ],
   "source": [
    "# Target Variable Analysis\n",
    "sns.histplot(data=df, x='target', stat='frequency')\n",
    "plt.title(\"Transaction Value Distribution\")\n",
    "plt.xlabel(\"Value ($)\")\n",
    "plt.show()"
   ]
  },
  {
   "cell_type": "markdown",
   "id": "3eb180e1",
   "metadata": {
    "papermill": {
     "duration": 0.020565,
     "end_time": "2022-08-16T01:18:57.297138",
     "exception": false,
     "start_time": "2022-08-16T01:18:57.276573",
     "status": "completed"
    },
    "tags": []
   },
   "source": [
    "**Note:** As noted in the introduction, we have an anonymized dataset with all predictors standardized. Thus, we would have minimal insights in exploring them individually. "
   ]
  },
  {
   "cell_type": "markdown",
   "id": "3e62eaae",
   "metadata": {
    "papermill": {
     "duration": 0.020751,
     "end_time": "2022-08-16T01:18:57.338502",
     "exception": false,
     "start_time": "2022-08-16T01:18:57.317751",
     "status": "completed"
    },
    "tags": []
   },
   "source": [
    "# 3. Data Cleaning"
   ]
  },
  {
   "cell_type": "code",
   "execution_count": 6,
   "id": "7c37cb6d",
   "metadata": {
    "execution": {
     "iopub.execute_input": "2022-08-16T01:18:57.392424Z",
     "iopub.status.busy": "2022-08-16T01:18:57.391239Z",
     "iopub.status.idle": "2022-08-16T01:18:57.452692Z",
     "shell.execute_reply": "2022-08-16T01:18:57.453233Z",
     "shell.execute_reply.started": "2022-03-04T02:31:25.672254Z"
    },
    "papermill": {
     "duration": 0.093272,
     "end_time": "2022-08-16T01:18:57.453434",
     "exception": false,
     "start_time": "2022-08-16T01:18:57.360162",
     "status": "completed"
    },
    "tags": []
   },
   "outputs": [
    {
     "data": {
      "text/plain": [
       "0"
      ]
     },
     "execution_count": 6,
     "metadata": {},
     "output_type": "execute_result"
    }
   ],
   "source": [
    "# Missing Values\n",
    "df.isna().sum().sum()"
   ]
  },
  {
   "cell_type": "markdown",
   "id": "419e793d",
   "metadata": {
    "papermill": {
     "duration": 0.023222,
     "end_time": "2022-08-16T01:18:57.501577",
     "exception": false,
     "start_time": "2022-08-16T01:18:57.478355",
     "status": "completed"
    },
    "tags": []
   },
   "source": [
    "**Takeaway:** With the data already formatted, we would indeed expect no null values."
   ]
  },
  {
   "cell_type": "code",
   "execution_count": 7,
   "id": "ba8db0e4",
   "metadata": {
    "execution": {
     "iopub.execute_input": "2022-08-16T01:18:57.555558Z",
     "iopub.status.busy": "2022-08-16T01:18:57.547876Z",
     "iopub.status.idle": "2022-08-16T01:18:57.754608Z",
     "shell.execute_reply": "2022-08-16T01:18:57.755180Z",
     "shell.execute_reply.started": "2022-03-04T02:31:25.734927Z"
    },
    "papermill": {
     "duration": 0.231929,
     "end_time": "2022-08-16T01:18:57.755370",
     "exception": false,
     "start_time": "2022-08-16T01:18:57.523441",
     "status": "completed"
    },
    "tags": []
   },
   "outputs": [
    {
     "data": {
      "image/png": "[encoded data removed]",
      "text/plain": [
       "<Figure size 864x576 with 1 Axes>"
      ]
     },
     "metadata": {},
     "output_type": "display_data"
    }
   ],
   "source": [
    "## Outliers\n",
    "sns.boxplot(data=df, x='target')\n",
    "plt.title(\"Transaction Value Boxplot\")\n",
    "plt.xlabel(\"Value ($)\")\n",
    "plt.show()"
   ]
  },
  {
   "cell_type": "markdown",
   "id": "e49f59ae",
   "metadata": {
    "papermill": {
     "duration": 0.021648,
     "end_time": "2022-08-16T01:18:57.798964",
     "exception": false,
     "start_time": "2022-08-16T01:18:57.777316",
     "status": "completed"
    },
    "tags": []
   },
   "source": [
    "**Takeaway:** From the box plot above, We have already determined some outliers. However, we will not exclude them but use other techniques instead to ensure robust results from the machine learning predictions."
   ]
  },
  {
   "cell_type": "code",
   "execution_count": 8,
   "id": "fa4b52d1",
   "metadata": {
    "execution": {
     "iopub.execute_input": "2022-08-16T01:18:57.849940Z",
     "iopub.status.busy": "2022-08-16T01:18:57.848940Z",
     "iopub.status.idle": "2022-08-16T01:18:58.661672Z",
     "shell.execute_reply": "2022-08-16T01:18:58.661147Z",
     "shell.execute_reply.started": "2022-03-04T02:31:25.98122Z"
    },
    "papermill": {
     "duration": 0.840586,
     "end_time": "2022-08-16T01:18:58.661829",
     "exception": false,
     "start_time": "2022-08-16T01:18:57.821243",
     "status": "completed"
    },
    "tags": []
   },
   "outputs": [
    {
     "data": {
      "text/plain": [
       "False    4459\n",
       "dtype: int64"
      ]
     },
     "execution_count": 8,
     "metadata": {},
     "output_type": "execute_result"
    }
   ],
   "source": [
    "# Duplicate Observations\n",
    "df.duplicated().value_counts()"
   ]
  },
  {
   "cell_type": "markdown",
   "id": "2128c15d",
   "metadata": {
    "papermill": {
     "duration": 0.023198,
     "end_time": "2022-08-16T01:18:58.707915",
     "exception": false,
     "start_time": "2022-08-16T01:18:58.684717",
     "status": "completed"
    },
    "tags": []
   },
   "source": [
    "**Takeaway:**  With no duplicate values, we may proceed without making any further changes."
   ]
  },
  {
   "cell_type": "markdown",
   "id": "05006df6",
   "metadata": {
    "papermill": {
     "duration": 0.023483,
     "end_time": "2022-08-16T01:18:58.755132",
     "exception": false,
     "start_time": "2022-08-16T01:18:58.731649",
     "status": "completed"
    },
    "tags": []
   },
   "source": [
    "# 4. Correlation Analysis"
   ]
  },
  {
   "cell_type": "markdown",
   "id": "ac0e62e0",
   "metadata": {
    "papermill": {
     "duration": 0.023724,
     "end_time": "2022-08-16T01:18:58.802484",
     "exception": false,
     "start_time": "2022-08-16T01:18:58.778760",
     "status": "completed"
    },
    "tags": []
   },
   "source": [
    "**Takeaway:** Given that we have close to 5000 columns, it would be quite computationally intensive to display the entire correlation matrix and visualize it for user-friendly analysis. "
   ]
  },
  {
   "cell_type": "markdown",
   "id": "f3b5c85f",
   "metadata": {
    "papermill": {
     "duration": 0.023154,
     "end_time": "2022-08-16T01:18:58.850225",
     "exception": false,
     "start_time": "2022-08-16T01:18:58.827071",
     "status": "completed"
    },
    "tags": []
   },
   "source": [
    "# 5. Machine Learning set-up\n",
    "\n",
    "Under this section, we will explain the procedure of two main splitting approach to estimate our models' performance. "
   ]
  },
  {
   "cell_type": "code",
   "execution_count": 9,
   "id": "4ead8397",
   "metadata": {
    "execution": {
     "iopub.execute_input": "2022-08-16T01:18:58.904638Z",
     "iopub.status.busy": "2022-08-16T01:18:58.903877Z",
     "iopub.status.idle": "2022-08-16T01:18:59.031619Z",
     "shell.execute_reply": "2022-08-16T01:18:59.030963Z",
     "shell.execute_reply.started": "2022-03-04T02:31:26.782253Z"
    },
    "papermill": {
     "duration": 0.157145,
     "end_time": "2022-08-16T01:18:59.031818",
     "exception": false,
     "start_time": "2022-08-16T01:18:58.874673",
     "status": "completed"
    },
    "tags": []
   },
   "outputs": [],
   "source": [
    "# Splitting features & target variable\n",
    "X = df.drop(['target'], axis=1).values\n",
    "y = df['target'].values"
   ]
  },
  {
   "cell_type": "markdown",
   "id": "677d2b63",
   "metadata": {
    "papermill": {
     "duration": 0.02348,
     "end_time": "2022-08-16T01:18:59.079723",
     "exception": false,
     "start_time": "2022-08-16T01:18:59.056243",
     "status": "completed"
    },
    "tags": []
   },
   "source": [
    "**Definition:** As we may imagine, variables come in different measurements like height in inches, weight in pounds, or dollar amount. To ensure a smooth run of our models, we will proceed with feature scaling by representing every value in the column based on a given reference. In our instance, we will use **StandardScaler** by subtracting from the mean and dividing by the standard deviation."
   ]
  },
  {
   "cell_type": "code",
   "execution_count": 10,
   "id": "1be2984b",
   "metadata": {
    "execution": {
     "iopub.execute_input": "2022-08-16T01:18:59.131630Z",
     "iopub.status.busy": "2022-08-16T01:18:59.130800Z",
     "iopub.status.idle": "2022-08-16T01:18:59.132479Z",
     "shell.execute_reply": "2022-08-16T01:18:59.133220Z",
     "shell.execute_reply.started": "2022-03-04T02:31:26.919155Z"
    },
    "papermill": {
     "duration": 0.030534,
     "end_time": "2022-08-16T01:18:59.133488",
     "exception": false,
     "start_time": "2022-08-16T01:18:59.102954",
     "status": "completed"
    },
    "tags": []
   },
   "outputs": [],
   "source": [
    "# Feature Scaling\n",
    "# scaler = preprocessing.StandardScaler()\n",
    "# X = scaler.fit_transform(X)\n",
    "# X"
   ]
  },
  {
   "cell_type": "markdown",
   "id": "b276fc96",
   "metadata": {
    "papermill": {
     "duration": 0.023076,
     "end_time": "2022-08-16T01:18:59.181090",
     "exception": false,
     "start_time": "2022-08-16T01:18:59.158014",
     "status": "completed"
    },
    "tags": []
   },
   "source": [
    "**Definition:** Often denoted as the most popular by its simplicity, the train-test split is a sampling technique dividing the dataset between training and testing sets. In doing so, the goal would be to have enough (but not too much) in our training set used for the machine learning model to predict the observations in the testing set as accurately as possible. Most would opt for a 70/30 training-testing split, respectively, others 80/20, 60/40, or whichever else works best for the case scenario. Further information [here](https://machinelearningmastery.com/train-test-split-for-evaluating-machine-learning-algorithms/). "
   ]
  },
  {
   "cell_type": "code",
   "execution_count": 11,
   "id": "39bccf2d",
   "metadata": {
    "execution": {
     "iopub.execute_input": "2022-08-16T01:18:59.231531Z",
     "iopub.status.busy": "2022-08-16T01:18:59.230791Z",
     "iopub.status.idle": "2022-08-16T01:18:59.494013Z",
     "shell.execute_reply": "2022-08-16T01:18:59.494601Z",
     "shell.execute_reply.started": "2022-03-04T02:31:26.923996Z"
    },
    "papermill": {
     "duration": 0.289886,
     "end_time": "2022-08-16T01:18:59.494793",
     "exception": false,
     "start_time": "2022-08-16T01:18:59.204907",
     "status": "completed"
    },
    "tags": []
   },
   "outputs": [],
   "source": [
    "## Training Testing Split\n",
    "X_train, X_valid, y_train, y_valid = train_test_split(X, y, \n",
    "                                                    test_size=0.3, \n",
    "                                                    random_state=42)\n"
   ]
  },
  {
   "cell_type": "markdown",
   "id": "1a483783",
   "metadata": {
    "papermill": {
     "duration": 0.02288,
     "end_time": "2022-08-16T01:18:59.541225",
     "exception": false,
     "start_time": "2022-08-16T01:18:59.518345",
     "status": "completed"
    },
    "tags": []
   },
   "source": [
    "# 7. Machine Learning - Neural Networks"
   ]
  },
  {
   "cell_type": "markdown",
   "id": "97e71ac3",
   "metadata": {
    "papermill": {
     "duration": 0.02348,
     "end_time": "2022-08-16T01:18:59.587779",
     "exception": false,
     "start_time": "2022-08-16T01:18:59.564299",
     "status": "completed"
    },
    "tags": []
   },
   "source": [
    "**Definition:** MLPRegressor"
   ]
  },
  {
   "cell_type": "code",
   "execution_count": 12,
   "id": "ca06bdda",
   "metadata": {
    "execution": {
     "iopub.execute_input": "2022-08-16T01:18:59.637293Z",
     "iopub.status.busy": "2022-08-16T01:18:59.636563Z",
     "iopub.status.idle": "2022-08-16T01:19:19.573092Z",
     "shell.execute_reply": "2022-08-16T01:19:19.573995Z",
     "shell.execute_reply.started": "2022-03-04T02:44:17.492737Z"
    },
    "papermill": {
     "duration": 19.962974,
     "end_time": "2022-08-16T01:19:19.574249",
     "exception": false,
     "start_time": "2022-08-16T01:18:59.611275",
     "status": "completed"
    },
    "tags": []
   },
   "outputs": [
    {
     "name": "stdout",
     "output_type": "stream",
     "text": [
      "MLPRegressor - RMSE: 8389746.83681\n"
     ]
    }
   ],
   "source": [
    "mlpr = MLPRegressor(hidden_layer_sizes= (5,5,5,5),\n",
    "                           max_iter=500, alpha=0.05, solver='sgd',\n",
    "                           learning_rate='adaptive', activation='tanh')\n",
    "mlpr.fit(X_train, y_train)\n",
    "pred = mlpr.predict(X_train)\n",
    "nonneg_pred = np.clip(pred, df['target'].min(), df['target'].max())\n",
    "rmse = skm.mean_squared_error(y_train, nonneg_pred, squared=False) \n",
    "print('MLPRegressor - RMSE: {:.5f}' .format(rmse))"
   ]
  },
  {
   "cell_type": "markdown",
   "id": "23b88174",
   "metadata": {
    "papermill": {
     "duration": 0.034387,
     "end_time": "2022-08-16T01:19:19.643406",
     "exception": false,
     "start_time": "2022-08-16T01:19:19.609019",
     "status": "completed"
    },
    "tags": []
   },
   "source": [
    "# 8. Final Submission"
   ]
  },
  {
   "cell_type": "code",
   "execution_count": 13,
   "id": "283fb430",
   "metadata": {
    "execution": {
     "iopub.execute_input": "2022-08-16T01:19:19.709556Z",
     "iopub.status.busy": "2022-08-16T01:19:19.708915Z",
     "iopub.status.idle": "2022-08-16T01:20:19.668530Z",
     "shell.execute_reply": "2022-08-16T01:20:19.669074Z",
     "shell.execute_reply.started": "2022-03-04T02:31:27.540471Z"
    },
    "papermill": {
     "duration": 59.991012,
     "end_time": "2022-08-16T01:20:19.669282",
     "exception": false,
     "start_time": "2022-08-16T01:19:19.678270",
     "status": "completed"
    },
    "tags": []
   },
   "outputs": [],
   "source": [
    "# Loading the dataset\n",
    "test_df = pd.read_csv(\"/kaggle/input/santander-value-prediction-challenge/test.csv\")\n",
    "ids = test_df['ID']\n",
    "test_df.drop(['ID'], axis=1, inplace=True)"
   ]
  },
  {
   "cell_type": "code",
   "execution_count": 14,
   "id": "2da7502e",
   "metadata": {
    "execution": {
     "iopub.execute_input": "2022-08-16T01:20:19.718324Z",
     "iopub.status.busy": "2022-08-16T01:20:19.717633Z",
     "iopub.status.idle": "2022-08-16T01:21:00.538936Z",
     "shell.execute_reply": "2022-08-16T01:21:00.537882Z",
     "shell.execute_reply.started": "2022-03-04T02:31:27.542224Z"
    },
    "papermill": {
     "duration": 40.846743,
     "end_time": "2022-08-16T01:21:00.539114",
     "exception": false,
     "start_time": "2022-08-16T01:20:19.692371",
     "status": "completed"
    },
    "tags": []
   },
   "outputs": [],
   "source": [
    "# Defining our orignal model\n",
    "final_model = MLPRegressor(hidden_layer_sizes= (5,5,5,5),\n",
    "                           max_iter=500, alpha=0.05, solver='sgd',\n",
    "                           learning_rate='adaptive', activation='tanh')\n",
    "final_model.fit(X, y)\n",
    "pred = final_model.predict(test_df)\n",
    "nonneg_pred = np.clip(pred, df['target'].min(), df['target'].max())\n",
    "sub = pd.DataFrame({'ID': ids, 'target': nonneg_pred})\n",
    "sub.to_csv('submission.csv', index=False)"
   ]
  }
 ],
 "metadata": {
  "kernelspec": {
   "display_name": "Python 3 (ipykernel)",
   "language": "python",
   "name": "python3"
  },
  "language_info": {
   "codemirror_mode": {
    "name": "ipython",
    "version": 3
   },
   "file_extension": ".py",
   "mimetype": "text/x-python",
   "name": "python",
   "nbconvert_exporter": "python",
   "pygments_lexer": "ipython3",
   "version": "3.9.12"
  },
  "papermill": {
   "default_parameters": {},
   "duration": 147.623697,
   "end_time": "2022-08-16T01:21:03.388665",
   "environment_variables": {},
   "exception": null,
   "input_path": "__notebook__.ipynb",
   "output_path": "__notebook__.ipynb",
   "parameters": {},
   "start_time": "2022-08-16T01:18:35.764968",
   "version": "2.3.3"
  }
 },
 "nbformat": 4,
 "nbformat_minor": 5
}
