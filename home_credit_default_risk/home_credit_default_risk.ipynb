{
 "cells": [
  {
   "cell_type": "markdown",
   "id": "eec73135-57c7-4cdc-b8e5-6ebd959cc77d",
   "metadata": {},
   "source": [
    "## Credit Default Risk\n",
    "Many of us often resort to bank loans in buying a home, given the ballooning house prices in current times. Unfortunately, many others struggle to approve loans due to insufficient or non-existent credit histories. Home Credit is trying to remedy being more inclusive of this demographic; however, it does not come without risks. Our task here would be to leverage statistical methods and machine learning techniques to ensure that the loan-approved clients can repay accordingly. So, this notebook will offer a user-friendly explanation through every step using LIME (Local Interpretable Model-agnostic Explanations) principles.\n",
    "\n",
    "\n",
    "## Table of Contents\n",
    "1. Environment set-up\n",
    "    * Importing Libraries\n",
    "    * Loading the data\n",
    "2. Initial Diagnostics\n",
    "    * Glimpse\n",
    "    * Descriptive Statitics\n",
    "    * Target Variable Analysis\n",
    "    * Predictors Analysis\n",
    "3. Data Cleaning\n",
    "    * Missing Values\n",
    "    * Outliers\n",
    "    * Duplicate Observations\n",
    "4. Correlation Analysis\n",
    "    * Correlation Matrix\n",
    "    * Strongest relationship\n",
    "5. Inquiry Exploration\n",
    "    * \n",
    "    * \n",
    "    * \n",
    "    * \n",
    "    * \n",
    "6. Feature Engineering\n",
    "    * \n",
    "    * \n",
    "7. Machine Learning set-up\n",
    "    * Train-test split\n",
    "    * Cross-validation\n",
    "8. Feature Selection\n",
    "\n",
    "9. Dimensionality Reduction\n",
    "    * \n",
    "    * \n",
    "    * \n",
    "10. Machine Learning - Simple Models\n",
    "    * \n",
    "    * \n",
    "    * \n",
    "11. Machine Learning - Ensemble Methods\n",
    "    * \n",
    "    * \n",
    "    * \n",
    "12. Hyperparameter Tuning\n",
    "    * \n",
    "    * \n",
    "12. Model Performance Evaluation\n",
    "    * \n",
    "    *     \n",
    "13. Recommendation & Conclusion"
   ]
  },
  {
   "cell_type": "code",
   "execution_count": 1,
   "id": "6cf43c84-a24c-4d77-9ee4-721b25b588a8",
   "metadata": {},
   "outputs": [],
   "source": [
    "import pandas as pd\n",
    "import numpy as np\n"
   ]
  }
 ],
 "metadata": {
  "kernelspec": {
   "display_name": "Python 3 (ipykernel)",
   "language": "python",
   "name": "python3"
  },
  "language_info": {
   "codemirror_mode": {
    "name": "ipython",
    "version": 3
   },
   "file_extension": ".py",
   "mimetype": "text/x-python",
   "name": "python",
   "nbconvert_exporter": "python",
   "pygments_lexer": "ipython3",
   "version": "3.7.11"
  }
 },
 "nbformat": 4,
 "nbformat_minor": 5
}
