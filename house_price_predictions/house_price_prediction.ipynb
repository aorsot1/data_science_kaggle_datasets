{
 "cells": [
  {
   "cell_type": "markdown",
   "id": "da4163a9-2590-49b3-8b8a-20bfae3a5bb8",
   "metadata": {},
   "source": [
    "## House Price Predictions\n",
    "Different variables come into play in appraising a house, such as the number of bedrooms, square footage, location, and much more. So, our task here is to build a machine learning model to make reasonably accurate predictions in terms of pricing houses. It would be an opportunity for those in real estate to gain more visibility on the market as a whole. In doing so, this notebook will offer a user-friendly explanation through every step using LIME (Local Interpretable Model-agnostic Explanations) principles.\n",
    "\n",
    "\n",
    "## Table of Contents\n",
    "1. Environment set-up\n",
    "    * Importing Libraries\n",
    "    * Loading the data\n",
    "2. Initial Diagnostics\n",
    "    * Glimpse\n",
    "    * Descriptive Statitics\n",
    "    * Target Variable Analysis\n",
    "    * Predictors Analysis\n",
    "3. Data Cleaning\n",
    "    * Missing Values\n",
    "    * Outliers\n",
    "    * Duplicate Observations\n",
    "4. Correlation Analysis\n",
    "    * Correlation Matrix\n",
    "    * Strongest relationship\n",
    "5. Inquiry Exploration\n",
    "    * \n",
    "    * \n",
    "    * \n",
    "    * \n",
    "    * \n",
    "6. Feature Engineering\n",
    "    * \n",
    "    * \n",
    "7. Machine Learning set-up\n",
    "    * Train-test split\n",
    "    * Cross-validation\n",
    "8. Feature Selection\n",
    "\n",
    "9. Dimensionality Reduction\n",
    "    * \n",
    "    * \n",
    "    * \n",
    "10. Machine Learning - Simple Models\n",
    "    * \n",
    "    * \n",
    "    * \n",
    "11. Machine Learning - Ensemble Methods\n",
    "    * \n",
    "    * \n",
    "    * \n",
    "12. Hyperparameter Tuning\n",
    "    * \n",
    "    * \n",
    "12. Model Performance Evaluation\n",
    "    * \n",
    "    *     \n",
    "13. Recommendation & Conclusion"
   ]
  },
  {
   "cell_type": "code",
   "execution_count": 1,
   "id": "6b4c4486-62de-4715-90df-02783fa4eed8",
   "metadata": {},
   "outputs": [],
   "source": [
    "import numpy as np \n",
    "import pandas as pd "
   ]
  }
 ],
 "metadata": {
  "kernelspec": {
   "display_name": "Python 3 (ipykernel)",
   "language": "python",
   "name": "python3"
  },
  "language_info": {
   "codemirror_mode": {
    "name": "ipython",
    "version": 3
   },
   "file_extension": ".py",
   "mimetype": "text/x-python",
   "name": "python",
   "nbconvert_exporter": "python",
   "pygments_lexer": "ipython3",
   "version": "3.7.11"
  }
 },
 "nbformat": 4,
 "nbformat_minor": 5
}
