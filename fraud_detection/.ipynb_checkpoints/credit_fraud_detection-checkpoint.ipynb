{
 "cells": [
  {
   "cell_type": "markdown",
   "id": "09e3f6f7-a5b2-498f-81d8-e6755cca5341",
   "metadata": {},
   "source": [
    "## Fraud Detection \n",
    "This notebook will attempt to build a predictive algorithm to detect a fraudulent transaction using a training dataset. We will explain the thinking process at every step using LIME (Local Interpretable Model-agnostic Explanations) principles making it accessible and user-friendly.\n",
    "\n",
    "\n",
    "# Table of Contents\n",
    "1. Environment set-up\n",
    "    * Importing Libraries\n",
    "    * Loading the data\n",
    "2. Initial Diagnostics\n",
    "    * Glimpse\n",
    "    * Descriptive Statitics\n",
    "    * Target Variable Analysis\n",
    "    * Predictors Analysis\n",
    "3. Data Cleaning\n",
    "    * Missing Values\n",
    "    * Outliers\n",
    "    * Duplicate Observations\n",
    "4. Correlation Analysis\n",
    "    * Correlation Matrix\n",
    "    * Strongest relationship\n",
    "5. Inquiry Exploration\n",
    "    * How does Amount's distribution behaves across classes?\n",
    "    * Are there any noteworthy point in time where fraud occured?\n",
    "6. Class Imbalance \n",
    "    * SMOTE - Synthetic Minority Oversampling Technique\n",
    "    * Near-Miss Algorithm\n",
    "    * Combined Random Sampler\n",
    "7. Machine Learning set-up\n",
    "    * Train-test split\n",
    "    * Cross-validation\n",
    "8. Dimensionality Reduction\n",
    "    * PCA - Principal Component Analysis\n",
    "    * SVD - Singular Value Decomposition\n",
    "    * LDA - Linear Discriminant Analysis\n",
    "9. Machine Learning - Simple Models\n",
    "    * Logistic Regression\n",
    "    * k-Nearest Neighbors\n",
    "    * Decision Tree\n",
    "    * Stochastic Gradient Descent\n",
    "10. Machine Learning - Ensemble Methods\n",
    "    * Random Forest\n",
    "    * Stochastic Gradient Boosting\n",
    "    * StackingClassifier\n",
    "11. Model Performance Evaluation\n",
    "    * Top 3 models\n",
    "    * AUPRC\n",
    "    * AUC - ROC Curve\n",
    "    * Conclusion"
   ]
  },
  {
   "cell_type": "markdown",
   "id": "6f5a48b1-3b32-46ad-bb27-d4b0473e29a0",
   "metadata": {},
   "source": [
    "# 1. Environment Set-up"
   ]
  },
  {
   "cell_type": "code",
   "execution_count": 1,
   "id": "08b33a6a-0e3e-4c43-8208-7c527be0743b",
   "metadata": {},
   "outputs": [],
   "source": [
    "## Importing Libraries\n",
    "\n",
    "#Set seed\n",
    "import random\n",
    "random.seed(69)\n",
    "\n",
    "# Manipulating & Visualizing Data\n",
    "import pandas as pd\n",
    "import numpy as np\n",
    "from collections import Counter\n",
    "import matplotlib.pyplot as plt\n",
    "import seaborn as sns\n",
    "sns.set(rc={'figure.figsize':(12, 8)})\n",
    "\n",
    "# Sampling Methods\n",
    "from imblearn.over_sampling import RandomOverSampler, SMOTE\n",
    "from imblearn.under_sampling import RandomUnderSampler, NearMiss\n",
    "\n",
    "# Training/Testing Split\n",
    "from sklearn.model_selection import train_test_split\n",
    "\n",
    "# Cross Validation\n",
    "from sklearn.model_selection import cross_val_score, KFold\n",
    "\n",
    "# Dimensionality Reduction\n",
    "from sklearn.decomposition import PCA, TruncatedSVD\n",
    "from sklearn.discriminant_analysis import LinearDiscriminantAnalysis\n",
    "\n",
    "# Simple ML models\n",
    "from sklearn.pipeline import Pipeline\n",
    "from sklearn.linear_model import LogisticRegression, SGDClassifier\n",
    "from sklearn.neighbors import KNeighborsClassifier\n",
    "from sklearn.tree import DecisionTreeClassifier\n",
    "from sklearn.svm import SVC\n",
    "\n",
    "# Ensemble Learning\n",
    "from sklearn.ensemble import RandomForestClassifier\n",
    "from sklearn.ensemble import GradientBoostingClassifier\n",
    "from sklearn.ensemble import StackingClassifier\n",
    "\n",
    "# Performance metrics\n",
    "import sklearn.metrics as skm"
   ]
  },
  {
   "cell_type": "code",
   "execution_count": 2,
   "id": "fb0a2348-a3cb-4840-b382-04afe9f3a995",
   "metadata": {},
   "outputs": [
    {
     "data": {
      "text/html": [
       "<div>\n",
       "<style scoped>\n",
       "    .dataframe tbody tr th:only-of-type {\n",
       "        vertical-align: middle;\n",
       "    }\n",
       "\n",
       "    .dataframe tbody tr th {\n",
       "        vertical-align: top;\n",
       "    }\n",
       "\n",
       "    .dataframe thead th {\n",
       "        text-align: right;\n",
       "    }\n",
       "</style>\n",
       "<table border=\"1\" class=\"dataframe\">\n",
       "  <thead>\n",
       "    <tr style=\"text-align: right;\">\n",
       "      <th></th>\n",
       "      <th>Time</th>\n",
       "      <th>V1</th>\n",
       "      <th>V2</th>\n",
       "      <th>V3</th>\n",
       "      <th>V4</th>\n",
       "      <th>V5</th>\n",
       "      <th>V6</th>\n",
       "      <th>V7</th>\n",
       "      <th>V8</th>\n",
       "      <th>V9</th>\n",
       "      <th>...</th>\n",
       "      <th>V21</th>\n",
       "      <th>V22</th>\n",
       "      <th>V23</th>\n",
       "      <th>V24</th>\n",
       "      <th>V25</th>\n",
       "      <th>V26</th>\n",
       "      <th>V27</th>\n",
       "      <th>V28</th>\n",
       "      <th>Amount</th>\n",
       "      <th>Class</th>\n",
       "    </tr>\n",
       "  </thead>\n",
       "  <tbody>\n",
       "    <tr>\n",
       "      <th>0</th>\n",
       "      <td>0.0</td>\n",
       "      <td>-1.359807</td>\n",
       "      <td>-0.072781</td>\n",
       "      <td>2.536347</td>\n",
       "      <td>1.378155</td>\n",
       "      <td>-0.338321</td>\n",
       "      <td>0.462388</td>\n",
       "      <td>0.239599</td>\n",
       "      <td>0.098698</td>\n",
       "      <td>0.363787</td>\n",
       "      <td>...</td>\n",
       "      <td>-0.018307</td>\n",
       "      <td>0.277838</td>\n",
       "      <td>-0.110474</td>\n",
       "      <td>0.066928</td>\n",
       "      <td>0.128539</td>\n",
       "      <td>-0.189115</td>\n",
       "      <td>0.133558</td>\n",
       "      <td>-0.021053</td>\n",
       "      <td>149.62</td>\n",
       "      <td>0</td>\n",
       "    </tr>\n",
       "    <tr>\n",
       "      <th>1</th>\n",
       "      <td>0.0</td>\n",
       "      <td>1.191857</td>\n",
       "      <td>0.266151</td>\n",
       "      <td>0.166480</td>\n",
       "      <td>0.448154</td>\n",
       "      <td>0.060018</td>\n",
       "      <td>-0.082361</td>\n",
       "      <td>-0.078803</td>\n",
       "      <td>0.085102</td>\n",
       "      <td>-0.255425</td>\n",
       "      <td>...</td>\n",
       "      <td>-0.225775</td>\n",
       "      <td>-0.638672</td>\n",
       "      <td>0.101288</td>\n",
       "      <td>-0.339846</td>\n",
       "      <td>0.167170</td>\n",
       "      <td>0.125895</td>\n",
       "      <td>-0.008983</td>\n",
       "      <td>0.014724</td>\n",
       "      <td>2.69</td>\n",
       "      <td>0</td>\n",
       "    </tr>\n",
       "    <tr>\n",
       "      <th>2</th>\n",
       "      <td>1.0</td>\n",
       "      <td>-1.358354</td>\n",
       "      <td>-1.340163</td>\n",
       "      <td>1.773209</td>\n",
       "      <td>0.379780</td>\n",
       "      <td>-0.503198</td>\n",
       "      <td>1.800499</td>\n",
       "      <td>0.791461</td>\n",
       "      <td>0.247676</td>\n",
       "      <td>-1.514654</td>\n",
       "      <td>...</td>\n",
       "      <td>0.247998</td>\n",
       "      <td>0.771679</td>\n",
       "      <td>0.909412</td>\n",
       "      <td>-0.689281</td>\n",
       "      <td>-0.327642</td>\n",
       "      <td>-0.139097</td>\n",
       "      <td>-0.055353</td>\n",
       "      <td>-0.059752</td>\n",
       "      <td>378.66</td>\n",
       "      <td>0</td>\n",
       "    </tr>\n",
       "  </tbody>\n",
       "</table>\n",
       "<p>3 rows × 31 columns</p>\n",
       "</div>"
      ],
      "text/plain": [
       "   Time        V1        V2        V3        V4        V5        V6        V7  \\\n",
       "0   0.0 -1.359807 -0.072781  2.536347  1.378155 -0.338321  0.462388  0.239599   \n",
       "1   0.0  1.191857  0.266151  0.166480  0.448154  0.060018 -0.082361 -0.078803   \n",
       "2   1.0 -1.358354 -1.340163  1.773209  0.379780 -0.503198  1.800499  0.791461   \n",
       "\n",
       "         V8        V9  ...       V21       V22       V23       V24       V25  \\\n",
       "0  0.098698  0.363787  ... -0.018307  0.277838 -0.110474  0.066928  0.128539   \n",
       "1  0.085102 -0.255425  ... -0.225775 -0.638672  0.101288 -0.339846  0.167170   \n",
       "2  0.247676 -1.514654  ...  0.247998  0.771679  0.909412 -0.689281 -0.327642   \n",
       "\n",
       "        V26       V27       V28  Amount  Class  \n",
       "0 -0.189115  0.133558 -0.021053  149.62      0  \n",
       "1  0.125895 -0.008983  0.014724    2.69      0  \n",
       "2 -0.139097 -0.055353 -0.059752  378.66      0  \n",
       "\n",
       "[3 rows x 31 columns]"
      ]
     },
     "execution_count": 2,
     "metadata": {},
     "output_type": "execute_result"
    }
   ],
   "source": [
    "## Loading the dataset\n",
    "df = pd.read_csv(\"C:/Users/Akoua Orsot/Desktop/ds_projects_data/creditcard.csv\")\n",
    "df.head(3)"
   ]
  },
  {
   "cell_type": "markdown",
   "id": "67df663c-512d-41a1-bf1f-7e9451aa2929",
   "metadata": {},
   "source": [
    "# 2. Initial Diagnostics"
   ]
  },
  {
   "cell_type": "code",
   "execution_count": 3,
   "id": "152f6618-e4a3-4fee-90fd-1c152d7c70c6",
   "metadata": {},
   "outputs": [
    {
     "name": "stdout",
     "output_type": "stream",
     "text": [
      "<class 'pandas.core.frame.DataFrame'>\n",
      "RangeIndex: 284807 entries, 0 to 284806\n",
      "Data columns (total 31 columns):\n",
      " #   Column  Non-Null Count   Dtype  \n",
      "---  ------  --------------   -----  \n",
      " 0   Time    284807 non-null  float64\n",
      " 1   V1      284807 non-null  float64\n",
      " 2   V2      284807 non-null  float64\n",
      " 3   V3      284807 non-null  float64\n",
      " 4   V4      284807 non-null  float64\n",
      " 5   V5      284807 non-null  float64\n",
      " 6   V6      284807 non-null  float64\n",
      " 7   V7      284807 non-null  float64\n",
      " 8   V8      284807 non-null  float64\n",
      " 9   V9      284807 non-null  float64\n",
      " 10  V10     284807 non-null  float64\n",
      " 11  V11     284807 non-null  float64\n",
      " 12  V12     284807 non-null  float64\n",
      " 13  V13     284807 non-null  float64\n",
      " 14  V14     284807 non-null  float64\n",
      " 15  V15     284807 non-null  float64\n",
      " 16  V16     284807 non-null  float64\n",
      " 17  V17     284807 non-null  float64\n",
      " 18  V18     284807 non-null  float64\n",
      " 19  V19     284807 non-null  float64\n",
      " 20  V20     284807 non-null  float64\n",
      " 21  V21     284807 non-null  float64\n",
      " 22  V22     284807 non-null  float64\n",
      " 23  V23     284807 non-null  float64\n",
      " 24  V24     284807 non-null  float64\n",
      " 25  V25     284807 non-null  float64\n",
      " 26  V26     284807 non-null  float64\n",
      " 27  V27     284807 non-null  float64\n",
      " 28  V28     284807 non-null  float64\n",
      " 29  Amount  284807 non-null  float64\n",
      " 30  Class   284807 non-null  int64  \n",
      "dtypes: float64(30), int64(1)\n",
      "memory usage: 67.4 MB\n"
     ]
    }
   ],
   "source": [
    "## Glimpse of the data\n",
    "df.info()"
   ]
  },
  {
   "cell_type": "code",
   "execution_count": 4,
   "id": "296bd433-a286-4c60-b2ca-e7fd25b95377",
   "metadata": {},
   "outputs": [
    {
     "data": {
      "text/html": [
       "<div>\n",
       "<style scoped>\n",
       "    .dataframe tbody tr th:only-of-type {\n",
       "        vertical-align: middle;\n",
       "    }\n",
       "\n",
       "    .dataframe tbody tr th {\n",
       "        vertical-align: top;\n",
       "    }\n",
       "\n",
       "    .dataframe thead th {\n",
       "        text-align: right;\n",
       "    }\n",
       "</style>\n",
       "<table border=\"1\" class=\"dataframe\">\n",
       "  <thead>\n",
       "    <tr style=\"text-align: right;\">\n",
       "      <th></th>\n",
       "      <th>Time</th>\n",
       "      <th>V1</th>\n",
       "      <th>V2</th>\n",
       "      <th>V3</th>\n",
       "      <th>V4</th>\n",
       "      <th>V5</th>\n",
       "      <th>V6</th>\n",
       "      <th>V7</th>\n",
       "      <th>V8</th>\n",
       "      <th>V9</th>\n",
       "      <th>...</th>\n",
       "      <th>V21</th>\n",
       "      <th>V22</th>\n",
       "      <th>V23</th>\n",
       "      <th>V24</th>\n",
       "      <th>V25</th>\n",
       "      <th>V26</th>\n",
       "      <th>V27</th>\n",
       "      <th>V28</th>\n",
       "      <th>Amount</th>\n",
       "      <th>Class</th>\n",
       "    </tr>\n",
       "  </thead>\n",
       "  <tbody>\n",
       "    <tr>\n",
       "      <th>count</th>\n",
       "      <td>284807.000000</td>\n",
       "      <td>2.848070e+05</td>\n",
       "      <td>2.848070e+05</td>\n",
       "      <td>2.848070e+05</td>\n",
       "      <td>2.848070e+05</td>\n",
       "      <td>2.848070e+05</td>\n",
       "      <td>2.848070e+05</td>\n",
       "      <td>2.848070e+05</td>\n",
       "      <td>2.848070e+05</td>\n",
       "      <td>2.848070e+05</td>\n",
       "      <td>...</td>\n",
       "      <td>2.848070e+05</td>\n",
       "      <td>2.848070e+05</td>\n",
       "      <td>2.848070e+05</td>\n",
       "      <td>2.848070e+05</td>\n",
       "      <td>2.848070e+05</td>\n",
       "      <td>2.848070e+05</td>\n",
       "      <td>2.848070e+05</td>\n",
       "      <td>2.848070e+05</td>\n",
       "      <td>284807.000000</td>\n",
       "      <td>284807.000000</td>\n",
       "    </tr>\n",
       "    <tr>\n",
       "      <th>mean</th>\n",
       "      <td>94813.859575</td>\n",
       "      <td>3.918649e-15</td>\n",
       "      <td>5.682686e-16</td>\n",
       "      <td>-8.761736e-15</td>\n",
       "      <td>2.811118e-15</td>\n",
       "      <td>-1.552103e-15</td>\n",
       "      <td>2.040130e-15</td>\n",
       "      <td>-1.698953e-15</td>\n",
       "      <td>-1.893285e-16</td>\n",
       "      <td>-3.147640e-15</td>\n",
       "      <td>...</td>\n",
       "      <td>1.473120e-16</td>\n",
       "      <td>8.042109e-16</td>\n",
       "      <td>5.282512e-16</td>\n",
       "      <td>4.456271e-15</td>\n",
       "      <td>1.426896e-15</td>\n",
       "      <td>1.701640e-15</td>\n",
       "      <td>-3.662252e-16</td>\n",
       "      <td>-1.217809e-16</td>\n",
       "      <td>88.349619</td>\n",
       "      <td>0.001727</td>\n",
       "    </tr>\n",
       "    <tr>\n",
       "      <th>std</th>\n",
       "      <td>47488.145955</td>\n",
       "      <td>1.958696e+00</td>\n",
       "      <td>1.651309e+00</td>\n",
       "      <td>1.516255e+00</td>\n",
       "      <td>1.415869e+00</td>\n",
       "      <td>1.380247e+00</td>\n",
       "      <td>1.332271e+00</td>\n",
       "      <td>1.237094e+00</td>\n",
       "      <td>1.194353e+00</td>\n",
       "      <td>1.098632e+00</td>\n",
       "      <td>...</td>\n",
       "      <td>7.345240e-01</td>\n",
       "      <td>7.257016e-01</td>\n",
       "      <td>6.244603e-01</td>\n",
       "      <td>6.056471e-01</td>\n",
       "      <td>5.212781e-01</td>\n",
       "      <td>4.822270e-01</td>\n",
       "      <td>4.036325e-01</td>\n",
       "      <td>3.300833e-01</td>\n",
       "      <td>250.120109</td>\n",
       "      <td>0.041527</td>\n",
       "    </tr>\n",
       "    <tr>\n",
       "      <th>min</th>\n",
       "      <td>0.000000</td>\n",
       "      <td>-5.640751e+01</td>\n",
       "      <td>-7.271573e+01</td>\n",
       "      <td>-4.832559e+01</td>\n",
       "      <td>-5.683171e+00</td>\n",
       "      <td>-1.137433e+02</td>\n",
       "      <td>-2.616051e+01</td>\n",
       "      <td>-4.355724e+01</td>\n",
       "      <td>-7.321672e+01</td>\n",
       "      <td>-1.343407e+01</td>\n",
       "      <td>...</td>\n",
       "      <td>-3.483038e+01</td>\n",
       "      <td>-1.093314e+01</td>\n",
       "      <td>-4.480774e+01</td>\n",
       "      <td>-2.836627e+00</td>\n",
       "      <td>-1.029540e+01</td>\n",
       "      <td>-2.604551e+00</td>\n",
       "      <td>-2.256568e+01</td>\n",
       "      <td>-1.543008e+01</td>\n",
       "      <td>0.000000</td>\n",
       "      <td>0.000000</td>\n",
       "    </tr>\n",
       "    <tr>\n",
       "      <th>25%</th>\n",
       "      <td>54201.500000</td>\n",
       "      <td>-9.203734e-01</td>\n",
       "      <td>-5.985499e-01</td>\n",
       "      <td>-8.903648e-01</td>\n",
       "      <td>-8.486401e-01</td>\n",
       "      <td>-6.915971e-01</td>\n",
       "      <td>-7.682956e-01</td>\n",
       "      <td>-5.540759e-01</td>\n",
       "      <td>-2.086297e-01</td>\n",
       "      <td>-6.430976e-01</td>\n",
       "      <td>...</td>\n",
       "      <td>-2.283949e-01</td>\n",
       "      <td>-5.423504e-01</td>\n",
       "      <td>-1.618463e-01</td>\n",
       "      <td>-3.545861e-01</td>\n",
       "      <td>-3.171451e-01</td>\n",
       "      <td>-3.269839e-01</td>\n",
       "      <td>-7.083953e-02</td>\n",
       "      <td>-5.295979e-02</td>\n",
       "      <td>5.600000</td>\n",
       "      <td>0.000000</td>\n",
       "    </tr>\n",
       "    <tr>\n",
       "      <th>50%</th>\n",
       "      <td>84692.000000</td>\n",
       "      <td>1.810880e-02</td>\n",
       "      <td>6.548556e-02</td>\n",
       "      <td>1.798463e-01</td>\n",
       "      <td>-1.984653e-02</td>\n",
       "      <td>-5.433583e-02</td>\n",
       "      <td>-2.741871e-01</td>\n",
       "      <td>4.010308e-02</td>\n",
       "      <td>2.235804e-02</td>\n",
       "      <td>-5.142873e-02</td>\n",
       "      <td>...</td>\n",
       "      <td>-2.945017e-02</td>\n",
       "      <td>6.781943e-03</td>\n",
       "      <td>-1.119293e-02</td>\n",
       "      <td>4.097606e-02</td>\n",
       "      <td>1.659350e-02</td>\n",
       "      <td>-5.213911e-02</td>\n",
       "      <td>1.342146e-03</td>\n",
       "      <td>1.124383e-02</td>\n",
       "      <td>22.000000</td>\n",
       "      <td>0.000000</td>\n",
       "    </tr>\n",
       "    <tr>\n",
       "      <th>75%</th>\n",
       "      <td>139320.500000</td>\n",
       "      <td>1.315642e+00</td>\n",
       "      <td>8.037239e-01</td>\n",
       "      <td>1.027196e+00</td>\n",
       "      <td>7.433413e-01</td>\n",
       "      <td>6.119264e-01</td>\n",
       "      <td>3.985649e-01</td>\n",
       "      <td>5.704361e-01</td>\n",
       "      <td>3.273459e-01</td>\n",
       "      <td>5.971390e-01</td>\n",
       "      <td>...</td>\n",
       "      <td>1.863772e-01</td>\n",
       "      <td>5.285536e-01</td>\n",
       "      <td>1.476421e-01</td>\n",
       "      <td>4.395266e-01</td>\n",
       "      <td>3.507156e-01</td>\n",
       "      <td>2.409522e-01</td>\n",
       "      <td>9.104512e-02</td>\n",
       "      <td>7.827995e-02</td>\n",
       "      <td>77.165000</td>\n",
       "      <td>0.000000</td>\n",
       "    </tr>\n",
       "    <tr>\n",
       "      <th>max</th>\n",
       "      <td>172792.000000</td>\n",
       "      <td>2.454930e+00</td>\n",
       "      <td>2.205773e+01</td>\n",
       "      <td>9.382558e+00</td>\n",
       "      <td>1.687534e+01</td>\n",
       "      <td>3.480167e+01</td>\n",
       "      <td>7.330163e+01</td>\n",
       "      <td>1.205895e+02</td>\n",
       "      <td>2.000721e+01</td>\n",
       "      <td>1.559499e+01</td>\n",
       "      <td>...</td>\n",
       "      <td>2.720284e+01</td>\n",
       "      <td>1.050309e+01</td>\n",
       "      <td>2.252841e+01</td>\n",
       "      <td>4.584549e+00</td>\n",
       "      <td>7.519589e+00</td>\n",
       "      <td>3.517346e+00</td>\n",
       "      <td>3.161220e+01</td>\n",
       "      <td>3.384781e+01</td>\n",
       "      <td>25691.160000</td>\n",
       "      <td>1.000000</td>\n",
       "    </tr>\n",
       "  </tbody>\n",
       "</table>\n",
       "<p>8 rows × 31 columns</p>\n",
       "</div>"
      ],
      "text/plain": [
       "                Time            V1            V2            V3            V4  \\\n",
       "count  284807.000000  2.848070e+05  2.848070e+05  2.848070e+05  2.848070e+05   \n",
       "mean    94813.859575  3.918649e-15  5.682686e-16 -8.761736e-15  2.811118e-15   \n",
       "std     47488.145955  1.958696e+00  1.651309e+00  1.516255e+00  1.415869e+00   \n",
       "min         0.000000 -5.640751e+01 -7.271573e+01 -4.832559e+01 -5.683171e+00   \n",
       "25%     54201.500000 -9.203734e-01 -5.985499e-01 -8.903648e-01 -8.486401e-01   \n",
       "50%     84692.000000  1.810880e-02  6.548556e-02  1.798463e-01 -1.984653e-02   \n",
       "75%    139320.500000  1.315642e+00  8.037239e-01  1.027196e+00  7.433413e-01   \n",
       "max    172792.000000  2.454930e+00  2.205773e+01  9.382558e+00  1.687534e+01   \n",
       "\n",
       "                 V5            V6            V7            V8            V9  \\\n",
       "count  2.848070e+05  2.848070e+05  2.848070e+05  2.848070e+05  2.848070e+05   \n",
       "mean  -1.552103e-15  2.040130e-15 -1.698953e-15 -1.893285e-16 -3.147640e-15   \n",
       "std    1.380247e+00  1.332271e+00  1.237094e+00  1.194353e+00  1.098632e+00   \n",
       "min   -1.137433e+02 -2.616051e+01 -4.355724e+01 -7.321672e+01 -1.343407e+01   \n",
       "25%   -6.915971e-01 -7.682956e-01 -5.540759e-01 -2.086297e-01 -6.430976e-01   \n",
       "50%   -5.433583e-02 -2.741871e-01  4.010308e-02  2.235804e-02 -5.142873e-02   \n",
       "75%    6.119264e-01  3.985649e-01  5.704361e-01  3.273459e-01  5.971390e-01   \n",
       "max    3.480167e+01  7.330163e+01  1.205895e+02  2.000721e+01  1.559499e+01   \n",
       "\n",
       "       ...           V21           V22           V23           V24  \\\n",
       "count  ...  2.848070e+05  2.848070e+05  2.848070e+05  2.848070e+05   \n",
       "mean   ...  1.473120e-16  8.042109e-16  5.282512e-16  4.456271e-15   \n",
       "std    ...  7.345240e-01  7.257016e-01  6.244603e-01  6.056471e-01   \n",
       "min    ... -3.483038e+01 -1.093314e+01 -4.480774e+01 -2.836627e+00   \n",
       "25%    ... -2.283949e-01 -5.423504e-01 -1.618463e-01 -3.545861e-01   \n",
       "50%    ... -2.945017e-02  6.781943e-03 -1.119293e-02  4.097606e-02   \n",
       "75%    ...  1.863772e-01  5.285536e-01  1.476421e-01  4.395266e-01   \n",
       "max    ...  2.720284e+01  1.050309e+01  2.252841e+01  4.584549e+00   \n",
       "\n",
       "                V25           V26           V27           V28         Amount  \\\n",
       "count  2.848070e+05  2.848070e+05  2.848070e+05  2.848070e+05  284807.000000   \n",
       "mean   1.426896e-15  1.701640e-15 -3.662252e-16 -1.217809e-16      88.349619   \n",
       "std    5.212781e-01  4.822270e-01  4.036325e-01  3.300833e-01     250.120109   \n",
       "min   -1.029540e+01 -2.604551e+00 -2.256568e+01 -1.543008e+01       0.000000   \n",
       "25%   -3.171451e-01 -3.269839e-01 -7.083953e-02 -5.295979e-02       5.600000   \n",
       "50%    1.659350e-02 -5.213911e-02  1.342146e-03  1.124383e-02      22.000000   \n",
       "75%    3.507156e-01  2.409522e-01  9.104512e-02  7.827995e-02      77.165000   \n",
       "max    7.519589e+00  3.517346e+00  3.161220e+01  3.384781e+01   25691.160000   \n",
       "\n",
       "               Class  \n",
       "count  284807.000000  \n",
       "mean        0.001727  \n",
       "std         0.041527  \n",
       "min         0.000000  \n",
       "25%         0.000000  \n",
       "50%         0.000000  \n",
       "75%         0.000000  \n",
       "max         1.000000  \n",
       "\n",
       "[8 rows x 31 columns]"
      ]
     },
     "execution_count": 4,
     "metadata": {},
     "output_type": "execute_result"
    }
   ],
   "source": [
    "## Descriptive Statistics\n",
    "df.describe()"
   ]
  },
  {
   "cell_type": "markdown",
   "id": "4596381b-3d04-4754-8294-1d97e5fd6d30",
   "metadata": {},
   "source": [
    "**Note:** The following percentage breakdown confirms the note in the project description; indeed, we have a considerable class imbalance with the target variable. It stays consistent that most fraudulent activities are much less frequent than non-fraudulent. Before proceeding, we shall note it to avoid any overfitting issues when fitting the machine learning models."
   ]
  },
  {
   "cell_type": "code",
   "execution_count": 5,
   "id": "e0d46791-8835-4aaa-b32d-5c6ed8739124",
   "metadata": {},
   "outputs": [
    {
     "data": {
      "text/plain": [
       "0    0.998273\n",
       "1    0.001727\n",
       "Name: Class, dtype: float64"
      ]
     },
     "execution_count": 5,
     "metadata": {},
     "output_type": "execute_result"
    }
   ],
   "source": [
    "## Target Variable Analysis\n",
    "df['Class'].value_counts(normalize=True)"
   ]
  },
  {
   "cell_type": "markdown",
   "id": "07327844-aca0-4e90-a642-e62a4fc0a356",
   "metadata": {
    "tags": []
   },
   "source": [
    "**Note:** We did not have any information on the numerical predictors for privacy, given their transformation and standardization, excluding Amount & Time. In that regard, Amount presented itself as potentially most informative for the feature variable analysis. To better understand the variable's distribution, we had to transform it using a log scale."
   ]
  },
  {
   "cell_type": "code",
   "execution_count": 6,
   "id": "4d38ea8f-2165-4613-8e92-8f06a40509f9",
   "metadata": {},
   "outputs": [
    {
     "name": "stdout",
     "output_type": "stream",
     "text": [
      "count    284807.000000\n",
      "mean         88.349619\n",
      "std         250.120109\n",
      "min           0.000000\n",
      "25%           5.600000\n",
      "50%          22.000000\n",
      "75%          77.165000\n",
      "max       25691.160000\n",
      "Name: Amount, dtype: float64\n"
     ]
    },
    {
     "data": {
      "image/png": "[encoded data removed]",
      "text/plain": [
       "<Figure size 864x576 with 1 Axes>"
      ]
     },
     "metadata": {},
     "output_type": "display_data"
    }
   ],
   "source": [
    "## Feature Variable Analysis\n",
    "\n",
    "# Basic statistics\n",
    "print(df['Amount'].describe())\n",
    "\n",
    "# Distribution\n",
    "sns.histplot(data=df, x='Amount').set(xscale=\"log\")\n",
    "plt.xlabel(\"Dollar Amount (Log Scale)\")\n",
    "plt.ylabel(\"Frequency (Count)\")\n",
    "plt.title(\"Distribution of Transaction Amount (log scaled)\")\n",
    "plt.show()"
   ]
  },
  {
   "cell_type": "markdown",
   "id": "c67b3cd9-f5c0-48cb-b33a-1ac2f9a0a98b",
   "metadata": {},
   "source": [
    "# 3. Data Cleaning"
   ]
  },
  {
   "cell_type": "code",
   "execution_count": 45,
   "id": "c221868e-ae1b-4b7d-908d-8cc97e2118ce",
   "metadata": {},
   "outputs": [
    {
     "name": "stdout",
     "output_type": "stream",
     "text": [
      "There are  0 null/na values in the dataset\n"
     ]
    },
    {
     "data": {
      "image/png": "[encoded data removed]",
      "text/plain": [
       "<Figure size 720x432 with 2 Axes>"
      ]
     },
     "metadata": {},
     "output_type": "display_data"
    }
   ],
   "source": [
    "## Missing Values\n",
    "print(\"There are %2d null/na values in the dataset\" % df.isna().sum().sum())\n",
    "plt.figure(figsize=(10,6))\n",
    "sns.heatmap(df.isna().transpose(),\n",
    "            cmap=\"YlGnBu\",\n",
    "            cbar_kws={'label': 'Missing Data'})\n",
    "plt.xlabel(\"Features\")\n",
    "plt.ylabel(\"Observations\")\n",
    "plt.show()"
   ]
  },
  {
   "cell_type": "markdown",
   "id": "300eb678-207c-49bd-80f2-b7b258d7af85",
   "metadata": {},
   "source": [
    "**Takeaway:** As the plot shows above, we have no missing values given the pre-processing done prior."
   ]
  },
  {
   "cell_type": "markdown",
   "id": "a62c2534-27f4-4d81-b740-7abbea044372",
   "metadata": {},
   "source": [
    "**Note**:\n",
    "With most predictors transformed, there will be little chance for any outliers in the data points for V1, V2, ..., V28. So, we will only examine Amount as the only meaningful numeric feature."
   ]
  },
  {
   "cell_type": "code",
   "execution_count": 8,
   "id": "9ed68ef1-5ac1-42ee-810d-dd5cf28c0a55",
   "metadata": {},
   "outputs": [
    {
     "data": {
      "image/png": "[encoded data removed]",
      "text/plain": [
       "<Figure size 864x576 with 1 Axes>"
      ]
     },
     "metadata": {},
     "output_type": "display_data"
    }
   ],
   "source": [
    "## Outliers\n",
    "sns.boxplot(data=df, x='Amount')\n",
    "plt.show()"
   ]
  },
  {
   "cell_type": "markdown",
   "id": "e081ca8f-d1bc-4eec-94e9-a7128670eb00",
   "metadata": {},
   "source": [
    "**Takeaway:** From the boxplot below, we can observe a non-negligible number of outliers on the upper end of the distribution. It would denote transactions with high amounts in the order of thousands of dollars. We would assess the effect of this skewed distribution when building the predictive models in terms of feature transformation or selecting models robust to such feature types."
   ]
  },
  {
   "cell_type": "code",
   "execution_count": 9,
   "id": "b2d1c4ab-3434-4884-84b7-d15b695c19ee",
   "metadata": {},
   "outputs": [
    {
     "data": {
      "text/plain": [
       "False    283726\n",
       "True       1081\n",
       "dtype: int64"
      ]
     },
     "execution_count": 9,
     "metadata": {},
     "output_type": "execute_result"
    }
   ],
   "source": [
    "## Duplicate Observations\n",
    "\n",
    "# No. of duplicate rows\n",
    "df.duplicated().value_counts()"
   ]
  },
  {
   "cell_type": "markdown",
   "id": "21c0600f-9a77-411d-aebc-024c31cfdf0e",
   "metadata": {},
   "source": [
    "**Takeaway:** A quick check reveals 1081 duplicate rows, so we proceed in removing them from the dataset."
   ]
  },
  {
   "cell_type": "code",
   "execution_count": 10,
   "id": "384690a0-bf00-4af2-be2d-8806ca0f0e0e",
   "metadata": {},
   "outputs": [],
   "source": [
    "# Remove all of them\n",
    "df.drop_duplicates(keep='first', inplace=True)"
   ]
  },
  {
   "cell_type": "markdown",
   "id": "bb340e86-c7c3-4191-827a-ce4fa2025fab",
   "metadata": {},
   "source": [
    "# 4. Correlation Analysis"
   ]
  },
  {
   "cell_type": "code",
   "execution_count": 11,
   "id": "b6f9ad3f-25f3-4cfd-950f-ee051558716c",
   "metadata": {},
   "outputs": [
    {
     "data": {
      "image/png": "[encoded data removed]",
      "text/plain": [
       "<Figure size 1368x1080 with 2 Axes>"
      ]
     },
     "metadata": {},
     "output_type": "display_data"
    }
   ],
   "source": [
    "# Correlation Matrix\n",
    "f = plt.figure(figsize=(19, 15))\n",
    "matrix = df.corr().round(2)\n",
    "mask = np.triu(np.ones_like(matrix, dtype=bool))\n",
    "sns.heatmap(matrix, annot=True, vmax=1, vmin=-1, \n",
    "            center=0, cmap='vlag', mask=mask)\n",
    "plt.show()"
   ]
  },
  {
   "cell_type": "markdown",
   "id": "6fbf678c-c569-466c-bca1-a38a8dd61913",
   "metadata": {},
   "source": [
    "**Takeaway:** From the correlation matrix plotted, we can observe very few correlated variables as we would expect after the feature transformation. The two meaningful features, are Time and Amount, have some relative correlation with some variables with coefficients approximating 0.4. With such low values, it would be pretty challenging to imply a correlation between any of them with any certainty. It also indicates that there would be a very low incidence of any colinearity within our data"
   ]
  },
  {
   "cell_type": "markdown",
   "id": "fbda20a2-19c8-47e9-8c0a-419f6f2c3be2",
   "metadata": {},
   "source": [
    "**Note:**  The code below filters those pairs with correlation coefficients above 0.2 as a threshold. As noted above, those values give very little to no confidence in any solid correlated relationship between variables as none even cross the 0.5 mark."
   ]
  },
  {
   "cell_type": "code",
   "execution_count": 12,
   "id": "64099b8f-ee50-45c5-8dda-334a2ee94229",
   "metadata": {},
   "outputs": [
    {
     "name": "stdout",
     "output_type": "stream",
     "text": [
      "Time    Time      1.000000\n",
      "        V3       -0.422054\n",
      "        V11      -0.248536\n",
      "        V25      -0.233262\n",
      "V1      V1        1.000000\n",
      "        Amount   -0.230105\n",
      "V2      V2        1.000000\n",
      "        Amount   -0.533428\n",
      "V3      Time     -0.422054\n",
      "        V3        1.000000\n",
      "        Amount   -0.212410\n",
      "V4      V4        1.000000\n",
      "V5      V5        1.000000\n",
      "        Amount   -0.387685\n",
      "V6      V6        1.000000\n",
      "        Amount    0.216389\n",
      "V7      V7        1.000000\n",
      "        Amount    0.400408\n",
      "V8      V8        1.000000\n",
      "V9      V9        1.000000\n",
      "V10     V10       1.000000\n",
      "        Class    -0.206971\n",
      "V11     Time     -0.248536\n",
      "        V11       1.000000\n",
      "V12     V12       1.000000\n",
      "        Class    -0.250711\n",
      "V13     V13       1.000000\n",
      "V14     V14       1.000000\n",
      "        Class    -0.293375\n",
      "V15     V15       1.000000\n",
      "V16     V16       1.000000\n",
      "V17     V17       1.000000\n",
      "        Class    -0.313498\n",
      "V18     V18       1.000000\n",
      "V19     V19       1.000000\n",
      "V20     V20       1.000000\n",
      "        Amount    0.340729\n",
      "V21     V21       1.000000\n",
      "V22     V22       1.000000\n",
      "V23     V23       1.000000\n",
      "V24     V24       1.000000\n",
      "V25     Time     -0.233262\n",
      "        V25       1.000000\n",
      "V26     V26       1.000000\n",
      "V27     V27       1.000000\n",
      "V28     V28       1.000000\n",
      "Amount  V1       -0.230105\n",
      "        V2       -0.533428\n",
      "        V3       -0.212410\n",
      "        V5       -0.387685\n",
      "        V6        0.216389\n",
      "        V7        0.400408\n",
      "        V20       0.340729\n",
      "        Amount    1.000000\n",
      "Class   V10      -0.206971\n",
      "        V12      -0.250711\n",
      "        V14      -0.293375\n",
      "        V17      -0.313498\n",
      "        Class     1.000000\n",
      "dtype: float64\n"
     ]
    }
   ],
   "source": [
    "# Strongest relationship: Filtering those with some signigicant correlation coefficients\n",
    "matrix = df.corr()\n",
    "matrix = matrix.unstack()\n",
    "matrix = matrix[abs(matrix) >= 0.2]\n",
    "\n",
    "print(matrix)"
   ]
  },
  {
   "cell_type": "markdown",
   "id": "b270c176-60e8-4230-ac83-ee011c1198a0",
   "metadata": {},
   "source": [
    "# 5. Inquiry Exploration"
   ]
  },
  {
   "cell_type": "markdown",
   "id": "140b42e5-e55c-4f50-8cca-e1ef9489dcb5",
   "metadata": {},
   "source": [
    "**Note:** In an attempt to answer the first question, we first split our dataset by class types; in other words, fraudulent and non-fraudulent transactions. We then plot the histogram side by side to observe any unusual behavior. In doing so, the non-fraud transactions were heavily right-skewed, making it quite challenging to compare the plots. To solve this issue, we used a logarithmic transformation, making it easier to see and thus, evaluate any similarities and differences."
   ]
  },
  {
   "cell_type": "code",
   "execution_count": 13,
   "id": "20e8f0e5-142d-4b0c-aae8-f2b69e90145e",
   "metadata": {},
   "outputs": [
    {
     "data": {
      "image/png": "[encoded data removed]",
      "text/plain": [
       "<Figure size 864x576 with 2 Axes>"
      ]
     },
     "metadata": {},
     "output_type": "display_data"
    }
   ],
   "source": [
    "# How does Amount's distribution behaves across classes?\n",
    "\n",
    "# Splitting data by fraud class\n",
    "df_no_fraud = df[df['Class'] == 0]\n",
    "df_fraud = df[df['Class'] == 1]\n",
    "\n",
    "# Histogram for Amount Distribution per class\n",
    "fig, (ax1, ax2) = plt.subplots(1, 2, figsize=(12, 8))\n",
    "fig.suptitle('Distribution of Transaction Amount across Class')\n",
    "sns.histplot(ax=ax1, data=df_no_fraud, x='Amount', stat='probability').set(xscale=\"log\")\n",
    "sns.histplot(ax=ax2, data=df_fraud, x='Amount', stat='probability').set(xscale=\"log\")\n",
    "plt.show()"
   ]
  },
  {
   "cell_type": "markdown",
   "id": "d608e66d-fd56-4c4f-8ff9-b9c2adc5a0c7",
   "metadata": {},
   "source": [
    "**Takeaway:** Before making a note on the plots, we will first explain how to interpret logarithmic scales. In short, log scales show relative values rather than absolute ones. Indeed, 2 minus 1 would be displayed similarly to 9999 minus 9998, given that we are dealing with percentages here. In context, the histograms below would depict the order of growth of transaction value. Both distributions represent a similar trajectory, with most transactions on the lower end of the graph. It stays consistent with the mean value found at USD88, even with max values averaging USD20,000."
   ]
  },
  {
   "cell_type": "markdown",
   "id": "56e3f5ab-8a45-4ccb-b282-25f150cedf22",
   "metadata": {},
   "source": [
    "**Note:**\n",
    "We will first create a scatterplot only with the fraud dataset extracted above for the second question."
   ]
  },
  {
   "cell_type": "code",
   "execution_count": 14,
   "id": "c4d269bc-4f48-4e93-8814-cddb86aa93c2",
   "metadata": {},
   "outputs": [
    {
     "data": {
      "image/png": "[encoded data removed]",
      "text/plain": [
       "<Figure size 864x576 with 1 Axes>"
      ]
     },
     "metadata": {},
     "output_type": "display_data"
    }
   ],
   "source": [
    "## Are there any noteworthy point in time where fraud occured?\n",
    "# Scatterplot\n",
    "sns.scatterplot(data=df_fraud, x='Time', y='Amount')\n",
    "plt.show()"
   ]
  },
  {
   "cell_type": "markdown",
   "id": "f38f7428-f303-4a80-b77e-4fbdbd42825c",
   "metadata": {},
   "source": [
    "**Takeaway:** The graph above does not appear that there is a clustering pattern on a time interval. So, we would assume that fraud occurred across time quite randomly. "
   ]
  },
  {
   "cell_type": "markdown",
   "id": "28490f50-2a94-42d7-a741-f4461982c465",
   "metadata": {},
   "source": [
    "# 6. Class Imbalance"
   ]
  },
  {
   "cell_type": "markdown",
   "id": "f29f0381-d2f3-452d-8dde-d5403b2b4556",
   "metadata": {},
   "source": [
    "**Note:** Our diagnostics observed a stark imbalance between classes of transactions, with fraud only making up 0.2% of all transaction statuses. Given the limited pool of examples to train, it poses an issue in terms of building an effective machine model to predict if there is a fraud. With the minority class being so small, we would expect poor performance on the critical task of detecting fraud transactions. In that vein, we will use different sampling methods (Undersampling & Oversampling) to tackle this problem."
   ]
  },
  {
   "cell_type": "code",
   "execution_count": 15,
   "id": "e868d2a0-df0c-42da-a767-dde76903398c",
   "metadata": {},
   "outputs": [],
   "source": [
    "# Splitting features & target variable\n",
    "X = df.drop(['Class'], axis=1)\n",
    "y = df['Class']"
   ]
  },
  {
   "cell_type": "markdown",
   "id": "c9920afc-49e6-41fd-b701-789ee9afd647",
   "metadata": {},
   "source": [
    "**Definition:** SMOTE (Synthetic Minority Oversampling Technique) is an oversampling approach to the minority class. In context, it would mean to randomly increase fraud examples by \"artificially\" replicating to have a more balanced class distribution. Further information [here](https://rikunert.com/smote_explained)."
   ]
  },
  {
   "cell_type": "code",
   "execution_count": 16,
   "id": "e75d077e-c6fc-42cf-beec-9c4400a65dfe",
   "metadata": {},
   "outputs": [
    {
     "name": "stdout",
     "output_type": "stream",
     "text": [
      "Shape of X before SMOTE: (283726, 30)\n",
      "Shape of X after SMOTE: (566506, 30)\n",
      "\n",
      "Balance of positive and negative classes (%):\n"
     ]
    },
    {
     "data": {
      "text/plain": [
       "0    50.0\n",
       "1    50.0\n",
       "Name: Class, dtype: float64"
      ]
     },
     "execution_count": 16,
     "metadata": {},
     "output_type": "execute_result"
    }
   ],
   "source": [
    "## SMOTE\n",
    "oversample = SMOTE()\n",
    "X_sm, y_sm = oversample.fit_resample(X, y)\n",
    "\n",
    "print(f'''Shape of X before SMOTE: {X.shape}\n",
    "Shape of X after SMOTE: {X_sm.shape}''')\n",
    "\n",
    "print('\\nBalance of positive and negative classes (%):')\n",
    "y_sm.value_counts(normalize=True) * 100"
   ]
  },
  {
   "cell_type": "markdown",
   "id": "212f54c0-069a-4689-8b04-7ebe5cb9bfd9",
   "metadata": {},
   "source": [
    "**Definition:** Near-Miss Algorithm is an undersampling approach on the majority class. In context, we select examples to keep out of the training set based on the distance of majority class examples to minority class examples. Further information [here](https://machinelearningmastery.com/undersampling-algorithms-for-imbalanced-classification/)."
   ]
  },
  {
   "cell_type": "code",
   "execution_count": 17,
   "id": "4d55544d-0048-4988-a07d-bf3bfbbe4cb2",
   "metadata": {},
   "outputs": [
    {
     "name": "stdout",
     "output_type": "stream",
     "text": [
      "Shape of X before NearMiss Algorithm: (283726, 30)\n",
      "Shape of X after NearMiss Algorithm: (946, 30)\n",
      "\n",
      "Balance of positive and negative classes (%):\n"
     ]
    },
    {
     "data": {
      "text/plain": [
       "0    50.0\n",
       "1    50.0\n",
       "Name: Class, dtype: float64"
      ]
     },
     "execution_count": 17,
     "metadata": {},
     "output_type": "execute_result"
    }
   ],
   "source": [
    "##Near Miss Algorithm\n",
    "nr = NearMiss()\n",
    "\n",
    "X_nmiss, y_nmiss = nr.fit_resample(X, y)\n",
    "\n",
    "print(f'''Shape of X before NearMiss Algorithm: {X.shape}\n",
    "Shape of X after NearMiss Algorithm: {X_nmiss.shape}''')\n",
    "\n",
    "print('\\nBalance of positive and negative classes (%):')\n",
    "y_nmiss.value_counts(normalize=True) * 100"
   ]
  },
  {
   "cell_type": "markdown",
   "id": "1a25cc36-3f5f-4467-862c-1fac85388727",
   "metadata": {},
   "source": [
    "**Note:** With the risk of overfitting with oversampling and the possibility to lose valuable information from undersampling, we will also consider combining both to rebalance the distribution. So, we shall proceed with the combination to offer curve out the risks we identified."
   ]
  },
  {
   "cell_type": "code",
   "execution_count": 18,
   "id": "844a174b-1520-4afc-befa-dec85d16f371",
   "metadata": {},
   "outputs": [
    {
     "name": "stdout",
     "output_type": "stream",
     "text": [
      "Shape of X before Combined Random Sampler: (283726, 30)\n",
      "Shape of X after Combined Random Sampler: (318658, 30)\n",
      "\n",
      "Balance of positive and negative classes (%):\n"
     ]
    },
    {
     "data": {
      "text/plain": [
       "0    55.555486\n",
       "1    44.444514\n",
       "Name: Class, dtype: float64"
      ]
     },
     "execution_count": 18,
     "metadata": {},
     "output_type": "execute_result"
    }
   ],
   "source": [
    "## Combined Random Sampler\n",
    "over = RandomOverSampler(sampling_strategy=0.5)\n",
    "under = RandomUnderSampler(sampling_strategy=0.8)\n",
    "\n",
    "# Oversampling minority class\n",
    "X_over, y_over = over.fit_resample(X, y)\n",
    "\n",
    "# Comine with under sampling \n",
    "X_combined_sampling, y_combined_sampling = under.fit_resample(X_over, y_over)\n",
    "print(f'''Shape of X before Combined Random Sampler: {X.shape}\n",
    "Shape of X after Combined Random Sampler: {X_combined_sampling.shape}''')\n",
    "\n",
    "print('\\nBalance of positive and negative classes (%):')\n",
    "y_combined_sampling.value_counts(normalize=True) * 100"
   ]
  },
  {
   "cell_type": "code",
   "execution_count": 49,
   "id": "4ce9e6f7-c5fa-41f6-aa77-8af4b3cc26ab",
   "metadata": {},
   "outputs": [],
   "source": [
    "# Defined the final features & target\n",
    "X_final, y_final = X_combined_sampling, y_combined_sampling"
   ]
  },
  {
   "cell_type": "markdown",
   "id": "e89f6bd4-c50c-4fb5-9541-b8011761d5ff",
   "metadata": {},
   "source": [
    "# 7. Machine Learning set-up\n",
    "\n",
    "Under this section, we will explain the procedure of two main splitting approach to estimate our models' performance. "
   ]
  },
  {
   "cell_type": "markdown",
   "id": "79522ffa-eb2a-4463-bb1f-c5cc4ef36415",
   "metadata": {},
   "source": [
    "**Definition:** Often denoted as the most popular by its simplicity, the train-test split is a sampling technique dividing the dataset between training and testing sets. In doing so, the goal would be to have enough (but not too much) in our training set used for the machine learning model to predict the observations in the testing set as accurately as possible. Most would opt for a 70/30 training-testing split, respectively, others 80/20, 60/40, or whichever else works best for the case scenario. Further information [here](https://machinelearningmastery.com/train-test-split-for-evaluating-machine-learning-algorithms/). "
   ]
  },
  {
   "cell_type": "code",
   "execution_count": 50,
   "id": "0775879e-a98a-49f8-8e45-e1015e51ab47",
   "metadata": {},
   "outputs": [
    {
     "data": {
      "text/plain": [
       "0.9114202983163333"
      ]
     },
     "execution_count": 50,
     "metadata": {},
     "output_type": "execute_result"
    }
   ],
   "source": [
    "## Training Testing Split\n",
    "X_train, X_test, y_train, y_test = train_test_split(X_final, y_final, \n",
    "                                                    test_size=0.3, \n",
    "                                                    random_state=42)\n",
    "\n",
    "clf = LogisticRegression()\n",
    "clf.fit(X_train, y_train)\n",
    "y_pred = clf.predict(X_test)\n",
    "skm.average_precision_score(y_test, y_pred)"
   ]
  },
  {
   "cell_type": "markdown",
   "id": "409df8cc-d33e-432b-898b-6d18c9722304",
   "metadata": {},
   "source": [
    "**Definition:** As the name would suggest, we will engage here in the process of validation to ensure reliability on our model. Cross-Validation is a statistical method applied in various ways to estimate the model's performance. Some examples are **Holdout Method, K-Fold, Stratified K-Fold, Leave-P-Out.**  Further information [here](https://machinelearningmastery.com/k-fold-cross-validation/) and [here](https://towardsdatascience.com/cross-validation-in-machine-learning-72924a69872f)."
   ]
  },
  {
   "cell_type": "markdown",
   "id": "f80ada3b-3ebf-442a-bea6-65d5bcbc3abc",
   "metadata": {},
   "source": [
    "**Note:** As we already tackled the issue of class imbalance with a combination of under- and over-sampling, we will use the K-Fold cross-validation"
   ]
  },
  {
   "cell_type": "code",
   "execution_count": 53,
   "id": "127288b1-406c-4c91-b345-411a5f62c251",
   "metadata": {},
   "outputs": [
    {
     "name": "stdout",
     "output_type": "stream",
     "text": [
      "Average Precision Score: 0.980 (0.002)\n"
     ]
    }
   ],
   "source": [
    "## Cross-Validation\n",
    "scores = cross_val_score(LogisticRegression(), X_final, y_final, \n",
    "                        cv=5, scoring='average_precision', \n",
    "                        n_jobs=-1, error_score=\"raise\")\n",
    "\n",
    "print('Average Precision Score: %.3f (%.3f)' % (np.mean(scores), \n",
    "                                                np.std(scores)))"
   ]
  },
  {
   "cell_type": "markdown",
   "id": "ffda6db6-d3a0-4879-a4bc-50507a7b77e4",
   "metadata": {},
   "source": [
    "# 8. Dimensionality Reduction\n",
    "\n",
    "This section will use dimensionality reduction to trim down the number of features we have. Dimensionality reduction encapsulates the techniques reducing the input variables in our training data. In doing so, we hope to have a more straightforward but effective machine learning model structure and avoid any potential case of overfitting. We will be testing three different methods from Linear Algebra: **PCA, SVD, and LDA** on a simple Logistic Regression model and pick the best performing."
   ]
  },
  {
   "cell_type": "code",
   "execution_count": 22,
   "id": "a8201dd7-e5e9-45dd-be18-c100ebc1a656",
   "metadata": {},
   "outputs": [],
   "source": []
  },
  {
   "cell_type": "markdown",
   "id": "843a3e16-0509-412c-b6ea-b20549925574",
   "metadata": {},
   "source": [
    "#### Note:\n",
    "PCA (Principal Component Analysis) takes data with m-columns to be projected to a subspace with n-features (n < m) while preserving the crucial information from the original data; in other words, PCA attempts in finding the **principal components (or features)** as its names denotes.  Further information [here](https://machinelearningmastery.com/calculate-principal-component-analysis-scratch-python/). "
   ]
  },
  {
   "cell_type": "code",
   "execution_count": 23,
   "id": "b186ef4b-68ea-4124-8344-eb6082c4605c",
   "metadata": {},
   "outputs": [],
   "source": [
    "dimred_steps = dict()"
   ]
  },
  {
   "cell_type": "code",
   "execution_count": 24,
   "id": "8328bdea-07af-47a5-b171-646ed6db52b6",
   "metadata": {},
   "outputs": [],
   "source": [
    "##Principal Component Analysis\n",
    "# Define the pipeline\n",
    "pca_steps = [('pca', PCA()), \n",
    "             ('m', LogisticRegression())]\n",
    "\n",
    "# Create & Evaluate model\n",
    "dimred_steps.update({'PCA': pca_steps})"
   ]
  },
  {
   "cell_type": "markdown",
   "id": "5b3f75aa-6fa1-478a-99e2-43222839ae8c",
   "metadata": {},
   "source": [
    "#### Note:\n",
    "SVD (Singular Value Decomposition) is a process which breaks down a matrix into its constituents elements by factorizing it into three seperate metrices: **M=UΣVᵗ**. \n",
    "* M: original matrix\n",
    "* U: left singular matrix (columns are left singular vectors) containing eigenvectors of matrix MMᵗ\n",
    "* Σ: a diagonal matrix containing singular (eigen)values\n",
    "* V: right singular matrix (columns are right singular vectors) containing  eigenvectors of matrix MᵗM.\n",
    "\n",
    "Further information [here](https://machinelearningmastery.com/singular-value-decomposition-for-machine-learning/). "
   ]
  },
  {
   "cell_type": "code",
   "execution_count": 25,
   "id": "9cac133c-2169-422c-a286-30c57ef36bd0",
   "metadata": {},
   "outputs": [],
   "source": [
    "##Singular Value Decomposition\n",
    "# Define the pipeline\n",
    "svd_steps = [('svd', TruncatedSVD()), \n",
    "             ('m', LogisticRegression())]\n",
    "\n",
    "# Create & Evaluate model\n",
    "dimred_steps.update({'SVD': svd_steps})"
   ]
  },
  {
   "cell_type": "markdown",
   "id": "9a7f73b2-28b2-4dfb-a37c-71d26bccddc3",
   "metadata": {},
   "source": [
    "#### Note:\n",
    "LDA (Linear Discriminant Analysis) seeks to seperate samples within the training set by class types by finding a linear combination of input variables. The LDA algorithms reposes matrix factorization; a core concept in Linear Algebra. Futher information [here](https://machinelearningmastery.com/linear-discriminant-analysis-for-dimensionality-reduction-in-python/). "
   ]
  },
  {
   "cell_type": "code",
   "execution_count": 26,
   "id": "e43a00e8-1014-41a1-b7a0-1825ae90f9ea",
   "metadata": {},
   "outputs": [],
   "source": [
    "##Linear Discriminant Analysis\n",
    "# Define the pipeline\n",
    "lda_steps = [('lda', LinearDiscriminantAnalysis()), \n",
    "             ('m', LogisticRegression())]\n",
    "\n",
    "dimred_steps.update({'LDA': lda_steps})"
   ]
  },
  {
   "cell_type": "code",
   "execution_count": 27,
   "id": "35b25dd8-6d80-4c60-bfad-d2353069ce1d",
   "metadata": {},
   "outputs": [
    {
     "data": {
      "text/plain": [
       "{'PCA': [('pca', PCA()), ('m', LogisticRegression())],\n",
       " 'SVD': [('svd', TruncatedSVD()), ('m', LogisticRegression())],\n",
       " 'LDA': [('lda', LinearDiscriminantAnalysis()), ('m', LogisticRegression())]}"
      ]
     },
     "execution_count": 27,
     "metadata": {},
     "output_type": "execute_result"
    }
   ],
   "source": [
    "dimred_steps"
   ]
  },
  {
   "cell_type": "markdown",
   "id": "a0b1cc03-6a0f-4de3-9c7e-accba9367c89",
   "metadata": {},
   "source": [
    "#### Takeaway:\n",
    "Though the LDA performed second best, we will opt to use it given that is more stable and focuses on maximizing the separability between the groups; quite important in our classification task."
   ]
  },
  {
   "cell_type": "code",
   "execution_count": 28,
   "id": "7f64a07f-311b-4f67-9dcc-672faac37bec",
   "metadata": {},
   "outputs": [
    {
     "name": "stdout",
     "output_type": "stream",
     "text": [
      "PCA - Average Precision Score: 0.981\n",
      "SVD - Average Precision Score: 0.539\n",
      "LDA - Average Precision Score: 0.975\n"
     ]
    }
   ],
   "source": [
    "cv = RepeatedStratifiedKFold(n_splits=3, n_repeats=1, random_state=32)\n",
    "for name, steps in dimred_steps.items():\n",
    "    model = Pipeline(steps=steps)\n",
    "    n_scores = cross_val_score(model, X_train, y_train, \n",
    "                               scoring='average_precision', cv=cv, \n",
    "                               n_jobs=-1)\n",
    "    # report performance\n",
    "    print(name+' - Average Precision Score: %.3f' % (np.mean(n_scores)))"
   ]
  },
  {
   "cell_type": "markdown",
   "id": "8fdb3544-5e5f-4f7c-9fbe-5799e573e69d",
   "metadata": {},
   "source": [
    "# 9. Machine Learning - Simple Models"
   ]
  },
  {
   "cell_type": "markdown",
   "id": "a2ba72ce-b8f6-4aa3-a105-65e3cbb2c238",
   "metadata": {},
   "source": [
    "#### Note:\n",
    "Under this section, we will leverage the powerful scikit-learn package to build multiple models with little to no parameter tuning for comparison. To avoid any data leakage, we will only use the cross-validation error on our training dataset."
   ]
  },
  {
   "cell_type": "code",
   "execution_count": 29,
   "id": "e8cb34d0-b5b1-42e1-bcef-2ab531d699e2",
   "metadata": {},
   "outputs": [],
   "source": [
    "# Dictionary to store model structures\n",
    "model_steps = dict()"
   ]
  },
  {
   "cell_type": "markdown",
   "id": "f782220c-6ff7-463f-8679-4cea7b69f143",
   "metadata": {},
   "source": [
    "#### Note:\n",
    "**Logistic Regression** is a predictive classifier that models a S-shapred curve (Sigmoid function) on the data to label the examples. Further information [here](https://machinelearningmastery.com/logistic-regression-for-machine-learning/)."
   ]
  },
  {
   "cell_type": "code",
   "execution_count": 30,
   "id": "f2a85541-ee19-4162-ad8c-6514302cb615",
   "metadata": {},
   "outputs": [],
   "source": [
    "## Logistic Regression\n",
    "logreg_steps = [('lda', LinearDiscriminantAnalysis()), \n",
    "                ('m', LogisticRegression())]\n",
    "model_steps.update({'Logistic Regression':logreg_steps})"
   ]
  },
  {
   "cell_type": "markdown",
   "id": "fd4d0bc2-038c-4af0-8099-87dee065b281",
   "metadata": {},
   "source": [
    "#### Note:\n",
    "**k-Nearest Neighbors** is a machine learning model built on Euclidean distance in categorizing the observations. Further information [here](https://towardsdatascience.com/machine-learning-basics-with-the-k-nearest-neighbors-algorithm-6a6e71d01761#:~:text=Summary-,The%20k%2Dnearest%20neighbors%20(KNN)%20algorithm%20is%20a%20simple,that%20data%20in%20use%20grows.)."
   ]
  },
  {
   "cell_type": "code",
   "execution_count": 31,
   "id": "f792d483-85b2-40cc-9650-554692541d0f",
   "metadata": {},
   "outputs": [],
   "source": [
    "## k-Nearest Neighbors\n",
    "knn_steps = [('lda', LinearDiscriminantAnalysis()),  \n",
    "             ('m', KNeighborsClassifier(n_neighbors=2))]\n",
    "model_steps.update({'k-Nearest Neighbors':knn_steps})"
   ]
  },
  {
   "cell_type": "markdown",
   "id": "4f86137d-0522-46b6-a006-932b5d570e3a",
   "metadata": {},
   "source": [
    "#### Note:\n",
    "**Stochastic Gradient Descent** is an iterative algortihm trying to minimize the model's error rate. Further information [here](https://towardsdatascience.com/stochastic-gradient-descent-clearly-explained-53d239905d31)."
   ]
  },
  {
   "cell_type": "code",
   "execution_count": 32,
   "id": "b448134c-5488-4c64-93b4-f68ef3817c16",
   "metadata": {},
   "outputs": [],
   "source": [
    "## Stochastic Gradient Descent\n",
    "sgd_steps = [('lda', LinearDiscriminantAnalysis()),  \n",
    "             ('m', SGDClassifier())]\n",
    "model_steps.update({'Stochastic Gradient Descent':sgd_steps})"
   ]
  },
  {
   "cell_type": "markdown",
   "id": "c06f7c6d-af8a-47a7-87bf-5d596fe45a04",
   "metadata": {},
   "source": [
    "#### Note:\n",
    "**Decision Tree** is a type of supervised machine learning algorithm building an actual tree based on splits within the data. [here](https://www.xoriant.com/blog/product-engineering/decision-trees-machine-learning-algorithm.html)."
   ]
  },
  {
   "cell_type": "code",
   "execution_count": 33,
   "id": "b6475853-2484-4ad7-b00c-c6b3785e26b8",
   "metadata": {},
   "outputs": [],
   "source": [
    "## Decision Tree\n",
    "tree_steps = [('lda', LinearDiscriminantAnalysis()), \n",
    "               ('m', DecisionTreeClassifier())]\n",
    "model_steps.update({'Decision Tree Classifier':tree_steps})"
   ]
  },
  {
   "cell_type": "code",
   "execution_count": 34,
   "id": "6eaabc43-6781-4b10-907d-94dec47173a5",
   "metadata": {},
   "outputs": [
    {
     "data": {
      "text/plain": [
       "{'Logistic Regression': [('lda', LinearDiscriminantAnalysis()),\n",
       "  ('m', LogisticRegression())],\n",
       " 'k-Nearest Neighbors': [('lda', LinearDiscriminantAnalysis()),\n",
       "  ('m', KNeighborsClassifier(n_neighbors=2))],\n",
       " 'Stochastic Gradient Descent': [('lda', LinearDiscriminantAnalysis()),\n",
       "  ('m', SGDClassifier())],\n",
       " 'Decision Tree Classifier': [('lda', LinearDiscriminantAnalysis()),\n",
       "  ('m', DecisionTreeClassifier())]}"
      ]
     },
     "execution_count": 34,
     "metadata": {},
     "output_type": "execute_result"
    }
   ],
   "source": [
    "# Checking the dictionary of models\n",
    "model_steps"
   ]
  },
  {
   "cell_type": "code",
   "execution_count": 35,
   "id": "9767f9de-872c-4698-a368-54d204071a76",
   "metadata": {},
   "outputs": [
    {
     "name": "stdout",
     "output_type": "stream",
     "text": [
      "Logistic Regression - Average Precision Score: 0.975 (0.000)\n",
      "k-Nearest Neighbors - Average Precision Score: 0.996 (0.000)\n",
      "Stochastic Gradient Descent - Average Precision Score: 0.975 (0.001)\n",
      "Decision Tree Classifier - Average Precision Score: 0.996 (0.001)\n"
     ]
    }
   ],
   "source": [
    "# Cross-Validation & model building\n",
    "cv = RepeatedStratifiedKFold(n_splits=3, n_repeats=1)\n",
    "for name, model_steps in model_steps.items():\n",
    "    model = Pipeline(steps=model_steps)\n",
    "    n_scores = cross_val_score(model, X_train, y_train, \n",
    "                               scoring='average_precision', cv=cv, \n",
    "                               n_jobs=-1)\n",
    "    # report performance\n",
    "    print(name+' - Average Precision Score: %.3f (%.3f)' % (np.mean(n_scores), \n",
    "                                                            np.std(n_scores)))"
   ]
  },
  {
   "cell_type": "markdown",
   "id": "4fd53a6e-eefd-4d19-ae0b-98534bd989e2",
   "metadata": {},
   "source": [
    "### 9. Machine Learning - Ensemble Methods"
   ]
  },
  {
   "cell_type": "markdown",
   "id": "d73b15ab-ec8c-4dfa-9577-651aef9bee6b",
   "metadata": {},
   "source": [
    "#### Note:\n",
    "In this section, we will extend our work in mahcine learning to incorporate ensemble methods. We generated simple models and compared the scores which appear to be quite satisfactory with the lowest at 0.974 for the Average Precision Score. However, we may want more stability and less variation in our predictive algorithm; it is where ensemble techniques come in. Most often, they act as a superposer of multiple models throughout a variety of ways and thus, bolster their predictive power. Further Information [here](https://machinelearningmastery.com/tour-of-ensemble-learning-algorithms/). "
   ]
  },
  {
   "cell_type": "code",
   "execution_count": 36,
   "id": "8061ff25-ddfb-45ba-8cc5-11db6166d25c",
   "metadata": {},
   "outputs": [],
   "source": [
    "# Dictionary to store ensemble model structures\n",
    "ensemble_models = dict()"
   ]
  },
  {
   "cell_type": "markdown",
   "id": "5b4c1880-62a5-4865-b8bf-15573b0c8b67",
   "metadata": {},
   "source": [
    "#### Note:\n",
    "Random Forest build onto the logic of decision trees by agglomerating multiple trees and obtaining a given prediction from majority voting; in other words, it is a Decision Tree times n (number of trees). Further information [here](https://towardsdatascience.com/understanding-random-forest-58381e0602d2)."
   ]
  },
  {
   "cell_type": "code",
   "execution_count": 37,
   "id": "4718ef0d-b068-4296-9629-cbebb2d5c49e",
   "metadata": {},
   "outputs": [],
   "source": [
    "## Random Forest\n",
    "rf_steps = [('lda', LinearDiscriminantAnalysis()), \n",
    "               ('m', RandomForestClassifier(n_estimators=10))]\n",
    "ensemble_models.update({'Random Forest':rf_steps})"
   ]
  },
  {
   "cell_type": "markdown",
   "id": "25e9dbcf-e4a6-4c84-a7b7-21b85a3caaaa",
   "metadata": {},
   "source": [
    "#### Note:\n",
    "Stochastic Gradient Boosting are part of the more sophisticated ensemble techniques learning on previous models' errors and build a sequential improvement process. Further information [here](https://towardsdatascience.com/understanding-random-forest-58381e0602d2)."
   ]
  },
  {
   "cell_type": "code",
   "execution_count": 38,
   "id": "2aa75ea9-607e-462e-a5ea-8661f3a692b1",
   "metadata": {},
   "outputs": [],
   "source": [
    "## Stochastic Gradient Boosting\n",
    "boost_steps = [('lda', LinearDiscriminantAnalysis()), \n",
    "               ('m', GradientBoostingClassifier())]\n",
    "ensemble_models.update({'Stochastic Gradient Boosting':boost_steps})"
   ]
  },
  {
   "cell_type": "markdown",
   "id": "34eb681b-6dc1-4757-aa3e-b9a3752b33ab",
   "metadata": {},
   "source": [
    "#### Note:\n",
    "Stacking Classifier creates a meta-model bases on individual models in order to improve performance, though not always so in all cases. Further information [here](https://machinelearningmastery.com/stacking-ensemble-machine-learning-with-python/)."
   ]
  },
  {
   "cell_type": "code",
   "execution_count": 39,
   "id": "dd8cac62-4b94-49e1-8440-5d125e55778e",
   "metadata": {},
   "outputs": [],
   "source": [
    "## StackingClassifier\n",
    "estimators = [\n",
    "    ('logreg', LogisticRegression()),\n",
    "    ('knn', KNeighborsClassifier(n_neighbors=2)),\n",
    "    ('sdg', SGDClassifier()),\n",
    "     \n",
    "]\n",
    "stack_steps = [('lda', LinearDiscriminantAnalysis()), \n",
    "               ('m', StackingClassifier(estimators=estimators, \n",
    "                         final_estimator=DecisionTreeClassifier()))]\n",
    "ensemble_models.update({'StackingClassifier':stack_steps})"
   ]
  },
  {
   "cell_type": "code",
   "execution_count": 40,
   "id": "3c89e4e3-5978-422c-a5d2-2e2776055675",
   "metadata": {},
   "outputs": [
    {
     "name": "stdout",
     "output_type": "stream",
     "text": [
      "Random Forest - Average Precision Score: 0.996 (0.000)\n",
      "Stochastic Gradient Boosting - Average Precision Score: 0.990 (0.001)\n",
      "StackingClassifier - Average Precision Score: 0.887 (0.018)\n"
     ]
    }
   ],
   "source": [
    "# Cross-Validation & model building\n",
    "cv = RepeatedStratifiedKFold(n_splits=3, n_repeats=1)\n",
    "for name, model_steps in ensemble_models.items():\n",
    "    model = Pipeline(steps=model_steps)\n",
    "    n_scores = cross_val_score(model, X_train, y_train, \n",
    "                               scoring='average_precision', cv=cv, \n",
    "                               n_jobs=-1)\n",
    "    # report performance\n",
    "    print(name+' - Average Precision Score: %.3f (%.3f)' % (np.mean(n_scores), \n",
    "                                                            np.std(n_scores)))"
   ]
  },
  {
   "cell_type": "markdown",
   "id": "159eb2e1-67fb-4ef5-89a8-3a4e51633865",
   "metadata": {},
   "source": [
    "#### Takeaway:\n",
    "Based on the numbers obtained, the Random Forest model was on par with the two best individual models, that are K-Nearest Neighbors and Decision Tree. The Stochastic Gradient Boosting outperformed Logistic Regression and Stochastic Gradient Descent. In contrast, the staking model was aorse than all of the above. Moving forward, we will evaluate the performance of the top 3 using the testing set."
   ]
  },
  {
   "cell_type": "markdown",
   "id": "d105f784-04f4-4154-b9ac-95559231d9f9",
   "metadata": {},
   "source": [
    "### 10. Model Performance Evaluation"
   ]
  },
  {
   "cell_type": "markdown",
   "id": "f075f4f4-05c2-4702-9115-0ced031e480c",
   "metadata": {},
   "source": [
    "### Note:\n",
    "Under this section, we will build on everything we've done throughout this notebook and identify the model which performs best given a set of tools. In the problem description, the recommendation was on the AUPRC (Area Under the Precision-Recall Curve) given the class imbalance. "
   ]
  },
  {
   "cell_type": "code",
   "execution_count": 41,
   "id": "411eacb1-b1d6-4676-9d34-01554fb2f660",
   "metadata": {},
   "outputs": [],
   "source": [
    "# The top 3 models\n",
    "models_top_3 = {}\n",
    "models_top_3.update({'k-Nearest Neighbors':knn_steps})\n",
    "models_top_3.update({'Decision Tree Classifier':tree_steps})\n",
    "models_top_3.update({'Random Forest':rf_steps})"
   ]
  },
  {
   "cell_type": "markdown",
   "id": "92481118-be0b-427b-93e5-c667c5e64cea",
   "metadata": {},
   "source": [
    "#### Definition:\n",
    "AUPRC (Area Under the Precision-Recall Curve) focuses on finding the positive examples; in other words, the fraudulent transactions in our case. Read more [here](https://glassboxmedicine.com/2019/03/02/measuring-performance-auprc/)."
   ]
  },
  {
   "cell_type": "code",
   "execution_count": 42,
   "id": "f8c8ad2b-fbbf-4723-8694-db90c44d602b",
   "metadata": {},
   "outputs": [
    {
     "name": "stdout",
     "output_type": "stream",
     "text": [
      "k-Nearest Neighbors - Average Precision Score: 0.9946 (0.0010)\n",
      "Decision Tree Classifier - Average Precision Score: 0.9948 (0.0008)\n",
      "Random Forest - Average Precision Score: 0.9946 (0.0010)\n"
     ]
    }
   ],
   "source": [
    "# Cross Validation\n",
    "cv = RepeatedStratifiedKFold(n_splits=10, n_repeats=3)\n",
    "for name, model_steps in models_top_3.items():\n",
    "    model = Pipeline(steps=model_steps)\n",
    "    n_scores = cross_val_score(model, X_test, y_test, \n",
    "                               scoring='average_precision', cv=cv, \n",
    "                               n_jobs=-1)\n",
    "    # report performance\n",
    "    print(name+' - Average Precision Score: %.4f (%.4f)' % (np.mean(n_scores), \n",
    "                                                            np.std(n_scores)))"
   ]
  },
  {
   "cell_type": "markdown",
   "id": "40cde3dd-949a-45dd-9185-f15bba0fecbe",
   "metadata": {},
   "source": [
    "### Conclusion:\n",
    "Though k-Nearest Neighbors and Random Forest had the highest average AUPRC, the Decision Tree Classifier had the lowest standard deviation. It would imply that this model is more stable while predicting more than 99% of all fraudulent cases given. So, we will present the Decision Tree Classifier as our final model"
   ]
  }
 ],
 "metadata": {
  "kernelspec": {
   "display_name": "Python 3 (ipykernel)",
   "language": "python",
   "name": "python3"
  },
  "language_info": {
   "codemirror_mode": {
    "name": "ipython",
    "version": 3
   },
   "file_extension": ".py",
   "mimetype": "text/x-python",
   "name": "python",
   "nbconvert_exporter": "python",
   "pygments_lexer": "ipython3",
   "version": "3.7.11"
  }
 },
 "nbformat": 4,
 "nbformat_minor": 5
}
