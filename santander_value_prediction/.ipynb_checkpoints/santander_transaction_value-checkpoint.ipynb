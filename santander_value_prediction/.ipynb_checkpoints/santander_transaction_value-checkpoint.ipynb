{
 "cells": [
  {
   "cell_type": "markdown",
   "id": "495a3a97-173b-415c-b0a6-8e7dfe839127",
   "metadata": {},
   "source": [
    "# Transaction Value Prediction\n",
    "In this notebook, we will tackle the challenge presented by Santander Group in terms of predicting \"the value of transactions for each potential customer\". In other words, the rgoup would provide an an anonymized dataset (for security purpose) to attain this objective. In essence, this presents a regression problem which we shall resolve using different machine learning techniques.\n",
    "\n",
    "## Table of Contents\n",
    "1. Environment set-up\n",
    "    * Importing Libraries\n",
    "    * Loading the data\n",
    "2. Initial Diagnostics\n",
    "    * Glimpse\n",
    "    * Descriptive Statitics\n",
    "    * Target Variable Analysis\n",
    "    * Predictors Analysis\n",
    "3. Data Cleaning\n",
    "    * Missing Values\n",
    "    * Outliers\n",
    "    * Duplicate Observations\n",
    "4. Correlation Analysis\n",
    "5. Inquiry Exploration\n",
    "    * \n",
    "    * \n",
    "6. Dimensionality Reduction\n",
    "    * PCA - Principal Component Analysis\n",
    "    * SVD - Singular Value Decomposition\n",
    "    * LDA - Linear Discriminant Analysis\n",
    "7. Machine Learning - Simple Models\n",
    "    * Logistic Regression\n",
    "    * k-Nearest Neighbors\n",
    "    * Decision Tree\n",
    "    * Stochastic Gradient Descent\n",
    "8. Machine Learning - Ensemble Methods\n",
    "    * Random Forest\n",
    "    * Stochastic Gradient Boosting\n",
    "    * StackingClassifier\n",
    "9. Model Performance Evalution\n",
    "    * Top 3 models\n",
    "    * Cross-Validation\n",
    "    * Conclusion"
   ]
  },
  {
   "cell_type": "markdown",
   "id": "71cd164c-5ab9-4e14-9302-f17dd0619ca0",
   "metadata": {},
   "source": [
    "# 1. Environment set-up"
   ]
  },
  {
   "cell_type": "markdown",
   "id": "1b96d5dd-c40c-426f-b534-01296dd97572",
   "metadata": {},
   "source": [
    "## a) Importing Libraries"
   ]
  },
  {
   "cell_type": "code",
   "execution_count": 1,
   "id": "e280ade8-bed7-4ad2-a9f3-0e6d3111aecc",
   "metadata": {},
   "outputs": [],
   "source": [
    "#Set seed\n",
    "import random\n",
    "random.seed(69)\n",
    "\n",
    "# Manipulating & Visualizing Data\n",
    "import pandas as pd\n",
    "import numpy as np\n",
    "from collections import Counter\n",
    "import matplotlib.pyplot as plt\n",
    "import seaborn as sns\n",
    "sns.set(rc={'figure.figsize':(12, 8)})\n",
    "\n",
    "# Training/Testing Split\n",
    "from sklearn.model_selection import train_test_split\n",
    "\n",
    "# Cross Validation\n",
    "from sklearn.model_selection import cross_val_score\n",
    "from sklearn.model_selection import RepeatedStratifiedKFold\n",
    "\n",
    "# Dimensionality Reduction\n",
    "from sklearn.decomposition import PCA, TruncatedSVD\n",
    "from sklearn.discriminant_analysis import LinearDiscriminantAnalysis\n",
    "\n",
    "# Simple ML models\n",
    "from sklearn.pipeline import Pipeline\n",
    "\n",
    "# Ensemble Learning\n",
    "\n",
    "# Performance metrics\n",
    "import sklearn.metrics as skm"
   ]
  },
  {
   "cell_type": "markdown",
   "id": "7c674a7c-6064-407b-9af1-b93c365d0f45",
   "metadata": {},
   "source": [
    "## b) Loading the dataset"
   ]
  },
  {
   "cell_type": "code",
   "execution_count": 2,
   "id": "919e3645-8ff5-4548-b1eb-73573ac441d6",
   "metadata": {},
   "outputs": [
    {
     "data": {
      "text/html": [
       "<div>\n",
       "<style scoped>\n",
       "    .dataframe tbody tr th:only-of-type {\n",
       "        vertical-align: middle;\n",
       "    }\n",
       "\n",
       "    .dataframe tbody tr th {\n",
       "        vertical-align: top;\n",
       "    }\n",
       "\n",
       "    .dataframe thead th {\n",
       "        text-align: right;\n",
       "    }\n",
       "</style>\n",
       "<table border=\"1\" class=\"dataframe\">\n",
       "  <thead>\n",
       "    <tr style=\"text-align: right;\">\n",
       "      <th></th>\n",
       "      <th>target</th>\n",
       "      <th>48df886f9</th>\n",
       "      <th>0deb4b6a8</th>\n",
       "      <th>34b15f335</th>\n",
       "      <th>a8cb14b00</th>\n",
       "      <th>2f0771a37</th>\n",
       "      <th>30347e683</th>\n",
       "      <th>d08d1fbe3</th>\n",
       "      <th>6ee66e115</th>\n",
       "      <th>20aa07010</th>\n",
       "      <th>...</th>\n",
       "      <th>3ecc09859</th>\n",
       "      <th>9281abeea</th>\n",
       "      <th>8675bec0b</th>\n",
       "      <th>3a13ed79a</th>\n",
       "      <th>f677d4d13</th>\n",
       "      <th>71b203550</th>\n",
       "      <th>137efaa80</th>\n",
       "      <th>fb36b89d9</th>\n",
       "      <th>7e293fbaf</th>\n",
       "      <th>9fc776466</th>\n",
       "    </tr>\n",
       "  </thead>\n",
       "  <tbody>\n",
       "    <tr>\n",
       "      <th>0</th>\n",
       "      <td>38000000.0</td>\n",
       "      <td>0.0</td>\n",
       "      <td>0</td>\n",
       "      <td>0.0</td>\n",
       "      <td>0</td>\n",
       "      <td>0</td>\n",
       "      <td>0</td>\n",
       "      <td>0</td>\n",
       "      <td>0</td>\n",
       "      <td>0.0</td>\n",
       "      <td>...</td>\n",
       "      <td>0.0</td>\n",
       "      <td>0.0</td>\n",
       "      <td>0.0</td>\n",
       "      <td>0</td>\n",
       "      <td>0</td>\n",
       "      <td>0</td>\n",
       "      <td>0</td>\n",
       "      <td>0</td>\n",
       "      <td>0</td>\n",
       "      <td>0</td>\n",
       "    </tr>\n",
       "    <tr>\n",
       "      <th>1</th>\n",
       "      <td>600000.0</td>\n",
       "      <td>0.0</td>\n",
       "      <td>0</td>\n",
       "      <td>0.0</td>\n",
       "      <td>0</td>\n",
       "      <td>0</td>\n",
       "      <td>0</td>\n",
       "      <td>0</td>\n",
       "      <td>0</td>\n",
       "      <td>2200000.0</td>\n",
       "      <td>...</td>\n",
       "      <td>0.0</td>\n",
       "      <td>0.0</td>\n",
       "      <td>0.0</td>\n",
       "      <td>0</td>\n",
       "      <td>0</td>\n",
       "      <td>0</td>\n",
       "      <td>0</td>\n",
       "      <td>0</td>\n",
       "      <td>0</td>\n",
       "      <td>0</td>\n",
       "    </tr>\n",
       "    <tr>\n",
       "      <th>2</th>\n",
       "      <td>10000000.0</td>\n",
       "      <td>0.0</td>\n",
       "      <td>0</td>\n",
       "      <td>0.0</td>\n",
       "      <td>0</td>\n",
       "      <td>0</td>\n",
       "      <td>0</td>\n",
       "      <td>0</td>\n",
       "      <td>0</td>\n",
       "      <td>0.0</td>\n",
       "      <td>...</td>\n",
       "      <td>0.0</td>\n",
       "      <td>0.0</td>\n",
       "      <td>0.0</td>\n",
       "      <td>0</td>\n",
       "      <td>0</td>\n",
       "      <td>0</td>\n",
       "      <td>0</td>\n",
       "      <td>0</td>\n",
       "      <td>0</td>\n",
       "      <td>0</td>\n",
       "    </tr>\n",
       "  </tbody>\n",
       "</table>\n",
       "<p>3 rows × 4992 columns</p>\n",
       "</div>"
      ],
      "text/plain": [
       "       target  48df886f9  0deb4b6a8  34b15f335  a8cb14b00  2f0771a37  \\\n",
       "0  38000000.0        0.0          0        0.0          0          0   \n",
       "1    600000.0        0.0          0        0.0          0          0   \n",
       "2  10000000.0        0.0          0        0.0          0          0   \n",
       "\n",
       "   30347e683  d08d1fbe3  6ee66e115  20aa07010  ...  3ecc09859  9281abeea  \\\n",
       "0          0          0          0        0.0  ...        0.0        0.0   \n",
       "1          0          0          0  2200000.0  ...        0.0        0.0   \n",
       "2          0          0          0        0.0  ...        0.0        0.0   \n",
       "\n",
       "   8675bec0b  3a13ed79a  f677d4d13  71b203550  137efaa80  fb36b89d9  \\\n",
       "0        0.0          0          0          0          0          0   \n",
       "1        0.0          0          0          0          0          0   \n",
       "2        0.0          0          0          0          0          0   \n",
       "\n",
       "   7e293fbaf  9fc776466  \n",
       "0          0          0  \n",
       "1          0          0  \n",
       "2          0          0  \n",
       "\n",
       "[3 rows x 4992 columns]"
      ]
     },
     "execution_count": 2,
     "metadata": {},
     "output_type": "execute_result"
    }
   ],
   "source": [
    "df = pd.read_csv(r\"C:\\Users\\Akoua Orsot\\Desktop\\ds_projects_data\\santander_transaction_value\\train.csv\")\n",
    "\n",
    "#Removing the unnecessary ID column\n",
    "df.drop(\"ID\", axis=1, inplace=True)\n",
    "df.head(3)"
   ]
  },
  {
   "cell_type": "markdown",
   "id": "8f9f448f-e2ee-40fd-9e6e-f5e6379b1d5b",
   "metadata": {},
   "source": [
    "# 2. Initial Diagnostics"
   ]
  },
  {
   "cell_type": "markdown",
   "id": "bfddc84a-5781-4058-b2ae-52823be8de67",
   "metadata": {},
   "source": [
    "## a) Glimpse of the data"
   ]
  },
  {
   "cell_type": "code",
   "execution_count": 3,
   "id": "7bcd6b3f-6176-4029-af86-0b10d18efcdb",
   "metadata": {},
   "outputs": [
    {
     "name": "stdout",
     "output_type": "stream",
     "text": [
      "<class 'pandas.core.frame.DataFrame'>\n",
      "RangeIndex: 4459 entries, 0 to 4458\n",
      "Columns: 4992 entries, target to 9fc776466\n",
      "dtypes: float64(1845), int64(3147)\n",
      "memory usage: 169.8 MB\n"
     ]
    }
   ],
   "source": [
    "df.info()"
   ]
  },
  {
   "cell_type": "markdown",
   "id": "4fa6c2b9-ccdd-45fa-a123-473753bd836e",
   "metadata": {},
   "source": [
    "## b) Descriptive Statistics"
   ]
  },
  {
   "cell_type": "code",
   "execution_count": 4,
   "id": "8f5879c3-aa22-466d-bf97-d75545bc325a",
   "metadata": {},
   "outputs": [
    {
     "data": {
      "text/html": [
       "<div>\n",
       "<style scoped>\n",
       "    .dataframe tbody tr th:only-of-type {\n",
       "        vertical-align: middle;\n",
       "    }\n",
       "\n",
       "    .dataframe tbody tr th {\n",
       "        vertical-align: top;\n",
       "    }\n",
       "\n",
       "    .dataframe thead th {\n",
       "        text-align: right;\n",
       "    }\n",
       "</style>\n",
       "<table border=\"1\" class=\"dataframe\">\n",
       "  <thead>\n",
       "    <tr style=\"text-align: right;\">\n",
       "      <th></th>\n",
       "      <th>target</th>\n",
       "      <th>48df886f9</th>\n",
       "      <th>0deb4b6a8</th>\n",
       "      <th>34b15f335</th>\n",
       "      <th>a8cb14b00</th>\n",
       "      <th>2f0771a37</th>\n",
       "      <th>30347e683</th>\n",
       "      <th>d08d1fbe3</th>\n",
       "      <th>6ee66e115</th>\n",
       "      <th>20aa07010</th>\n",
       "      <th>...</th>\n",
       "      <th>3ecc09859</th>\n",
       "      <th>9281abeea</th>\n",
       "      <th>8675bec0b</th>\n",
       "      <th>3a13ed79a</th>\n",
       "      <th>f677d4d13</th>\n",
       "      <th>71b203550</th>\n",
       "      <th>137efaa80</th>\n",
       "      <th>fb36b89d9</th>\n",
       "      <th>7e293fbaf</th>\n",
       "      <th>9fc776466</th>\n",
       "    </tr>\n",
       "  </thead>\n",
       "  <tbody>\n",
       "    <tr>\n",
       "      <th>count</th>\n",
       "      <td>4.459000e+03</td>\n",
       "      <td>4.459000e+03</td>\n",
       "      <td>4.459000e+03</td>\n",
       "      <td>4.459000e+03</td>\n",
       "      <td>4.459000e+03</td>\n",
       "      <td>4.459000e+03</td>\n",
       "      <td>4.459000e+03</td>\n",
       "      <td>4.459000e+03</td>\n",
       "      <td>4.459000e+03</td>\n",
       "      <td>4.459000e+03</td>\n",
       "      <td>...</td>\n",
       "      <td>4.459000e+03</td>\n",
       "      <td>4.459000e+03</td>\n",
       "      <td>4.459000e+03</td>\n",
       "      <td>4.459000e+03</td>\n",
       "      <td>4459.000000</td>\n",
       "      <td>4.459000e+03</td>\n",
       "      <td>4.459000e+03</td>\n",
       "      <td>4.459000e+03</td>\n",
       "      <td>4.459000e+03</td>\n",
       "      <td>4.459000e+03</td>\n",
       "    </tr>\n",
       "    <tr>\n",
       "      <th>mean</th>\n",
       "      <td>5.944923e+06</td>\n",
       "      <td>1.465493e+04</td>\n",
       "      <td>1.390895e+03</td>\n",
       "      <td>2.672245e+04</td>\n",
       "      <td>4.530164e+03</td>\n",
       "      <td>2.640996e+04</td>\n",
       "      <td>3.070811e+04</td>\n",
       "      <td>1.686522e+04</td>\n",
       "      <td>4.669208e+03</td>\n",
       "      <td>2.569407e+06</td>\n",
       "      <td>...</td>\n",
       "      <td>4.676057e+05</td>\n",
       "      <td>4.446239e+05</td>\n",
       "      <td>8.056219e+05</td>\n",
       "      <td>7.812966e+05</td>\n",
       "      <td>143.529939</td>\n",
       "      <td>1.213809e+05</td>\n",
       "      <td>3.573451e+04</td>\n",
       "      <td>3.123741e+05</td>\n",
       "      <td>9.219960e+04</td>\n",
       "      <td>2.279100e+05</td>\n",
       "    </tr>\n",
       "    <tr>\n",
       "      <th>std</th>\n",
       "      <td>8.234312e+06</td>\n",
       "      <td>3.893298e+05</td>\n",
       "      <td>6.428302e+04</td>\n",
       "      <td>5.699652e+05</td>\n",
       "      <td>2.359124e+05</td>\n",
       "      <td>1.514730e+06</td>\n",
       "      <td>5.770590e+05</td>\n",
       "      <td>7.512756e+05</td>\n",
       "      <td>1.879449e+05</td>\n",
       "      <td>9.610183e+06</td>\n",
       "      <td>...</td>\n",
       "      <td>4.068038e+06</td>\n",
       "      <td>4.428889e+06</td>\n",
       "      <td>4.513246e+06</td>\n",
       "      <td>6.839451e+06</td>\n",
       "      <td>9584.318507</td>\n",
       "      <td>4.720709e+06</td>\n",
       "      <td>1.614622e+06</td>\n",
       "      <td>4.318501e+06</td>\n",
       "      <td>1.635993e+06</td>\n",
       "      <td>1.811139e+06</td>\n",
       "    </tr>\n",
       "    <tr>\n",
       "      <th>min</th>\n",
       "      <td>3.000000e+04</td>\n",
       "      <td>0.000000e+00</td>\n",
       "      <td>0.000000e+00</td>\n",
       "      <td>0.000000e+00</td>\n",
       "      <td>0.000000e+00</td>\n",
       "      <td>0.000000e+00</td>\n",
       "      <td>0.000000e+00</td>\n",
       "      <td>0.000000e+00</td>\n",
       "      <td>0.000000e+00</td>\n",
       "      <td>0.000000e+00</td>\n",
       "      <td>...</td>\n",
       "      <td>0.000000e+00</td>\n",
       "      <td>0.000000e+00</td>\n",
       "      <td>0.000000e+00</td>\n",
       "      <td>0.000000e+00</td>\n",
       "      <td>0.000000</td>\n",
       "      <td>0.000000e+00</td>\n",
       "      <td>0.000000e+00</td>\n",
       "      <td>0.000000e+00</td>\n",
       "      <td>0.000000e+00</td>\n",
       "      <td>0.000000e+00</td>\n",
       "    </tr>\n",
       "    <tr>\n",
       "      <th>25%</th>\n",
       "      <td>6.000000e+05</td>\n",
       "      <td>0.000000e+00</td>\n",
       "      <td>0.000000e+00</td>\n",
       "      <td>0.000000e+00</td>\n",
       "      <td>0.000000e+00</td>\n",
       "      <td>0.000000e+00</td>\n",
       "      <td>0.000000e+00</td>\n",
       "      <td>0.000000e+00</td>\n",
       "      <td>0.000000e+00</td>\n",
       "      <td>0.000000e+00</td>\n",
       "      <td>...</td>\n",
       "      <td>0.000000e+00</td>\n",
       "      <td>0.000000e+00</td>\n",
       "      <td>0.000000e+00</td>\n",
       "      <td>0.000000e+00</td>\n",
       "      <td>0.000000</td>\n",
       "      <td>0.000000e+00</td>\n",
       "      <td>0.000000e+00</td>\n",
       "      <td>0.000000e+00</td>\n",
       "      <td>0.000000e+00</td>\n",
       "      <td>0.000000e+00</td>\n",
       "    </tr>\n",
       "    <tr>\n",
       "      <th>50%</th>\n",
       "      <td>2.260000e+06</td>\n",
       "      <td>0.000000e+00</td>\n",
       "      <td>0.000000e+00</td>\n",
       "      <td>0.000000e+00</td>\n",
       "      <td>0.000000e+00</td>\n",
       "      <td>0.000000e+00</td>\n",
       "      <td>0.000000e+00</td>\n",
       "      <td>0.000000e+00</td>\n",
       "      <td>0.000000e+00</td>\n",
       "      <td>0.000000e+00</td>\n",
       "      <td>...</td>\n",
       "      <td>0.000000e+00</td>\n",
       "      <td>0.000000e+00</td>\n",
       "      <td>0.000000e+00</td>\n",
       "      <td>0.000000e+00</td>\n",
       "      <td>0.000000</td>\n",
       "      <td>0.000000e+00</td>\n",
       "      <td>0.000000e+00</td>\n",
       "      <td>0.000000e+00</td>\n",
       "      <td>0.000000e+00</td>\n",
       "      <td>0.000000e+00</td>\n",
       "    </tr>\n",
       "    <tr>\n",
       "      <th>75%</th>\n",
       "      <td>8.000000e+06</td>\n",
       "      <td>0.000000e+00</td>\n",
       "      <td>0.000000e+00</td>\n",
       "      <td>0.000000e+00</td>\n",
       "      <td>0.000000e+00</td>\n",
       "      <td>0.000000e+00</td>\n",
       "      <td>0.000000e+00</td>\n",
       "      <td>0.000000e+00</td>\n",
       "      <td>0.000000e+00</td>\n",
       "      <td>6.000000e+05</td>\n",
       "      <td>...</td>\n",
       "      <td>0.000000e+00</td>\n",
       "      <td>0.000000e+00</td>\n",
       "      <td>0.000000e+00</td>\n",
       "      <td>0.000000e+00</td>\n",
       "      <td>0.000000</td>\n",
       "      <td>0.000000e+00</td>\n",
       "      <td>0.000000e+00</td>\n",
       "      <td>0.000000e+00</td>\n",
       "      <td>0.000000e+00</td>\n",
       "      <td>0.000000e+00</td>\n",
       "    </tr>\n",
       "    <tr>\n",
       "      <th>max</th>\n",
       "      <td>4.000000e+07</td>\n",
       "      <td>2.000000e+07</td>\n",
       "      <td>4.000000e+06</td>\n",
       "      <td>2.000000e+07</td>\n",
       "      <td>1.480000e+07</td>\n",
       "      <td>1.000000e+08</td>\n",
       "      <td>2.070800e+07</td>\n",
       "      <td>4.000000e+07</td>\n",
       "      <td>1.040000e+07</td>\n",
       "      <td>3.196120e+08</td>\n",
       "      <td>...</td>\n",
       "      <td>7.600000e+07</td>\n",
       "      <td>1.235880e+08</td>\n",
       "      <td>1.300000e+08</td>\n",
       "      <td>1.444000e+08</td>\n",
       "      <td>640000.000000</td>\n",
       "      <td>3.013120e+08</td>\n",
       "      <td>1.064200e+08</td>\n",
       "      <td>1.400000e+08</td>\n",
       "      <td>6.176800e+07</td>\n",
       "      <td>4.320000e+07</td>\n",
       "    </tr>\n",
       "  </tbody>\n",
       "</table>\n",
       "<p>8 rows × 4992 columns</p>\n",
       "</div>"
      ],
      "text/plain": [
       "             target     48df886f9     0deb4b6a8     34b15f335     a8cb14b00  \\\n",
       "count  4.459000e+03  4.459000e+03  4.459000e+03  4.459000e+03  4.459000e+03   \n",
       "mean   5.944923e+06  1.465493e+04  1.390895e+03  2.672245e+04  4.530164e+03   \n",
       "std    8.234312e+06  3.893298e+05  6.428302e+04  5.699652e+05  2.359124e+05   \n",
       "min    3.000000e+04  0.000000e+00  0.000000e+00  0.000000e+00  0.000000e+00   \n",
       "25%    6.000000e+05  0.000000e+00  0.000000e+00  0.000000e+00  0.000000e+00   \n",
       "50%    2.260000e+06  0.000000e+00  0.000000e+00  0.000000e+00  0.000000e+00   \n",
       "75%    8.000000e+06  0.000000e+00  0.000000e+00  0.000000e+00  0.000000e+00   \n",
       "max    4.000000e+07  2.000000e+07  4.000000e+06  2.000000e+07  1.480000e+07   \n",
       "\n",
       "          2f0771a37     30347e683     d08d1fbe3     6ee66e115     20aa07010  \\\n",
       "count  4.459000e+03  4.459000e+03  4.459000e+03  4.459000e+03  4.459000e+03   \n",
       "mean   2.640996e+04  3.070811e+04  1.686522e+04  4.669208e+03  2.569407e+06   \n",
       "std    1.514730e+06  5.770590e+05  7.512756e+05  1.879449e+05  9.610183e+06   \n",
       "min    0.000000e+00  0.000000e+00  0.000000e+00  0.000000e+00  0.000000e+00   \n",
       "25%    0.000000e+00  0.000000e+00  0.000000e+00  0.000000e+00  0.000000e+00   \n",
       "50%    0.000000e+00  0.000000e+00  0.000000e+00  0.000000e+00  0.000000e+00   \n",
       "75%    0.000000e+00  0.000000e+00  0.000000e+00  0.000000e+00  6.000000e+05   \n",
       "max    1.000000e+08  2.070800e+07  4.000000e+07  1.040000e+07  3.196120e+08   \n",
       "\n",
       "       ...     3ecc09859     9281abeea     8675bec0b     3a13ed79a  \\\n",
       "count  ...  4.459000e+03  4.459000e+03  4.459000e+03  4.459000e+03   \n",
       "mean   ...  4.676057e+05  4.446239e+05  8.056219e+05  7.812966e+05   \n",
       "std    ...  4.068038e+06  4.428889e+06  4.513246e+06  6.839451e+06   \n",
       "min    ...  0.000000e+00  0.000000e+00  0.000000e+00  0.000000e+00   \n",
       "25%    ...  0.000000e+00  0.000000e+00  0.000000e+00  0.000000e+00   \n",
       "50%    ...  0.000000e+00  0.000000e+00  0.000000e+00  0.000000e+00   \n",
       "75%    ...  0.000000e+00  0.000000e+00  0.000000e+00  0.000000e+00   \n",
       "max    ...  7.600000e+07  1.235880e+08  1.300000e+08  1.444000e+08   \n",
       "\n",
       "           f677d4d13     71b203550     137efaa80     fb36b89d9     7e293fbaf  \\\n",
       "count    4459.000000  4.459000e+03  4.459000e+03  4.459000e+03  4.459000e+03   \n",
       "mean      143.529939  1.213809e+05  3.573451e+04  3.123741e+05  9.219960e+04   \n",
       "std      9584.318507  4.720709e+06  1.614622e+06  4.318501e+06  1.635993e+06   \n",
       "min         0.000000  0.000000e+00  0.000000e+00  0.000000e+00  0.000000e+00   \n",
       "25%         0.000000  0.000000e+00  0.000000e+00  0.000000e+00  0.000000e+00   \n",
       "50%         0.000000  0.000000e+00  0.000000e+00  0.000000e+00  0.000000e+00   \n",
       "75%         0.000000  0.000000e+00  0.000000e+00  0.000000e+00  0.000000e+00   \n",
       "max    640000.000000  3.013120e+08  1.064200e+08  1.400000e+08  6.176800e+07   \n",
       "\n",
       "          9fc776466  \n",
       "count  4.459000e+03  \n",
       "mean   2.279100e+05  \n",
       "std    1.811139e+06  \n",
       "min    0.000000e+00  \n",
       "25%    0.000000e+00  \n",
       "50%    0.000000e+00  \n",
       "75%    0.000000e+00  \n",
       "max    4.320000e+07  \n",
       "\n",
       "[8 rows x 4992 columns]"
      ]
     },
     "execution_count": 4,
     "metadata": {},
     "output_type": "execute_result"
    }
   ],
   "source": [
    "df.describe()"
   ]
  },
  {
   "cell_type": "markdown",
   "id": "df5b2f13-fc92-414b-b1b0-55ac0a2d373a",
   "metadata": {},
   "source": [
    "## c) Target Variable Analysis"
   ]
  },
  {
   "cell_type": "markdown",
   "id": "c3c3f10f-68bb-4b44-86eb-11dbcdc91675",
   "metadata": {},
   "source": [
    "### Note:\n",
    "From the histogram below, we observe a right-skewed distribution indicating that most transaction are on the lower end. It remains consistent given that banking transaction for x person (on average) is quite mosdest with some expections on the upper end as shown with the outliers on the boxplot below. "
   ]
  },
  {
   "cell_type": "code",
   "execution_count": 5,
   "id": "00573861-7171-4968-af23-cb3283ef0d76",
   "metadata": {},
   "outputs": [
    {
     "data": {
      "image/png": "[encoded data removed]",
      "text/plain": [
       "<Figure size 864x576 with 1 Axes>"
      ]
     },
     "metadata": {},
     "output_type": "display_data"
    }
   ],
   "source": [
    "# Target Variable Analysis\n",
    "sns.histplot(data=df, x='target', stat='frequency')\n",
    "plt.title(\"Transaction Value Distribution\")\n",
    "plt.xlabel(\"Value ($)\")\n",
    "plt.show()"
   ]
  },
  {
   "cell_type": "code",
   "execution_count": 6,
   "id": "97823951-7434-4688-bb7e-c7d958be18e6",
   "metadata": {},
   "outputs": [
    {
     "data": {
      "image/png": "[encoded data removed]",
      "text/plain": [
       "<Figure size 864x576 with 1 Axes>"
      ]
     },
     "metadata": {},
     "output_type": "display_data"
    }
   ],
   "source": [
    "sns.boxplot(data=df, x='target')\n",
    "plt.title(\"Transaction Value Boxplot\")\n",
    "plt.xlabel(\"Value ($)\")\n",
    "plt.show()"
   ]
  },
  {
   "cell_type": "markdown",
   "id": "ee6bb579-d8aa-42b5-942a-09f6ecfca3dc",
   "metadata": {},
   "source": [
    "## d) Predictors Analysis"
   ]
  },
  {
   "cell_type": "markdown",
   "id": "e80fce68-9538-42d2-98e7-da3191d8e354",
   "metadata": {},
   "source": [
    "### Note:\n",
    "As noted in the introduction, we have an anonymized dataset with all predictors standardized. Thus, we would hvae very little insights in exploring them individually. "
   ]
  },
  {
   "cell_type": "markdown",
   "id": "42a67de9-7389-48f5-aa31-67b919529db8",
   "metadata": {},
   "source": [
    "# 3. Data Cleaning"
   ]
  },
  {
   "cell_type": "markdown",
   "id": "315c46db-785b-4e57-b4c2-ceb72b16f8b7",
   "metadata": {},
   "source": [
    "## a) Missing Values"
   ]
  },
  {
   "cell_type": "markdown",
   "id": "89a89baa-ea45-4a23-83ae-3102434b3f9f",
   "metadata": {},
   "source": [
    "### Note:\n",
    "With the data already formatted and standardized, we would indeed expect no null values."
   ]
  },
  {
   "cell_type": "code",
   "execution_count": 7,
   "id": "f4b899e5-d0d4-4829-94ed-591800db9903",
   "metadata": {},
   "outputs": [
    {
     "data": {
      "image/png": "[encoded data removed]",
      "text/plain": [
       "<Figure size 864x576 with 2 Axes>"
      ]
     },
     "metadata": {},
     "output_type": "display_data"
    }
   ],
   "source": [
    "# Missing Values\n",
    "sns.heatmap(df.isna().transpose(),\n",
    "            cmap=\"YlGnBu\",\n",
    "            cbar_kws={'label': 'Missing Data'})\n",
    "plt.xlabel(\"Features\")\n",
    "plt.ylabel(\"Observations\")\n",
    "plt.show()"
   ]
  },
  {
   "cell_type": "markdown",
   "id": "23dc84a2-8bea-494d-b1b8-6ae3ce402ac1",
   "metadata": {},
   "source": [
    "## b) Outliers"
   ]
  },
  {
   "cell_type": "markdown",
   "id": "47bb53be-3e46-4d36-8508-d11e17a1ce0b",
   "metadata": {},
   "source": [
    "### Note:\n",
    "From the box plot above, We already determined that there were some outliers. However, we will not exclude them but use other technique instead to ensure robust results from the machine learning predictions."
   ]
  },
  {
   "cell_type": "markdown",
   "id": "df156373-2588-4476-be3c-17bbf1fb7dba",
   "metadata": {},
   "source": [
    "## c) Duplicate Observations"
   ]
  },
  {
   "cell_type": "markdown",
   "id": "d8a95b30-ce7d-43e1-a109-20285d02bf2b",
   "metadata": {},
   "source": [
    "### Note:\n",
    "With no duplicate values, we may proceed without making any further changes."
   ]
  },
  {
   "cell_type": "code",
   "execution_count": 8,
   "id": "dd40f915-a8cb-46c8-800e-43fe473a30cf",
   "metadata": {},
   "outputs": [
    {
     "data": {
      "text/plain": [
       "False    4459\n",
       "dtype: int64"
      ]
     },
     "execution_count": 8,
     "metadata": {},
     "output_type": "execute_result"
    }
   ],
   "source": [
    "# Duplicate Observations\n",
    "df.duplicated().value_counts()"
   ]
  },
  {
   "cell_type": "markdown",
   "id": "c352a2e5-2e31-4685-8575-e553b0e3c783",
   "metadata": {},
   "source": [
    "# 4. Correlation Analysis"
   ]
  },
  {
   "cell_type": "markdown",
   "id": "05239ba7-7392-4756-9a44-da61e2140559",
   "metadata": {},
   "source": [
    "### Note:\n",
    "Given that we have close to 5000 column, it would be quite computationally intensive to display the entire correlation matrix and even visualize it for user-friendly analysis. So, we will filter only the relationship with significant correlation coefficients. "
   ]
  },
  {
   "cell_type": "code",
   "execution_count": 9,
   "id": "aff76a5e-e702-4c82-ace0-f006c1e7d07a",
   "metadata": {},
   "outputs": [],
   "source": [
    "# Filtering those with some signigicant correlation coefficients\n",
    "matrix = df.corr()\n",
    "matrix = matrix.unstack()"
   ]
  },
  {
   "cell_type": "code",
   "execution_count": 10,
   "id": "11620cad-7fc2-4d25-bd36-dbb50717dba8",
   "metadata": {},
   "outputs": [
    {
     "name": "stdout",
     "output_type": "stream",
     "text": [
      "96f83a237  7c080c111    0.879354\n",
      "           870bab627    0.879769\n",
      "71cebf11c  01b72b3dc    0.999410\n",
      "ea18d720e  bec7c48dd    0.924798\n",
      "69d8b4020  e9f57e5c6    0.875233\n",
      "                          ...   \n",
      "71b203550  eca6cc5fd    0.934199\n",
      "           defcc2c50    0.905020\n",
      "137efaa80  9da65044c    0.937314\n",
      "           48aa6d627    0.947183\n",
      "           6e738ec87    0.938691\n",
      "Length: 1658, dtype: float64\n"
     ]
    }
   ],
   "source": [
    "matrix = matrix[(abs(matrix) >= 0.85) & (abs(matrix) < 1)]\n",
    "\n",
    "print(matrix)"
   ]
  }
 ],
 "metadata": {
  "kernelspec": {
   "display_name": "Python 3 (ipykernel)",
   "language": "python",
   "name": "python3"
  },
  "language_info": {
   "codemirror_mode": {
    "name": "ipython",
    "version": 3
   },
   "file_extension": ".py",
   "mimetype": "text/x-python",
   "name": "python",
   "nbconvert_exporter": "python",
   "pygments_lexer": "ipython3",
   "version": "3.7.11"
  }
 },
 "nbformat": 4,
 "nbformat_minor": 5
}
