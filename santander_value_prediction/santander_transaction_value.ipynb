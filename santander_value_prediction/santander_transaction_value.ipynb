{
 "cells": [
  {
   "cell_type": "markdown",
   "id": "495a3a97-173b-415c-b0a6-8e7dfe839127",
   "metadata": {},
   "source": [
    "# Transaction Value Prediction\n",
    "In this notebook, we will tackle the challenge presented by Santander Group in terms of predicting \"the value of transactions for each potential customer\". In other words, the rgoup would provide an an anonymized dataset (for security purpose) to attain this objective. In essence, this presents a regression problem which we shall resolve using different machine learning techniques.\n",
    "\n",
    "# Table of Contents\n",
    "1. Environment set-up\n",
    "    * Importing Libraries\n",
    "    * Loading the data\n",
    "2. Initial Diagnostics\n",
    "    * Glimpse\n",
    "    * Descriptive Statitics\n",
    "    * Target Variable Analysis\n",
    "3. Data Cleaning\n",
    "    * Missing Values\n",
    "    * Outliers\n",
    "    * Duplicate Observations\n",
    "4. Correlation Analysis\n",
    "5. Machine Learning set-up\n",
    "    * Feature Scaling\n",
    "    * Train-test split\n",
    "6. Machine Learning - Ensemble Methods\n",
    "    * Random Forest Regressor\n",
    "    * XGBoostRegressor\n",
    "7. Hyperparameter Tuning\n",
    "8. Model Performance Evaluation\n",
    "9. Final Submission"
   ]
  },
  {
   "cell_type": "markdown",
   "id": "71cd164c-5ab9-4e14-9302-f17dd0619ca0",
   "metadata": {},
   "source": [
    "# 1. Environment set-up"
   ]
  },
  {
   "cell_type": "code",
   "execution_count": 1,
   "id": "e280ade8-bed7-4ad2-a9f3-0e6d3111aecc",
   "metadata": {},
   "outputs": [],
   "source": [
    "## Importing Libraries\n",
    "\n",
    "#Set seed\n",
    "import random\n",
    "random.seed(69)\n",
    "\n",
    "# Manipulating & Visualizing Data\n",
    "import pandas as pd\n",
    "import numpy as np\n",
    "from collections import Counter\n",
    "import matplotlib.pyplot as plt\n",
    "import seaborn as sns\n",
    "sns.set(rc={'figure.figsize':(12, 8)})\n",
    "\n",
    "# Machine Learning set-up\n",
    "from sklearn import preprocessing\n",
    "from sklearn.model_selection import train_test_split\n",
    "from sklearn.model_selection import cross_val_score, KFold\n",
    "\n",
    "# Cross Validation\n",
    "from sklearn.model_selection import  KFold\n",
    "\n",
    "# Ensemble Learning\n",
    "from sklearn.ensemble import RandomForestRegressor\n",
    "from sklearn.ensemble import GradientBoostingRegressor\n",
    "\n",
    "# Hyperparameter Tuning\n",
    "from sklearn.model_selection import GridSearchCV\n",
    "from sklearn.model_selection import RandomizedSearchCV\n",
    "\n",
    "# Performance metrics\n",
    "import sklearn.metrics as skm"
   ]
  },
  {
   "cell_type": "code",
   "execution_count": 2,
   "id": "919e3645-8ff5-4548-b1eb-73573ac441d6",
   "metadata": {},
   "outputs": [
    {
     "data": {
      "text/html": [
       "<div>\n",
       "<style scoped>\n",
       "    .dataframe tbody tr th:only-of-type {\n",
       "        vertical-align: middle;\n",
       "    }\n",
       "\n",
       "    .dataframe tbody tr th {\n",
       "        vertical-align: top;\n",
       "    }\n",
       "\n",
       "    .dataframe thead th {\n",
       "        text-align: right;\n",
       "    }\n",
       "</style>\n",
       "<table border=\"1\" class=\"dataframe\">\n",
       "  <thead>\n",
       "    <tr style=\"text-align: right;\">\n",
       "      <th></th>\n",
       "      <th>target</th>\n",
       "      <th>48df886f9</th>\n",
       "      <th>0deb4b6a8</th>\n",
       "      <th>34b15f335</th>\n",
       "      <th>a8cb14b00</th>\n",
       "      <th>2f0771a37</th>\n",
       "      <th>30347e683</th>\n",
       "      <th>d08d1fbe3</th>\n",
       "      <th>6ee66e115</th>\n",
       "      <th>20aa07010</th>\n",
       "      <th>...</th>\n",
       "      <th>3ecc09859</th>\n",
       "      <th>9281abeea</th>\n",
       "      <th>8675bec0b</th>\n",
       "      <th>3a13ed79a</th>\n",
       "      <th>f677d4d13</th>\n",
       "      <th>71b203550</th>\n",
       "      <th>137efaa80</th>\n",
       "      <th>fb36b89d9</th>\n",
       "      <th>7e293fbaf</th>\n",
       "      <th>9fc776466</th>\n",
       "    </tr>\n",
       "  </thead>\n",
       "  <tbody>\n",
       "    <tr>\n",
       "      <th>0</th>\n",
       "      <td>38000000.0</td>\n",
       "      <td>0.0</td>\n",
       "      <td>0</td>\n",
       "      <td>0.0</td>\n",
       "      <td>0</td>\n",
       "      <td>0</td>\n",
       "      <td>0</td>\n",
       "      <td>0</td>\n",
       "      <td>0</td>\n",
       "      <td>0.0</td>\n",
       "      <td>...</td>\n",
       "      <td>0.0</td>\n",
       "      <td>0.0</td>\n",
       "      <td>0.0</td>\n",
       "      <td>0</td>\n",
       "      <td>0</td>\n",
       "      <td>0</td>\n",
       "      <td>0</td>\n",
       "      <td>0</td>\n",
       "      <td>0</td>\n",
       "      <td>0</td>\n",
       "    </tr>\n",
       "    <tr>\n",
       "      <th>1</th>\n",
       "      <td>600000.0</td>\n",
       "      <td>0.0</td>\n",
       "      <td>0</td>\n",
       "      <td>0.0</td>\n",
       "      <td>0</td>\n",
       "      <td>0</td>\n",
       "      <td>0</td>\n",
       "      <td>0</td>\n",
       "      <td>0</td>\n",
       "      <td>2200000.0</td>\n",
       "      <td>...</td>\n",
       "      <td>0.0</td>\n",
       "      <td>0.0</td>\n",
       "      <td>0.0</td>\n",
       "      <td>0</td>\n",
       "      <td>0</td>\n",
       "      <td>0</td>\n",
       "      <td>0</td>\n",
       "      <td>0</td>\n",
       "      <td>0</td>\n",
       "      <td>0</td>\n",
       "    </tr>\n",
       "    <tr>\n",
       "      <th>2</th>\n",
       "      <td>10000000.0</td>\n",
       "      <td>0.0</td>\n",
       "      <td>0</td>\n",
       "      <td>0.0</td>\n",
       "      <td>0</td>\n",
       "      <td>0</td>\n",
       "      <td>0</td>\n",
       "      <td>0</td>\n",
       "      <td>0</td>\n",
       "      <td>0.0</td>\n",
       "      <td>...</td>\n",
       "      <td>0.0</td>\n",
       "      <td>0.0</td>\n",
       "      <td>0.0</td>\n",
       "      <td>0</td>\n",
       "      <td>0</td>\n",
       "      <td>0</td>\n",
       "      <td>0</td>\n",
       "      <td>0</td>\n",
       "      <td>0</td>\n",
       "      <td>0</td>\n",
       "    </tr>\n",
       "    <tr>\n",
       "      <th>3</th>\n",
       "      <td>2000000.0</td>\n",
       "      <td>0.0</td>\n",
       "      <td>0</td>\n",
       "      <td>0.0</td>\n",
       "      <td>0</td>\n",
       "      <td>0</td>\n",
       "      <td>0</td>\n",
       "      <td>0</td>\n",
       "      <td>0</td>\n",
       "      <td>0.0</td>\n",
       "      <td>...</td>\n",
       "      <td>0.0</td>\n",
       "      <td>0.0</td>\n",
       "      <td>0.0</td>\n",
       "      <td>0</td>\n",
       "      <td>0</td>\n",
       "      <td>0</td>\n",
       "      <td>0</td>\n",
       "      <td>0</td>\n",
       "      <td>0</td>\n",
       "      <td>0</td>\n",
       "    </tr>\n",
       "    <tr>\n",
       "      <th>4</th>\n",
       "      <td>14400000.0</td>\n",
       "      <td>0.0</td>\n",
       "      <td>0</td>\n",
       "      <td>0.0</td>\n",
       "      <td>0</td>\n",
       "      <td>0</td>\n",
       "      <td>0</td>\n",
       "      <td>0</td>\n",
       "      <td>0</td>\n",
       "      <td>2000000.0</td>\n",
       "      <td>...</td>\n",
       "      <td>0.0</td>\n",
       "      <td>0.0</td>\n",
       "      <td>0.0</td>\n",
       "      <td>0</td>\n",
       "      <td>0</td>\n",
       "      <td>0</td>\n",
       "      <td>0</td>\n",
       "      <td>0</td>\n",
       "      <td>0</td>\n",
       "      <td>0</td>\n",
       "    </tr>\n",
       "    <tr>\n",
       "      <th>5</th>\n",
       "      <td>2800000.0</td>\n",
       "      <td>0.0</td>\n",
       "      <td>0</td>\n",
       "      <td>0.0</td>\n",
       "      <td>0</td>\n",
       "      <td>0</td>\n",
       "      <td>0</td>\n",
       "      <td>0</td>\n",
       "      <td>0</td>\n",
       "      <td>17020000.0</td>\n",
       "      <td>...</td>\n",
       "      <td>12000.0</td>\n",
       "      <td>5600000.0</td>\n",
       "      <td>20000000.0</td>\n",
       "      <td>0</td>\n",
       "      <td>0</td>\n",
       "      <td>0</td>\n",
       "      <td>0</td>\n",
       "      <td>0</td>\n",
       "      <td>0</td>\n",
       "      <td>11000</td>\n",
       "    </tr>\n",
       "    <tr>\n",
       "      <th>6</th>\n",
       "      <td>164000.0</td>\n",
       "      <td>0.0</td>\n",
       "      <td>0</td>\n",
       "      <td>0.0</td>\n",
       "      <td>0</td>\n",
       "      <td>0</td>\n",
       "      <td>0</td>\n",
       "      <td>0</td>\n",
       "      <td>0</td>\n",
       "      <td>0.0</td>\n",
       "      <td>...</td>\n",
       "      <td>0.0</td>\n",
       "      <td>0.0</td>\n",
       "      <td>0.0</td>\n",
       "      <td>0</td>\n",
       "      <td>0</td>\n",
       "      <td>0</td>\n",
       "      <td>40000</td>\n",
       "      <td>0</td>\n",
       "      <td>0</td>\n",
       "      <td>0</td>\n",
       "    </tr>\n",
       "    <tr>\n",
       "      <th>7</th>\n",
       "      <td>600000.0</td>\n",
       "      <td>0.0</td>\n",
       "      <td>0</td>\n",
       "      <td>0.0</td>\n",
       "      <td>0</td>\n",
       "      <td>0</td>\n",
       "      <td>0</td>\n",
       "      <td>0</td>\n",
       "      <td>0</td>\n",
       "      <td>0.0</td>\n",
       "      <td>...</td>\n",
       "      <td>0.0</td>\n",
       "      <td>0.0</td>\n",
       "      <td>0.0</td>\n",
       "      <td>0</td>\n",
       "      <td>0</td>\n",
       "      <td>0</td>\n",
       "      <td>0</td>\n",
       "      <td>0</td>\n",
       "      <td>0</td>\n",
       "      <td>0</td>\n",
       "    </tr>\n",
       "    <tr>\n",
       "      <th>8</th>\n",
       "      <td>979000.0</td>\n",
       "      <td>0.0</td>\n",
       "      <td>0</td>\n",
       "      <td>0.0</td>\n",
       "      <td>0</td>\n",
       "      <td>0</td>\n",
       "      <td>0</td>\n",
       "      <td>0</td>\n",
       "      <td>0</td>\n",
       "      <td>58000.0</td>\n",
       "      <td>...</td>\n",
       "      <td>0.0</td>\n",
       "      <td>0.0</td>\n",
       "      <td>4000000.0</td>\n",
       "      <td>0</td>\n",
       "      <td>0</td>\n",
       "      <td>0</td>\n",
       "      <td>0</td>\n",
       "      <td>0</td>\n",
       "      <td>0</td>\n",
       "      <td>0</td>\n",
       "    </tr>\n",
       "    <tr>\n",
       "      <th>9</th>\n",
       "      <td>460000.0</td>\n",
       "      <td>0.0</td>\n",
       "      <td>0</td>\n",
       "      <td>0.0</td>\n",
       "      <td>0</td>\n",
       "      <td>0</td>\n",
       "      <td>0</td>\n",
       "      <td>0</td>\n",
       "      <td>0</td>\n",
       "      <td>0.0</td>\n",
       "      <td>...</td>\n",
       "      <td>0.0</td>\n",
       "      <td>0.0</td>\n",
       "      <td>0.0</td>\n",
       "      <td>0</td>\n",
       "      <td>0</td>\n",
       "      <td>0</td>\n",
       "      <td>0</td>\n",
       "      <td>0</td>\n",
       "      <td>0</td>\n",
       "      <td>400000</td>\n",
       "    </tr>\n",
       "  </tbody>\n",
       "</table>\n",
       "<p>10 rows × 4992 columns</p>\n",
       "</div>"
      ],
      "text/plain": [
       "       target  48df886f9  0deb4b6a8  34b15f335  a8cb14b00  2f0771a37  \\\n",
       "0  38000000.0        0.0          0        0.0          0          0   \n",
       "1    600000.0        0.0          0        0.0          0          0   \n",
       "2  10000000.0        0.0          0        0.0          0          0   \n",
       "3   2000000.0        0.0          0        0.0          0          0   \n",
       "4  14400000.0        0.0          0        0.0          0          0   \n",
       "5   2800000.0        0.0          0        0.0          0          0   \n",
       "6    164000.0        0.0          0        0.0          0          0   \n",
       "7    600000.0        0.0          0        0.0          0          0   \n",
       "8    979000.0        0.0          0        0.0          0          0   \n",
       "9    460000.0        0.0          0        0.0          0          0   \n",
       "\n",
       "   30347e683  d08d1fbe3  6ee66e115   20aa07010  ...  3ecc09859  9281abeea  \\\n",
       "0          0          0          0         0.0  ...        0.0        0.0   \n",
       "1          0          0          0   2200000.0  ...        0.0        0.0   \n",
       "2          0          0          0         0.0  ...        0.0        0.0   \n",
       "3          0          0          0         0.0  ...        0.0        0.0   \n",
       "4          0          0          0   2000000.0  ...        0.0        0.0   \n",
       "5          0          0          0  17020000.0  ...    12000.0  5600000.0   \n",
       "6          0          0          0         0.0  ...        0.0        0.0   \n",
       "7          0          0          0         0.0  ...        0.0        0.0   \n",
       "8          0          0          0     58000.0  ...        0.0        0.0   \n",
       "9          0          0          0         0.0  ...        0.0        0.0   \n",
       "\n",
       "    8675bec0b  3a13ed79a  f677d4d13  71b203550  137efaa80  fb36b89d9  \\\n",
       "0         0.0          0          0          0          0          0   \n",
       "1         0.0          0          0          0          0          0   \n",
       "2         0.0          0          0          0          0          0   \n",
       "3         0.0          0          0          0          0          0   \n",
       "4         0.0          0          0          0          0          0   \n",
       "5  20000000.0          0          0          0          0          0   \n",
       "6         0.0          0          0          0      40000          0   \n",
       "7         0.0          0          0          0          0          0   \n",
       "8   4000000.0          0          0          0          0          0   \n",
       "9         0.0          0          0          0          0          0   \n",
       "\n",
       "   7e293fbaf  9fc776466  \n",
       "0          0          0  \n",
       "1          0          0  \n",
       "2          0          0  \n",
       "3          0          0  \n",
       "4          0          0  \n",
       "5          0      11000  \n",
       "6          0          0  \n",
       "7          0          0  \n",
       "8          0          0  \n",
       "9          0     400000  \n",
       "\n",
       "[10 rows x 4992 columns]"
      ]
     },
     "execution_count": 2,
     "metadata": {},
     "output_type": "execute_result"
    }
   ],
   "source": [
    "## Loading the dataset\n",
    "df = pd.read_csv(r\"C:\\Users\\Akoua Orsot\\Desktop\\ds_projects_data\\santander_transaction_value\\train.csv\")\n",
    "\n",
    "#Removing the unnecessary ID column\n",
    "df.drop(\"ID\", axis=1, inplace=True)\n",
    "df.head(10)"
   ]
  },
  {
   "cell_type": "markdown",
   "id": "8f9f448f-e2ee-40fd-9e6e-f5e6379b1d5b",
   "metadata": {},
   "source": [
    "# 2. Initial Diagnostics"
   ]
  },
  {
   "cell_type": "code",
   "execution_count": 3,
   "id": "7bcd6b3f-6176-4029-af86-0b10d18efcdb",
   "metadata": {},
   "outputs": [
    {
     "name": "stdout",
     "output_type": "stream",
     "text": [
      "<class 'pandas.core.frame.DataFrame'>\n",
      "RangeIndex: 4459 entries, 0 to 4458\n",
      "Columns: 4992 entries, target to 9fc776466\n",
      "dtypes: float64(1845), int64(3147)\n",
      "memory usage: 169.8 MB\n"
     ]
    }
   ],
   "source": [
    "## Glimpse of the data\n",
    "df.info()"
   ]
  },
  {
   "cell_type": "code",
   "execution_count": 4,
   "id": "8f5879c3-aa22-466d-bf97-d75545bc325a",
   "metadata": {},
   "outputs": [
    {
     "data": {
      "text/html": [
       "<div>\n",
       "<style scoped>\n",
       "    .dataframe tbody tr th:only-of-type {\n",
       "        vertical-align: middle;\n",
       "    }\n",
       "\n",
       "    .dataframe tbody tr th {\n",
       "        vertical-align: top;\n",
       "    }\n",
       "\n",
       "    .dataframe thead th {\n",
       "        text-align: right;\n",
       "    }\n",
       "</style>\n",
       "<table border=\"1\" class=\"dataframe\">\n",
       "  <thead>\n",
       "    <tr style=\"text-align: right;\">\n",
       "      <th></th>\n",
       "      <th>target</th>\n",
       "      <th>48df886f9</th>\n",
       "      <th>0deb4b6a8</th>\n",
       "      <th>34b15f335</th>\n",
       "      <th>a8cb14b00</th>\n",
       "      <th>2f0771a37</th>\n",
       "      <th>30347e683</th>\n",
       "      <th>d08d1fbe3</th>\n",
       "      <th>6ee66e115</th>\n",
       "      <th>20aa07010</th>\n",
       "      <th>...</th>\n",
       "      <th>3ecc09859</th>\n",
       "      <th>9281abeea</th>\n",
       "      <th>8675bec0b</th>\n",
       "      <th>3a13ed79a</th>\n",
       "      <th>f677d4d13</th>\n",
       "      <th>71b203550</th>\n",
       "      <th>137efaa80</th>\n",
       "      <th>fb36b89d9</th>\n",
       "      <th>7e293fbaf</th>\n",
       "      <th>9fc776466</th>\n",
       "    </tr>\n",
       "  </thead>\n",
       "  <tbody>\n",
       "    <tr>\n",
       "      <th>count</th>\n",
       "      <td>4.459000e+03</td>\n",
       "      <td>4.459000e+03</td>\n",
       "      <td>4.459000e+03</td>\n",
       "      <td>4.459000e+03</td>\n",
       "      <td>4.459000e+03</td>\n",
       "      <td>4.459000e+03</td>\n",
       "      <td>4.459000e+03</td>\n",
       "      <td>4.459000e+03</td>\n",
       "      <td>4.459000e+03</td>\n",
       "      <td>4.459000e+03</td>\n",
       "      <td>...</td>\n",
       "      <td>4.459000e+03</td>\n",
       "      <td>4.459000e+03</td>\n",
       "      <td>4.459000e+03</td>\n",
       "      <td>4.459000e+03</td>\n",
       "      <td>4459.000000</td>\n",
       "      <td>4.459000e+03</td>\n",
       "      <td>4.459000e+03</td>\n",
       "      <td>4.459000e+03</td>\n",
       "      <td>4.459000e+03</td>\n",
       "      <td>4.459000e+03</td>\n",
       "    </tr>\n",
       "    <tr>\n",
       "      <th>mean</th>\n",
       "      <td>5.944923e+06</td>\n",
       "      <td>1.465493e+04</td>\n",
       "      <td>1.390895e+03</td>\n",
       "      <td>2.672245e+04</td>\n",
       "      <td>4.530164e+03</td>\n",
       "      <td>2.640996e+04</td>\n",
       "      <td>3.070811e+04</td>\n",
       "      <td>1.686522e+04</td>\n",
       "      <td>4.669208e+03</td>\n",
       "      <td>2.569407e+06</td>\n",
       "      <td>...</td>\n",
       "      <td>4.676057e+05</td>\n",
       "      <td>4.446239e+05</td>\n",
       "      <td>8.056219e+05</td>\n",
       "      <td>7.812966e+05</td>\n",
       "      <td>143.529939</td>\n",
       "      <td>1.213809e+05</td>\n",
       "      <td>3.573451e+04</td>\n",
       "      <td>3.123741e+05</td>\n",
       "      <td>9.219960e+04</td>\n",
       "      <td>2.279100e+05</td>\n",
       "    </tr>\n",
       "    <tr>\n",
       "      <th>std</th>\n",
       "      <td>8.234312e+06</td>\n",
       "      <td>3.893298e+05</td>\n",
       "      <td>6.428302e+04</td>\n",
       "      <td>5.699652e+05</td>\n",
       "      <td>2.359124e+05</td>\n",
       "      <td>1.514730e+06</td>\n",
       "      <td>5.770590e+05</td>\n",
       "      <td>7.512756e+05</td>\n",
       "      <td>1.879449e+05</td>\n",
       "      <td>9.610183e+06</td>\n",
       "      <td>...</td>\n",
       "      <td>4.068038e+06</td>\n",
       "      <td>4.428889e+06</td>\n",
       "      <td>4.513246e+06</td>\n",
       "      <td>6.839451e+06</td>\n",
       "      <td>9584.318507</td>\n",
       "      <td>4.720709e+06</td>\n",
       "      <td>1.614622e+06</td>\n",
       "      <td>4.318501e+06</td>\n",
       "      <td>1.635993e+06</td>\n",
       "      <td>1.811139e+06</td>\n",
       "    </tr>\n",
       "    <tr>\n",
       "      <th>min</th>\n",
       "      <td>3.000000e+04</td>\n",
       "      <td>0.000000e+00</td>\n",
       "      <td>0.000000e+00</td>\n",
       "      <td>0.000000e+00</td>\n",
       "      <td>0.000000e+00</td>\n",
       "      <td>0.000000e+00</td>\n",
       "      <td>0.000000e+00</td>\n",
       "      <td>0.000000e+00</td>\n",
       "      <td>0.000000e+00</td>\n",
       "      <td>0.000000e+00</td>\n",
       "      <td>...</td>\n",
       "      <td>0.000000e+00</td>\n",
       "      <td>0.000000e+00</td>\n",
       "      <td>0.000000e+00</td>\n",
       "      <td>0.000000e+00</td>\n",
       "      <td>0.000000</td>\n",
       "      <td>0.000000e+00</td>\n",
       "      <td>0.000000e+00</td>\n",
       "      <td>0.000000e+00</td>\n",
       "      <td>0.000000e+00</td>\n",
       "      <td>0.000000e+00</td>\n",
       "    </tr>\n",
       "    <tr>\n",
       "      <th>25%</th>\n",
       "      <td>6.000000e+05</td>\n",
       "      <td>0.000000e+00</td>\n",
       "      <td>0.000000e+00</td>\n",
       "      <td>0.000000e+00</td>\n",
       "      <td>0.000000e+00</td>\n",
       "      <td>0.000000e+00</td>\n",
       "      <td>0.000000e+00</td>\n",
       "      <td>0.000000e+00</td>\n",
       "      <td>0.000000e+00</td>\n",
       "      <td>0.000000e+00</td>\n",
       "      <td>...</td>\n",
       "      <td>0.000000e+00</td>\n",
       "      <td>0.000000e+00</td>\n",
       "      <td>0.000000e+00</td>\n",
       "      <td>0.000000e+00</td>\n",
       "      <td>0.000000</td>\n",
       "      <td>0.000000e+00</td>\n",
       "      <td>0.000000e+00</td>\n",
       "      <td>0.000000e+00</td>\n",
       "      <td>0.000000e+00</td>\n",
       "      <td>0.000000e+00</td>\n",
       "    </tr>\n",
       "    <tr>\n",
       "      <th>50%</th>\n",
       "      <td>2.260000e+06</td>\n",
       "      <td>0.000000e+00</td>\n",
       "      <td>0.000000e+00</td>\n",
       "      <td>0.000000e+00</td>\n",
       "      <td>0.000000e+00</td>\n",
       "      <td>0.000000e+00</td>\n",
       "      <td>0.000000e+00</td>\n",
       "      <td>0.000000e+00</td>\n",
       "      <td>0.000000e+00</td>\n",
       "      <td>0.000000e+00</td>\n",
       "      <td>...</td>\n",
       "      <td>0.000000e+00</td>\n",
       "      <td>0.000000e+00</td>\n",
       "      <td>0.000000e+00</td>\n",
       "      <td>0.000000e+00</td>\n",
       "      <td>0.000000</td>\n",
       "      <td>0.000000e+00</td>\n",
       "      <td>0.000000e+00</td>\n",
       "      <td>0.000000e+00</td>\n",
       "      <td>0.000000e+00</td>\n",
       "      <td>0.000000e+00</td>\n",
       "    </tr>\n",
       "    <tr>\n",
       "      <th>75%</th>\n",
       "      <td>8.000000e+06</td>\n",
       "      <td>0.000000e+00</td>\n",
       "      <td>0.000000e+00</td>\n",
       "      <td>0.000000e+00</td>\n",
       "      <td>0.000000e+00</td>\n",
       "      <td>0.000000e+00</td>\n",
       "      <td>0.000000e+00</td>\n",
       "      <td>0.000000e+00</td>\n",
       "      <td>0.000000e+00</td>\n",
       "      <td>6.000000e+05</td>\n",
       "      <td>...</td>\n",
       "      <td>0.000000e+00</td>\n",
       "      <td>0.000000e+00</td>\n",
       "      <td>0.000000e+00</td>\n",
       "      <td>0.000000e+00</td>\n",
       "      <td>0.000000</td>\n",
       "      <td>0.000000e+00</td>\n",
       "      <td>0.000000e+00</td>\n",
       "      <td>0.000000e+00</td>\n",
       "      <td>0.000000e+00</td>\n",
       "      <td>0.000000e+00</td>\n",
       "    </tr>\n",
       "    <tr>\n",
       "      <th>max</th>\n",
       "      <td>4.000000e+07</td>\n",
       "      <td>2.000000e+07</td>\n",
       "      <td>4.000000e+06</td>\n",
       "      <td>2.000000e+07</td>\n",
       "      <td>1.480000e+07</td>\n",
       "      <td>1.000000e+08</td>\n",
       "      <td>2.070800e+07</td>\n",
       "      <td>4.000000e+07</td>\n",
       "      <td>1.040000e+07</td>\n",
       "      <td>3.196120e+08</td>\n",
       "      <td>...</td>\n",
       "      <td>7.600000e+07</td>\n",
       "      <td>1.235880e+08</td>\n",
       "      <td>1.300000e+08</td>\n",
       "      <td>1.444000e+08</td>\n",
       "      <td>640000.000000</td>\n",
       "      <td>3.013120e+08</td>\n",
       "      <td>1.064200e+08</td>\n",
       "      <td>1.400000e+08</td>\n",
       "      <td>6.176800e+07</td>\n",
       "      <td>4.320000e+07</td>\n",
       "    </tr>\n",
       "  </tbody>\n",
       "</table>\n",
       "<p>8 rows × 4992 columns</p>\n",
       "</div>"
      ],
      "text/plain": [
       "             target     48df886f9     0deb4b6a8     34b15f335     a8cb14b00  \\\n",
       "count  4.459000e+03  4.459000e+03  4.459000e+03  4.459000e+03  4.459000e+03   \n",
       "mean   5.944923e+06  1.465493e+04  1.390895e+03  2.672245e+04  4.530164e+03   \n",
       "std    8.234312e+06  3.893298e+05  6.428302e+04  5.699652e+05  2.359124e+05   \n",
       "min    3.000000e+04  0.000000e+00  0.000000e+00  0.000000e+00  0.000000e+00   \n",
       "25%    6.000000e+05  0.000000e+00  0.000000e+00  0.000000e+00  0.000000e+00   \n",
       "50%    2.260000e+06  0.000000e+00  0.000000e+00  0.000000e+00  0.000000e+00   \n",
       "75%    8.000000e+06  0.000000e+00  0.000000e+00  0.000000e+00  0.000000e+00   \n",
       "max    4.000000e+07  2.000000e+07  4.000000e+06  2.000000e+07  1.480000e+07   \n",
       "\n",
       "          2f0771a37     30347e683     d08d1fbe3     6ee66e115     20aa07010  \\\n",
       "count  4.459000e+03  4.459000e+03  4.459000e+03  4.459000e+03  4.459000e+03   \n",
       "mean   2.640996e+04  3.070811e+04  1.686522e+04  4.669208e+03  2.569407e+06   \n",
       "std    1.514730e+06  5.770590e+05  7.512756e+05  1.879449e+05  9.610183e+06   \n",
       "min    0.000000e+00  0.000000e+00  0.000000e+00  0.000000e+00  0.000000e+00   \n",
       "25%    0.000000e+00  0.000000e+00  0.000000e+00  0.000000e+00  0.000000e+00   \n",
       "50%    0.000000e+00  0.000000e+00  0.000000e+00  0.000000e+00  0.000000e+00   \n",
       "75%    0.000000e+00  0.000000e+00  0.000000e+00  0.000000e+00  6.000000e+05   \n",
       "max    1.000000e+08  2.070800e+07  4.000000e+07  1.040000e+07  3.196120e+08   \n",
       "\n",
       "       ...     3ecc09859     9281abeea     8675bec0b     3a13ed79a  \\\n",
       "count  ...  4.459000e+03  4.459000e+03  4.459000e+03  4.459000e+03   \n",
       "mean   ...  4.676057e+05  4.446239e+05  8.056219e+05  7.812966e+05   \n",
       "std    ...  4.068038e+06  4.428889e+06  4.513246e+06  6.839451e+06   \n",
       "min    ...  0.000000e+00  0.000000e+00  0.000000e+00  0.000000e+00   \n",
       "25%    ...  0.000000e+00  0.000000e+00  0.000000e+00  0.000000e+00   \n",
       "50%    ...  0.000000e+00  0.000000e+00  0.000000e+00  0.000000e+00   \n",
       "75%    ...  0.000000e+00  0.000000e+00  0.000000e+00  0.000000e+00   \n",
       "max    ...  7.600000e+07  1.235880e+08  1.300000e+08  1.444000e+08   \n",
       "\n",
       "           f677d4d13     71b203550     137efaa80     fb36b89d9     7e293fbaf  \\\n",
       "count    4459.000000  4.459000e+03  4.459000e+03  4.459000e+03  4.459000e+03   \n",
       "mean      143.529939  1.213809e+05  3.573451e+04  3.123741e+05  9.219960e+04   \n",
       "std      9584.318507  4.720709e+06  1.614622e+06  4.318501e+06  1.635993e+06   \n",
       "min         0.000000  0.000000e+00  0.000000e+00  0.000000e+00  0.000000e+00   \n",
       "25%         0.000000  0.000000e+00  0.000000e+00  0.000000e+00  0.000000e+00   \n",
       "50%         0.000000  0.000000e+00  0.000000e+00  0.000000e+00  0.000000e+00   \n",
       "75%         0.000000  0.000000e+00  0.000000e+00  0.000000e+00  0.000000e+00   \n",
       "max    640000.000000  3.013120e+08  1.064200e+08  1.400000e+08  6.176800e+07   \n",
       "\n",
       "          9fc776466  \n",
       "count  4.459000e+03  \n",
       "mean   2.279100e+05  \n",
       "std    1.811139e+06  \n",
       "min    0.000000e+00  \n",
       "25%    0.000000e+00  \n",
       "50%    0.000000e+00  \n",
       "75%    0.000000e+00  \n",
       "max    4.320000e+07  \n",
       "\n",
       "[8 rows x 4992 columns]"
      ]
     },
     "execution_count": 4,
     "metadata": {},
     "output_type": "execute_result"
    }
   ],
   "source": [
    "## Descriptive Statistics\n",
    "df.describe()"
   ]
  },
  {
   "cell_type": "markdown",
   "id": "c3c3f10f-68bb-4b44-86eb-11dbcdc91675",
   "metadata": {},
   "source": [
    "**Note:** The histogram below shows a right-skewed distribution indicating that most transactions are on the lower end. It remains consistent given that banking transaction for x person (on average) is relatively modest, with some expectations on the upper tail as shown with the outliers on the boxplot below.  "
   ]
  },
  {
   "cell_type": "code",
   "execution_count": 5,
   "id": "00573861-7171-4968-af23-cb3283ef0d76",
   "metadata": {},
   "outputs": [
    {
     "data": {
      "image/png": "[encoded data removed]",
      "text/plain": [
       "<Figure size 864x576 with 1 Axes>"
      ]
     },
     "metadata": {},
     "output_type": "display_data"
    }
   ],
   "source": [
    "## Target Variable Analysis\n",
    "sns.histplot(data=df, x='target', stat='frequency')\n",
    "plt.title(\"Transaction Value Distribution\")\n",
    "plt.xlabel(\"Value ($)\")\n",
    "plt.show()"
   ]
  },
  {
   "cell_type": "markdown",
   "id": "e80fce68-9538-42d2-98e7-da3191d8e354",
   "metadata": {},
   "source": [
    "**Note:** As noted in the introduction, we have an anonymized dataset with all predictors standardized. Thus, we would have minimal insights in exploring them individually. "
   ]
  },
  {
   "cell_type": "markdown",
   "id": "42a67de9-7389-48f5-aa31-67b919529db8",
   "metadata": {},
   "source": [
    "# 3. Data Cleaning"
   ]
  },
  {
   "cell_type": "code",
   "execution_count": 6,
   "id": "f4b899e5-d0d4-4829-94ed-591800db9903",
   "metadata": {},
   "outputs": [
    {
     "data": {
      "text/plain": [
       "0"
      ]
     },
     "execution_count": 6,
     "metadata": {},
     "output_type": "execute_result"
    }
   ],
   "source": [
    "# Missing Values\n",
    "df.isna().sum().sum()"
   ]
  },
  {
   "cell_type": "markdown",
   "id": "89a89baa-ea45-4a23-83ae-3102434b3f9f",
   "metadata": {},
   "source": [
    "**Takeaway:** With the data already formatted and standardized, we expect no null values."
   ]
  },
  {
   "cell_type": "code",
   "execution_count": 7,
   "id": "97823951-7434-4688-bb7e-c7d958be18e6",
   "metadata": {},
   "outputs": [
    {
     "data": {
      "image/png": "[encoded data removed]",
      "text/plain": [
       "<Figure size 864x576 with 1 Axes>"
      ]
     },
     "metadata": {},
     "output_type": "display_data"
    }
   ],
   "source": [
    "## Outliers\n",
    "sns.boxplot(data=df, x='target')\n",
    "plt.title(\"Transaction Value Boxplot\")\n",
    "plt.xlabel(\"Value ($)\")\n",
    "plt.show()"
   ]
  },
  {
   "cell_type": "markdown",
   "id": "47bb53be-3e46-4d36-8508-d11e17a1ce0b",
   "metadata": {},
   "source": [
    "**Takeaway:** From the box plot above, We have already determined some outliers. However, we will not exclude them but use other techniques instead to ensure robust results from the machine learning predictions."
   ]
  },
  {
   "cell_type": "code",
   "execution_count": 8,
   "id": "dd40f915-a8cb-46c8-800e-43fe473a30cf",
   "metadata": {},
   "outputs": [
    {
     "data": {
      "text/plain": [
       "False    4459\n",
       "dtype: int64"
      ]
     },
     "execution_count": 8,
     "metadata": {},
     "output_type": "execute_result"
    }
   ],
   "source": [
    "# Duplicate Observations\n",
    "df.duplicated().value_counts()"
   ]
  },
  {
   "cell_type": "markdown",
   "id": "d8a95b30-ce7d-43e1-a109-20285d02bf2b",
   "metadata": {},
   "source": [
    "**Takeaway:**  With no duplicate values, we may proceed without making any further changes."
   ]
  },
  {
   "cell_type": "code",
   "execution_count": 9,
   "id": "b3ad66d6-ac5d-4064-a22e-eddcd143d386",
   "metadata": {},
   "outputs": [
    {
     "data": {
      "text/plain": [
       "False"
      ]
     },
     "execution_count": 9,
     "metadata": {},
     "output_type": "execute_result"
    }
   ],
   "source": [
    "# Unsual Values\n",
    "(df['target'].values < 0).any()"
   ]
  },
  {
   "cell_type": "markdown",
   "id": "c352a2e5-2e31-4685-8575-e553b0e3c783",
   "metadata": {},
   "source": [
    "# 4. Correlation Analysis"
   ]
  },
  {
   "cell_type": "markdown",
   "id": "05239ba7-7392-4756-9a44-da61e2140559",
   "metadata": {},
   "source": [
    "**Takeaway:** Given that we have close to 5000 columns, it would be quite computationally intensive to display the entire correlation matrix and visualize it for user-friendly analysis. "
   ]
  },
  {
   "cell_type": "markdown",
   "id": "b2a0b9b4-2dc3-4e63-9f90-fc29f7ea10bf",
   "metadata": {},
   "source": [
    "# 5. Machine Learning set-up\n",
    "\n",
    "Under this section, we will explain the procedure of two main splitting approach to estimate our models' performance. "
   ]
  },
  {
   "cell_type": "code",
   "execution_count": 10,
   "id": "076fc97e-7c2e-4e03-81fa-86a5e6011619",
   "metadata": {},
   "outputs": [],
   "source": [
    "# Splitting features & target variable\n",
    "X = df.drop(['target'], axis=1).values\n",
    "y = df['target'].values"
   ]
  },
  {
   "cell_type": "markdown",
   "id": "b90bdb27-4569-4f1b-af6f-b4cd1c1989db",
   "metadata": {},
   "source": [
    "**Definition:** As we may imagine, variables come in different measurements like height in inches, weight in pounds, or dollar amount. To ensure a smooth run of our models, we will proceed with feature scaling by representing every value in the column based on a given reference. In our instance, we will use **StandardScaler** by subtracting from the mean and dividing by the standard deviation."
   ]
  },
  {
   "cell_type": "code",
   "execution_count": 11,
   "id": "83cae434-e012-49f6-a50e-d620d6821f9c",
   "metadata": {},
   "outputs": [],
   "source": [
    "# scaler = preprocessing.StandardScaler()\n",
    "# X = scaler.fit_transform(X)\n",
    "# X"
   ]
  },
  {
   "cell_type": "markdown",
   "id": "8e01b517-c188-44e5-9f06-78884f089cb1",
   "metadata": {},
   "source": [
    "**Definition:** Often denoted as the most popular by its simplicity, the train-test split is a sampling technique dividing the dataset between training and testing sets. In doing so, the goal would be to have enough (but not too much) in our training set used for the machine learning model to predict the observations in the testing set as accurately as possible. Most would opt for a 70/30 training-testing split, respectively, others 80/20, 60/40, or whichever else works best for the case scenario. Further information [here](https://machinelearningmastery.com/train-test-split-for-evaluating-machine-learning-algorithms/). "
   ]
  },
  {
   "cell_type": "code",
   "execution_count": 12,
   "id": "c4facc54-5799-4b50-8aac-113e62ac8a9a",
   "metadata": {},
   "outputs": [],
   "source": [
    "## Training Testing Split\n",
    "X_train, X_valid, y_train, y_valid = train_test_split(X, y, \n",
    "                                                    test_size=0.3, \n",
    "                                                    random_state=42)\n"
   ]
  },
  {
   "cell_type": "markdown",
   "id": "cd882dcb-d754-4a63-b6bb-0793a06f2a43",
   "metadata": {},
   "source": [
    "# 6. Machine Learning - Ensemble Methods\n",
    "\n",
    "This section will extend our work in machine learning to incorporate ensemble methods. We generated simple models and compared the scores, which appear satisfactory, with the lowest at 0.974 for the Average Precision Score. However, we may want more stability and minor variation in our predictive algorithm; it is where ensemble techniques come in. Most often, they act as a 'superposer' of multiple models throughout various ways and thus, bolster their predictive power. Further Information [here](https://machinelearningmastery.com/tour-of-ensemble-learning-algorithms/). "
   ]
  },
  {
   "cell_type": "code",
   "execution_count": 13,
   "id": "e87f4fec-cef4-4f36-990c-81958a922607",
   "metadata": {},
   "outputs": [],
   "source": [
    "# Dictionary to store ensemble model structures\n",
    "ensemble_models = dict()"
   ]
  },
  {
   "cell_type": "markdown",
   "id": "59c2f044-f7a8-42e8-a459-b7d3a0d4d6f6",
   "metadata": {},
   "source": [
    "**Definition:** Random Forest builds onto the logic of decision trees by agglomerating multiple trees and obtaining a given value prediction using averaging all output. Further information [here](https://towardsdatascience.com/understanding-random-forest-58381e0602d2)."
   ]
  },
  {
   "cell_type": "code",
   "execution_count": 14,
   "id": "3fe2dde1-129d-4a51-8f9e-496af90d3f23",
   "metadata": {},
   "outputs": [],
   "source": [
    "## Random Forest\n",
    "rf_reg = RandomForestRegressor(n_estimators=10)\n",
    "ensemble_models.update({'Random Forest Regressor':rf_reg})"
   ]
  },
  {
   "cell_type": "markdown",
   "id": "ff910c07-10ea-4aeb-8640-9acaf770e778",
   "metadata": {},
   "source": [
    "**Definition:** AdaBoostRegressor..."
   ]
  },
  {
   "cell_type": "code",
   "execution_count": 15,
   "id": "91a923dd-e4a5-4aee-998e-c16ba29d5509",
   "metadata": {},
   "outputs": [],
   "source": [
    "## AdaBoost\n",
    "ada_reg = GradientBoostingRegressor(n_estimators=10)\n",
    "ensemble_models.update({'AdaBoostRegressor': ada_reg})"
   ]
  },
  {
   "cell_type": "code",
   "execution_count": 16,
   "id": "0e82f1d5-1c33-4d4c-b070-f0012f0e0235",
   "metadata": {},
   "outputs": [
    {
     "data": {
      "text/plain": [
       "{'Random Forest Regressor': RandomForestRegressor(n_estimators=10),\n",
       " 'AdaBoostRegressor': AdaBoostRegressor(n_estimators=10)}"
      ]
     },
     "execution_count": 16,
     "metadata": {},
     "output_type": "execute_result"
    }
   ],
   "source": [
    "ensemble_models"
   ]
  },
  {
   "cell_type": "code",
   "execution_count": 17,
   "id": "bd8d4c94-1f22-4d2e-9f88-65d0f01802d5",
   "metadata": {},
   "outputs": [
    {
     "name": "stdout",
     "output_type": "stream",
     "text": [
      "Random Forest Regressor - RMSE: 3269543.41325 (68886.72087)\n",
      "AdaBoostRegressor - RMSE: 8528898.17912 (161358.96390)\n"
     ]
    }
   ],
   "source": [
    "# Model Building & performance evaluation\n",
    "kf = KFold(n_splits=3)\n",
    "kf.get_n_splits(X_train)\n",
    "\n",
    "for name, model in ensemble_models.items():\n",
    "    model_errs = []\n",
    "    for train_index, test_index in kf.split(X_train):\n",
    "        X_train_k = X_train[train_index] \n",
    "        y_train_k = y_train[train_index]\n",
    "        model.fit(X_train_k, y_train_k)\n",
    "        pred = model.predict(X_train_k)\n",
    "        nonneg_pred = np.clip(pred, df['target'].min(), df['target'].max())\n",
    "        rmse = skm.mean_squared_error(y_train_k, nonneg_pred, squared=False) \n",
    "        model_errs.append(rmse)\n",
    "        # report performance\n",
    "    print('{} - RMSE: {:.5f} ({:.5f})' .format(name, np.mean(model_errs), \n",
    "                                               np.std(model_errs)))"
   ]
  },
  {
   "cell_type": "markdown",
   "id": "fdcc4144-3f7a-48f7-9a01-12c19f8dd67c",
   "metadata": {},
   "source": [
    "**Takeaway:** Moving forward, we will perform hyperparameter tuning and evaluate the performance of the best model, that is the Random Forest Regressor."
   ]
  },
  {
   "cell_type": "code",
   "execution_count": 19,
   "id": "9d2ad6c9-75fc-487f-8828-c86e503b6ad3",
   "metadata": {},
   "outputs": [],
   "source": [
    "# model = RandomForestRegressor(n_estimators=100)\n",
    "# model.fit(X_train, y_train)\n",
    "# pred = model.predict(X_valid)\n",
    "# nonneg_pred = np.clip(pred, df['target'].min(), df['target'].max())\n",
    "# rmse = skm.mean_squared_error(y_valid, nonneg_pred, squared=False)\n",
    "# rmse"
   ]
  },
  {
   "cell_type": "markdown",
   "id": "8fa688d3-de94-4cc0-83b3-55cfa56f38f3",
   "metadata": {},
   "source": [
    "# 7. Hyperparameter Tuning"
   ]
  },
  {
   "cell_type": "code",
   "execution_count": null,
   "id": "635c24df-64df-493d-941b-06c6e0565bc4",
   "metadata": {},
   "outputs": [],
   "source": [
    "# Define model\n",
    "# rf = RandomForestRegressor()\n",
    "\n",
    "# # Define the paramters \n",
    "# n_estimators = list(range(50, 301, 50))\n",
    "# max_features = ['auto', 'sqrt']\n",
    "# max_depth = list(range(5, 31, 5))\n",
    "# max_depth.append(None)\n",
    "# min_samples_split = [2, 5, 10]\n",
    "# min_samples_leaf = [1, 2, 4]\n",
    "# bootstrap = [True, False]\n",
    "\n",
    "# # Create the search space\n",
    "# search_space = {'n_estimators': n_estimators,\n",
    "#                'max_features': max_features,\n",
    "#                'max_depth': max_depth,\n",
    "#                'min_samples_split': min_samples_split,\n",
    "#                'min_samples_leaf': min_samples_leaf,\n",
    "#                'bootstrap': bootstrap}\n",
    "\n",
    "# search_space"
   ]
  },
  {
   "cell_type": "code",
   "execution_count": null,
   "id": "d2ee57ef-8b1f-4039-bbde-a155e3f8a60d",
   "metadata": {},
   "outputs": [],
   "source": [
    "# Random Search\n",
    "# search = RandomizedSearchCV(estimator = rf, param_distributions = search_space, \n",
    "#                             n_iter = 2, cv = 5, verbose=0, n_jobs = -1,\n",
    "#                             scoring= 'neg_root_mean_squared_error')\n",
    "\n",
    "# # Return best parameters\n",
    "# rf_random = search.fit(X_train, y_train)\n",
    "# best_params = rf_random.best_params_ \n",
    "# print(best_params)"
   ]
  },
  {
   "cell_type": "code",
   "execution_count": null,
   "id": "8768ff67-9f05-4b9a-a4fc-ac56abe26e49",
   "metadata": {},
   "outputs": [],
   "source": [
    "# pred = rf_random.predict(X_train)\n",
    "# nonneg_pred = np.clip(pred, df['target'].min(), df['target'].max())\n",
    "# rmse = skm.mean_squared_error(y_train, nonneg_pred, squared=False) \n",
    "# print('Random Search Best RF Regressor Model - RMSE: {:.5f}' .format(rmse))\n",
    "# print('with the following best parameters: \\n {}' .format(best_params))"
   ]
  },
  {
   "cell_type": "code",
   "execution_count": null,
   "id": "45301e49-4f72-4331-81e9-9913f8a7d12c",
   "metadata": {},
   "outputs": [],
   "source": [
    "# Grid Search\n",
    "# search = GridSearchCV(estimator = rf, param_grid = search_space, \n",
    "#                        cv=3, scoring= 'neg_root_mean_squared_error',\n",
    "#                        verbose=0, n_jobs = -1)\n",
    "# rf_grid = search.fit(X_train, y_train)\n",
    "# best_params = rf_grid.best_params_ "
   ]
  },
  {
   "cell_type": "code",
   "execution_count": null,
   "id": "ea62f4ec-5740-4e20-9fe5-0f0d368b98bf",
   "metadata": {},
   "outputs": [],
   "source": [
    "# pred = rf_random.predict(X_train)\n",
    "# nonneg_pred = np.clip(pred, df['target'].min(), df['target'].max())\n",
    "# rmse = skm.mean_squared_error(y_train, nonneg_pred, squared=False) \n",
    "# print('Random Search Best RF Regressor Model - RMSE: {:.5f}' .format(rmse))\n",
    "# print('with the following best parameters: \\n {}' .format(best_params))"
   ]
  },
  {
   "cell_type": "markdown",
   "id": "70d97a89-4915-4757-9f29-46699520bb40",
   "metadata": {},
   "source": [
    "# 9. Final Submission"
   ]
  },
  {
   "cell_type": "code",
   "execution_count": 20,
   "id": "9d167711-ec82-4acd-ba43-066721ae5054",
   "metadata": {},
   "outputs": [],
   "source": [
    "## Loading the dataset\n",
    "test_df = pd.read_csv(r\"C:\\Users\\Akoua Orsot\\Desktop\\ds_projects_data\\santander_transaction_value\\test.csv\")\n",
    "ids = test_df['ID']\n",
    "test_df.drop(['ID'], axis=1, inplace=True)"
   ]
  },
  {
   "cell_type": "code",
   "execution_count": 21,
   "id": "c448dbe8-8308-4f84-b795-c98cc46b9b9a",
   "metadata": {},
   "outputs": [
    {
     "name": "stderr",
     "output_type": "stream",
     "text": [
      "C:\\Users\\Akoua Orsot\\Anaconda3\\lib\\site-packages\\sklearn\\base.py:444: UserWarning: X has feature names, but RandomForestRegressor was fitted without feature names\n",
      "  f\"X has feature names, but {self.__class__.__name__} was fitted without\"\n"
     ]
    }
   ],
   "source": [
    "# Defining our orignal model\n",
    "final_model = RandomForestRegressor(n_estimators=10)\n",
    "final_model.fit(X, y)\n",
    "pred = final_model.predict(test_df)\n",
    "nonneg_pred = np.clip(pred, df['target'].min(), df['target'].max())\n",
    "sub = pd.DataFrame({'ID': ids, 'target': nonneg_pred})\n",
    "sub.to_csv('submission.csv', index=False)"
   ]
  },
  {
   "cell_type": "code",
   "execution_count": null,
   "id": "dc8ed0f3-d10b-4d83-ba91-56aee920eb8b",
   "metadata": {},
   "outputs": [],
   "source": []
  }
 ],
 "metadata": {
  "kernelspec": {
   "display_name": "Python 3 (ipykernel)",
   "language": "python",
   "name": "python3"
  },
  "language_info": {
   "codemirror_mode": {
    "name": "ipython",
    "version": 3
   },
   "file_extension": ".py",
   "mimetype": "text/x-python",
   "name": "python",
   "nbconvert_exporter": "python",
   "pygments_lexer": "ipython3",
   "version": "3.7.11"
  }
 },
 "nbformat": 4,
 "nbformat_minor": 5
}
