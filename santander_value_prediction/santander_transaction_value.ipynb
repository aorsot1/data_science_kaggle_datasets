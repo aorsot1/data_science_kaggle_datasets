{
 "cells": [
  {
   "cell_type": "markdown",
   "id": "495a3a97-173b-415c-b0a6-8e7dfe839127",
   "metadata": {},
   "source": [
    "# Transaction Value Prediction\n",
    "In this notebook, we will tackle the challenge presented by Santander Group in terms of predicting \"the value of transactions for each potential customer\". In other words, the rgoup would provide an an anonymized dataset (for security purpose) to attain this objective. In essence, this presents a regression problem which we shall resolve using different machine learning techniques.\n",
    "\n",
    "# Table of Contents\n",
    "1. Environment set-up\n",
    "    * Importing Libraries\n",
    "    * Loading the data\n",
    "2. Initial Diagnostics\n",
    "    * Glimpse\n",
    "    * Descriptive Statitics\n",
    "    * Target Variable Analysis\n",
    "3. Data Cleaning\n",
    "    * Missing Values\n",
    "    * Outliers\n",
    "    * Duplicate Observations\n",
    "4. Correlation Analysis\n",
    "5. Machine Learning set-up\n",
    "    * Feature Scaling\n",
    "    * Train-test split\n",
    "6. Dimensionality Reduction\n",
    "    * PCA - Principal Component Analysis\n",
    "    * SVD - Singular Value Decomposition\n",
    "7. Machine Learning - Simple Models\n",
    "    * Multiple Linear Regression\n",
    "    * Ridge Regression\n",
    "    * Lasso Regression\n",
    "8. Machine Learning - Ensemble Methods\n",
    "    * Random Forest Regressor\n",
    "    * Stochastic Gradient Boosting\n",
    "9. Model Performance Evalution\n",
    "10. Final Submission"
   ]
  },
  {
   "cell_type": "markdown",
   "id": "71cd164c-5ab9-4e14-9302-f17dd0619ca0",
   "metadata": {},
   "source": [
    "# 1. Environment set-up"
   ]
  },
  {
   "cell_type": "code",
   "execution_count": 35,
   "id": "e280ade8-bed7-4ad2-a9f3-0e6d3111aecc",
   "metadata": {},
   "outputs": [],
   "source": [
    "## Importing Libraries\n",
    "\n",
    "#Set seed\n",
    "import random\n",
    "random.seed(69)\n",
    "\n",
    "# Manipulating & Visualizing Data\n",
    "import pandas as pd\n",
    "import numpy as np\n",
    "from collections import Counter\n",
    "import matplotlib.pyplot as plt\n",
    "import seaborn as sns\n",
    "sns.set(rc={'figure.figsize':(12, 8)})\n",
    "\n",
    "# Machine Learning set-up\n",
    "from sklearn import preprocessing\n",
    "from sklearn.model_selection import train_test_split\n",
    "from sklearn.model_selection import cross_val_score, KFold\n",
    "\n",
    "\n",
    "# Cross Validation\n",
    "from sklearn.model_selection import  KFold\n",
    "\n",
    "# Dimensionality Reduction\n",
    "from sklearn.decomposition import PCA, TruncatedSVD\n",
    "from sklearn.discriminant_analysis import LinearDiscriminantAnalysis\n",
    "\n",
    "# Simple ML models\n",
    "from sklearn.pipeline import Pipeline\n",
    "from sklearn.linear_model import LinearRegression, Ridge, Lasso\n",
    "from sklearn.tree import DecisionTreeRegressor\n",
    "\n",
    "# Ensemble Learning\n",
    "from sklearn.ensemble import RandomForestRegressor\n",
    "from sklearn.ensemble import GradientBoostingRegressor\n",
    "\n",
    "# Hyperparameter Tuning\n",
    "from sklearn.model_selection import GridSearchCV\n",
    "from sklearn.model_selection import RandomizedSearchCV\n",
    "\n",
    "# Performance metrics\n",
    "import sklearn.metrics as skm"
   ]
  },
  {
   "cell_type": "code",
   "execution_count": 2,
   "id": "919e3645-8ff5-4548-b1eb-73573ac441d6",
   "metadata": {},
   "outputs": [
    {
     "data": {
      "text/html": [
       "<div>\n",
       "<style scoped>\n",
       "    .dataframe tbody tr th:only-of-type {\n",
       "        vertical-align: middle;\n",
       "    }\n",
       "\n",
       "    .dataframe tbody tr th {\n",
       "        vertical-align: top;\n",
       "    }\n",
       "\n",
       "    .dataframe thead th {\n",
       "        text-align: right;\n",
       "    }\n",
       "</style>\n",
       "<table border=\"1\" class=\"dataframe\">\n",
       "  <thead>\n",
       "    <tr style=\"text-align: right;\">\n",
       "      <th></th>\n",
       "      <th>target</th>\n",
       "      <th>48df886f9</th>\n",
       "      <th>0deb4b6a8</th>\n",
       "      <th>34b15f335</th>\n",
       "      <th>a8cb14b00</th>\n",
       "      <th>2f0771a37</th>\n",
       "      <th>30347e683</th>\n",
       "      <th>d08d1fbe3</th>\n",
       "      <th>6ee66e115</th>\n",
       "      <th>20aa07010</th>\n",
       "      <th>...</th>\n",
       "      <th>3ecc09859</th>\n",
       "      <th>9281abeea</th>\n",
       "      <th>8675bec0b</th>\n",
       "      <th>3a13ed79a</th>\n",
       "      <th>f677d4d13</th>\n",
       "      <th>71b203550</th>\n",
       "      <th>137efaa80</th>\n",
       "      <th>fb36b89d9</th>\n",
       "      <th>7e293fbaf</th>\n",
       "      <th>9fc776466</th>\n",
       "    </tr>\n",
       "  </thead>\n",
       "  <tbody>\n",
       "    <tr>\n",
       "      <th>0</th>\n",
       "      <td>38000000.0</td>\n",
       "      <td>0.0</td>\n",
       "      <td>0</td>\n",
       "      <td>0.0</td>\n",
       "      <td>0</td>\n",
       "      <td>0</td>\n",
       "      <td>0</td>\n",
       "      <td>0</td>\n",
       "      <td>0</td>\n",
       "      <td>0.0</td>\n",
       "      <td>...</td>\n",
       "      <td>0.0</td>\n",
       "      <td>0.0</td>\n",
       "      <td>0.0</td>\n",
       "      <td>0</td>\n",
       "      <td>0</td>\n",
       "      <td>0</td>\n",
       "      <td>0</td>\n",
       "      <td>0</td>\n",
       "      <td>0</td>\n",
       "      <td>0</td>\n",
       "    </tr>\n",
       "    <tr>\n",
       "      <th>1</th>\n",
       "      <td>600000.0</td>\n",
       "      <td>0.0</td>\n",
       "      <td>0</td>\n",
       "      <td>0.0</td>\n",
       "      <td>0</td>\n",
       "      <td>0</td>\n",
       "      <td>0</td>\n",
       "      <td>0</td>\n",
       "      <td>0</td>\n",
       "      <td>2200000.0</td>\n",
       "      <td>...</td>\n",
       "      <td>0.0</td>\n",
       "      <td>0.0</td>\n",
       "      <td>0.0</td>\n",
       "      <td>0</td>\n",
       "      <td>0</td>\n",
       "      <td>0</td>\n",
       "      <td>0</td>\n",
       "      <td>0</td>\n",
       "      <td>0</td>\n",
       "      <td>0</td>\n",
       "    </tr>\n",
       "    <tr>\n",
       "      <th>2</th>\n",
       "      <td>10000000.0</td>\n",
       "      <td>0.0</td>\n",
       "      <td>0</td>\n",
       "      <td>0.0</td>\n",
       "      <td>0</td>\n",
       "      <td>0</td>\n",
       "      <td>0</td>\n",
       "      <td>0</td>\n",
       "      <td>0</td>\n",
       "      <td>0.0</td>\n",
       "      <td>...</td>\n",
       "      <td>0.0</td>\n",
       "      <td>0.0</td>\n",
       "      <td>0.0</td>\n",
       "      <td>0</td>\n",
       "      <td>0</td>\n",
       "      <td>0</td>\n",
       "      <td>0</td>\n",
       "      <td>0</td>\n",
       "      <td>0</td>\n",
       "      <td>0</td>\n",
       "    </tr>\n",
       "    <tr>\n",
       "      <th>3</th>\n",
       "      <td>2000000.0</td>\n",
       "      <td>0.0</td>\n",
       "      <td>0</td>\n",
       "      <td>0.0</td>\n",
       "      <td>0</td>\n",
       "      <td>0</td>\n",
       "      <td>0</td>\n",
       "      <td>0</td>\n",
       "      <td>0</td>\n",
       "      <td>0.0</td>\n",
       "      <td>...</td>\n",
       "      <td>0.0</td>\n",
       "      <td>0.0</td>\n",
       "      <td>0.0</td>\n",
       "      <td>0</td>\n",
       "      <td>0</td>\n",
       "      <td>0</td>\n",
       "      <td>0</td>\n",
       "      <td>0</td>\n",
       "      <td>0</td>\n",
       "      <td>0</td>\n",
       "    </tr>\n",
       "    <tr>\n",
       "      <th>4</th>\n",
       "      <td>14400000.0</td>\n",
       "      <td>0.0</td>\n",
       "      <td>0</td>\n",
       "      <td>0.0</td>\n",
       "      <td>0</td>\n",
       "      <td>0</td>\n",
       "      <td>0</td>\n",
       "      <td>0</td>\n",
       "      <td>0</td>\n",
       "      <td>2000000.0</td>\n",
       "      <td>...</td>\n",
       "      <td>0.0</td>\n",
       "      <td>0.0</td>\n",
       "      <td>0.0</td>\n",
       "      <td>0</td>\n",
       "      <td>0</td>\n",
       "      <td>0</td>\n",
       "      <td>0</td>\n",
       "      <td>0</td>\n",
       "      <td>0</td>\n",
       "      <td>0</td>\n",
       "    </tr>\n",
       "    <tr>\n",
       "      <th>5</th>\n",
       "      <td>2800000.0</td>\n",
       "      <td>0.0</td>\n",
       "      <td>0</td>\n",
       "      <td>0.0</td>\n",
       "      <td>0</td>\n",
       "      <td>0</td>\n",
       "      <td>0</td>\n",
       "      <td>0</td>\n",
       "      <td>0</td>\n",
       "      <td>17020000.0</td>\n",
       "      <td>...</td>\n",
       "      <td>12000.0</td>\n",
       "      <td>5600000.0</td>\n",
       "      <td>20000000.0</td>\n",
       "      <td>0</td>\n",
       "      <td>0</td>\n",
       "      <td>0</td>\n",
       "      <td>0</td>\n",
       "      <td>0</td>\n",
       "      <td>0</td>\n",
       "      <td>11000</td>\n",
       "    </tr>\n",
       "    <tr>\n",
       "      <th>6</th>\n",
       "      <td>164000.0</td>\n",
       "      <td>0.0</td>\n",
       "      <td>0</td>\n",
       "      <td>0.0</td>\n",
       "      <td>0</td>\n",
       "      <td>0</td>\n",
       "      <td>0</td>\n",
       "      <td>0</td>\n",
       "      <td>0</td>\n",
       "      <td>0.0</td>\n",
       "      <td>...</td>\n",
       "      <td>0.0</td>\n",
       "      <td>0.0</td>\n",
       "      <td>0.0</td>\n",
       "      <td>0</td>\n",
       "      <td>0</td>\n",
       "      <td>0</td>\n",
       "      <td>40000</td>\n",
       "      <td>0</td>\n",
       "      <td>0</td>\n",
       "      <td>0</td>\n",
       "    </tr>\n",
       "    <tr>\n",
       "      <th>7</th>\n",
       "      <td>600000.0</td>\n",
       "      <td>0.0</td>\n",
       "      <td>0</td>\n",
       "      <td>0.0</td>\n",
       "      <td>0</td>\n",
       "      <td>0</td>\n",
       "      <td>0</td>\n",
       "      <td>0</td>\n",
       "      <td>0</td>\n",
       "      <td>0.0</td>\n",
       "      <td>...</td>\n",
       "      <td>0.0</td>\n",
       "      <td>0.0</td>\n",
       "      <td>0.0</td>\n",
       "      <td>0</td>\n",
       "      <td>0</td>\n",
       "      <td>0</td>\n",
       "      <td>0</td>\n",
       "      <td>0</td>\n",
       "      <td>0</td>\n",
       "      <td>0</td>\n",
       "    </tr>\n",
       "    <tr>\n",
       "      <th>8</th>\n",
       "      <td>979000.0</td>\n",
       "      <td>0.0</td>\n",
       "      <td>0</td>\n",
       "      <td>0.0</td>\n",
       "      <td>0</td>\n",
       "      <td>0</td>\n",
       "      <td>0</td>\n",
       "      <td>0</td>\n",
       "      <td>0</td>\n",
       "      <td>58000.0</td>\n",
       "      <td>...</td>\n",
       "      <td>0.0</td>\n",
       "      <td>0.0</td>\n",
       "      <td>4000000.0</td>\n",
       "      <td>0</td>\n",
       "      <td>0</td>\n",
       "      <td>0</td>\n",
       "      <td>0</td>\n",
       "      <td>0</td>\n",
       "      <td>0</td>\n",
       "      <td>0</td>\n",
       "    </tr>\n",
       "    <tr>\n",
       "      <th>9</th>\n",
       "      <td>460000.0</td>\n",
       "      <td>0.0</td>\n",
       "      <td>0</td>\n",
       "      <td>0.0</td>\n",
       "      <td>0</td>\n",
       "      <td>0</td>\n",
       "      <td>0</td>\n",
       "      <td>0</td>\n",
       "      <td>0</td>\n",
       "      <td>0.0</td>\n",
       "      <td>...</td>\n",
       "      <td>0.0</td>\n",
       "      <td>0.0</td>\n",
       "      <td>0.0</td>\n",
       "      <td>0</td>\n",
       "      <td>0</td>\n",
       "      <td>0</td>\n",
       "      <td>0</td>\n",
       "      <td>0</td>\n",
       "      <td>0</td>\n",
       "      <td>400000</td>\n",
       "    </tr>\n",
       "  </tbody>\n",
       "</table>\n",
       "<p>10 rows × 4992 columns</p>\n",
       "</div>"
      ],
      "text/plain": [
       "       target  48df886f9  0deb4b6a8  34b15f335  a8cb14b00  2f0771a37  \\\n",
       "0  38000000.0        0.0          0        0.0          0          0   \n",
       "1    600000.0        0.0          0        0.0          0          0   \n",
       "2  10000000.0        0.0          0        0.0          0          0   \n",
       "3   2000000.0        0.0          0        0.0          0          0   \n",
       "4  14400000.0        0.0          0        0.0          0          0   \n",
       "5   2800000.0        0.0          0        0.0          0          0   \n",
       "6    164000.0        0.0          0        0.0          0          0   \n",
       "7    600000.0        0.0          0        0.0          0          0   \n",
       "8    979000.0        0.0          0        0.0          0          0   \n",
       "9    460000.0        0.0          0        0.0          0          0   \n",
       "\n",
       "   30347e683  d08d1fbe3  6ee66e115   20aa07010  ...  3ecc09859  9281abeea  \\\n",
       "0          0          0          0         0.0  ...        0.0        0.0   \n",
       "1          0          0          0   2200000.0  ...        0.0        0.0   \n",
       "2          0          0          0         0.0  ...        0.0        0.0   \n",
       "3          0          0          0         0.0  ...        0.0        0.0   \n",
       "4          0          0          0   2000000.0  ...        0.0        0.0   \n",
       "5          0          0          0  17020000.0  ...    12000.0  5600000.0   \n",
       "6          0          0          0         0.0  ...        0.0        0.0   \n",
       "7          0          0          0         0.0  ...        0.0        0.0   \n",
       "8          0          0          0     58000.0  ...        0.0        0.0   \n",
       "9          0          0          0         0.0  ...        0.0        0.0   \n",
       "\n",
       "    8675bec0b  3a13ed79a  f677d4d13  71b203550  137efaa80  fb36b89d9  \\\n",
       "0         0.0          0          0          0          0          0   \n",
       "1         0.0          0          0          0          0          0   \n",
       "2         0.0          0          0          0          0          0   \n",
       "3         0.0          0          0          0          0          0   \n",
       "4         0.0          0          0          0          0          0   \n",
       "5  20000000.0          0          0          0          0          0   \n",
       "6         0.0          0          0          0      40000          0   \n",
       "7         0.0          0          0          0          0          0   \n",
       "8   4000000.0          0          0          0          0          0   \n",
       "9         0.0          0          0          0          0          0   \n",
       "\n",
       "   7e293fbaf  9fc776466  \n",
       "0          0          0  \n",
       "1          0          0  \n",
       "2          0          0  \n",
       "3          0          0  \n",
       "4          0          0  \n",
       "5          0      11000  \n",
       "6          0          0  \n",
       "7          0          0  \n",
       "8          0          0  \n",
       "9          0     400000  \n",
       "\n",
       "[10 rows x 4992 columns]"
      ]
     },
     "execution_count": 2,
     "metadata": {},
     "output_type": "execute_result"
    }
   ],
   "source": [
    "## Loading the dataset\n",
    "df = pd.read_csv(r\"C:\\Users\\Akoua Orsot\\Desktop\\ds_projects_data\\santander_transaction_value\\train.csv\")\n",
    "\n",
    "#Removing the unnecessary ID column\n",
    "df.drop(\"ID\", axis=1, inplace=True)\n",
    "df.head(10)"
   ]
  },
  {
   "cell_type": "markdown",
   "id": "8f9f448f-e2ee-40fd-9e6e-f5e6379b1d5b",
   "metadata": {},
   "source": [
    "# 2. Initial Diagnostics"
   ]
  },
  {
   "cell_type": "code",
   "execution_count": 3,
   "id": "7bcd6b3f-6176-4029-af86-0b10d18efcdb",
   "metadata": {},
   "outputs": [
    {
     "name": "stdout",
     "output_type": "stream",
     "text": [
      "<class 'pandas.core.frame.DataFrame'>\n",
      "RangeIndex: 4459 entries, 0 to 4458\n",
      "Columns: 4992 entries, target to 9fc776466\n",
      "dtypes: float64(1845), int64(3147)\n",
      "memory usage: 169.8 MB\n"
     ]
    }
   ],
   "source": [
    "## Glimpse of the data\n",
    "df.info()"
   ]
  },
  {
   "cell_type": "code",
   "execution_count": 4,
   "id": "8f5879c3-aa22-466d-bf97-d75545bc325a",
   "metadata": {},
   "outputs": [
    {
     "data": {
      "text/html": [
       "<div>\n",
       "<style scoped>\n",
       "    .dataframe tbody tr th:only-of-type {\n",
       "        vertical-align: middle;\n",
       "    }\n",
       "\n",
       "    .dataframe tbody tr th {\n",
       "        vertical-align: top;\n",
       "    }\n",
       "\n",
       "    .dataframe thead th {\n",
       "        text-align: right;\n",
       "    }\n",
       "</style>\n",
       "<table border=\"1\" class=\"dataframe\">\n",
       "  <thead>\n",
       "    <tr style=\"text-align: right;\">\n",
       "      <th></th>\n",
       "      <th>target</th>\n",
       "      <th>48df886f9</th>\n",
       "      <th>0deb4b6a8</th>\n",
       "      <th>34b15f335</th>\n",
       "      <th>a8cb14b00</th>\n",
       "      <th>2f0771a37</th>\n",
       "      <th>30347e683</th>\n",
       "      <th>d08d1fbe3</th>\n",
       "      <th>6ee66e115</th>\n",
       "      <th>20aa07010</th>\n",
       "      <th>...</th>\n",
       "      <th>3ecc09859</th>\n",
       "      <th>9281abeea</th>\n",
       "      <th>8675bec0b</th>\n",
       "      <th>3a13ed79a</th>\n",
       "      <th>f677d4d13</th>\n",
       "      <th>71b203550</th>\n",
       "      <th>137efaa80</th>\n",
       "      <th>fb36b89d9</th>\n",
       "      <th>7e293fbaf</th>\n",
       "      <th>9fc776466</th>\n",
       "    </tr>\n",
       "  </thead>\n",
       "  <tbody>\n",
       "    <tr>\n",
       "      <th>count</th>\n",
       "      <td>4.459000e+03</td>\n",
       "      <td>4.459000e+03</td>\n",
       "      <td>4.459000e+03</td>\n",
       "      <td>4.459000e+03</td>\n",
       "      <td>4.459000e+03</td>\n",
       "      <td>4.459000e+03</td>\n",
       "      <td>4.459000e+03</td>\n",
       "      <td>4.459000e+03</td>\n",
       "      <td>4.459000e+03</td>\n",
       "      <td>4.459000e+03</td>\n",
       "      <td>...</td>\n",
       "      <td>4.459000e+03</td>\n",
       "      <td>4.459000e+03</td>\n",
       "      <td>4.459000e+03</td>\n",
       "      <td>4.459000e+03</td>\n",
       "      <td>4459.000000</td>\n",
       "      <td>4.459000e+03</td>\n",
       "      <td>4.459000e+03</td>\n",
       "      <td>4.459000e+03</td>\n",
       "      <td>4.459000e+03</td>\n",
       "      <td>4.459000e+03</td>\n",
       "    </tr>\n",
       "    <tr>\n",
       "      <th>mean</th>\n",
       "      <td>5.944923e+06</td>\n",
       "      <td>1.465493e+04</td>\n",
       "      <td>1.390895e+03</td>\n",
       "      <td>2.672245e+04</td>\n",
       "      <td>4.530164e+03</td>\n",
       "      <td>2.640996e+04</td>\n",
       "      <td>3.070811e+04</td>\n",
       "      <td>1.686522e+04</td>\n",
       "      <td>4.669208e+03</td>\n",
       "      <td>2.569407e+06</td>\n",
       "      <td>...</td>\n",
       "      <td>4.676057e+05</td>\n",
       "      <td>4.446239e+05</td>\n",
       "      <td>8.056219e+05</td>\n",
       "      <td>7.812966e+05</td>\n",
       "      <td>143.529939</td>\n",
       "      <td>1.213809e+05</td>\n",
       "      <td>3.573451e+04</td>\n",
       "      <td>3.123741e+05</td>\n",
       "      <td>9.219960e+04</td>\n",
       "      <td>2.279100e+05</td>\n",
       "    </tr>\n",
       "    <tr>\n",
       "      <th>std</th>\n",
       "      <td>8.234312e+06</td>\n",
       "      <td>3.893298e+05</td>\n",
       "      <td>6.428302e+04</td>\n",
       "      <td>5.699652e+05</td>\n",
       "      <td>2.359124e+05</td>\n",
       "      <td>1.514730e+06</td>\n",
       "      <td>5.770590e+05</td>\n",
       "      <td>7.512756e+05</td>\n",
       "      <td>1.879449e+05</td>\n",
       "      <td>9.610183e+06</td>\n",
       "      <td>...</td>\n",
       "      <td>4.068038e+06</td>\n",
       "      <td>4.428889e+06</td>\n",
       "      <td>4.513246e+06</td>\n",
       "      <td>6.839451e+06</td>\n",
       "      <td>9584.318507</td>\n",
       "      <td>4.720709e+06</td>\n",
       "      <td>1.614622e+06</td>\n",
       "      <td>4.318501e+06</td>\n",
       "      <td>1.635993e+06</td>\n",
       "      <td>1.811139e+06</td>\n",
       "    </tr>\n",
       "    <tr>\n",
       "      <th>min</th>\n",
       "      <td>3.000000e+04</td>\n",
       "      <td>0.000000e+00</td>\n",
       "      <td>0.000000e+00</td>\n",
       "      <td>0.000000e+00</td>\n",
       "      <td>0.000000e+00</td>\n",
       "      <td>0.000000e+00</td>\n",
       "      <td>0.000000e+00</td>\n",
       "      <td>0.000000e+00</td>\n",
       "      <td>0.000000e+00</td>\n",
       "      <td>0.000000e+00</td>\n",
       "      <td>...</td>\n",
       "      <td>0.000000e+00</td>\n",
       "      <td>0.000000e+00</td>\n",
       "      <td>0.000000e+00</td>\n",
       "      <td>0.000000e+00</td>\n",
       "      <td>0.000000</td>\n",
       "      <td>0.000000e+00</td>\n",
       "      <td>0.000000e+00</td>\n",
       "      <td>0.000000e+00</td>\n",
       "      <td>0.000000e+00</td>\n",
       "      <td>0.000000e+00</td>\n",
       "    </tr>\n",
       "    <tr>\n",
       "      <th>25%</th>\n",
       "      <td>6.000000e+05</td>\n",
       "      <td>0.000000e+00</td>\n",
       "      <td>0.000000e+00</td>\n",
       "      <td>0.000000e+00</td>\n",
       "      <td>0.000000e+00</td>\n",
       "      <td>0.000000e+00</td>\n",
       "      <td>0.000000e+00</td>\n",
       "      <td>0.000000e+00</td>\n",
       "      <td>0.000000e+00</td>\n",
       "      <td>0.000000e+00</td>\n",
       "      <td>...</td>\n",
       "      <td>0.000000e+00</td>\n",
       "      <td>0.000000e+00</td>\n",
       "      <td>0.000000e+00</td>\n",
       "      <td>0.000000e+00</td>\n",
       "      <td>0.000000</td>\n",
       "      <td>0.000000e+00</td>\n",
       "      <td>0.000000e+00</td>\n",
       "      <td>0.000000e+00</td>\n",
       "      <td>0.000000e+00</td>\n",
       "      <td>0.000000e+00</td>\n",
       "    </tr>\n",
       "    <tr>\n",
       "      <th>50%</th>\n",
       "      <td>2.260000e+06</td>\n",
       "      <td>0.000000e+00</td>\n",
       "      <td>0.000000e+00</td>\n",
       "      <td>0.000000e+00</td>\n",
       "      <td>0.000000e+00</td>\n",
       "      <td>0.000000e+00</td>\n",
       "      <td>0.000000e+00</td>\n",
       "      <td>0.000000e+00</td>\n",
       "      <td>0.000000e+00</td>\n",
       "      <td>0.000000e+00</td>\n",
       "      <td>...</td>\n",
       "      <td>0.000000e+00</td>\n",
       "      <td>0.000000e+00</td>\n",
       "      <td>0.000000e+00</td>\n",
       "      <td>0.000000e+00</td>\n",
       "      <td>0.000000</td>\n",
       "      <td>0.000000e+00</td>\n",
       "      <td>0.000000e+00</td>\n",
       "      <td>0.000000e+00</td>\n",
       "      <td>0.000000e+00</td>\n",
       "      <td>0.000000e+00</td>\n",
       "    </tr>\n",
       "    <tr>\n",
       "      <th>75%</th>\n",
       "      <td>8.000000e+06</td>\n",
       "      <td>0.000000e+00</td>\n",
       "      <td>0.000000e+00</td>\n",
       "      <td>0.000000e+00</td>\n",
       "      <td>0.000000e+00</td>\n",
       "      <td>0.000000e+00</td>\n",
       "      <td>0.000000e+00</td>\n",
       "      <td>0.000000e+00</td>\n",
       "      <td>0.000000e+00</td>\n",
       "      <td>6.000000e+05</td>\n",
       "      <td>...</td>\n",
       "      <td>0.000000e+00</td>\n",
       "      <td>0.000000e+00</td>\n",
       "      <td>0.000000e+00</td>\n",
       "      <td>0.000000e+00</td>\n",
       "      <td>0.000000</td>\n",
       "      <td>0.000000e+00</td>\n",
       "      <td>0.000000e+00</td>\n",
       "      <td>0.000000e+00</td>\n",
       "      <td>0.000000e+00</td>\n",
       "      <td>0.000000e+00</td>\n",
       "    </tr>\n",
       "    <tr>\n",
       "      <th>max</th>\n",
       "      <td>4.000000e+07</td>\n",
       "      <td>2.000000e+07</td>\n",
       "      <td>4.000000e+06</td>\n",
       "      <td>2.000000e+07</td>\n",
       "      <td>1.480000e+07</td>\n",
       "      <td>1.000000e+08</td>\n",
       "      <td>2.070800e+07</td>\n",
       "      <td>4.000000e+07</td>\n",
       "      <td>1.040000e+07</td>\n",
       "      <td>3.196120e+08</td>\n",
       "      <td>...</td>\n",
       "      <td>7.600000e+07</td>\n",
       "      <td>1.235880e+08</td>\n",
       "      <td>1.300000e+08</td>\n",
       "      <td>1.444000e+08</td>\n",
       "      <td>640000.000000</td>\n",
       "      <td>3.013120e+08</td>\n",
       "      <td>1.064200e+08</td>\n",
       "      <td>1.400000e+08</td>\n",
       "      <td>6.176800e+07</td>\n",
       "      <td>4.320000e+07</td>\n",
       "    </tr>\n",
       "  </tbody>\n",
       "</table>\n",
       "<p>8 rows × 4992 columns</p>\n",
       "</div>"
      ],
      "text/plain": [
       "             target     48df886f9     0deb4b6a8     34b15f335     a8cb14b00  \\\n",
       "count  4.459000e+03  4.459000e+03  4.459000e+03  4.459000e+03  4.459000e+03   \n",
       "mean   5.944923e+06  1.465493e+04  1.390895e+03  2.672245e+04  4.530164e+03   \n",
       "std    8.234312e+06  3.893298e+05  6.428302e+04  5.699652e+05  2.359124e+05   \n",
       "min    3.000000e+04  0.000000e+00  0.000000e+00  0.000000e+00  0.000000e+00   \n",
       "25%    6.000000e+05  0.000000e+00  0.000000e+00  0.000000e+00  0.000000e+00   \n",
       "50%    2.260000e+06  0.000000e+00  0.000000e+00  0.000000e+00  0.000000e+00   \n",
       "75%    8.000000e+06  0.000000e+00  0.000000e+00  0.000000e+00  0.000000e+00   \n",
       "max    4.000000e+07  2.000000e+07  4.000000e+06  2.000000e+07  1.480000e+07   \n",
       "\n",
       "          2f0771a37     30347e683     d08d1fbe3     6ee66e115     20aa07010  \\\n",
       "count  4.459000e+03  4.459000e+03  4.459000e+03  4.459000e+03  4.459000e+03   \n",
       "mean   2.640996e+04  3.070811e+04  1.686522e+04  4.669208e+03  2.569407e+06   \n",
       "std    1.514730e+06  5.770590e+05  7.512756e+05  1.879449e+05  9.610183e+06   \n",
       "min    0.000000e+00  0.000000e+00  0.000000e+00  0.000000e+00  0.000000e+00   \n",
       "25%    0.000000e+00  0.000000e+00  0.000000e+00  0.000000e+00  0.000000e+00   \n",
       "50%    0.000000e+00  0.000000e+00  0.000000e+00  0.000000e+00  0.000000e+00   \n",
       "75%    0.000000e+00  0.000000e+00  0.000000e+00  0.000000e+00  6.000000e+05   \n",
       "max    1.000000e+08  2.070800e+07  4.000000e+07  1.040000e+07  3.196120e+08   \n",
       "\n",
       "       ...     3ecc09859     9281abeea     8675bec0b     3a13ed79a  \\\n",
       "count  ...  4.459000e+03  4.459000e+03  4.459000e+03  4.459000e+03   \n",
       "mean   ...  4.676057e+05  4.446239e+05  8.056219e+05  7.812966e+05   \n",
       "std    ...  4.068038e+06  4.428889e+06  4.513246e+06  6.839451e+06   \n",
       "min    ...  0.000000e+00  0.000000e+00  0.000000e+00  0.000000e+00   \n",
       "25%    ...  0.000000e+00  0.000000e+00  0.000000e+00  0.000000e+00   \n",
       "50%    ...  0.000000e+00  0.000000e+00  0.000000e+00  0.000000e+00   \n",
       "75%    ...  0.000000e+00  0.000000e+00  0.000000e+00  0.000000e+00   \n",
       "max    ...  7.600000e+07  1.235880e+08  1.300000e+08  1.444000e+08   \n",
       "\n",
       "           f677d4d13     71b203550     137efaa80     fb36b89d9     7e293fbaf  \\\n",
       "count    4459.000000  4.459000e+03  4.459000e+03  4.459000e+03  4.459000e+03   \n",
       "mean      143.529939  1.213809e+05  3.573451e+04  3.123741e+05  9.219960e+04   \n",
       "std      9584.318507  4.720709e+06  1.614622e+06  4.318501e+06  1.635993e+06   \n",
       "min         0.000000  0.000000e+00  0.000000e+00  0.000000e+00  0.000000e+00   \n",
       "25%         0.000000  0.000000e+00  0.000000e+00  0.000000e+00  0.000000e+00   \n",
       "50%         0.000000  0.000000e+00  0.000000e+00  0.000000e+00  0.000000e+00   \n",
       "75%         0.000000  0.000000e+00  0.000000e+00  0.000000e+00  0.000000e+00   \n",
       "max    640000.000000  3.013120e+08  1.064200e+08  1.400000e+08  6.176800e+07   \n",
       "\n",
       "          9fc776466  \n",
       "count  4.459000e+03  \n",
       "mean   2.279100e+05  \n",
       "std    1.811139e+06  \n",
       "min    0.000000e+00  \n",
       "25%    0.000000e+00  \n",
       "50%    0.000000e+00  \n",
       "75%    0.000000e+00  \n",
       "max    4.320000e+07  \n",
       "\n",
       "[8 rows x 4992 columns]"
      ]
     },
     "execution_count": 4,
     "metadata": {},
     "output_type": "execute_result"
    }
   ],
   "source": [
    "## Descriptive Statistics\n",
    "df.describe()"
   ]
  },
  {
   "cell_type": "markdown",
   "id": "c3c3f10f-68bb-4b44-86eb-11dbcdc91675",
   "metadata": {},
   "source": [
    "**Note:** The histogram below shows a right-skewed distribution indicating that most transactions are on the lower end. It remains consistent given that banking transaction for x person (on average) is relatively modest, with some expectations on the upper tail as shown with the outliers on the boxplot below.  "
   ]
  },
  {
   "cell_type": "code",
   "execution_count": 5,
   "id": "00573861-7171-4968-af23-cb3283ef0d76",
   "metadata": {},
   "outputs": [
    {
     "data": {
      "image/png": "[encoded data removed]",
      "text/plain": [
       "<Figure size 864x576 with 1 Axes>"
      ]
     },
     "metadata": {},
     "output_type": "display_data"
    }
   ],
   "source": [
    "## Target Variable Analysis\n",
    "sns.histplot(data=df, x='target', stat='frequency')\n",
    "plt.title(\"Transaction Value Distribution\")\n",
    "plt.xlabel(\"Value ($)\")\n",
    "plt.show()"
   ]
  },
  {
   "cell_type": "code",
   "execution_count": 6,
   "id": "97823951-7434-4688-bb7e-c7d958be18e6",
   "metadata": {},
   "outputs": [
    {
     "data": {
      "image/png": "[encoded data removed]",
      "text/plain": [
       "<Figure size 864x576 with 1 Axes>"
      ]
     },
     "metadata": {},
     "output_type": "display_data"
    }
   ],
   "source": [
    "sns.boxplot(data=df, x='target')\n",
    "plt.title(\"Transaction Value Boxplot\")\n",
    "plt.xlabel(\"Value ($)\")\n",
    "plt.show()"
   ]
  },
  {
   "cell_type": "markdown",
   "id": "e80fce68-9538-42d2-98e7-da3191d8e354",
   "metadata": {},
   "source": [
    "**Note:** As noted in the introduction, we have an anonymized dataset with all predictors standardized. Thus, we would have minimal insights in exploring them individually. "
   ]
  },
  {
   "cell_type": "markdown",
   "id": "42a67de9-7389-48f5-aa31-67b919529db8",
   "metadata": {},
   "source": [
    "# 3. Data Cleaning"
   ]
  },
  {
   "cell_type": "code",
   "execution_count": 7,
   "id": "f4b899e5-d0d4-4829-94ed-591800db9903",
   "metadata": {},
   "outputs": [
    {
     "data": {
      "image/png": "[encoded data removed]",
      "text/plain": [
       "<Figure size 864x576 with 2 Axes>"
      ]
     },
     "metadata": {},
     "output_type": "display_data"
    }
   ],
   "source": [
    "# Missing Values\n",
    "sns.heatmap(df.isna().transpose(),\n",
    "            cbar_kws={'label': 'Missing Data'})\n",
    "plt.xlabel(\"Features\")\n",
    "plt.ylabel(\"Observations\")\n",
    "plt.show()"
   ]
  },
  {
   "cell_type": "markdown",
   "id": "89a89baa-ea45-4a23-83ae-3102434b3f9f",
   "metadata": {},
   "source": [
    "**Takeaway:** With the data already formatted and standardized, we expect no null values."
   ]
  },
  {
   "cell_type": "code",
   "execution_count": 8,
   "id": "8cac58cd-0489-4f2f-9c72-f87cd1629d03",
   "metadata": {},
   "outputs": [],
   "source": [
    "## Outliers"
   ]
  },
  {
   "cell_type": "markdown",
   "id": "47bb53be-3e46-4d36-8508-d11e17a1ce0b",
   "metadata": {},
   "source": [
    "**Takeaway:** From the box plot above, We have already determined some outliers. However, we will not exclude them but use other techniques instead to ensure robust results from the machine learning predictions."
   ]
  },
  {
   "cell_type": "code",
   "execution_count": 85,
   "id": "dd40f915-a8cb-46c8-800e-43fe473a30cf",
   "metadata": {},
   "outputs": [
    {
     "data": {
      "text/plain": [
       "False    4459\n",
       "dtype: int64"
      ]
     },
     "execution_count": 85,
     "metadata": {},
     "output_type": "execute_result"
    }
   ],
   "source": [
    "# Duplicate Observations\n",
    "df.duplicated().value_counts()"
   ]
  },
  {
   "cell_type": "markdown",
   "id": "d8a95b30-ce7d-43e1-a109-20285d02bf2b",
   "metadata": {},
   "source": [
    "**Takeaway:**  With no duplicate values, we may proceed without making any further changes."
   ]
  },
  {
   "cell_type": "code",
   "execution_count": 10,
   "id": "b3ad66d6-ac5d-4064-a22e-eddcd143d386",
   "metadata": {},
   "outputs": [
    {
     "data": {
      "text/plain": [
       "False"
      ]
     },
     "execution_count": 10,
     "metadata": {},
     "output_type": "execute_result"
    }
   ],
   "source": [
    "# Unsual Values\n",
    "(df['target'].values < 0).any()"
   ]
  },
  {
   "cell_type": "markdown",
   "id": "c352a2e5-2e31-4685-8575-e553b0e3c783",
   "metadata": {},
   "source": [
    "# 4. Correlation Analysis"
   ]
  },
  {
   "cell_type": "markdown",
   "id": "05239ba7-7392-4756-9a44-da61e2140559",
   "metadata": {},
   "source": [
    "**Takeaway:** Given that we have close to 5000 columns, it would be quite computationally intensive to display the entire correlation matrix and visualize it for user-friendly analysis. "
   ]
  },
  {
   "cell_type": "markdown",
   "id": "b2a0b9b4-2dc3-4e63-9f90-fc29f7ea10bf",
   "metadata": {},
   "source": [
    "# 5. Machine Learning set-up\n",
    "\n",
    "Under this section, we will explain the procedure of two main splitting approach to estimate our models' performance. "
   ]
  },
  {
   "cell_type": "code",
   "execution_count": 96,
   "id": "076fc97e-7c2e-4e03-81fa-86a5e6011619",
   "metadata": {},
   "outputs": [],
   "source": [
    "# Splitting features & target variable\n",
    "X = df.drop(['target'], axis=1).values\n",
    "y = df['target'].values"
   ]
  },
  {
   "cell_type": "code",
   "execution_count": null,
   "id": "83cae434-e012-49f6-a50e-d620d6821f9c",
   "metadata": {},
   "outputs": [],
   "source": [
    "scaler = preprocessing.MinMaxScaler(feature_range=(0, 1))\n",
    "X = scaler.fit_transform(X)\n",
    "X"
   ]
  },
  {
   "cell_type": "markdown",
   "id": "8e01b517-c188-44e5-9f06-78884f089cb1",
   "metadata": {},
   "source": [
    "**Definition:** Often denoted as the most popular by its simplicity, the train-test split is a sampling technique dividing the dataset between training and testing sets. In doing so, the goal would be to have enough (but not too much) in our training set used for the machine learning model to predict the observations in the testing set as accurately as possible. Most would opt for a 70/30 training-testing split, respectively, others 80/20, 60/40, or whichever else works best for the case scenario. Further information [here](https://machinelearningmastery.com/train-test-split-for-evaluating-machine-learning-algorithms/). "
   ]
  },
  {
   "cell_type": "code",
   "execution_count": 117,
   "id": "c4facc54-5799-4b50-8aac-113e62ac8a9a",
   "metadata": {},
   "outputs": [],
   "source": [
    "## Training Testing Split\n",
    "X_train, X_valid, y_train, y_valid = train_test_split(X, y, \n",
    "                                                    test_size=0.3, \n",
    "                                                    random_state=42)\n"
   ]
  },
  {
   "cell_type": "markdown",
   "id": "a1474582-5345-4b82-b3ac-a3579927845c",
   "metadata": {},
   "source": [
    "# 5. Dimensionality Reduction\n",
    "\n",
    "This section will use dimensionality reduction to trim down the number of features we have. Dimensionality reduction encapsulates the techniques reducing the input variables in our training data. In doing so, we hope to have a more straightforward but effective machine learning model structure and avoid any potential case of overfitting. We will be testing three different methods from Linear Algebra: **PCA, and SVD** and pick the one capturing the most variability in the datasets after reducing it to principal components."
   ]
  },
  {
   "cell_type": "markdown",
   "id": "ef6b1b63-b212-4375-9178-91150a74a79c",
   "metadata": {},
   "source": [
    "**Definition:** PCA (Principal Component Analysis) takes data with m-columns projected to a subspace with n-features (n < m) while preserving the crucial information from the original data; in other words, PCA attempts to find the **principal components (or features)** as its names denote. Further information [here](https://machinelearningmastery.com/calculate-principal-component-analysis-scratch-python/). "
   ]
  },
  {
   "cell_type": "code",
   "execution_count": 14,
   "id": "fc36aa4a-2937-4623-8f47-62bd914225bd",
   "metadata": {},
   "outputs": [
    {
     "data": {
      "text/plain": [
       "1.0"
      ]
     },
     "execution_count": 14,
     "metadata": {},
     "output_type": "execute_result"
    }
   ],
   "source": [
    "## Principal Component Analysis\n",
    "pca = PCA()\n",
    "pca.fit_transform(X)\n",
    "round(np.sum(pca.explained_variance_ratio_), 2)"
   ]
  },
  {
   "cell_type": "markdown",
   "id": "7718b2eb-e881-42a3-b8b8-392ba9e4fcff",
   "metadata": {
    "tags": []
   },
   "source": [
    "**Definition:** SVD (Singular Value Decomposition) is a process breaking down a matrix into its constituents elements by factorizing it into three separate matrices: **M=UΣVᵗ**. \n",
    "* M: original matrix\n",
    "* U: left singular matrix (columns are left singular vectors) containing eigenvectors of matrix MMᵗ\n",
    "* Σ: a diagonal matrix containing singular (eigen)values\n",
    "* V: right singular matrix (columns are right singular vectors) containing  eigenvectors of matrix MᵗM.\n",
    "\n",
    "Further information [here](https://machinelearningmastery.com/singular-value-decomposition-for-machine-learning/). "
   ]
  },
  {
   "cell_type": "code",
   "execution_count": 15,
   "id": "9f0e1481-24c3-498f-8960-d1878d7264e3",
   "metadata": {},
   "outputs": [
    {
     "data": {
      "text/plain": [
       "0.12"
      ]
     },
     "execution_count": 15,
     "metadata": {},
     "output_type": "execute_result"
    }
   ],
   "source": [
    "## Singular Value Decomposition\n",
    "svd = TruncatedSVD()\n",
    "svd.fit_transform(X)\n",
    "round(np.sum(svd.explained_variance_ratio_), 2)"
   ]
  },
  {
   "cell_type": "markdown",
   "id": "55eecc20-38a6-461d-8346-055e8781fdd4",
   "metadata": {},
   "source": [
    "**Takeaway:** We will proceed by using PCA as it captures the entire variation (100%) in the dataset."
   ]
  },
  {
   "cell_type": "code",
   "execution_count": 16,
   "id": "c1e9c59f-8a25-4117-b859-86611dd04ffc",
   "metadata": {},
   "outputs": [],
   "source": [
    "X_pca = pca.fit_transform(X)\n",
    "\n",
    "## Training Testing Split\n",
    "X_train, X_valid, y_train, y_valid = train_test_split(X_pca, y, \n",
    "                                                    test_size=0.3, \n",
    "                                                    random_state=42)"
   ]
  },
  {
   "cell_type": "markdown",
   "id": "d0f0629f-9a12-45dd-827b-b27a96b988b3",
   "metadata": {
    "tags": []
   },
   "source": [
    "# 6. Machine Learning - Simple Models\n",
    "\n",
    "This section will leverage the powerful sci-kit-learn package to build multiple models with little to no parameter tuning for comparison. We will only use the cross-validation error on our training dataset to avoid any data leakage."
   ]
  },
  {
   "cell_type": "code",
   "execution_count": 77,
   "id": "b47dbc55-204e-48f0-b3e3-ba70b201ff30",
   "metadata": {},
   "outputs": [],
   "source": [
    "# Dictionary to store model structures\n",
    "models = dict()"
   ]
  },
  {
   "cell_type": "markdown",
   "id": "379b943f-0263-4a07-800e-b6f707be2515",
   "metadata": {},
   "source": [
    "**Mutiple Linear Regression (MLR):** Based on the same principles as Simple Linear Regression, Mutiple Linear Regression (MLR) fit a model with many independent variables to predict an output/target value. Further information [here](https://www.analyticsvidhya.com/blog/2021/05/multiple-linear-regression-using-python-and-scikit-learn/)."
   ]
  },
  {
   "cell_type": "code",
   "execution_count": 111,
   "id": "636cc7d9-f71f-4418-8947-a3136196036f",
   "metadata": {},
   "outputs": [],
   "source": [
    "mlr = LinearRegression()\n",
    "models.update({'Mutiple Linear Regression': mlr})"
   ]
  },
  {
   "cell_type": "markdown",
   "id": "fbd40040-e94d-45d5-847b-4ba759009c5f",
   "metadata": {},
   "source": [
    "**Ridge Regression:** It is a form of regularized linear regression (multiple, in our case scenario) performing ‘L2 regularization‘ by adding a factor of sum of squares of coefficients in the optimization objective. Further information [here](https://www.analyticsvidhya.com/blog/2016/01/ridge-lasso-regression-python-complete-tutorial/#three). "
   ]
  },
  {
   "cell_type": "code",
   "execution_count": 112,
   "id": "4514cd02-b20e-4116-a7a8-ab44b9be6b56",
   "metadata": {},
   "outputs": [],
   "source": [
    "lr_ridge = Ridge()\n",
    "models.update({'Ridge Regression': lr_ridge})"
   ]
  },
  {
   "cell_type": "markdown",
   "id": "2135566e-de5b-4b49-b750-b13c443cef85",
   "metadata": {},
   "source": [
    "**Lasso Regression:** LASSO stands for Least Absolute Shrinkage and Selection Operator while performing L1 regularization, i.e. it adds a factor of sum of absolute value of coefficients in the optimization objective. Further information [here](https://www.analyticsvidhya.com/blog/2016/01/ridge-lasso-regression-python-complete-tutorial/#three). "
   ]
  },
  {
   "cell_type": "code",
   "execution_count": 113,
   "id": "34d7c05c-3b1b-4672-90c7-08cd3c80fd9b",
   "metadata": {},
   "outputs": [],
   "source": [
    "lr_lasso = Lasso(tol=0.05)\n",
    "models.update({'Lasso Regression': lr_lasso})"
   ]
  },
  {
   "cell_type": "code",
   "execution_count": 114,
   "id": "62f7da49-b17c-4ed1-b637-325647463dac",
   "metadata": {},
   "outputs": [
    {
     "data": {
      "text/plain": [
       "{'Mutiple Linear Regression': LinearRegression(),\n",
       " 'Ridge Regression': Ridge(),\n",
       " 'Lasso Regression': Lasso(tol=0.05)}"
      ]
     },
     "execution_count": 114,
     "metadata": {},
     "output_type": "execute_result"
    }
   ],
   "source": [
    "# Checking the dictionary of models\n",
    "models"
   ]
  },
  {
   "cell_type": "markdown",
   "id": "42a866fc-dbef-4875-87a6-2532cf989af9",
   "metadata": {},
   "source": [
    "**Definition:** As the name would suggest, we will engage here in the process of validation to ensure reliability on our model. Cross-Validation is a statistical method applied in various ways to estimate the model's performance. Some examples are **Holdout Method, K-Fold, Stratified K-Fold, Leave-P-Out.**  Further information [here](https://machinelearningmastery.com/k-fold-cross-validation/) and [here](https://towardsdatascience.com/cross-validation-in-machine-learning-72924a69872f)."
   ]
  },
  {
   "cell_type": "code",
   "execution_count": 115,
   "id": "dac1f710-9d02-4506-bed7-8ffc591494d0",
   "metadata": {},
   "outputs": [
    {
     "name": "stdout",
     "output_type": "stream",
     "text": [
      "Mutiple Linear Regression - RMSLE: 0.06147 (0.02174)\n"
     ]
    },
    {
     "name": "stderr",
     "output_type": "stream",
     "text": [
      "C:\\Users\\Akoua Orsot\\Anaconda3\\lib\\site-packages\\sklearn\\linear_model\\_ridge.py:197: UserWarning: Singular matrix in solving dual problem. Using least-squares solution instead.\n",
      "  \"Singular matrix in solving dual problem. Using \"\n",
      "C:\\Users\\Akoua Orsot\\Anaconda3\\lib\\site-packages\\sklearn\\linear_model\\_ridge.py:197: UserWarning: Singular matrix in solving dual problem. Using least-squares solution instead.\n",
      "  \"Singular matrix in solving dual problem. Using \"\n",
      "C:\\Users\\Akoua Orsot\\Anaconda3\\lib\\site-packages\\sklearn\\linear_model\\_ridge.py:197: UserWarning: Singular matrix in solving dual problem. Using least-squares solution instead.\n",
      "  \"Singular matrix in solving dual problem. Using \"\n"
     ]
    },
    {
     "name": "stdout",
     "output_type": "stream",
     "text": [
      "Ridge Regression - RMSLE: 0.06144 (0.02176)\n",
      "Lasso Regression - RMSLE: 1.21200 (0.03202)\n"
     ]
    }
   ],
   "source": [
    "kf = KFold(n_splits=3)\n",
    "kf.get_n_splits(X_train)\n",
    "\n",
    "for name, model in models.items():\n",
    "    model_errs = []\n",
    "    for train_index, valid_index in kf.split(X_train):\n",
    "        X_train_k = X_train[train_index] \n",
    "        y_train_k = y_train[train_index]\n",
    "        model.fit(X_train_k, y_train_k)\n",
    "        pred = model.predict(X_train_k)\n",
    "        nonneg_pred = np.clip(pred, df['target'].min(), df['target'].max())\n",
    "        rmsle = skm.mean_squared_log_error(y_train_k, nonneg_pred, squared=False) \n",
    "        model_errs.append(rmsle)\n",
    "        # report performance\n",
    "    print('{} - RMSLE: {:.5f} ({:.5f})' .format(name, np.mean(model_errs), \n",
    "                                               np.std(model_errs)))"
   ]
  },
  {
   "cell_type": "markdown",
   "id": "75caef9b-67f8-48f7-8feb-ba1e3064ab61",
   "metadata": {},
   "source": [
    "**Takeaway:** Our two best models are MLR and Ridge Regressor with the lowest RMSLE on the training set."
   ]
  },
  {
   "cell_type": "markdown",
   "id": "cd882dcb-d754-4a63-b6bb-0793a06f2a43",
   "metadata": {},
   "source": [
    "# 7. Machine Learning - Ensemble Methods\n",
    "\n",
    "This section will extend our work in machine learning to incorporate ensemble methods. We generated simple models and compared the scores, which appear satisfactory, with the lowest at 0.974 for the Average Precision Score. However, we may want more stability and minor variation in our predictive algorithm; it is where ensemble techniques come in. Most often, they act as a 'superposer' of multiple models throughout various ways and thus, bolster their predictive power. Further Information [here](https://machinelearningmastery.com/tour-of-ensemble-learning-algorithms/). "
   ]
  },
  {
   "cell_type": "code",
   "execution_count": 47,
   "id": "e87f4fec-cef4-4f36-990c-81958a922607",
   "metadata": {},
   "outputs": [],
   "source": [
    "# Dictionary to store ensemble model structures\n",
    "ensemble_models = dict()"
   ]
  },
  {
   "cell_type": "markdown",
   "id": "59c2f044-f7a8-42e8-a459-b7d3a0d4d6f6",
   "metadata": {},
   "source": [
    "**Definition:** Random Forest builds onto the logic of decision trees by agglomerating multiple trees and obtaining a given value prediction using averaging all output. Further information [here](https://towardsdatascience.com/understanding-random-forest-58381e0602d2)."
   ]
  },
  {
   "cell_type": "code",
   "execution_count": 48,
   "id": "3fe2dde1-129d-4a51-8f9e-496af90d3f23",
   "metadata": {},
   "outputs": [],
   "source": [
    "## Random Forest\n",
    "rf_reg = RandomForestRegressor(n_estimators=100)\n",
    "ensemble_models.update({'Random Forest Regressor':rf_reg})"
   ]
  },
  {
   "cell_type": "markdown",
   "id": "ff910c07-10ea-4aeb-8640-9acaf770e778",
   "metadata": {},
   "source": [
    "**Definition:** Stochastic Gradient Boosting is part of the more sophisticated ensemble techniques (Boosting), learning from previous models' errors and building a sequential improvement process. Further information [here](https://towardsdatascience.com/understanding-random-forest-58381e0602d2)."
   ]
  },
  {
   "cell_type": "code",
   "execution_count": 49,
   "id": "91a923dd-e4a5-4aee-998e-c16ba29d5509",
   "metadata": {},
   "outputs": [],
   "source": [
    "## Stochastic Gradient Boosting\n",
    "boost_reg = GradientBoostingRegressor(n_estimators=100)\n",
    "ensemble_models.update({'Stochastic Gradient Boosting':boost_reg})"
   ]
  },
  {
   "cell_type": "code",
   "execution_count": 50,
   "id": "0e82f1d5-1c33-4d4c-b070-f0012f0e0235",
   "metadata": {},
   "outputs": [
    {
     "data": {
      "text/plain": [
       "{'Random Forest Regressor': RandomForestRegressor(n_estimators=5),\n",
       " 'Stochastic Gradient Boosting': GradientBoostingRegressor(n_estimators=5)}"
      ]
     },
     "execution_count": 50,
     "metadata": {},
     "output_type": "execute_result"
    }
   ],
   "source": [
    "ensemble_models"
   ]
  },
  {
   "cell_type": "code",
   "execution_count": 51,
   "id": "bd8d4c94-1f22-4d2e-9f88-65d0f01802d5",
   "metadata": {},
   "outputs": [
    {
     "name": "stdout",
     "output_type": "stream",
     "text": [
      "Random Forest Regressor - RMSLE: 1.28408 (0.01809)\n",
      "Stochastic Gradient Boosting - RMSLE: 2.03790 (0.01285)\n"
     ]
    }
   ],
   "source": [
    "# Model Building & performance evaluation\n",
    "kf = KFold(n_splits=3)\n",
    "kf.get_n_splits(X_train)\n",
    "\n",
    "for name, model in ensemble_models.items():\n",
    "    model_errs = []\n",
    "    for train_index, test_index in kf.split(X_train):\n",
    "        X_train_k = X_train[train_index] \n",
    "        y_train_k = y_train[train_index]\n",
    "        model.fit(X_train_k, y_train_k)\n",
    "        pred = model.predict(X_train_k)\n",
    "        nonneg_pred = np.clip(pred, df['target'].min(), df['target'].max())\n",
    "        rmsle = skm.mean_squared_log_error(y_train_k, nonneg_pred, squared=False) \n",
    "        model_errs.append(rmsle)\n",
    "        # report performance\n",
    "    print('{} - RMSLE: {:.5f} ({:.5f})' .format(name, np.mean(model_errs), \n",
    "                                               np.std(model_errs)))"
   ]
  },
  {
   "cell_type": "markdown",
   "id": "fdcc4144-3f7a-48f7-9a01-12c19f8dd67c",
   "metadata": {},
   "source": [
    "**Takeaway:** Based on the numbers obtained, both ensemble methods have been unable to perform better than the multiple linear model. So, moving forward, we will evaluate the performance of our top simple model having in mind Occam's razor principles regarding complexity. Further information [here](https://math.ucr.edu/home/baez/physics/General/occam.html)."
   ]
  },
  {
   "cell_type": "markdown",
   "id": "d63255ff-ad67-43c3-9b60-52137533a14c",
   "metadata": {},
   "source": [
    "**Takeaway:** Moving forward, we will perform hyperparameter tuning and evaluate the performance of the best model, that is the ..."
   ]
  },
  {
   "cell_type": "code",
   "execution_count": 60,
   "id": "ab512efa-1a32-4743-b40c-e93edb99317d",
   "metadata": {},
   "outputs": [],
   "source": [
    "## Random Search\n",
    "\n",
    "# define search space\n",
    "tree_space = {\n",
    "    'criterion': ['gini', 'entropy'],\n",
    "    'splitter': ['best', 'random']\n",
    "            }"
   ]
  },
  {
   "cell_type": "markdown",
   "id": "9d08da87-76b6-4c0a-a4a8-dcbb53f53d71",
   "metadata": {},
   "source": [
    "**Definition:** Grid Search will define its earch space as a grid and evaluate every position inside the grid. Further information [here](https://machinelearningmastery.com/hyperparameter-optimization-with-random-search-and-grid-search/). "
   ]
  },
  {
   "cell_type": "code",
   "execution_count": null,
   "id": "6ff56ddb-7c3e-47d9-b8f4-a46326e6055b",
   "metadata": {},
   "outputs": [],
   "source": [
    "\n",
    "# rmsle = skm.make_scorer(skm.mean_squared_log_error, squared=False)\n",
    "\n",
    "# search = RandomizedSearchCV(estimator=DecisionTreeRegressor(), \n",
    "#                             param_distributions=tree_space, \n",
    "#                             cv=2, n_iter=2, scoring=rmsle)\n",
    "# search.fit(X_train, y_train)\n",
    "# print('Decision Tree Regressor - RMSLE: {:.5f}' .format(name, search.best_score_))\n",
    "# print('with best parameters: {}.\\n' .format(search.best_params_))"
   ]
  },
  {
   "cell_type": "markdown",
   "id": "6ab88936-c55b-4709-b003-7c4de4f72cc2",
   "metadata": {},
   "source": [
    "**Definition:** Random Search will define its earch space as a limted domain and randomly selecting sample points to test and do so recursively. Further information [here](https://machinelearningmastery.com/hyperparameter-optimization-with-random-search-and-grid-search/). "
   ]
  },
  {
   "cell_type": "code",
   "execution_count": null,
   "id": "d52e30c5-755f-4b70-9309-73ffd4f2cdcb",
   "metadata": {},
   "outputs": [],
   "source": [
    "# for name, specs in top_models.items():\n",
    "#     model, space = specs[0], specs[1]\n",
    "#     search = RandomizedSearchCV(estimator=model, param_distributions=space, \n",
    "#                                 cv=2, n_iter=2, scoring=make_scorer(skm.mean_squared_log_error, \n",
    "#                                                                     squared=False))\n",
    "#     search.fit(X_train, y_train)\n",
    "#     print('{} - RMSLE: {:.5f}' .format(name, search.best_score_))\n",
    "#     print('with best parameters: {}.\\n' .format(search.best_params_))"
   ]
  },
  {
   "cell_type": "markdown",
   "id": "f1765a08-ca61-4791-af2f-ba1f010c7286",
   "metadata": {},
   "source": [
    "**Takeaway:** Though both models produce quite similar AUPRC, we will opt for the Decision Tree Classifier having the highest value during the hyperparameter tuning."
   ]
  },
  {
   "cell_type": "markdown",
   "id": "46685023-1a99-4be3-af56-42eafce421e1",
   "metadata": {},
   "source": [
    "# 8. Model Performance Evaluation\n",
    "\n",
    "This section will build on everything we've done throughout this notebook and evaluate the best model using RMSLE."
   ]
  },
  {
   "cell_type": "markdown",
   "id": "6bbe00b8-9d30-4f1d-9047-2abf0ca77b4f",
   "metadata": {},
   "source": [
    "**Definition:** RMSLE (Root Mean Squared Logarithmic Error)... Further information"
   ]
  },
  {
   "cell_type": "code",
   "execution_count": 119,
   "id": "f55b054d-e385-4028-a2eb-56445c02af44",
   "metadata": {},
   "outputs": [
    {
     "name": "stdout",
     "output_type": "stream",
     "text": [
      "MLR - RMSLE: 0.00000 (0.00000)\n"
     ]
    }
   ],
   "source": [
    "# Defining our orignal model\n",
    "final_model = LinearRegression()\n",
    "\n",
    "# Increse number of split\n",
    "kf = KFold(n_splits=5)\n",
    "kf.get_n_splits(X_valid)\n",
    "\n",
    "# Running on unseen data\n",
    "model_errs = []\n",
    "for train_index, valid_index in kf.split(X_valid):\n",
    "    X_valid_k = X_valid[valid_index] \n",
    "    y_valid_k = y_valid[valid_index]\n",
    "    final_model.fit(X_valid_k, y_valid_k)\n",
    "    pred = final_model.predict(X_valid_k)\n",
    "    nonneg_pred = np.clip(pred, df['target'].min(), df['target'].max())\n",
    "    rmsle = skm.mean_squared_log_error(y_valid_k, nonneg_pred, squared=False) \n",
    "    model_errs.append(rmsle)\n",
    "    # report performance\n",
    "print('MLR - RMSLE: {:.5f} ({:.5f})' .format(np.mean(model_errs), \n",
    "                                             np.std(model_errs)))"
   ]
  },
  {
   "cell_type": "markdown",
   "id": "70d97a89-4915-4757-9f29-46699520bb40",
   "metadata": {},
   "source": [
    "# 9. Final Submission"
   ]
  },
  {
   "cell_type": "code",
   "execution_count": 72,
   "id": "9d167711-ec82-4acd-ba43-066721ae5054",
   "metadata": {},
   "outputs": [],
   "source": [
    "## Loading the dataset\n",
    "test_df = pd.read_csv(r\"C:\\Users\\Akoua Orsot\\Desktop\\ds_projects_data\\santander_transaction_value\\test.csv\")\n",
    "ids = test_df['ID']\n",
    "test_df.drop(['ID'], axis=1, inplace=True)"
   ]
  },
  {
   "cell_type": "code",
   "execution_count": 120,
   "id": "c448dbe8-8308-4f84-b795-c98cc46b9b9a",
   "metadata": {},
   "outputs": [],
   "source": [
    "# Defining our orignal model\n",
    "final_model = LinearRegression()\n",
    "final_model.fit(X, y)\n",
    "pred = final_model.predict(test_df)\n",
    "nonneg_pred = np.clip(pred, df['target'].min(), df['target'].max())\n",
    "sub = pd.DataFrame({'ID': ids, 'target': pred_nonneg})\n",
    "sub.to_csv('final_submision.csv', index=False)"
   ]
  },
  {
   "cell_type": "code",
   "execution_count": null,
   "id": "e64def3a-a90f-4e9e-9094-dce09f807e65",
   "metadata": {},
   "outputs": [],
   "source": []
  }
 ],
 "metadata": {
  "kernelspec": {
   "display_name": "Python 3 (ipykernel)",
   "language": "python",
   "name": "python3"
  },
  "language_info": {
   "codemirror_mode": {
    "name": "ipython",
    "version": 3
   },
   "file_extension": ".py",
   "mimetype": "text/x-python",
   "name": "python",
   "nbconvert_exporter": "python",
   "pygments_lexer": "ipython3",
   "version": "3.7.11"
  }
 },
 "nbformat": 4,
 "nbformat_minor": 5
}
